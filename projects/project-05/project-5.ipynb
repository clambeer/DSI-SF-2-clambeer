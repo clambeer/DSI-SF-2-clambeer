{
 "cells": [
  {
   "cell_type": "markdown",
   "metadata": {},
   "source": [
    "<img src=\"http://imgur.com/1ZcRyrc.png\" style=\"float: left; margin: 15px; height: 80px\">\n",
    "\n",
    "# Project 4\n",
    "\n",
    "## Help Yelp\n",
    "\n",
    "---\n",
    "\n",
    "In this project you will be investigating a small version of the [Yelp challenge dataset](https://www.yelp.com/dataset_challenge). You'll practice using classification algorithms, cross-validation, gridsearching – all that good stuff.\n",
    "\n"
   ]
  },
  {
   "cell_type": "markdown",
   "metadata": {},
   "source": [
    "---\n",
    "\n",
    "### The data\n",
    "\n",
    "There are 5 individual .csv files that have the information, zipped into .7z format like with the SF data last project. The dataset is located in your datasets folder:\n",
    "\n",
    "    DSI-SF-2/datasets/yelp_arizona_data.7z\n",
    "\n",
    "The columns in each are:\n",
    "\n",
    "    businesses_small_parsed.csv\n",
    "        business_id: unique business identifier\n",
    "        name: name of the business\n",
    "        review_count: number of reviews per business\n",
    "        city: city business resides in\n",
    "        stars: average rating\n",
    "        categories: categories the business falls into (can be one or multiple)\n",
    "        latitude\n",
    "        longitude\n",
    "        neighborhoods: neighborhoods business belongs to\n",
    "        variable: \"property\" of the business (a tag)\n",
    "        value: True/False for the property\n",
    "        \n",
    "    reviews_small_nlp_parsed.csv\n",
    "        user_id: unique user identifier\n",
    "        review_id: unique review identifier\n",
    "        votes.cool: how many thought the review was \"cool\"\n",
    "        business_id: unique business id the review is for\n",
    "        votes.funny: how many thought the review was funny\n",
    "        stars: rating given\n",
    "        date: date of review\n",
    "        votes.useful: how many thought the review was useful\n",
    "        ... 100 columns of counts of most common 2 word phrases that appear in reviews in this review\n",
    "        \n",
    "    users_small_parsed.csv\n",
    "        yelping_since: signup date\n",
    "        compliments.plain: # of compliments \"plain\"\n",
    "        review_count: # of reviews:\n",
    "        compliments.cute: total # of compliments \"cute\"\n",
    "        compliments.writer: # of compliments \"writer\"\n",
    "        compliments.note: # of compliments \"note\" (not sure what this is)\n",
    "        compliments.hot: # of compliments \"hot\" (?)\n",
    "        compliments.cool: # of compliments \"cool\"\n",
    "        compliments.profile: # of compliments \"profile\"\n",
    "        average_stars: average rating\n",
    "        compliments.more: # of compliments \"more\"\n",
    "        elite: years considered \"elite\"\n",
    "        name: user's name\n",
    "        user_id: unique user id\n",
    "        votes.cool: # of votes \"cool\"\n",
    "        compliments.list: # of compliments \"list\"\n",
    "        votes.funny: # of compliments \"funny\"\n",
    "        compliments.photos: # of compliments \"photos\"\n",
    "        compliments.funny: # of compliments \"funny\"\n",
    "        votes.useful: # of votes \"useful\"\n",
    "       \n",
    "    checkins_small_parsed.csv\n",
    "        business_id: unique business identifier\n",
    "        variable: day-time identifier of checkins (0-0 is Sunday 0:00 - 1:00am,  for example)\n",
    "        value: # of checkins at that time\n",
    "    \n",
    "    tips_small_nlp_parsed.csv\n",
    "        user_id: unique user identifier\n",
    "        business_id: unique business identifier\n",
    "        likes: likes that the tip has\n",
    "        date: date of tip\n",
    "        ... 100 columns of counts of most common 2 word phrases that appear in tips in this tip\n",
    "\n",
    "The reviews and tips datasets in particular have parsed \"NLP\" columns with counts of 2-word phrases in that review or tip (a \"tip\", it seems, is some kind of smaller review).\n",
    "\n",
    "The user dataset has a lot of columns of counts of different compliments and votes. I'm not sure whether the compliments or votes are _by_ the user or _for_ the user.\n",
    "\n",
    "---\n",
    "\n",
    "If you look at the website, or the full data, you'll see I have removed pieces of the data and cut it down quite a bit. This is to simplify it for this project. Specifically, business are limited to be in these cities:\n",
    "\n",
    "    Phoenix\n",
    "    Surprise\n",
    "    Las Vegas\n",
    "    Waterloo\n",
    "\n",
    "Apparently there is a city called \"Surprise\" in Arizona. \n",
    "\n",
    "Businesses are also restricted to at least be in one of the following categories, because I thought the mix of them was funny:\n",
    "\n",
    "    Airports\n",
    "    Breakfast & Brunch\n",
    "    Bubble Tea\n",
    "    Burgers\n",
    "    Bars\n",
    "    Bakeries\n",
    "    Breweries\n",
    "    Cafes\n",
    "    Candy Stores\n",
    "    Comedy Clubs\n",
    "    Courthouses\n",
    "    Dance Clubs\n",
    "    Fast Food\n",
    "    Museums\n",
    "    Tattoo\n",
    "    Vape Shops\n",
    "    Yoga\n",
    "    \n",
    "---\n",
    "\n",
    "### Project requirements\n",
    "\n",
    "**You will be performing 4 different sections of analysis, like in the last project.**\n",
    "\n",
    "Remember that classification targets are categorical and regression targets are continuous variables."
   ]
  },
  {
   "cell_type": "markdown",
   "metadata": {},
   "source": [
    "<img src=\"http://imgur.com/l5NasQj.png\" style=\"float: left; margin: 25px 15px 0px 0px; height: 25px\">\n",
    "\n",
    "## 1. Constructing a \"profile\" for Las Vegas\n",
    "\n",
    "---\n",
    "\n",
    "Yelp is interested in building out what they are calling \"profiles\" for cities. They want you to start with just Las Vegas to see what a prototype of this would look like. Essentially, they want to know what makes Las Vegas distinct from the other four.\n",
    "\n",
    "Use the data you have to predict Las Vegas from the other variables you have. You should not be predicting the city from any kind of location data or other data perfectly associated with that city (or another city).\n",
    "\n",
    "You may use any classification algorithm you deem appropriate, or even multiple models. You should:\n",
    "\n",
    "1. Build at least one model predicting Las Vegas vs. the other cities.\n",
    "- Validate your model(s).\n",
    "- Interpret and visualize, in some way, the results.\n",
    "- Write up a \"profile\" for Las Vegas. This should be a writeup converting your findings from the model(s) into a human-readable description of the city."
   ]
  },
  {
   "cell_type": "code",
   "execution_count": 237,
   "metadata": {
    "collapsed": true
   },
   "outputs": [],
   "source": [
    "import numpy as np\n",
    "import pandas as pd\n",
    "import seaborn as sns\n",
    "from scipy import stats\n",
    "import patsy\n",
    "\n",
    "\n",
    "import matplotlib\n",
    "from matplotlib import pyplot as plt\n",
    "\n",
    "from sklearn.cross_validation import StratifiedKFold\n",
    "from sklearn.neighbors import KNeighborsClassifier\n",
    "from sklearn.grid_search import GridSearchCV\n",
    "from sklearn.linear_model import LogisticRegression, LogisticRegressionCV\n",
    "from sklearn.preprocessing import StandardScaler\n",
    "\n",
    "% matplotlib inline\n",
    "%config InlineBackend.figure_format = 'retina'"
   ]
  },
  {
   "cell_type": "code",
   "execution_count": 238,
   "metadata": {
    "collapsed": false
   },
   "outputs": [],
   "source": [
    "fileprefix = '/Users/Cecilia/Desktop/DSI-SF-2-clambeer/datasets/yelp_arizona_data/yelp_arizona_data/'\n",
    "\n",
    "biz = pd.read_csv(fileprefix+'businesses_small_parsed.csv')\n",
    "checkins = pd.read_csv(fileprefix+'checkins_small_parsed.csv')\n",
    "reviews = pd.read_csv(fileprefix+'reviews_small_nlp_parsed.csv')\n",
    "tips = pd.read_csv(fileprefix+'tips_small_nlp_parsed.csv')\n",
    "users = pd.read_csv(fileprefix+'users_small_parsed.csv')\n"
   ]
  },
  {
   "cell_type": "code",
   "execution_count": 239,
   "metadata": {
    "collapsed": false
   },
   "outputs": [
    {
     "data": {
      "text/plain": [
       "jf67Z1pnwElRSXllpQHiJg    168\n",
       "Xsp9Dy4PQgAssCVk2-f73w    168\n",
       "SsTxjxo8qvqBMvan1rzNzg    168\n",
       "tqu42L0qXzkvYKSruOz0IA    168\n",
       "hW0Ne_HTHEAgGF1rAdmR-g    168\n",
       "HyfFenprdpIA4rmKu6DW3g    168\n",
       "Pt5AYjhzoU93biVeVahLKw    167\n",
       "QbmcCE_cLq4WO8ZMKImaLw    167\n",
       "adv1-kA6k2N4L-e4zULuNg    166\n",
       "bGj9djLAHjNR55OXsIDrAg    166\n",
       "Name: business_id, dtype: int64"
      ]
     },
     "execution_count": 239,
     "metadata": {},
     "output_type": "execute_result"
    }
   ],
   "source": [
    "checkins['business_id'].value_counts()[0:10]\n"
   ]
  },
  {
   "cell_type": "code",
   "execution_count": 240,
   "metadata": {
    "collapsed": false,
    "scrolled": false
   },
   "outputs": [
    {
     "data": {
      "text/html": [
       "<div>\n",
       "<table border=\"1\" class=\"dataframe\">\n",
       "  <thead>\n",
       "    <tr style=\"text-align: right;\">\n",
       "      <th></th>\n",
       "      <th>user_id</th>\n",
       "      <th>review_id</th>\n",
       "      <th>votes.cool</th>\n",
       "      <th>business_id</th>\n",
       "      <th>votes.funny</th>\n",
       "      <th>stars</th>\n",
       "      <th>date</th>\n",
       "      <th>votes.useful</th>\n",
       "      <th>10 minutes</th>\n",
       "      <th>15 minutes</th>\n",
       "      <th>...</th>\n",
       "      <th>service great</th>\n",
       "      <th>staff friendly</th>\n",
       "      <th>super friendly</th>\n",
       "      <th>sweet potato</th>\n",
       "      <th>tasted like</th>\n",
       "      <th>time vegas</th>\n",
       "      <th>try place</th>\n",
       "      <th>ve seen</th>\n",
       "      <th>ve tried</th>\n",
       "      <th>wait staff</th>\n",
       "    </tr>\n",
       "  </thead>\n",
       "  <tbody>\n",
       "    <tr>\n",
       "      <th>0</th>\n",
       "      <td>o_LCYay4uo5N4eq3U5pbrQ</td>\n",
       "      <td>biEOCicjWlibF26pNLvhcw</td>\n",
       "      <td>0</td>\n",
       "      <td>EmzaQR5hQlF0WIl24NxAZA</td>\n",
       "      <td>0</td>\n",
       "      <td>3</td>\n",
       "      <td>2007-09-14</td>\n",
       "      <td>1</td>\n",
       "      <td>0</td>\n",
       "      <td>0</td>\n",
       "      <td>...</td>\n",
       "      <td>0</td>\n",
       "      <td>0</td>\n",
       "      <td>0</td>\n",
       "      <td>0</td>\n",
       "      <td>0</td>\n",
       "      <td>0</td>\n",
       "      <td>0</td>\n",
       "      <td>0</td>\n",
       "      <td>0</td>\n",
       "      <td>0</td>\n",
       "    </tr>\n",
       "    <tr>\n",
       "      <th>1</th>\n",
       "      <td>sEWeeq41k4ohBz4jS_iGRw</td>\n",
       "      <td>tOhOHUAS7XJch7a_HW5Csw</td>\n",
       "      <td>3</td>\n",
       "      <td>EmzaQR5hQlF0WIl24NxAZA</td>\n",
       "      <td>12</td>\n",
       "      <td>2</td>\n",
       "      <td>2008-04-21</td>\n",
       "      <td>3</td>\n",
       "      <td>0</td>\n",
       "      <td>0</td>\n",
       "      <td>...</td>\n",
       "      <td>0</td>\n",
       "      <td>0</td>\n",
       "      <td>0</td>\n",
       "      <td>0</td>\n",
       "      <td>0</td>\n",
       "      <td>0</td>\n",
       "      <td>0</td>\n",
       "      <td>0</td>\n",
       "      <td>0</td>\n",
       "      <td>0</td>\n",
       "    </tr>\n",
       "    <tr>\n",
       "      <th>2</th>\n",
       "      <td>1AqEqmmVHgYCuzcMrF4h2g</td>\n",
       "      <td>2aGafu-x7onydGoDgDfeQQ</td>\n",
       "      <td>0</td>\n",
       "      <td>EmzaQR5hQlF0WIl24NxAZA</td>\n",
       "      <td>2</td>\n",
       "      <td>2</td>\n",
       "      <td>2009-11-16</td>\n",
       "      <td>0</td>\n",
       "      <td>0</td>\n",
       "      <td>0</td>\n",
       "      <td>...</td>\n",
       "      <td>0</td>\n",
       "      <td>0</td>\n",
       "      <td>0</td>\n",
       "      <td>0</td>\n",
       "      <td>0</td>\n",
       "      <td>0</td>\n",
       "      <td>0</td>\n",
       "      <td>0</td>\n",
       "      <td>0</td>\n",
       "      <td>0</td>\n",
       "    </tr>\n",
       "    <tr>\n",
       "      <th>3</th>\n",
       "      <td>pv82zTlB5Txsu2Pusu__FA</td>\n",
       "      <td>CY4SWiYcUZTWS_T_cGaGPA</td>\n",
       "      <td>4</td>\n",
       "      <td>EmzaQR5hQlF0WIl24NxAZA</td>\n",
       "      <td>9</td>\n",
       "      <td>2</td>\n",
       "      <td>2010-08-16</td>\n",
       "      <td>6</td>\n",
       "      <td>0</td>\n",
       "      <td>0</td>\n",
       "      <td>...</td>\n",
       "      <td>0</td>\n",
       "      <td>0</td>\n",
       "      <td>0</td>\n",
       "      <td>0</td>\n",
       "      <td>0</td>\n",
       "      <td>0</td>\n",
       "      <td>0</td>\n",
       "      <td>0</td>\n",
       "      <td>0</td>\n",
       "      <td>0</td>\n",
       "    </tr>\n",
       "    <tr>\n",
       "      <th>4</th>\n",
       "      <td>jlr3OBS1_Y3Lqa-H3-FR1g</td>\n",
       "      <td>VCKytaG-_YkxmQosH4E0jw</td>\n",
       "      <td>0</td>\n",
       "      <td>EmzaQR5hQlF0WIl24NxAZA</td>\n",
       "      <td>1</td>\n",
       "      <td>4</td>\n",
       "      <td>2010-12-04</td>\n",
       "      <td>0</td>\n",
       "      <td>0</td>\n",
       "      <td>0</td>\n",
       "      <td>...</td>\n",
       "      <td>0</td>\n",
       "      <td>0</td>\n",
       "      <td>0</td>\n",
       "      <td>0</td>\n",
       "      <td>0</td>\n",
       "      <td>0</td>\n",
       "      <td>0</td>\n",
       "      <td>0</td>\n",
       "      <td>0</td>\n",
       "      <td>0</td>\n",
       "    </tr>\n",
       "  </tbody>\n",
       "</table>\n",
       "<p>5 rows × 108 columns</p>\n",
       "</div>"
      ],
      "text/plain": [
       "                  user_id               review_id  votes.cool  \\\n",
       "0  o_LCYay4uo5N4eq3U5pbrQ  biEOCicjWlibF26pNLvhcw           0   \n",
       "1  sEWeeq41k4ohBz4jS_iGRw  tOhOHUAS7XJch7a_HW5Csw           3   \n",
       "2  1AqEqmmVHgYCuzcMrF4h2g  2aGafu-x7onydGoDgDfeQQ           0   \n",
       "3  pv82zTlB5Txsu2Pusu__FA  CY4SWiYcUZTWS_T_cGaGPA           4   \n",
       "4  jlr3OBS1_Y3Lqa-H3-FR1g  VCKytaG-_YkxmQosH4E0jw           0   \n",
       "\n",
       "              business_id  votes.funny  stars        date  votes.useful  \\\n",
       "0  EmzaQR5hQlF0WIl24NxAZA            0      3  2007-09-14             1   \n",
       "1  EmzaQR5hQlF0WIl24NxAZA           12      2  2008-04-21             3   \n",
       "2  EmzaQR5hQlF0WIl24NxAZA            2      2  2009-11-16             0   \n",
       "3  EmzaQR5hQlF0WIl24NxAZA            9      2  2010-08-16             6   \n",
       "4  EmzaQR5hQlF0WIl24NxAZA            1      4  2010-12-04             0   \n",
       "\n",
       "   10 minutes  15 minutes     ...      service great  staff friendly  \\\n",
       "0           0           0     ...                  0               0   \n",
       "1           0           0     ...                  0               0   \n",
       "2           0           0     ...                  0               0   \n",
       "3           0           0     ...                  0               0   \n",
       "4           0           0     ...                  0               0   \n",
       "\n",
       "   super friendly  sweet potato  tasted like  time vegas  try place  ve seen  \\\n",
       "0               0             0            0           0          0        0   \n",
       "1               0             0            0           0          0        0   \n",
       "2               0             0            0           0          0        0   \n",
       "3               0             0            0           0          0        0   \n",
       "4               0             0            0           0          0        0   \n",
       "\n",
       "   ve tried  wait staff  \n",
       "0         0           0  \n",
       "1         0           0  \n",
       "2         0           0  \n",
       "3         0           0  \n",
       "4         0           0  \n",
       "\n",
       "[5 rows x 108 columns]"
      ]
     },
     "execution_count": 240,
     "metadata": {},
     "output_type": "execute_result"
    }
   ],
   "source": [
    "reviews.head()"
   ]
  },
  {
   "cell_type": "code",
   "execution_count": 241,
   "metadata": {
    "collapsed": false
   },
   "outputs": [
    {
     "data": {
      "text/plain": [
       "jf67Z1pnwElRSXllpQHiJg    2832\n",
       "hW0Ne_HTHEAgGF1rAdmR-g    1963\n",
       "4bEjOyTaDG24SY5TxsaUNQ     745\n",
       "PXviRcHR1mqdH4vRc2LEAQ     724\n",
       "Ht8mXLuqJSTPrU9kvzosUA     670\n",
       "xfwRO04KbAPw_zRotCfWQQ     538\n",
       "QbmcCE_cLq4WO8ZMKImaLw     537\n",
       "aGbjLWzcrnEx2ZmMCFm3EA     527\n",
       "tqu42L0qXzkvYKSruOz0IA     493\n",
       "Es300Ys1XXPYg8aI7BKVYQ     491\n",
       "Name: business_id, dtype: int64"
      ]
     },
     "execution_count": 241,
     "metadata": {},
     "output_type": "execute_result"
    }
   ],
   "source": [
    "tips['business_id'].value_counts()[0:10]"
   ]
  },
  {
   "cell_type": "code",
   "execution_count": 242,
   "metadata": {
    "collapsed": false
   },
   "outputs": [
    {
     "data": {
      "text/html": [
       "<div>\n",
       "<table border=\"1\" class=\"dataframe\">\n",
       "  <thead>\n",
       "    <tr style=\"text-align: right;\">\n",
       "      <th></th>\n",
       "      <th>yelping_since</th>\n",
       "      <th>compliments.plain</th>\n",
       "      <th>review_count</th>\n",
       "      <th>compliments.cute</th>\n",
       "      <th>compliments.writer</th>\n",
       "      <th>fans</th>\n",
       "      <th>compliments.note</th>\n",
       "      <th>compliments.hot</th>\n",
       "      <th>compliments.cool</th>\n",
       "      <th>compliments.profile</th>\n",
       "      <th>...</th>\n",
       "      <th>compliments.more</th>\n",
       "      <th>elite</th>\n",
       "      <th>name</th>\n",
       "      <th>user_id</th>\n",
       "      <th>votes.cool</th>\n",
       "      <th>compliments.list</th>\n",
       "      <th>votes.funny</th>\n",
       "      <th>compliments.photos</th>\n",
       "      <th>compliments.funny</th>\n",
       "      <th>votes.useful</th>\n",
       "    </tr>\n",
       "  </thead>\n",
       "  <tbody>\n",
       "    <tr>\n",
       "      <th>0</th>\n",
       "      <td>2004-10</td>\n",
       "      <td>959.0</td>\n",
       "      <td>1274</td>\n",
       "      <td>206.0</td>\n",
       "      <td>327.0</td>\n",
       "      <td>1179</td>\n",
       "      <td>611.0</td>\n",
       "      <td>1094.0</td>\n",
       "      <td>1642.0</td>\n",
       "      <td>116.0</td>\n",
       "      <td>...</td>\n",
       "      <td>134.0</td>\n",
       "      <td>[2005, 2006, 2007, 2008, 2009, 2010, 2011, 201...</td>\n",
       "      <td>Jeremy</td>\n",
       "      <td>rpOyqD_893cqmDAtJLbdog</td>\n",
       "      <td>11093</td>\n",
       "      <td>38.0</td>\n",
       "      <td>7681</td>\n",
       "      <td>330.0</td>\n",
       "      <td>580.0</td>\n",
       "      <td>14199</td>\n",
       "    </tr>\n",
       "    <tr>\n",
       "      <th>1</th>\n",
       "      <td>2004-10</td>\n",
       "      <td>89.0</td>\n",
       "      <td>442</td>\n",
       "      <td>23.0</td>\n",
       "      <td>24.0</td>\n",
       "      <td>100</td>\n",
       "      <td>83.0</td>\n",
       "      <td>101.0</td>\n",
       "      <td>145.0</td>\n",
       "      <td>9.0</td>\n",
       "      <td>...</td>\n",
       "      <td>19.0</td>\n",
       "      <td>[2005, 2006, 2007, 2008, 2009, 2010, 2011, 201...</td>\n",
       "      <td>Michael</td>\n",
       "      <td>4U9kSBLuBDU391x6bxU-YA</td>\n",
       "      <td>732</td>\n",
       "      <td>4.0</td>\n",
       "      <td>908</td>\n",
       "      <td>24.0</td>\n",
       "      <td>120.0</td>\n",
       "      <td>1483</td>\n",
       "    </tr>\n",
       "    <tr>\n",
       "      <th>2</th>\n",
       "      <td>2004-10</td>\n",
       "      <td>2.0</td>\n",
       "      <td>66</td>\n",
       "      <td>2.0</td>\n",
       "      <td>2.0</td>\n",
       "      <td>4</td>\n",
       "      <td>1.0</td>\n",
       "      <td>1.0</td>\n",
       "      <td>1.0</td>\n",
       "      <td>NaN</td>\n",
       "      <td>...</td>\n",
       "      <td>1.0</td>\n",
       "      <td>[2005]</td>\n",
       "      <td>Katherine</td>\n",
       "      <td>SIBCL7HBkrP4llolm4SC2A</td>\n",
       "      <td>13</td>\n",
       "      <td>NaN</td>\n",
       "      <td>11</td>\n",
       "      <td>NaN</td>\n",
       "      <td>NaN</td>\n",
       "      <td>34</td>\n",
       "    </tr>\n",
       "    <tr>\n",
       "      <th>3</th>\n",
       "      <td>2004-10</td>\n",
       "      <td>5.0</td>\n",
       "      <td>101</td>\n",
       "      <td>1.0</td>\n",
       "      <td>3.0</td>\n",
       "      <td>7</td>\n",
       "      <td>3.0</td>\n",
       "      <td>5.0</td>\n",
       "      <td>4.0</td>\n",
       "      <td>1.0</td>\n",
       "      <td>...</td>\n",
       "      <td>2.0</td>\n",
       "      <td>[]</td>\n",
       "      <td>Nader</td>\n",
       "      <td>UTS9XcT14H2ZscRIf0MYHQ</td>\n",
       "      <td>49</td>\n",
       "      <td>NaN</td>\n",
       "      <td>53</td>\n",
       "      <td>1.0</td>\n",
       "      <td>8.0</td>\n",
       "      <td>243</td>\n",
       "    </tr>\n",
       "    <tr>\n",
       "      <th>4</th>\n",
       "      <td>2004-10</td>\n",
       "      <td>104.0</td>\n",
       "      <td>983</td>\n",
       "      <td>82.0</td>\n",
       "      <td>17.0</td>\n",
       "      <td>78</td>\n",
       "      <td>85.0</td>\n",
       "      <td>265.0</td>\n",
       "      <td>212.0</td>\n",
       "      <td>9.0</td>\n",
       "      <td>...</td>\n",
       "      <td>16.0</td>\n",
       "      <td>[2005, 2006, 2007, 2008, 2010, 2011, 2012]</td>\n",
       "      <td>Helen</td>\n",
       "      <td>ZWOj6LmzwGvMDh-A85EOtA</td>\n",
       "      <td>1928</td>\n",
       "      <td>3.0</td>\n",
       "      <td>1109</td>\n",
       "      <td>57.0</td>\n",
       "      <td>70.0</td>\n",
       "      <td>2404</td>\n",
       "    </tr>\n",
       "  </tbody>\n",
       "</table>\n",
       "<p>5 rows × 21 columns</p>\n",
       "</div>"
      ],
      "text/plain": [
       "  yelping_since  compliments.plain  review_count  compliments.cute  \\\n",
       "0       2004-10              959.0          1274             206.0   \n",
       "1       2004-10               89.0           442              23.0   \n",
       "2       2004-10                2.0            66               2.0   \n",
       "3       2004-10                5.0           101               1.0   \n",
       "4       2004-10              104.0           983              82.0   \n",
       "\n",
       "   compliments.writer  fans  compliments.note  compliments.hot  \\\n",
       "0               327.0  1179             611.0           1094.0   \n",
       "1                24.0   100              83.0            101.0   \n",
       "2                 2.0     4               1.0              1.0   \n",
       "3                 3.0     7               3.0              5.0   \n",
       "4                17.0    78              85.0            265.0   \n",
       "\n",
       "   compliments.cool  compliments.profile      ...       compliments.more  \\\n",
       "0            1642.0                116.0      ...                  134.0   \n",
       "1             145.0                  9.0      ...                   19.0   \n",
       "2               1.0                  NaN      ...                    1.0   \n",
       "3               4.0                  1.0      ...                    2.0   \n",
       "4             212.0                  9.0      ...                   16.0   \n",
       "\n",
       "                                               elite       name  \\\n",
       "0  [2005, 2006, 2007, 2008, 2009, 2010, 2011, 201...     Jeremy   \n",
       "1  [2005, 2006, 2007, 2008, 2009, 2010, 2011, 201...    Michael   \n",
       "2                                             [2005]  Katherine   \n",
       "3                                                 []      Nader   \n",
       "4         [2005, 2006, 2007, 2008, 2010, 2011, 2012]      Helen   \n",
       "\n",
       "                  user_id votes.cool  compliments.list  votes.funny  \\\n",
       "0  rpOyqD_893cqmDAtJLbdog      11093              38.0         7681   \n",
       "1  4U9kSBLuBDU391x6bxU-YA        732               4.0          908   \n",
       "2  SIBCL7HBkrP4llolm4SC2A         13               NaN           11   \n",
       "3  UTS9XcT14H2ZscRIf0MYHQ         49               NaN           53   \n",
       "4  ZWOj6LmzwGvMDh-A85EOtA       1928               3.0         1109   \n",
       "\n",
       "   compliments.photos  compliments.funny  votes.useful  \n",
       "0               330.0              580.0         14199  \n",
       "1                24.0              120.0          1483  \n",
       "2                 NaN                NaN            34  \n",
       "3                 1.0                8.0           243  \n",
       "4                57.0               70.0          2404  \n",
       "\n",
       "[5 rows x 21 columns]"
      ]
     },
     "execution_count": 242,
     "metadata": {},
     "output_type": "execute_result"
    }
   ],
   "source": [
    "users.head()"
   ]
  },
  {
   "cell_type": "code",
   "execution_count": null,
   "metadata": {
    "collapsed": true
   },
   "outputs": [],
   "source": [
    "# The target variable is 1=Las Vegas, 0=anything else.\n",
    "\n",
    "# I am going to include the data in the business CSV as well as\n",
    "# data from the review CSV. Specifically, for each business, 1) the \n",
    "# number of votes for cool reviews (over all users that reviewed that business),\n",
    "# 2) number of votes for funny reviews, and 3) number of votes for a \n",
    "# useful review.\n",
    "\n",
    "# hypothesis (OK a half-baked one, considering I'm just trying\n",
    "# to including some data to make it a little more complex) is that \n",
    "# this represents all the following: \n",
    "# 1) kind and quality of businesses that are common and well-liked \n",
    "# in Las Vegas, \n",
    "# 2) shows the amount of involvement in the (yelp) community one can \n",
    "# expect from the people of Las Vegas, \n",
    "# 3) shows the temperament of hte people in Las Vegas (they think \n",
    "# things are cool? funny? they like supporting their fellow Yelpers?)\n",
    "\n",
    "# Plan:\n",
    "# 1) Assume data cleaning is mostly unnecessary\n",
    "# 2) Turn the attributes and values into columns (Long to wide) and \n",
    "#    make the values 1 and 0 instead of True and False. This should\n",
    "#    eliminate duplicates in the business id and names\n",
    "# 3) turn categories into dummy variables\n",
    "# 4) Summarize the reviews data so that we get the following for EACH\n",
    "#    business instead of per review. do this for all cities.\n",
    "#    SUM votes.cool: how many thought the review was \"cool\"\n",
    "#    (groupby) business_id: unique business id the review is for\n",
    "#    SUM votes.funny: how many thought the review was funny\n",
    "#    SUM votes.useful: how many thought the review was useful\n",
    "# 5) join the business and reviews groupby. These are the fields I'll\n",
    "#    use from business:\n",
    "#    business_id: unique business identifier\n",
    "#    (take out) name: name of the business\n",
    "#    review_count: number of reviews per business\n",
    "#    city: city business resides in\n",
    "#    stars: average rating\n",
    "#    categories: categories the business falls into (can be one or multiple)\n",
    "#                as dummy variables\n",
    "#    (take out) latitude\n",
    "#    (take out) longitude\n",
    "#    neighborhoods: neighborhoods business belongs to\n",
    "#     variable: \"property\" of the business (a tag)\n",
    "#     value: True/False for the property\n"
   ]
  },
  {
   "cell_type": "markdown",
   "metadata": {},
   "source": [
    "---------------------------\n",
    "#### biz: long to wide"
   ]
  },
  {
   "cell_type": "code",
   "execution_count": 243,
   "metadata": {
    "collapsed": false
   },
   "outputs": [],
   "source": [
    "# 2) Turn the attributes and values into columns (Long to wide) and \n",
    "#    make the values 1 and 0 instead of True and False. This should\n",
    "#    eliminate duplicates in the business id and names\n",
    "def select_item_or_nan(x):\n",
    "    x = x.iloc[0]\n",
    "    if len(x) == 0:\n",
    "        return np.nan\n",
    "    else:\n",
    "        return x\n",
    "    \n",
    "biz2 = pd.pivot_table(biz, index=['business_id', 'review_count', 'city', 'stars', 'categories'],\n",
    "               columns='variable', values='value', aggfunc=select_item_or_nan)\n",
    "\n"
   ]
  },
  {
   "cell_type": "code",
   "execution_count": 244,
   "metadata": {
    "collapsed": false
   },
   "outputs": [],
   "source": [
    "biz2.reset_index(inplace=True)"
   ]
  },
  {
   "cell_type": "code",
   "execution_count": 245,
   "metadata": {
    "collapsed": false
   },
   "outputs": [
    {
     "data": {
      "text/html": [
       "<div>\n",
       "<table border=\"1\" class=\"dataframe\">\n",
       "  <thead>\n",
       "    <tr style=\"text-align: right;\">\n",
       "      <th>variable</th>\n",
       "      <th>business_id</th>\n",
       "      <th>review_count</th>\n",
       "      <th>city</th>\n",
       "      <th>stars</th>\n",
       "      <th>categories</th>\n",
       "      <th>attributes.Accepts Credit Cards</th>\n",
       "      <th>attributes.Accepts Insurance</th>\n",
       "      <th>attributes.Ages Allowed</th>\n",
       "      <th>attributes.Alcohol</th>\n",
       "      <th>attributes.Ambience.casual</th>\n",
       "      <th>...</th>\n",
       "      <th>hours.Saturday.open</th>\n",
       "      <th>hours.Sunday.close</th>\n",
       "      <th>hours.Sunday.open</th>\n",
       "      <th>hours.Thursday.close</th>\n",
       "      <th>hours.Thursday.open</th>\n",
       "      <th>hours.Tuesday.close</th>\n",
       "      <th>hours.Tuesday.open</th>\n",
       "      <th>hours.Wednesday.close</th>\n",
       "      <th>hours.Wednesday.open</th>\n",
       "      <th>open</th>\n",
       "    </tr>\n",
       "  </thead>\n",
       "  <tbody>\n",
       "    <tr>\n",
       "      <th>0</th>\n",
       "      <td>--jFTZmywe7StuZ2hEjxyA</td>\n",
       "      <td>7</td>\n",
       "      <td>Las Vegas</td>\n",
       "      <td>3.5</td>\n",
       "      <td>['Fast Food', 'Sandwiches', 'Restaurants']</td>\n",
       "      <td>True</td>\n",
       "      <td>None</td>\n",
       "      <td>None</td>\n",
       "      <td>none</td>\n",
       "      <td>None</td>\n",
       "      <td>...</td>\n",
       "      <td>None</td>\n",
       "      <td>None</td>\n",
       "      <td>None</td>\n",
       "      <td>None</td>\n",
       "      <td>None</td>\n",
       "      <td>None</td>\n",
       "      <td>None</td>\n",
       "      <td>None</td>\n",
       "      <td>None</td>\n",
       "      <td>True</td>\n",
       "    </tr>\n",
       "    <tr>\n",
       "      <th>1</th>\n",
       "      <td>-0HGqwlfw3I8nkJyMHxAsQ</td>\n",
       "      <td>9</td>\n",
       "      <td>Phoenix</td>\n",
       "      <td>3.0</td>\n",
       "      <td>['Burgers', 'Fast Food', 'Restaurants']</td>\n",
       "      <td>True</td>\n",
       "      <td>None</td>\n",
       "      <td>None</td>\n",
       "      <td>none</td>\n",
       "      <td>None</td>\n",
       "      <td>...</td>\n",
       "      <td>None</td>\n",
       "      <td>None</td>\n",
       "      <td>None</td>\n",
       "      <td>None</td>\n",
       "      <td>None</td>\n",
       "      <td>None</td>\n",
       "      <td>None</td>\n",
       "      <td>None</td>\n",
       "      <td>None</td>\n",
       "      <td>True</td>\n",
       "    </tr>\n",
       "    <tr>\n",
       "      <th>2</th>\n",
       "      <td>-0VK5Z1BfUHUYq4PoBYNLw</td>\n",
       "      <td>5</td>\n",
       "      <td>Las Vegas</td>\n",
       "      <td>3.5</td>\n",
       "      <td>['Bars', 'Nightlife', 'Lounges']</td>\n",
       "      <td>True</td>\n",
       "      <td>None</td>\n",
       "      <td>None</td>\n",
       "      <td>full_bar</td>\n",
       "      <td>True</td>\n",
       "      <td>...</td>\n",
       "      <td>None</td>\n",
       "      <td>None</td>\n",
       "      <td>None</td>\n",
       "      <td>None</td>\n",
       "      <td>None</td>\n",
       "      <td>None</td>\n",
       "      <td>None</td>\n",
       "      <td>None</td>\n",
       "      <td>None</td>\n",
       "      <td>True</td>\n",
       "    </tr>\n",
       "    <tr>\n",
       "      <th>3</th>\n",
       "      <td>-0bUDim5OGuv8R0Qqq6J4A</td>\n",
       "      <td>8</td>\n",
       "      <td>Phoenix</td>\n",
       "      <td>2.0</td>\n",
       "      <td>['Bakeries', 'Food', 'Breakfast &amp; Brunch', 'Re...</td>\n",
       "      <td>True</td>\n",
       "      <td>None</td>\n",
       "      <td>None</td>\n",
       "      <td>None</td>\n",
       "      <td>None</td>\n",
       "      <td>...</td>\n",
       "      <td>None</td>\n",
       "      <td>None</td>\n",
       "      <td>None</td>\n",
       "      <td>None</td>\n",
       "      <td>None</td>\n",
       "      <td>None</td>\n",
       "      <td>None</td>\n",
       "      <td>None</td>\n",
       "      <td>None</td>\n",
       "      <td>False</td>\n",
       "    </tr>\n",
       "    <tr>\n",
       "      <th>4</th>\n",
       "      <td>-1bOb2izeJBZjHC7NWxiPA</td>\n",
       "      <td>120</td>\n",
       "      <td>Phoenix</td>\n",
       "      <td>4.0</td>\n",
       "      <td>['Breakfast &amp; Brunch', 'Cafes', 'American (Tra...</td>\n",
       "      <td>True</td>\n",
       "      <td>None</td>\n",
       "      <td>None</td>\n",
       "      <td>none</td>\n",
       "      <td>True</td>\n",
       "      <td>...</td>\n",
       "      <td>06:30</td>\n",
       "      <td>14:30</td>\n",
       "      <td>06:30</td>\n",
       "      <td>14:30</td>\n",
       "      <td>06:30</td>\n",
       "      <td>14:30</td>\n",
       "      <td>06:30</td>\n",
       "      <td>14:30</td>\n",
       "      <td>06:30</td>\n",
       "      <td>True</td>\n",
       "    </tr>\n",
       "  </tbody>\n",
       "</table>\n",
       "<p>5 rows × 83 columns</p>\n",
       "</div>"
      ],
      "text/plain": [
       "variable             business_id  review_count       city  stars  \\\n",
       "0         --jFTZmywe7StuZ2hEjxyA             7  Las Vegas    3.5   \n",
       "1         -0HGqwlfw3I8nkJyMHxAsQ             9    Phoenix    3.0   \n",
       "2         -0VK5Z1BfUHUYq4PoBYNLw             5  Las Vegas    3.5   \n",
       "3         -0bUDim5OGuv8R0Qqq6J4A             8    Phoenix    2.0   \n",
       "4         -1bOb2izeJBZjHC7NWxiPA           120    Phoenix    4.0   \n",
       "\n",
       "variable                                         categories  \\\n",
       "0                ['Fast Food', 'Sandwiches', 'Restaurants']   \n",
       "1                   ['Burgers', 'Fast Food', 'Restaurants']   \n",
       "2                          ['Bars', 'Nightlife', 'Lounges']   \n",
       "3         ['Bakeries', 'Food', 'Breakfast & Brunch', 'Re...   \n",
       "4         ['Breakfast & Brunch', 'Cafes', 'American (Tra...   \n",
       "\n",
       "variable attributes.Accepts Credit Cards attributes.Accepts Insurance  \\\n",
       "0                                   True                         None   \n",
       "1                                   True                         None   \n",
       "2                                   True                         None   \n",
       "3                                   True                         None   \n",
       "4                                   True                         None   \n",
       "\n",
       "variable attributes.Ages Allowed attributes.Alcohol  \\\n",
       "0                           None               none   \n",
       "1                           None               none   \n",
       "2                           None           full_bar   \n",
       "3                           None               None   \n",
       "4                           None               none   \n",
       "\n",
       "variable attributes.Ambience.casual  ...   hours.Saturday.open  \\\n",
       "0                              None  ...                  None   \n",
       "1                              None  ...                  None   \n",
       "2                              True  ...                  None   \n",
       "3                              None  ...                  None   \n",
       "4                              True  ...                 06:30   \n",
       "\n",
       "variable hours.Sunday.close hours.Sunday.open hours.Thursday.close  \\\n",
       "0                      None              None                 None   \n",
       "1                      None              None                 None   \n",
       "2                      None              None                 None   \n",
       "3                      None              None                 None   \n",
       "4                     14:30             06:30                14:30   \n",
       "\n",
       "variable hours.Thursday.open hours.Tuesday.close hours.Tuesday.open  \\\n",
       "0                       None                None               None   \n",
       "1                       None                None               None   \n",
       "2                       None                None               None   \n",
       "3                       None                None               None   \n",
       "4                      06:30               14:30              06:30   \n",
       "\n",
       "variable hours.Wednesday.close hours.Wednesday.open   open  \n",
       "0                         None                 None   True  \n",
       "1                         None                 None   True  \n",
       "2                         None                 None   True  \n",
       "3                         None                 None  False  \n",
       "4                        14:30                06:30   True  \n",
       "\n",
       "[5 rows x 83 columns]"
      ]
     },
     "execution_count": 245,
     "metadata": {},
     "output_type": "execute_result"
    }
   ],
   "source": [
    "biz2.head()"
   ]
  },
  {
   "cell_type": "code",
   "execution_count": 246,
   "metadata": {
    "collapsed": false
   },
   "outputs": [
    {
     "data": {
      "text/html": [
       "<div>\n",
       "<table border=\"1\" class=\"dataframe\">\n",
       "  <thead>\n",
       "    <tr style=\"text-align: right;\">\n",
       "      <th>variable</th>\n",
       "      <th>review_count</th>\n",
       "      <th>stars</th>\n",
       "    </tr>\n",
       "  </thead>\n",
       "  <tbody>\n",
       "    <tr>\n",
       "      <th>count</th>\n",
       "      <td>4132.000000</td>\n",
       "      <td>4132.000000</td>\n",
       "    </tr>\n",
       "    <tr>\n",
       "      <th>mean</th>\n",
       "      <td>85.879961</td>\n",
       "      <td>3.484874</td>\n",
       "    </tr>\n",
       "    <tr>\n",
       "      <th>std</th>\n",
       "      <td>225.812625</td>\n",
       "      <td>0.837326</td>\n",
       "    </tr>\n",
       "    <tr>\n",
       "      <th>min</th>\n",
       "      <td>3.000000</td>\n",
       "      <td>1.000000</td>\n",
       "    </tr>\n",
       "    <tr>\n",
       "      <th>25%</th>\n",
       "      <td>8.000000</td>\n",
       "      <td>3.000000</td>\n",
       "    </tr>\n",
       "    <tr>\n",
       "      <th>50%</th>\n",
       "      <td>21.000000</td>\n",
       "      <td>3.500000</td>\n",
       "    </tr>\n",
       "    <tr>\n",
       "      <th>75%</th>\n",
       "      <td>69.000000</td>\n",
       "      <td>4.000000</td>\n",
       "    </tr>\n",
       "    <tr>\n",
       "      <th>max</th>\n",
       "      <td>5642.000000</td>\n",
       "      <td>5.000000</td>\n",
       "    </tr>\n",
       "  </tbody>\n",
       "</table>\n",
       "</div>"
      ],
      "text/plain": [
       "variable  review_count        stars\n",
       "count      4132.000000  4132.000000\n",
       "mean         85.879961     3.484874\n",
       "std         225.812625     0.837326\n",
       "min           3.000000     1.000000\n",
       "25%           8.000000     3.000000\n",
       "50%          21.000000     3.500000\n",
       "75%          69.000000     4.000000\n",
       "max        5642.000000     5.000000"
      ]
     },
     "execution_count": 246,
     "metadata": {},
     "output_type": "execute_result"
    }
   ],
   "source": [
    "biz2.describe()"
   ]
  },
  {
   "cell_type": "markdown",
   "metadata": {},
   "source": [
    "------------------\n",
    "#### biz: categories into dummy variables"
   ]
  },
  {
   "cell_type": "code",
   "execution_count": null,
   "metadata": {
    "collapsed": false
   },
   "outputs": [],
   "source": [
    "# 3) turn categories into dummy variables\n",
    "\n",
    "# take all of the possible categories and put into distinct list\n",
    "# first FOR each row, unpack the list of categories. \n",
    "# FOR each item in the list:\n",
    "# if it is the first time it's showing up, create a NEW column for\n",
    "# that category (ie. \"Category: Burgers\") and put a \"1\" into that cell\n",
    "# if it's not the first time showing up, then insert a \"1\" into that space.\n",
    "\n",
    "# Actually not sure if I need to create a new column at all, or whether \n",
    "# i can just say df['new_column'].iloc[blah] = X and that creates it at\n",
    "# the same time. I can give it a try. EDIT: Yep, I have to create\n",
    "# a column first\n",
    "\n",
    "######################################################\n",
    "# I only did this for 1000 of the rows and it took forever! Check \n",
    "# with Kiefer that this is the fastest I can make it. \n",
    "\n",
    "######################################################\n",
    "# Kiefer wrote new code that is much faster than mine. I'm leaving this here\n",
    "# so I know what I wrote, but I'm going to use Kiefer's biz3 instead.\n",
    "######################################################\n",
    "'''\n",
    "len_biz2 = len(biz2)\n",
    "\n",
    "# first FOR each row \n",
    "for row_index, cell in enumerate(biz2['categories']):\n",
    "    \n",
    "    # unpack the list of categories. the string is messy! \n",
    "    cell = biz2.ix[row_index,'categories'].strip(\"[]\").replace(\"'\",\"\").split(', ')\n",
    "    # print cell # troubleshooting\n",
    "    # FOR each item in the list:\n",
    "    for category in cell:\n",
    "        \n",
    "        try:\n",
    "            # create a '1' in the column for that category \n",
    "            # (ie. \"Category: Burgers\")\n",
    "            column_name = 'Category: ' + category\n",
    "            biz2[column_name].iloc[row_index] = 1\n",
    "        \n",
    "        except:\n",
    "            # if it didn't work, it's because the column didn't exist yet.\n",
    "            # create a new one, then put a 1 there.\n",
    "            column_name = 'Category: ' + category\n",
    "            biz2[column_name] = np.zeros(len_biz2)\n",
    "            biz2[column_name].iloc[row_index] = 1\n",
    "'''"
   ]
  },
  {
   "cell_type": "code",
   "execution_count": 247,
   "metadata": {
    "collapsed": true
   },
   "outputs": [],
   "source": [
    "# Here is the start of Kiefer's code\n",
    "biz3 = biz2.copy()"
   ]
  },
  {
   "cell_type": "code",
   "execution_count": 248,
   "metadata": {
    "collapsed": true
   },
   "outputs": [],
   "source": [
    "# Kiefer's code. eval(x) looks at a string and says \"What is the true nature of\n",
    "# the thing inside the string? Let me pull it out and let it be who it wants\n",
    "# to be.\"\n",
    "def list_evaluator(x):\n",
    "    try:\n",
    "        return eval(x)\n",
    "    except:\n",
    "        return []\n",
    "\n",
    "# creates a column, each cell is a list of the categories\n",
    "biz3['category_lists'] = biz3.categories.map(list_evaluator)"
   ]
  },
  {
   "cell_type": "code",
   "execution_count": 249,
   "metadata": {
    "collapsed": false
   },
   "outputs": [],
   "source": [
    "# kiefer's code\n",
    "# find unique categories iterating over the lists\n",
    "# extend adds one list to another, so unique_categories first becomes a 'uuuge\n",
    "# list with a lot of duplicates. but then you use np.unique and tolist()\n",
    "# to make it a list, and to make the items in it unique\n",
    "unique_categories = []\n",
    "for clist in biz3.category_lists.values:\n",
    "    unique_categories.extend(clist)\n",
    "unique_categories = np.unique(unique_categories).tolist()\n",
    "\n",
    "# for each unique category, create the unique category column\n",
    "# and assign it 1s 0s defined as a map over the category list column\n",
    "# that checks whether each element (list) contains that unique\n",
    "# category\n",
    "for uc in unique_categories:\n",
    "    biz3[uc] = biz3.category_lists.map(lambda x: 1 if uc in x else 0)\n",
    "    \n"
   ]
  },
  {
   "cell_type": "code",
   "execution_count": 250,
   "metadata": {
    "collapsed": true
   },
   "outputs": [],
   "source": [
    "# drop the table that kiefer made\n",
    "biz3.drop('category_lists', axis=1, inplace=True)"
   ]
  },
  {
   "cell_type": "code",
   "execution_count": 251,
   "metadata": {
    "collapsed": false
   },
   "outputs": [
    {
     "data": {
      "text/html": [
       "<div>\n",
       "<table border=\"1\" class=\"dataframe\">\n",
       "  <thead>\n",
       "    <tr style=\"text-align: right;\">\n",
       "      <th>variable</th>\n",
       "      <th>business_id</th>\n",
       "      <th>review_count</th>\n",
       "      <th>city</th>\n",
       "      <th>stars</th>\n",
       "      <th>attributes.Accepts Credit Cards</th>\n",
       "      <th>attributes.Accepts Insurance</th>\n",
       "      <th>attributes.Ages Allowed</th>\n",
       "      <th>attributes.Alcohol</th>\n",
       "      <th>attributes.Ambience.casual</th>\n",
       "      <th>attributes.Ambience.classy</th>\n",
       "      <th>...</th>\n",
       "      <th>Used, Vintage &amp; Consignment</th>\n",
       "      <th>Vape Shops</th>\n",
       "      <th>Vegan</th>\n",
       "      <th>Vegetarian</th>\n",
       "      <th>Venues &amp; Event Spaces</th>\n",
       "      <th>Weight Loss Centers</th>\n",
       "      <th>Wholesale Stores</th>\n",
       "      <th>Wine Bars</th>\n",
       "      <th>Women's Clothing</th>\n",
       "      <th>Yoga</th>\n",
       "    </tr>\n",
       "  </thead>\n",
       "  <tbody>\n",
       "    <tr>\n",
       "      <th>0</th>\n",
       "      <td>--jFTZmywe7StuZ2hEjxyA</td>\n",
       "      <td>7</td>\n",
       "      <td>Las Vegas</td>\n",
       "      <td>3.5</td>\n",
       "      <td>True</td>\n",
       "      <td>None</td>\n",
       "      <td>None</td>\n",
       "      <td>none</td>\n",
       "      <td>None</td>\n",
       "      <td>None</td>\n",
       "      <td>...</td>\n",
       "      <td>0</td>\n",
       "      <td>0</td>\n",
       "      <td>0</td>\n",
       "      <td>0</td>\n",
       "      <td>0</td>\n",
       "      <td>0</td>\n",
       "      <td>0</td>\n",
       "      <td>0</td>\n",
       "      <td>0</td>\n",
       "      <td>0</td>\n",
       "    </tr>\n",
       "    <tr>\n",
       "      <th>1</th>\n",
       "      <td>-0HGqwlfw3I8nkJyMHxAsQ</td>\n",
       "      <td>9</td>\n",
       "      <td>Phoenix</td>\n",
       "      <td>3.0</td>\n",
       "      <td>True</td>\n",
       "      <td>None</td>\n",
       "      <td>None</td>\n",
       "      <td>none</td>\n",
       "      <td>None</td>\n",
       "      <td>None</td>\n",
       "      <td>...</td>\n",
       "      <td>0</td>\n",
       "      <td>0</td>\n",
       "      <td>0</td>\n",
       "      <td>0</td>\n",
       "      <td>0</td>\n",
       "      <td>0</td>\n",
       "      <td>0</td>\n",
       "      <td>0</td>\n",
       "      <td>0</td>\n",
       "      <td>0</td>\n",
       "    </tr>\n",
       "    <tr>\n",
       "      <th>2</th>\n",
       "      <td>-0VK5Z1BfUHUYq4PoBYNLw</td>\n",
       "      <td>5</td>\n",
       "      <td>Las Vegas</td>\n",
       "      <td>3.5</td>\n",
       "      <td>True</td>\n",
       "      <td>None</td>\n",
       "      <td>None</td>\n",
       "      <td>full_bar</td>\n",
       "      <td>True</td>\n",
       "      <td>False</td>\n",
       "      <td>...</td>\n",
       "      <td>0</td>\n",
       "      <td>0</td>\n",
       "      <td>0</td>\n",
       "      <td>0</td>\n",
       "      <td>0</td>\n",
       "      <td>0</td>\n",
       "      <td>0</td>\n",
       "      <td>0</td>\n",
       "      <td>0</td>\n",
       "      <td>0</td>\n",
       "    </tr>\n",
       "    <tr>\n",
       "      <th>3</th>\n",
       "      <td>-0bUDim5OGuv8R0Qqq6J4A</td>\n",
       "      <td>8</td>\n",
       "      <td>Phoenix</td>\n",
       "      <td>2.0</td>\n",
       "      <td>True</td>\n",
       "      <td>None</td>\n",
       "      <td>None</td>\n",
       "      <td>None</td>\n",
       "      <td>None</td>\n",
       "      <td>None</td>\n",
       "      <td>...</td>\n",
       "      <td>0</td>\n",
       "      <td>0</td>\n",
       "      <td>0</td>\n",
       "      <td>0</td>\n",
       "      <td>0</td>\n",
       "      <td>0</td>\n",
       "      <td>0</td>\n",
       "      <td>0</td>\n",
       "      <td>0</td>\n",
       "      <td>0</td>\n",
       "    </tr>\n",
       "    <tr>\n",
       "      <th>4</th>\n",
       "      <td>-1bOb2izeJBZjHC7NWxiPA</td>\n",
       "      <td>120</td>\n",
       "      <td>Phoenix</td>\n",
       "      <td>4.0</td>\n",
       "      <td>True</td>\n",
       "      <td>None</td>\n",
       "      <td>None</td>\n",
       "      <td>none</td>\n",
       "      <td>True</td>\n",
       "      <td>False</td>\n",
       "      <td>...</td>\n",
       "      <td>0</td>\n",
       "      <td>0</td>\n",
       "      <td>0</td>\n",
       "      <td>0</td>\n",
       "      <td>0</td>\n",
       "      <td>0</td>\n",
       "      <td>0</td>\n",
       "      <td>0</td>\n",
       "      <td>0</td>\n",
       "      <td>0</td>\n",
       "    </tr>\n",
       "  </tbody>\n",
       "</table>\n",
       "<p>5 rows × 292 columns</p>\n",
       "</div>"
      ],
      "text/plain": [
       "variable             business_id  review_count       city  stars  \\\n",
       "0         --jFTZmywe7StuZ2hEjxyA             7  Las Vegas    3.5   \n",
       "1         -0HGqwlfw3I8nkJyMHxAsQ             9    Phoenix    3.0   \n",
       "2         -0VK5Z1BfUHUYq4PoBYNLw             5  Las Vegas    3.5   \n",
       "3         -0bUDim5OGuv8R0Qqq6J4A             8    Phoenix    2.0   \n",
       "4         -1bOb2izeJBZjHC7NWxiPA           120    Phoenix    4.0   \n",
       "\n",
       "variable attributes.Accepts Credit Cards attributes.Accepts Insurance  \\\n",
       "0                                   True                         None   \n",
       "1                                   True                         None   \n",
       "2                                   True                         None   \n",
       "3                                   True                         None   \n",
       "4                                   True                         None   \n",
       "\n",
       "variable attributes.Ages Allowed attributes.Alcohol  \\\n",
       "0                           None               none   \n",
       "1                           None               none   \n",
       "2                           None           full_bar   \n",
       "3                           None               None   \n",
       "4                           None               none   \n",
       "\n",
       "variable attributes.Ambience.casual attributes.Ambience.classy ...   \\\n",
       "0                              None                       None ...    \n",
       "1                              None                       None ...    \n",
       "2                              True                      False ...    \n",
       "3                              None                       None ...    \n",
       "4                              True                      False ...    \n",
       "\n",
       "variable Used, Vintage & Consignment Vape Shops Vegan Vegetarian  \\\n",
       "0                                  0          0     0          0   \n",
       "1                                  0          0     0          0   \n",
       "2                                  0          0     0          0   \n",
       "3                                  0          0     0          0   \n",
       "4                                  0          0     0          0   \n",
       "\n",
       "variable Venues & Event Spaces Weight Loss Centers Wholesale Stores Wine Bars  \\\n",
       "0                            0                   0                0         0   \n",
       "1                            0                   0                0         0   \n",
       "2                            0                   0                0         0   \n",
       "3                            0                   0                0         0   \n",
       "4                            0                   0                0         0   \n",
       "\n",
       "variable Women's Clothing Yoga  \n",
       "0                       0    0  \n",
       "1                       0    0  \n",
       "2                       0    0  \n",
       "3                       0    0  \n",
       "4                       0    0  \n",
       "\n",
       "[5 rows x 292 columns]"
      ]
     },
     "execution_count": 251,
     "metadata": {},
     "output_type": "execute_result"
    }
   ],
   "source": [
    "# my code now, and switching to biz3.\n",
    "biz3.drop('categories', axis=1, inplace=True)\n",
    "biz3.head()"
   ]
  },
  {
   "cell_type": "markdown",
   "metadata": {},
   "source": [
    "#### change column names to remove unwanted characters"
   ]
  },
  {
   "cell_type": "code",
   "execution_count": 252,
   "metadata": {
    "collapsed": false,
    "scrolled": true
   },
   "outputs": [
    {
     "data": {
      "text/plain": [
       "Index([u'business_id', u'review_count', u'city', u'stars',\n",
       "       u'attributes.Accepts Credit Cards', u'attributes.Accepts Insurance',\n",
       "       u'attributes.Ages Allowed', u'attributes.Alcohol',\n",
       "       u'attributes.Ambience.casual', u'attributes.Ambience.classy',\n",
       "       ...\n",
       "       u'Used, Vintage & Consignment', u'Vape Shops', u'Vegan', u'Vegetarian',\n",
       "       u'Venues & Event Spaces', u'Weight Loss Centers', u'Wholesale Stores',\n",
       "       u'Wine Bars', u'Women's Clothing', u'Yoga'],\n",
       "      dtype='object', name=u'variable', length=292)"
      ]
     },
     "execution_count": 252,
     "metadata": {},
     "output_type": "execute_result"
    }
   ],
   "source": [
    "biz3.columns"
   ]
  },
  {
   "cell_type": "code",
   "execution_count": 253,
   "metadata": {
    "collapsed": false
   },
   "outputs": [],
   "source": [
    "# change column names to get rid of spaces. make them all lower case \n",
    "# while i'm at it\n",
    "\n",
    "new_cols = [\n",
    "    col.lower().replace(\" \",\"_\").replace('\"',\"\").replace(\":\",\"\").replace('.','_').\\\n",
    "       replace('/','_').replace('(','').replace(')','').replace('&','n').replace('-','').\\\n",
    "       replace(\"'\",'').replace(',','')\n",
    "    \n",
    "    for col in biz3.columns\n",
    "]\n",
    "\n",
    "biz3.columns = new_cols"
   ]
  },
  {
   "cell_type": "code",
   "execution_count": 254,
   "metadata": {
    "collapsed": false
   },
   "outputs": [
    {
     "data": {
      "text/html": [
       "<div>\n",
       "<table border=\"1\" class=\"dataframe\">\n",
       "  <thead>\n",
       "    <tr style=\"text-align: right;\">\n",
       "      <th></th>\n",
       "      <th>business_id</th>\n",
       "      <th>review_count</th>\n",
       "      <th>city</th>\n",
       "      <th>stars</th>\n",
       "      <th>attributes_accepts_credit_cards</th>\n",
       "      <th>attributes_accepts_insurance</th>\n",
       "      <th>attributes_ages_allowed</th>\n",
       "      <th>attributes_alcohol</th>\n",
       "      <th>attributes_ambience_casual</th>\n",
       "      <th>attributes_ambience_classy</th>\n",
       "      <th>...</th>\n",
       "      <th>used_vintage_n_consignment</th>\n",
       "      <th>vape_shops</th>\n",
       "      <th>vegan</th>\n",
       "      <th>vegetarian</th>\n",
       "      <th>venues_n_event_spaces</th>\n",
       "      <th>weight_loss_centers</th>\n",
       "      <th>wholesale_stores</th>\n",
       "      <th>wine_bars</th>\n",
       "      <th>womens_clothing</th>\n",
       "      <th>yoga</th>\n",
       "    </tr>\n",
       "  </thead>\n",
       "  <tbody>\n",
       "    <tr>\n",
       "      <th>0</th>\n",
       "      <td>--jFTZmywe7StuZ2hEjxyA</td>\n",
       "      <td>7</td>\n",
       "      <td>Las Vegas</td>\n",
       "      <td>3.5</td>\n",
       "      <td>1</td>\n",
       "      <td>0</td>\n",
       "      <td>0</td>\n",
       "      <td>0</td>\n",
       "      <td>0</td>\n",
       "      <td>0</td>\n",
       "      <td>...</td>\n",
       "      <td>0</td>\n",
       "      <td>0</td>\n",
       "      <td>0</td>\n",
       "      <td>0</td>\n",
       "      <td>0</td>\n",
       "      <td>0</td>\n",
       "      <td>0</td>\n",
       "      <td>0</td>\n",
       "      <td>0</td>\n",
       "      <td>0</td>\n",
       "    </tr>\n",
       "    <tr>\n",
       "      <th>1</th>\n",
       "      <td>-0HGqwlfw3I8nkJyMHxAsQ</td>\n",
       "      <td>9</td>\n",
       "      <td>Phoenix</td>\n",
       "      <td>3.0</td>\n",
       "      <td>1</td>\n",
       "      <td>0</td>\n",
       "      <td>0</td>\n",
       "      <td>0</td>\n",
       "      <td>0</td>\n",
       "      <td>0</td>\n",
       "      <td>...</td>\n",
       "      <td>0</td>\n",
       "      <td>0</td>\n",
       "      <td>0</td>\n",
       "      <td>0</td>\n",
       "      <td>0</td>\n",
       "      <td>0</td>\n",
       "      <td>0</td>\n",
       "      <td>0</td>\n",
       "      <td>0</td>\n",
       "      <td>0</td>\n",
       "    </tr>\n",
       "    <tr>\n",
       "      <th>2</th>\n",
       "      <td>-0VK5Z1BfUHUYq4PoBYNLw</td>\n",
       "      <td>5</td>\n",
       "      <td>Las Vegas</td>\n",
       "      <td>3.5</td>\n",
       "      <td>1</td>\n",
       "      <td>0</td>\n",
       "      <td>0</td>\n",
       "      <td>full_bar</td>\n",
       "      <td>1</td>\n",
       "      <td>0</td>\n",
       "      <td>...</td>\n",
       "      <td>0</td>\n",
       "      <td>0</td>\n",
       "      <td>0</td>\n",
       "      <td>0</td>\n",
       "      <td>0</td>\n",
       "      <td>0</td>\n",
       "      <td>0</td>\n",
       "      <td>0</td>\n",
       "      <td>0</td>\n",
       "      <td>0</td>\n",
       "    </tr>\n",
       "    <tr>\n",
       "      <th>3</th>\n",
       "      <td>-0bUDim5OGuv8R0Qqq6J4A</td>\n",
       "      <td>8</td>\n",
       "      <td>Phoenix</td>\n",
       "      <td>2.0</td>\n",
       "      <td>1</td>\n",
       "      <td>0</td>\n",
       "      <td>0</td>\n",
       "      <td>0</td>\n",
       "      <td>0</td>\n",
       "      <td>0</td>\n",
       "      <td>...</td>\n",
       "      <td>0</td>\n",
       "      <td>0</td>\n",
       "      <td>0</td>\n",
       "      <td>0</td>\n",
       "      <td>0</td>\n",
       "      <td>0</td>\n",
       "      <td>0</td>\n",
       "      <td>0</td>\n",
       "      <td>0</td>\n",
       "      <td>0</td>\n",
       "    </tr>\n",
       "    <tr>\n",
       "      <th>4</th>\n",
       "      <td>-1bOb2izeJBZjHC7NWxiPA</td>\n",
       "      <td>120</td>\n",
       "      <td>Phoenix</td>\n",
       "      <td>4.0</td>\n",
       "      <td>1</td>\n",
       "      <td>0</td>\n",
       "      <td>0</td>\n",
       "      <td>0</td>\n",
       "      <td>1</td>\n",
       "      <td>0</td>\n",
       "      <td>...</td>\n",
       "      <td>0</td>\n",
       "      <td>0</td>\n",
       "      <td>0</td>\n",
       "      <td>0</td>\n",
       "      <td>0</td>\n",
       "      <td>0</td>\n",
       "      <td>0</td>\n",
       "      <td>0</td>\n",
       "      <td>0</td>\n",
       "      <td>0</td>\n",
       "    </tr>\n",
       "  </tbody>\n",
       "</table>\n",
       "<p>5 rows × 292 columns</p>\n",
       "</div>"
      ],
      "text/plain": [
       "              business_id  review_count       city  stars  \\\n",
       "0  --jFTZmywe7StuZ2hEjxyA             7  Las Vegas    3.5   \n",
       "1  -0HGqwlfw3I8nkJyMHxAsQ             9    Phoenix    3.0   \n",
       "2  -0VK5Z1BfUHUYq4PoBYNLw             5  Las Vegas    3.5   \n",
       "3  -0bUDim5OGuv8R0Qqq6J4A             8    Phoenix    2.0   \n",
       "4  -1bOb2izeJBZjHC7NWxiPA           120    Phoenix    4.0   \n",
       "\n",
       "   attributes_accepts_credit_cards  attributes_accepts_insurance  \\\n",
       "0                                1                             0   \n",
       "1                                1                             0   \n",
       "2                                1                             0   \n",
       "3                                1                             0   \n",
       "4                                1                             0   \n",
       "\n",
       "  attributes_ages_allowed attributes_alcohol  attributes_ambience_casual  \\\n",
       "0                       0                  0                           0   \n",
       "1                       0                  0                           0   \n",
       "2                       0           full_bar                           1   \n",
       "3                       0                  0                           0   \n",
       "4                       0                  0                           1   \n",
       "\n",
       "   attributes_ambience_classy ...   used_vintage_n_consignment  vape_shops  \\\n",
       "0                           0 ...                            0           0   \n",
       "1                           0 ...                            0           0   \n",
       "2                           0 ...                            0           0   \n",
       "3                           0 ...                            0           0   \n",
       "4                           0 ...                            0           0   \n",
       "\n",
       "   vegan  vegetarian  venues_n_event_spaces  weight_loss_centers  \\\n",
       "0      0           0                      0                    0   \n",
       "1      0           0                      0                    0   \n",
       "2      0           0                      0                    0   \n",
       "3      0           0                      0                    0   \n",
       "4      0           0                      0                    0   \n",
       "\n",
       "   wholesale_stores wine_bars  womens_clothing yoga  \n",
       "0                 0         0                0    0  \n",
       "1                 0         0                0    0  \n",
       "2                 0         0                0    0  \n",
       "3                 0         0                0    0  \n",
       "4                 0         0                0    0  \n",
       "\n",
       "[5 rows x 292 columns]"
      ]
     },
     "execution_count": 254,
     "metadata": {},
     "output_type": "execute_result"
    }
   ],
   "source": [
    "biz3.fillna(0, inplace=True)\n",
    "biz3.replace('none', 0, inplace=True)\n",
    "biz3.replace(False, 0, inplace=True)\n",
    "biz3.replace(True, 1, inplace=True)\n",
    "biz3.replace('False', 0, inplace=True)\n",
    "biz3.replace('True', 1, inplace=True)\n",
    "biz3.head()"
   ]
  },
  {
   "cell_type": "markdown",
   "metadata": {},
   "source": [
    "--------------------\n",
    "#### reviews: groupby "
   ]
  },
  {
   "cell_type": "code",
   "execution_count": null,
   "metadata": {
    "collapsed": true
   },
   "outputs": [],
   "source": [
    "# 3) Summarize the reviews data so that we get the following for EACH\n",
    "#    business instead of per review. do this for all cities.\n",
    "#    SUM votes.cool: how many thought the review was \"cool\"\n",
    "#    (groupby) business_id: unique business id the review is for\n",
    "#    SUM votes.funny: how many thought the review was funny\n",
    "#    SUM votes.useful: how many thought the review was useful"
   ]
  },
  {
   "cell_type": "code",
   "execution_count": 255,
   "metadata": {
    "collapsed": true
   },
   "outputs": [],
   "source": [
    "reviews_gb = reviews[['business_id','votes.cool','votes.funny','votes.useful']].groupby(\\\n",
    "    ['business_id']).sum()"
   ]
  },
  {
   "cell_type": "code",
   "execution_count": 256,
   "metadata": {
    "collapsed": false
   },
   "outputs": [
    {
     "data": {
      "text/html": [
       "<div>\n",
       "<table border=\"1\" class=\"dataframe\">\n",
       "  <thead>\n",
       "    <tr style=\"text-align: right;\">\n",
       "      <th></th>\n",
       "      <th>business_id</th>\n",
       "      <th>votes.cool</th>\n",
       "      <th>votes.funny</th>\n",
       "      <th>votes.useful</th>\n",
       "    </tr>\n",
       "  </thead>\n",
       "  <tbody>\n",
       "    <tr>\n",
       "      <th>0</th>\n",
       "      <td>--jFTZmywe7StuZ2hEjxyA</td>\n",
       "      <td>11</td>\n",
       "      <td>7</td>\n",
       "      <td>13</td>\n",
       "    </tr>\n",
       "    <tr>\n",
       "      <th>1</th>\n",
       "      <td>-0HGqwlfw3I8nkJyMHxAsQ</td>\n",
       "      <td>0</td>\n",
       "      <td>3</td>\n",
       "      <td>1</td>\n",
       "    </tr>\n",
       "    <tr>\n",
       "      <th>2</th>\n",
       "      <td>-0VK5Z1BfUHUYq4PoBYNLw</td>\n",
       "      <td>2</td>\n",
       "      <td>2</td>\n",
       "      <td>1</td>\n",
       "    </tr>\n",
       "    <tr>\n",
       "      <th>3</th>\n",
       "      <td>-0bUDim5OGuv8R0Qqq6J4A</td>\n",
       "      <td>1</td>\n",
       "      <td>2</td>\n",
       "      <td>2</td>\n",
       "    </tr>\n",
       "    <tr>\n",
       "      <th>4</th>\n",
       "      <td>-1bOb2izeJBZjHC7NWxiPA</td>\n",
       "      <td>57</td>\n",
       "      <td>39</td>\n",
       "      <td>80</td>\n",
       "    </tr>\n",
       "  </tbody>\n",
       "</table>\n",
       "</div>"
      ],
      "text/plain": [
       "              business_id  votes.cool  votes.funny  votes.useful\n",
       "0  --jFTZmywe7StuZ2hEjxyA          11            7            13\n",
       "1  -0HGqwlfw3I8nkJyMHxAsQ           0            3             1\n",
       "2  -0VK5Z1BfUHUYq4PoBYNLw           2            2             1\n",
       "3  -0bUDim5OGuv8R0Qqq6J4A           1            2             2\n",
       "4  -1bOb2izeJBZjHC7NWxiPA          57           39            80"
      ]
     },
     "execution_count": 256,
     "metadata": {},
     "output_type": "execute_result"
    }
   ],
   "source": [
    "reviews_gb.reset_index(inplace=True)\n",
    "reviews_gb.head()"
   ]
  },
  {
   "cell_type": "code",
   "execution_count": 257,
   "metadata": {
    "collapsed": false
   },
   "outputs": [
    {
     "data": {
      "text/html": [
       "<div>\n",
       "<table border=\"1\" class=\"dataframe\">\n",
       "  <thead>\n",
       "    <tr style=\"text-align: right;\">\n",
       "      <th></th>\n",
       "      <th>business_id</th>\n",
       "      <th>votes_cool</th>\n",
       "      <th>votes_funny</th>\n",
       "      <th>votes_useful</th>\n",
       "    </tr>\n",
       "  </thead>\n",
       "  <tbody>\n",
       "    <tr>\n",
       "      <th>0</th>\n",
       "      <td>--jFTZmywe7StuZ2hEjxyA</td>\n",
       "      <td>11</td>\n",
       "      <td>7</td>\n",
       "      <td>13</td>\n",
       "    </tr>\n",
       "    <tr>\n",
       "      <th>1</th>\n",
       "      <td>-0HGqwlfw3I8nkJyMHxAsQ</td>\n",
       "      <td>0</td>\n",
       "      <td>3</td>\n",
       "      <td>1</td>\n",
       "    </tr>\n",
       "    <tr>\n",
       "      <th>2</th>\n",
       "      <td>-0VK5Z1BfUHUYq4PoBYNLw</td>\n",
       "      <td>2</td>\n",
       "      <td>2</td>\n",
       "      <td>1</td>\n",
       "    </tr>\n",
       "    <tr>\n",
       "      <th>3</th>\n",
       "      <td>-0bUDim5OGuv8R0Qqq6J4A</td>\n",
       "      <td>1</td>\n",
       "      <td>2</td>\n",
       "      <td>2</td>\n",
       "    </tr>\n",
       "    <tr>\n",
       "      <th>4</th>\n",
       "      <td>-1bOb2izeJBZjHC7NWxiPA</td>\n",
       "      <td>57</td>\n",
       "      <td>39</td>\n",
       "      <td>80</td>\n",
       "    </tr>\n",
       "  </tbody>\n",
       "</table>\n",
       "</div>"
      ],
      "text/plain": [
       "              business_id  votes_cool  votes_funny  votes_useful\n",
       "0  --jFTZmywe7StuZ2hEjxyA          11            7            13\n",
       "1  -0HGqwlfw3I8nkJyMHxAsQ           0            3             1\n",
       "2  -0VK5Z1BfUHUYq4PoBYNLw           2            2             1\n",
       "3  -0bUDim5OGuv8R0Qqq6J4A           1            2             2\n",
       "4  -1bOb2izeJBZjHC7NWxiPA          57           39            80"
      ]
     },
     "execution_count": 257,
     "metadata": {},
     "output_type": "execute_result"
    }
   ],
   "source": [
    "reviews_gb.columns=['business_id','votes_cool','votes_funny','votes_useful']\n",
    "reviews_gb.head()"
   ]
  },
  {
   "cell_type": "markdown",
   "metadata": {},
   "source": [
    "------------------------\n",
    "#### join the two tables to create the table I'll use for the regression"
   ]
  },
  {
   "cell_type": "code",
   "execution_count": null,
   "metadata": {
    "collapsed": true
   },
   "outputs": [],
   "source": [
    "# 4) join the business and reviews groupby. These are the fields I'll\n",
    "#    use from business:\n",
    "#    business_id: unique business identifier\n",
    "#    (take out) name: name of the business\n",
    "#    review_count: number of reviews per business\n",
    "#    city: city business resides in\n",
    "#    stars: average rating\n",
    "#    categories: categories the business falls into (can be one or multiple)\n",
    "#                as dummy variables\n",
    "#    (take out) latitude\n",
    "#    (take out) longitude\n",
    "#    neighborhoods: neighborhoods business belongs to\n",
    "#     variable: \"property\" of the business (a tag)\n",
    "#     value: True/False for the property"
   ]
  },
  {
   "cell_type": "code",
   "execution_count": 258,
   "metadata": {
    "collapsed": false
   },
   "outputs": [],
   "source": [
    "biz_reviews = pd.merge(biz3, reviews_gb, how='outer', left_on='business_id', right_on='business_id')\n",
    "biz_reviews['las_vegas'] = biz_reviews['city'].map(lambda x: 1 if x=='Las Vegas' else 0)\n",
    "biz_reviews.drop('city',axis=1, inplace=True)\n",
    "biz_reviews.drop('business_id',axis=1,inplace=True)"
   ]
  },
  {
   "cell_type": "code",
   "execution_count": 259,
   "metadata": {
    "collapsed": false
   },
   "outputs": [
    {
     "data": {
      "text/html": [
       "<div>\n",
       "<table border=\"1\" class=\"dataframe\">\n",
       "  <thead>\n",
       "    <tr style=\"text-align: right;\">\n",
       "      <th></th>\n",
       "      <th>review_count</th>\n",
       "      <th>stars</th>\n",
       "      <th>attributes_accepts_credit_cards</th>\n",
       "      <th>attributes_accepts_insurance</th>\n",
       "      <th>attributes_ages_allowed</th>\n",
       "      <th>attributes_alcohol</th>\n",
       "      <th>attributes_ambience_casual</th>\n",
       "      <th>attributes_ambience_classy</th>\n",
       "      <th>attributes_ambience_divey</th>\n",
       "      <th>attributes_ambience_hipster</th>\n",
       "      <th>...</th>\n",
       "      <th>venues_n_event_spaces</th>\n",
       "      <th>weight_loss_centers</th>\n",
       "      <th>wholesale_stores</th>\n",
       "      <th>wine_bars</th>\n",
       "      <th>womens_clothing</th>\n",
       "      <th>yoga</th>\n",
       "      <th>votes_cool</th>\n",
       "      <th>votes_funny</th>\n",
       "      <th>votes_useful</th>\n",
       "      <th>las_vegas</th>\n",
       "    </tr>\n",
       "  </thead>\n",
       "  <tbody>\n",
       "    <tr>\n",
       "      <th>0</th>\n",
       "      <td>7</td>\n",
       "      <td>3.5</td>\n",
       "      <td>1</td>\n",
       "      <td>0</td>\n",
       "      <td>0</td>\n",
       "      <td>0</td>\n",
       "      <td>0</td>\n",
       "      <td>0</td>\n",
       "      <td>0</td>\n",
       "      <td>0</td>\n",
       "      <td>...</td>\n",
       "      <td>0</td>\n",
       "      <td>0</td>\n",
       "      <td>0</td>\n",
       "      <td>0</td>\n",
       "      <td>0</td>\n",
       "      <td>0</td>\n",
       "      <td>11</td>\n",
       "      <td>7</td>\n",
       "      <td>13</td>\n",
       "      <td>1</td>\n",
       "    </tr>\n",
       "    <tr>\n",
       "      <th>1</th>\n",
       "      <td>9</td>\n",
       "      <td>3.0</td>\n",
       "      <td>1</td>\n",
       "      <td>0</td>\n",
       "      <td>0</td>\n",
       "      <td>0</td>\n",
       "      <td>0</td>\n",
       "      <td>0</td>\n",
       "      <td>0</td>\n",
       "      <td>0</td>\n",
       "      <td>...</td>\n",
       "      <td>0</td>\n",
       "      <td>0</td>\n",
       "      <td>0</td>\n",
       "      <td>0</td>\n",
       "      <td>0</td>\n",
       "      <td>0</td>\n",
       "      <td>0</td>\n",
       "      <td>3</td>\n",
       "      <td>1</td>\n",
       "      <td>0</td>\n",
       "    </tr>\n",
       "    <tr>\n",
       "      <th>2</th>\n",
       "      <td>5</td>\n",
       "      <td>3.5</td>\n",
       "      <td>1</td>\n",
       "      <td>0</td>\n",
       "      <td>0</td>\n",
       "      <td>full_bar</td>\n",
       "      <td>1</td>\n",
       "      <td>0</td>\n",
       "      <td>0</td>\n",
       "      <td>0</td>\n",
       "      <td>...</td>\n",
       "      <td>0</td>\n",
       "      <td>0</td>\n",
       "      <td>0</td>\n",
       "      <td>0</td>\n",
       "      <td>0</td>\n",
       "      <td>0</td>\n",
       "      <td>2</td>\n",
       "      <td>2</td>\n",
       "      <td>1</td>\n",
       "      <td>1</td>\n",
       "    </tr>\n",
       "    <tr>\n",
       "      <th>3</th>\n",
       "      <td>8</td>\n",
       "      <td>2.0</td>\n",
       "      <td>1</td>\n",
       "      <td>0</td>\n",
       "      <td>0</td>\n",
       "      <td>0</td>\n",
       "      <td>0</td>\n",
       "      <td>0</td>\n",
       "      <td>0</td>\n",
       "      <td>0</td>\n",
       "      <td>...</td>\n",
       "      <td>0</td>\n",
       "      <td>0</td>\n",
       "      <td>0</td>\n",
       "      <td>0</td>\n",
       "      <td>0</td>\n",
       "      <td>0</td>\n",
       "      <td>1</td>\n",
       "      <td>2</td>\n",
       "      <td>2</td>\n",
       "      <td>0</td>\n",
       "    </tr>\n",
       "    <tr>\n",
       "      <th>4</th>\n",
       "      <td>120</td>\n",
       "      <td>4.0</td>\n",
       "      <td>1</td>\n",
       "      <td>0</td>\n",
       "      <td>0</td>\n",
       "      <td>0</td>\n",
       "      <td>1</td>\n",
       "      <td>0</td>\n",
       "      <td>0</td>\n",
       "      <td>0</td>\n",
       "      <td>...</td>\n",
       "      <td>0</td>\n",
       "      <td>0</td>\n",
       "      <td>0</td>\n",
       "      <td>0</td>\n",
       "      <td>0</td>\n",
       "      <td>0</td>\n",
       "      <td>57</td>\n",
       "      <td>39</td>\n",
       "      <td>80</td>\n",
       "      <td>0</td>\n",
       "    </tr>\n",
       "  </tbody>\n",
       "</table>\n",
       "<p>5 rows × 294 columns</p>\n",
       "</div>"
      ],
      "text/plain": [
       "   review_count  stars  attributes_accepts_credit_cards  \\\n",
       "0             7    3.5                                1   \n",
       "1             9    3.0                                1   \n",
       "2             5    3.5                                1   \n",
       "3             8    2.0                                1   \n",
       "4           120    4.0                                1   \n",
       "\n",
       "   attributes_accepts_insurance attributes_ages_allowed attributes_alcohol  \\\n",
       "0                             0                       0                  0   \n",
       "1                             0                       0                  0   \n",
       "2                             0                       0           full_bar   \n",
       "3                             0                       0                  0   \n",
       "4                             0                       0                  0   \n",
       "\n",
       "   attributes_ambience_casual  attributes_ambience_classy  \\\n",
       "0                           0                           0   \n",
       "1                           0                           0   \n",
       "2                           1                           0   \n",
       "3                           0                           0   \n",
       "4                           1                           0   \n",
       "\n",
       "   attributes_ambience_divey  attributes_ambience_hipster    ...      \\\n",
       "0                          0                            0    ...       \n",
       "1                          0                            0    ...       \n",
       "2                          0                            0    ...       \n",
       "3                          0                            0    ...       \n",
       "4                          0                            0    ...       \n",
       "\n",
       "   venues_n_event_spaces  weight_loss_centers  wholesale_stores  wine_bars  \\\n",
       "0                      0                    0                 0          0   \n",
       "1                      0                    0                 0          0   \n",
       "2                      0                    0                 0          0   \n",
       "3                      0                    0                 0          0   \n",
       "4                      0                    0                 0          0   \n",
       "\n",
       "   womens_clothing yoga  votes_cool votes_funny  votes_useful  las_vegas  \n",
       "0                0    0          11           7            13          1  \n",
       "1                0    0           0           3             1          0  \n",
       "2                0    0           2           2             1          1  \n",
       "3                0    0           1           2             2          0  \n",
       "4                0    0          57          39            80          0  \n",
       "\n",
       "[5 rows x 294 columns]"
      ]
     },
     "execution_count": 259,
     "metadata": {},
     "output_type": "execute_result"
    }
   ],
   "source": [
    "biz_reviews.head()"
   ]
  },
  {
   "cell_type": "markdown",
   "metadata": {},
   "source": [
    "#### if I have time..."
   ]
  },
  {
   "cell_type": "code",
   "execution_count": null,
   "metadata": {
    "collapsed": true
   },
   "outputs": [],
   "source": [
    "# 5. Maybe at some point try again with removing certain category columns \n",
    "#    and turn a None into False\n",
    "\n",
    "############################################################\n",
    "# do this later"
   ]
  },
  {
   "cell_type": "markdown",
   "metadata": {},
   "source": [
    "### Build my model"
   ]
  },
  {
   "cell_type": "code",
   "execution_count": null,
   "metadata": {
    "collapsed": true
   },
   "outputs": [],
   "source": [
    "# Build at least one model predicting Las Vegas vs. the other cities.\n",
    "\n",
    "# OK, finally. So now I have nearly 300 columns. Way too many.  This is a job\n",
    "# for Logistic Regression with a Lasso penalty.  Like, a big one. I'm going to\n",
    "# use Logistic Regression because the target variable is Las Vegas (1) or not (0).  \n",
    "\n",
    "# So I'm going to:\n",
    "\n",
    "# 1. Set up Patsy to get X and y\n",
    "# 2. Do I need to normalize my data?\n",
    "# 3. initialize the logistic regression model. Use GridSearchCV because\n",
    "#    not sure how big the regularization penalty should be. (Among other \n",
    "#    things)\n",
    "# 4. Fit the model on the data.\n",
    "# 5. Run predict_probas on the whole population\n",
    "\n"
   ]
  },
  {
   "cell_type": "markdown",
   "metadata": {},
   "source": [
    "-----------------\n",
    "#### set up patsy"
   ]
  },
  {
   "cell_type": "code",
   "execution_count": 260,
   "metadata": {
    "collapsed": false
   },
   "outputs": [],
   "source": [
    "# 1. Patsy\n",
    "\n",
    "features_cols = [col for col in biz_reviews.columns if col != 'las_vegas']\n",
    "\n",
    "formula = 'las_vegas ~ ' + ' + '.join(features_cols) + ' -1'\n",
    "\n",
    "y, X = patsy.dmatrices(formula, data=biz_reviews, return_type='dataframe')"
   ]
  },
  {
   "cell_type": "code",
   "execution_count": 261,
   "metadata": {
    "collapsed": false,
    "scrolled": true
   },
   "outputs": [
    {
     "data": {
      "text/html": [
       "<div>\n",
       "<table border=\"1\" class=\"dataframe\">\n",
       "  <thead>\n",
       "    <tr style=\"text-align: right;\">\n",
       "      <th></th>\n",
       "      <th>attributes_ages_allowed[0]</th>\n",
       "      <th>attributes_ages_allowed[18plus]</th>\n",
       "      <th>attributes_ages_allowed[21plus]</th>\n",
       "      <th>attributes_ages_allowed[allages]</th>\n",
       "      <th>attributes_alcohol[T.beer_and_wine]</th>\n",
       "      <th>attributes_alcohol[T.full_bar]</th>\n",
       "      <th>attributes_attire[T.casual]</th>\n",
       "      <th>attributes_attire[T.dressy]</th>\n",
       "      <th>attributes_attire[T.formal]</th>\n",
       "      <th>attributes_byob_corkage[T.no]</th>\n",
       "      <th>...</th>\n",
       "      <th>vegetarian</th>\n",
       "      <th>venues_n_event_spaces</th>\n",
       "      <th>weight_loss_centers</th>\n",
       "      <th>wholesale_stores</th>\n",
       "      <th>wine_bars</th>\n",
       "      <th>womens_clothing</th>\n",
       "      <th>yoga</th>\n",
       "      <th>votes_cool</th>\n",
       "      <th>votes_funny</th>\n",
       "      <th>votes_useful</th>\n",
       "    </tr>\n",
       "  </thead>\n",
       "  <tbody>\n",
       "    <tr>\n",
       "      <th>0</th>\n",
       "      <td>1.0</td>\n",
       "      <td>0.0</td>\n",
       "      <td>0.0</td>\n",
       "      <td>0.0</td>\n",
       "      <td>0.0</td>\n",
       "      <td>0.0</td>\n",
       "      <td>1.0</td>\n",
       "      <td>0.0</td>\n",
       "      <td>0.0</td>\n",
       "      <td>0.0</td>\n",
       "      <td>...</td>\n",
       "      <td>0.0</td>\n",
       "      <td>0.0</td>\n",
       "      <td>0.0</td>\n",
       "      <td>0.0</td>\n",
       "      <td>0.0</td>\n",
       "      <td>0.0</td>\n",
       "      <td>0.0</td>\n",
       "      <td>11.0</td>\n",
       "      <td>7.0</td>\n",
       "      <td>13.0</td>\n",
       "    </tr>\n",
       "    <tr>\n",
       "      <th>1</th>\n",
       "      <td>1.0</td>\n",
       "      <td>0.0</td>\n",
       "      <td>0.0</td>\n",
       "      <td>0.0</td>\n",
       "      <td>0.0</td>\n",
       "      <td>0.0</td>\n",
       "      <td>1.0</td>\n",
       "      <td>0.0</td>\n",
       "      <td>0.0</td>\n",
       "      <td>0.0</td>\n",
       "      <td>...</td>\n",
       "      <td>0.0</td>\n",
       "      <td>0.0</td>\n",
       "      <td>0.0</td>\n",
       "      <td>0.0</td>\n",
       "      <td>0.0</td>\n",
       "      <td>0.0</td>\n",
       "      <td>0.0</td>\n",
       "      <td>0.0</td>\n",
       "      <td>3.0</td>\n",
       "      <td>1.0</td>\n",
       "    </tr>\n",
       "    <tr>\n",
       "      <th>2</th>\n",
       "      <td>1.0</td>\n",
       "      <td>0.0</td>\n",
       "      <td>0.0</td>\n",
       "      <td>0.0</td>\n",
       "      <td>0.0</td>\n",
       "      <td>1.0</td>\n",
       "      <td>0.0</td>\n",
       "      <td>0.0</td>\n",
       "      <td>0.0</td>\n",
       "      <td>0.0</td>\n",
       "      <td>...</td>\n",
       "      <td>0.0</td>\n",
       "      <td>0.0</td>\n",
       "      <td>0.0</td>\n",
       "      <td>0.0</td>\n",
       "      <td>0.0</td>\n",
       "      <td>0.0</td>\n",
       "      <td>0.0</td>\n",
       "      <td>2.0</td>\n",
       "      <td>2.0</td>\n",
       "      <td>1.0</td>\n",
       "    </tr>\n",
       "    <tr>\n",
       "      <th>3</th>\n",
       "      <td>1.0</td>\n",
       "      <td>0.0</td>\n",
       "      <td>0.0</td>\n",
       "      <td>0.0</td>\n",
       "      <td>0.0</td>\n",
       "      <td>0.0</td>\n",
       "      <td>1.0</td>\n",
       "      <td>0.0</td>\n",
       "      <td>0.0</td>\n",
       "      <td>0.0</td>\n",
       "      <td>...</td>\n",
       "      <td>0.0</td>\n",
       "      <td>0.0</td>\n",
       "      <td>0.0</td>\n",
       "      <td>0.0</td>\n",
       "      <td>0.0</td>\n",
       "      <td>0.0</td>\n",
       "      <td>0.0</td>\n",
       "      <td>1.0</td>\n",
       "      <td>2.0</td>\n",
       "      <td>2.0</td>\n",
       "    </tr>\n",
       "    <tr>\n",
       "      <th>4</th>\n",
       "      <td>1.0</td>\n",
       "      <td>0.0</td>\n",
       "      <td>0.0</td>\n",
       "      <td>0.0</td>\n",
       "      <td>0.0</td>\n",
       "      <td>0.0</td>\n",
       "      <td>1.0</td>\n",
       "      <td>0.0</td>\n",
       "      <td>0.0</td>\n",
       "      <td>0.0</td>\n",
       "      <td>...</td>\n",
       "      <td>0.0</td>\n",
       "      <td>0.0</td>\n",
       "      <td>0.0</td>\n",
       "      <td>0.0</td>\n",
       "      <td>0.0</td>\n",
       "      <td>0.0</td>\n",
       "      <td>0.0</td>\n",
       "      <td>57.0</td>\n",
       "      <td>39.0</td>\n",
       "      <td>80.0</td>\n",
       "    </tr>\n",
       "  </tbody>\n",
       "</table>\n",
       "<p>5 rows × 918 columns</p>\n",
       "</div>"
      ],
      "text/plain": [
       "   attributes_ages_allowed[0]  attributes_ages_allowed[18plus]  \\\n",
       "0                         1.0                              0.0   \n",
       "1                         1.0                              0.0   \n",
       "2                         1.0                              0.0   \n",
       "3                         1.0                              0.0   \n",
       "4                         1.0                              0.0   \n",
       "\n",
       "   attributes_ages_allowed[21plus]  attributes_ages_allowed[allages]  \\\n",
       "0                              0.0                               0.0   \n",
       "1                              0.0                               0.0   \n",
       "2                              0.0                               0.0   \n",
       "3                              0.0                               0.0   \n",
       "4                              0.0                               0.0   \n",
       "\n",
       "   attributes_alcohol[T.beer_and_wine]  attributes_alcohol[T.full_bar]  \\\n",
       "0                                  0.0                             0.0   \n",
       "1                                  0.0                             0.0   \n",
       "2                                  0.0                             1.0   \n",
       "3                                  0.0                             0.0   \n",
       "4                                  0.0                             0.0   \n",
       "\n",
       "   attributes_attire[T.casual]  attributes_attire[T.dressy]  \\\n",
       "0                          1.0                          0.0   \n",
       "1                          1.0                          0.0   \n",
       "2                          0.0                          0.0   \n",
       "3                          1.0                          0.0   \n",
       "4                          1.0                          0.0   \n",
       "\n",
       "   attributes_attire[T.formal]  attributes_byob_corkage[T.no]      ...       \\\n",
       "0                          0.0                            0.0      ...        \n",
       "1                          0.0                            0.0      ...        \n",
       "2                          0.0                            0.0      ...        \n",
       "3                          0.0                            0.0      ...        \n",
       "4                          0.0                            0.0      ...        \n",
       "\n",
       "   vegetarian  venues_n_event_spaces  weight_loss_centers  wholesale_stores  \\\n",
       "0         0.0                    0.0                  0.0               0.0   \n",
       "1         0.0                    0.0                  0.0               0.0   \n",
       "2         0.0                    0.0                  0.0               0.0   \n",
       "3         0.0                    0.0                  0.0               0.0   \n",
       "4         0.0                    0.0                  0.0               0.0   \n",
       "\n",
       "   wine_bars  womens_clothing  yoga  votes_cool  votes_funny  votes_useful  \n",
       "0        0.0              0.0   0.0        11.0          7.0          13.0  \n",
       "1        0.0              0.0   0.0         0.0          3.0           1.0  \n",
       "2        0.0              0.0   0.0         2.0          2.0           1.0  \n",
       "3        0.0              0.0   0.0         1.0          2.0           2.0  \n",
       "4        0.0              0.0   0.0        57.0         39.0          80.0  \n",
       "\n",
       "[5 rows x 918 columns]"
      ]
     },
     "execution_count": 261,
     "metadata": {},
     "output_type": "execute_result"
    }
   ],
   "source": [
    "X.head()\n"
   ]
  },
  {
   "cell_type": "markdown",
   "metadata": {},
   "source": [
    "#### normalize"
   ]
  },
  {
   "cell_type": "code",
   "execution_count": 262,
   "metadata": {
    "collapsed": false
   },
   "outputs": [
    {
     "data": {
      "text/plain": [
       "numpy.ndarray"
      ]
     },
     "execution_count": 262,
     "metadata": {},
     "output_type": "execute_result"
    }
   ],
   "source": [
    "# 2. normalize\n",
    "\n",
    "ss = StandardScaler()\n",
    "X_norm = ss.fit_transform(X)\n",
    "type(X_norm)"
   ]
  },
  {
   "cell_type": "markdown",
   "metadata": {},
   "source": [
    "#### set up the logistic regression and gridsearch models"
   ]
  },
  {
   "cell_type": "code",
   "execution_count": 263,
   "metadata": {
    "collapsed": false
   },
   "outputs": [
    {
     "name": "stdout",
     "output_type": "stream",
     "text": [
      "[LibLinear][LibLinear][LibLinear][LibLinear][LibLinear][LibLinear][LibLinear][LibLinear][LibLinear][LibLinear][LibLinear][LibLinear][LibLinear][LibLinear][LibLinear][LibLinear][LibLinear][LibLinear][LibLinear][LibLinear][LibLinear][LibLinear][LibLinear][LibLinear][LibLinear][LibLinear][LibLinear][LibLinear][LibLinear][LibLinear][LibLinear][LibLinear][LibLinear][LibLinear][LibLinear][LibLinear]"
     ]
    },
    {
     "data": {
      "text/plain": [
       "GridSearchCV(cv=5, error_score='raise',\n",
       "       estimator=LogisticRegression(C=1.0, class_weight=None, dual=False, fit_intercept=True,\n",
       "          intercept_scaling=1, max_iter=100, multi_class='ovr', n_jobs=1,\n",
       "          penalty='l1', random_state=None, solver='liblinear', tol=0.0001,\n",
       "          verbose=1, warm_start=False),\n",
       "       fit_params={}, iid=True, n_jobs=1,\n",
       "       param_grid={'C': [0.01, 0.1, 0.5, 1, 10, 100, 1000]},\n",
       "       pre_dispatch='2*n_jobs', refit=True, scoring=None, verbose=0)"
      ]
     },
     "execution_count": 263,
     "metadata": {},
     "output_type": "execute_result"
    }
   ],
   "source": [
    "params_grid = {\n",
    "    'C' : [0.01, 0.1, 0.5, 1, 10, 100, 1000] \n",
    "}\n",
    "\n",
    "# OK what is this? I am going to run Logistic Regression for this data,\n",
    "# because the target is a discrete one and a classification model is\n",
    "# best for this.\n",
    "\n",
    "# I want to make sure I choose Lasso as my regularization penalty though,\n",
    "# because I have way too many predictor variables.\n",
    "\n",
    "# Then I am adding Grid Search because I am not sure which C to use (C\n",
    "# is the inverse of alpha).\n",
    "\n",
    "# Within GridSearch I can choose the cv parameter which allows me to \n",
    "# run cross validation. If I didn't use Grid Search, I could set up \n",
    "# cross validation myself, manually, by setting up StratifiedKFold to \n",
    "# set up my different K folds and ensure they were stratified.  In setting\n",
    "# up the K folds, my training and testing sets are already created.\n",
    "\n",
    "logreg = LogisticRegression(verbose=1, penalty='l1', solver='liblinear')\n",
    "logreg_estimator = GridSearchCV(logreg, params_grid, cv=5)\n",
    "\n",
    "# Then I'm going to use the estimator to fit the data.\n",
    "\n",
    "logreg_estimator.fit(X_norm, np.ravel(y))"
   ]
  },
  {
   "cell_type": "code",
   "execution_count": 264,
   "metadata": {
    "collapsed": false
   },
   "outputs": [
    {
     "name": "stdout",
     "output_type": "stream",
     "text": [
      "best estimator:  LogisticRegression(C=0.5, class_weight=None, dual=False, fit_intercept=True,\n",
      "          intercept_scaling=1, max_iter=100, multi_class='ovr', n_jobs=1,\n",
      "          penalty='l1', random_state=None, solver='liblinear', tol=0.0001,\n",
      "          verbose=1, warm_start=False) \n",
      "\n",
      "best parameters:  {'C': 0.5} \n",
      "\n",
      "best score:  0.722894482091 \n",
      "\n",
      "grid scores:  [mean: 0.69482, std: 0.01160, params: {'C': 0.01}, mean: 0.72241, std: 0.00833, params: {'C': 0.1}, mean: 0.72289, std: 0.01410, params: {'C': 0.5}, mean: 0.72072, std: 0.01488, params: {'C': 1}, mean: 0.70958, std: 0.01276, params: {'C': 10}, mean: 0.70692, std: 0.01236, params: {'C': 100}, mean: 0.70281, std: 0.01297, params: {'C': 1000}] \n",
      "\n",
      "score:  <bound method GridSearchCV.score of GridSearchCV(cv=5, error_score='raise',\n",
      "       estimator=LogisticRegression(C=1.0, class_weight=None, dual=False, fit_intercept=True,\n",
      "          intercept_scaling=1, max_iter=100, multi_class='ovr', n_jobs=1,\n",
      "          penalty='l1', random_state=None, solver='liblinear', tol=0.0001,\n",
      "          verbose=1, warm_start=False),\n",
      "       fit_params={}, iid=True, n_jobs=1,\n",
      "       param_grid={'C': [0.01, 0.1, 0.5, 1, 10, 100, 1000]},\n",
      "       pre_dispatch='2*n_jobs', refit=True, scoring=None, verbose=0)> \n",
      "\n",
      "[[ 0.430166    0.569834  ]\n",
      " [ 0.48574682  0.51425318]\n",
      " [ 0.00655337  0.99344663]\n",
      " ..., \n",
      " [ 0.71752178  0.28247822]\n",
      " [ 0.58705646  0.41294354]\n",
      " [ 0.45321011  0.54678989]]\n",
      "probabilities:  [[ 0.430166    0.569834  ]\n",
      " [ 0.48574682  0.51425318]\n",
      " [ 0.00655337  0.99344663]\n",
      " ..., \n",
      " [ 0.71752178  0.28247822]\n",
      " [ 0.58705646  0.41294354]\n",
      " [ 0.45321011  0.54678989]]\n"
     ]
    }
   ],
   "source": [
    "best_logreg = logreg_estimator.best_estimator_\n",
    "print 'best estimator: ',  best_logreg, '\\n'\n",
    "print 'best parameters: ',logreg_estimator.best_params_,'\\n'\n",
    "print 'best score: ', logreg_estimator.best_score_, '\\n'\n",
    "print 'grid scores: ',logreg_estimator.grid_scores_, '\\n'\n",
    "print 'score: ', logreg_estimator.score, '\\n'\n",
    "probabilities = logreg_estimator.predict_proba(X_norm)\n",
    "print best_logreg.predict_proba(X_norm) ### rerun this\n",
    "print 'probabilities: ', probabilities"
   ]
  },
  {
   "cell_type": "code",
   "execution_count": 265,
   "metadata": {
    "collapsed": false
   },
   "outputs": [
    {
     "name": "stdout",
     "output_type": "stream",
     "text": [
      "[LibLinear][LibLinear][LibLinear][LibLinear][LibLinear]"
     ]
    },
    {
     "name": "stderr",
     "output_type": "stream",
     "text": [
      "[Parallel(n_jobs=1)]: Done   5 out of   5 | elapsed:   20.5s finished\n"
     ]
    },
    {
     "data": {
      "text/plain": [
       "LogisticRegressionCV(Cs=[0.5], class_weight=None, cv=5, dual=False,\n",
       "           fit_intercept=True, intercept_scaling=1.0, max_iter=100,\n",
       "           multi_class='ovr', n_jobs=1, penalty='l1', random_state=None,\n",
       "           refit=True, scoring=None, solver='liblinear', tol=0.0001,\n",
       "           verbose=1)"
      ]
     },
     "execution_count": 265,
     "metadata": {},
     "output_type": "execute_result"
    }
   ],
   "source": [
    "# going to set up a model with the best parameters\n",
    "# this basically, with the Cs, a little GridSearch inside of LogisticRegressionCV\n",
    "lrcv = LogisticRegressionCV(\n",
    "    Cs     =  [0.5], \n",
    "    cv     =  5, \n",
    "    refit  =  True,\n",
    "    verbose=  1, \n",
    "    penalty= 'l1', \n",
    "    solver = 'liblinear'\n",
    ")\n",
    "\n",
    "lrcv.fit(X_norm, np.ravel(y))"
   ]
  },
  {
   "cell_type": "code",
   "execution_count": 266,
   "metadata": {
    "collapsed": false,
    "scrolled": true
   },
   "outputs": [
    {
     "name": "stdout",
     "output_type": "stream",
     "text": [
      "0.80880929332\n",
      "{1.0: array([[ 0.72430472],\n",
      "       [ 0.70616687],\n",
      "       [ 0.72639225],\n",
      "       [ 0.71186441],\n",
      "       [ 0.74697337]])}\n",
      "0.72314032165\n"
     ]
    }
   ],
   "source": [
    "# looking at the scores of this data\n",
    "# waht - no idea why lrcv.score is not equal to np.mean(lrcv.scores_). Spoke with\n",
    "# Dave who also did not know \n",
    "print lrcv.score(X_norm, np.ravel(y))\n",
    "###############\n",
    "print lrcv.scores_\n",
    "print np.mean(lrcv.scores_[1.0])\n",
    "\n",
    "# Anyway, these numbers are the accuracy scores for this model using Logistic Regression,\n",
    "# with C=0.5 and Lasso."
   ]
  },
  {
   "cell_type": "code",
   "execution_count": 267,
   "metadata": {
    "collapsed": false
   },
   "outputs": [],
   "source": [
    "# predict probabiltiies with this model\n",
    "probabilities = lrcv.predict_proba(X_norm)"
   ]
  },
  {
   "cell_type": "code",
   "execution_count": 268,
   "metadata": {
    "collapsed": true
   },
   "outputs": [],
   "source": [
    "predictions = lrcv.predict(X_norm)"
   ]
  },
  {
   "cell_type": "code",
   "execution_count": 274,
   "metadata": {
    "collapsed": true
   },
   "outputs": [],
   "source": [
    "# maybe look at confusion matrix here to calculate classification metrics\n",
    "\n",
    "df_confusion = pd.crosstab(np.ravel(y), predictions, rownames=['Actual'], \n",
    "                           colnames=['Predicted'], margins=True)\n"
   ]
  },
  {
   "cell_type": "code",
   "execution_count": 275,
   "metadata": {
    "collapsed": false
   },
   "outputs": [
    {
     "data": {
      "text/html": [
       "<div>\n",
       "<table border=\"1\" class=\"dataframe\">\n",
       "  <thead>\n",
       "    <tr style=\"text-align: right;\">\n",
       "      <th>Predicted</th>\n",
       "      <th>0.0</th>\n",
       "      <th>1.0</th>\n",
       "      <th>All</th>\n",
       "    </tr>\n",
       "    <tr>\n",
       "      <th>Actual</th>\n",
       "      <th></th>\n",
       "      <th></th>\n",
       "      <th></th>\n",
       "    </tr>\n",
       "  </thead>\n",
       "  <tbody>\n",
       "    <tr>\n",
       "      <th>0.0</th>\n",
       "      <td>1048</td>\n",
       "      <td>514</td>\n",
       "      <td>1562</td>\n",
       "    </tr>\n",
       "    <tr>\n",
       "      <th>1.0</th>\n",
       "      <td>276</td>\n",
       "      <td>2294</td>\n",
       "      <td>2570</td>\n",
       "    </tr>\n",
       "    <tr>\n",
       "      <th>All</th>\n",
       "      <td>1324</td>\n",
       "      <td>2808</td>\n",
       "      <td>4132</td>\n",
       "    </tr>\n",
       "  </tbody>\n",
       "</table>\n",
       "</div>"
      ],
      "text/plain": [
       "Predicted   0.0   1.0   All\n",
       "Actual                     \n",
       "0.0        1048   514  1562\n",
       "1.0         276  2294  2570\n",
       "All        1324  2808  4132"
      ]
     },
     "execution_count": 275,
     "metadata": {},
     "output_type": "execute_result"
    }
   ],
   "source": [
    "df_confusion"
   ]
  },
  {
   "cell_type": "code",
   "execution_count": 279,
   "metadata": {
    "collapsed": false
   },
   "outputs": [
    {
     "name": "stdout",
     "output_type": "stream",
     "text": [
      "             precision    recall  f1-score   support\n",
      "\n",
      "        0.0       0.79      0.67      0.73      1562\n",
      "        1.0       0.82      0.89      0.85      2570\n",
      "\n",
      "avg / total       0.81      0.81      0.81      4132\n",
      "\n"
     ]
    }
   ],
   "source": [
    "print classification_report(y, predictions)"
   ]
  },
  {
   "cell_type": "code",
   "execution_count": 280,
   "metadata": {
    "collapsed": false
   },
   "outputs": [
    {
     "data": {
      "text/html": [
       "<div>\n",
       "<table border=\"1\" class=\"dataframe\">\n",
       "  <thead>\n",
       "    <tr style=\"text-align: right;\">\n",
       "      <th></th>\n",
       "      <th>las_vegas</th>\n",
       "    </tr>\n",
       "  </thead>\n",
       "  <tbody>\n",
       "    <tr>\n",
       "      <th>0</th>\n",
       "      <td>1.0</td>\n",
       "    </tr>\n",
       "    <tr>\n",
       "      <th>1</th>\n",
       "      <td>0.0</td>\n",
       "    </tr>\n",
       "    <tr>\n",
       "      <th>2</th>\n",
       "      <td>1.0</td>\n",
       "    </tr>\n",
       "    <tr>\n",
       "      <th>3</th>\n",
       "      <td>0.0</td>\n",
       "    </tr>\n",
       "    <tr>\n",
       "      <th>4</th>\n",
       "      <td>0.0</td>\n",
       "    </tr>\n",
       "  </tbody>\n",
       "</table>\n",
       "</div>"
      ],
      "text/plain": [
       "   las_vegas\n",
       "0        1.0\n",
       "1        0.0\n",
       "2        1.0\n",
       "3        0.0\n",
       "4        0.0"
      ]
     },
     "execution_count": 280,
     "metadata": {},
     "output_type": "execute_result"
    }
   ],
   "source": [
    "y.head()"
   ]
  },
  {
   "cell_type": "code",
   "execution_count": 281,
   "metadata": {
    "collapsed": true
   },
   "outputs": [],
   "source": [
    "# look at the coefficients to see waht is driving this result"
   ]
  },
  {
   "cell_type": "code",
   "execution_count": 283,
   "metadata": {
    "collapsed": false
   },
   "outputs": [
    {
     "data": {
      "text/html": [
       "<div>\n",
       "<table border=\"1\" class=\"dataframe\">\n",
       "  <thead>\n",
       "    <tr style=\"text-align: right;\">\n",
       "      <th></th>\n",
       "      <th>abs_coef</th>\n",
       "      <th>coef</th>\n",
       "      <th>columns</th>\n",
       "    </tr>\n",
       "  </thead>\n",
       "  <tbody>\n",
       "    <tr>\n",
       "      <th>647</th>\n",
       "      <td>1.046528</td>\n",
       "      <td>1.046528</td>\n",
       "      <td>review_count</td>\n",
       "    </tr>\n",
       "    <tr>\n",
       "      <th>22</th>\n",
       "      <td>0.851948</td>\n",
       "      <td>0.851948</td>\n",
       "      <td>attributes_smoking[T.yes]</td>\n",
       "    </tr>\n",
       "    <tr>\n",
       "      <th>21</th>\n",
       "      <td>0.647622</td>\n",
       "      <td>-0.647622</td>\n",
       "      <td>attributes_smoking[T.outdoor]</td>\n",
       "    </tr>\n",
       "    <tr>\n",
       "      <th>695</th>\n",
       "      <td>0.603945</td>\n",
       "      <td>0.603945</td>\n",
       "      <td>attributes_parking_garage</td>\n",
       "    </tr>\n",
       "    <tr>\n",
       "      <th>917</th>\n",
       "      <td>0.538090</td>\n",
       "      <td>-0.538090</td>\n",
       "      <td>votes_useful</td>\n",
       "    </tr>\n",
       "  </tbody>\n",
       "</table>\n",
       "</div>"
      ],
      "text/plain": [
       "     abs_coef      coef                        columns\n",
       "647  1.046528  1.046528                   review_count\n",
       "22   0.851948  0.851948      attributes_smoking[T.yes]\n",
       "21   0.647622 -0.647622  attributes_smoking[T.outdoor]\n",
       "695  0.603945  0.603945      attributes_parking_garage\n",
       "917  0.538090 -0.538090                   votes_useful"
      ]
     },
     "execution_count": 283,
     "metadata": {},
     "output_type": "execute_result"
    }
   ],
   "source": [
    "model_coef = lrcv.coef_\n",
    "model_coef\n",
    "df_coef = pd.DataFrame({'coef':model_coef[0],'abs_coef':np.abs(model_coef)[0],'columns':X.columns})\n",
    "df_coef.sort_values('abs_coef',axis=0,ascending=False).head()"
   ]
  },
  {
   "cell_type": "code",
   "execution_count": null,
   "metadata": {
    "collapsed": true
   },
   "outputs": [],
   "source": [
    "# need to interpret the meaning of a 1 beta for review count.  "
   ]
  },
  {
   "cell_type": "code",
   "execution_count": 284,
   "metadata": {
    "collapsed": false
   },
   "outputs": [
    {
     "data": {
      "image/png": "[encoded data removed]",
      "text/plain": [
       "<matplotlib.figure.Figure at 0x132da3350>"
      ]
     },
     "metadata": {
      "image/png": {
       "height": 425,
       "width": 623
      }
     },
     "output_type": "display_data"
    }
   ],
   "source": [
    "# plot review count and outdoor smoking versus Las Vegas\n",
    "\n",
    "fig, ax = plt.subplots(figsize=(10,6))\n",
    "\n",
    "# plot Las Vegas and review counts\n",
    "x_vals_0 = biz_reviews['review_count'][biz_reviews['las_vegas']==0]\n",
    "y_vals_0 = biz_reviews['attributes_smoking'][(biz_reviews['las_vegas']==0)].map(lambda x: 1 if x=='outdoor' else 0)\n",
    "\n",
    "x_vals_1 = biz_reviews['review_count'][biz_reviews['las_vegas']==1]\n",
    "y_vals_1 = biz_reviews['attributes_smoking'][(biz_reviews['las_vegas']==1)].map(lambda x: 1 if x=='outdoor' else 0)\n",
    "\n",
    "\n",
    "# do one scatter plot for each type of wine:\n",
    "ax.scatter(x_vals_0,\n",
    "           y_vals_0,\n",
    "           c='g',\n",
    "           s=100, alpha=0.2,\n",
    "           label='Not Las Vegas')\n",
    "\n",
    "ax.scatter(x_vals_1,\n",
    "           y_vals_1,\n",
    "           c='r',\n",
    "           s=100, alpha=0.1,\n",
    "           label='Not Las Vegas')\n",
    "# ax.scatter(X['review_count'][X['las_vegas'] == 1],\n",
    "#            X['las_vegas'][X['las_vegas'] == 1],\n",
    "#            c=colors['blue'], s=100, alpha=0.7,\n",
    "#            label='Las Vegas')\n",
    "\n",
    "# # ax.axvline(xval_chance, lw=3, color=colors['red'], ls='dashed',\n",
    "# #            label='gpa where P(y = 1) = 0.5')\n",
    "\n",
    "ax.set_ylabel('Smoking (yes/no)', fontsize=16)\n",
    "ax.set_xlabel('Review Count', fontsize=16)\n",
    "ax.set_title('Las Vegas ~ Review Count\\n', fontsize=20)\n",
    "\n",
    "ax.set_xlim([0.,6000.]) ####################### need to set this\n",
    "ax.set_ylim([-0.1, 1.1])\n",
    "\n",
    "plt.legend(loc='upper left')\n",
    "plt.show()"
   ]
  },
  {
   "cell_type": "code",
   "execution_count": null,
   "metadata": {
    "collapsed": true
   },
   "outputs": [],
   "source": [
    "# plot an ROC curve"
   ]
  },
  {
   "cell_type": "code",
   "execution_count": 286,
   "metadata": {
    "collapsed": false
   },
   "outputs": [
    {
     "data": {
      "image/png": "[encoded data removed]",
      "text/plain": [
       "<matplotlib.figure.Figure at 0x132d89c10>"
      ]
     },
     "metadata": {
      "image/png": {
       "height": 572,
       "width": 677
      }
     },
     "output_type": "display_data"
    }
   ],
   "source": [
    "\n",
    "# import roc_curve whcih does X\n",
    "# import auc which does computes area under the curve \n",
    "# if you use roc_auc_score\n",
    "\n",
    "from sklearn.metrics import roc_curve, auc\n",
    "import matplotlib.pyplot as plt\n",
    "plt.style.use('seaborn-white')\n",
    "%matplotlib inline\n",
    "\n",
    "# [insert explanation of this section -- what is this for?  Where do we use this later?]\n",
    "Y_score = lrcv.decision_function(X)\n",
    "\n",
    "# [insert explanation of this section -- why do we use these?]\n",
    "FPR = dict()\n",
    "TPR = dict()\n",
    "ROC_AUC = dict()\n",
    "\n",
    "# [insert explanation of this section]\n",
    "FPR[1], TPR[1], _ = roc_curve(y, probabilities[:, 1])\n",
    "ROC_AUC[1] = auc(FPR[1], TPR[1])\n",
    "\n",
    "# [insert explanation of this section -- what is being plotted?  Which elements are data driven?  Which elements are purely visual?]\n",
    "plt.figure(figsize=[11,9])\n",
    "plt.plot(FPR[1], TPR[1], label='ROC curve (area = %0.2f)' % ROC_AUC[1], linewidth=4)\n",
    "plt.plot([0, 1], [0, 1], 'k--', linewidth=4)\n",
    "plt.xlim([0.0, 1.0])\n",
    "plt.ylim([0.0, 1.05])\n",
    "plt.xlabel('False Positive Rate', fontsize=18)\n",
    "plt.ylabel('True Positive Rate', fontsize=18)\n",
    "plt.title('Receiver operating characteristic for \"Las Vegas\" predictions', fontsize=18)\n",
    "plt.legend(loc=\"lower right\")\n",
    "plt.show()"
   ]
  },
  {
   "cell_type": "code",
   "execution_count": null,
   "metadata": {
    "collapsed": true
   },
   "outputs": [],
   "source": [
    "# Write up a \"profile\" for Las Vegas. This should be a writeup converting your \n",
    "# findings from the model(s) into a human-readable description of the city.\n",
    "'''OK, this was not the most productive search into the Las Vegas profile.\n",
    "Here is what I found, here is what was not helpful/here is the problem with\n",
    "my work, and here is what I would do in my future work.\n",
    "\n",
    "Here are conclusions:\n",
    "The feature with the greatest coefficient is \"review_count\", which makes sense \n",
    "compared to the other cities because Las Vegas is a bigger city than the others.\n",
    "There are more people, so there are more likely to be more reviews! Also the kinds\n",
    "of people that visit Las Vegas versus Phoenix, Surprise, or Waterloo are going\n",
    "to be more interested in finding the best kinds of places to do \"X\".\n",
    "\n",
    "The feature with the second highest coefficient was attributes_smoking[T.yes], but\n",
    "there were only 11 businesses with a 'yes', so that is not helpful. Instead, I looked\n",
    "at the third one, which yielded more businesses.  It seems that there are more\n",
    "businesses with outdoor smoking, or at least there were more people who cared about\n",
    "outdoor smoking to click the button on Yelp.\n",
    "\n",
    "What was not helpful:\n",
    "I loaded wayyyy too many features.  All the data is muddling up the results. \n",
    "\n",
    "For example, a lot of the \"important\" features were the hours of the business \n",
    "operations. I don't think that the hourly information itself is useful, but \n",
    "I think it's more that the the data was filled in by yelp users. The users \n",
    "cared more to fill that information in, or maybe the businesses themselves filled it in.\n",
    "\n",
    "What I would do in the future work: \n",
    "- Remove the hour data\n",
    "- Focus on one thing first - maybe the kinds of businesses in Las Vegas versus others,\n",
    "or the kinds of users that are filling in reviews - how active they are, whether they\n",
    "are filling in reviews for other cities as well (as they visitors?) There's also\n",
    "other data including when users checked in, etc.\n",
    "\n",
    "'''\n"
   ]
  },
  {
   "cell_type": "markdown",
   "metadata": {},
   "source": [
    "<img src=\"http://imgur.com/l5NasQj.png\" style=\"float: left; margin: 25px 15px 0px 0px; height: 25px\">\n",
    "\n",
    "## 2. Different categories of ratings\n",
    "\n",
    "---\n",
    "\n",
    "Yelp is finally ready to admit that their rating system sucks. No one cares about the ratings, they just use the site to find out what's nearby. The ratings are simply too unreliable for people. \n",
    "\n",
    "Yelp hypothesizes that this is, in fact, because different people tend to give their ratings based on different things. They believe that perhaps some people always base their ratings on quality of food, others on service, and perhaps other categories as well. \n",
    "\n",
    "1. Do some users tend to talk about service more than others in reviews/tips? Divide up the tips/reviews into more \"service-focused\" ones and those less concerned with service.\n",
    "2. Create two new ratings for businesses: ratings from just the service-focused reviews and ratings from the non-service reviews.\n",
    "3. Construct a regression model for each of the two ratings. They should use the same predictor variables (of your choice). \n",
    "4. Validate the performance of the models.\n",
    "5. Do the models coefficients differ at all? What does this tell you about the hypothesis that there are in fact two different kinds of ratings?"
   ]
  },
  {
   "cell_type": "code",
   "execution_count": 288,
   "metadata": {
    "collapsed": false,
    "scrolled": false
   },
   "outputs": [],
   "source": [
    "# Split two-word phrases into service and not-service columns.\n",
    "list(reviews.columns)\n",
    "\n",
    "# identify two-word phrases with into service-oriented\n",
    "service_columns = ['customer service', 'food service','friendly staff','good service','great service',\n",
    "                   'service excellent',  'service food', 'service friendly',  'service good', \n",
    "                   'service great',  'staff friendly', 'super friendly']\n",
    "\n",
    "# sum the numbers from these columns\n",
    "reviews['sum_service_columns'] = np.sum(reviews.loc[:,service_columns],axis=1)\n",
    "reviews['sum_service_columns'] = reviews['sum_service_columns'].map(lambda x: 1 if x>0 else 0)"
   ]
  },
  {
   "cell_type": "code",
   "execution_count": 289,
   "metadata": {
    "collapsed": false
   },
   "outputs": [],
   "source": [
    "# Same but for tips: Split two-word phrases into service and not-service columns.\n",
    "list(tips.columns)\n",
    "\n",
    "# identify two-word phrases with into service-oriented\n",
    "service_columns = ['awesome service','customer service','excellent service','fast service',\n",
    "                   'food service','friendly service', 'friendly staff','good service',\n",
    "                   'great service', 'great staff', 'service food', 'service good',\n",
    "                   'service great', 'slow service', 'staff friendly', 'staff great',\n",
    "                   'super friendly',\n",
    "                  ]\n",
    "\n",
    "# sum the numbers from these columns\n",
    "tips['sum_service_columns'] = np.sum(tips.loc[:,service_columns],axis=1)\n",
    "tips['sum_service_columns'] = tips['sum_service_columns'].map(lambda x: 1 if x>0 else 0)"
   ]
  },
  {
   "cell_type": "markdown",
   "metadata": {},
   "source": [
    "#### Create two new ratings for businesses: ratings from just the service-focused reviews and ratings from the non-service reviews."
   ]
  },
  {
   "cell_type": "code",
   "execution_count": 290,
   "metadata": {
    "collapsed": false
   },
   "outputs": [],
   "source": [
    "# so I need to identify the ratings from the service reviews\n",
    "\n",
    "        \n",
    "# first subset the reviews DF\n",
    "reviews_service = reviews.loc[:,['user_id', 'business_id', 'sum_service_columns', 'stars','votes.useful']]"
   ]
  },
  {
   "cell_type": "code",
   "execution_count": 291,
   "metadata": {
    "collapsed": false
   },
   "outputs": [],
   "source": [
    "# then subset tips DF with service=1\n",
    "tips_service = tips.loc[:,['user_id','business_id', 'sum_service_columns']]\n",
    "tips_service = tips_service[tips_service['sum_service_columns'] > 0]"
   ]
  },
  {
   "cell_type": "code",
   "execution_count": 292,
   "metadata": {
    "collapsed": false
   },
   "outputs": [],
   "source": [
    "# join the two tables; reviews first and on the left, LEFT join \n",
    "\n",
    "reviews_joined = pd.merge(reviews_service, tips_service, how='left', on=['user_id','business_id'])"
   ]
  },
  {
   "cell_type": "code",
   "execution_count": 293,
   "metadata": {
    "collapsed": false
   },
   "outputs": [
    {
     "data": {
      "text/html": [
       "<div>\n",
       "<table border=\"1\" class=\"dataframe\">\n",
       "  <thead>\n",
       "    <tr style=\"text-align: right;\">\n",
       "      <th></th>\n",
       "      <th>user_id</th>\n",
       "      <th>business_id</th>\n",
       "      <th>sum_service_columns_x</th>\n",
       "      <th>stars</th>\n",
       "      <th>votes.useful</th>\n",
       "      <th>sum_service_columns_y</th>\n",
       "    </tr>\n",
       "  </thead>\n",
       "  <tbody>\n",
       "    <tr>\n",
       "      <th>0</th>\n",
       "      <td>o_LCYay4uo5N4eq3U5pbrQ</td>\n",
       "      <td>EmzaQR5hQlF0WIl24NxAZA</td>\n",
       "      <td>0</td>\n",
       "      <td>3</td>\n",
       "      <td>1</td>\n",
       "      <td>NaN</td>\n",
       "    </tr>\n",
       "    <tr>\n",
       "      <th>1</th>\n",
       "      <td>sEWeeq41k4ohBz4jS_iGRw</td>\n",
       "      <td>EmzaQR5hQlF0WIl24NxAZA</td>\n",
       "      <td>0</td>\n",
       "      <td>2</td>\n",
       "      <td>3</td>\n",
       "      <td>NaN</td>\n",
       "    </tr>\n",
       "    <tr>\n",
       "      <th>2</th>\n",
       "      <td>1AqEqmmVHgYCuzcMrF4h2g</td>\n",
       "      <td>EmzaQR5hQlF0WIl24NxAZA</td>\n",
       "      <td>0</td>\n",
       "      <td>2</td>\n",
       "      <td>0</td>\n",
       "      <td>NaN</td>\n",
       "    </tr>\n",
       "    <tr>\n",
       "      <th>3</th>\n",
       "      <td>pv82zTlB5Txsu2Pusu__FA</td>\n",
       "      <td>EmzaQR5hQlF0WIl24NxAZA</td>\n",
       "      <td>0</td>\n",
       "      <td>2</td>\n",
       "      <td>6</td>\n",
       "      <td>NaN</td>\n",
       "    </tr>\n",
       "    <tr>\n",
       "      <th>4</th>\n",
       "      <td>jlr3OBS1_Y3Lqa-H3-FR1g</td>\n",
       "      <td>EmzaQR5hQlF0WIl24NxAZA</td>\n",
       "      <td>0</td>\n",
       "      <td>4</td>\n",
       "      <td>0</td>\n",
       "      <td>NaN</td>\n",
       "    </tr>\n",
       "  </tbody>\n",
       "</table>\n",
       "</div>"
      ],
      "text/plain": [
       "                  user_id             business_id  sum_service_columns_x  \\\n",
       "0  o_LCYay4uo5N4eq3U5pbrQ  EmzaQR5hQlF0WIl24NxAZA                      0   \n",
       "1  sEWeeq41k4ohBz4jS_iGRw  EmzaQR5hQlF0WIl24NxAZA                      0   \n",
       "2  1AqEqmmVHgYCuzcMrF4h2g  EmzaQR5hQlF0WIl24NxAZA                      0   \n",
       "3  pv82zTlB5Txsu2Pusu__FA  EmzaQR5hQlF0WIl24NxAZA                      0   \n",
       "4  jlr3OBS1_Y3Lqa-H3-FR1g  EmzaQR5hQlF0WIl24NxAZA                      0   \n",
       "\n",
       "   stars  votes.useful  sum_service_columns_y  \n",
       "0      3             1                    NaN  \n",
       "1      2             3                    NaN  \n",
       "2      2             0                    NaN  \n",
       "3      2             6                    NaN  \n",
       "4      4             0                    NaN  "
      ]
     },
     "execution_count": 293,
     "metadata": {},
     "output_type": "execute_result"
    }
   ],
   "source": [
    "reviews_joined.head()"
   ]
  },
  {
   "cell_type": "code",
   "execution_count": 294,
   "metadata": {
    "collapsed": false
   },
   "outputs": [
    {
     "data": {
      "text/html": [
       "<div>\n",
       "<table border=\"1\" class=\"dataframe\">\n",
       "  <thead>\n",
       "    <tr style=\"text-align: right;\">\n",
       "      <th></th>\n",
       "      <th>user_id</th>\n",
       "      <th>business_id</th>\n",
       "      <th>sum_service_columns_x</th>\n",
       "      <th>stars</th>\n",
       "      <th>votes.useful</th>\n",
       "      <th>sum_service_columns_y</th>\n",
       "    </tr>\n",
       "  </thead>\n",
       "  <tbody>\n",
       "    <tr>\n",
       "      <th>0</th>\n",
       "      <td>o_LCYay4uo5N4eq3U5pbrQ</td>\n",
       "      <td>EmzaQR5hQlF0WIl24NxAZA</td>\n",
       "      <td>0</td>\n",
       "      <td>3</td>\n",
       "      <td>1</td>\n",
       "      <td>0.0</td>\n",
       "    </tr>\n",
       "    <tr>\n",
       "      <th>1</th>\n",
       "      <td>sEWeeq41k4ohBz4jS_iGRw</td>\n",
       "      <td>EmzaQR5hQlF0WIl24NxAZA</td>\n",
       "      <td>0</td>\n",
       "      <td>2</td>\n",
       "      <td>3</td>\n",
       "      <td>0.0</td>\n",
       "    </tr>\n",
       "    <tr>\n",
       "      <th>2</th>\n",
       "      <td>1AqEqmmVHgYCuzcMrF4h2g</td>\n",
       "      <td>EmzaQR5hQlF0WIl24NxAZA</td>\n",
       "      <td>0</td>\n",
       "      <td>2</td>\n",
       "      <td>0</td>\n",
       "      <td>0.0</td>\n",
       "    </tr>\n",
       "    <tr>\n",
       "      <th>3</th>\n",
       "      <td>pv82zTlB5Txsu2Pusu__FA</td>\n",
       "      <td>EmzaQR5hQlF0WIl24NxAZA</td>\n",
       "      <td>0</td>\n",
       "      <td>2</td>\n",
       "      <td>6</td>\n",
       "      <td>0.0</td>\n",
       "    </tr>\n",
       "    <tr>\n",
       "      <th>4</th>\n",
       "      <td>jlr3OBS1_Y3Lqa-H3-FR1g</td>\n",
       "      <td>EmzaQR5hQlF0WIl24NxAZA</td>\n",
       "      <td>0</td>\n",
       "      <td>4</td>\n",
       "      <td>0</td>\n",
       "      <td>0.0</td>\n",
       "    </tr>\n",
       "  </tbody>\n",
       "</table>\n",
       "</div>"
      ],
      "text/plain": [
       "                  user_id             business_id  sum_service_columns_x  \\\n",
       "0  o_LCYay4uo5N4eq3U5pbrQ  EmzaQR5hQlF0WIl24NxAZA                      0   \n",
       "1  sEWeeq41k4ohBz4jS_iGRw  EmzaQR5hQlF0WIl24NxAZA                      0   \n",
       "2  1AqEqmmVHgYCuzcMrF4h2g  EmzaQR5hQlF0WIl24NxAZA                      0   \n",
       "3  pv82zTlB5Txsu2Pusu__FA  EmzaQR5hQlF0WIl24NxAZA                      0   \n",
       "4  jlr3OBS1_Y3Lqa-H3-FR1g  EmzaQR5hQlF0WIl24NxAZA                      0   \n",
       "\n",
       "   stars  votes.useful  sum_service_columns_y  \n",
       "0      3             1                    0.0  \n",
       "1      2             3                    0.0  \n",
       "2      2             0                    0.0  \n",
       "3      2             6                    0.0  \n",
       "4      4             0                    0.0  "
      ]
     },
     "execution_count": 294,
     "metadata": {},
     "output_type": "execute_result"
    }
   ],
   "source": [
    "# create one sumservicecolumns which takes the max of both columns. if there\n",
    "# is any mention of service in either the review or the tips, then it is service\n",
    "# oriented.\n",
    "def fillnan(x):\n",
    "    if x == x:\n",
    "        return x\n",
    "    else:\n",
    "        return 0\n",
    "\n",
    "\n",
    "reviews_joined['sum_service_columns_y'] = reviews_joined['sum_service_columns_y'].map(fillnan)\n",
    "reviews_joined.head()"
   ]
  },
  {
   "cell_type": "code",
   "execution_count": 295,
   "metadata": {
    "collapsed": false
   },
   "outputs": [
    {
     "data": {
      "text/html": [
       "<div>\n",
       "<table border=\"1\" class=\"dataframe\">\n",
       "  <thead>\n",
       "    <tr style=\"text-align: right;\">\n",
       "      <th></th>\n",
       "      <th>user_id</th>\n",
       "      <th>business_id</th>\n",
       "      <th>sum_service_columns_x</th>\n",
       "      <th>stars</th>\n",
       "      <th>votes.useful</th>\n",
       "      <th>sum_service_columns_y</th>\n",
       "      <th>service</th>\n",
       "    </tr>\n",
       "  </thead>\n",
       "  <tbody>\n",
       "    <tr>\n",
       "      <th>0</th>\n",
       "      <td>o_LCYay4uo5N4eq3U5pbrQ</td>\n",
       "      <td>EmzaQR5hQlF0WIl24NxAZA</td>\n",
       "      <td>0</td>\n",
       "      <td>3</td>\n",
       "      <td>1</td>\n",
       "      <td>0.0</td>\n",
       "      <td>0.0</td>\n",
       "    </tr>\n",
       "    <tr>\n",
       "      <th>1</th>\n",
       "      <td>sEWeeq41k4ohBz4jS_iGRw</td>\n",
       "      <td>EmzaQR5hQlF0WIl24NxAZA</td>\n",
       "      <td>0</td>\n",
       "      <td>2</td>\n",
       "      <td>3</td>\n",
       "      <td>0.0</td>\n",
       "      <td>0.0</td>\n",
       "    </tr>\n",
       "    <tr>\n",
       "      <th>2</th>\n",
       "      <td>1AqEqmmVHgYCuzcMrF4h2g</td>\n",
       "      <td>EmzaQR5hQlF0WIl24NxAZA</td>\n",
       "      <td>0</td>\n",
       "      <td>2</td>\n",
       "      <td>0</td>\n",
       "      <td>0.0</td>\n",
       "      <td>0.0</td>\n",
       "    </tr>\n",
       "    <tr>\n",
       "      <th>3</th>\n",
       "      <td>pv82zTlB5Txsu2Pusu__FA</td>\n",
       "      <td>EmzaQR5hQlF0WIl24NxAZA</td>\n",
       "      <td>0</td>\n",
       "      <td>2</td>\n",
       "      <td>6</td>\n",
       "      <td>0.0</td>\n",
       "      <td>0.0</td>\n",
       "    </tr>\n",
       "    <tr>\n",
       "      <th>4</th>\n",
       "      <td>jlr3OBS1_Y3Lqa-H3-FR1g</td>\n",
       "      <td>EmzaQR5hQlF0WIl24NxAZA</td>\n",
       "      <td>0</td>\n",
       "      <td>4</td>\n",
       "      <td>0</td>\n",
       "      <td>0.0</td>\n",
       "      <td>0.0</td>\n",
       "    </tr>\n",
       "  </tbody>\n",
       "</table>\n",
       "</div>"
      ],
      "text/plain": [
       "                  user_id             business_id  sum_service_columns_x  \\\n",
       "0  o_LCYay4uo5N4eq3U5pbrQ  EmzaQR5hQlF0WIl24NxAZA                      0   \n",
       "1  sEWeeq41k4ohBz4jS_iGRw  EmzaQR5hQlF0WIl24NxAZA                      0   \n",
       "2  1AqEqmmVHgYCuzcMrF4h2g  EmzaQR5hQlF0WIl24NxAZA                      0   \n",
       "3  pv82zTlB5Txsu2Pusu__FA  EmzaQR5hQlF0WIl24NxAZA                      0   \n",
       "4  jlr3OBS1_Y3Lqa-H3-FR1g  EmzaQR5hQlF0WIl24NxAZA                      0   \n",
       "\n",
       "   stars  votes.useful  sum_service_columns_y  service  \n",
       "0      3             1                    0.0      0.0  \n",
       "1      2             3                    0.0      0.0  \n",
       "2      2             0                    0.0      0.0  \n",
       "3      2             6                    0.0      0.0  \n",
       "4      4             0                    0.0      0.0  "
      ]
     },
     "execution_count": 295,
     "metadata": {},
     "output_type": "execute_result"
    }
   ],
   "source": [
    "reviews_joined['service'] = np.maximum(reviews_joined['sum_service_columns_x'],\n",
    "                                       reviews_joined['sum_service_columns_y'])\n",
    "reviews_joined.head()"
   ]
  },
  {
   "cell_type": "code",
   "execution_count": 296,
   "metadata": {
    "collapsed": false
   },
   "outputs": [
    {
     "data": {
      "text/html": [
       "<div>\n",
       "<table border=\"1\" class=\"dataframe\">\n",
       "  <thead>\n",
       "    <tr style=\"text-align: right;\">\n",
       "      <th></th>\n",
       "      <th>user_id</th>\n",
       "      <th>business_id</th>\n",
       "      <th>stars</th>\n",
       "      <th>votes.useful</th>\n",
       "      <th>service</th>\n",
       "    </tr>\n",
       "  </thead>\n",
       "  <tbody>\n",
       "    <tr>\n",
       "      <th>0</th>\n",
       "      <td>o_LCYay4uo5N4eq3U5pbrQ</td>\n",
       "      <td>EmzaQR5hQlF0WIl24NxAZA</td>\n",
       "      <td>3</td>\n",
       "      <td>1</td>\n",
       "      <td>0.0</td>\n",
       "    </tr>\n",
       "    <tr>\n",
       "      <th>1</th>\n",
       "      <td>sEWeeq41k4ohBz4jS_iGRw</td>\n",
       "      <td>EmzaQR5hQlF0WIl24NxAZA</td>\n",
       "      <td>2</td>\n",
       "      <td>3</td>\n",
       "      <td>0.0</td>\n",
       "    </tr>\n",
       "    <tr>\n",
       "      <th>2</th>\n",
       "      <td>1AqEqmmVHgYCuzcMrF4h2g</td>\n",
       "      <td>EmzaQR5hQlF0WIl24NxAZA</td>\n",
       "      <td>2</td>\n",
       "      <td>0</td>\n",
       "      <td>0.0</td>\n",
       "    </tr>\n",
       "    <tr>\n",
       "      <th>3</th>\n",
       "      <td>pv82zTlB5Txsu2Pusu__FA</td>\n",
       "      <td>EmzaQR5hQlF0WIl24NxAZA</td>\n",
       "      <td>2</td>\n",
       "      <td>6</td>\n",
       "      <td>0.0</td>\n",
       "    </tr>\n",
       "    <tr>\n",
       "      <th>4</th>\n",
       "      <td>jlr3OBS1_Y3Lqa-H3-FR1g</td>\n",
       "      <td>EmzaQR5hQlF0WIl24NxAZA</td>\n",
       "      <td>4</td>\n",
       "      <td>0</td>\n",
       "      <td>0.0</td>\n",
       "    </tr>\n",
       "  </tbody>\n",
       "</table>\n",
       "</div>"
      ],
      "text/plain": [
       "                  user_id             business_id  stars  votes.useful  \\\n",
       "0  o_LCYay4uo5N4eq3U5pbrQ  EmzaQR5hQlF0WIl24NxAZA      3             1   \n",
       "1  sEWeeq41k4ohBz4jS_iGRw  EmzaQR5hQlF0WIl24NxAZA      2             3   \n",
       "2  1AqEqmmVHgYCuzcMrF4h2g  EmzaQR5hQlF0WIl24NxAZA      2             0   \n",
       "3  pv82zTlB5Txsu2Pusu__FA  EmzaQR5hQlF0WIl24NxAZA      2             6   \n",
       "4  jlr3OBS1_Y3Lqa-H3-FR1g  EmzaQR5hQlF0WIl24NxAZA      4             0   \n",
       "\n",
       "   service  \n",
       "0      0.0  \n",
       "1      0.0  \n",
       "2      0.0  \n",
       "3      0.0  \n",
       "4      0.0  "
      ]
     },
     "execution_count": 296,
     "metadata": {},
     "output_type": "execute_result"
    }
   ],
   "source": [
    "reviews_joined.drop(['sum_service_columns_x','sum_service_columns_y'], axis=1, inplace=True)\n",
    "reviews_joined.head()"
   ]
  },
  {
   "cell_type": "code",
   "execution_count": 297,
   "metadata": {
    "collapsed": false
   },
   "outputs": [
    {
     "data": {
      "text/html": [
       "<div>\n",
       "<table border=\"1\" class=\"dataframe\">\n",
       "  <thead>\n",
       "    <tr style=\"text-align: right;\">\n",
       "      <th></th>\n",
       "      <th>business_id</th>\n",
       "      <th>stars</th>\n",
       "      <th>votes.useful</th>\n",
       "      <th>service</th>\n",
       "    </tr>\n",
       "  </thead>\n",
       "  <tbody>\n",
       "    <tr>\n",
       "      <th>0</th>\n",
       "      <td>EmzaQR5hQlF0WIl24NxAZA</td>\n",
       "      <td>3</td>\n",
       "      <td>1</td>\n",
       "      <td>0.0</td>\n",
       "    </tr>\n",
       "    <tr>\n",
       "      <th>1</th>\n",
       "      <td>EmzaQR5hQlF0WIl24NxAZA</td>\n",
       "      <td>2</td>\n",
       "      <td>3</td>\n",
       "      <td>0.0</td>\n",
       "    </tr>\n",
       "    <tr>\n",
       "      <th>2</th>\n",
       "      <td>EmzaQR5hQlF0WIl24NxAZA</td>\n",
       "      <td>2</td>\n",
       "      <td>0</td>\n",
       "      <td>0.0</td>\n",
       "    </tr>\n",
       "    <tr>\n",
       "      <th>3</th>\n",
       "      <td>EmzaQR5hQlF0WIl24NxAZA</td>\n",
       "      <td>2</td>\n",
       "      <td>6</td>\n",
       "      <td>0.0</td>\n",
       "    </tr>\n",
       "    <tr>\n",
       "      <th>4</th>\n",
       "      <td>EmzaQR5hQlF0WIl24NxAZA</td>\n",
       "      <td>4</td>\n",
       "      <td>0</td>\n",
       "      <td>0.0</td>\n",
       "    </tr>\n",
       "  </tbody>\n",
       "</table>\n",
       "</div>"
      ],
      "text/plain": [
       "              business_id  stars  votes.useful  service\n",
       "0  EmzaQR5hQlF0WIl24NxAZA      3             1      0.0\n",
       "1  EmzaQR5hQlF0WIl24NxAZA      2             3      0.0\n",
       "2  EmzaQR5hQlF0WIl24NxAZA      2             0      0.0\n",
       "3  EmzaQR5hQlF0WIl24NxAZA      2             6      0.0\n",
       "4  EmzaQR5hQlF0WIl24NxAZA      4             0      0.0"
      ]
     },
     "execution_count": 297,
     "metadata": {},
     "output_type": "execute_result"
    }
   ],
   "source": [
    "reviews_joined.drop('user_id', axis=1, inplace=True)\n",
    "reviews_joined.head()"
   ]
  },
  {
   "cell_type": "code",
   "execution_count": 298,
   "metadata": {
    "collapsed": false
   },
   "outputs": [
    {
     "data": {
      "text/plain": [
       "<matplotlib.collections.PathCollection at 0x1543f3c50>"
      ]
     },
     "execution_count": 298,
     "metadata": {},
     "output_type": "execute_result"
    },
    {
     "data": {
      "image/png": "[encoded data removed]",
      "text/plain": [
       "<matplotlib.figure.Figure at 0x1542baf90>"
      ]
     },
     "metadata": {
      "image/png": {
       "height": 258,
       "width": 368
      }
     },
     "output_type": "display_data"
    }
   ],
   "source": [
    "# haha, OK this graph is not helpful.\n",
    "plt.scatter(reviews_joined['service'],reviews_joined['stars'], alpha = 0.01)"
   ]
  },
  {
   "cell_type": "code",
   "execution_count": 299,
   "metadata": {
    "collapsed": false
   },
   "outputs": [
    {
     "data": {
      "text/plain": [
       "[<matplotlib.text.Text at 0x13067e7d0>,\n",
       " <matplotlib.text.Text at 0x13068f590>,\n",
       " <matplotlib.text.Text at 0x162df3a10>,\n",
       " <matplotlib.text.Text at 0x162dff190>,\n",
       " <matplotlib.text.Text at 0x162dff8d0>,\n",
       " <matplotlib.text.Text at 0x163a79050>,\n",
       " <matplotlib.text.Text at 0x163a79790>,\n",
       " <matplotlib.text.Text at 0x163a79ed0>,\n",
       " <matplotlib.text.Text at 0x163a84650>]"
      ]
     },
     "execution_count": 299,
     "metadata": {},
     "output_type": "execute_result"
    },
    {
     "data": {
      "image/png": "[encoded data removed]",
      "text/plain": [
       "<matplotlib.figure.Figure at 0x15439e4d0>"
      ]
     },
     "metadata": {
      "image/png": {
       "height": 427,
       "width": 520
      }
     },
     "output_type": "display_data"
    }
   ],
   "source": [
    "fig = plt.figure(figsize=(8,6))\n",
    "ax = fig.gca()\n",
    "ax.hist([\n",
    "        reviews_joined['stars'][reviews_joined['service'] == 1],\n",
    "        reviews_joined['stars'][reviews_joined['service'] == 0]\n",
    "        ], \n",
    "        color=['lightsalmon','goldenrod'], stacked=False, \n",
    "        label=['Service ratings','Non-service ratings'])\n",
    "\n",
    "ax.set_xlabel('Stars', style='italic', rotation=30)\n",
    "ax.set_ylabel('Number of reviews', style='italic', rotation=90, color='mediumaquamarine')\n",
    "ax.set_title('Number of reviews by Star, \\nsplit by service and non-service ratings', \n",
    "             fontsize=16, weight='bold', color='r')\n",
    "ax.legend()\n",
    "ax.set_xticklabels(['1','','2','','3','','4','','5'],rotation=30, style='oblique', \n",
    "                   animated=True, backgroundcolor='y', verticalalignment='top')"
   ]
  },
  {
   "cell_type": "code",
   "execution_count": 300,
   "metadata": {
    "collapsed": false
   },
   "outputs": [
    {
     "data": {
      "text/plain": [
       "(7455, 4)"
      ]
     },
     "execution_count": 300,
     "metadata": {},
     "output_type": "execute_result"
    }
   ],
   "source": [
    "reviews_gb = reviews_joined.groupby(['business_id','service']).mean()\n",
    "reviews_gb.reset_index(inplace=True)\n",
    "reviews_gb.shape"
   ]
  },
  {
   "cell_type": "code",
   "execution_count": 301,
   "metadata": {
    "collapsed": false
   },
   "outputs": [
    {
     "data": {
      "text/html": [
       "<div>\n",
       "<table border=\"1\" class=\"dataframe\">\n",
       "  <thead>\n",
       "    <tr style=\"text-align: right;\">\n",
       "      <th></th>\n",
       "      <th>business_id</th>\n",
       "      <th>service</th>\n",
       "      <th>stars</th>\n",
       "      <th>votes.useful</th>\n",
       "    </tr>\n",
       "  </thead>\n",
       "  <tbody>\n",
       "    <tr>\n",
       "      <th>0</th>\n",
       "      <td>--jFTZmywe7StuZ2hEjxyA</td>\n",
       "      <td>0.0</td>\n",
       "      <td>4.000000</td>\n",
       "      <td>0.50</td>\n",
       "    </tr>\n",
       "    <tr>\n",
       "      <th>1</th>\n",
       "      <td>--jFTZmywe7StuZ2hEjxyA</td>\n",
       "      <td>1.0</td>\n",
       "      <td>3.000000</td>\n",
       "      <td>4.00</td>\n",
       "    </tr>\n",
       "    <tr>\n",
       "      <th>2</th>\n",
       "      <td>-0HGqwlfw3I8nkJyMHxAsQ</td>\n",
       "      <td>0.0</td>\n",
       "      <td>2.857143</td>\n",
       "      <td>0.00</td>\n",
       "    </tr>\n",
       "    <tr>\n",
       "      <th>3</th>\n",
       "      <td>-0HGqwlfw3I8nkJyMHxAsQ</td>\n",
       "      <td>1.0</td>\n",
       "      <td>3.500000</td>\n",
       "      <td>0.50</td>\n",
       "    </tr>\n",
       "    <tr>\n",
       "      <th>4</th>\n",
       "      <td>-0VK5Z1BfUHUYq4PoBYNLw</td>\n",
       "      <td>0.0</td>\n",
       "      <td>3.750000</td>\n",
       "      <td>0.25</td>\n",
       "    </tr>\n",
       "  </tbody>\n",
       "</table>\n",
       "</div>"
      ],
      "text/plain": [
       "              business_id  service     stars  votes.useful\n",
       "0  --jFTZmywe7StuZ2hEjxyA      0.0  4.000000          0.50\n",
       "1  --jFTZmywe7StuZ2hEjxyA      1.0  3.000000          4.00\n",
       "2  -0HGqwlfw3I8nkJyMHxAsQ      0.0  2.857143          0.00\n",
       "3  -0HGqwlfw3I8nkJyMHxAsQ      1.0  3.500000          0.50\n",
       "4  -0VK5Z1BfUHUYq4PoBYNLw      0.0  3.750000          0.25"
      ]
     },
     "execution_count": 301,
     "metadata": {},
     "output_type": "execute_result"
    }
   ],
   "source": [
    "avg_stars_per_biz = reviews_gb.groupby(['business_id', 'service']).mean()\n",
    "avg_stars_per_biz.reset_index(inplace=True)\n",
    "avg_stars_per_biz.head()"
   ]
  },
  {
   "cell_type": "code",
   "execution_count": 302,
   "metadata": {
    "collapsed": false
   },
   "outputs": [
    {
     "data": {
      "text/plain": [
       "<matplotlib.collections.PathCollection at 0x163a3e750>"
      ]
     },
     "execution_count": 302,
     "metadata": {},
     "output_type": "execute_result"
    },
    {
     "data": {
      "image/png": "[encoded data removed]",
      "text/plain": [
       "<matplotlib.figure.Figure at 0x154670b50>"
      ]
     },
     "metadata": {
      "image/png": {
       "height": 258,
       "width": 368
      }
     },
     "output_type": "display_data"
    }
   ],
   "source": [
    "# avg per biz\n",
    "plt.scatter(avg_stars_per_biz['service'],avg_stars_per_biz['stars'], alpha = 0.1)"
   ]
  },
  {
   "cell_type": "code",
   "execution_count": 303,
   "metadata": {
    "collapsed": false
   },
   "outputs": [
    {
     "data": {
      "text/plain": [
       "[<matplotlib.text.Text at 0x1546d52d0>,\n",
       " <matplotlib.text.Text at 0x15599d190>,\n",
       " <matplotlib.text.Text at 0x155ec4610>,\n",
       " <matplotlib.text.Text at 0x155ec4d50>,\n",
       " <matplotlib.text.Text at 0x163e454d0>,\n",
       " <matplotlib.text.Text at 0x163e45c10>,\n",
       " <matplotlib.text.Text at 0x163e4e390>,\n",
       " <matplotlib.text.Text at 0x163e4ead0>,\n",
       " <matplotlib.text.Text at 0x163e5a250>]"
      ]
     },
     "execution_count": 303,
     "metadata": {},
     "output_type": "execute_result"
    },
    {
     "data": {
      "image/png": "[encoded data removed]",
      "text/plain": [
       "<matplotlib.figure.Figure at 0x163a3e890>"
      ]
     },
     "metadata": {
      "image/png": {
       "height": 427,
       "width": 504
      }
     },
     "output_type": "display_data"
    }
   ],
   "source": [
    "fig = plt.figure(figsize=(8,6))\n",
    "ax = fig.gca()\n",
    "ax.hist([\n",
    "        avg_stars_per_biz['stars'][avg_stars_per_biz['service'] == 1],\n",
    "        avg_stars_per_biz['stars'][avg_stars_per_biz['service'] == 0],\n",
    "        ], \n",
    "        color=['lightsalmon','goldenrod'], stacked=False, \n",
    "        label=['Service ratings','Non-service ratings'])\n",
    "\n",
    "ax.set_xlabel('Stars', style='italic', rotation=30)\n",
    "ax.set_ylabel('Number of reviews', style='italic', rotation=90, color='mediumaquamarine')\n",
    "ax.set_title('Number of reviews by Star, \\nsplit by service and non-service ratings', \n",
    "             fontsize=16, weight='bold', color='r')\n",
    "ax.legend()\n",
    "ax.set_xticklabels(['1','','2','','3','','4','','5'],rotation=30, style='oblique', \n",
    "                   animated=True, backgroundcolor='y', verticalalignment='top')"
   ]
  },
  {
   "cell_type": "markdown",
   "metadata": {},
   "source": [
    "#### 3. Set up a regression"
   ]
  },
  {
   "cell_type": "code",
   "execution_count": 304,
   "metadata": {
    "collapsed": true
   },
   "outputs": [],
   "source": [
    "# huh, that looks like a pattern. I wonder if I could find a relationship\n",
    "# between service/non-service ratings AND whether ratings are 4 or more stars?"
   ]
  },
  {
   "cell_type": "code",
   "execution_count": 305,
   "metadata": {
    "collapsed": false
   },
   "outputs": [],
   "source": [
    "# set up a regression\n",
    "y = avg_stars_per_biz['stars'].map(lambda x: 1 if x>=4 else 0)\n",
    "\n",
    "X = avg_stars_per_biz[['service','votes.useful']]\n",
    "\n",
    "ss = StandardScaler()\n",
    "X_norm = ss.fit_transform(X)\n",
    "\n",
    "# initialize and fit model\n",
    "lrcv = LogisticRegressionCV(Cs=[0.1, 0.5, 1], cv=4)\n",
    "model = lrcv.fit(X_norm, y)\n"
   ]
  },
  {
   "cell_type": "code",
   "execution_count": 306,
   "metadata": {
    "collapsed": false
   },
   "outputs": [
    {
     "name": "stdout",
     "output_type": "stream",
     "text": [
      "[[ 0.43078364  0.05729083]] \n",
      "\n",
      "0.609255533199 \n",
      "\n",
      "{1: array([[ 0.6110515 ,  0.61266094,  0.61266094],\n",
      "       [ 0.61373391,  0.61319742,  0.61319742],\n",
      "       [ 0.60354077,  0.60085837,  0.60139485],\n",
      "       [ 0.60923242,  0.60869565,  0.60815888]])} \n",
      "\n",
      "[[ 0.71035046  0.28964954]\n",
      " [ 0.46078847  0.53921153]\n",
      " [ 0.71583694  0.28416306]\n",
      " ..., \n",
      " [ 0.50093396  0.49906604]\n",
      " [ 0.70673872  0.29326128]\n",
      " [ 0.51433875  0.48566125]]\n"
     ]
    }
   ],
   "source": [
    "print model.coef_, '\\n'\n",
    "print model.score(X_norm, y), '\\n'\n",
    "print model.scores_, '\\n'\n",
    "probabilities = model.predict_proba(X_norm)\n",
    "print probabilities\n",
    "predictions = model.predict(X_norm)"
   ]
  },
  {
   "cell_type": "code",
   "execution_count": 307,
   "metadata": {
    "collapsed": false
   },
   "outputs": [
    {
     "name": "stdout",
     "output_type": "stream",
     "text": [
      "             precision    recall  f1-score   support\n",
      "\n",
      "          0       0.63      0.88      0.73      4572\n",
      "          1       0.49      0.18      0.26      2883\n",
      "\n",
      "avg / total       0.57      0.61      0.55      7455\n",
      "\n",
      "Predicted     0     1   All\n",
      "Actual                     \n",
      "0          4031   541  4572\n",
      "1          2372   511  2883\n",
      "All        6403  1052  7455\n"
     ]
    }
   ],
   "source": [
    "from sklearn.metrics import classification_report\n",
    "\n",
    "creport = classification_report(y, predictions)\n",
    "print creport\n",
    "\n",
    "df_confusion = pd.crosstab(y, predictions, rownames=['Actual'], \n",
    "                           colnames=['Predicted'], margins=True)\n",
    "\n",
    "print df_confusion\n"
   ]
  },
  {
   "cell_type": "code",
   "execution_count": 308,
   "metadata": {
    "collapsed": false,
    "scrolled": true
   },
   "outputs": [
    {
     "data": {
      "image/png": "[encoded data removed]",
      "text/plain": [
       "<matplotlib.figure.Figure at 0x1642e8110>"
      ]
     },
     "metadata": {
      "image/png": {
       "height": 572,
       "width": 677
      }
     },
     "output_type": "display_data"
    }
   ],
   "source": [
    "\n",
    "from sklearn.metrics import roc_curve, auc\n",
    "import matplotlib.pyplot as plt\n",
    "plt.style.use('seaborn-white')\n",
    "%matplotlib inline\n",
    "\n",
    "# [insert explanation of this section -- what is this for?  Where do we use this later?]\n",
    "Y_score = model.decision_function(X)\n",
    "\n",
    "# [insert explanation of this section -- why do we use these?]\n",
    "FPR = dict()\n",
    "TPR = dict()\n",
    "ROC_AUC = dict()\n",
    "\n",
    "# [insert explanation of this section]\n",
    "FPR[1], TPR[1], _ = roc_curve(y, probabilities[:, 1])\n",
    "ROC_AUC[1] = auc(FPR[1], TPR[1])\n",
    "\n",
    "# [insert explanation of this section -- what is being plotted?  Which elements are data driven?  Which elements are purely visual?]\n",
    "plt.figure(figsize=[11,9])\n",
    "plt.plot(FPR[1], TPR[1], label='ROC curve (area = %0.2f)' % ROC_AUC[1], linewidth=4)\n",
    "plt.plot([0, 1], [0, 1], 'k--', linewidth=4)\n",
    "plt.xlim([0.0, 1.0])\n",
    "plt.ylim([0.0, 1.05])\n",
    "plt.xlabel('False Positive Rate', fontsize=18)\n",
    "plt.ylabel('True Positive Rate', fontsize=18)\n",
    "plt.title('Receiver operating characteristic for \"High rating or not\" predictions', fontsize=18)\n",
    "plt.legend(loc=\"lower right\")\n",
    "plt.show()"
   ]
  },
  {
   "cell_type": "code",
   "execution_count": null,
   "metadata": {
    "collapsed": false
   },
   "outputs": [],
   "source": [
    "# Conclusion:\n",
    "'''Accuracy of this model is not fantastic, at .60 ish. On top of that,\n",
    "precision for '1' is not fantastic (precision is TP/(TP+FP) - of the ones I said\n",
    "were higher ratings, how often was I right? Same with recall, which is TP/(TP + FN), \n",
    "which means of the ones that were ACTUALLY a high rating, which ones did I get right.\n",
    "I got only 18% of those correct> They are not fantastic numbers.  The ROC curve doesnt\n",
    "look fantastic either.\n",
    "\n",
    "I chose to use 'service' and also 'votes useful' as my predictors.  It turns out that\n",
    "whether a business has any service oriented reviews seems related to its overall\n",
    "average rating. ie. whether a business has service-oriented reviews, at a coefficient\n",
    "of 0.43, seems to make a difference in whether the rating is high (4 or above) or not.\n",
    "\n",
    "\n",
    "'''\n"
   ]
  },
  {
   "cell_type": "code",
   "execution_count": 309,
   "metadata": {
    "collapsed": false
   },
   "outputs": [],
   "source": [
    "corrs = X.corr()"
   ]
  },
  {
   "cell_type": "code",
   "execution_count": 310,
   "metadata": {
    "collapsed": false
   },
   "outputs": [
    {
     "data": {
      "image/png": "[encoded data removed]",
      "text/plain": [
       "<matplotlib.figure.Figure at 0x1642dee50>"
      ]
     },
     "metadata": {
      "image/png": {
       "height": 365,
       "width": 453
      }
     },
     "output_type": "display_data"
    }
   ],
   "source": [
    "fig = plt.figure(figsize=(8,6))\n",
    "ax = sns.heatmap(corrs)\n",
    "\n",
    "# conclusion here - the two variables are not highly correlated, whew."
   ]
  },
  {
   "cell_type": "markdown",
   "metadata": {},
   "source": [
    "<img src=\"http://imgur.com/l5NasQj.png\" style=\"float: left; margin: 25px 15px 0px 0px; height: 25px\">\n",
    "\n",
    "## 3. Identifying \"elite\" users\n",
    "\n",
    "---\n",
    "\n",
    "Yelp, though having their own formula for determining whether a user is elite or not, is interested in delving deeper into what differentiates an elite user from a normal user at a broader level.\n",
    "\n",
    "Use a classification model to predict whether a user is elite or not. Note that users can be elite in some years and not in others.\n",
    "\n",
    "1. What things predict well whether a user is elite or not?\n",
    "- Validate the model.\n",
    "- If you were to remove the \"counts\" metrics for users (reviews, votes, compliments), what distinguishes an elite user, if anything? Validate the model and compare it to the one with the count variables.\n",
    "- Think of a way to visually represent your results in a compelling way.\n",
    "- Give a brief write-up of your findings.\n"
   ]
  },
  {
   "cell_type": "code",
   "execution_count": null,
   "metadata": {
    "collapsed": true
   },
   "outputs": [],
   "source": []
  },
  {
   "cell_type": "markdown",
   "metadata": {},
   "source": [
    "<img src=\"http://imgur.com/GCAf1UX.png\" style=\"float: left; margin: 25px 15px 0px 0px; height: 25px\">\n",
    "\n",
    "## 4. Find something interesting on your own\n",
    "\n",
    "---\n",
    "\n",
    "You want to impress your superiors at Yelp by doing some investigation into the data on your own. You want to do classification, but you're not sure on what.\n",
    "\n",
    "1. Create a hypothesis or hypotheses about the data based on whatever you are interested in, as long as it is predicting a category of some kind (classification).\n",
    "2. Explore the data visually (ideally related to this hypothesis).\n",
    "3. Build one or more classification models to predict your target variable. **Your modeling should include gridsearching to find optimal model parameters.**\n",
    "4. Evaluate the performance of your model. Explain why your model may have chosen those specific parameters during the gridsearch process.\n",
    "5. Write up what the model tells you. Does it validate or invalidate your hypothesis? Write this up as if for a non-technical audience."
   ]
  },
  {
   "cell_type": "code",
   "execution_count": null,
   "metadata": {
    "collapsed": true
   },
   "outputs": [],
   "source": []
  },
  {
   "cell_type": "markdown",
   "metadata": {},
   "source": [
    "<img src=\"http://imgur.com/GCAf1UX.png\" style=\"float: left; margin: 25px 15px 0px 0px; height: 25px\">\n",
    "\n",
    "## 5. ROC and Precision-recall\n",
    "\n",
    "---\n",
    "\n",
    "Some categories have fewer overall businesses than others. Choose two categories of businesses to predict, one that makes your proportion of target classes as even as possible, and another that has very few businesses and thus makes the target varible imbalanced.\n",
    "\n",
    "1. Create two classification models predicting these categories. Optimize the models and choose variables as you see fit.\n",
    "- Make confusion matrices for your models. Describe the confusion matrices and explain what they tell you about your models' performance.\n",
    "- Make ROC curves for both models. What do the ROC curves describe and what do they tell you about your model?\n",
    "- Make Precision-Recall curves for the models. What do they describe? How do they compare to the ROC curves?\n",
    "- Explain when Precision-Recall may be preferable to ROC. Is that the case in either of your models?"
   ]
  },
  {
   "cell_type": "code",
   "execution_count": null,
   "metadata": {
    "collapsed": true
   },
   "outputs": [],
   "source": []
  }
 ],
 "metadata": {
  "anaconda-cloud": {},
  "kernelspec": {
   "display_name": "Python [dsi]",
   "language": "python",
   "name": "Python [dsi]"
  },
  "language_info": {
   "codemirror_mode": {
    "name": "ipython",
    "version": 2
   },
   "file_extension": ".py",
   "mimetype": "text/x-python",
   "name": "python",
   "nbconvert_exporter": "python",
   "pygments_lexer": "ipython2",
   "version": "2.7.12"
  }
 },
 "nbformat": 4,
 "nbformat_minor": 0
}
