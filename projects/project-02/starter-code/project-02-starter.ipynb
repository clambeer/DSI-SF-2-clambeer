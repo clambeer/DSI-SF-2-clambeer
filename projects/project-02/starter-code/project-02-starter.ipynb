{
 "cells": [
  {
   "cell_type": "markdown",
   "metadata": {},
   "source": [
    "<img src=\"http://imgur.com/1ZcRyrc.png\" style=\"float: left; margin: 15px; height: 80px\">\n",
    "\n",
    "# Project 2\n",
    "\n",
    "### Exploratory Data Analysis (EDA)\n",
    "\n",
    "---\n",
    "\n",
    "This project is focused on exploratory data analysis, oft referred to as EDA. EDA is an essential part of the data science analysis pipeline. Failure to perform EDA before modeling is almost guaranteed to lead to pitfalls and faulty conclusions. What you do in this project are good practices for all projects going forward, especially those beyond this class!\n",
    "\n",
    "---\n",
    "\n",
    "This lab includes a variety of plotting problems. Much of the plotting code will be left up to you to find either in the lecture notes, or if not there, online. There are massive amounts of code snippets either in documentation or sites like stackoverflow that have almost certainly done what you are trying to do.\n",
    "\n",
    "**Get used to using google for finding code!** You will be using it every single day as a data scientist, especially for visualization and plotting.\n",
    "\n",
    "#### Package imports"
   ]
  },
  {
   "cell_type": "code",
   "execution_count": 579,
   "metadata": {
    "collapsed": true
   },
   "outputs": [],
   "source": [
    "import numpy as np\n",
    "import scipy.stats as stats\n",
    "import csv\n",
    "import pandas as pd\n",
    "import matplotlib.pyplot as plt\n",
    "import seaborn as sns\n",
    "\n",
    "# this line tells jupyter notebook to put the plots in the notebook \n",
    "# rather than saving them to file.\n",
    "%matplotlib inline\n",
    "\n",
    "# this line makes plots prettier on mac retina screens. If you don't \n",
    "# have one it shouldn't do anything.\n",
    "%config InlineBackend.figure_format = 'retina'"
   ]
  },
  {
   "cell_type": "markdown",
   "metadata": {},
   "source": [
    "<img src=\"http://imgur.com/l5NasQj.png\" style=\"float: left; margin: 25px 15px 0px 0px; height: 25px\">\n",
    "\n",
    "## 1. Load the `sat_scores.csv` dataset and describe it\n",
    "\n",
    "---\n",
    "\n",
    "You should replace the placeholder path to the `sat_scores.csv` dataset below with your specific path to the file.\n",
    "\n",
    "### 1.1 Load the file with the `csv` module and put in dictionary format.\n",
    "\n",
    "The dictionary format for data will be keys as the column names/headers, and values as the row values for that column.\n",
    "\n",
    "Toy example:\n",
    "```python\n",
    "data = {\n",
    "    'column1':[0,1,2,3],\n",
    "    'column2':['a','b','c','d']\n",
    "    }\n",
    "```"
   ]
  },
  {
   "cell_type": "code",
   "execution_count": 580,
   "metadata": {
    "collapsed": false,
    "scrolled": true
   },
   "outputs": [
    {
     "name": "stdout",
     "output_type": "stream",
     "text": [
      "{'Math': [510, 513, 515, 505, 516, 499, 499, 506, 500, 501, 499, 510, 499, 489, 501, 488, 474, 526, 499, 527, 499, 515, 510, 517, 525, 515, 542, 439, 539, 512, 542, 553, 542, 589, 550, 545, 572, 589, 580, 554, 568, 561, 577, 562, 596, 550, 570, 603, 582, 599, 551, 514], 'State': ['CT', 'NJ', 'MA', 'NY', 'NH', 'RI', 'PA', 'VT', 'ME', 'VA', 'DE', 'MD', 'NC', 'GA', 'IN', 'SC', 'DC', 'OR', 'FL', 'WA', 'TX', 'HI', 'AK', 'CA', 'AZ', 'NV', 'CO', 'OH', 'MT', 'WV', 'ID', 'TN', 'NM', 'IL', 'KY', 'WY', 'MI', 'MN', 'KS', 'AL', 'NE', 'OK', 'MO', 'LA', 'WI', 'AR', 'UT', 'IA', 'SD', 'ND', 'MS', 'All'], 'Rate': [82, 81, 79, 77, 72, 71, 71, 69, 69, 68, 67, 65, 65, 63, 60, 57, 56, 55, 54, 53, 53, 52, 51, 51, 34, 33, 31, 26, 23, 18, 17, 13, 13, 12, 12, 11, 11, 9, 9, 9, 8, 8, 8, 7, 6, 6, 5, 5, 4, 4, 4, 45], 'Verbal': [509, 499, 511, 495, 520, 501, 500, 511, 506, 510, 501, 508, 493, 491, 499, 486, 482, 526, 498, 527, 493, 485, 514, 498, 523, 509, 539, 534, 539, 527, 543, 562, 551, 576, 550, 547, 561, 580, 577, 559, 562, 567, 577, 564, 584, 562, 575, 593, 577, 592, 566, 506]}\n"
     ]
    }
   ],
   "source": [
    "sat_filepath = '/Users/Cecilia/Desktop/DSI-SF-2-clambeer/datasets/state_sat_scores/sat_scores.csv'\n",
    "with open(sat_filepath, 'r') as f:\n",
    "    reader = csv.reader(f)\n",
    "    header_list = []\n",
    "    data_list = []\n",
    "    for index, line in enumerate(reader):\n",
    "        if index==0:\n",
    "            header_list = line\n",
    "        else:\n",
    "            data_list.append(line)\n",
    "\n",
    "# print header_list\n",
    "# print '\\n',data_list\n",
    "\n",
    "data_dict = { \n",
    "    header :\n",
    "    [ \n",
    "    int(row[header_row])\n",
    "    if row[header_row].isdigit()\n",
    "    else row[header_row]\n",
    "        \n",
    "    for row in data_list\n",
    "    ]\n",
    "    for header_row, header in enumerate(header_list)\n",
    "}\n",
    "\n",
    "print data_dict\n",
    "# testing reader vs. file.read        \n",
    "# with open(sat_filepath, 'r') as f:\n",
    "#     read_reader = f.read()\n",
    "#     print read_reader\n",
    "# readlines does the same as read but it splits the lines"
   ]
  },
  {
   "cell_type": "markdown",
   "metadata": {},
   "source": [
    "### 1.2 Make a pandas DataFrame object with the sat dictionary and also with the pandas `.read_csv()` function\n",
    "\n",
    "Compare the DataFrames using the `.dtypes` attribute in the DataFrame objects. What is the difference between loading from file and inputting this dictionary (if any)?"
   ]
  },
  {
   "cell_type": "code",
   "execution_count": 581,
   "metadata": {
    "collapsed": false
   },
   "outputs": [
    {
     "name": "stdout",
     "output_type": "stream",
     "text": [
      "    Math  Rate State  Verbal\n",
      "0    510    82    CT     509\n",
      "1    513    81    NJ     499\n",
      "2    515    79    MA     511\n",
      "3    505    77    NY     495\n",
      "4    516    72    NH     520\n",
      "5    499    71    RI     501\n",
      "6    499    71    PA     500\n",
      "7    506    69    VT     511\n",
      "8    500    69    ME     506\n",
      "9    501    68    VA     510\n",
      "10   499    67    DE     501\n",
      "11   510    65    MD     508\n",
      "12   499    65    NC     493\n",
      "13   489    63    GA     491\n",
      "14   501    60    IN     499\n",
      "15   488    57    SC     486\n",
      "16   474    56    DC     482\n",
      "17   526    55    OR     526\n",
      "18   499    54    FL     498\n",
      "19   527    53    WA     527\n",
      "20   499    53    TX     493\n",
      "21   515    52    HI     485\n",
      "22   510    51    AK     514\n",
      "23   517    51    CA     498\n",
      "24   525    34    AZ     523\n",
      "25   515    33    NV     509\n",
      "26   542    31    CO     539\n",
      "27   439    26    OH     534\n",
      "28   539    23    MT     539\n",
      "29   512    18    WV     527\n",
      "30   542    17    ID     543\n",
      "31   553    13    TN     562\n",
      "32   542    13    NM     551\n",
      "33   589    12    IL     576\n",
      "34   550    12    KY     550\n",
      "35   545    11    WY     547\n",
      "36   572    11    MI     561\n",
      "37   589     9    MN     580\n",
      "38   580     9    KS     577\n",
      "39   554     9    AL     559\n",
      "40   568     8    NE     562\n",
      "41   561     8    OK     567\n",
      "42   577     8    MO     577\n",
      "43   562     7    LA     564\n",
      "44   596     6    WI     584\n",
      "45   550     6    AR     562\n",
      "46   570     5    UT     575\n",
      "47   603     5    IA     593\n",
      "48   582     4    SD     577\n",
      "49   599     4    ND     592\n",
      "50   551     4    MS     566\n",
      "51   514    45   All     506\n"
     ]
    }
   ],
   "source": [
    "# creating a dataframe from the data_dict sat dictionary created above\n",
    "df_dict = pd.DataFrame(data_dict)\n",
    "print df_dict"
   ]
  },
  {
   "cell_type": "code",
   "execution_count": 582,
   "metadata": {
    "collapsed": false
   },
   "outputs": [
    {
     "name": "stdout",
     "output_type": "stream",
     "text": [
      "State     object\n",
      "Rate       int64\n",
      "Verbal     int64\n",
      "Math       int64\n",
      "dtype: object\n",
      "<class 'pandas.core.frame.DataFrame'>\n",
      "   State  Rate  Verbal  Math\n",
      "0     CT    82     509   510\n",
      "1     NJ    81     499   513\n",
      "2     MA    79     511   515\n",
      "3     NY    77     495   505\n",
      "4     NH    72     520   516\n",
      "5     RI    71     501   499\n",
      "6     PA    71     500   499\n",
      "7     VT    69     511   506\n",
      "8     ME    69     506   500\n",
      "9     VA    68     510   501\n",
      "10    DE    67     501   499\n",
      "11    MD    65     508   510\n",
      "12    NC    65     493   499\n",
      "13    GA    63     491   489\n",
      "14    IN    60     499   501\n",
      "15    SC    57     486   488\n",
      "16    DC    56     482   474\n",
      "17    OR    55     526   526\n",
      "18    FL    54     498   499\n",
      "19    WA    53     527   527\n",
      "20    TX    53     493   499\n",
      "21    HI    52     485   515\n",
      "22    AK    51     514   510\n",
      "23    CA    51     498   517\n",
      "24    AZ    34     523   525\n",
      "25    NV    33     509   515\n",
      "26    CO    31     539   542\n",
      "27    OH    26     534   439\n",
      "28    MT    23     539   539\n",
      "29    WV    18     527   512\n",
      "30    ID    17     543   542\n",
      "31    TN    13     562   553\n",
      "32    NM    13     551   542\n",
      "33    IL    12     576   589\n",
      "34    KY    12     550   550\n",
      "35    WY    11     547   545\n",
      "36    MI    11     561   572\n",
      "37    MN     9     580   589\n",
      "38    KS     9     577   580\n",
      "39    AL     9     559   554\n",
      "40    NE     8     562   568\n",
      "41    OK     8     567   561\n",
      "42    MO     8     577   577\n",
      "43    LA     7     564   562\n",
      "44    WI     6     584   596\n",
      "45    AR     6     562   550\n",
      "46    UT     5     575   570\n",
      "47    IA     5     593   603\n",
      "48    SD     4     577   582\n",
      "49    ND     4     592   599\n",
      "50    MS     4     566   551\n",
      "51   All    45     506   514\n"
     ]
    }
   ],
   "source": [
    "# creating a dataframe through read_csv:\n",
    "df = pd.read_csv(sat_filepath)\n",
    "print df.dtypes\n",
    "print type(df)\n",
    "print df\n",
    "# going through csv/dictionary:\n",
    "# - takes longer.\n",
    "# - the order changes because dictionaries don't have order\n",
    "# - all items end up as strings unless you convert them\n",
    "#\n",
    "# going through dataframe:\n",
    "# - is a lot easier\n",
    "# - ends up in series / dataframe format\n",
    "# - pandas tries to figure out what types the objects are, so \n",
    "#   rate, verbal, and math end up as int64s."
   ]
  },
  {
   "cell_type": "markdown",
   "metadata": {},
   "source": [
    "If you did not convert the string column values to float in your dictionary, the columns in the DataFrame are of type `object` (which are string values, essentially). "
   ]
  },
  {
   "cell_type": "markdown",
   "metadata": {},
   "source": [
    "### 1.3 Look at the first ten rows of the DataFrame and describe what the data appears to be. \n",
    "\n",
    "From now on, use the DataFrame loaded from the file using the `.read_csv()` function.\n",
    "\n",
    "Use the `.head(num)` built-in DataFrame function, where `num` is the number of rows to print out.\n",
    "\n",
    "You are not given a \"codebook\" with this data, so you will have to make some (very minor) inference."
   ]
  },
  {
   "cell_type": "code",
   "execution_count": 583,
   "metadata": {
    "collapsed": false
   },
   "outputs": [
    {
     "name": "stdout",
     "output_type": "stream",
     "text": [
      "            Rate      Verbal        Math\n",
      "count  52.000000   52.000000   52.000000\n",
      "mean   37.153846  532.019231  531.500000\n",
      "std    27.301788   33.236225   36.014975\n",
      "min     4.000000  482.000000  439.000000\n",
      "25%     9.000000  501.000000  504.000000\n",
      "50%    33.500000  526.500000  521.000000\n",
      "75%    63.500000  562.000000  555.750000\n",
      "max    82.000000  593.000000  603.000000\n",
      "<class 'pandas.core.frame.DataFrame'>\n",
      "RangeIndex: 52 entries, 0 to 51\n",
      "Data columns (total 4 columns):\n",
      "State     52 non-null object\n",
      "Rate      52 non-null int64\n",
      "Verbal    52 non-null int64\n",
      "Math      52 non-null int64\n",
      "dtypes: int64(3), object(1)\n",
      "memory usage: 1.7+ KB\n"
     ]
    }
   ],
   "source": [
    "df.head(10)\n",
    "\n",
    "# this looks like the average SAT score by state, with a rate. Rate seems to be \n",
    "# something like rate_that_students_take_the_test or something similar. DC \n",
    "# is included as a state, and there is a row \"All\".\n",
    "\n",
    "\n",
    "df.tail()\n",
    "print df.describe()\n",
    "df.columns\n",
    "df.State.value_counts()\n",
    "# 50 states, plus \"All\" and \"DC\"\n",
    "\n",
    "df.info()"
   ]
  },
  {
   "cell_type": "markdown",
   "metadata": {},
   "source": [
    "<img src=\"http://imgur.com/l5NasQj.png\" style=\"float: left; margin: 25px 15px 0px 0px; height: 25px\">\n",
    "\n",
    "## 2. Create a \"data dictionary\" based on the data\n",
    "\n",
    "---\n",
    "\n",
    "A data dictionary is an object that describes your data. This should contain the name of each variable (column), the type of the variable, your description of what the variable is, and the shape (rows and columns) of the entire dataset."
   ]
  },
  {
   "cell_type": "code",
   "execution_count": 584,
   "metadata": {
    "collapsed": false
   },
   "outputs": [
    {
     "data": {
      "text/plain": [
       "' \\nState \\nType: Object\\nDescription: This is the state. You can also include DC and have a line for All.\\n\\nMath\\nType: Int64\\nDescription: Average SAT Math score for the state\\n\\nVerbal\\nType: Int64\\nDescription: Average SAT Verbal score for the state\\n\\nRate\\nType: Int64\\nDescription: Percent of high-school juniors that take the SAT \\n\\nShape of the dataset:\\n52 rows, 4 columns\\n'"
      ]
     },
     "execution_count": 584,
     "metadata": {},
     "output_type": "execute_result"
    }
   ],
   "source": [
    "# data_dictionary = {\n",
    "#     'State' : {\n",
    "#         'Type' : 'object',\n",
    "#         'Description' : \n",
    "#     }\n",
    "# }\n",
    "\"\"\" \n",
    "State \n",
    "Type: Object\n",
    "Description: This is the state. You can also include DC and have a line for All.\n",
    "\n",
    "Math\n",
    "Type: Int64\n",
    "Description: Average SAT Math score for the state\n",
    "\n",
    "Verbal\n",
    "Type: Int64\n",
    "Description: Average SAT Verbal score for the state\n",
    "\n",
    "Rate\n",
    "Type: Int64\n",
    "Description: Percent of high-school juniors that take the SAT \n",
    "\n",
    "Shape of the dataset:\n",
    "52 rows, 4 columns\n",
    "\"\"\""
   ]
  },
  {
   "cell_type": "markdown",
   "metadata": {},
   "source": [
    "<img src=\"http://imgur.com/l5NasQj.png\" style=\"float: left; margin: 25px 15px 0px 0px; height: 25px\">\n",
    "\n",
    "## 3. Plot the data using seaborn\n",
    "\n",
    "---\n",
    "\n",
    "### 3.1 Using seaborn's `distplot`, plot the distributions for each of `Rate`, `Math`, and `Verbal`\n",
    "\n",
    "Set the keyword argument `kde=False`. This way you can actually see the counts within bins. You can adjust the number of bins to your liking. \n",
    "\n",
    "[Please read over the `distplot` documentation to learn about the arguments and fine-tune your chart if you want.](https://stanford.edu/~mwaskom/software/seaborn/generated/seaborn.distplot.html#seaborn.distplot)"
   ]
  },
  {
   "cell_type": "code",
   "execution_count": 585,
   "metadata": {
    "collapsed": false
   },
   "outputs": [
    {
     "data": {
      "image/png": "[encoded data removed]",
      "text/plain": [
       "<matplotlib.figure.Figure at 0x15812b510>"
      ]
     },
     "metadata": {
      "image/png": {
       "height": 479,
       "width": 469
      }
     },
     "output_type": "display_data"
    }
   ],
   "source": [
    "fig = plt.figure(figsize=(7,7))\n",
    "ax = fig.gca()\n",
    "\n",
    "# Rate\n",
    "ax1 = fig.add_subplot(221)\n",
    "ax1 = sns.distplot(df.Rate,kde=False, bins=15)\n",
    "ax1.set_ylabel('# States')\n",
    "ax1.set_xlabel('% of Juniors Taking SAT')\n",
    "ax1.set_title('By State: Rate of Test \\nTaking Among HS Juniors')\n",
    "\n",
    "ax2 = fig.add_subplot(222)\n",
    "ax2 = sns.distplot(df.Math,kde=False, bins = 10)\n",
    "ax2.set_ylabel('# States')\n",
    "ax2.set_xlabel('SAT Math Score')\n",
    "ax2.set_title('By State: SAT Math Score')\n",
    "\n",
    "ax3 = fig.add_subplot(223)\n",
    "ax2 = sns.distplot(df.Verbal,kde=False, bins = 10)\n",
    "ax2.set_ylabel('# States')\n",
    "ax2.set_xlabel('SAT Verbal Score')\n",
    "ax2.set_title('By State: SAT Verbal Score')\n",
    "\n",
    "plt.tight_layout()"
   ]
  },
  {
   "cell_type": "markdown",
   "metadata": {},
   "source": [
    "### 3.2 Using seaborn's `pairplot`, show the joint distributions for each of `Rate`, `Math`, and `Verbal`\n",
    "\n",
    "Explain what the visualization tells you about your data.\n",
    "\n",
    "[Please read over the `pairplot` documentation to fine-tune your chart.](https://stanford.edu/~mwaskom/software/seaborn/generated/seaborn.pairplot.html#seaborn.pairplot)"
   ]
  },
  {
   "cell_type": "code",
   "execution_count": 586,
   "metadata": {
    "collapsed": false
   },
   "outputs": [
    {
     "data": {
      "text/plain": [
       "<seaborn.axisgrid.PairGrid at 0x191f59410>"
      ]
     },
     "execution_count": 586,
     "metadata": {},
     "output_type": "execute_result"
    },
    {
     "data": {
      "text/plain": [
       "<matplotlib.figure.Figure at 0x164403850>"
      ]
     },
     "metadata": {},
     "output_type": "display_data"
    },
    {
     "data": {
      "image/png": "[encoded data removed]",
      "text/plain": [
       "<matplotlib.figure.Figure at 0x15a0cc510>"
      ]
     },
     "metadata": {
      "image/png": {
       "height": 785,
       "width": 589
      }
     },
     "output_type": "display_data"
    }
   ],
   "source": [
    "fig = plt.figure()\n",
    "\n",
    "sns.pairplot(df, vars=['Math','Verbal','Rate'], hue='State', hue_order=df.State.sort_values(ascending=True))\n",
    "\n",
    "##########################################\n",
    "# go back over this and think about what #\n",
    "# this tells you about the data          #\n",
    "##########################################"
   ]
  },
  {
   "cell_type": "markdown",
   "metadata": {},
   "source": [
    "<img src=\"http://imgur.com/l5NasQj.png\" style=\"float: left; margin: 25px 15px 0px 0px; height: 25px\">\n",
    "\n",
    "## 4. Plot the data using built-in pandas functions.\n",
    "\n",
    "---\n",
    "\n",
    "Pandas is very powerful and contains a variety of nice, built in plotting functions for your data. Read the documentation here to overview and understand the capabilities:\n",
    "\n",
    "http://pandas.pydata.org/pandas-docs/stable/visualization.html\n",
    "\n",
    "### 4.1 Plot a stacked histogram with `Verbal` and `Math` using pandas"
   ]
  },
  {
   "cell_type": "code",
   "execution_count": 587,
   "metadata": {
    "collapsed": false
   },
   "outputs": [
    {
     "data": {
      "text/plain": [
       "<matplotlib.axes._subplots.AxesSubplot at 0x1589fe890>"
      ]
     },
     "execution_count": 587,
     "metadata": {},
     "output_type": "execute_result"
    },
    {
     "data": {
      "text/plain": [
       "<matplotlib.figure.Figure at 0x1589ed350>"
      ]
     },
     "metadata": {},
     "output_type": "display_data"
    },
    {
     "data": {
      "image/png": "[encoded data removed]",
      "text/plain": [
       "<matplotlib.figure.Figure at 0x15f7b3f50>"
      ]
     },
     "metadata": {
      "image/png": {
       "height": 258,
       "width": 390
      }
     },
     "output_type": "display_data"
    }
   ],
   "source": [
    "df_subset = df[['Math','Verbal']]\n",
    "fig = plt.figure()\n",
    "df_subset.plot(kind='hist', stacked=True)\n",
    "\n",
    "########################################\n",
    "# come back to this and try to make    #\n",
    "# histograms with every variation in   #\n",
    "# the above documentation              #\n",
    "########################################"
   ]
  },
  {
   "cell_type": "markdown",
   "metadata": {},
   "source": [
    "### 4.2 Plot `Verbal` and `Math` on the same chart using boxplots\n",
    "\n",
    "What are the benefits of using a boxplot as compared to a scatterplot or a histogram?\n",
    "\n",
    "What's wrong with plotting a box-plot of `Rate` on the same chart as `Math` and `Verbal`?"
   ]
  },
  {
   "cell_type": "code",
   "execution_count": 588,
   "metadata": {
    "collapsed": false
   },
   "outputs": [
    {
     "data": {
      "text/plain": [
       "<matplotlib.axes._subplots.AxesSubplot at 0x1593f8910>"
      ]
     },
     "execution_count": 588,
     "metadata": {},
     "output_type": "execute_result"
    },
    {
     "data": {
      "image/png": "[encoded data removed]",
      "text/plain": [
       "<matplotlib.figure.Figure at 0x15f78bad0>"
      ]
     },
     "metadata": {
      "image/png": {
       "height": 258,
       "width": 372
      }
     },
     "output_type": "display_data"
    }
   ],
   "source": [
    "df_subset.plot.box()\n",
    "\n",
    "########################################\n",
    "# come back to this and try to make    #\n",
    "# histograms with every variation in   #\n",
    "# the above documentation              #\n",
    "########################################"
   ]
  },
  {
   "cell_type": "code",
   "execution_count": 589,
   "metadata": {
    "collapsed": false
   },
   "outputs": [
    {
     "data": {
      "text/plain": [
       "<matplotlib.axes._subplots.AxesSubplot at 0x179da1c10>"
      ]
     },
     "execution_count": 589,
     "metadata": {},
     "output_type": "execute_result"
    },
    {
     "data": {
      "image/png": "[encoded data removed]",
      "text/plain": [
       "<matplotlib.figure.Figure at 0x15ec7e750>"
      ]
     },
     "metadata": {
      "image/png": {
       "height": 258,
       "width": 372
      }
     },
     "output_type": "display_data"
    }
   ],
   "source": [
    "df.plot.box()\n",
    "# in order to show \"Rate\", the scale for Verbal and Math has stretched so much\n",
    "# that they are not useful"
   ]
  },
  {
   "cell_type": "markdown",
   "metadata": {},
   "source": [
    "<img src=\"http://imgur.com/xDpSobf.png\" style=\"float: left; margin: 25px 15px 0px 0px; height: 25px\">\n",
    "\n",
    "### 4.3 Plot `Verbal`, `Math`, and `Rate` appropriately on the same boxplot chart\n",
    "\n",
    "Think about how you might change the variables so that they would make sense on the same chart. Explain your rationale for the choices on the chart. You should strive to make the chart as intuitive as possible. \n"
   ]
  },
  {
   "cell_type": "code",
   "execution_count": 590,
   "metadata": {
    "collapsed": true
   },
   "outputs": [],
   "source": [
    "####################\n",
    "# this one is a \"B\"#\n",
    "####################"
   ]
  },
  {
   "cell_type": "markdown",
   "metadata": {},
   "source": [
    "<img src=\"http://imgur.com/l5NasQj.png\" style=\"float: left; margin: 25px 15px 0px 0px; height: 25px\">\n",
    "\n",
    "## 5. Create and examine subsets of the data\n",
    "\n",
    "---\n",
    "\n",
    "For these questions you will practice **masking** in pandas. Recall that masking uses conditional statements to select portions of your DataFrame (through boolean operations under the hood.)\n",
    "\n",
    "Remember the distinction between DataFrame indexing functions in pandas:\n",
    "\n",
    "    .iloc[row, col] : row and column are specified by index, which are integers\n",
    "    .loc[row, col]  : row and column are specified by string \"labels\" (boolean arrays are allowed; useful for rows)\n",
    "    .ix[row, col]   : row and column indexers can be a mix of labels and integer indices\n",
    "    \n",
    "For detailed reference and tutorial make sure to read over the pandas documentation:\n",
    "\n",
    "http://pandas.pydata.org/pandas-docs/stable/indexing.html\n",
    "\n",
    "\n",
    "\n",
    "### 5.1 Find the list of states that have `Verbal` scores greater than the average of `Verbal` scores across states\n",
    "\n",
    "How many states are above the mean? What does this tell you about the distribution of `Verbal` scores?\n",
    "\n",
    "\n"
   ]
  },
  {
   "cell_type": "code",
   "execution_count": 591,
   "metadata": {
    "collapsed": false
   },
   "outputs": [
    {
     "name": "stdout",
     "output_type": "stream",
     "text": [
      "   State  Rate  Verbal  Math\n",
      "26    CO    31     539   542\n",
      "27    OH    26     534   439\n",
      "28    MT    23     539   539\n",
      "30    ID    17     543   542\n",
      "31    TN    13     562   553\n",
      "32    NM    13     551   542\n",
      "33    IL    12     576   589\n",
      "34    KY    12     550   550\n",
      "35    WY    11     547   545\n",
      "36    MI    11     561   572\n",
      "37    MN     9     580   589\n",
      "38    KS     9     577   580\n",
      "39    AL     9     559   554\n",
      "40    NE     8     562   568\n",
      "41    OK     8     567   561\n",
      "42    MO     8     577   577\n",
      "43    LA     7     564   562\n",
      "44    WI     6     584   596\n",
      "45    AR     6     562   550\n",
      "46    UT     5     575   570\n",
      "47    IA     5     593   603\n",
      "48    SD     4     577   582\n",
      "49    ND     4     592   599\n",
      "50    MS     4     566   551\n",
      "State     24\n",
      "Rate      24\n",
      "Verbal    24\n",
      "Math      24\n",
      "dtype: int64\n"
     ]
    }
   ],
   "source": [
    "# States where Verbal scores > avg Verbal scores for all states\n",
    "avg_verbal_score = df['Verbal'].mean()\n",
    "# print avg_verbal_score\n",
    "\n",
    "condition = df['Verbal'] > avg_verbal_score\n",
    "# print condition\n",
    "\n",
    "# here is the list of states with verbal scores higher than the average\n",
    "print df[condition]\n",
    "\n",
    "print df[condition].count()\n",
    "\n",
    "# there are 24 states above the mean. That means the median is lower than the mean.  \n",
    "# that means the data skews to the right"
   ]
  },
  {
   "cell_type": "code",
   "execution_count": 592,
   "metadata": {
    "collapsed": false
   },
   "outputs": [
    {
     "data": {
      "text/plain": [
       "<matplotlib.axes._subplots.AxesSubplot at 0x1669f6c50>"
      ]
     },
     "execution_count": 592,
     "metadata": {},
     "output_type": "execute_result"
    },
    {
     "data": {
      "image/png": "[encoded data removed]",
      "text/plain": [
       "<matplotlib.figure.Figure at 0x1849abc50>"
      ]
     },
     "metadata": {
      "image/png": {
       "height": 258,
       "width": 385
      }
     },
     "output_type": "display_data"
    }
   ],
   "source": [
    "fig = plt.figure()\n",
    "ax = fig.gca()\n",
    "df['Verbal'].plot.hist(bins=20)\n"
   ]
  },
  {
   "cell_type": "markdown",
   "metadata": {},
   "source": [
    "### 5.2 Find the list of states that have `Verbal` scores greater than the median of `Verbal` scores across states\n",
    "\n",
    "How does this compare to the list of states greater than the mean of `Verbal` scores? Why?"
   ]
  },
  {
   "cell_type": "code",
   "execution_count": 593,
   "metadata": {
    "collapsed": false
   },
   "outputs": [
    {
     "name": "stdout",
     "output_type": "stream",
     "text": [
      "526.5\n",
      "   State  Rate  Verbal  Math\n",
      "19    WA    53     527   527\n",
      "26    CO    31     539   542\n",
      "27    OH    26     534   439\n",
      "28    MT    23     539   539\n",
      "29    WV    18     527   512\n",
      "30    ID    17     543   542\n",
      "31    TN    13     562   553\n",
      "32    NM    13     551   542\n",
      "33    IL    12     576   589\n",
      "34    KY    12     550   550\n",
      "35    WY    11     547   545\n",
      "36    MI    11     561   572\n",
      "37    MN     9     580   589\n",
      "38    KS     9     577   580\n",
      "39    AL     9     559   554\n",
      "40    NE     8     562   568\n",
      "41    OK     8     567   561\n",
      "42    MO     8     577   577\n",
      "43    LA     7     564   562\n",
      "44    WI     6     584   596\n",
      "45    AR     6     562   550\n",
      "46    UT     5     575   570\n",
      "47    IA     5     593   603\n",
      "48    SD     4     577   582\n",
      "49    ND     4     592   599\n",
      "50    MS     4     566   551\n",
      "State     26\n",
      "Rate      26\n",
      "Verbal    26\n",
      "Math      26\n",
      "dtype: int64\n"
     ]
    }
   ],
   "source": [
    "# States where Verbal scores > median Verbal scores for all states\n",
    "median_verbal_score = df['Verbal'].median()\n",
    "print median_verbal_score\n",
    "\n",
    "condition = df['Verbal'] > median_verbal_score\n",
    "# print condition\n",
    "\n",
    "# here is the list of states with verbal scores higher than the median\n",
    "print df[condition]\n",
    "\n",
    "print df[condition].count()\n",
    "\n",
    "# there are 26 states above the median, which should be obvious as there are \n",
    "# 52 entries under State. (There's \"DC\" and also \"all\".) There are more states\n",
    "# above the median than there are states above the mean.  Again this reflects\n",
    "# that the data skews right."
   ]
  },
  {
   "cell_type": "markdown",
   "metadata": {},
   "source": [
    "### 5.3 Create a column that is the difference between the `Verbal` and `Math` scores\n",
    "\n",
    "Specifically, this should be `Verbal - Math`."
   ]
  },
  {
   "cell_type": "code",
   "execution_count": 594,
   "metadata": {
    "collapsed": false
   },
   "outputs": [
    {
     "name": "stdout",
     "output_type": "stream",
     "text": [
      "   State  Rate  Verbal  Math  Verbal - Math\n",
      "0     CT    82     509   510             -1\n",
      "1     NJ    81     499   513            -14\n",
      "2     MA    79     511   515             -4\n",
      "3     NY    77     495   505            -10\n",
      "4     NH    72     520   516              4\n",
      "5     RI    71     501   499              2\n",
      "6     PA    71     500   499              1\n",
      "7     VT    69     511   506              5\n",
      "8     ME    69     506   500              6\n",
      "9     VA    68     510   501              9\n",
      "10    DE    67     501   499              2\n",
      "11    MD    65     508   510             -2\n",
      "12    NC    65     493   499             -6\n",
      "13    GA    63     491   489              2\n",
      "14    IN    60     499   501             -2\n",
      "15    SC    57     486   488             -2\n",
      "16    DC    56     482   474              8\n",
      "17    OR    55     526   526              0\n",
      "18    FL    54     498   499             -1\n",
      "19    WA    53     527   527              0\n"
     ]
    }
   ],
   "source": [
    "df['Verbal - Math'] = df['Verbal'] - df['Math']\n",
    "print df.head(20)"
   ]
  },
  {
   "cell_type": "markdown",
   "metadata": {},
   "source": [
    "### 5.4 Create two new DataFrames showing states with the greatest difference between scores\n",
    "\n",
    "1. Your first DataFrame should be the 10 states with the greatest gap between `Verbal` and `Math` scores where `Verbal` is greater than `Math`. It should be sorted appropriately to show the ranking of states.\n",
    "2. Your second DataFrame will be the inverse: states with the greatest gap between `Verbal` and `Math` such that `Math` is greater than `Verbal`. Again, this should be sorted appropriately to show rank.\n",
    "3. Print the header of both variables, only showing the top 3 states in each."
   ]
  },
  {
   "cell_type": "code",
   "execution_count": 595,
   "metadata": {
    "collapsed": false
   },
   "outputs": [
    {
     "name": "stdout",
     "output_type": "stream",
     "text": [
      "   State  Rate  Verbal  Math  Verbal - Math\n",
      "27    OH    26     534   439             95\n",
      "50    MS     4     566   551             15\n",
      "29    WV    18     527   512             15\n",
      "   State  Rate  Verbal  Math  Verbal - Math\n",
      "21    HI    52     485   515            -30\n",
      "23    CA    51     498   517            -19\n",
      "1     NJ    81     499   513            -14\n"
     ]
    }
   ],
   "source": [
    "# Top ten states where Verbal > Math\n",
    "df_states_verbal_over_math = df.sort_values('Verbal - Math',ascending=False)[0:10]\n",
    "print df_states_verbal_over_math.head(3)\n",
    "\n",
    "# Top ten states where Math > Verbal\n",
    "df_states_math_over_verbal = df.sort_values('Verbal - Math',ascending=False)[-10:]\n",
    "print df_states_math_over_verbal.sort_values('Verbal - Math', ascending=True).head(3)"
   ]
  },
  {
   "cell_type": "markdown",
   "metadata": {},
   "source": [
    "<img src=\"http://imgur.com/l5NasQj.png\" style=\"float: left; margin: 25px 15px 0px 0px; height: 25px\">\n",
    "\n",
    "## 6. Examine summary statistics\n",
    "\n",
    "---\n",
    "\n",
    "Checking the summary statistics for data is an essential step in the EDA process!\n",
    "\n",
    "### 6.1 Create the correlation matrix of your variables (excluding `State`).\n",
    "\n",
    "What does the correlation matrix tell you?\n"
   ]
  },
  {
   "cell_type": "code",
   "execution_count": 596,
   "metadata": {
    "collapsed": false
   },
   "outputs": [
    {
     "name": "stdout",
     "output_type": "stream",
     "text": [
      "['Rate', 'Verbal', 'Math', 'Verbal - Math']\n"
     ]
    },
    {
     "data": {
      "text/html": [
       "<div>\n",
       "<table border=\"1\" class=\"dataframe\">\n",
       "  <thead>\n",
       "    <tr style=\"text-align: right;\">\n",
       "      <th></th>\n",
       "      <th>Rate</th>\n",
       "      <th>Verbal</th>\n",
       "      <th>Math</th>\n",
       "      <th>Verbal - Math</th>\n",
       "    </tr>\n",
       "  </thead>\n",
       "  <tbody>\n",
       "    <tr>\n",
       "      <th>Rate</th>\n",
       "      <td>1.000000</td>\n",
       "      <td>-0.886432</td>\n",
       "      <td>-0.773746</td>\n",
       "      <td>-0.101412</td>\n",
       "    </tr>\n",
       "    <tr>\n",
       "      <th>Verbal</th>\n",
       "      <td>-0.886432</td>\n",
       "      <td>1.000000</td>\n",
       "      <td>0.899871</td>\n",
       "      <td>0.052600</td>\n",
       "    </tr>\n",
       "    <tr>\n",
       "      <th>Math</th>\n",
       "      <td>-0.773746</td>\n",
       "      <td>0.899871</td>\n",
       "      <td>1.000000</td>\n",
       "      <td>-0.388219</td>\n",
       "    </tr>\n",
       "    <tr>\n",
       "      <th>Verbal - Math</th>\n",
       "      <td>-0.101412</td>\n",
       "      <td>0.052600</td>\n",
       "      <td>-0.388219</td>\n",
       "      <td>1.000000</td>\n",
       "    </tr>\n",
       "  </tbody>\n",
       "</table>\n",
       "</div>"
      ],
      "text/plain": [
       "                   Rate    Verbal      Math  Verbal - Math\n",
       "Rate           1.000000 -0.886432 -0.773746      -0.101412\n",
       "Verbal        -0.886432  1.000000  0.899871       0.052600\n",
       "Math          -0.773746  0.899871  1.000000      -0.388219\n",
       "Verbal - Math -0.101412  0.052600 -0.388219       1.000000"
      ]
     },
     "execution_count": 596,
     "metadata": {},
     "output_type": "execute_result"
    }
   ],
   "source": [
    "df_no_state_condition = [col for col in df.columns.values if col not in ['State']  ]\n",
    "print df_no_state_condition\n",
    "df[df_no_state_condition].corr()\n",
    "\n",
    "# 1. Math and Verbal scores are highly positively correlated.\n",
    "# 2. Rate is highly negatively correlated with both Math and Verbal scores.\n",
    "# 3. The difference in Verbal and Math scores doesn't seem to be correlated with \n",
    "#    anything except, to some extent, Math scores. That makes it seem like it's \n",
    "#    not a movement in the Verbal scores that influences the difference in \n",
    "#    Verbal and Math scores, but rather a movement in Math scores that \n",
    "#    influences in the difference.\n"
   ]
  },
  {
   "cell_type": "markdown",
   "metadata": {},
   "source": [
    "### 6.2 Use pandas'  `.describe()` built-in function on your DataFrame\n",
    "\n",
    "Write up what each of the rows returned by the function indicate."
   ]
  },
  {
   "cell_type": "code",
   "execution_count": 597,
   "metadata": {
    "collapsed": false
   },
   "outputs": [
    {
     "data": {
      "text/html": [
       "<div>\n",
       "<table border=\"1\" class=\"dataframe\">\n",
       "  <thead>\n",
       "    <tr style=\"text-align: right;\">\n",
       "      <th></th>\n",
       "      <th>count</th>\n",
       "      <th>mean</th>\n",
       "      <th>std</th>\n",
       "      <th>min</th>\n",
       "      <th>25%</th>\n",
       "      <th>50%</th>\n",
       "      <th>75%</th>\n",
       "      <th>max</th>\n",
       "    </tr>\n",
       "  </thead>\n",
       "  <tbody>\n",
       "    <tr>\n",
       "      <th>Rate</th>\n",
       "      <td>52.0</td>\n",
       "      <td>37.153846</td>\n",
       "      <td>27.301788</td>\n",
       "      <td>4.0</td>\n",
       "      <td>9.0</td>\n",
       "      <td>33.5</td>\n",
       "      <td>63.50</td>\n",
       "      <td>82.0</td>\n",
       "    </tr>\n",
       "    <tr>\n",
       "      <th>Verbal</th>\n",
       "      <td>52.0</td>\n",
       "      <td>532.019231</td>\n",
       "      <td>33.236225</td>\n",
       "      <td>482.0</td>\n",
       "      <td>501.0</td>\n",
       "      <td>526.5</td>\n",
       "      <td>562.00</td>\n",
       "      <td>593.0</td>\n",
       "    </tr>\n",
       "    <tr>\n",
       "      <th>Math</th>\n",
       "      <td>52.0</td>\n",
       "      <td>531.500000</td>\n",
       "      <td>36.014975</td>\n",
       "      <td>439.0</td>\n",
       "      <td>504.0</td>\n",
       "      <td>521.0</td>\n",
       "      <td>555.75</td>\n",
       "      <td>603.0</td>\n",
       "    </tr>\n",
       "    <tr>\n",
       "      <th>Verbal - Math</th>\n",
       "      <td>52.0</td>\n",
       "      <td>0.519231</td>\n",
       "      <td>15.729939</td>\n",
       "      <td>-30.0</td>\n",
       "      <td>-6.0</td>\n",
       "      <td>0.0</td>\n",
       "      <td>4.25</td>\n",
       "      <td>95.0</td>\n",
       "    </tr>\n",
       "  </tbody>\n",
       "</table>\n",
       "</div>"
      ],
      "text/plain": [
       "               count        mean        std    min    25%    50%     75%  \\\n",
       "Rate            52.0   37.153846  27.301788    4.0    9.0   33.5   63.50   \n",
       "Verbal          52.0  532.019231  33.236225  482.0  501.0  526.5  562.00   \n",
       "Math            52.0  531.500000  36.014975  439.0  504.0  521.0  555.75   \n",
       "Verbal - Math   52.0    0.519231  15.729939  -30.0   -6.0    0.0    4.25   \n",
       "\n",
       "                 max  \n",
       "Rate            82.0  \n",
       "Verbal         593.0  \n",
       "Math           603.0  \n",
       "Verbal - Math   95.0  "
      ]
     },
     "execution_count": 597,
     "metadata": {},
     "output_type": "execute_result"
    }
   ],
   "source": [
    "df.describe().T\n",
    "\n",
    "# Rate:\n",
    "# This shows there are 52 rows with an average of 37 and a standard\n",
    "# deviation of 27. The min and max are shown as well as the quartiles.\n",
    "# The 50% is also the median so you can see skew by comparin mean\n",
    "# and median"
   ]
  },
  {
   "cell_type": "markdown",
   "metadata": {},
   "source": [
    "<img src=\"http://imgur.com/xDpSobf.png\" style=\"float: left; margin: 25px 15px 0px 0px; height: 25px\">\n",
    "\n",
    "### 6.3 Assign and print the _covariance_ matrix for the dataset\n",
    "\n",
    "1. Describe how the covariance matrix is different from the correlation matrix.\n",
    "2. What is the process to convert the covariance into the correlation?\n",
    "3. Why is the correlation matrix preferred to the covariance matrix for examining relationships in your data?"
   ]
  },
  {
   "cell_type": "code",
   "execution_count": 598,
   "metadata": {
    "collapsed": true
   },
   "outputs": [],
   "source": [
    "####################\n",
    "# this is B        #\n",
    "####################"
   ]
  },
  {
   "cell_type": "markdown",
   "metadata": {},
   "source": [
    "<img src=\"http://imgur.com/l5NasQj.png\" style=\"float: left; margin: 25px 15px 0px 0px; height: 25px\">\n",
    "\n",
    "## 7. Performing EDA on \"drug use by age\" data.\n",
    "\n",
    "---\n",
    "\n",
    "You will now switch datasets. The drug use dataset has many more variables than the sat dataset. The process for this dataset is more open-ended than the sat dataset.\n",
    "\n",
    "You should use the techniques you applied above to practice more self-guided EDA here!\n",
    "\n",
    "### 7.1\n",
    "\n",
    "Load the data using pandas. Does this data require cleaning? Are variables missing? How will this affect your approach to EDA on the data?"
   ]
  },
  {
   "cell_type": "code",
   "execution_count": 599,
   "metadata": {
    "collapsed": true
   },
   "outputs": [],
   "source": [
    "drug_data_filepath = '/Users/Cecilia/Desktop/DSI-SF-2-clambeer/datasets/drug_use_by_age/drug-use-by-age.csv'\n",
    "drug = pd.read_csv(drug_data_filepath)"
   ]
  },
  {
   "cell_type": "code",
   "execution_count": 600,
   "metadata": {
    "collapsed": false,
    "scrolled": true
   },
   "outputs": [
    {
     "name": "stdout",
     "output_type": "stream",
     "text": [
      "  age     n  alcohol-use  alcohol-frequency  marijuana-use  \\\n",
      "0  12  2798          3.9                3.0            1.1   \n",
      "1  13  2757          8.5                6.0            3.4   \n",
      "2  14  2792         18.1                5.0            8.7   \n",
      "3  15  2956         29.2                6.0           14.5   \n",
      "4  16  3058         40.1               10.0           22.5   \n",
      "\n",
      "   marijuana-frequency  cocaine-use cocaine-frequency  crack-use  \\\n",
      "0                  4.0          0.1               5.0        0.0   \n",
      "1                 15.0          0.1               1.0        0.0   \n",
      "2                 24.0          0.1               5.5        0.0   \n",
      "3                 25.0          0.5               4.0        0.1   \n",
      "4                 30.0          1.0               7.0        0.0   \n",
      "\n",
      "  crack-frequency        ...          oxycontin-use oxycontin-frequency  \\\n",
      "0               -        ...                    0.1                24.5   \n",
      "1             3.0        ...                    0.1                41.0   \n",
      "2               -        ...                    0.4                 4.5   \n",
      "3             9.5        ...                    0.8                 3.0   \n",
      "4             1.0        ...                    1.1                 4.0   \n",
      "\n",
      "   tranquilizer-use  tranquilizer-frequency  stimulant-use  \\\n",
      "0               0.2                    52.0            0.2   \n",
      "1               0.3                    25.5            0.3   \n",
      "2               0.9                     5.0            0.8   \n",
      "3               2.0                     4.5            1.5   \n",
      "4               2.4                    11.0            1.8   \n",
      "\n",
      "  stimulant-frequency  meth-use  meth-frequency  sedative-use  \\\n",
      "0                 2.0       0.0               -           0.2   \n",
      "1                 4.0       0.1             5.0           0.1   \n",
      "2                12.0       0.1            24.0           0.2   \n",
      "3                 6.0       0.3            10.5           0.4   \n",
      "4                 9.5       0.3            36.0           0.2   \n",
      "\n",
      "  sedative-frequency  \n",
      "0               13.0  \n",
      "1               19.0  \n",
      "2               16.5  \n",
      "3               30.0  \n",
      "4                3.0  \n",
      "\n",
      "[5 rows x 28 columns]\n",
      "      age     n  alcohol-use  alcohol-frequency  marijuana-use  \\\n",
      "12  26-29  2628         80.7               52.0           20.8   \n",
      "13  30-34  2864         77.5               52.0           16.4   \n",
      "14  35-49  7391         75.0               52.0           10.4   \n",
      "15  50-64  3923         67.2               52.0            7.3   \n",
      "16    65+  2448         49.3               52.0            1.2   \n",
      "\n",
      "    marijuana-frequency  cocaine-use cocaine-frequency  crack-use  \\\n",
      "12                 52.0          3.2               5.0        0.4   \n",
      "13                 72.0          2.1               8.0        0.5   \n",
      "14                 48.0          1.5              15.0        0.5   \n",
      "15                 52.0          0.9              36.0        0.4   \n",
      "16                 36.0          0.0                 -        0.0   \n",
      "\n",
      "   crack-frequency        ...          oxycontin-use oxycontin-frequency  \\\n",
      "12             6.0        ...                    1.2                13.5   \n",
      "13            15.0        ...                    0.9                46.0   \n",
      "14            48.0        ...                    0.3                12.0   \n",
      "15            62.0        ...                    0.4                 5.0   \n",
      "16               -        ...                    0.0                   -   \n",
      "\n",
      "    tranquilizer-use  tranquilizer-frequency  stimulant-use  \\\n",
      "12               4.2                    10.0            2.3   \n",
      "13               3.6                     8.0            1.4   \n",
      "14               1.9                     6.0            0.6   \n",
      "15               1.4                    10.0            0.3   \n",
      "16               0.2                     5.0            0.0   \n",
      "\n",
      "   stimulant-frequency  meth-use  meth-frequency  sedative-use  \\\n",
      "12                 7.0       0.6            30.0           0.4   \n",
      "13                12.0       0.4            54.0           0.4   \n",
      "14                24.0       0.2           104.0           0.3   \n",
      "15                24.0       0.2            30.0           0.2   \n",
      "16               364.0       0.0               -           0.0   \n",
      "\n",
      "   sedative-frequency  \n",
      "12                4.0  \n",
      "13               10.0  \n",
      "14               10.0  \n",
      "15              104.0  \n",
      "16               15.0  \n",
      "\n",
      "[5 rows x 28 columns]\n"
     ]
    }
   ],
   "source": [
    "print drug.head()\n",
    "print drug.tail()"
   ]
  },
  {
   "cell_type": "code",
   "execution_count": 601,
   "metadata": {
    "collapsed": false
   },
   "outputs": [
    {
     "name": "stdout",
     "output_type": "stream",
     "text": [
      "<class 'pandas.core.frame.DataFrame'>\n",
      "RangeIndex: 17 entries, 0 to 16\n",
      "Data columns (total 28 columns):\n",
      "age                        17 non-null object\n",
      "n                          17 non-null int64\n",
      "alcohol-use                17 non-null float64\n",
      "alcohol-frequency          17 non-null float64\n",
      "marijuana-use              17 non-null float64\n",
      "marijuana-frequency        17 non-null float64\n",
      "cocaine-use                17 non-null float64\n",
      "cocaine-frequency          17 non-null object\n",
      "crack-use                  17 non-null float64\n",
      "crack-frequency            17 non-null object\n",
      "heroin-use                 17 non-null float64\n",
      "heroin-frequency           17 non-null object\n",
      "hallucinogen-use           17 non-null float64\n",
      "hallucinogen-frequency     17 non-null float64\n",
      "inhalant-use               17 non-null float64\n",
      "inhalant-frequency         17 non-null object\n",
      "pain-releiver-use          17 non-null float64\n",
      "pain-releiver-frequency    17 non-null float64\n",
      "oxycontin-use              17 non-null float64\n",
      "oxycontin-frequency        17 non-null object\n",
      "tranquilizer-use           17 non-null float64\n",
      "tranquilizer-frequency     17 non-null float64\n",
      "stimulant-use              17 non-null float64\n",
      "stimulant-frequency        17 non-null float64\n",
      "meth-use                   17 non-null float64\n",
      "meth-frequency             17 non-null object\n",
      "sedative-use               17 non-null float64\n",
      "sedative-frequency         17 non-null float64\n",
      "dtypes: float64(20), int64(1), object(7)\n",
      "memory usage: 3.8+ KB\n"
     ]
    }
   ],
   "source": [
    "drug.info()"
   ]
  },
  {
   "cell_type": "code",
   "execution_count": 602,
   "metadata": {
    "collapsed": false
   },
   "outputs": [
    {
     "data": {
      "text/html": [
       "<div>\n",
       "<table border=\"1\" class=\"dataframe\">\n",
       "  <thead>\n",
       "    <tr style=\"text-align: right;\">\n",
       "      <th></th>\n",
       "      <th>count</th>\n",
       "      <th>mean</th>\n",
       "      <th>std</th>\n",
       "      <th>min</th>\n",
       "      <th>25%</th>\n",
       "      <th>50%</th>\n",
       "      <th>75%</th>\n",
       "      <th>max</th>\n",
       "    </tr>\n",
       "  </thead>\n",
       "  <tbody>\n",
       "    <tr>\n",
       "      <th>n</th>\n",
       "      <td>17.0</td>\n",
       "      <td>3251.058824</td>\n",
       "      <td>1297.890426</td>\n",
       "      <td>2223.0</td>\n",
       "      <td>2469.0</td>\n",
       "      <td>2798.0</td>\n",
       "      <td>3058.0</td>\n",
       "      <td>7391.0</td>\n",
       "    </tr>\n",
       "    <tr>\n",
       "      <th>alcohol-use</th>\n",
       "      <td>17.0</td>\n",
       "      <td>55.429412</td>\n",
       "      <td>26.878866</td>\n",
       "      <td>3.9</td>\n",
       "      <td>40.1</td>\n",
       "      <td>64.6</td>\n",
       "      <td>77.5</td>\n",
       "      <td>84.2</td>\n",
       "    </tr>\n",
       "    <tr>\n",
       "      <th>alcohol-frequency</th>\n",
       "      <td>17.0</td>\n",
       "      <td>33.352941</td>\n",
       "      <td>21.318833</td>\n",
       "      <td>3.0</td>\n",
       "      <td>10.0</td>\n",
       "      <td>48.0</td>\n",
       "      <td>52.0</td>\n",
       "      <td>52.0</td>\n",
       "    </tr>\n",
       "    <tr>\n",
       "      <th>marijuana-use</th>\n",
       "      <td>17.0</td>\n",
       "      <td>18.923529</td>\n",
       "      <td>11.959752</td>\n",
       "      <td>1.1</td>\n",
       "      <td>8.7</td>\n",
       "      <td>20.8</td>\n",
       "      <td>28.4</td>\n",
       "      <td>34.0</td>\n",
       "    </tr>\n",
       "    <tr>\n",
       "      <th>marijuana-frequency</th>\n",
       "      <td>17.0</td>\n",
       "      <td>42.941176</td>\n",
       "      <td>18.362566</td>\n",
       "      <td>4.0</td>\n",
       "      <td>30.0</td>\n",
       "      <td>52.0</td>\n",
       "      <td>52.0</td>\n",
       "      <td>72.0</td>\n",
       "    </tr>\n",
       "    <tr>\n",
       "      <th>cocaine-use</th>\n",
       "      <td>17.0</td>\n",
       "      <td>2.176471</td>\n",
       "      <td>1.816772</td>\n",
       "      <td>0.0</td>\n",
       "      <td>0.5</td>\n",
       "      <td>2.0</td>\n",
       "      <td>4.0</td>\n",
       "      <td>4.9</td>\n",
       "    </tr>\n",
       "    <tr>\n",
       "      <th>crack-use</th>\n",
       "      <td>17.0</td>\n",
       "      <td>0.294118</td>\n",
       "      <td>0.235772</td>\n",
       "      <td>0.0</td>\n",
       "      <td>0.0</td>\n",
       "      <td>0.4</td>\n",
       "      <td>0.5</td>\n",
       "      <td>0.6</td>\n",
       "    </tr>\n",
       "    <tr>\n",
       "      <th>heroin-use</th>\n",
       "      <td>17.0</td>\n",
       "      <td>0.352941</td>\n",
       "      <td>0.333762</td>\n",
       "      <td>0.0</td>\n",
       "      <td>0.1</td>\n",
       "      <td>0.2</td>\n",
       "      <td>0.6</td>\n",
       "      <td>1.1</td>\n",
       "    </tr>\n",
       "    <tr>\n",
       "      <th>hallucinogen-use</th>\n",
       "      <td>17.0</td>\n",
       "      <td>3.394118</td>\n",
       "      <td>2.792506</td>\n",
       "      <td>0.1</td>\n",
       "      <td>0.6</td>\n",
       "      <td>3.2</td>\n",
       "      <td>5.2</td>\n",
       "      <td>8.6</td>\n",
       "    </tr>\n",
       "    <tr>\n",
       "      <th>hallucinogen-frequency</th>\n",
       "      <td>17.0</td>\n",
       "      <td>8.411765</td>\n",
       "      <td>15.000245</td>\n",
       "      <td>2.0</td>\n",
       "      <td>3.0</td>\n",
       "      <td>3.0</td>\n",
       "      <td>4.0</td>\n",
       "      <td>52.0</td>\n",
       "    </tr>\n",
       "    <tr>\n",
       "      <th>inhalant-use</th>\n",
       "      <td>17.0</td>\n",
       "      <td>1.388235</td>\n",
       "      <td>0.927283</td>\n",
       "      <td>0.0</td>\n",
       "      <td>0.6</td>\n",
       "      <td>1.4</td>\n",
       "      <td>2.0</td>\n",
       "      <td>3.0</td>\n",
       "    </tr>\n",
       "    <tr>\n",
       "      <th>pain-releiver-use</th>\n",
       "      <td>17.0</td>\n",
       "      <td>6.270588</td>\n",
       "      <td>3.166379</td>\n",
       "      <td>0.6</td>\n",
       "      <td>3.9</td>\n",
       "      <td>6.2</td>\n",
       "      <td>9.0</td>\n",
       "      <td>10.0</td>\n",
       "    </tr>\n",
       "    <tr>\n",
       "      <th>pain-releiver-frequency</th>\n",
       "      <td>17.0</td>\n",
       "      <td>14.705882</td>\n",
       "      <td>6.935098</td>\n",
       "      <td>7.0</td>\n",
       "      <td>12.0</td>\n",
       "      <td>12.0</td>\n",
       "      <td>15.0</td>\n",
       "      <td>36.0</td>\n",
       "    </tr>\n",
       "    <tr>\n",
       "      <th>oxycontin-use</th>\n",
       "      <td>17.0</td>\n",
       "      <td>0.935294</td>\n",
       "      <td>0.608216</td>\n",
       "      <td>0.0</td>\n",
       "      <td>0.4</td>\n",
       "      <td>1.1</td>\n",
       "      <td>1.4</td>\n",
       "      <td>1.7</td>\n",
       "    </tr>\n",
       "    <tr>\n",
       "      <th>tranquilizer-use</th>\n",
       "      <td>17.0</td>\n",
       "      <td>2.805882</td>\n",
       "      <td>1.753379</td>\n",
       "      <td>0.2</td>\n",
       "      <td>1.4</td>\n",
       "      <td>3.5</td>\n",
       "      <td>4.2</td>\n",
       "      <td>5.4</td>\n",
       "    </tr>\n",
       "    <tr>\n",
       "      <th>tranquilizer-frequency</th>\n",
       "      <td>17.0</td>\n",
       "      <td>11.735294</td>\n",
       "      <td>11.485205</td>\n",
       "      <td>4.5</td>\n",
       "      <td>6.0</td>\n",
       "      <td>10.0</td>\n",
       "      <td>11.0</td>\n",
       "      <td>52.0</td>\n",
       "    </tr>\n",
       "    <tr>\n",
       "      <th>stimulant-use</th>\n",
       "      <td>17.0</td>\n",
       "      <td>1.917647</td>\n",
       "      <td>1.407673</td>\n",
       "      <td>0.0</td>\n",
       "      <td>0.6</td>\n",
       "      <td>1.8</td>\n",
       "      <td>3.0</td>\n",
       "      <td>4.1</td>\n",
       "    </tr>\n",
       "    <tr>\n",
       "      <th>stimulant-frequency</th>\n",
       "      <td>17.0</td>\n",
       "      <td>31.147059</td>\n",
       "      <td>85.973790</td>\n",
       "      <td>2.0</td>\n",
       "      <td>7.0</td>\n",
       "      <td>10.0</td>\n",
       "      <td>12.0</td>\n",
       "      <td>364.0</td>\n",
       "    </tr>\n",
       "    <tr>\n",
       "      <th>meth-use</th>\n",
       "      <td>17.0</td>\n",
       "      <td>0.382353</td>\n",
       "      <td>0.262762</td>\n",
       "      <td>0.0</td>\n",
       "      <td>0.2</td>\n",
       "      <td>0.4</td>\n",
       "      <td>0.6</td>\n",
       "      <td>0.9</td>\n",
       "    </tr>\n",
       "    <tr>\n",
       "      <th>sedative-use</th>\n",
       "      <td>17.0</td>\n",
       "      <td>0.282353</td>\n",
       "      <td>0.138000</td>\n",
       "      <td>0.0</td>\n",
       "      <td>0.2</td>\n",
       "      <td>0.3</td>\n",
       "      <td>0.4</td>\n",
       "      <td>0.5</td>\n",
       "    </tr>\n",
       "    <tr>\n",
       "      <th>sedative-frequency</th>\n",
       "      <td>17.0</td>\n",
       "      <td>19.382353</td>\n",
       "      <td>24.833527</td>\n",
       "      <td>3.0</td>\n",
       "      <td>6.5</td>\n",
       "      <td>10.0</td>\n",
       "      <td>17.5</td>\n",
       "      <td>104.0</td>\n",
       "    </tr>\n",
       "  </tbody>\n",
       "</table>\n",
       "</div>"
      ],
      "text/plain": [
       "                         count         mean          std     min     25%  \\\n",
       "n                         17.0  3251.058824  1297.890426  2223.0  2469.0   \n",
       "alcohol-use               17.0    55.429412    26.878866     3.9    40.1   \n",
       "alcohol-frequency         17.0    33.352941    21.318833     3.0    10.0   \n",
       "marijuana-use             17.0    18.923529    11.959752     1.1     8.7   \n",
       "marijuana-frequency       17.0    42.941176    18.362566     4.0    30.0   \n",
       "cocaine-use               17.0     2.176471     1.816772     0.0     0.5   \n",
       "crack-use                 17.0     0.294118     0.235772     0.0     0.0   \n",
       "heroin-use                17.0     0.352941     0.333762     0.0     0.1   \n",
       "hallucinogen-use          17.0     3.394118     2.792506     0.1     0.6   \n",
       "hallucinogen-frequency    17.0     8.411765    15.000245     2.0     3.0   \n",
       "inhalant-use              17.0     1.388235     0.927283     0.0     0.6   \n",
       "pain-releiver-use         17.0     6.270588     3.166379     0.6     3.9   \n",
       "pain-releiver-frequency   17.0    14.705882     6.935098     7.0    12.0   \n",
       "oxycontin-use             17.0     0.935294     0.608216     0.0     0.4   \n",
       "tranquilizer-use          17.0     2.805882     1.753379     0.2     1.4   \n",
       "tranquilizer-frequency    17.0    11.735294    11.485205     4.5     6.0   \n",
       "stimulant-use             17.0     1.917647     1.407673     0.0     0.6   \n",
       "stimulant-frequency       17.0    31.147059    85.973790     2.0     7.0   \n",
       "meth-use                  17.0     0.382353     0.262762     0.0     0.2   \n",
       "sedative-use              17.0     0.282353     0.138000     0.0     0.2   \n",
       "sedative-frequency        17.0    19.382353    24.833527     3.0     6.5   \n",
       "\n",
       "                            50%     75%     max  \n",
       "n                        2798.0  3058.0  7391.0  \n",
       "alcohol-use                64.6    77.5    84.2  \n",
       "alcohol-frequency          48.0    52.0    52.0  \n",
       "marijuana-use              20.8    28.4    34.0  \n",
       "marijuana-frequency        52.0    52.0    72.0  \n",
       "cocaine-use                 2.0     4.0     4.9  \n",
       "crack-use                   0.4     0.5     0.6  \n",
       "heroin-use                  0.2     0.6     1.1  \n",
       "hallucinogen-use            3.2     5.2     8.6  \n",
       "hallucinogen-frequency      3.0     4.0    52.0  \n",
       "inhalant-use                1.4     2.0     3.0  \n",
       "pain-releiver-use           6.2     9.0    10.0  \n",
       "pain-releiver-frequency    12.0    15.0    36.0  \n",
       "oxycontin-use               1.1     1.4     1.7  \n",
       "tranquilizer-use            3.5     4.2     5.4  \n",
       "tranquilizer-frequency     10.0    11.0    52.0  \n",
       "stimulant-use               1.8     3.0     4.1  \n",
       "stimulant-frequency        10.0    12.0   364.0  \n",
       "meth-use                    0.4     0.6     0.9  \n",
       "sedative-use                0.3     0.4     0.5  \n",
       "sedative-frequency         10.0    17.5   104.0  "
      ]
     },
     "execution_count": 602,
     "metadata": {},
     "output_type": "execute_result"
    }
   ],
   "source": [
    "drug.describe().T"
   ]
  },
  {
   "cell_type": "code",
   "execution_count": 603,
   "metadata": {
    "collapsed": false
   },
   "outputs": [
    {
     "data": {
      "text/plain": [
       "2271    1\n",
       "2956    1\n",
       "4707    1\n",
       "2628    1\n",
       "2757    1\n",
       "2792    1\n",
       "2354    1\n",
       "7391    1\n",
       "2798    1\n",
       "3038    1\n",
       "2223    1\n",
       "2864    1\n",
       "3058    1\n",
       "3923    1\n",
       "4591    1\n",
       "2448    1\n",
       "2469    1\n",
       "Name: n, dtype: int64"
      ]
     },
     "execution_count": 603,
     "metadata": {},
     "output_type": "execute_result"
    }
   ],
   "source": [
    "drug['n'].value_counts()"
   ]
  },
  {
   "cell_type": "code",
   "execution_count": 604,
   "metadata": {
    "collapsed": false
   },
   "outputs": [
    {
     "data": {
      "text/plain": [
       "age                        0\n",
       "n                          0\n",
       "alcohol-use                0\n",
       "alcohol-frequency          0\n",
       "marijuana-use              0\n",
       "marijuana-frequency        0\n",
       "cocaine-use                0\n",
       "cocaine-frequency          0\n",
       "crack-use                  0\n",
       "crack-frequency            0\n",
       "heroin-use                 0\n",
       "heroin-frequency           0\n",
       "hallucinogen-use           0\n",
       "hallucinogen-frequency     0\n",
       "inhalant-use               0\n",
       "inhalant-frequency         0\n",
       "pain-releiver-use          0\n",
       "pain-releiver-frequency    0\n",
       "oxycontin-use              0\n",
       "oxycontin-frequency        0\n",
       "tranquilizer-use           0\n",
       "tranquilizer-frequency     0\n",
       "stimulant-use              0\n",
       "stimulant-frequency        0\n",
       "meth-use                   0\n",
       "meth-frequency             0\n",
       "sedative-use               0\n",
       "sedative-frequency         0\n",
       "dtype: int64"
      ]
     },
     "execution_count": 604,
     "metadata": {},
     "output_type": "execute_result"
    }
   ],
   "source": [
    "drug.isnull().sum()"
   ]
  },
  {
   "cell_type": "code",
   "execution_count": 605,
   "metadata": {
    "collapsed": false,
    "scrolled": false
   },
   "outputs": [
    {
     "name": "stdout",
     "output_type": "stream",
     "text": [
      "n int64\n",
      "Y\n",
      "n  unique values and count:\n",
      "<bound method Series.value_counts of 0     2798\n",
      "1     2757\n",
      "2     2792\n",
      "3     2956\n",
      "4     3058\n",
      "5     3038\n",
      "6     2469\n",
      "7     2223\n",
      "8     2271\n",
      "9     2354\n",
      "10    4707\n",
      "11    4591\n",
      "12    2628\n",
      "13    2864\n",
      "14    7391\n",
      "15    3923\n",
      "16    2448\n",
      "Name: n, dtype: int64>\n"
     ]
    },
    {
     "data": {
      "text/plain": [
       "2271    1\n",
       "2956    1\n",
       "4707    1\n",
       "2628    1\n",
       "2757    1\n",
       "2792    1\n",
       "2354    1\n",
       "7391    1\n",
       "2798    1\n",
       "3038    1\n",
       "2223    1\n",
       "2864    1\n",
       "3058    1\n",
       "3923    1\n",
       "4591    1\n",
       "2448    1\n",
       "2469    1\n",
       "Name: n, dtype: int64"
      ]
     },
     "execution_count": 605,
     "metadata": {},
     "output_type": "execute_result"
    }
   ],
   "source": [
    "# I was trying to create a simple for loop to print out value_counts\n",
    "# for every column but for some reason I get this error: \n",
    "# 'bound method Series.value_counts of 0'\n",
    "# Here is info on it: https://github.com/pydata/pandas/issues/8559\n",
    "# but I can't quite figure out what that means. I tried to resolve \n",
    "# the issue of switching back and forth between different dtypes\n",
    "# but that didn't seem to fix it.\n",
    "\n",
    "for col in drug.columns.values[1:2]:\n",
    "    print col, drug[col].dtypes\n",
    "    if (drug[col].dtypes == 'float64') | (drug[col].dtypes == 'int64'):\n",
    "        print 'Y'\n",
    "        print col , ' unique values and count:\\n', drug[col].value_counts\n",
    "    elif col != 'age':\n",
    "        print 'Y2'\n",
    "        for cell in drug[col]:\n",
    "            cell = float(cell)\n",
    "        print col , ' unique values and count:\\n', drug[col].value_counts\n",
    "    else:\n",
    "        \"\"\n",
    "\n",
    "# drug['alcohol-use'].dtypes\n",
    "drug['n'].value_counts()\n",
    "# drug['meth-frequency'].dtypes\n"
   ]
  },
  {
   "cell_type": "code",
   "execution_count": 606,
   "metadata": {
    "collapsed": false
   },
   "outputs": [
    {
     "name": "stdout",
     "output_type": "stream",
     "text": [
      "5.0 <type 'str'>\n",
      "1.0 <type 'str'>\n",
      "5.5 <type 'str'>\n",
      "4.0 <type 'str'>\n",
      "7.0 <type 'str'>\n",
      "5.0 <type 'str'>\n",
      "5.0 <type 'str'>\n",
      "5.5 <type 'str'>\n",
      "8.0 <type 'str'>\n",
      "5.0 <type 'str'>\n",
      "5.0 <type 'str'>\n",
      "6.0 <type 'str'>\n",
      "5.0 <type 'str'>\n",
      "8.0 <type 'str'>\n",
      "15.0 <type 'str'>\n",
      "36.0 <type 'str'>\n",
      "- <type 'str'>\n"
     ]
    }
   ],
   "source": [
    "drug['cocaine-frequency'].value_counts()\n",
    "for items in drug['cocaine-frequency']:\n",
    "    print items, type(items)"
   ]
  },
  {
   "cell_type": "code",
   "execution_count": 607,
   "metadata": {
    "collapsed": false
   },
   "outputs": [
    {
     "name": "stdout",
     "output_type": "stream",
     "text": [
      "35.5 <type 'str'>\n",
      "- <type 'str'>\n",
      "2.0 <type 'str'>\n",
      "1.0 <type 'str'>\n",
      "66.5 <type 'str'>\n",
      "64.0 <type 'str'>\n",
      "46.0 <type 'str'>\n",
      "180.0 <type 'str'>\n",
      "45.0 <type 'str'>\n",
      "30.0 <type 'str'>\n",
      "57.5 <type 'str'>\n",
      "88.0 <type 'str'>\n",
      "50.0 <type 'str'>\n",
      "66.0 <type 'str'>\n",
      "280.0 <type 'str'>\n",
      "41.0 <type 'str'>\n",
      "120.0 <type 'str'>\n"
     ]
    }
   ],
   "source": [
    "drug['heroin-frequency'].value_counts()\n",
    "for items in drug['heroin-frequency']:\n",
    "    print items, type(items)"
   ]
  },
  {
   "cell_type": "code",
   "execution_count": 608,
   "metadata": {
    "collapsed": false,
    "scrolled": true
   },
   "outputs": [
    {
     "name": "stdout",
     "output_type": "stream",
     "text": [
      "['cocaine-frequency', 'crack-frequency', 'heroin-frequency', 'inhalant-frequency', 'oxycontin-frequency', 'meth-frequency']\n",
      "5.0\n",
      "1.0\n",
      "5.5\n",
      "4.0\n",
      "7.0\n",
      "5.0\n",
      "5.0\n",
      "5.5\n",
      "8.0\n",
      "5.0\n",
      "5.0\n",
      "6.0\n",
      "5.0\n",
      "8.0\n",
      "15.0\n",
      "36.0\n",
      "-\n",
      "-\n",
      "3.0\n",
      "-\n",
      "9.5\n",
      "1.0\n",
      "21.0\n",
      "10.0\n",
      "2.0\n",
      "5.0\n",
      "17.0\n",
      "5.0\n",
      "6.0\n",
      "6.0\n",
      "15.0\n",
      "48.0\n",
      "62.0\n",
      "-\n",
      "35.5\n",
      "-\n",
      "2.0\n",
      "1.0\n",
      "66.5\n",
      "64.0\n",
      "46.0\n",
      "180.0\n",
      "45.0\n",
      "30.0\n",
      "57.5\n",
      "88.0\n",
      "50.0\n",
      "66.0\n",
      "280.0\n",
      "41.0\n",
      "120.0\n",
      "19.0\n",
      "12.0\n",
      "5.0\n",
      "5.5\n",
      "3.0\n",
      "4.0\n",
      "4.0\n",
      "3.0\n",
      "4.0\n",
      "2.0\n",
      "4.0\n",
      "2.0\n",
      "4.0\n",
      "3.5\n",
      "10.0\n",
      "13.5\n",
      "-\n",
      "24.5\n",
      "41.0\n",
      "4.5\n",
      "3.0\n",
      "4.0\n",
      "6.0\n",
      "7.0\n",
      "7.5\n",
      "12.0\n",
      "13.5\n",
      "17.5\n",
      "20.0\n",
      "13.5\n",
      "46.0\n",
      "12.0\n",
      "5.0\n",
      "-\n",
      "-\n",
      "5.0\n",
      "24.0\n",
      "10.5\n",
      "36.0\n",
      "48.0\n",
      "12.0\n",
      "105.0\n",
      "12.0\n",
      "2.0\n",
      "46.0\n",
      "21.0\n",
      "30.0\n",
      "54.0\n",
      "104.0\n",
      "30.0\n",
      "-\n"
     ]
    },
    {
     "data": {
      "text/plain": [
       "age                         object\n",
       "n                            int64\n",
       "alcohol-use                float64\n",
       "alcohol-frequency          float64\n",
       "marijuana-use              float64\n",
       "marijuana-frequency        float64\n",
       "cocaine-use                float64\n",
       "cocaine-frequency          float64\n",
       "crack-use                  float64\n",
       "crack-frequency            float64\n",
       "heroin-use                 float64\n",
       "heroin-frequency           float64\n",
       "hallucinogen-use           float64\n",
       "hallucinogen-frequency     float64\n",
       "inhalant-use               float64\n",
       "inhalant-frequency         float64\n",
       "pain-releiver-use          float64\n",
       "pain-releiver-frequency    float64\n",
       "oxycontin-use              float64\n",
       "oxycontin-frequency        float64\n",
       "tranquilizer-use           float64\n",
       "tranquilizer-frequency     float64\n",
       "stimulant-use              float64\n",
       "stimulant-frequency        float64\n",
       "meth-use                   float64\n",
       "meth-frequency             float64\n",
       "sedative-use               float64\n",
       "sedative-frequency         float64\n",
       "dtype: object"
      ]
     },
     "execution_count": 608,
     "metadata": {},
     "output_type": "execute_result"
    }
   ],
   "source": [
    "object_col_list = [col for col in drug.columns.values if (drug[col].dtypes == 'O') & (col != 'age')]\n",
    "print object_col_list\n",
    "\n",
    "def turn_dash_into_0(cell):\n",
    "    print cell\n",
    "    if cell == \"-\":\n",
    "        cell = 0.0\n",
    "        return cell\n",
    "    else:\n",
    "        return cell \n",
    "    \n",
    "for column_str in object_col_list:\n",
    "    drug[column_str] = drug[column_str].map(turn_dash_into_0)\n",
    "    drug[column_str] = drug[column_str].map(float)\n",
    "\n",
    "drug.dtypes"
   ]
  },
  {
   "cell_type": "code",
   "execution_count": 609,
   "metadata": {
    "collapsed": false,
    "scrolled": true
   },
   "outputs": [
    {
     "data": {
      "text/plain": [
       "Index([u'age', u'n', u'alcohol-use', u'alcohol-frequency', u'marijuana-use',\n",
       "       u'marijuana-frequency', u'cocaine-use', u'cocaine-frequency',\n",
       "       u'crack-use', u'crack-frequency', u'heroin-use', u'heroin-frequency',\n",
       "       u'hallucinogen-use', u'hallucinogen-frequency', u'inhalant-use',\n",
       "       u'inhalant-frequency', u'pain-reliever-use', u'pain-reliever-frequency',\n",
       "       u'oxycontin-use', u'oxycontin-frequency', u'tranquilizer-use',\n",
       "       u'tranquilizer-frequency', u'stimulant-use', u'stimulant-frequency',\n",
       "       u'meth-use', u'meth-frequency', u'sedative-use', u'sedative-frequency'],\n",
       "      dtype='object')"
      ]
     },
     "execution_count": 609,
     "metadata": {},
     "output_type": "execute_result"
    }
   ],
   "source": [
    "# rename column for misspelling\n",
    "drug.rename(columns={'pain-releiver-use':'pain-reliever-use',\n",
    "                     'pain-releiver-frequency':'pain-reliever-frequency'}, inplace=True)\n",
    "drug.columns"
   ]
  },
  {
   "cell_type": "code",
   "execution_count": 610,
   "metadata": {
    "collapsed": false
   },
   "outputs": [
    {
     "name": "stdout",
     "output_type": "stream",
     "text": [
      "<bound method Series.value_counts of 0       2.0\n",
      "1       4.0\n",
      "2      12.0\n",
      "3       6.0\n",
      "4       9.5\n",
      "5       9.0\n",
      "6       8.0\n",
      "7       6.0\n",
      "8      12.0\n",
      "9      10.0\n",
      "10     10.0\n",
      "11     10.0\n",
      "12      7.0\n",
      "13     12.0\n",
      "14     24.0\n",
      "15     24.0\n",
      "16    364.0\n",
      "Name: stimulant-frequency, dtype: float64>\n"
     ]
    },
    {
     "name": "stderr",
     "output_type": "stream",
     "text": [
      "/anaconda/envs/dsi/lib/python2.7/site-packages/ipykernel/__main__.py:4: SettingWithCopyWarning: \n",
      "A value is trying to be set on a copy of a slice from a DataFrame\n",
      "\n",
      "See the caveats in the documentation: http://pandas.pydata.org/pandas-docs/stable/indexing.html#indexing-view-versus-copy\n"
     ]
    },
    {
     "data": {
      "text/plain": [
       "0      2.0\n",
       "1      4.0\n",
       "2     12.0\n",
       "3      6.0\n",
       "4      9.5\n",
       "5      9.0\n",
       "6      8.0\n",
       "7      6.0\n",
       "8     12.0\n",
       "9     10.0\n",
       "10    10.0\n",
       "11    10.0\n",
       "12     7.0\n",
       "13    12.0\n",
       "14    24.0\n",
       "15    24.0\n",
       "16    24.0\n",
       "Name: stimulant-frequency, dtype: float64"
      ]
     },
     "execution_count": 610,
     "metadata": {},
     "output_type": "execute_result"
    }
   ],
   "source": [
    "print drug['stimulant-frequency'].value_counts \n",
    "# 364 - this looks like an outlier.  going to replace with the max for this field\n",
    "drug['stimulant-frequency'][16] = drug.sort_values('stimulant-frequency',\n",
    "                                                   ascending=False, axis=0)['stimulant-frequency'][1:2]\n",
    "drug['stimulant-frequency']"
   ]
  },
  {
   "cell_type": "code",
   "execution_count": 611,
   "metadata": {
    "collapsed": true
   },
   "outputs": [],
   "source": [
    "# Here are my thoughts:\n",
    "# - Not sure what n stands for. However, because 'age' covers all of the age \n",
    "#   possibilities over age 13, my guess is that the age category is age buckets\n",
    "#   and n is the number of subjects in each age bucket. it's as if this was a \n",
    "#   pivot table for some bigger dataframe.\n",
    "# - Whether a column is \"...frequency\" or \"...use\", it *appears* as float. However, \n",
    "#   .info() shows that a number of them show up as object. Should convert to float.\n",
    "# - 'pain reliever' is spelled wrong in two columns\n",
    "# - Stimulant-frequency and Sedative-frequency may possibly have outliers (the \n",
    "#   max numbers are very high). changed the stimulant frequency to be the same as\n",
    "#   the max of the remaining values\n",
    "# - No values are null but I tried to change the values that were '-' to 0.0, \n",
    "#   and change the object dtypes to floats. didn't work.\n"
   ]
  },
  {
   "cell_type": "markdown",
   "metadata": {},
   "source": [
    "### 7.2 Do a high-level, initial overview of the data\n",
    "\n",
    " and take a look at the column variables. Get a feel for what this dataset is all about. The code you use to do this is \"up to you\", as in you will apply processes you have learned above.\n",
    "\n",
    "The final response to this question should be a written description of what you deduce and infer the dataset to describe. "
   ]
  },
  {
   "cell_type": "code",
   "execution_count": null,
   "metadata": {
    "collapsed": true
   },
   "outputs": [],
   "source": [
    "# I'm still not sure what the data is.  I believe it is a large data set, tracking \n",
    "# subject's drug use of a -year-. n is the number of subjects in that age group.\n",
    "# i don't know how to interpret drug use frequency - it seems to have a weird \n",
    "# high volume in the highest frequency.  I think if I treat drug use as being \n",
    "# number of days drug X was used over the year, that could be reasonable."
   ]
  },
  {
   "cell_type": "markdown",
   "metadata": {},
   "source": [
    "### 7.3 Create a testable hypothesis about this data\n",
    "\n",
    "Requirements for the question:\n",
    "\n",
    "1. Write a specific question you would like to answer with the data (that can be accomplished with EDA).\n",
    "2. Write a description of the \"deliverables\": what will you report after testing/examining your hypothesis?\n",
    "3. Use EDA techniques of your choice, numeric and/or visual, to look into your question.\n",
    "4. Write up your report on what you have found regarding the hypothesis about the data you came up with.\n",
    "\n",
    "\n",
    "**Important notes:**\n",
    "\n",
    "You should be only doing EDA _relevant to your question_ here. It is easy to go down rabbit holes trying to look at every facet of your data, and so we want you to get in the practice of specifying a hypothesis you are interested in first and scoping your work to specifically answer that question.\n",
    "\n",
    "Some of you may want to jump ahead to \"modeling\" data to answer your question. This is a topic addressed in the next project and **you should not do this for this project.** We specifically want you to not do modeling to emphasize the importance of performing EDA _before_ you jump to statistical analysis."
   ]
  },
  {
   "cell_type": "code",
   "execution_count": 619,
   "metadata": {
    "collapsed": true
   },
   "outputs": [],
   "source": [
    "# hypothesis: Alcohol and marijuana are seen as gateway drugs to more serious\n",
    "# drugs.  Is it possible that once someone discovers \"more dangerous\" drugs \n",
    "# such as heroin and cocaine, that they will no longer get any buzz out of\n",
    "# the \"simpler\" and\"non-dangerous\" drugs such as alcohol and marijuana? My\n",
    "# hypothesis is that the amount of \"non-dangerous\" drug use is negatively\n",
    "# correlated with the amount of use of \"more dangerous\" drugs.\n",
    "\n",
    "# deliverables - I hope to explore the relationship between (alcohol and marijuana)\n",
    "# and (heroin and cocaine). If the data shows a negative correlation, then\n",
    "# I would say taht it appears to have some negative correlation."
   ]
  },
  {
   "cell_type": "code",
   "execution_count": 622,
   "metadata": {
    "collapsed": false
   },
   "outputs": [
    {
     "data": {
      "text/plain": [
       "<seaborn.axisgrid.PairGrid at 0x18d40c950>"
      ]
     },
     "execution_count": 622,
     "metadata": {},
     "output_type": "execute_result"
    },
    {
     "data": {
      "image/png": "[encoded data removed]",
      "text/plain": [
       "<matplotlib.figure.Figure at 0x1bee5bcd0>"
      ]
     },
     "metadata": {
      "image/png": {
       "height": 714,
       "width": 715
      }
     },
     "output_type": "display_data"
    }
   ],
   "source": [
    "sns.pairplot(drug[['marijuana-use','alcohol-use','heroin-use','cocaine-use']])\n",
    "# hm so far the data doesn't seem to support that hypothesis"
   ]
  },
  {
   "cell_type": "code",
   "execution_count": 623,
   "metadata": {
    "collapsed": false
   },
   "outputs": [
    {
     "name": "stderr",
     "output_type": "stream",
     "text": [
      "/anaconda/envs/dsi/lib/python2.7/site-packages/ipykernel/__main__.py:2: SettingWithCopyWarning: \n",
      "A value is trying to be set on a copy of a slice from a DataFrame.\n",
      "Try using .loc[row_indexer,col_indexer] = value instead\n",
      "\n",
      "See the caveats in the documentation: http://pandas.pydata.org/pandas-docs/stable/indexing.html#indexing-view-versus-copy\n",
      "  from ipykernel import kernelapp as app\n",
      "/anaconda/envs/dsi/lib/python2.7/site-packages/ipykernel/__main__.py:3: SettingWithCopyWarning: \n",
      "A value is trying to be set on a copy of a slice from a DataFrame.\n",
      "Try using .loc[row_indexer,col_indexer] = value instead\n",
      "\n",
      "See the caveats in the documentation: http://pandas.pydata.org/pandas-docs/stable/indexing.html#indexing-view-versus-copy\n",
      "  app.launch_new_instance()\n"
     ]
    },
    {
     "data": {
      "text/html": [
       "<div>\n",
       "<table border=\"1\" class=\"dataframe\">\n",
       "  <thead>\n",
       "    <tr style=\"text-align: right;\">\n",
       "      <th></th>\n",
       "      <th>marijuana-use</th>\n",
       "      <th>alcohol-use</th>\n",
       "      <th>heroin-use</th>\n",
       "      <th>cocaine-use</th>\n",
       "      <th>non-dangerous-drugs</th>\n",
       "      <th>more-dangerous-drugs</th>\n",
       "    </tr>\n",
       "  </thead>\n",
       "  <tbody>\n",
       "    <tr>\n",
       "      <th>0</th>\n",
       "      <td>1.1</td>\n",
       "      <td>3.9</td>\n",
       "      <td>0.1</td>\n",
       "      <td>0.1</td>\n",
       "      <td>5.0</td>\n",
       "      <td>0.2</td>\n",
       "    </tr>\n",
       "    <tr>\n",
       "      <th>1</th>\n",
       "      <td>3.4</td>\n",
       "      <td>8.5</td>\n",
       "      <td>0.0</td>\n",
       "      <td>0.1</td>\n",
       "      <td>11.9</td>\n",
       "      <td>0.1</td>\n",
       "    </tr>\n",
       "    <tr>\n",
       "      <th>2</th>\n",
       "      <td>8.7</td>\n",
       "      <td>18.1</td>\n",
       "      <td>0.1</td>\n",
       "      <td>0.1</td>\n",
       "      <td>26.8</td>\n",
       "      <td>0.2</td>\n",
       "    </tr>\n",
       "    <tr>\n",
       "      <th>3</th>\n",
       "      <td>14.5</td>\n",
       "      <td>29.2</td>\n",
       "      <td>0.2</td>\n",
       "      <td>0.5</td>\n",
       "      <td>43.7</td>\n",
       "      <td>0.7</td>\n",
       "    </tr>\n",
       "    <tr>\n",
       "      <th>4</th>\n",
       "      <td>22.5</td>\n",
       "      <td>40.1</td>\n",
       "      <td>0.1</td>\n",
       "      <td>1.0</td>\n",
       "      <td>62.6</td>\n",
       "      <td>1.1</td>\n",
       "    </tr>\n",
       "    <tr>\n",
       "      <th>5</th>\n",
       "      <td>28.0</td>\n",
       "      <td>49.3</td>\n",
       "      <td>0.1</td>\n",
       "      <td>2.0</td>\n",
       "      <td>77.3</td>\n",
       "      <td>2.1</td>\n",
       "    </tr>\n",
       "    <tr>\n",
       "      <th>6</th>\n",
       "      <td>33.7</td>\n",
       "      <td>58.7</td>\n",
       "      <td>0.4</td>\n",
       "      <td>3.2</td>\n",
       "      <td>92.4</td>\n",
       "      <td>3.6</td>\n",
       "    </tr>\n",
       "    <tr>\n",
       "      <th>7</th>\n",
       "      <td>33.4</td>\n",
       "      <td>64.6</td>\n",
       "      <td>0.5</td>\n",
       "      <td>4.1</td>\n",
       "      <td>98.0</td>\n",
       "      <td>4.6</td>\n",
       "    </tr>\n",
       "    <tr>\n",
       "      <th>8</th>\n",
       "      <td>34.0</td>\n",
       "      <td>69.7</td>\n",
       "      <td>0.9</td>\n",
       "      <td>4.9</td>\n",
       "      <td>103.7</td>\n",
       "      <td>5.8</td>\n",
       "    </tr>\n",
       "    <tr>\n",
       "      <th>9</th>\n",
       "      <td>33.0</td>\n",
       "      <td>83.2</td>\n",
       "      <td>0.6</td>\n",
       "      <td>4.8</td>\n",
       "      <td>116.2</td>\n",
       "      <td>5.4</td>\n",
       "    </tr>\n",
       "    <tr>\n",
       "      <th>10</th>\n",
       "      <td>28.4</td>\n",
       "      <td>84.2</td>\n",
       "      <td>1.1</td>\n",
       "      <td>4.5</td>\n",
       "      <td>112.6</td>\n",
       "      <td>5.6</td>\n",
       "    </tr>\n",
       "    <tr>\n",
       "      <th>11</th>\n",
       "      <td>24.9</td>\n",
       "      <td>83.1</td>\n",
       "      <td>0.7</td>\n",
       "      <td>4.0</td>\n",
       "      <td>108.0</td>\n",
       "      <td>4.7</td>\n",
       "    </tr>\n",
       "    <tr>\n",
       "      <th>12</th>\n",
       "      <td>20.8</td>\n",
       "      <td>80.7</td>\n",
       "      <td>0.6</td>\n",
       "      <td>3.2</td>\n",
       "      <td>101.5</td>\n",
       "      <td>3.8</td>\n",
       "    </tr>\n",
       "    <tr>\n",
       "      <th>13</th>\n",
       "      <td>16.4</td>\n",
       "      <td>77.5</td>\n",
       "      <td>0.4</td>\n",
       "      <td>2.1</td>\n",
       "      <td>93.9</td>\n",
       "      <td>2.5</td>\n",
       "    </tr>\n",
       "    <tr>\n",
       "      <th>14</th>\n",
       "      <td>10.4</td>\n",
       "      <td>75.0</td>\n",
       "      <td>0.1</td>\n",
       "      <td>1.5</td>\n",
       "      <td>85.4</td>\n",
       "      <td>1.6</td>\n",
       "    </tr>\n",
       "    <tr>\n",
       "      <th>15</th>\n",
       "      <td>7.3</td>\n",
       "      <td>67.2</td>\n",
       "      <td>0.1</td>\n",
       "      <td>0.9</td>\n",
       "      <td>74.5</td>\n",
       "      <td>1.0</td>\n",
       "    </tr>\n",
       "    <tr>\n",
       "      <th>16</th>\n",
       "      <td>1.2</td>\n",
       "      <td>49.3</td>\n",
       "      <td>0.0</td>\n",
       "      <td>0.0</td>\n",
       "      <td>50.5</td>\n",
       "      <td>0.0</td>\n",
       "    </tr>\n",
       "  </tbody>\n",
       "</table>\n",
       "</div>"
      ],
      "text/plain": [
       "    marijuana-use  alcohol-use  heroin-use  cocaine-use  non-dangerous-drugs  \\\n",
       "0             1.1          3.9         0.1          0.1                  5.0   \n",
       "1             3.4          8.5         0.0          0.1                 11.9   \n",
       "2             8.7         18.1         0.1          0.1                 26.8   \n",
       "3            14.5         29.2         0.2          0.5                 43.7   \n",
       "4            22.5         40.1         0.1          1.0                 62.6   \n",
       "5            28.0         49.3         0.1          2.0                 77.3   \n",
       "6            33.7         58.7         0.4          3.2                 92.4   \n",
       "7            33.4         64.6         0.5          4.1                 98.0   \n",
       "8            34.0         69.7         0.9          4.9                103.7   \n",
       "9            33.0         83.2         0.6          4.8                116.2   \n",
       "10           28.4         84.2         1.1          4.5                112.6   \n",
       "11           24.9         83.1         0.7          4.0                108.0   \n",
       "12           20.8         80.7         0.6          3.2                101.5   \n",
       "13           16.4         77.5         0.4          2.1                 93.9   \n",
       "14           10.4         75.0         0.1          1.5                 85.4   \n",
       "15            7.3         67.2         0.1          0.9                 74.5   \n",
       "16            1.2         49.3         0.0          0.0                 50.5   \n",
       "\n",
       "    more-dangerous-drugs  \n",
       "0                    0.2  \n",
       "1                    0.1  \n",
       "2                    0.2  \n",
       "3                    0.7  \n",
       "4                    1.1  \n",
       "5                    2.1  \n",
       "6                    3.6  \n",
       "7                    4.6  \n",
       "8                    5.8  \n",
       "9                    5.4  \n",
       "10                   5.6  \n",
       "11                   4.7  \n",
       "12                   3.8  \n",
       "13                   2.5  \n",
       "14                   1.6  \n",
       "15                   1.0  \n",
       "16                   0.0  "
      ]
     },
     "execution_count": 623,
     "metadata": {},
     "output_type": "execute_result"
    }
   ],
   "source": [
    "drug_sum = drug[['marijuana-use','alcohol-use','heroin-use','cocaine-use']]\n",
    "drug_sum['non-dangerous-drugs'] = drug['marijuana-use'] + drug['alcohol-use']\n",
    "drug_sum['more-dangerous-drugs'] = drug['heroin-use'] + drug['cocaine-use']\n",
    "drug_sum"
   ]
  },
  {
   "cell_type": "code",
   "execution_count": 624,
   "metadata": {
    "collapsed": false
   },
   "outputs": [
    {
     "data": {
      "image/png": "[encoded data removed]",
      "text/plain": [
       "<matplotlib.figure.Figure at 0x15e7826d0>"
      ]
     },
     "metadata": {
      "image/png": {
       "height": 258,
       "width": 375
      }
     },
     "output_type": "display_data"
    }
   ],
   "source": [
    "fig = plt.figure()\n",
    "ax = fig.gca()\n",
    "ax = ax.scatter(drug_sum['more-dangerous-drugs'],drug_sum['non-dangerous-drugs'])\n",
    "\n",
    "# whelp, not negative AT ALL."
   ]
  },
  {
   "cell_type": "code",
   "execution_count": 625,
   "metadata": {
    "collapsed": false
   },
   "outputs": [
    {
     "data": {
      "text/html": [
       "<div>\n",
       "<table border=\"1\" class=\"dataframe\">\n",
       "  <thead>\n",
       "    <tr style=\"text-align: right;\">\n",
       "      <th></th>\n",
       "      <th>marijuana-use</th>\n",
       "      <th>alcohol-use</th>\n",
       "      <th>heroin-use</th>\n",
       "      <th>cocaine-use</th>\n",
       "      <th>non-dangerous-drugs</th>\n",
       "      <th>more-dangerous-drugs</th>\n",
       "    </tr>\n",
       "  </thead>\n",
       "  <tbody>\n",
       "    <tr>\n",
       "      <th>marijuana-use</th>\n",
       "      <td>1.000000</td>\n",
       "      <td>0.594165</td>\n",
       "      <td>0.711613</td>\n",
       "      <td>0.883789</td>\n",
       "      <td>0.790773</td>\n",
       "      <td>0.868537</td>\n",
       "    </tr>\n",
       "    <tr>\n",
       "      <th>alcohol-use</th>\n",
       "      <td>0.594165</td>\n",
       "      <td>1.000000</td>\n",
       "      <td>0.677614</td>\n",
       "      <td>0.773458</td>\n",
       "      <td>0.962196</td>\n",
       "      <td>0.768735</td>\n",
       "    </tr>\n",
       "    <tr>\n",
       "      <th>heroin-use</th>\n",
       "      <td>0.711613</td>\n",
       "      <td>0.677614</td>\n",
       "      <td>1.000000</td>\n",
       "      <td>0.899944</td>\n",
       "      <td>0.756627</td>\n",
       "      <td>0.927724</td>\n",
       "    </tr>\n",
       "    <tr>\n",
       "      <th>cocaine-use</th>\n",
       "      <td>0.883789</td>\n",
       "      <td>0.773458</td>\n",
       "      <td>0.899944</td>\n",
       "      <td>1.000000</td>\n",
       "      <td>0.887865</td>\n",
       "      <td>0.997646</td>\n",
       "    </tr>\n",
       "    <tr>\n",
       "      <th>non-dangerous-drugs</th>\n",
       "      <td>0.790773</td>\n",
       "      <td>0.962196</td>\n",
       "      <td>0.756627</td>\n",
       "      <td>0.887865</td>\n",
       "      <td>1.000000</td>\n",
       "      <td>0.879107</td>\n",
       "    </tr>\n",
       "    <tr>\n",
       "      <th>more-dangerous-drugs</th>\n",
       "      <td>0.868537</td>\n",
       "      <td>0.768735</td>\n",
       "      <td>0.927724</td>\n",
       "      <td>0.997646</td>\n",
       "      <td>0.879107</td>\n",
       "      <td>1.000000</td>\n",
       "    </tr>\n",
       "  </tbody>\n",
       "</table>\n",
       "</div>"
      ],
      "text/plain": [
       "                      marijuana-use  alcohol-use  heroin-use  cocaine-use  \\\n",
       "marijuana-use              1.000000     0.594165    0.711613     0.883789   \n",
       "alcohol-use                0.594165     1.000000    0.677614     0.773458   \n",
       "heroin-use                 0.711613     0.677614    1.000000     0.899944   \n",
       "cocaine-use                0.883789     0.773458    0.899944     1.000000   \n",
       "non-dangerous-drugs        0.790773     0.962196    0.756627     0.887865   \n",
       "more-dangerous-drugs       0.868537     0.768735    0.927724     0.997646   \n",
       "\n",
       "                      non-dangerous-drugs  more-dangerous-drugs  \n",
       "marijuana-use                    0.790773              0.868537  \n",
       "alcohol-use                      0.962196              0.768735  \n",
       "heroin-use                       0.756627              0.927724  \n",
       "cocaine-use                      0.887865              0.997646  \n",
       "non-dangerous-drugs              1.000000              0.879107  \n",
       "more-dangerous-drugs             0.879107              1.000000  "
      ]
     },
     "execution_count": 625,
     "metadata": {},
     "output_type": "execute_result"
    }
   ],
   "source": [
    "drug_sum.corr()"
   ]
  },
  {
   "cell_type": "code",
   "execution_count": null,
   "metadata": {
    "collapsed": true
   },
   "outputs": [],
   "source": [
    "# Report:\n",
    "# Yes, so it seems that my hypothesis is, on the surface, not a great one.  It \n",
    "# appears that use of more dangerous drugs INCREASES as use of non dangerous \n",
    "# drugs increases.  I might want to do some further exploration to take\n",
    "# the effect of age increase into effect - perhaps it's simply that the subject\n",
    "# gets older, gets more money to buy and use drugs, becomes more sophisticated,\n",
    "# and consumes more of both types of drugs, rather than one being a driver for \n",
    "# the other."
   ]
  },
  {
   "cell_type": "markdown",
   "metadata": {},
   "source": [
    "<img src=\"http://imgur.com/GCAf1UX.png\" style=\"float: left; margin: 25px 15px 0px 0px; height: 25px\">\n",
    "\n",
    "## 9. Covariance and correlation\n",
    "\n",
    "---\n",
    "\n",
    "### 9.1 Return to the sat dataset\n",
    "\n",
    "**Go back to the sat dataset.**\n",
    "\n",
    "1. Create the covariance matrix for the non-State variables. There are pandas and numpy functions that can do this.\n",
    "2. What is the difference between the covariance and correlation matrix?\n",
    "3. Why is the correlation matrix preferred to the covariance matrix for EDA?"
   ]
  },
  {
   "cell_type": "code",
   "execution_count": 613,
   "metadata": {
    "collapsed": true
   },
   "outputs": [],
   "source": [
    "####################\n",
    "# this is a chall- #\n",
    "# -enge            #\n",
    "####################"
   ]
  },
  {
   "cell_type": "markdown",
   "metadata": {},
   "source": [
    "<img src=\"http://imgur.com/gGrau8s.png\" style=\"float: left; margin: 25px 15px 0px 0px; height: 25px\">\n",
    "\n",
    "### 9.2 Deeper into covariance and correlation\n",
    "\n",
    "1. How is the covariance matrix calculated?\n",
    "2. How is the correlation matrix calculated?\n",
    "3. Based on the explicit formulas, what is the primary differences between the two? \n",
    "\n"
   ]
  },
  {
   "cell_type": "code",
   "execution_count": 614,
   "metadata": {
    "collapsed": true
   },
   "outputs": [],
   "source": [
    "####################\n",
    "# expert\n",
    "####################"
   ]
  },
  {
   "cell_type": "markdown",
   "metadata": {},
   "source": [
    "<img src=\"http://imgur.com/gGrau8s.png\" style=\"float: left; margin: 25px 15px 0px 0px; height: 25px\">\n",
    "\n",
    "### 9.3 Manual calculation of the covariance and correlation\n",
    "\n",
    "Create two functions that accept a matrix/DataFrame of numeric columns.\n",
    "\n",
    "1. Write a function that manually calculates the covariance matrix.\n",
    "2. Write a function that manually calculates the correlation matrix."
   ]
  },
  {
   "cell_type": "code",
   "execution_count": 615,
   "metadata": {
    "collapsed": true
   },
   "outputs": [],
   "source": [
    "####################\n",
    "# expert\n",
    "####################"
   ]
  },
  {
   "cell_type": "markdown",
   "metadata": {},
   "source": [
    "<img src=\"http://imgur.com/GCAf1UX.png\" style=\"float: left; margin: 25px 15px 0px 0px; height: 25px\">\n",
    "\n",
    "## 9. Introduction to dealing with outliers\n",
    "\n",
    "---\n",
    "\n",
    "Outliers are an interesting problem in statistics, in that there is not an agreed upon best way to define them. Subjectivity in selecting and analyzing data is a problem that will recur throughout the course.\n",
    "\n",
    "1. Pull out the rate variable from the sat dataset.\n",
    "2. Are there outliers in the dataset? Define, in words, how you _numerically define outliers._\n",
    "3. Print out the outliers in the dataset.\n",
    "4. Remove the outliers from the dataset.\n",
    "5. Compare the mean, median, and standard deviation of the \"cleaned\" data without outliers to the original. What is different about them and why?"
   ]
  },
  {
   "cell_type": "code",
   "execution_count": 616,
   "metadata": {
    "collapsed": true
   },
   "outputs": [],
   "source": [
    "####################\n",
    "# Challenge\n",
    "####################"
   ]
  },
  {
   "cell_type": "markdown",
   "metadata": {},
   "source": [
    "<img src=\"http://imgur.com/gGrau8s.png\" style=\"float: left; margin: 25px 15px 0px 0px; height: 25px\">\n",
    "\n",
    "### 10. Percentile scoring and spearman rank correlation\n",
    "\n",
    "---\n",
    "\n",
    "### 10.1 Calculate the spearman correlation of sat `Verbal` and `Math`\n",
    "\n",
    "1. How does the spearman correlation compare to the pearson correlation? \n",
    "2. Describe clearly in words the process of calculating the spearman rank correlation.\n",
    "  - Hint: the word \"rank\" is in the name of the process for a reason!\n"
   ]
  },
  {
   "cell_type": "code",
   "execution_count": 617,
   "metadata": {
    "collapsed": true
   },
   "outputs": [],
   "source": [
    "####################\n",
    "# expert\n",
    "####################"
   ]
  },
  {
   "cell_type": "markdown",
   "metadata": {},
   "source": [
    "### 10.2 Percentile scoring\n",
    "\n",
    "Look up percentile scoring of data. In other words, the conversion of numeric data to their equivalent percentile scores.\n",
    "\n",
    "http://docs.scipy.org/doc/numpy-dev/reference/generated/numpy.percentile.html\n",
    "\n",
    "http://docs.scipy.org/doc/scipy/reference/generated/scipy.stats.percentileofscore.html\n",
    "\n",
    "1. Convert `Rate` to percentiles in the sat scores as a new column.\n",
    "2. Show the percentile of California in `Rate`.\n",
    "3. How is percentile related to the spearman rank correlation?"
   ]
  },
  {
   "cell_type": "code",
   "execution_count": null,
   "metadata": {
    "collapsed": true
   },
   "outputs": [],
   "source": []
  },
  {
   "cell_type": "markdown",
   "metadata": {},
   "source": [
    "### 10.3 Percentiles and outliers\n",
    "\n",
    "1. Why might percentile scoring be useful for dealing with outliers?\n",
    "2. Plot the distribution of a variable of your choice from the drug use dataset.\n",
    "3. Plot the same variable but percentile scored.\n",
    "4. Describe the effect, visually, of coverting raw scores to percentile."
   ]
  },
  {
   "cell_type": "code",
   "execution_count": null,
   "metadata": {
    "collapsed": true
   },
   "outputs": [],
   "source": []
  }
 ],
 "metadata": {
  "anaconda-cloud": {},
  "kernelspec": {
   "display_name": "Python [dsi]",
   "language": "python",
   "name": "Python [dsi]"
  },
  "language_info": {
   "codemirror_mode": {
    "name": "ipython",
    "version": 2
   },
   "file_extension": ".py",
   "mimetype": "text/x-python",
   "name": "python",
   "nbconvert_exporter": "python",
   "pygments_lexer": "ipython2",
   "version": "2.7.12"
  }
 },
 "nbformat": 4,
 "nbformat_minor": 0
}
