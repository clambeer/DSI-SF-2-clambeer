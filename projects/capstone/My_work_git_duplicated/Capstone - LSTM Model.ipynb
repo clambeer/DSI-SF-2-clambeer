{
 "cells": [
  {
   "cell_type": "markdown",
   "metadata": {},
   "source": [
    "## The first model attemped is LSTM. Why? Because I am a sadistic person.\n",
    "\n",
    "## This section is to be filled out later when I HAVE SOME RESULTS. THAT DAY WILL COME. SOMEDAY."
   ]
  },
  {
   "cell_type": "code",
   "execution_count": 64,
   "metadata": {
    "collapsed": false
   },
   "outputs": [],
   "source": [
    "import music21 as m21\n",
    "\n",
    "import pandas as pd\n",
    "import numpy as np\n",
    "\n",
    "import copy\n",
    "import cPickle\n",
    "\n",
    "from keras.models import Sequential\n",
    "from keras.layers import Dense\n",
    "from keras.layers import LSTM\n",
    "from keras.utils import np_utils"
   ]
  },
  {
   "cell_type": "code",
   "execution_count": 4,
   "metadata": {
    "collapsed": false
   },
   "outputs": [],
   "source": [
    "f = open('clean_bach.p','rb')\n",
    "clean_bach = cPickle.load(f)\n",
    "f.close()"
   ]
  },
  {
   "cell_type": "code",
   "execution_count": 5,
   "metadata": {
    "collapsed": false
   },
   "outputs": [
    {
     "data": {
      "text/html": [
       "<div>\n",
       "<table border=\"1\" class=\"dataframe\">\n",
       "  <thead>\n",
       "    <tr style=\"text-align: right;\">\n",
       "      <th></th>\n",
       "      <th>BWV</th>\n",
       "      <th>orig_key</th>\n",
       "      <th>beats_per_measure</th>\n",
       "      <th>forward_note</th>\n",
       "      <th>back_note</th>\n",
       "      <th>forward_measure</th>\n",
       "      <th>back_measure</th>\n",
       "      <th>note_in_measure_position</th>\n",
       "      <th>quarter_in_measure_position</th>\n",
       "      <th>soprano_pitch_cat</th>\n",
       "      <th>alto_pitch_cat</th>\n",
       "      <th>tenor_pitch_cat</th>\n",
       "      <th>bass_pitch_cat</th>\n",
       "      <th>soprano_pitch_cont</th>\n",
       "      <th>alto_pitch_cont</th>\n",
       "      <th>tenor_pitch_cont</th>\n",
       "      <th>bass_pitch_cont</th>\n",
       "    </tr>\n",
       "  </thead>\n",
       "  <tbody>\n",
       "    <tr>\n",
       "      <th>bwv421_0</th>\n",
       "      <td>bwv421</td>\n",
       "      <td>a minor</td>\n",
       "      <td>4</td>\n",
       "      <td>0</td>\n",
       "      <td>159</td>\n",
       "      <td>0</td>\n",
       "      <td>10</td>\n",
       "      <td>1</td>\n",
       "      <td>4</td>\n",
       "      <td>G4</td>\n",
       "      <td>D4</td>\n",
       "      <td>B-3</td>\n",
       "      <td>G2</td>\n",
       "      <td>1</td>\n",
       "      <td>-4</td>\n",
       "      <td>-8</td>\n",
       "      <td>-23</td>\n",
       "    </tr>\n",
       "    <tr>\n",
       "      <th>bwv421_1</th>\n",
       "      <td>bwv421</td>\n",
       "      <td>a minor</td>\n",
       "      <td>4</td>\n",
       "      <td>1</td>\n",
       "      <td>158</td>\n",
       "      <td>0</td>\n",
       "      <td>10</td>\n",
       "      <td>2</td>\n",
       "      <td>4</td>\n",
       "      <td>G4</td>\n",
       "      <td>D4</td>\n",
       "      <td>B-3</td>\n",
       "      <td>G2</td>\n",
       "      <td>1</td>\n",
       "      <td>-4</td>\n",
       "      <td>-8</td>\n",
       "      <td>-23</td>\n",
       "    </tr>\n",
       "    <tr>\n",
       "      <th>bwv421_2</th>\n",
       "      <td>bwv421</td>\n",
       "      <td>a minor</td>\n",
       "      <td>4</td>\n",
       "      <td>2</td>\n",
       "      <td>157</td>\n",
       "      <td>0</td>\n",
       "      <td>10</td>\n",
       "      <td>3</td>\n",
       "      <td>4</td>\n",
       "      <td>G4</td>\n",
       "      <td>D4</td>\n",
       "      <td>C4</td>\n",
       "      <td>A2</td>\n",
       "      <td>1</td>\n",
       "      <td>-4</td>\n",
       "      <td>-6</td>\n",
       "      <td>-21</td>\n",
       "    </tr>\n",
       "    <tr>\n",
       "      <th>bwv421_3</th>\n",
       "      <td>bwv421</td>\n",
       "      <td>a minor</td>\n",
       "      <td>4</td>\n",
       "      <td>3</td>\n",
       "      <td>156</td>\n",
       "      <td>0</td>\n",
       "      <td>10</td>\n",
       "      <td>4</td>\n",
       "      <td>4</td>\n",
       "      <td>G4</td>\n",
       "      <td>D4</td>\n",
       "      <td>C4</td>\n",
       "      <td>A2</td>\n",
       "      <td>1</td>\n",
       "      <td>-4</td>\n",
       "      <td>-6</td>\n",
       "      <td>-21</td>\n",
       "    </tr>\n",
       "    <tr>\n",
       "      <th>bwv421_4</th>\n",
       "      <td>bwv421</td>\n",
       "      <td>a minor</td>\n",
       "      <td>4</td>\n",
       "      <td>4</td>\n",
       "      <td>155</td>\n",
       "      <td>1</td>\n",
       "      <td>9</td>\n",
       "      <td>1</td>\n",
       "      <td>1</td>\n",
       "      <td>G4</td>\n",
       "      <td>D4</td>\n",
       "      <td>D4</td>\n",
       "      <td>B-2</td>\n",
       "      <td>1</td>\n",
       "      <td>-4</td>\n",
       "      <td>-4</td>\n",
       "      <td>-20</td>\n",
       "    </tr>\n",
       "  </tbody>\n",
       "</table>\n",
       "</div>"
      ],
      "text/plain": [
       "             BWV orig_key  beats_per_measure  forward_note  back_note  \\\n",
       "bwv421_0  bwv421  a minor                  4             0        159   \n",
       "bwv421_1  bwv421  a minor                  4             1        158   \n",
       "bwv421_2  bwv421  a minor                  4             2        157   \n",
       "bwv421_3  bwv421  a minor                  4             3        156   \n",
       "bwv421_4  bwv421  a minor                  4             4        155   \n",
       "\n",
       "          forward_measure  back_measure  note_in_measure_position  \\\n",
       "bwv421_0                0            10                         1   \n",
       "bwv421_1                0            10                         2   \n",
       "bwv421_2                0            10                         3   \n",
       "bwv421_3                0            10                         4   \n",
       "bwv421_4                1             9                         1   \n",
       "\n",
       "          quarter_in_measure_position soprano_pitch_cat alto_pitch_cat  \\\n",
       "bwv421_0                            4                G4             D4   \n",
       "bwv421_1                            4                G4             D4   \n",
       "bwv421_2                            4                G4             D4   \n",
       "bwv421_3                            4                G4             D4   \n",
       "bwv421_4                            1                G4             D4   \n",
       "\n",
       "         tenor_pitch_cat bass_pitch_cat  soprano_pitch_cont  alto_pitch_cont  \\\n",
       "bwv421_0             B-3             G2                   1               -4   \n",
       "bwv421_1             B-3             G2                   1               -4   \n",
       "bwv421_2              C4             A2                   1               -4   \n",
       "bwv421_3              C4             A2                   1               -4   \n",
       "bwv421_4              D4            B-2                   1               -4   \n",
       "\n",
       "          tenor_pitch_cont  bass_pitch_cont  \n",
       "bwv421_0                -8              -23  \n",
       "bwv421_1                -8              -23  \n",
       "bwv421_2                -6              -21  \n",
       "bwv421_3                -6              -21  \n",
       "bwv421_4                -4              -20  "
      ]
     },
     "execution_count": 5,
     "metadata": {},
     "output_type": "execute_result"
    }
   ],
   "source": [
    "clean_bach.head()"
   ]
  },
  {
   "cell_type": "markdown",
   "metadata": {},
   "source": [
    "## Creating target and predictor variables\n",
    "#### Create a master y and X for each categorical and continuous\n",
    "### KEEP THESE AS DATAFRAMES"
   ]
  },
  {
   "cell_type": "markdown",
   "metadata": {},
   "source": [
    "### Categorical Version"
   ]
  },
  {
   "cell_type": "markdown",
   "metadata": {},
   "source": [
    "#### target y variable"
   ]
  },
  {
   "cell_type": "code",
   "execution_count": 9,
   "metadata": {
    "collapsed": true
   },
   "outputs": [],
   "source": [
    "# a series\n",
    "master_y_cat = clean_bach['soprano_pitch_cat']"
   ]
  },
  {
   "cell_type": "code",
   "execution_count": 53,
   "metadata": {
    "collapsed": false
   },
   "outputs": [
    {
     "data": {
      "text/plain": [
       "G4      7330\n",
       "A4      7169\n",
       "D5      6706\n",
       "C5      4883\n",
       "B4      4026\n",
       "B-4     3538\n",
       "E5      2369\n",
       "G5      1867\n",
       "D4      1238\n",
       "F#5     1111\n",
       "F4       962\n",
       "F#4      939\n",
       "A5       678\n",
       "F5       656\n",
       "E4       595\n",
       "Rest     528\n",
       "E-5      476\n",
       "E-4      362\n",
       "B5       327\n",
       "C#5      268\n",
       "C4       192\n",
       "B-5      159\n",
       "C6        87\n",
       "B-3       78\n",
       "G#4       50\n",
       "D6        30\n",
       "D#5       16\n",
       "D#4       12\n",
       "C#4        8\n",
       "G#5        8\n",
       "B3         8\n",
       "Name: soprano_pitch_cat, dtype: int64"
      ]
     },
     "execution_count": 53,
     "metadata": {},
     "output_type": "execute_result"
    }
   ],
   "source": [
    "master_y_cat.value_counts()"
   ]
  },
  {
   "cell_type": "code",
   "execution_count": 55,
   "metadata": {
    "collapsed": false
   },
   "outputs": [],
   "source": [
    "n_y_cat_variables = master_y_cat.value_counts().shape[0]"
   ]
  },
  {
   "cell_type": "markdown",
   "metadata": {},
   "source": [
    "#### target y variable AS DUMMY VARIABLES"
   ]
  },
  {
   "cell_type": "code",
   "execution_count": 79,
   "metadata": {
    "collapsed": true
   },
   "outputs": [],
   "source": [
    "master_y_cat_dummy = pd.get_dummies(master_y_cat)"
   ]
  },
  {
   "cell_type": "code",
   "execution_count": 80,
   "metadata": {
    "collapsed": false
   },
   "outputs": [
    {
     "data": {
      "text/html": [
       "<div>\n",
       "<table border=\"1\" class=\"dataframe\">\n",
       "  <thead>\n",
       "    <tr style=\"text-align: right;\">\n",
       "      <th></th>\n",
       "      <th>A4</th>\n",
       "      <th>A5</th>\n",
       "      <th>B-3</th>\n",
       "      <th>B-4</th>\n",
       "      <th>B-5</th>\n",
       "      <th>B3</th>\n",
       "      <th>B4</th>\n",
       "      <th>B5</th>\n",
       "      <th>C#4</th>\n",
       "      <th>C#5</th>\n",
       "      <th>...</th>\n",
       "      <th>E5</th>\n",
       "      <th>F#4</th>\n",
       "      <th>F#5</th>\n",
       "      <th>F4</th>\n",
       "      <th>F5</th>\n",
       "      <th>G#4</th>\n",
       "      <th>G#5</th>\n",
       "      <th>G4</th>\n",
       "      <th>G5</th>\n",
       "      <th>Rest</th>\n",
       "    </tr>\n",
       "  </thead>\n",
       "  <tbody>\n",
       "    <tr>\n",
       "      <th>bwv421_0</th>\n",
       "      <td>0.0</td>\n",
       "      <td>0.0</td>\n",
       "      <td>0.0</td>\n",
       "      <td>0.0</td>\n",
       "      <td>0.0</td>\n",
       "      <td>0.0</td>\n",
       "      <td>0.0</td>\n",
       "      <td>0.0</td>\n",
       "      <td>0.0</td>\n",
       "      <td>0.0</td>\n",
       "      <td>...</td>\n",
       "      <td>0.0</td>\n",
       "      <td>0.0</td>\n",
       "      <td>0.0</td>\n",
       "      <td>0.0</td>\n",
       "      <td>0.0</td>\n",
       "      <td>0.0</td>\n",
       "      <td>0.0</td>\n",
       "      <td>1.0</td>\n",
       "      <td>0.0</td>\n",
       "      <td>0.0</td>\n",
       "    </tr>\n",
       "    <tr>\n",
       "      <th>bwv421_1</th>\n",
       "      <td>0.0</td>\n",
       "      <td>0.0</td>\n",
       "      <td>0.0</td>\n",
       "      <td>0.0</td>\n",
       "      <td>0.0</td>\n",
       "      <td>0.0</td>\n",
       "      <td>0.0</td>\n",
       "      <td>0.0</td>\n",
       "      <td>0.0</td>\n",
       "      <td>0.0</td>\n",
       "      <td>...</td>\n",
       "      <td>0.0</td>\n",
       "      <td>0.0</td>\n",
       "      <td>0.0</td>\n",
       "      <td>0.0</td>\n",
       "      <td>0.0</td>\n",
       "      <td>0.0</td>\n",
       "      <td>0.0</td>\n",
       "      <td>1.0</td>\n",
       "      <td>0.0</td>\n",
       "      <td>0.0</td>\n",
       "    </tr>\n",
       "    <tr>\n",
       "      <th>bwv421_2</th>\n",
       "      <td>0.0</td>\n",
       "      <td>0.0</td>\n",
       "      <td>0.0</td>\n",
       "      <td>0.0</td>\n",
       "      <td>0.0</td>\n",
       "      <td>0.0</td>\n",
       "      <td>0.0</td>\n",
       "      <td>0.0</td>\n",
       "      <td>0.0</td>\n",
       "      <td>0.0</td>\n",
       "      <td>...</td>\n",
       "      <td>0.0</td>\n",
       "      <td>0.0</td>\n",
       "      <td>0.0</td>\n",
       "      <td>0.0</td>\n",
       "      <td>0.0</td>\n",
       "      <td>0.0</td>\n",
       "      <td>0.0</td>\n",
       "      <td>1.0</td>\n",
       "      <td>0.0</td>\n",
       "      <td>0.0</td>\n",
       "    </tr>\n",
       "    <tr>\n",
       "      <th>bwv421_3</th>\n",
       "      <td>0.0</td>\n",
       "      <td>0.0</td>\n",
       "      <td>0.0</td>\n",
       "      <td>0.0</td>\n",
       "      <td>0.0</td>\n",
       "      <td>0.0</td>\n",
       "      <td>0.0</td>\n",
       "      <td>0.0</td>\n",
       "      <td>0.0</td>\n",
       "      <td>0.0</td>\n",
       "      <td>...</td>\n",
       "      <td>0.0</td>\n",
       "      <td>0.0</td>\n",
       "      <td>0.0</td>\n",
       "      <td>0.0</td>\n",
       "      <td>0.0</td>\n",
       "      <td>0.0</td>\n",
       "      <td>0.0</td>\n",
       "      <td>1.0</td>\n",
       "      <td>0.0</td>\n",
       "      <td>0.0</td>\n",
       "    </tr>\n",
       "    <tr>\n",
       "      <th>bwv421_4</th>\n",
       "      <td>0.0</td>\n",
       "      <td>0.0</td>\n",
       "      <td>0.0</td>\n",
       "      <td>0.0</td>\n",
       "      <td>0.0</td>\n",
       "      <td>0.0</td>\n",
       "      <td>0.0</td>\n",
       "      <td>0.0</td>\n",
       "      <td>0.0</td>\n",
       "      <td>0.0</td>\n",
       "      <td>...</td>\n",
       "      <td>0.0</td>\n",
       "      <td>0.0</td>\n",
       "      <td>0.0</td>\n",
       "      <td>0.0</td>\n",
       "      <td>0.0</td>\n",
       "      <td>0.0</td>\n",
       "      <td>0.0</td>\n",
       "      <td>1.0</td>\n",
       "      <td>0.0</td>\n",
       "      <td>0.0</td>\n",
       "    </tr>\n",
       "  </tbody>\n",
       "</table>\n",
       "<p>5 rows × 31 columns</p>\n",
       "</div>"
      ],
      "text/plain": [
       "           A4   A5  B-3  B-4  B-5   B3   B4   B5  C#4  C#5  ...    E5  F#4  \\\n",
       "bwv421_0  0.0  0.0  0.0  0.0  0.0  0.0  0.0  0.0  0.0  0.0  ...   0.0  0.0   \n",
       "bwv421_1  0.0  0.0  0.0  0.0  0.0  0.0  0.0  0.0  0.0  0.0  ...   0.0  0.0   \n",
       "bwv421_2  0.0  0.0  0.0  0.0  0.0  0.0  0.0  0.0  0.0  0.0  ...   0.0  0.0   \n",
       "bwv421_3  0.0  0.0  0.0  0.0  0.0  0.0  0.0  0.0  0.0  0.0  ...   0.0  0.0   \n",
       "bwv421_4  0.0  0.0  0.0  0.0  0.0  0.0  0.0  0.0  0.0  0.0  ...   0.0  0.0   \n",
       "\n",
       "          F#5   F4   F5  G#4  G#5   G4   G5  Rest  \n",
       "bwv421_0  0.0  0.0  0.0  0.0  0.0  1.0  0.0   0.0  \n",
       "bwv421_1  0.0  0.0  0.0  0.0  0.0  1.0  0.0   0.0  \n",
       "bwv421_2  0.0  0.0  0.0  0.0  0.0  1.0  0.0   0.0  \n",
       "bwv421_3  0.0  0.0  0.0  0.0  0.0  1.0  0.0   0.0  \n",
       "bwv421_4  0.0  0.0  0.0  0.0  0.0  1.0  0.0   0.0  \n",
       "\n",
       "[5 rows x 31 columns]"
      ]
     },
     "execution_count": 80,
     "metadata": {},
     "output_type": "execute_result"
    }
   ],
   "source": [
    "master_y_cat_dummy.head()"
   ]
  },
  {
   "cell_type": "markdown",
   "metadata": {},
   "source": [
    "#### predictor X variables"
   ]
  },
  {
   "cell_type": "code",
   "execution_count": 7,
   "metadata": {
    "collapsed": false
   },
   "outputs": [
    {
     "data": {
      "text/plain": [
       "Index([u'BWV', u'orig_key', u'beats_per_measure', u'forward_note',\n",
       "       u'back_note', u'forward_measure', u'back_measure',\n",
       "       u'note_in_measure_position', u'quarter_in_measure_position',\n",
       "       u'soprano_pitch_cat', u'alto_pitch_cat', u'tenor_pitch_cat',\n",
       "       u'bass_pitch_cat', u'soprano_pitch_cont', u'alto_pitch_cont',\n",
       "       u'tenor_pitch_cont', u'bass_pitch_cont'],\n",
       "      dtype='object')"
      ]
     },
     "execution_count": 7,
     "metadata": {},
     "output_type": "execute_result"
    }
   ],
   "source": [
    "clean_bach.columns"
   ]
  },
  {
   "cell_type": "code",
   "execution_count": 10,
   "metadata": {
    "collapsed": true
   },
   "outputs": [],
   "source": [
    "master_X_cat = clean_bach[[u'beats_per_measure', u'forward_note',\n",
    "       u'back_note', u'forward_measure', u'back_measure',\n",
    "       u'note_in_measure_position', u'quarter_in_measure_position',\n",
    "       u'soprano_pitch_cat', u'alto_pitch_cat', u'tenor_pitch_cat',\n",
    "       u'bass_pitch_cat']]"
   ]
  },
  {
   "cell_type": "markdown",
   "metadata": {},
   "source": [
    "#### predictor X variables as dummy variables"
   ]
  },
  {
   "cell_type": "code",
   "execution_count": 82,
   "metadata": {
    "collapsed": true
   },
   "outputs": [],
   "source": [
    "parts_df = master_X_cat[['soprano_pitch_cat', 'alto_pitch_cat', \n",
    "                         u'tenor_pitch_cat', u'bass_pitch_cat']]"
   ]
  },
  {
   "cell_type": "code",
   "execution_count": 83,
   "metadata": {
    "collapsed": true
   },
   "outputs": [],
   "source": [
    "parts_df_dummy = pd.get_dummies(parts_df)"
   ]
  },
  {
   "cell_type": "code",
   "execution_count": 85,
   "metadata": {
    "collapsed": false
   },
   "outputs": [
    {
     "data": {
      "text/html": [
       "<div>\n",
       "<table border=\"1\" class=\"dataframe\">\n",
       "  <thead>\n",
       "    <tr style=\"text-align: right;\">\n",
       "      <th></th>\n",
       "      <th>soprano_pitch_cat_A4</th>\n",
       "      <th>soprano_pitch_cat_A5</th>\n",
       "      <th>soprano_pitch_cat_B-3</th>\n",
       "      <th>soprano_pitch_cat_B-4</th>\n",
       "      <th>soprano_pitch_cat_B-5</th>\n",
       "      <th>soprano_pitch_cat_B3</th>\n",
       "      <th>soprano_pitch_cat_B4</th>\n",
       "      <th>soprano_pitch_cat_B5</th>\n",
       "      <th>soprano_pitch_cat_C#4</th>\n",
       "      <th>soprano_pitch_cat_C#5</th>\n",
       "      <th>...</th>\n",
       "      <th>bass_pitch_cat_F#4</th>\n",
       "      <th>bass_pitch_cat_F2</th>\n",
       "      <th>bass_pitch_cat_F3</th>\n",
       "      <th>bass_pitch_cat_F4</th>\n",
       "      <th>bass_pitch_cat_G#2</th>\n",
       "      <th>bass_pitch_cat_G#3</th>\n",
       "      <th>bass_pitch_cat_G2</th>\n",
       "      <th>bass_pitch_cat_G3</th>\n",
       "      <th>bass_pitch_cat_G4</th>\n",
       "      <th>bass_pitch_cat_Rest</th>\n",
       "    </tr>\n",
       "  </thead>\n",
       "  <tbody>\n",
       "    <tr>\n",
       "      <th>bwv421_0</th>\n",
       "      <td>0.0</td>\n",
       "      <td>0.0</td>\n",
       "      <td>0.0</td>\n",
       "      <td>0.0</td>\n",
       "      <td>0.0</td>\n",
       "      <td>0.0</td>\n",
       "      <td>0.0</td>\n",
       "      <td>0.0</td>\n",
       "      <td>0.0</td>\n",
       "      <td>0.0</td>\n",
       "      <td>...</td>\n",
       "      <td>0.0</td>\n",
       "      <td>0.0</td>\n",
       "      <td>0.0</td>\n",
       "      <td>0.0</td>\n",
       "      <td>0.0</td>\n",
       "      <td>0.0</td>\n",
       "      <td>1.0</td>\n",
       "      <td>0.0</td>\n",
       "      <td>0.0</td>\n",
       "      <td>0.0</td>\n",
       "    </tr>\n",
       "    <tr>\n",
       "      <th>bwv421_1</th>\n",
       "      <td>0.0</td>\n",
       "      <td>0.0</td>\n",
       "      <td>0.0</td>\n",
       "      <td>0.0</td>\n",
       "      <td>0.0</td>\n",
       "      <td>0.0</td>\n",
       "      <td>0.0</td>\n",
       "      <td>0.0</td>\n",
       "      <td>0.0</td>\n",
       "      <td>0.0</td>\n",
       "      <td>...</td>\n",
       "      <td>0.0</td>\n",
       "      <td>0.0</td>\n",
       "      <td>0.0</td>\n",
       "      <td>0.0</td>\n",
       "      <td>0.0</td>\n",
       "      <td>0.0</td>\n",
       "      <td>1.0</td>\n",
       "      <td>0.0</td>\n",
       "      <td>0.0</td>\n",
       "      <td>0.0</td>\n",
       "    </tr>\n",
       "  </tbody>\n",
       "</table>\n",
       "<p>2 rows × 141 columns</p>\n",
       "</div>"
      ],
      "text/plain": [
       "          soprano_pitch_cat_A4  soprano_pitch_cat_A5  soprano_pitch_cat_B-3  \\\n",
       "bwv421_0                   0.0                   0.0                    0.0   \n",
       "bwv421_1                   0.0                   0.0                    0.0   \n",
       "\n",
       "          soprano_pitch_cat_B-4  soprano_pitch_cat_B-5  soprano_pitch_cat_B3  \\\n",
       "bwv421_0                    0.0                    0.0                   0.0   \n",
       "bwv421_1                    0.0                    0.0                   0.0   \n",
       "\n",
       "          soprano_pitch_cat_B4  soprano_pitch_cat_B5  soprano_pitch_cat_C#4  \\\n",
       "bwv421_0                   0.0                   0.0                    0.0   \n",
       "bwv421_1                   0.0                   0.0                    0.0   \n",
       "\n",
       "          soprano_pitch_cat_C#5         ...           bass_pitch_cat_F#4  \\\n",
       "bwv421_0                    0.0         ...                          0.0   \n",
       "bwv421_1                    0.0         ...                          0.0   \n",
       "\n",
       "          bass_pitch_cat_F2  bass_pitch_cat_F3  bass_pitch_cat_F4  \\\n",
       "bwv421_0                0.0                0.0                0.0   \n",
       "bwv421_1                0.0                0.0                0.0   \n",
       "\n",
       "          bass_pitch_cat_G#2  bass_pitch_cat_G#3  bass_pitch_cat_G2  \\\n",
       "bwv421_0                 0.0                 0.0                1.0   \n",
       "bwv421_1                 0.0                 0.0                1.0   \n",
       "\n",
       "          bass_pitch_cat_G3  bass_pitch_cat_G4  bass_pitch_cat_Rest  \n",
       "bwv421_0                0.0                0.0                  0.0  \n",
       "bwv421_1                0.0                0.0                  0.0  \n",
       "\n",
       "[2 rows x 141 columns]"
      ]
     },
     "execution_count": 85,
     "metadata": {},
     "output_type": "execute_result"
    }
   ],
   "source": [
    "parts_df_dummy.head(2)"
   ]
  },
  {
   "cell_type": "code",
   "execution_count": 86,
   "metadata": {
    "collapsed": true
   },
   "outputs": [],
   "source": [
    "master_X_cat_dummies = pd.concat(\n",
    "    [master_X_cat[[u'beats_per_measure', u'forward_note',u'back_note', \n",
    "                  u'forward_measure', u'back_measure',\n",
    "                  u'note_in_measure_position', \n",
    "                  u'quarter_in_measure_position']],\n",
    "    parts_df_dummy],\n",
    "    axis=1)"
   ]
  },
  {
   "cell_type": "code",
   "execution_count": 87,
   "metadata": {
    "collapsed": false
   },
   "outputs": [
    {
     "data": {
      "text/html": [
       "<div>\n",
       "<table border=\"1\" class=\"dataframe\">\n",
       "  <thead>\n",
       "    <tr style=\"text-align: right;\">\n",
       "      <th></th>\n",
       "      <th>beats_per_measure</th>\n",
       "      <th>forward_note</th>\n",
       "      <th>back_note</th>\n",
       "      <th>forward_measure</th>\n",
       "      <th>back_measure</th>\n",
       "      <th>note_in_measure_position</th>\n",
       "      <th>quarter_in_measure_position</th>\n",
       "      <th>soprano_pitch_cat_A4</th>\n",
       "      <th>soprano_pitch_cat_A5</th>\n",
       "      <th>soprano_pitch_cat_B-3</th>\n",
       "      <th>...</th>\n",
       "      <th>bass_pitch_cat_F#4</th>\n",
       "      <th>bass_pitch_cat_F2</th>\n",
       "      <th>bass_pitch_cat_F3</th>\n",
       "      <th>bass_pitch_cat_F4</th>\n",
       "      <th>bass_pitch_cat_G#2</th>\n",
       "      <th>bass_pitch_cat_G#3</th>\n",
       "      <th>bass_pitch_cat_G2</th>\n",
       "      <th>bass_pitch_cat_G3</th>\n",
       "      <th>bass_pitch_cat_G4</th>\n",
       "      <th>bass_pitch_cat_Rest</th>\n",
       "    </tr>\n",
       "  </thead>\n",
       "  <tbody>\n",
       "    <tr>\n",
       "      <th>bwv421_0</th>\n",
       "      <td>4</td>\n",
       "      <td>0</td>\n",
       "      <td>159</td>\n",
       "      <td>0</td>\n",
       "      <td>10</td>\n",
       "      <td>1</td>\n",
       "      <td>4</td>\n",
       "      <td>0.0</td>\n",
       "      <td>0.0</td>\n",
       "      <td>0.0</td>\n",
       "      <td>...</td>\n",
       "      <td>0.0</td>\n",
       "      <td>0.0</td>\n",
       "      <td>0.0</td>\n",
       "      <td>0.0</td>\n",
       "      <td>0.0</td>\n",
       "      <td>0.0</td>\n",
       "      <td>1.0</td>\n",
       "      <td>0.0</td>\n",
       "      <td>0.0</td>\n",
       "      <td>0.0</td>\n",
       "    </tr>\n",
       "    <tr>\n",
       "      <th>bwv421_1</th>\n",
       "      <td>4</td>\n",
       "      <td>1</td>\n",
       "      <td>158</td>\n",
       "      <td>0</td>\n",
       "      <td>10</td>\n",
       "      <td>2</td>\n",
       "      <td>4</td>\n",
       "      <td>0.0</td>\n",
       "      <td>0.0</td>\n",
       "      <td>0.0</td>\n",
       "      <td>...</td>\n",
       "      <td>0.0</td>\n",
       "      <td>0.0</td>\n",
       "      <td>0.0</td>\n",
       "      <td>0.0</td>\n",
       "      <td>0.0</td>\n",
       "      <td>0.0</td>\n",
       "      <td>1.0</td>\n",
       "      <td>0.0</td>\n",
       "      <td>0.0</td>\n",
       "      <td>0.0</td>\n",
       "    </tr>\n",
       "    <tr>\n",
       "      <th>bwv421_2</th>\n",
       "      <td>4</td>\n",
       "      <td>2</td>\n",
       "      <td>157</td>\n",
       "      <td>0</td>\n",
       "      <td>10</td>\n",
       "      <td>3</td>\n",
       "      <td>4</td>\n",
       "      <td>0.0</td>\n",
       "      <td>0.0</td>\n",
       "      <td>0.0</td>\n",
       "      <td>...</td>\n",
       "      <td>0.0</td>\n",
       "      <td>0.0</td>\n",
       "      <td>0.0</td>\n",
       "      <td>0.0</td>\n",
       "      <td>0.0</td>\n",
       "      <td>0.0</td>\n",
       "      <td>0.0</td>\n",
       "      <td>0.0</td>\n",
       "      <td>0.0</td>\n",
       "      <td>0.0</td>\n",
       "    </tr>\n",
       "    <tr>\n",
       "      <th>bwv421_3</th>\n",
       "      <td>4</td>\n",
       "      <td>3</td>\n",
       "      <td>156</td>\n",
       "      <td>0</td>\n",
       "      <td>10</td>\n",
       "      <td>4</td>\n",
       "      <td>4</td>\n",
       "      <td>0.0</td>\n",
       "      <td>0.0</td>\n",
       "      <td>0.0</td>\n",
       "      <td>...</td>\n",
       "      <td>0.0</td>\n",
       "      <td>0.0</td>\n",
       "      <td>0.0</td>\n",
       "      <td>0.0</td>\n",
       "      <td>0.0</td>\n",
       "      <td>0.0</td>\n",
       "      <td>0.0</td>\n",
       "      <td>0.0</td>\n",
       "      <td>0.0</td>\n",
       "      <td>0.0</td>\n",
       "    </tr>\n",
       "    <tr>\n",
       "      <th>bwv421_4</th>\n",
       "      <td>4</td>\n",
       "      <td>4</td>\n",
       "      <td>155</td>\n",
       "      <td>1</td>\n",
       "      <td>9</td>\n",
       "      <td>1</td>\n",
       "      <td>1</td>\n",
       "      <td>0.0</td>\n",
       "      <td>0.0</td>\n",
       "      <td>0.0</td>\n",
       "      <td>...</td>\n",
       "      <td>0.0</td>\n",
       "      <td>0.0</td>\n",
       "      <td>0.0</td>\n",
       "      <td>0.0</td>\n",
       "      <td>0.0</td>\n",
       "      <td>0.0</td>\n",
       "      <td>0.0</td>\n",
       "      <td>0.0</td>\n",
       "      <td>0.0</td>\n",
       "      <td>0.0</td>\n",
       "    </tr>\n",
       "  </tbody>\n",
       "</table>\n",
       "<p>5 rows × 148 columns</p>\n",
       "</div>"
      ],
      "text/plain": [
       "          beats_per_measure  forward_note  back_note  forward_measure  \\\n",
       "bwv421_0                  4             0        159                0   \n",
       "bwv421_1                  4             1        158                0   \n",
       "bwv421_2                  4             2        157                0   \n",
       "bwv421_3                  4             3        156                0   \n",
       "bwv421_4                  4             4        155                1   \n",
       "\n",
       "          back_measure  note_in_measure_position  quarter_in_measure_position  \\\n",
       "bwv421_0            10                         1                            4   \n",
       "bwv421_1            10                         2                            4   \n",
       "bwv421_2            10                         3                            4   \n",
       "bwv421_3            10                         4                            4   \n",
       "bwv421_4             9                         1                            1   \n",
       "\n",
       "          soprano_pitch_cat_A4  soprano_pitch_cat_A5  soprano_pitch_cat_B-3  \\\n",
       "bwv421_0                   0.0                   0.0                    0.0   \n",
       "bwv421_1                   0.0                   0.0                    0.0   \n",
       "bwv421_2                   0.0                   0.0                    0.0   \n",
       "bwv421_3                   0.0                   0.0                    0.0   \n",
       "bwv421_4                   0.0                   0.0                    0.0   \n",
       "\n",
       "                 ...           bass_pitch_cat_F#4  bass_pitch_cat_F2  \\\n",
       "bwv421_0         ...                          0.0                0.0   \n",
       "bwv421_1         ...                          0.0                0.0   \n",
       "bwv421_2         ...                          0.0                0.0   \n",
       "bwv421_3         ...                          0.0                0.0   \n",
       "bwv421_4         ...                          0.0                0.0   \n",
       "\n",
       "          bass_pitch_cat_F3  bass_pitch_cat_F4  bass_pitch_cat_G#2  \\\n",
       "bwv421_0                0.0                0.0                 0.0   \n",
       "bwv421_1                0.0                0.0                 0.0   \n",
       "bwv421_2                0.0                0.0                 0.0   \n",
       "bwv421_3                0.0                0.0                 0.0   \n",
       "bwv421_4                0.0                0.0                 0.0   \n",
       "\n",
       "          bass_pitch_cat_G#3  bass_pitch_cat_G2  bass_pitch_cat_G3  \\\n",
       "bwv421_0                 0.0                1.0                0.0   \n",
       "bwv421_1                 0.0                1.0                0.0   \n",
       "bwv421_2                 0.0                0.0                0.0   \n",
       "bwv421_3                 0.0                0.0                0.0   \n",
       "bwv421_4                 0.0                0.0                0.0   \n",
       "\n",
       "          bass_pitch_cat_G4  bass_pitch_cat_Rest  \n",
       "bwv421_0                0.0                  0.0  \n",
       "bwv421_1                0.0                  0.0  \n",
       "bwv421_2                0.0                  0.0  \n",
       "bwv421_3                0.0                  0.0  \n",
       "bwv421_4                0.0                  0.0  \n",
       "\n",
       "[5 rows x 148 columns]"
      ]
     },
     "execution_count": 87,
     "metadata": {},
     "output_type": "execute_result"
    }
   ],
   "source": [
    "master_X_cat_dummies.head()"
   ]
  },
  {
   "cell_type": "code",
   "execution_count": 89,
   "metadata": {
    "collapsed": false
   },
   "outputs": [
    {
     "data": {
      "text/plain": [
       "['beats_per_measure',\n",
       " 'forward_note',\n",
       " 'back_note',\n",
       " 'forward_measure',\n",
       " 'back_measure',\n",
       " 'note_in_measure_position',\n",
       " 'quarter_in_measure_position',\n",
       " 'soprano_pitch_cat_A4',\n",
       " 'soprano_pitch_cat_A5',\n",
       " 'soprano_pitch_cat_B-3',\n",
       " 'soprano_pitch_cat_B-4',\n",
       " 'soprano_pitch_cat_B-5',\n",
       " 'soprano_pitch_cat_B3',\n",
       " 'soprano_pitch_cat_B4',\n",
       " 'soprano_pitch_cat_B5',\n",
       " 'soprano_pitch_cat_C#4',\n",
       " 'soprano_pitch_cat_C#5',\n",
       " 'soprano_pitch_cat_C4',\n",
       " 'soprano_pitch_cat_C5',\n",
       " 'soprano_pitch_cat_C6',\n",
       " 'soprano_pitch_cat_D#4',\n",
       " 'soprano_pitch_cat_D#5',\n",
       " 'soprano_pitch_cat_D4',\n",
       " 'soprano_pitch_cat_D5',\n",
       " 'soprano_pitch_cat_D6',\n",
       " 'soprano_pitch_cat_E-4',\n",
       " 'soprano_pitch_cat_E-5',\n",
       " 'soprano_pitch_cat_E4',\n",
       " 'soprano_pitch_cat_E5',\n",
       " 'soprano_pitch_cat_F#4',\n",
       " 'soprano_pitch_cat_F#5',\n",
       " 'soprano_pitch_cat_F4',\n",
       " 'soprano_pitch_cat_F5',\n",
       " 'soprano_pitch_cat_G#4',\n",
       " 'soprano_pitch_cat_G#5',\n",
       " 'soprano_pitch_cat_G4',\n",
       " 'soprano_pitch_cat_G5',\n",
       " 'soprano_pitch_cat_Rest',\n",
       " 'alto_pitch_cat_A#4',\n",
       " 'alto_pitch_cat_A-3',\n",
       " 'alto_pitch_cat_A-4',\n",
       " 'alto_pitch_cat_A3',\n",
       " 'alto_pitch_cat_A4',\n",
       " 'alto_pitch_cat_B-3',\n",
       " 'alto_pitch_cat_B-4',\n",
       " 'alto_pitch_cat_B3',\n",
       " 'alto_pitch_cat_B4',\n",
       " 'alto_pitch_cat_C#4',\n",
       " 'alto_pitch_cat_C#5',\n",
       " 'alto_pitch_cat_C4',\n",
       " 'alto_pitch_cat_C5',\n",
       " 'alto_pitch_cat_D#4',\n",
       " 'alto_pitch_cat_D#5',\n",
       " 'alto_pitch_cat_D-4',\n",
       " 'alto_pitch_cat_D4',\n",
       " 'alto_pitch_cat_D5',\n",
       " 'alto_pitch_cat_E-4',\n",
       " 'alto_pitch_cat_E-5',\n",
       " 'alto_pitch_cat_E4',\n",
       " 'alto_pitch_cat_E5',\n",
       " 'alto_pitch_cat_F#3',\n",
       " 'alto_pitch_cat_F#4',\n",
       " 'alto_pitch_cat_F#5',\n",
       " 'alto_pitch_cat_F3',\n",
       " 'alto_pitch_cat_F4',\n",
       " 'alto_pitch_cat_F5',\n",
       " 'alto_pitch_cat_G#4',\n",
       " 'alto_pitch_cat_G-4',\n",
       " 'alto_pitch_cat_G3',\n",
       " 'alto_pitch_cat_G4',\n",
       " 'alto_pitch_cat_G5',\n",
       " 'alto_pitch_cat_Rest',\n",
       " 'tenor_pitch_cat_A#4',\n",
       " 'tenor_pitch_cat_A-3',\n",
       " 'tenor_pitch_cat_A-4',\n",
       " 'tenor_pitch_cat_A3',\n",
       " 'tenor_pitch_cat_A4',\n",
       " 'tenor_pitch_cat_B-3',\n",
       " 'tenor_pitch_cat_B-4',\n",
       " 'tenor_pitch_cat_B3',\n",
       " 'tenor_pitch_cat_B4',\n",
       " 'tenor_pitch_cat_C#3',\n",
       " 'tenor_pitch_cat_C#4',\n",
       " 'tenor_pitch_cat_C#5',\n",
       " 'tenor_pitch_cat_C3',\n",
       " 'tenor_pitch_cat_C4',\n",
       " 'tenor_pitch_cat_C5',\n",
       " 'tenor_pitch_cat_D#4',\n",
       " 'tenor_pitch_cat_D-3',\n",
       " 'tenor_pitch_cat_D-4',\n",
       " 'tenor_pitch_cat_D3',\n",
       " 'tenor_pitch_cat_D4',\n",
       " 'tenor_pitch_cat_D5',\n",
       " 'tenor_pitch_cat_E-3',\n",
       " 'tenor_pitch_cat_E-4',\n",
       " 'tenor_pitch_cat_E3',\n",
       " 'tenor_pitch_cat_E4',\n",
       " 'tenor_pitch_cat_F#3',\n",
       " 'tenor_pitch_cat_F#4',\n",
       " 'tenor_pitch_cat_F3',\n",
       " 'tenor_pitch_cat_F4',\n",
       " 'tenor_pitch_cat_G#3',\n",
       " 'tenor_pitch_cat_G#4',\n",
       " 'tenor_pitch_cat_G3',\n",
       " 'tenor_pitch_cat_G4',\n",
       " 'tenor_pitch_cat_Rest',\n",
       " 'bass_pitch_cat_A#2',\n",
       " 'bass_pitch_cat_A#3',\n",
       " 'bass_pitch_cat_A-2',\n",
       " 'bass_pitch_cat_A-3',\n",
       " 'bass_pitch_cat_A2',\n",
       " 'bass_pitch_cat_A3',\n",
       " 'bass_pitch_cat_A4',\n",
       " 'bass_pitch_cat_B-1',\n",
       " 'bass_pitch_cat_B-2',\n",
       " 'bass_pitch_cat_B-3',\n",
       " 'bass_pitch_cat_B1',\n",
       " 'bass_pitch_cat_B2',\n",
       " 'bass_pitch_cat_B3',\n",
       " 'bass_pitch_cat_C#3',\n",
       " 'bass_pitch_cat_C#4',\n",
       " 'bass_pitch_cat_C2',\n",
       " 'bass_pitch_cat_C3',\n",
       " 'bass_pitch_cat_C4',\n",
       " 'bass_pitch_cat_D#2',\n",
       " 'bass_pitch_cat_D#3',\n",
       " 'bass_pitch_cat_D#4',\n",
       " 'bass_pitch_cat_D2',\n",
       " 'bass_pitch_cat_D3',\n",
       " 'bass_pitch_cat_D4',\n",
       " 'bass_pitch_cat_E-2',\n",
       " 'bass_pitch_cat_E-3',\n",
       " 'bass_pitch_cat_E-4',\n",
       " 'bass_pitch_cat_E2',\n",
       " 'bass_pitch_cat_E3',\n",
       " 'bass_pitch_cat_E4',\n",
       " 'bass_pitch_cat_F#2',\n",
       " 'bass_pitch_cat_F#3',\n",
       " 'bass_pitch_cat_F#4',\n",
       " 'bass_pitch_cat_F2',\n",
       " 'bass_pitch_cat_F3',\n",
       " 'bass_pitch_cat_F4',\n",
       " 'bass_pitch_cat_G#2',\n",
       " 'bass_pitch_cat_G#3',\n",
       " 'bass_pitch_cat_G2',\n",
       " 'bass_pitch_cat_G3',\n",
       " 'bass_pitch_cat_G4',\n",
       " 'bass_pitch_cat_Rest']"
      ]
     },
     "execution_count": 89,
     "metadata": {},
     "output_type": "execute_result"
    }
   ],
   "source": [
    "list(master_X_cat_dummies.columns)"
   ]
  },
  {
   "cell_type": "markdown",
   "metadata": {},
   "source": [
    "### Continuous Version"
   ]
  },
  {
   "cell_type": "code",
   "execution_count": 11,
   "metadata": {
    "collapsed": true
   },
   "outputs": [],
   "source": [
    "# a series\n",
    "master_y_cont = clean_bach['soprano_pitch_cont']"
   ]
  },
  {
   "cell_type": "code",
   "execution_count": 12,
   "metadata": {
    "collapsed": true
   },
   "outputs": [],
   "source": [
    "master_X_cont = clean_bach[[u'beats_per_measure', u'forward_note',\n",
    "       u'back_note', u'forward_measure', u'back_measure',\n",
    "       u'note_in_measure_position', u'quarter_in_measure_position',\n",
    "       u'soprano_pitch_cont', u'alto_pitch_cont', u'tenor_pitch_cont',\n",
    "       u'bass_pitch_cont']]"
   ]
  },
  {
   "cell_type": "code",
   "execution_count": null,
   "metadata": {
    "collapsed": true
   },
   "outputs": [],
   "source": []
  },
  {
   "cell_type": "markdown",
   "metadata": {},
   "source": [
    "# Create a function that transforms your model results back into music21 data. "
   ]
  },
  {
   "cell_type": "markdown",
   "metadata": {},
   "source": [
    "## CATEGORICAL"
   ]
  },
  {
   "cell_type": "code",
   "execution_count": null,
   "metadata": {
    "collapsed": true
   },
   "outputs": [],
   "source": [
    "# first write a function that takes the dummy variables and turns them\n",
    "# back into "
   ]
  },
  {
   "cell_type": "code",
   "execution_count": null,
   "metadata": {
    "collapsed": true
   },
   "outputs": [],
   "source": []
  },
  {
   "cell_type": "code",
   "execution_count": null,
   "metadata": {
    "collapsed": true
   },
   "outputs": [],
   "source": []
  },
  {
   "cell_type": "code",
   "execution_count": null,
   "metadata": {
    "collapsed": true
   },
   "outputs": [],
   "source": []
  },
  {
   "cell_type": "code",
   "execution_count": null,
   "metadata": {
    "collapsed": true
   },
   "outputs": [],
   "source": []
  },
  {
   "cell_type": "markdown",
   "metadata": {},
   "source": [
    "# LSTM Model"
   ]
  },
  {
   "cell_type": "markdown",
   "metadata": {},
   "source": [
    "### Model 1\n",
    "- variables:\n",
    "\n",
    "    - soprano\n",
    "\n",
    "    - alto\n",
    "    \n",
    "    - tenor\n",
    "    \n",
    "    - bass\n",
    "    \n",
    "    - no other ones\n",
    "    \n",
    "- categorical or continuous:\n",
    "\n",
    "    - categorical\n",
    "\n",
    "- train test split\n",
    "\n",
    "    - 30%\n",
    "    \n",
    "- variables as features or time lag? time lag as features or time lag?\n",
    "\n",
    "    - variables as features; time lag as time lag\n",
    "    \n",
    "- normalize/standardize?\n",
    "\n",
    "    - no\n",
    "    \n",
    "- time lagged: \n",
    "\n",
    "    - NO\n",
    "    \n",
    "- input nodes:\n",
    "\n",
    "    - no\n",
    "    \n",
    "- intermediate nodes:\n",
    "\n",
    "    - 10 LSTM\n",
    "    \n",
    "- activation:\n",
    "\n",
    "    - softmax\n",
    "    \n",
    "- optimizer:\n",
    "\n",
    "    - adam\n",
    "    \n",
    "- number epochs:\n",
    "\n",
    "    - 10\n",
    "    \n",
    "- number batch size\n",
    "\n",
    "    - 20\n",
    "\n",
    "- dropout\n",
    "\n",
    "    - NA\n",
    "    \n",
    "- CNN\n",
    "\n",
    "    - NA\n"
   ]
  },
  {
   "cell_type": "markdown",
   "metadata": {},
   "source": [
    "- split out train test set 30%\n",
    "- define data set - X and y variables\n",
    "- reshape X"
   ]
  },
  {
   "cell_type": "code",
   "execution_count": 81,
   "metadata": {
    "collapsed": false
   },
   "outputs": [],
   "source": [
    "# create y var for model 1; make it an array\n",
    "y1 = master_y_cat_dummy.values"
   ]
  },
  {
   "cell_type": "code",
   "execution_count": 97,
   "metadata": {
    "collapsed": false
   },
   "outputs": [
    {
     "data": {
      "text/plain": [
       "(46676, 141)"
      ]
     },
     "execution_count": 97,
     "metadata": {},
     "output_type": "execute_result"
    }
   ],
   "source": [
    "# create X vars for model 1; make it an array\n",
    "columns_not_needed = ['beats_per_measure', 'forward_note',\n",
    "                     'back_note', 'forward_measure', 'back_measure',\n",
    "                     'note_in_measure_position',\n",
    "                      'quarter_in_measure_position']\n",
    "\n",
    "columns_needed = [x for x in master_X_cat_dummies.columns if x not in columns_not_needed]\n",
    "X1 = master_X_cat_dummies[columns_needed].values\n",
    "X1.shape"
   ]
  },
  {
   "cell_type": "code",
   "execution_count": 98,
   "metadata": {
    "collapsed": false
   },
   "outputs": [],
   "source": [
    "# train test split\n",
    "# 70% of the number of rows\n",
    "train_end_index = int(round(y1.shape[0] * 0.7))\n",
    "\n",
    "y1_train, y1_test = y1[:train_end_index], y1[train_end_index:]\n",
    "X1_train, X1_test = X1[:train_end_index], X1[train_end_index:]"
   ]
  },
  {
   "cell_type": "code",
   "execution_count": 99,
   "metadata": {
    "collapsed": false
   },
   "outputs": [
    {
     "data": {
      "text/plain": [
       "array([[ 0.,  0.,  0., ...,  0.,  0.,  0.],\n",
       "       [ 0.,  0.,  0., ...,  0.,  0.,  0.],\n",
       "       [ 0.,  0.,  0., ...,  0.,  0.,  0.],\n",
       "       ..., \n",
       "       [ 1.,  0.,  0., ...,  0.,  0.,  0.],\n",
       "       [ 0.,  0.,  0., ...,  0.,  0.,  0.],\n",
       "       [ 0.,  0.,  0., ...,  0.,  0.,  0.]])"
      ]
     },
     "execution_count": 99,
     "metadata": {},
     "output_type": "execute_result"
    }
   ],
   "source": [
    "X1_train[0:10]"
   ]
  },
  {
   "cell_type": "code",
   "execution_count": 100,
   "metadata": {
    "collapsed": false
   },
   "outputs": [
    {
     "data": {
      "text/plain": [
       "((32673, 31), (14003, 31), (32673, 141), (14003, 141))"
      ]
     },
     "execution_count": 100,
     "metadata": {},
     "output_type": "execute_result"
    }
   ],
   "source": [
    "y1_train.shape, y1_test.shape, X1_train.shape, X1_test.shape"
   ]
  },
  {
   "cell_type": "code",
   "execution_count": 101,
   "metadata": {
    "collapsed": true
   },
   "outputs": [],
   "source": [
    "# set variables\n",
    "time_lag = 1 \n",
    "# actually it is 0 since we are not doing time series, but for the \n",
    "# purpose of the 3D X matrix we will make it 1\n",
    "n_features = X1.shape[1]"
   ]
  },
  {
   "cell_type": "code",
   "execution_count": 102,
   "metadata": {
    "collapsed": false
   },
   "outputs": [],
   "source": [
    "# reshape X to be [samples, time steps, features]\n",
    "X1_train_RS = np.reshape(X1_train, (X1_train.shape[0], \n",
    "                                       time_lag, \n",
    "                                      n_features))\n",
    "\n",
    "X1_test_RS = np.reshape(X1_test, (X1_test.shape[0], \n",
    "                                       time_lag, \n",
    "                                      n_features))"
   ]
  },
  {
   "cell_type": "code",
   "execution_count": 104,
   "metadata": {
    "collapsed": false
   },
   "outputs": [
    {
     "data": {
      "text/plain": [
       "array([[[ 0.,  0.,  0.,  0.,  0.,  0.,  0.,  0.,  0.,  0.,  0.,  0.,  0.,\n",
       "          0.,  0.,  0.,  0.,  0.,  0.,  0.,  0.,  0.,  0.,  0.,  0.,  0.,\n",
       "          0.,  0.,  1.,  0.,  0.,  0.,  0.,  0.,  0.,  0.,  0.,  0.,  0.,\n",
       "          0.,  0.,  0.,  0.,  0.,  0.,  0.,  0.,  1.,  0.,  0.,  0.,  0.,\n",
       "          0.,  0.,  0.,  0.,  0.,  0.,  0.,  0.,  0.,  0.,  0.,  0.,  0.,\n",
       "          0.,  0.,  0.,  0.,  0.,  1.,  0.,  0.,  0.,  0.,  0.,  0.,  0.,\n",
       "          0.,  0.,  0.,  0.,  0.,  0.,  0.,  0.,  0.,  0.,  0.,  0.,  0.,\n",
       "          0.,  0.,  0.,  0.,  0.,  0.,  0.,  0.,  0.,  0.,  0.,  0.,  0.,\n",
       "          0.,  0.,  0.,  0.,  0.,  0.,  0.,  0.,  0.,  0.,  0.,  0.,  0.,\n",
       "          0.,  0.,  0.,  0.,  0.,  0.,  0.,  0.,  0.,  0.,  0.,  0.,  0.,\n",
       "          0.,  0.,  0.,  0.,  0.,  0.,  0.,  1.,  0.,  0.,  0.]],\n",
       "\n",
       "       [[ 0.,  0.,  0.,  0.,  0.,  0.,  0.,  0.,  0.,  0.,  0.,  0.,  0.,\n",
       "          0.,  0.,  0.,  0.,  0.,  0.,  0.,  0.,  0.,  0.,  0.,  0.,  0.,\n",
       "          0.,  0.,  1.,  0.,  0.,  0.,  0.,  0.,  0.,  0.,  0.,  0.,  0.,\n",
       "          0.,  0.,  0.,  0.,  0.,  0.,  0.,  0.,  1.,  0.,  0.,  0.,  0.,\n",
       "          0.,  0.,  0.,  0.,  0.,  0.,  0.,  0.,  0.,  0.,  0.,  0.,  0.,\n",
       "          0.,  0.,  0.,  0.,  0.,  1.,  0.,  0.,  0.,  0.,  0.,  0.,  0.,\n",
       "          0.,  0.,  0.,  0.,  0.,  0.,  0.,  0.,  0.,  0.,  0.,  0.,  0.,\n",
       "          0.,  0.,  0.,  0.,  0.,  0.,  0.,  0.,  0.,  0.,  0.,  0.,  0.,\n",
       "          0.,  0.,  0.,  0.,  0.,  0.,  0.,  0.,  0.,  0.,  0.,  0.,  0.,\n",
       "          0.,  0.,  0.,  0.,  0.,  0.,  0.,  0.,  0.,  0.,  0.,  0.,  0.,\n",
       "          0.,  0.,  0.,  0.,  0.,  0.,  0.,  1.,  0.,  0.,  0.]]])"
      ]
     },
     "execution_count": 104,
     "metadata": {},
     "output_type": "execute_result"
    }
   ],
   "source": [
    "X1_train_RS[0:2]"
   ]
  },
  {
   "cell_type": "code",
   "execution_count": 105,
   "metadata": {
    "collapsed": true
   },
   "outputs": [],
   "source": [
    "model = Sequential()\n",
    "model.add(LSTM(10, input_dim=141))\n",
    "model.add(Dense(n_y_cat_variables, activation='softmax'))\n",
    "model.compile(loss='categorical_crossentropy', optimizer='adam',\n",
    "             metrics=['accuracy'])"
   ]
  },
  {
   "cell_type": "code",
   "execution_count": 106,
   "metadata": {
    "collapsed": false
   },
   "outputs": [
    {
     "name": "stdout",
     "output_type": "stream",
     "text": [
      "____________________________________________________________________________________________________\n",
      "Layer (type)                     Output Shape          Param #     Connected to                     \n",
      "====================================================================================================\n",
      "lstm_4 (LSTM)                    (None, 10)            6080        lstm_input_4[0][0]               \n",
      "____________________________________________________________________________________________________\n",
      "dense_4 (Dense)                  (None, 31)            341         lstm_4[0][0]                     \n",
      "====================================================================================================\n",
      "Total params: 6421\n",
      "____________________________________________________________________________________________________\n",
      "None\n"
     ]
    }
   ],
   "source": [
    "print model.summary()"
   ]
  },
  {
   "cell_type": "code",
   "execution_count": 107,
   "metadata": {
    "collapsed": false
   },
   "outputs": [
    {
     "name": "stdout",
     "output_type": "stream",
     "text": [
      "Epoch 1/10\n",
      "20s - loss: 1.0051 - acc: 0.7992\n",
      "Epoch 2/10\n",
      "19s - loss: 0.0746 - acc: 0.9951\n",
      "Epoch 3/10\n",
      "20s - loss: 0.0280 - acc: 0.9976\n",
      "Epoch 4/10\n",
      "20s - loss: 0.0139 - acc: 0.9982\n",
      "Epoch 5/10\n",
      "19s - loss: 0.0076 - acc: 0.9991\n",
      "Epoch 6/10\n",
      "21s - loss: 0.0046 - acc: 0.9993\n",
      "Epoch 7/10\n",
      "23s - loss: 0.0030 - acc: 0.9995\n",
      "Epoch 8/10\n",
      "20s - loss: 0.0021 - acc: 0.9997\n",
      "Epoch 9/10\n",
      "22s - loss: 0.0014 - acc: 0.9998\n",
      "Epoch 10/10\n",
      "22s - loss: 9.3088e-04 - acc: 1.0000\n"
     ]
    },
    {
     "data": {
      "text/plain": [
       "<keras.callbacks.History at 0x119812e10>"
      ]
     },
     "execution_count": 107,
     "metadata": {},
     "output_type": "execute_result"
    }
   ],
   "source": [
    "model.fit(X1_train_RS, y1_train, nb_epoch=10, batch_size=20, verbose=2)"
   ]
  },
  {
   "cell_type": "code",
   "execution_count": 108,
   "metadata": {
    "collapsed": false
   },
   "outputs": [
    {
     "name": "stdout",
     "output_type": "stream",
     "text": [
      "32640/32673 [============================>.] - ETA: 0s"
     ]
    }
   ],
   "source": [
    "predictions_prob = model.predict_proba(X1_train_RS)"
   ]
  },
  {
   "cell_type": "code",
   "execution_count": 110,
   "metadata": {
    "collapsed": false
   },
   "outputs": [
    {
     "data": {
      "text/plain": [
       "array([[  2.70059175e-08,   9.97016400e-07,   1.82116686e-08,\n",
       "          1.28576517e-06,   1.26351072e-08,   1.89386853e-07,\n",
       "          3.40691759e-06,   4.71739314e-11,   1.49100671e-07,\n",
       "          9.07438903e-07,   4.95727932e-07,   2.45824964e-07,\n",
       "          1.24633750e-11,   6.46876401e-08,   5.39172689e-08,\n",
       "          1.67110372e-07,   5.49933521e-09,   1.08094766e-09,\n",
       "          2.18606445e-07,   4.19309032e-10,   9.27433859e-07,\n",
       "          2.76907794e-08,   1.01254136e-06,   9.37660758e-08,\n",
       "          1.20734171e-06,   1.63785412e-08,   1.38655139e-07,\n",
       "          1.83888478e-08,   9.99980927e-01,   1.24188948e-09,\n",
       "          7.38228573e-06],\n",
       "       [  2.70059175e-08,   9.97016400e-07,   1.82116686e-08,\n",
       "          1.28576517e-06,   1.26351072e-08,   1.89386853e-07,\n",
       "          3.40691759e-06,   4.71739314e-11,   1.49100671e-07,\n",
       "          9.07438903e-07,   4.95727932e-07,   2.45824964e-07,\n",
       "          1.24633750e-11,   6.46876401e-08,   5.39172689e-08,\n",
       "          1.67110372e-07,   5.49933521e-09,   1.08094766e-09,\n",
       "          2.18606445e-07,   4.19309032e-10,   9.27433859e-07,\n",
       "          2.76907794e-08,   1.01254136e-06,   9.37660758e-08,\n",
       "          1.20734171e-06,   1.63785412e-08,   1.38655139e-07,\n",
       "          1.83888478e-08,   9.99980927e-01,   1.24188948e-09,\n",
       "          7.38228573e-06],\n",
       "       [  5.08986844e-08,   1.09363964e-06,   2.10771596e-08,\n",
       "          1.41954786e-06,   1.89217531e-08,   2.33805949e-07,\n",
       "          4.89515423e-06,   7.00533589e-11,   2.23989460e-07,\n",
       "          8.85506950e-07,   7.33221043e-07,   2.60909246e-07,\n",
       "          1.92062494e-11,   8.38391898e-08,   6.85404089e-08,\n",
       "          2.29823570e-07,   5.53022650e-09,   1.62815672e-09,\n",
       "          3.41378694e-07,   4.32296643e-10,   1.42236104e-06,\n",
       "          4.05958360e-08,   1.61999219e-06,   1.35939558e-07,\n",
       "          1.71449926e-06,   1.73921144e-08,   1.95693588e-07,\n",
       "          2.30417747e-08,   9.99976754e-01,   1.35183764e-09,\n",
       "          7.51863035e-06],\n",
       "       [  5.08986844e-08,   1.09363964e-06,   2.10771596e-08,\n",
       "          1.41954786e-06,   1.89217531e-08,   2.33805949e-07,\n",
       "          4.89515423e-06,   7.00533589e-11,   2.23989460e-07,\n",
       "          8.85506950e-07,   7.33221043e-07,   2.60909246e-07,\n",
       "          1.92062494e-11,   8.38391898e-08,   6.85404089e-08,\n",
       "          2.29823570e-07,   5.53022650e-09,   1.62815672e-09,\n",
       "          3.41378694e-07,   4.32296643e-10,   1.42236104e-06,\n",
       "          4.05958360e-08,   1.61999219e-06,   1.35939558e-07,\n",
       "          1.71449926e-06,   1.73921144e-08,   1.95693588e-07,\n",
       "          2.30417747e-08,   9.99976754e-01,   1.35183764e-09,\n",
       "          7.51863035e-06],\n",
       "       [  3.99131004e-08,   1.08507516e-06,   2.19341985e-08,\n",
       "          1.66880443e-06,   1.54371094e-08,   2.10764085e-07,\n",
       "          3.79776293e-06,   5.35933312e-11,   1.73974840e-07,\n",
       "          8.86487214e-07,   5.47444756e-07,   3.00996561e-07,\n",
       "          1.65545008e-11,   7.49580664e-08,   6.39738147e-08,\n",
       "          2.16156621e-07,   6.70270728e-09,   1.23531096e-09,\n",
       "          2.65048044e-07,   4.75886164e-10,   1.10550809e-06,\n",
       "          3.30769439e-08,   1.18932303e-06,   1.15756805e-07,\n",
       "          1.37722520e-06,   1.75451333e-08,   1.55760986e-07,\n",
       "          2.15434550e-08,   9.99977827e-01,   1.54498869e-09,\n",
       "          8.83359280e-06],\n",
       "       [  3.99131004e-08,   1.08507516e-06,   2.19341985e-08,\n",
       "          1.66880443e-06,   1.54371094e-08,   2.10764085e-07,\n",
       "          3.79776293e-06,   5.35933312e-11,   1.73974840e-07,\n",
       "          8.86487214e-07,   5.47444756e-07,   3.00996561e-07,\n",
       "          1.65545008e-11,   7.49580664e-08,   6.39738147e-08,\n",
       "          2.16156621e-07,   6.70270728e-09,   1.23531096e-09,\n",
       "          2.65048044e-07,   4.75886164e-10,   1.10550809e-06,\n",
       "          3.30769439e-08,   1.18932303e-06,   1.15756805e-07,\n",
       "          1.37722520e-06,   1.75451333e-08,   1.55760986e-07,\n",
       "          2.15434550e-08,   9.99977827e-01,   1.54498869e-09,\n",
       "          8.83359280e-06],\n",
       "       [  9.99968886e-01,   4.24953628e-10,   2.36457476e-09,\n",
       "          1.12151556e-05,   1.22398717e-07,   4.14784473e-09,\n",
       "          5.97967664e-06,   8.29812663e-10,   1.27538570e-07,\n",
       "          3.41699054e-13,   2.40145737e-10,   3.66703102e-06,\n",
       "          2.41191209e-08,   1.59538658e-07,   4.11320613e-08,\n",
       "          2.11175552e-06,   5.95628444e-06,   1.50327679e-08,\n",
       "          1.98830634e-07,   1.97861644e-10,   2.45604554e-07,\n",
       "          5.88814657e-07,   3.22674595e-07,   7.00853597e-09,\n",
       "          5.82806443e-08,   1.49829238e-09,   8.47226644e-08,\n",
       "          5.07220967e-08,   8.98293777e-08,   7.75475755e-08,\n",
       "          9.17762755e-09],\n",
       "       [  9.99968886e-01,   4.24953628e-10,   2.36457476e-09,\n",
       "          1.12151556e-05,   1.22398717e-07,   4.14784473e-09,\n",
       "          5.97967664e-06,   8.29812663e-10,   1.27538570e-07,\n",
       "          3.41699054e-13,   2.40145737e-10,   3.66703102e-06,\n",
       "          2.41191209e-08,   1.59538658e-07,   4.11320613e-08,\n",
       "          2.11175552e-06,   5.95628444e-06,   1.50327679e-08,\n",
       "          1.98830634e-07,   1.97861644e-10,   2.45604554e-07,\n",
       "          5.88814657e-07,   3.22674595e-07,   7.00853597e-09,\n",
       "          5.82806443e-08,   1.49829238e-09,   8.47226644e-08,\n",
       "          5.07220967e-08,   8.98293777e-08,   7.75475755e-08,\n",
       "          9.17762755e-09],\n",
       "       [  1.92810057e-05,   1.20742743e-05,   3.29594650e-06,\n",
       "          9.99916911e-01,   9.50272897e-06,   3.25224573e-06,\n",
       "          6.62956179e-09,   9.17227752e-11,   2.29837565e-06,\n",
       "          2.92894486e-09,   6.50484466e-09,   4.35562661e-08,\n",
       "          5.64030188e-07,   1.37286918e-06,   1.41210890e-07,\n",
       "          2.87704393e-06,   1.14751447e-05,   1.50483661e-08,\n",
       "          2.17497718e-08,   2.90048119e-09,   3.28954997e-08,\n",
       "          3.35173903e-11,   2.72277703e-08,   1.71518579e-07,\n",
       "          2.09212576e-08,   8.57447169e-11,   2.70542358e-07,\n",
       "          1.39408974e-06,   6.91867172e-06,   8.08614732e-06,\n",
       "          1.49176032e-07],\n",
       "       [  1.92810057e-05,   1.20742743e-05,   3.29594650e-06,\n",
       "          9.99916911e-01,   9.50272897e-06,   3.25224573e-06,\n",
       "          6.62956179e-09,   9.17227752e-11,   2.29837565e-06,\n",
       "          2.92894486e-09,   6.50484466e-09,   4.35562661e-08,\n",
       "          5.64030188e-07,   1.37286918e-06,   1.41210890e-07,\n",
       "          2.87704393e-06,   1.14751447e-05,   1.50483661e-08,\n",
       "          2.17497718e-08,   2.90048119e-09,   3.28954997e-08,\n",
       "          3.35173903e-11,   2.72277703e-08,   1.71518579e-07,\n",
       "          2.09212576e-08,   8.57447169e-11,   2.70542358e-07,\n",
       "          1.39408974e-06,   6.91867172e-06,   8.08614732e-06,\n",
       "          1.49176032e-07],\n",
       "       [  1.79551153e-05,   1.18733578e-05,   3.24490566e-06,\n",
       "          9.99917626e-01,   9.35788012e-06,   3.17403283e-06,\n",
       "          6.65498057e-09,   9.42291731e-11,   2.16475837e-06,\n",
       "          3.00705860e-09,   6.29291863e-09,   4.48434534e-08,\n",
       "          5.82313533e-07,   1.33660637e-06,   1.41048275e-07,\n",
       "          2.89539139e-06,   1.26393761e-05,   1.48741641e-08,\n",
       "          2.01210977e-08,   3.09491255e-09,   3.06525223e-08,\n",
       "          3.39209182e-11,   2.49544776e-08,   1.73227988e-07,\n",
       "          2.03781312e-08,   8.75686260e-11,   2.53248970e-07,\n",
       "          1.38798441e-06,   6.43687872e-06,   8.75390378e-06,\n",
       "          1.50167011e-07],\n",
       "       [  1.79551153e-05,   1.18733578e-05,   3.24490566e-06,\n",
       "          9.99917626e-01,   9.35788012e-06,   3.17403283e-06,\n",
       "          6.65498057e-09,   9.42291731e-11,   2.16475837e-06,\n",
       "          3.00705860e-09,   6.29291863e-09,   4.48434534e-08,\n",
       "          5.82313533e-07,   1.33660637e-06,   1.41048275e-07,\n",
       "          2.89539139e-06,   1.26393761e-05,   1.48741641e-08,\n",
       "          2.01210977e-08,   3.09491255e-09,   3.06525223e-08,\n",
       "          3.39209182e-11,   2.49544776e-08,   1.73227988e-07,\n",
       "          2.03781312e-08,   8.75686260e-11,   2.53248970e-07,\n",
       "          1.38798441e-06,   6.43687872e-06,   8.75390378e-06,\n",
       "          1.50167011e-07],\n",
       "       [  9.99957323e-01,   6.03142702e-10,   2.74933409e-09,\n",
       "          1.30589315e-05,   1.46260632e-07,   5.73319792e-09,\n",
       "          9.12206542e-06,   1.31046285e-09,   1.57079285e-07,\n",
       "          5.24012637e-13,   2.68483513e-10,   5.10884320e-06,\n",
       "          2.78211516e-08,   2.21412762e-07,   5.21933217e-08,\n",
       "          2.17501542e-06,   1.04537530e-05,   2.17328608e-08,\n",
       "          2.07112663e-07,   3.00475145e-10,   2.65313474e-07,\n",
       "          7.68302527e-07,   3.42199968e-07,   7.00013203e-09,\n",
       "          7.72915172e-08,   2.44192466e-09,   1.15726841e-07,\n",
       "          7.14694721e-08,   1.15127008e-07,   1.10269468e-07,\n",
       "          9.73963488e-09],\n",
       "       [  9.99957323e-01,   6.03142702e-10,   2.74933409e-09,\n",
       "          1.30589315e-05,   1.46260632e-07,   5.73319792e-09,\n",
       "          9.12206542e-06,   1.31046285e-09,   1.57079285e-07,\n",
       "          5.24012637e-13,   2.68483513e-10,   5.10884320e-06,\n",
       "          2.78211516e-08,   2.21412762e-07,   5.21933217e-08,\n",
       "          2.17501542e-06,   1.04537530e-05,   2.17328608e-08,\n",
       "          2.07112663e-07,   3.00475145e-10,   2.65313474e-07,\n",
       "          7.68302527e-07,   3.42199968e-07,   7.00013203e-09,\n",
       "          7.72915172e-08,   2.44192466e-09,   1.15726841e-07,\n",
       "          7.14694721e-08,   1.15127008e-07,   1.10269468e-07,\n",
       "          9.73963488e-09],\n",
       "       [  9.99966383e-01,   4.46988863e-10,   1.87856175e-09,\n",
       "          1.07469696e-05,   1.21085321e-07,   4.05645917e-09,\n",
       "          7.58422266e-06,   1.01270270e-09,   1.21851613e-07,\n",
       "          3.10097190e-13,   1.92703478e-10,   3.87783348e-06,\n",
       "          2.23391829e-08,   1.66639097e-07,   3.91423818e-08,\n",
       "          1.65370614e-06,   7.64931428e-06,   1.59155977e-08,\n",
       "          1.64044025e-07,   1.86987412e-10,   2.02369407e-07,\n",
       "          5.60591104e-07,   2.70446350e-07,   5.13607690e-09,\n",
       "          6.15386284e-08,   1.54190638e-09,   8.41744807e-08,\n",
       "          5.33639088e-08,   7.76541000e-08,   8.61650307e-08,\n",
       "          6.78263534e-09]], dtype=float32)"
      ]
     },
     "execution_count": 110,
     "metadata": {},
     "output_type": "execute_result"
    }
   ],
   "source": [
    "predictions_prob[0:15]"
   ]
  },
  {
   "cell_type": "code",
   "execution_count": 114,
   "metadata": {
    "collapsed": false
   },
   "outputs": [
    {
     "name": "stdout",
     "output_type": "stream",
     "text": [
      "32640/32673 [============================>.] - ETA: 0s"
     ]
    }
   ],
   "source": [
    "predictions = model.predict_classes(X1_train_RS)"
   ]
  },
  {
   "cell_type": "code",
   "execution_count": 115,
   "metadata": {
    "collapsed": false
   },
   "outputs": [
    {
     "data": {
      "text/plain": [
       "array([28, 28, 28, 28, 28, 28,  0,  0,  3,  3,  3,  3,  0,  0,  0])"
      ]
     },
     "execution_count": 115,
     "metadata": {},
     "output_type": "execute_result"
    }
   ],
   "source": [
    "predictions[0:15]"
   ]
  },
  {
   "cell_type": "markdown",
   "metadata": {},
   "source": [
    "### Model 2"
   ]
  },
  {
   "cell_type": "code",
   "execution_count": null,
   "metadata": {
    "collapsed": true
   },
   "outputs": [],
   "source": []
  },
  {
   "cell_type": "code",
   "execution_count": null,
   "metadata": {
    "collapsed": true
   },
   "outputs": [],
   "source": [
    "# create X and y based on time lag requested (\n",
    "# (modified from kiefer lab)\n",
    "def create_XY(timeseries, lag=1):\n",
    "    ts = timeseries.ravel()\n",
    "    y = ts[lag:]\n",
    "    X = []\n",
    "    for i in range(lag):\n",
    "        current_pred = ts[i:]\n",
    "        current_pred = current_pred[:len(y)]\n",
    "        X.append(current_pred)\n",
    "    return np.array(X).T, y"
   ]
  },
  {
   "cell_type": "markdown",
   "metadata": {},
   "source": [
    "### Using MCMC"
   ]
  },
  {
   "cell_type": "code",
   "execution_count": null,
   "metadata": {
    "collapsed": true
   },
   "outputs": [],
   "source": []
  },
  {
   "cell_type": "code",
   "execution_count": null,
   "metadata": {
    "collapsed": true
   },
   "outputs": [],
   "source": []
  },
  {
   "cell_type": "code",
   "execution_count": null,
   "metadata": {
    "collapsed": true
   },
   "outputs": [],
   "source": []
  },
  {
   "cell_type": "code",
   "execution_count": null,
   "metadata": {
    "collapsed": true
   },
   "outputs": [],
   "source": []
  },
  {
   "cell_type": "code",
   "execution_count": null,
   "metadata": {
    "collapsed": true
   },
   "outputs": [],
   "source": []
  },
  {
   "cell_type": "markdown",
   "metadata": {},
   "source": [
    "### K Nearest Neighbors Model"
   ]
  },
  {
   "cell_type": "code",
   "execution_count": null,
   "metadata": {
    "collapsed": true
   },
   "outputs": [],
   "source": []
  }
 ],
 "metadata": {
  "kernelspec": {
   "display_name": "Python [dsi]",
   "language": "python",
   "name": "Python [dsi]"
  },
  "language_info": {
   "codemirror_mode": {
    "name": "ipython",
    "version": 2
   },
   "file_extension": ".py",
   "mimetype": "text/x-python",
   "name": "python",
   "nbconvert_exporter": "python",
   "pygments_lexer": "ipython2",
   "version": "2.7.12"
  }
 },
 "nbformat": 4,
 "nbformat_minor": 0
}
