{
 "cells": [
  {
   "cell_type": "markdown",
   "metadata": {},
   "source": [
    "### Python Midi"
   ]
  },
  {
   "cell_type": "code",
   "execution_count": 40,
   "metadata": {
    "collapsed": true
   },
   "outputs": [],
   "source": [
    "import midi"
   ]
  },
  {
   "cell_type": "code",
   "execution_count": null,
   "metadata": {
    "collapsed": true
   },
   "outputs": [],
   "source": []
  },
  {
   "cell_type": "code",
   "execution_count": 41,
   "metadata": {
    "collapsed": true
   },
   "outputs": [],
   "source": [
    "import pandas as pd"
   ]
  },
  {
   "cell_type": "code",
   "execution_count": 42,
   "metadata": {
    "collapsed": true
   },
   "outputs": [
    {
     "name": "stdout",
     "output_type": "stream",
     "text": [
      "midi.Pattern(format=1, resolution=1024, tracks=\\\n",
      "[midi.Track(\\\n",
      "  [midi.TimeSignatureEvent(tick=0, data=[4, 2, 24, 8]),\n",
      "   midi.KeySignatureEvent(tick=0, data=[0, 0]),\n",
      "   midi.SetTempoEvent(tick=0, data=[11, 113, 176]),\n",
      "   midi.TimeSignatureEvent(tick=4096, data=[4, 2, 24, 8]),\n",
      "   midi.KeySignatureEvent(tick=0, data=[0, 0]),\n",
      "   midi.TimeSignatureEvent(tick=4096, data=[4, 2, 24, 8]),\n",
      "   midi.KeySignatureEvent(tick=0, data=[0, 0]),\n",
      "   midi.TimeSignatureEvent(tick=4096, data=[4, 2, 24, 8]),\n",
      "   midi.KeySignatureEvent(tick=0, data=[0, 0]),\n",
      "   midi.TimeSignatureEvent(tick=4096, data=[4, 2, 24, 8]),\n",
      "   midi.KeySignatureEvent(tick=0, data=[0, 0]),\n",
      "   midi.TimeSignatureEvent(tick=4096, data=[4, 2, 24, 8]),\n",
      "   midi.KeySignatureEvent(tick=0, data=[0, 0]),\n",
      "   midi.TimeSignatureEvent(tick=4096, data=[4, 2, 24, 8]),\n",
      "   midi.KeySignatureEvent(tick=0, data=[0, 0]),\n",
      "   midi.TimeSignatureEvent(tick=4096, data=[4, 2, 24, 8]),\n",
      "   midi.KeySignatureEvent(tick=0, data=[0, 0]),\n",
      "   midi.TimeSignatureEvent(tick=4096, data=[4, 2, 24, 8]),\n",
      "   midi.KeySignatureEvent(tick=0, data=[0, 0]),\n",
      "   midi.TimeSignatureEvent(tick=4096, data=[4, 2, 24, 8]),\n",
      "   midi.KeySignatureEvent(tick=0, data=[0, 0]),\n",
      "   midi.TimeSignatureEvent(tick=4096, data=[4, 2, 24, 8]),\n",
      "   midi.KeySignatureEvent(tick=0, data=[0, 0]),\n",
      "   midi.TimeSignatureEvent(tick=4096, data=[4, 2, 24, 8]),\n",
      "   midi.KeySignatureEvent(tick=0, data=[0, 0]),\n",
      "   midi.TimeSignatureEvent(tick=4096, data=[4, 2, 24, 8]),\n",
      "   midi.KeySignatureEvent(tick=0, data=[0, 0]),\n",
      "   midi.TimeSignatureEvent(tick=4096, data=[4, 2, 24, 8]),\n",
      "   midi.KeySignatureEvent(tick=0, data=[0, 0]),\n",
      "   midi.TimeSignatureEvent(tick=4096, data=[4, 2, 24, 8]),\n",
      "   midi.KeySignatureEvent(tick=0, data=[0, 0]),\n",
      "   midi.TimeSignatureEvent(tick=4096, data=[4, 2, 24, 8]),\n",
      "   midi.KeySignatureEvent(tick=0, data=[0, 0]),\n",
      "   midi.TimeSignatureEvent(tick=4096, data=[4, 2, 24, 8]),\n",
      "   midi.KeySignatureEvent(tick=0, data=[0, 0]),\n",
      "   midi.TimeSignatureEvent(tick=4096, data=[4, 2, 24, 8]),\n",
      "   midi.KeySignatureEvent(tick=0, data=[0, 0]),\n",
      "   midi.EndOfTrackEvent(tick=0, data=[])]),\n",
      " midi.Track(\\\n",
      "  [midi.NoteOnEvent(tick=3072, channel=0, data=[69, 64]),\n",
      "   midi.NoteOffEvent(tick=1024, channel=0, data=[69, 0]),\n",
      "   midi.NoteOnEvent(tick=0, channel=0, data=[68, 64]),\n",
      "   midi.NoteOffEvent(tick=1024, channel=0, data=[68, 0]),\n",
      "   midi.NoteOnEvent(tick=0, channel=0, data=[69, 64]),\n",
      "   midi.NoteOffEvent(tick=512, channel=0, data=[69, 0]),\n",
      "   midi.NoteOnEvent(tick=0, channel=0, data=[71, 64]),\n",
      "   midi.NoteOffEvent(tick=512, channel=0, data=[71, 0]),\n",
      "   midi.NoteOnEvent(tick=0, channel=0, data=[72, 64]),\n",
      "   midi.NoteOffEvent(tick=1024, channel=0, data=[72, 0]),\n",
      "   midi.NoteOnEvent(tick=0, channel=0, data=[74, 64]),\n",
      "   midi.NoteOffEvent(tick=1024, channel=0, data=[74, 0]),\n",
      "   midi.NoteOnEvent(tick=0, channel=0, data=[72, 64]),\n",
      "   midi.NoteOffEvent(tick=1024, channel=0, data=[72, 0]),\n",
      "   midi.NoteOnEvent(tick=0, channel=0, data=[71, 64]),\n",
      "   midi.NoteOffEvent(tick=1024, channel=0, data=[71, 0]),\n",
      "   midi.NoteOnEvent(tick=0, channel=0, data=[69, 64]),\n",
      "   midi.NoteOffEvent(tick=1024, channel=0, data=[69, 0]),\n",
      "   midi.NoteOnEvent(tick=0, channel=0, data=[69, 64]),\n",
      "   midi.NoteOffEvent(tick=1024, channel=0, data=[69, 0]),\n",
      "   midi.NoteOnEvent(tick=0, channel=0, data=[65, 64]),\n",
      "   midi.NoteOffEvent(tick=1024, channel=0, data=[65, 0]),\n",
      "   midi.NoteOnEvent(tick=0, channel=0, data=[67, 64]),\n",
      "   midi.NoteOffEvent(tick=1024, channel=0, data=[67, 0]),\n",
      "   midi.NoteOnEvent(tick=0, channel=0, data=[69, 64]),\n",
      "   midi.NoteOffEvent(tick=1024, channel=0, data=[69, 0]),\n",
      "   midi.NoteOnEvent(tick=0, channel=0, data=[67, 64]),\n",
      "   midi.NoteOffEvent(tick=512, channel=0, data=[67, 0]),\n",
      "   midi.NoteOnEvent(tick=0, channel=0, data=[65, 64]),\n",
      "   midi.NoteOffEvent(tick=512, channel=0, data=[65, 0]),\n",
      "   midi.NoteOnEvent(tick=0, channel=0, data=[64, 64]),\n",
      "   midi.NoteOffEvent(tick=512, channel=0, data=[64, 0]),\n",
      "   midi.NoteOnEvent(tick=0, channel=0, data=[62, 64]),\n",
      "   midi.NoteOffEvent(tick=512, channel=0, data=[62, 0]),\n",
      "   midi.NoteOnEvent(tick=0, channel=0, data=[64, 64]),\n",
      "   midi.NoteOffEvent(tick=1024, channel=0, data=[64, 0]),\n",
      "   midi.NoteOnEvent(tick=0, channel=0, data=[62, 64]),\n",
      "   midi.NoteOffEvent(tick=1024, channel=0, data=[62, 0]),\n",
      "   midi.NoteOnEvent(tick=0, channel=0, data=[69, 64]),\n",
      "   midi.NoteOffEvent(tick=1024, channel=0, data=[69, 0]),\n",
      "   midi.NoteOnEvent(tick=0, channel=0, data=[68, 64]),\n",
      "   midi.NoteOffEvent(tick=1024, channel=0, data=[68, 0]),\n",
      "   midi.NoteOnEvent(tick=0, channel=0, data=[69, 64]),\n",
      "   midi.NoteOffEvent(tick=512, channel=0, data=[69, 0]),\n",
      "   midi.NoteOnEvent(tick=0, channel=0, data=[71, 64]),\n",
      "   midi.NoteOffEvent(tick=512, channel=0, data=[71, 0]),\n",
      "   midi.NoteOnEvent(tick=0, channel=0, data=[72, 64]),\n",
      "   midi.NoteOffEvent(tick=1024, channel=0, data=[72, 0]),\n",
      "   midi.NoteOnEvent(tick=0, channel=0, data=[74, 64]),\n",
      "   midi.NoteOffEvent(tick=1024, channel=0, data=[74, 0]),\n",
      "   midi.NoteOnEvent(tick=0, channel=0, data=[72, 64]),\n",
      "   midi.NoteOffEvent(tick=1024, channel=0, data=[72, 0]),\n",
      "   midi.NoteOnEvent(tick=0, channel=0, data=[71, 64]),\n",
      "   midi.NoteOffEvent(tick=1024, channel=0, data=[71, 0]),\n",
      "   midi.NoteOnEvent(tick=0, channel=0, data=[69, 64]),\n",
      "   midi.NoteOffEvent(tick=1024, channel=0, data=[69, 0]),\n",
      "   midi.NoteOnEvent(tick=0, channel=0, data=[69, 64]),\n",
      "   midi.NoteOffEvent(tick=1024, channel=0, data=[69, 0]),\n",
      "   midi.NoteOnEvent(tick=0, channel=0, data=[65, 64]),\n",
      "   midi.NoteOffEvent(tick=1024, channel=0, data=[65, 0]),\n",
      "   midi.NoteOnEvent(tick=0, channel=0, data=[67, 64]),\n",
      "   midi.NoteOffEvent(tick=1024, channel=0, data=[67, 0]),\n",
      "   midi.NoteOnEvent(tick=0, channel=0, data=[69, 64]),\n",
      "   midi.NoteOffEvent(tick=1024, channel=0, data=[69, 0]),\n",
      "   midi.NoteOnEvent(tick=0, channel=0, data=[67, 64]),\n",
      "   midi.NoteOffEvent(tick=512, channel=0, data=[67, 0]),\n",
      "   midi.NoteOnEvent(tick=0, channel=0, data=[65, 64]),\n",
      "   midi.NoteOffEvent(tick=512, channel=0, data=[65, 0]),\n",
      "   midi.NoteOnEvent(tick=0, channel=0, data=[64, 64]),\n",
      "   midi.NoteOffEvent(tick=512, channel=0, data=[64, 0]),\n",
      "   midi.NoteOnEvent(tick=0, channel=0, data=[62, 64]),\n",
      "   midi.NoteOffEvent(tick=512, channel=0, data=[62, 0]),\n",
      "   midi.NoteOnEvent(tick=0, channel=0, data=[64, 64]),\n",
      "   midi.NoteOffEvent(tick=1024, channel=0, data=[64, 0]),\n",
      "   midi.NoteOnEvent(tick=0, channel=0, data=[62, 64]),\n",
      "   midi.NoteOffEvent(tick=1024, channel=0, data=[62, 0]),\n",
      "   midi.NoteOnEvent(tick=1024, channel=0, data=[62, 64]),\n",
      "   midi.NoteOffEvent(tick=512, channel=0, data=[62, 0]),\n",
      "   midi.NoteOnEvent(tick=0, channel=0, data=[64, 64]),\n",
      "   midi.NoteOffEvent(tick=512, channel=0, data=[64, 0]),\n",
      "   midi.NoteOnEvent(tick=0, channel=0, data=[65, 64]),\n",
      "   midi.NoteOffEvent(tick=1024, channel=0, data=[65, 0]),\n",
      "   midi.NoteOnEvent(tick=0, channel=0, data=[67, 64]),\n",
      "   midi.NoteOffEvent(tick=1024, channel=0, data=[67, 0]),\n",
      "   midi.NoteOnEvent(tick=0, channel=0, data=[62, 64]),\n",
      "   midi.NoteOffEvent(tick=512, channel=0, data=[62, 0]),\n",
      "   midi.NoteOnEvent(tick=0, channel=0, data=[64, 64]),\n",
      "   midi.NoteOffEvent(tick=512, channel=0, data=[64, 0]),\n",
      "   midi.NoteOnEvent(tick=0, channel=0, data=[65, 64]),\n",
      "   midi.NoteOffEvent(tick=1024, channel=0, data=[65, 0]),\n",
      "   midi.NoteOnEvent(tick=0, channel=0, data=[67, 64]),\n",
      "   midi.NoteOffEvent(tick=1024, channel=0, data=[67, 0]),\n",
      "   midi.NoteOnEvent(tick=0, channel=0, data=[69, 64]),\n",
      "   midi.NoteOffEvent(tick=1024, channel=0, data=[69, 0]),\n",
      "   midi.NoteOnEvent(tick=0, channel=0, data=[69, 64]),\n",
      "   midi.NoteOffEvent(tick=1024, channel=0, data=[69, 0]),\n",
      "   midi.NoteOnEvent(tick=0, channel=0, data=[74, 64]),\n",
      "   midi.NoteOffEvent(tick=1024, channel=0, data=[74, 0]),\n",
      "   midi.NoteOnEvent(tick=0, channel=0, data=[73, 64]),\n",
      "   midi.NoteOffEvent(tick=1024, channel=0, data=[73, 0]),\n",
      "   midi.NoteOnEvent(tick=0, channel=0, data=[74, 64]),\n",
      "   midi.NoteOffEvent(tick=1024, channel=0, data=[74, 0]),\n",
      "   midi.NoteOnEvent(tick=0, channel=0, data=[76, 64]),\n",
      "   midi.NoteOffEvent(tick=512, channel=0, data=[76, 0]),\n",
      "   midi.NoteOnEvent(tick=0, channel=0, data=[74, 64]),\n",
      "   midi.NoteOffEvent(tick=512, channel=0, data=[74, 0]),\n",
      "   midi.NoteOnEvent(tick=0, channel=0, data=[72, 64]),\n",
      "   midi.NoteOffEvent(tick=1024, channel=0, data=[72, 0]),\n",
      "   midi.NoteOnEvent(tick=0, channel=0, data=[71, 64]),\n",
      "   midi.NoteOffEvent(tick=1024, channel=0, data=[71, 0]),\n",
      "   midi.NoteOnEvent(tick=0, channel=0, data=[69, 64]),\n",
      "   midi.NoteOffEvent(tick=1024, channel=0, data=[69, 0]),\n",
      "   midi.NoteOnEvent(tick=0, channel=0, data=[71, 64]),\n",
      "   midi.NoteOffEvent(tick=1024, channel=0, data=[71, 0]),\n",
      "   midi.NoteOnEvent(tick=0, channel=0, data=[72, 64]),\n",
      "   midi.NoteOffEvent(tick=1024, channel=0, data=[72, 0]),\n",
      "   midi.NoteOnEvent(tick=0, channel=0, data=[69, 64]),\n",
      "   midi.NoteOffEvent(tick=512, channel=0, data=[69, 0]),\n",
      "   midi.NoteOnEvent(tick=0, channel=0, data=[70, 64]),\n",
      "   midi.NoteOffEvent(tick=512, channel=0, data=[70, 0]),\n",
      "   midi.NoteOnEvent(tick=0, channel=0, data=[72, 64]),\n",
      "   midi.NoteOffEvent(tick=1024, channel=0, data=[72, 0]),\n",
      "   midi.NoteOnEvent(tick=0, channel=0, data=[67, 64]),\n",
      "   midi.NoteOffEvent(tick=1024, channel=0, data=[67, 0]),\n",
      "   midi.NoteOnEvent(tick=0, channel=0, data=[65, 64]),\n",
      "   midi.NoteOffEvent(tick=1024, channel=0, data=[65, 0]),\n",
      "   midi.NoteOnEvent(tick=0, channel=0, data=[64, 64]),\n",
      "   midi.NoteOffEvent(tick=1024, channel=0, data=[64, 0]),\n",
      "   midi.NoteOnEvent(tick=0, channel=0, data=[62, 64]),\n",
      "   midi.NoteOffEvent(tick=2048, channel=0, data=[62, 0]),\n",
      "   midi.NoteOnEvent(tick=0, channel=0, data=[69, 64]),\n",
      "   midi.NoteOffEvent(tick=1024, channel=0, data=[69, 0]),\n",
      "   midi.NoteOnEvent(tick=0, channel=0, data=[67, 64]),\n",
      "   midi.NoteOffEvent(tick=1024, channel=0, data=[67, 0]),\n",
      "   midi.NoteOnEvent(tick=0, channel=0, data=[65, 64]),\n",
      "   midi.NoteOffEvent(tick=1024, channel=0, data=[65, 0]),\n",
      "   midi.NoteOnEvent(tick=0, channel=0, data=[64, 64]),\n",
      "   midi.NoteOffEvent(tick=1024, channel=0, data=[64, 0]),\n",
      "   midi.NoteOnEvent(tick=0, channel=0, data=[62, 64]),\n",
      "   midi.NoteOffEvent(tick=4096, channel=0, data=[62, 0]),\n",
      "   midi.EndOfTrackEvent(tick=0, data=[])]),\n",
      " midi.Track(\\\n",
      "  [midi.NoteOnEvent(tick=3072, channel=1, data=[65, 64]),\n",
      "   midi.NoteOffEvent(tick=1024, channel=1, data=[65, 0]),\n",
      "   midi.NoteOnEvent(tick=0, channel=1, data=[65, 64]),\n",
      "   midi.NoteOffEvent(tick=512, channel=1, data=[65, 0]),\n",
      "   midi.NoteOnEvent(tick=0, channel=1, data=[64, 64]),\n",
      "   midi.NoteOffEvent(tick=1024, channel=1, data=[64, 0]),\n",
      "   midi.NoteOnEvent(tick=0, channel=1, data=[68, 64]),\n",
      "   midi.NoteOffEvent(tick=512, channel=1, data=[68, 0]),\n",
      "   midi.NoteOnEvent(tick=0, channel=1, data=[69, 64]),\n",
      "   midi.NoteOffEvent(tick=1024, channel=1, data=[69, 0]),\n",
      "   midi.NoteOnEvent(tick=0, channel=1, data=[71, 64]),\n",
      "   midi.NoteOffEvent(tick=1536, channel=1, data=[71, 0]),\n",
      "   midi.NoteOnEvent(tick=0, channel=1, data=[69, 64]),\n",
      "   midi.NoteOffEvent(tick=1024, channel=1, data=[69, 0]),\n",
      "   midi.NoteOnEvent(tick=0, channel=1, data=[68, 64]),\n",
      "   midi.NoteOffEvent(tick=512, channel=1, data=[68, 0]),\n",
      "   midi.NoteOnEvent(tick=0, channel=1, data=[64, 64]),\n",
      "   midi.NoteOffEvent(tick=1024, channel=1, data=[64, 0]),\n",
      "   midi.NoteOnEvent(tick=0, channel=1, data=[64, 64]),\n",
      "   midi.NoteOffEvent(tick=1536, channel=1, data=[64, 0]),\n",
      "   midi.NoteOnEvent(tick=0, channel=1, data=[62, 64]),\n",
      "   midi.NoteOffEvent(tick=512, channel=1, data=[62, 0]),\n",
      "   midi.NoteOnEvent(tick=0, channel=1, data=[61, 64]),\n",
      "   midi.NoteOffEvent(tick=512, channel=1, data=[61, 0]),\n",
      "   midi.NoteOnEvent(tick=0, channel=1, data=[62, 64]),\n",
      "   midi.NoteOffEvent(tick=512, channel=1, data=[62, 0]),\n",
      "   midi.NoteOnEvent(tick=0, channel=1, data=[64, 64]),\n",
      "   midi.NoteOffEvent(tick=1536, channel=1, data=[64, 0]),\n",
      "   midi.NoteOnEvent(tick=0, channel=1, data=[62, 64]),\n",
      "   midi.NoteOffEvent(tick=512, channel=1, data=[62, 0]),\n",
      "   midi.NoteOnEvent(tick=0, channel=1, data=[61, 64]),\n",
      "   midi.NoteOffEvent(tick=512, channel=1, data=[61, 0]),\n",
      "   midi.NoteOnEvent(tick=0, channel=1, data=[62, 64]),\n",
      "   midi.NoteOffEvent(tick=1024, channel=1, data=[62, 0]),\n",
      "   midi.NoteOnEvent(tick=0, channel=1, data=[61, 64]),\n",
      "   midi.NoteOffEvent(tick=512, channel=1, data=[61, 0]),\n",
      "   midi.NoteOnEvent(tick=0, channel=1, data=[57, 64]),\n",
      "   midi.NoteOffEvent(tick=1024, channel=1, data=[57, 0]),\n",
      "   midi.NoteOnEvent(tick=0, channel=1, data=[65, 64]),\n",
      "   midi.NoteOffEvent(tick=1024, channel=1, data=[65, 0]),\n",
      "   midi.NoteOnEvent(tick=0, channel=1, data=[65, 64]),\n",
      "   midi.NoteOffEvent(tick=512, channel=1, data=[65, 0]),\n",
      "   midi.NoteOnEvent(tick=0, channel=1, data=[64, 64]),\n",
      "   midi.NoteOffEvent(tick=1024, channel=1, data=[64, 0]),\n",
      "   midi.NoteOnEvent(tick=0, channel=1, data=[68, 64]),\n",
      "   midi.NoteOffEvent(tick=512, channel=1, data=[68, 0]),\n",
      "   midi.NoteOnEvent(tick=0, channel=1, data=[69, 64]),\n",
      "   midi.NoteOffEvent(tick=1024, channel=1, data=[69, 0]),\n",
      "   midi.NoteOnEvent(tick=0, channel=1, data=[71, 64]),\n",
      "   midi.NoteOffEvent(tick=1536, channel=1, data=[71, 0]),\n",
      "   midi.NoteOnEvent(tick=0, channel=1, data=[69, 64]),\n",
      "   midi.NoteOffEvent(tick=1024, channel=1, data=[69, 0]),\n",
      "   midi.NoteOnEvent(tick=0, channel=1, data=[68, 64]),\n",
      "   midi.NoteOffEvent(tick=512, channel=1, data=[68, 0]),\n",
      "   midi.NoteOnEvent(tick=0, channel=1, data=[64, 64]),\n",
      "   midi.NoteOffEvent(tick=1024, channel=1, data=[64, 0]),\n",
      "   midi.NoteOnEvent(tick=0, channel=1, data=[64, 64]),\n",
      "   midi.NoteOffEvent(tick=1536, channel=1, data=[64, 0]),\n",
      "   midi.NoteOnEvent(tick=0, channel=1, data=[62, 64]),\n",
      "   midi.NoteOffEvent(tick=512, channel=1, data=[62, 0]),\n",
      "   midi.NoteOnEvent(tick=0, channel=1, data=[61, 64]),\n",
      "   midi.NoteOffEvent(tick=512, channel=1, data=[61, 0]),\n",
      "   midi.NoteOnEvent(tick=0, channel=1, data=[62, 64]),\n",
      "   midi.NoteOffEvent(tick=512, channel=1, data=[62, 0]),\n",
      "   midi.NoteOnEvent(tick=0, channel=1, data=[64, 64]),\n",
      "   midi.NoteOffEvent(tick=1536, channel=1, data=[64, 0]),\n",
      "   midi.NoteOnEvent(tick=0, channel=1, data=[62, 64]),\n",
      "   midi.NoteOffEvent(tick=512, channel=1, data=[62, 0]),\n",
      "   midi.NoteOnEvent(tick=0, channel=1, data=[61, 64]),\n",
      "   midi.NoteOffEvent(tick=512, channel=1, data=[61, 0]),\n",
      "   midi.NoteOnEvent(tick=0, channel=1, data=[62, 64]),\n",
      "   midi.NoteOffEvent(tick=1024, channel=1, data=[62, 0]),\n",
      "   midi.NoteOnEvent(tick=0, channel=1, data=[61, 64]),\n",
      "   midi.NoteOffEvent(tick=512, channel=1, data=[61, 0]),\n",
      "   midi.NoteOnEvent(tick=0, channel=1, data=[57, 64]),\n",
      "   midi.NoteOffEvent(tick=1024, channel=1, data=[57, 0]),\n",
      "   midi.NoteOnEvent(tick=1024, channel=1, data=[57, 64]),\n",
      "   midi.NoteOffEvent(tick=1024, channel=1, data=[57, 0]),\n",
      "   midi.NoteOnEvent(tick=0, channel=1, data=[62, 64]),\n",
      "   midi.NoteOffEvent(tick=1024, channel=1, data=[62, 0]),\n",
      "   midi.NoteOnEvent(tick=0, channel=1, data=[62, 64]),\n",
      "   midi.NoteOffEvent(tick=512, channel=1, data=[62, 0]),\n",
      "   midi.NoteOnEvent(tick=0, channel=1, data=[60, 64]),\n",
      "   midi.NoteOffEvent(tick=512, channel=1, data=[60, 0]),\n",
      "   midi.NoteOnEvent(tick=0, channel=1, data=[58, 64]),\n",
      "   midi.NoteOffEvent(tick=512, channel=1, data=[58, 0]),\n",
      "   midi.NoteOnEvent(tick=0, channel=1, data=[60, 64]),\n",
      "   midi.NoteOffEvent(tick=512, channel=1, data=[60, 0]),\n",
      "   midi.NoteOnEvent(tick=0, channel=1, data=[62, 64]),\n",
      "   midi.NoteOffEvent(tick=512, channel=1, data=[62, 0]),\n",
      "   midi.NoteOnEvent(tick=0, channel=1, data=[57, 64]),\n",
      "   midi.NoteOffEvent(tick=512, channel=1, data=[57, 0]),\n",
      "   midi.NoteOnEvent(tick=0, channel=1, data=[62, 64]),\n",
      "   midi.NoteOffEvent(tick=512, channel=1, data=[62, 0]),\n",
      "   midi.NoteOnEvent(tick=0, channel=1, data=[60, 64]),\n",
      "   midi.NoteOffEvent(tick=512, channel=1, data=[60, 0]),\n",
      "   midi.NoteOnEvent(tick=0, channel=1, data=[60, 64]),\n",
      "   midi.NoteOffEvent(tick=1024, channel=1, data=[60, 0]),\n",
      "   midi.NoteOnEvent(tick=0, channel=1, data=[65, 64]),\n",
      "   midi.NoteOffEvent(tick=512, channel=1, data=[65, 0]),\n",
      "   midi.NoteOnEvent(tick=0, channel=1, data=[67, 64]),\n",
      "   midi.NoteOffEvent(tick=512, channel=1, data=[67, 0]),\n",
      "   midi.NoteOnEvent(tick=0, channel=1, data=[69, 64]),\n",
      "   midi.NoteOffEvent(tick=512, channel=1, data=[69, 0]),\n",
      "   midi.NoteOnEvent(tick=0, channel=1, data=[70, 64]),\n",
      "   midi.NoteOffEvent(tick=1024, channel=1, data=[70, 0]),\n",
      "   midi.NoteOnEvent(tick=0, channel=1, data=[69, 64]),\n",
      "   midi.NoteOffEvent(tick=512, channel=1, data=[69, 0]),\n",
      "   midi.NoteOnEvent(tick=0, channel=1, data=[69, 64]),\n",
      "   midi.NoteOffEvent(tick=1024, channel=1, data=[69, 0]),\n",
      "   midi.NoteOnEvent(tick=0, channel=1, data=[64, 64]),\n",
      "   midi.NoteOffEvent(tick=1536, channel=1, data=[64, 0]),\n",
      "   midi.NoteOnEvent(tick=0, channel=1, data=[65, 64]),\n",
      "   midi.NoteOffEvent(tick=1024, channel=1, data=[65, 0]),\n",
      "   midi.NoteOnEvent(tick=0, channel=1, data=[64, 64]),\n",
      "   midi.NoteOffEvent(tick=512, channel=1, data=[64, 0]),\n",
      "   midi.NoteOnEvent(tick=0, channel=1, data=[64, 64]),\n",
      "   midi.NoteOffEvent(tick=1024, channel=1, data=[64, 0]),\n",
      "   midi.NoteOnEvent(tick=0, channel=1, data=[65, 64]),\n",
      "   midi.NoteOffEvent(tick=1536, channel=1, data=[65, 0]),\n",
      "   midi.NoteOnEvent(tick=0, channel=1, data=[64, 64]),\n",
      "   midi.NoteOffEvent(tick=512, channel=1, data=[64, 0]),\n",
      "   midi.NoteOnEvent(tick=0, channel=1, data=[65, 64]),\n",
      "   midi.NoteOffEvent(tick=1024, channel=1, data=[65, 0]),\n",
      "   midi.NoteOnEvent(tick=0, channel=1, data=[65, 64]),\n",
      "   midi.NoteOffEvent(tick=1024, channel=1, data=[65, 0]),\n",
      "   midi.NoteOnEvent(tick=0, channel=1, data=[64, 64]),\n",
      "   midi.NoteOffEvent(tick=1536, channel=1, data=[64, 0]),\n",
      "   midi.NoteOnEvent(tick=0, channel=1, data=[62, 64]),\n",
      "   midi.NoteOffEvent(tick=512, channel=1, data=[62, 0]),\n",
      "   midi.NoteOnEvent(tick=0, channel=1, data=[61, 64]),\n",
      "   midi.NoteOffEvent(tick=512, channel=1, data=[61, 0]),\n",
      "   midi.NoteOnEvent(tick=0, channel=1, data=[62, 64]),\n",
      "   midi.NoteOffEvent(tick=512, channel=1, data=[62, 0]),\n",
      "   midi.NoteOnEvent(tick=0, channel=1, data=[62, 64]),\n",
      "   midi.NoteOffEvent(tick=2048, channel=1, data=[62, 0]),\n",
      "   midi.NoteOnEvent(tick=0, channel=1, data=[62, 64]),\n",
      "   midi.NoteOffEvent(tick=1536, channel=1, data=[62, 0]),\n",
      "   midi.NoteOnEvent(tick=0, channel=1, data=[64, 64]),\n",
      "   midi.NoteOffEvent(tick=512, channel=1, data=[64, 0]),\n",
      "   midi.NoteOnEvent(tick=0, channel=1, data=[61, 64]),\n",
      "   midi.NoteOffEvent(tick=512, channel=1, data=[61, 0]),\n",
      "   midi.NoteOnEvent(tick=0, channel=1, data=[62, 64]),\n",
      "   midi.NoteOffEvent(tick=1024, channel=1, data=[62, 0]),\n",
      "   midi.NoteOnEvent(tick=0, channel=1, data=[61, 64]),\n",
      "   midi.NoteOffEvent(tick=512, channel=1, data=[61, 0]),\n",
      "   midi.NoteOnEvent(tick=0, channel=1, data=[57, 64]),\n",
      "   midi.NoteOffEvent(tick=4096, channel=1, data=[57, 0]),\n",
      "   midi.EndOfTrackEvent(tick=0, data=[])]),\n",
      " midi.Track(\\\n",
      "  [midi.NoteOnEvent(tick=3072, channel=2, data=[62, 64]),\n",
      "   midi.NoteOffEvent(tick=512, channel=2, data=[62, 0]),\n",
      "   midi.NoteOnEvent(tick=0, channel=2, data=[60, 64]),\n",
      "   midi.NoteOffEvent(tick=512, channel=2, data=[60, 0]),\n",
      "   midi.NoteOnEvent(tick=0, channel=2, data=[59, 64]),\n",
      "   midi.NoteOffEvent(tick=1024, channel=2, data=[59, 0]),\n",
      "   midi.NoteOnEvent(tick=0, channel=2, data=[60, 64]),\n",
      "   midi.NoteOffEvent(tick=512, channel=2, data=[60, 0]),\n",
      "   midi.NoteOnEvent(tick=0, channel=2, data=[62, 64]),\n",
      "   midi.NoteOffEvent(tick=512, channel=2, data=[62, 0]),\n",
      "   midi.NoteOnEvent(tick=0, channel=2, data=[64, 64]),\n",
      "   midi.NoteOffEvent(tick=1024, channel=2, data=[64, 0]),\n",
      "   midi.NoteOnEvent(tick=0, channel=2, data=[65, 64]),\n",
      "   midi.NoteOffEvent(tick=512, channel=2, data=[65, 0]),\n",
      "   midi.NoteOnEvent(tick=0, channel=2, data=[64, 64]),\n",
      "   midi.NoteOffEvent(tick=512, channel=2, data=[64, 0]),\n",
      "   midi.NoteOnEvent(tick=0, channel=2, data=[64, 64]),\n",
      "   midi.NoteOffEvent(tick=512, channel=2, data=[64, 0]),\n",
      "   midi.NoteOnEvent(tick=0, channel=2, data=[65, 64]),\n",
      "   midi.NoteOffEvent(tick=1024, channel=2, data=[65, 0]),\n",
      "   midi.NoteOnEvent(tick=0, channel=2, data=[64, 64]),\n",
      "   midi.NoteOffEvent(tick=256, channel=2, data=[64, 0]),\n",
      "   midi.NoteOnEvent(tick=0, channel=2, data=[62, 64]),\n",
      "   midi.NoteOffEvent(tick=256, channel=2, data=[62, 0]),\n",
      "   midi.NoteOnEvent(tick=0, channel=2, data=[61, 64]),\n",
      "   midi.NoteOffEvent(tick=1024, channel=2, data=[61, 0]),\n",
      "   midi.NoteOnEvent(tick=0, channel=2, data=[57, 64]),\n",
      "   midi.NoteOffEvent(tick=1024, channel=2, data=[57, 0]),\n",
      "   midi.NoteOnEvent(tick=0, channel=2, data=[57, 64]),\n",
      "   midi.NoteOffEvent(tick=1024, channel=2, data=[57, 0]),\n",
      "   midi.NoteOnEvent(tick=0, channel=2, data=[58, 64]),\n",
      "   midi.NoteOffEvent(tick=1024, channel=2, data=[58, 0]),\n",
      "   midi.NoteOnEvent(tick=0, channel=2, data=[57, 64]),\n",
      "   midi.NoteOffEvent(tick=1024, channel=2, data=[57, 0]),\n",
      "   midi.NoteOnEvent(tick=0, channel=2, data=[57, 64]),\n",
      "   midi.NoteOffEvent(tick=1024, channel=2, data=[57, 0]),\n",
      "   midi.NoteOnEvent(tick=0, channel=2, data=[57, 64]),\n",
      "   midi.NoteOffEvent(tick=512, channel=2, data=[57, 0]),\n",
      "   midi.NoteOnEvent(tick=0, channel=2, data=[53, 64]),\n",
      "   midi.NoteOffEvent(tick=512, channel=2, data=[53, 0]),\n",
      "   midi.NoteOnEvent(tick=0, channel=2, data=[55, 64]),\n",
      "   midi.NoteOffEvent(tick=512, channel=2, data=[55, 0]),\n",
      "   midi.NoteOnEvent(tick=0, channel=2, data=[52, 64]),\n",
      "   midi.NoteOffEvent(tick=512, channel=2, data=[52, 0]),\n",
      "   midi.NoteOnEvent(tick=0, channel=2, data=[53, 64]),\n",
      "   midi.NoteOffEvent(tick=1024, channel=2, data=[53, 0]),\n",
      "   midi.NoteOnEvent(tick=0, channel=2, data=[62, 64]),\n",
      "   midi.NoteOffEvent(tick=512, channel=2, data=[62, 0]),\n",
      "   midi.NoteOnEvent(tick=0, channel=2, data=[60, 64]),\n",
      "   midi.NoteOffEvent(tick=512, channel=2, data=[60, 0]),\n",
      "   midi.NoteOnEvent(tick=0, channel=2, data=[59, 64]),\n",
      "   midi.NoteOffEvent(tick=1024, channel=2, data=[59, 0]),\n",
      "   midi.NoteOnEvent(tick=0, channel=2, data=[60, 64]),\n",
      "   midi.NoteOffEvent(tick=512, channel=2, data=[60, 0]),\n",
      "   midi.NoteOnEvent(tick=0, channel=2, data=[62, 64]),\n",
      "   midi.NoteOffEvent(tick=512, channel=2, data=[62, 0]),\n",
      "   midi.NoteOnEvent(tick=0, channel=2, data=[64, 64]),\n",
      "   midi.NoteOffEvent(tick=1024, channel=2, data=[64, 0]),\n",
      "   midi.NoteOnEvent(tick=0, channel=2, data=[65, 64]),\n",
      "   midi.NoteOffEvent(tick=512, channel=2, data=[65, 0]),\n",
      "   midi.NoteOnEvent(tick=0, channel=2, data=[64, 64]),\n",
      "   midi.NoteOffEvent(tick=512, channel=2, data=[64, 0]),\n",
      "   midi.NoteOnEvent(tick=0, channel=2, data=[64, 64]),\n",
      "   midi.NoteOffEvent(tick=512, channel=2, data=[64, 0]),\n",
      "   midi.NoteOnEvent(tick=0, channel=2, data=[65, 64]),\n",
      "   midi.NoteOffEvent(tick=1024, channel=2, data=[65, 0]),\n",
      "   midi.NoteOnEvent(tick=0, channel=2, data=[64, 64]),\n",
      "   midi.NoteOffEvent(tick=256, channel=2, data=[64, 0]),\n",
      "   midi.NoteOnEvent(tick=0, channel=2, data=[62, 64]),\n",
      "   midi.NoteOffEvent(tick=256, channel=2, data=[62, 0]),\n",
      "   midi.NoteOnEvent(tick=0, channel=2, data=[61, 64]),\n",
      "   midi.NoteOffEvent(tick=1024, channel=2, data=[61, 0]),\n",
      "   midi.NoteOnEvent(tick=0, channel=2, data=[57, 64]),\n",
      "   midi.NoteOffEvent(tick=1024, channel=2, data=[57, 0]),\n",
      "   midi.NoteOnEvent(tick=0, channel=2, data=[57, 64]),\n",
      "   midi.NoteOffEvent(tick=1024, channel=2, data=[57, 0]),\n",
      "   midi.NoteOnEvent(tick=0, channel=2, data=[58, 64]),\n",
      "   midi.NoteOffEvent(tick=1024, channel=2, data=[58, 0]),\n",
      "   midi.NoteOnEvent(tick=0, channel=2, data=[57, 64]),\n",
      "   midi.NoteOffEvent(tick=1024, channel=2, data=[57, 0]),\n",
      "   midi.NoteOnEvent(tick=0, channel=2, data=[57, 64]),\n",
      "   midi.NoteOffEvent(tick=1024, channel=2, data=[57, 0]),\n",
      "   midi.NoteOnEvent(tick=0, channel=2, data=[57, 64]),\n",
      "   midi.NoteOffEvent(tick=512, channel=2, data=[57, 0]),\n",
      "   midi.NoteOnEvent(tick=0, channel=2, data=[53, 64]),\n",
      "   midi.NoteOffEvent(tick=512, channel=2, data=[53, 0]),\n",
      "   midi.NoteOnEvent(tick=0, channel=2, data=[55, 64]),\n",
      "   midi.NoteOffEvent(tick=512, channel=2, data=[55, 0]),\n",
      "   midi.NoteOnEvent(tick=0, channel=2, data=[52, 64]),\n",
      "   midi.NoteOffEvent(tick=512, channel=2, data=[52, 0]),\n",
      "   midi.NoteOnEvent(tick=0, channel=2, data=[53, 64]),\n",
      "   midi.NoteOffEvent(tick=1024, channel=2, data=[53, 0]),\n",
      "   midi.NoteOnEvent(tick=1024, channel=2, data=[53, 64]),\n",
      "   midi.NoteOffEvent(tick=512, channel=2, data=[53, 0]),\n",
      "   midi.NoteOnEvent(tick=0, channel=2, data=[55, 64]),\n",
      "   midi.NoteOffEvent(tick=512, channel=2, data=[55, 0]),\n",
      "   midi.NoteOnEvent(tick=0, channel=2, data=[57, 64]),\n",
      "   midi.NoteOffEvent(tick=1024, channel=2, data=[57, 0]),\n",
      "   midi.NoteOnEvent(tick=0, channel=2, data=[55, 64]),\n",
      "   midi.NoteOffEvent(tick=512, channel=2, data=[55, 0]),\n",
      "   midi.NoteOnEvent(tick=0, channel=2, data=[57, 64]),\n",
      "   midi.NoteOffEvent(tick=512, channel=2, data=[57, 0]),\n",
      "   midi.NoteOnEvent(tick=0, channel=2, data=[58, 64]),\n",
      "   midi.NoteOffEvent(tick=1024, channel=2, data=[58, 0]),\n",
      "   midi.NoteOnEvent(tick=0, channel=2, data=[57, 64]),\n",
      "   midi.NoteOffEvent(tick=512, channel=2, data=[57, 0]),\n",
      "   midi.NoteOnEvent(tick=0, channel=2, data=[65, 64]),\n",
      "   midi.NoteOffEvent(tick=1024, channel=2, data=[65, 0]),\n",
      "   midi.NoteOnEvent(tick=0, channel=2, data=[64, 64]),\n",
      "   midi.NoteOffEvent(tick=512, channel=2, data=[64, 0]),\n",
      "   midi.NoteOnEvent(tick=0, channel=2, data=[65, 64]),\n",
      "   midi.NoteOffEvent(tick=1024, channel=2, data=[65, 0]),\n",
      "   midi.NoteOnEvent(tick=0, channel=2, data=[60, 64]),\n",
      "   midi.NoteOffEvent(tick=1024, channel=2, data=[60, 0]),\n",
      "   midi.NoteOnEvent(tick=0, channel=2, data=[53, 64]),\n",
      "   midi.NoteOffEvent(tick=1024, channel=2, data=[53, 0]),\n",
      "   midi.NoteOnEvent(tick=0, channel=2, data=[55, 64]),\n",
      "   midi.NoteOffEvent(tick=1024, channel=2, data=[55, 0]),\n",
      "   midi.NoteOnEvent(tick=0, channel=2, data=[62, 64]),\n",
      "   midi.NoteOffEvent(tick=512, channel=2, data=[62, 0]),\n",
      "   midi.NoteOnEvent(tick=0, channel=2, data=[60, 64]),\n",
      "   midi.NoteOffEvent(tick=512, channel=2, data=[60, 0]),\n",
      "   midi.NoteOnEvent(tick=0, channel=2, data=[59, 64]),\n",
      "   midi.NoteOffEvent(tick=1536, channel=2, data=[59, 0]),\n",
      "   midi.NoteOnEvent(tick=0, channel=2, data=[57, 64]),\n",
      "   midi.NoteOffEvent(tick=1024, channel=2, data=[57, 0]),\n",
      "   midi.NoteOnEvent(tick=0, channel=2, data=[56, 64]),\n",
      "   midi.NoteOffEvent(tick=512, channel=2, data=[56, 0]),\n",
      "   midi.NoteOnEvent(tick=0, channel=2, data=[60, 64]),\n",
      "   midi.NoteOffEvent(tick=1024, channel=2, data=[60, 0]),\n",
      "   midi.NoteOnEvent(tick=0, channel=2, data=[62, 64]),\n",
      "   midi.NoteOffEvent(tick=1024, channel=2, data=[62, 0]),\n",
      "   midi.NoteOnEvent(tick=0, channel=2, data=[55, 64]),\n",
      "   midi.NoteOffEvent(tick=512, channel=2, data=[55, 0]),\n",
      "   midi.NoteOnEvent(tick=0, channel=2, data=[60, 64]),\n",
      "   midi.NoteOffEvent(tick=512, channel=2, data=[60, 0]),\n",
      "   midi.NoteOnEvent(tick=0, channel=2, data=[60, 64]),\n",
      "   midi.NoteOffEvent(tick=1024, channel=2, data=[60, 0]),\n",
      "   midi.NoteOnEvent(tick=0, channel=2, data=[60, 64]),\n",
      "   midi.NoteOffEvent(tick=512, channel=2, data=[60, 0]),\n",
      "   midi.NoteOnEvent(tick=0, channel=2, data=[62, 64]),\n",
      "   midi.NoteOffEvent(tick=512, channel=2, data=[62, 0]),\n",
      "   midi.NoteOnEvent(tick=0, channel=2, data=[64, 64]),\n",
      "   midi.NoteOffEvent(tick=512, channel=2, data=[64, 0]),\n",
      "   midi.NoteOnEvent(tick=0, channel=2, data=[62, 64]),\n",
      "   midi.NoteOffEvent(tick=512, channel=2, data=[62, 0]),\n",
      "   midi.NoteOnEvent(tick=0, channel=2, data=[61, 64]),\n",
      "   midi.NoteOffEvent(tick=512, channel=2, data=[61, 0]),\n",
      "   midi.NoteOnEvent(tick=0, channel=2, data=[57, 64]),\n",
      "   midi.NoteOffEvent(tick=512, channel=2, data=[57, 0]),\n",
      "   midi.NoteOnEvent(tick=0, channel=2, data=[58, 64]),\n",
      "   midi.NoteOffEvent(tick=512, channel=2, data=[58, 0]),\n",
      "   midi.NoteOnEvent(tick=0, channel=2, data=[57, 64]),\n",
      "   midi.NoteOffEvent(tick=256, channel=2, data=[57, 0]),\n",
      "   midi.NoteOnEvent(tick=0, channel=2, data=[55, 64]),\n",
      "   midi.NoteOffEvent(tick=256, channel=2, data=[55, 0]),\n",
      "   midi.NoteOnEvent(tick=0, channel=2, data=[53, 64]),\n",
      "   midi.NoteOffEvent(tick=2048, channel=2, data=[53, 0]),\n",
      "   midi.NoteOnEvent(tick=0, channel=2, data=[57, 64]),\n",
      "   midi.NoteOffEvent(tick=512, channel=2, data=[57, 0]),\n",
      "   midi.NoteOnEvent(tick=0, channel=2, data=[60, 64]),\n",
      "   midi.NoteOffEvent(tick=512, channel=2, data=[60, 0]),\n",
      "   midi.NoteOnEvent(tick=0, channel=2, data=[58, 64]),\n",
      "   midi.NoteOffEvent(tick=1024, channel=2, data=[58, 0]),\n",
      "   midi.NoteOnEvent(tick=0, channel=2, data=[57, 64]),\n",
      "   midi.NoteOffEvent(tick=1024, channel=2, data=[57, 0]),\n",
      "   midi.NoteOnEvent(tick=0, channel=2, data=[55, 64]),\n",
      "   midi.NoteOffEvent(tick=2048, channel=2, data=[55, 0]),\n",
      "   midi.NoteOnEvent(tick=0, channel=2, data=[54, 64]),\n",
      "   midi.NoteOffEvent(tick=512, channel=2, data=[54, 0]),\n",
      "   midi.NoteOnEvent(tick=0, channel=2, data=[52, 64]),\n",
      "   midi.NoteOffEvent(tick=512, channel=2, data=[52, 0]),\n",
      "   midi.NoteOnEvent(tick=0, channel=2, data=[54, 64]),\n",
      "   midi.NoteOffEvent(tick=2048, channel=2, data=[54, 0]),\n",
      "   midi.EndOfTrackEvent(tick=0, data=[])]),\n",
      " midi.Track(\\\n",
      "  [midi.NoteOnEvent(tick=3072, channel=3, data=[50, 64]),\n",
      "   midi.NoteOffEvent(tick=1024, channel=3, data=[50, 0]),\n",
      "   midi.NoteOnEvent(tick=0, channel=3, data=[50, 64]),\n",
      "   midi.NoteOffEvent(tick=1024, channel=3, data=[50, 0]),\n",
      "   midi.NoteOnEvent(tick=0, channel=3, data=[48, 64]),\n",
      "   midi.NoteOffEvent(tick=512, channel=3, data=[48, 0]),\n",
      "   midi.NoteOnEvent(tick=0, channel=3, data=[47, 64]),\n",
      "   midi.NoteOffEvent(tick=512, channel=3, data=[47, 0]),\n",
      "   midi.NoteOnEvent(tick=0, channel=3, data=[45, 64]),\n",
      "   midi.NoteOffEvent(tick=512, channel=3, data=[45, 0]),\n",
      "   midi.NoteOnEvent(tick=0, channel=3, data=[57, 64]),\n",
      "   midi.NoteOffEvent(tick=1024, channel=3, data=[57, 0]),\n",
      "   midi.NoteOnEvent(tick=0, channel=3, data=[56, 64]),\n",
      "   midi.NoteOffEvent(tick=512, channel=3, data=[56, 0]),\n",
      "   midi.NoteOnEvent(tick=0, channel=3, data=[57, 64]),\n",
      "   midi.NoteOffEvent(tick=512, channel=3, data=[57, 0]),\n",
      "   midi.NoteOnEvent(tick=0, channel=3, data=[53, 64]),\n",
      "   midi.NoteOffEvent(tick=512, channel=3, data=[53, 0]),\n",
      "   midi.NoteOnEvent(tick=0, channel=3, data=[50, 64]),\n",
      "   midi.NoteOffEvent(tick=512, channel=3, data=[50, 0]),\n",
      "   midi.NoteOnEvent(tick=0, channel=3, data=[52, 64]),\n",
      "   midi.NoteOffEvent(tick=512, channel=3, data=[52, 0]),\n",
      "   midi.NoteOnEvent(tick=0, channel=3, data=[45, 64]),\n",
      "   midi.NoteOffEvent(tick=1024, channel=3, data=[45, 0]),\n",
      "   midi.NoteOnEvent(tick=0, channel=3, data=[49, 64]),\n",
      "   midi.NoteOffEvent(tick=1024, channel=3, data=[49, 0]),\n",
      "   midi.NoteOnEvent(tick=0, channel=3, data=[50, 64]),\n",
      "   midi.NoteOffEvent(tick=512, channel=3, data=[50, 0]),\n",
      "   midi.NoteOnEvent(tick=0, channel=3, data=[53, 64]),\n",
      "   midi.NoteOffEvent(tick=512, channel=3, data=[53, 0]),\n",
      "   midi.NoteOnEvent(tick=0, channel=3, data=[52, 64]),\n",
      "   midi.NoteOffEvent(tick=512, channel=3, data=[52, 0]),\n",
      "   midi.NoteOnEvent(tick=0, channel=3, data=[50, 64]),\n",
      "   midi.NoteOffEvent(tick=512, channel=3, data=[50, 0]),\n",
      "   midi.NoteOnEvent(tick=0, channel=3, data=[49, 64]),\n",
      "   midi.NoteOffEvent(tick=512, channel=3, data=[49, 0]),\n",
      "   midi.NoteOnEvent(tick=0, channel=3, data=[45, 64]),\n",
      "   midi.NoteOffEvent(tick=512, channel=3, data=[45, 0]),\n",
      "   midi.NoteOnEvent(tick=0, channel=3, data=[50, 64]),\n",
      "   midi.NoteOffEvent(tick=1024, channel=3, data=[50, 0]),\n",
      "   midi.NoteOnEvent(tick=0, channel=3, data=[57, 64]),\n",
      "   midi.NoteOffEvent(tick=1024, channel=3, data=[57, 0]),\n",
      "   midi.NoteOnEvent(tick=0, channel=3, data=[45, 64]),\n",
      "   midi.NoteOffEvent(tick=1024, channel=3, data=[45, 0]),\n",
      "   midi.NoteOnEvent(tick=0, channel=3, data=[50, 64]),\n",
      "   midi.NoteOffEvent(tick=1024, channel=3, data=[50, 0]),\n",
      "   midi.NoteOnEvent(tick=0, channel=3, data=[50, 64]),\n",
      "   midi.NoteOffEvent(tick=1024, channel=3, data=[50, 0]),\n",
      "   midi.NoteOnEvent(tick=0, channel=3, data=[50, 64]),\n",
      "   midi.NoteOffEvent(tick=1024, channel=3, data=[50, 0]),\n",
      "   midi.NoteOnEvent(tick=0, channel=3, data=[48, 64]),\n",
      "   midi.NoteOffEvent(tick=512, channel=3, data=[48, 0]),\n",
      "   midi.NoteOnEvent(tick=0, channel=3, data=[47, 64]),\n",
      "   midi.NoteOffEvent(tick=512, channel=3, data=[47, 0]),\n",
      "   midi.NoteOnEvent(tick=0, channel=3, data=[45, 64]),\n",
      "   midi.NoteOffEvent(tick=512, channel=3, data=[45, 0]),\n",
      "   midi.NoteOnEvent(tick=0, channel=3, data=[57, 64]),\n",
      "   midi.NoteOffEvent(tick=1024, channel=3, data=[57, 0]),\n",
      "   midi.NoteOnEvent(tick=0, channel=3, data=[56, 64]),\n",
      "   midi.NoteOffEvent(tick=512, channel=3, data=[56, 0]),\n",
      "   midi.NoteOnEvent(tick=0, channel=3, data=[57, 64]),\n",
      "   midi.NoteOffEvent(tick=512, channel=3, data=[57, 0]),\n",
      "   midi.NoteOnEvent(tick=0, channel=3, data=[53, 64]),\n",
      "   midi.NoteOffEvent(tick=512, channel=3, data=[53, 0]),\n",
      "   midi.NoteOnEvent(tick=0, channel=3, data=[50, 64]),\n",
      "   midi.NoteOffEvent(tick=512, channel=3, data=[50, 0]),\n",
      "   midi.NoteOnEvent(tick=0, channel=3, data=[52, 64]),\n",
      "   midi.NoteOffEvent(tick=512, channel=3, data=[52, 0]),\n",
      "   midi.NoteOnEvent(tick=0, channel=3, data=[45, 64]),\n",
      "   midi.NoteOffEvent(tick=1024, channel=3, data=[45, 0]),\n",
      "   midi.NoteOnEvent(tick=0, channel=3, data=[49, 64]),\n",
      "   midi.NoteOffEvent(tick=1024, channel=3, data=[49, 0]),\n",
      "   midi.NoteOnEvent(tick=0, channel=3, data=[50, 64]),\n",
      "   midi.NoteOffEvent(tick=512, channel=3, data=[50, 0]),\n",
      "   midi.NoteOnEvent(tick=0, channel=3, data=[53, 64]),\n",
      "   midi.NoteOffEvent(tick=512, channel=3, data=[53, 0]),\n",
      "   midi.NoteOnEvent(tick=0, channel=3, data=[52, 64]),\n",
      "   midi.NoteOffEvent(tick=512, channel=3, data=[52, 0]),\n",
      "   midi.NoteOnEvent(tick=0, channel=3, data=[50, 64]),\n",
      "   midi.NoteOffEvent(tick=512, channel=3, data=[50, 0]),\n",
      "   midi.NoteOnEvent(tick=0, channel=3, data=[49, 64]),\n",
      "   midi.NoteOffEvent(tick=512, channel=3, data=[49, 0]),\n",
      "   midi.NoteOnEvent(tick=0, channel=3, data=[45, 64]),\n",
      "   midi.NoteOffEvent(tick=512, channel=3, data=[45, 0]),\n",
      "   midi.NoteOnEvent(tick=0, channel=3, data=[50, 64]),\n",
      "   midi.NoteOffEvent(tick=1024, channel=3, data=[50, 0]),\n",
      "   midi.NoteOnEvent(tick=0, channel=3, data=[57, 64]),\n",
      "   midi.NoteOffEvent(tick=1024, channel=3, data=[57, 0]),\n",
      "   midi.NoteOnEvent(tick=0, channel=3, data=[45, 64]),\n",
      "   midi.NoteOffEvent(tick=1024, channel=3, data=[45, 0]),\n",
      "   midi.NoteOnEvent(tick=0, channel=3, data=[50, 64]),\n",
      "   midi.NoteOffEvent(tick=1024, channel=3, data=[50, 0]),\n",
      "   midi.NoteOnEvent(tick=1024, channel=3, data=[50, 64]),\n",
      "   midi.NoteOffEvent(tick=1536, channel=3, data=[50, 0]),\n",
      "   midi.NoteOnEvent(tick=0, channel=3, data=[48, 64]),\n",
      "   midi.NoteOffEvent(tick=512, channel=3, data=[48, 0]),\n",
      "   midi.NoteOnEvent(tick=0, channel=3, data=[46, 64]),\n",
      "   midi.NoteOffEvent(tick=512, channel=3, data=[46, 0]),\n",
      "   midi.NoteOnEvent(tick=0, channel=3, data=[45, 64]),\n",
      "   midi.NoteOffEvent(tick=512, channel=3, data=[45, 0]),\n",
      "   midi.NoteOnEvent(tick=0, channel=3, data=[43, 64]),\n",
      "   midi.NoteOffEvent(tick=1024, channel=3, data=[43, 0]),\n",
      "   midi.NoteOnEvent(tick=0, channel=3, data=[50, 64]),\n",
      "   midi.NoteOffEvent(tick=512, channel=3, data=[50, 0]),\n",
      "   midi.NoteOnEvent(tick=0, channel=3, data=[48, 64]),\n",
      "   midi.NoteOffEvent(tick=512, channel=3, data=[48, 0]),\n",
      "   midi.NoteOnEvent(tick=0, channel=3, data=[46, 64]),\n",
      "   midi.NoteOffEvent(tick=512, channel=3, data=[46, 0]),\n",
      "   midi.NoteOnEvent(tick=0, channel=3, data=[48, 64]),\n",
      "   midi.NoteOffEvent(tick=512, channel=3, data=[48, 0]),\n",
      "   midi.NoteOnEvent(tick=0, channel=3, data=[41, 64]),\n",
      "   midi.NoteOffEvent(tick=1024, channel=3, data=[41, 0]),\n",
      "   midi.NoteOnEvent(tick=0, channel=3, data=[53, 64]),\n",
      "   midi.NoteOffEvent(tick=512, channel=3, data=[53, 0]),\n",
      "   midi.NoteOnEvent(tick=0, channel=3, data=[52, 64]),\n",
      "   midi.NoteOffEvent(tick=512, channel=3, data=[52, 0]),\n",
      "   midi.NoteOnEvent(tick=0, channel=3, data=[50, 64]),\n",
      "   midi.NoteOffEvent(tick=1024, channel=3, data=[50, 0]),\n",
      "   midi.NoteOnEvent(tick=0, channel=3, data=[52, 64]),\n",
      "   midi.NoteOffEvent(tick=1024, channel=3, data=[52, 0]),\n",
      "   midi.NoteOnEvent(tick=0, channel=3, data=[54, 64]),\n",
      "   midi.NoteOffEvent(tick=1024, channel=3, data=[54, 0]),\n",
      "   midi.NoteOnEvent(tick=0, channel=3, data=[56, 64]),\n",
      "   midi.NoteOffEvent(tick=1024, channel=3, data=[56, 0]),\n",
      "   midi.NoteOnEvent(tick=0, channel=3, data=[57, 64]),\n",
      "   midi.NoteOffEvent(tick=512, channel=3, data=[57, 0]),\n",
      "   midi.NoteOnEvent(tick=0, channel=3, data=[53, 64]),\n",
      "   midi.NoteOffEvent(tick=512, channel=3, data=[53, 0]),\n",
      "   midi.NoteOnEvent(tick=0, channel=3, data=[50, 64]),\n",
      "   midi.NoteOffEvent(tick=512, channel=3, data=[50, 0]),\n",
      "   midi.NoteOnEvent(tick=0, channel=3, data=[52, 64]),\n",
      "   midi.NoteOffEvent(tick=512, channel=3, data=[52, 0]),\n",
      "   midi.NoteOnEvent(tick=0, channel=3, data=[45, 64]),\n",
      "   midi.NoteOffEvent(tick=1024, channel=3, data=[45, 0]),\n",
      "   midi.NoteOnEvent(tick=0, channel=3, data=[50, 64]),\n",
      "   midi.NoteOffEvent(tick=1024, channel=3, data=[50, 0]),\n",
      "   midi.NoteOnEvent(tick=0, channel=3, data=[48, 64]),\n",
      "   midi.NoteOffEvent(tick=1024, channel=3, data=[48, 0]),\n",
      "   midi.NoteOnEvent(tick=0, channel=3, data=[41, 64]),\n",
      "   midi.NoteOffEvent(tick=512, channel=3, data=[41, 0]),\n",
      "   midi.NoteOnEvent(tick=0, channel=3, data=[43, 64]),\n",
      "   midi.NoteOffEvent(tick=512, channel=3, data=[43, 0]),\n",
      "   midi.NoteOnEvent(tick=0, channel=3, data=[45, 64]),\n",
      "   midi.NoteOffEvent(tick=512, channel=3, data=[45, 0]),\n",
      "   midi.NoteOnEvent(tick=0, channel=3, data=[46, 64]),\n",
      "   midi.NoteOffEvent(tick=512, channel=3, data=[46, 0]),\n",
      "   midi.NoteOnEvent(tick=0, channel=3, data=[48, 64]),\n",
      "   midi.NoteOffEvent(tick=512, channel=3, data=[48, 0]),\n",
      "   midi.NoteOnEvent(tick=0, channel=3, data=[46, 64]),\n",
      "   midi.NoteOffEvent(tick=512, channel=3, data=[46, 0]),\n",
      "   midi.NoteOnEvent(tick=0, channel=3, data=[45, 64]),\n",
      "   midi.NoteOffEvent(tick=512, channel=3, data=[45, 0]),\n",
      "   midi.NoteOnEvent(tick=0, channel=3, data=[41, 64]),\n",
      "   midi.NoteOffEvent(tick=512, channel=3, data=[41, 0]),\n",
      "   midi.NoteOnEvent(tick=0, channel=3, data=[43, 64]),\n",
      "   midi.NoteOffEvent(tick=512, channel=3, data=[43, 0]),\n",
      "   midi.NoteOnEvent(tick=0, channel=3, data=[45, 64]),\n",
      "   midi.NoteOffEvent(tick=512, channel=3, data=[45, 0]),\n",
      "   midi.NoteOnEvent(tick=0, channel=3, data=[46, 64]),\n",
      "   midi.NoteOffEvent(tick=2048, channel=3, data=[46, 0]),\n",
      "   midi.NoteOnEvent(tick=0, channel=3, data=[42, 64]),\n",
      "   midi.NoteOffEvent(tick=1024, channel=3, data=[42, 0]),\n",
      "   midi.NoteOnEvent(tick=0, channel=3, data=[43, 64]),\n",
      "   midi.NoteOffEvent(tick=1024, channel=3, data=[43, 0]),\n",
      "   midi.NoteOnEvent(tick=0, channel=3, data=[45, 64]),\n",
      "   midi.NoteOffEvent(tick=2048, channel=3, data=[45, 0]),\n",
      "   midi.NoteOnEvent(tick=0, channel=3, data=[38, 64]),\n",
      "   midi.NoteOffEvent(tick=4096, channel=3, data=[38, 0]),\n",
      "   midi.EndOfTrackEvent(tick=0, data=[])])])\n"
     ]
    }
   ],
   "source": [
    "pattern = midi.read_midifile(\"/Users/Cecilia/Desktop/DSI-SF-2-clambeer/projects/capstone/15ChristlaginTode.mid\")\n",
    "print pattern"
   ]
  },
  {
   "cell_type": "code",
   "execution_count": 9,
   "metadata": {
    "collapsed": false
   },
   "outputs": [],
   "source": [
    "a = pattern.pop()"
   ]
  },
  {
   "cell_type": "code",
   "execution_count": 10,
   "metadata": {
    "collapsed": false
   },
   "outputs": [
    {
     "data": {
      "text/plain": [
       "midi.containers.Track"
      ]
     },
     "execution_count": 10,
     "metadata": {},
     "output_type": "execute_result"
    }
   ],
   "source": [
    "type(a)"
   ]
  },
  {
   "cell_type": "code",
   "execution_count": 11,
   "metadata": {
    "collapsed": false
   },
   "outputs": [
    {
     "data": {
      "text/plain": [
       "midi.Track(\\\n",
       "  [midi.NoteOnEvent(tick=3072, channel=3, data=[50, 64]),\n",
       "   midi.NoteOffEvent(tick=1024, channel=3, data=[50, 0]),\n",
       "   midi.NoteOnEvent(tick=0, channel=3, data=[50, 64]),\n",
       "   midi.NoteOffEvent(tick=1024, channel=3, data=[50, 0]),\n",
       "   midi.NoteOnEvent(tick=0, channel=3, data=[48, 64]),\n",
       "   midi.NoteOffEvent(tick=512, channel=3, data=[48, 0]),\n",
       "   midi.NoteOnEvent(tick=0, channel=3, data=[47, 64]),\n",
       "   midi.NoteOffEvent(tick=512, channel=3, data=[47, 0]),\n",
       "   midi.NoteOnEvent(tick=0, channel=3, data=[45, 64]),\n",
       "   midi.NoteOffEvent(tick=512, channel=3, data=[45, 0]),\n",
       "   midi.NoteOnEvent(tick=0, channel=3, data=[57, 64]),\n",
       "   midi.NoteOffEvent(tick=1024, channel=3, data=[57, 0]),\n",
       "   midi.NoteOnEvent(tick=0, channel=3, data=[56, 64]),\n",
       "   midi.NoteOffEvent(tick=512, channel=3, data=[56, 0]),\n",
       "   midi.NoteOnEvent(tick=0, channel=3, data=[57, 64]),\n",
       "   midi.NoteOffEvent(tick=512, channel=3, data=[57, 0]),\n",
       "   midi.NoteOnEvent(tick=0, channel=3, data=[53, 64]),\n",
       "   midi.NoteOffEvent(tick=512, channel=3, data=[53, 0]),\n",
       "   midi.NoteOnEvent(tick=0, channel=3, data=[50, 64]),\n",
       "   midi.NoteOffEvent(tick=512, channel=3, data=[50, 0]),\n",
       "   midi.NoteOnEvent(tick=0, channel=3, data=[52, 64]),\n",
       "   midi.NoteOffEvent(tick=512, channel=3, data=[52, 0]),\n",
       "   midi.NoteOnEvent(tick=0, channel=3, data=[45, 64]),\n",
       "   midi.NoteOffEvent(tick=1024, channel=3, data=[45, 0]),\n",
       "   midi.NoteOnEvent(tick=0, channel=3, data=[49, 64]),\n",
       "   midi.NoteOffEvent(tick=1024, channel=3, data=[49, 0]),\n",
       "   midi.NoteOnEvent(tick=0, channel=3, data=[50, 64]),\n",
       "   midi.NoteOffEvent(tick=512, channel=3, data=[50, 0]),\n",
       "   midi.NoteOnEvent(tick=0, channel=3, data=[53, 64]),\n",
       "   midi.NoteOffEvent(tick=512, channel=3, data=[53, 0]),\n",
       "   midi.NoteOnEvent(tick=0, channel=3, data=[52, 64]),\n",
       "   midi.NoteOffEvent(tick=512, channel=3, data=[52, 0]),\n",
       "   midi.NoteOnEvent(tick=0, channel=3, data=[50, 64]),\n",
       "   midi.NoteOffEvent(tick=512, channel=3, data=[50, 0]),\n",
       "   midi.NoteOnEvent(tick=0, channel=3, data=[49, 64]),\n",
       "   midi.NoteOffEvent(tick=512, channel=3, data=[49, 0]),\n",
       "   midi.NoteOnEvent(tick=0, channel=3, data=[45, 64]),\n",
       "   midi.NoteOffEvent(tick=512, channel=3, data=[45, 0]),\n",
       "   midi.NoteOnEvent(tick=0, channel=3, data=[50, 64]),\n",
       "   midi.NoteOffEvent(tick=1024, channel=3, data=[50, 0]),\n",
       "   midi.NoteOnEvent(tick=0, channel=3, data=[57, 64]),\n",
       "   midi.NoteOffEvent(tick=1024, channel=3, data=[57, 0]),\n",
       "   midi.NoteOnEvent(tick=0, channel=3, data=[45, 64]),\n",
       "   midi.NoteOffEvent(tick=1024, channel=3, data=[45, 0]),\n",
       "   midi.NoteOnEvent(tick=0, channel=3, data=[50, 64]),\n",
       "   midi.NoteOffEvent(tick=1024, channel=3, data=[50, 0]),\n",
       "   midi.NoteOnEvent(tick=0, channel=3, data=[50, 64]),\n",
       "   midi.NoteOffEvent(tick=1024, channel=3, data=[50, 0]),\n",
       "   midi.NoteOnEvent(tick=0, channel=3, data=[50, 64]),\n",
       "   midi.NoteOffEvent(tick=1024, channel=3, data=[50, 0]),\n",
       "   midi.NoteOnEvent(tick=0, channel=3, data=[48, 64]),\n",
       "   midi.NoteOffEvent(tick=512, channel=3, data=[48, 0]),\n",
       "   midi.NoteOnEvent(tick=0, channel=3, data=[47, 64]),\n",
       "   midi.NoteOffEvent(tick=512, channel=3, data=[47, 0]),\n",
       "   midi.NoteOnEvent(tick=0, channel=3, data=[45, 64]),\n",
       "   midi.NoteOffEvent(tick=512, channel=3, data=[45, 0]),\n",
       "   midi.NoteOnEvent(tick=0, channel=3, data=[57, 64]),\n",
       "   midi.NoteOffEvent(tick=1024, channel=3, data=[57, 0]),\n",
       "   midi.NoteOnEvent(tick=0, channel=3, data=[56, 64]),\n",
       "   midi.NoteOffEvent(tick=512, channel=3, data=[56, 0]),\n",
       "   midi.NoteOnEvent(tick=0, channel=3, data=[57, 64]),\n",
       "   midi.NoteOffEvent(tick=512, channel=3, data=[57, 0]),\n",
       "   midi.NoteOnEvent(tick=0, channel=3, data=[53, 64]),\n",
       "   midi.NoteOffEvent(tick=512, channel=3, data=[53, 0]),\n",
       "   midi.NoteOnEvent(tick=0, channel=3, data=[50, 64]),\n",
       "   midi.NoteOffEvent(tick=512, channel=3, data=[50, 0]),\n",
       "   midi.NoteOnEvent(tick=0, channel=3, data=[52, 64]),\n",
       "   midi.NoteOffEvent(tick=512, channel=3, data=[52, 0]),\n",
       "   midi.NoteOnEvent(tick=0, channel=3, data=[45, 64]),\n",
       "   midi.NoteOffEvent(tick=1024, channel=3, data=[45, 0]),\n",
       "   midi.NoteOnEvent(tick=0, channel=3, data=[49, 64]),\n",
       "   midi.NoteOffEvent(tick=1024, channel=3, data=[49, 0]),\n",
       "   midi.NoteOnEvent(tick=0, channel=3, data=[50, 64]),\n",
       "   midi.NoteOffEvent(tick=512, channel=3, data=[50, 0]),\n",
       "   midi.NoteOnEvent(tick=0, channel=3, data=[53, 64]),\n",
       "   midi.NoteOffEvent(tick=512, channel=3, data=[53, 0]),\n",
       "   midi.NoteOnEvent(tick=0, channel=3, data=[52, 64]),\n",
       "   midi.NoteOffEvent(tick=512, channel=3, data=[52, 0]),\n",
       "   midi.NoteOnEvent(tick=0, channel=3, data=[50, 64]),\n",
       "   midi.NoteOffEvent(tick=512, channel=3, data=[50, 0]),\n",
       "   midi.NoteOnEvent(tick=0, channel=3, data=[49, 64]),\n",
       "   midi.NoteOffEvent(tick=512, channel=3, data=[49, 0]),\n",
       "   midi.NoteOnEvent(tick=0, channel=3, data=[45, 64]),\n",
       "   midi.NoteOffEvent(tick=512, channel=3, data=[45, 0]),\n",
       "   midi.NoteOnEvent(tick=0, channel=3, data=[50, 64]),\n",
       "   midi.NoteOffEvent(tick=1024, channel=3, data=[50, 0]),\n",
       "   midi.NoteOnEvent(tick=0, channel=3, data=[57, 64]),\n",
       "   midi.NoteOffEvent(tick=1024, channel=3, data=[57, 0]),\n",
       "   midi.NoteOnEvent(tick=0, channel=3, data=[45, 64]),\n",
       "   midi.NoteOffEvent(tick=1024, channel=3, data=[45, 0]),\n",
       "   midi.NoteOnEvent(tick=0, channel=3, data=[50, 64]),\n",
       "   midi.NoteOffEvent(tick=1024, channel=3, data=[50, 0]),\n",
       "   midi.NoteOnEvent(tick=1024, channel=3, data=[50, 64]),\n",
       "   midi.NoteOffEvent(tick=1536, channel=3, data=[50, 0]),\n",
       "   midi.NoteOnEvent(tick=0, channel=3, data=[48, 64]),\n",
       "   midi.NoteOffEvent(tick=512, channel=3, data=[48, 0]),\n",
       "   midi.NoteOnEvent(tick=0, channel=3, data=[46, 64]),\n",
       "   midi.NoteOffEvent(tick=512, channel=3, data=[46, 0]),\n",
       "   midi.NoteOnEvent(tick=0, channel=3, data=[45, 64]),\n",
       "   midi.NoteOffEvent(tick=512, channel=3, data=[45, 0]),\n",
       "   midi.NoteOnEvent(tick=0, channel=3, data=[43, 64]),\n",
       "   midi.NoteOffEvent(tick=1024, channel=3, data=[43, 0]),\n",
       "   midi.NoteOnEvent(tick=0, channel=3, data=[50, 64]),\n",
       "   midi.NoteOffEvent(tick=512, channel=3, data=[50, 0]),\n",
       "   midi.NoteOnEvent(tick=0, channel=3, data=[48, 64]),\n",
       "   midi.NoteOffEvent(tick=512, channel=3, data=[48, 0]),\n",
       "   midi.NoteOnEvent(tick=0, channel=3, data=[46, 64]),\n",
       "   midi.NoteOffEvent(tick=512, channel=3, data=[46, 0]),\n",
       "   midi.NoteOnEvent(tick=0, channel=3, data=[48, 64]),\n",
       "   midi.NoteOffEvent(tick=512, channel=3, data=[48, 0]),\n",
       "   midi.NoteOnEvent(tick=0, channel=3, data=[41, 64]),\n",
       "   midi.NoteOffEvent(tick=1024, channel=3, data=[41, 0]),\n",
       "   midi.NoteOnEvent(tick=0, channel=3, data=[53, 64]),\n",
       "   midi.NoteOffEvent(tick=512, channel=3, data=[53, 0]),\n",
       "   midi.NoteOnEvent(tick=0, channel=3, data=[52, 64]),\n",
       "   midi.NoteOffEvent(tick=512, channel=3, data=[52, 0]),\n",
       "   midi.NoteOnEvent(tick=0, channel=3, data=[50, 64]),\n",
       "   midi.NoteOffEvent(tick=1024, channel=3, data=[50, 0]),\n",
       "   midi.NoteOnEvent(tick=0, channel=3, data=[52, 64]),\n",
       "   midi.NoteOffEvent(tick=1024, channel=3, data=[52, 0]),\n",
       "   midi.NoteOnEvent(tick=0, channel=3, data=[54, 64]),\n",
       "   midi.NoteOffEvent(tick=1024, channel=3, data=[54, 0]),\n",
       "   midi.NoteOnEvent(tick=0, channel=3, data=[56, 64]),\n",
       "   midi.NoteOffEvent(tick=1024, channel=3, data=[56, 0]),\n",
       "   midi.NoteOnEvent(tick=0, channel=3, data=[57, 64]),\n",
       "   midi.NoteOffEvent(tick=512, channel=3, data=[57, 0]),\n",
       "   midi.NoteOnEvent(tick=0, channel=3, data=[53, 64]),\n",
       "   midi.NoteOffEvent(tick=512, channel=3, data=[53, 0]),\n",
       "   midi.NoteOnEvent(tick=0, channel=3, data=[50, 64]),\n",
       "   midi.NoteOffEvent(tick=512, channel=3, data=[50, 0]),\n",
       "   midi.NoteOnEvent(tick=0, channel=3, data=[52, 64]),\n",
       "   midi.NoteOffEvent(tick=512, channel=3, data=[52, 0]),\n",
       "   midi.NoteOnEvent(tick=0, channel=3, data=[45, 64]),\n",
       "   midi.NoteOffEvent(tick=1024, channel=3, data=[45, 0]),\n",
       "   midi.NoteOnEvent(tick=0, channel=3, data=[50, 64]),\n",
       "   midi.NoteOffEvent(tick=1024, channel=3, data=[50, 0]),\n",
       "   midi.NoteOnEvent(tick=0, channel=3, data=[48, 64]),\n",
       "   midi.NoteOffEvent(tick=1024, channel=3, data=[48, 0]),\n",
       "   midi.NoteOnEvent(tick=0, channel=3, data=[41, 64]),\n",
       "   midi.NoteOffEvent(tick=512, channel=3, data=[41, 0]),\n",
       "   midi.NoteOnEvent(tick=0, channel=3, data=[43, 64]),\n",
       "   midi.NoteOffEvent(tick=512, channel=3, data=[43, 0]),\n",
       "   midi.NoteOnEvent(tick=0, channel=3, data=[45, 64]),\n",
       "   midi.NoteOffEvent(tick=512, channel=3, data=[45, 0]),\n",
       "   midi.NoteOnEvent(tick=0, channel=3, data=[46, 64]),\n",
       "   midi.NoteOffEvent(tick=512, channel=3, data=[46, 0]),\n",
       "   midi.NoteOnEvent(tick=0, channel=3, data=[48, 64]),\n",
       "   midi.NoteOffEvent(tick=512, channel=3, data=[48, 0]),\n",
       "   midi.NoteOnEvent(tick=0, channel=3, data=[46, 64]),\n",
       "   midi.NoteOffEvent(tick=512, channel=3, data=[46, 0]),\n",
       "   midi.NoteOnEvent(tick=0, channel=3, data=[45, 64]),\n",
       "   midi.NoteOffEvent(tick=512, channel=3, data=[45, 0]),\n",
       "   midi.NoteOnEvent(tick=0, channel=3, data=[41, 64]),\n",
       "   midi.NoteOffEvent(tick=512, channel=3, data=[41, 0]),\n",
       "   midi.NoteOnEvent(tick=0, channel=3, data=[43, 64]),\n",
       "   midi.NoteOffEvent(tick=512, channel=3, data=[43, 0]),\n",
       "   midi.NoteOnEvent(tick=0, channel=3, data=[45, 64]),\n",
       "   midi.NoteOffEvent(tick=512, channel=3, data=[45, 0]),\n",
       "   midi.NoteOnEvent(tick=0, channel=3, data=[46, 64]),\n",
       "   midi.NoteOffEvent(tick=2048, channel=3, data=[46, 0]),\n",
       "   midi.NoteOnEvent(tick=0, channel=3, data=[42, 64]),\n",
       "   midi.NoteOffEvent(tick=1024, channel=3, data=[42, 0]),\n",
       "   midi.NoteOnEvent(tick=0, channel=3, data=[43, 64]),\n",
       "   midi.NoteOffEvent(tick=1024, channel=3, data=[43, 0]),\n",
       "   midi.NoteOnEvent(tick=0, channel=3, data=[45, 64]),\n",
       "   midi.NoteOffEvent(tick=2048, channel=3, data=[45, 0]),\n",
       "   midi.NoteOnEvent(tick=0, channel=3, data=[38, 64]),\n",
       "   midi.NoteOffEvent(tick=4096, channel=3, data=[38, 0]),\n",
       "   midi.EndOfTrackEvent(tick=0, data=[])])"
      ]
     },
     "execution_count": 11,
     "metadata": {},
     "output_type": "execute_result"
    }
   ],
   "source": [
    "a"
   ]
  },
  {
   "cell_type": "code",
   "execution_count": 12,
   "metadata": {
    "collapsed": false
   },
   "outputs": [
    {
     "data": {
      "text/plain": [
       "midi.NoteOnEvent(tick=3072, channel=3, data=[50, 64])"
      ]
     },
     "execution_count": 12,
     "metadata": {},
     "output_type": "execute_result"
    }
   ],
   "source": [
    "a[0]"
   ]
  },
  {
   "cell_type": "markdown",
   "metadata": {},
   "source": [
    "### Music21"
   ]
  },
  {
   "cell_type": "code",
   "execution_count": 2,
   "metadata": {
    "collapsed": false
   },
   "outputs": [],
   "source": [
    "import music21 as m21"
   ]
  },
  {
   "cell_type": "markdown",
   "metadata": {},
   "source": [
    "pull out bach pieces"
   ]
  },
  {
   "cell_type": "code",
   "execution_count": 6,
   "metadata": {
    "collapsed": false
   },
   "outputs": [],
   "source": [
    "bach_search = m21.corpus.search('bach')"
   ]
  },
  {
   "cell_type": "code",
   "execution_count": 7,
   "metadata": {
    "collapsed": true
   },
   "outputs": [],
   "source": [
    "airdsairs = bach_search[0].parse()\n"
   ]
  },
  {
   "cell_type": "code",
   "execution_count": 8,
   "metadata": {
    "collapsed": false,
    "scrolled": true
   },
   "outputs": [
    {
     "data": {
      "text/plain": [
       "music21.stream.Score"
      ]
     },
     "execution_count": 8,
     "metadata": {},
     "output_type": "execute_result"
    }
   ],
   "source": [
    "type(airdsairs)"
   ]
  },
  {
   "cell_type": "code",
   "execution_count": 9,
   "metadata": {
    "collapsed": false
   },
   "outputs": [
    {
     "data": {
      "text/plain": [
       "[('number', u'706'), ('title', u\"Bach's March.\")]"
      ]
     },
     "execution_count": 9,
     "metadata": {},
     "output_type": "execute_result"
    }
   ],
   "source": [
    "airdsairs.metadata.all()"
   ]
  },
  {
   "cell_type": "code",
   "execution_count": 10,
   "metadata": {
    "collapsed": false
   },
   "outputs": [
    {
     "data": {
      "text/plain": [
       "<music21.ipython21.objects.IPythonPNGObject at 0x1140d0210>"
      ]
     },
     "execution_count": 10,
     "metadata": {},
     "output_type": "execute_result"
    }
   ],
   "source": [
    "airdsairs.show()"
   ]
  },
  {
   "cell_type": "code",
   "execution_count": 8,
   "metadata": {
    "collapsed": false
   },
   "outputs": [
    {
     "data": {
      "text/plain": [
       "151"
      ]
     },
     "execution_count": 8,
     "metadata": {},
     "output_type": "execute_result"
    }
   ],
   "source": [
    "len(bach_search)"
   ]
  },
  {
   "cell_type": "code",
   "execution_count": 9,
   "metadata": {
    "collapsed": false
   },
   "outputs": [],
   "source": [
    "bach_composer_search = m21.corpus.getComposer('bach')"
   ]
  },
  {
   "cell_type": "code",
   "execution_count": 10,
   "metadata": {
    "collapsed": false
   },
   "outputs": [
    {
     "data": {
      "text/plain": [
       "list"
      ]
     },
     "execution_count": 10,
     "metadata": {},
     "output_type": "execute_result"
    }
   ],
   "source": [
    "type(bach_composer_search)"
   ]
  },
  {
   "cell_type": "code",
   "execution_count": 11,
   "metadata": {
    "collapsed": false
   },
   "outputs": [
    {
     "data": {
      "text/plain": [
       "426"
      ]
     },
     "execution_count": 11,
     "metadata": {},
     "output_type": "execute_result"
    }
   ],
   "source": [
    "len(bach_composer_search)"
   ]
  },
  {
   "cell_type": "code",
   "execution_count": 12,
   "metadata": {
    "collapsed": false
   },
   "outputs": [
    {
     "name": "stdout",
     "output_type": "stream",
     "text": [
      "0 bach/bwv1.6.mxl\n",
      "1 bach/bwv10.7.mxl\n",
      "2 bach/bwv101.7.mxl\n",
      "3 bach/bwv102.7.mxl\n",
      "4 bach/bwv103.6.mxl\n",
      "5 bach/bwv104.6.mxl\n",
      "6 bach/bwv108.6.mxl\n",
      "7 bach/bwv11.6.mxl\n",
      "8 bach/bwv110.7.mxl\n",
      "9 bach/bwv111.6.mxl\n",
      "10 bach/bwv112.5-sc.mxl\n",
      "11 bach/bwv112.5.mxl\n",
      "12 bach/bwv113.8.mxl\n",
      "13 bach/bwv114.7.mxl\n",
      "14 bach/bwv115.6.mxl\n",
      "15 bach/bwv116.6.mxl\n",
      "16 bach/bwv117.4.mxl\n",
      "17 bach/bwv119.9.mxl\n",
      "18 bach/bwv12.7.mxl\n",
      "19 bach/bwv120.6.mxl\n",
      "20 bach/bwv120.8-a.mxl\n",
      "21 bach/bwv121.6.mxl\n",
      "22 bach/bwv122.6.mxl\n",
      "23 bach/bwv123.6.mxl\n",
      "24 bach/bwv124.6.mxl\n",
      "25 bach/bwv125.6.mxl\n",
      "26 bach/bwv126.6.mxl\n",
      "27 bach/bwv127.5.mxl\n",
      "28 bach/bwv128.5.mxl\n",
      "29 bach/bwv13.6.mxl\n",
      "30 bach/bwv130.6.mxl\n",
      "31 bach/bwv133.6.xml\n",
      "32 bach/bwv135.6.mxl\n",
      "33 bach/bwv136.6.mxl\n",
      "34 bach/bwv137.5.mxl\n",
      "35 bach/bwv139.6.mxl\n",
      "36 bach/bwv14.5.mxl\n",
      "37 bach/bwv140.7.mxl\n",
      "38 bach/bwv144.3.mxl\n",
      "39 bach/bwv144.6.mxl\n",
      "40 bach/bwv145-a.mxl\n",
      "41 bach/bwv145.5.mxl\n",
      "42 bach/bwv146.8.mxl\n",
      "43 bach/bwv148.6.mxl\n",
      "44 bach/bwv149.7.mxl\n",
      "45 bach/bwv151.5.mxl\n",
      "46 bach/bwv153.1.mxl\n",
      "47 bach/bwv153.5.mxl\n",
      "48 bach/bwv153.9.mxl\n",
      "49 bach/bwv154.3.mxl\n",
      "50 bach/bwv154.8.mxl\n",
      "51 bach/bwv155.5.mxl\n",
      "52 bach/bwv156.6.mxl\n",
      "53 bach/bwv157.5.mxl\n",
      "54 bach/bwv158.4.mxl\n",
      "55 bach/bwv159.5.mxl\n",
      "56 bach/bwv16.6.mxl\n",
      "57 bach/bwv161.6.mxl\n",
      "58 bach/bwv162.6-lpz.mxl\n",
      "59 bach/bwv164.6.mxl\n",
      "60 bach/bwv165.6.mxl\n",
      "61 bach/bwv166.6.mxl\n",
      "62 bach/bwv168.6.mxl\n",
      "63 bach/bwv169.7.mxl\n",
      "64 bach/bwv17.7.mxl\n",
      "65 bach/bwv171.6.mxl\n",
      "66 bach/bwv172.6.mxl\n",
      "67 bach/bwv174.5.mxl\n",
      "68 bach/bwv175.7.mxl\n",
      "69 bach/bwv176.6.mxl\n",
      "70 bach/bwv177.5.mxl\n",
      "71 bach/bwv178.7.mxl\n",
      "72 bach/bwv179.6.mxl\n",
      "73 bach/bwv18.5-lz.mxl\n",
      "74 bach/bwv18.5-w.mxl\n",
      "75 bach/bwv180.7.mxl\n",
      "76 bach/bwv183.5.mxl\n",
      "77 bach/bwv184.5.mxl\n",
      "78 bach/bwv185.6.mxl\n",
      "79 bach/bwv187.7.mxl\n",
      "80 bach/bwv188.6.mxl\n",
      "81 bach/bwv19.7.mxl\n",
      "82 bach/bwv190.7-inst.mxl\n",
      "83 bach/bwv190.7.mxl\n",
      "84 bach/bwv194.12.mxl\n",
      "85 bach/bwv194.6.mxl\n",
      "86 bach/bwv195.6.mxl\n",
      "87 bach/bwv197.10.mxl\n",
      "88 bach/bwv197.5.mxl\n",
      "89 bach/bwv197.7-a.mxl\n",
      "90 bach/bwv2.6.mxl\n",
      "91 bach/bwv20.11.mxl\n",
      "92 bach/bwv20.7.mxl\n",
      "93 bach/bwv226.2.mxl\n",
      "94 bach/bwv227.1.mxl\n",
      "95 bach/bwv227.11.mxl\n",
      "96 bach/bwv227.3.mxl\n",
      "97 bach/bwv227.7.mxl\n",
      "98 bach/bwv229.2.mxl\n",
      "99 bach/bwv244.10.mxl\n",
      "100 bach/bwv244.15.mxl\n",
      "101 bach/bwv244.17.mxl\n",
      "102 bach/bwv244.25.mxl\n",
      "103 bach/bwv244.29-a.mxl\n",
      "104 bach/bwv244.3.mxl\n",
      "105 bach/bwv244.32.mxl\n",
      "106 bach/bwv244.37.mxl\n",
      "107 bach/bwv244.40.mxl\n",
      "108 bach/bwv244.44.mxl\n",
      "109 bach/bwv244.46.mxl\n",
      "110 bach/bwv244.54.mxl\n",
      "111 bach/bwv244.62.mxl\n",
      "112 bach/bwv245.11.mxl\n",
      "113 bach/bwv245.14.mxl\n",
      "114 bach/bwv245.15.mxl\n",
      "115 bach/bwv245.17.mxl\n",
      "116 bach/bwv245.22.mxl\n",
      "117 bach/bwv245.26.mxl\n",
      "118 bach/bwv245.28.mxl\n",
      "119 bach/bwv245.3.mxl\n",
      "120 bach/bwv245.37.mxl\n",
      "121 bach/bwv245.40.mxl\n",
      "122 bach/bwv245.5.mxl\n",
      "123 bach/bwv248.12-2.mxl\n",
      "124 bach/bwv248.17.mxl\n",
      "125 bach/bwv248.23-2.mxl\n",
      "126 bach/bwv248.23-s.mxl\n",
      "127 bach/bwv248.28.mxl\n",
      "128 bach/bwv248.33-3.mxl\n",
      "129 bach/bwv248.35-3.mxl\n",
      "130 bach/bwv248.35-3c.mxl\n",
      "131 bach/bwv248.42-4.mxl\n",
      "132 bach/bwv248.42-s.mxl\n",
      "133 bach/bwv248.46-5.mxl\n",
      "134 bach/bwv248.5.mxl\n",
      "135 bach/bwv248.53-5.mxl\n",
      "136 bach/bwv248.59-6.mxl\n",
      "137 bach/bwv248.64-6.mxl\n",
      "138 bach/bwv248.64-s.mxl\n",
      "139 bach/bwv248.9-1.mxl\n",
      "140 bach/bwv248.9-s.mxl\n",
      "141 bach/bwv25.6.mxl\n",
      "142 bach/bwv250.mxl\n",
      "143 bach/bwv251.mxl\n",
      "144 bach/bwv252.mxl\n",
      "145 bach/bwv253.mxl\n",
      "146 bach/bwv254.mxl\n",
      "147 bach/bwv255.mxl\n",
      "148 bach/bwv256.mxl\n",
      "149 bach/bwv257.mxl\n",
      "150 bach/bwv258.mxl\n",
      "151 bach/bwv259.mxl\n",
      "152 bach/bwv26.6.mxl\n",
      "153 bach/bwv260.mxl\n",
      "154 bach/bwv261.mxl\n",
      "155 bach/bwv262.mxl\n",
      "156 bach/bwv263.mxl\n",
      "157 bach/bwv264.mxl\n",
      "158 bach/bwv265.mxl\n",
      "159 bach/bwv266.mxl\n",
      "160 bach/bwv267.xml\n",
      "161 bach/bwv268.mxl\n",
      "162 bach/bwv269.mxl\n",
      "163 bach/bwv27.6.mxl\n",
      "164 bach/bwv270.mxl\n",
      "165 bach/bwv271.mxl\n",
      "166 bach/bwv272.mxl\n",
      "167 bach/bwv273.mxl\n",
      "168 bach/bwv276.mxl\n",
      "169 bach/bwv277.krn\n",
      "170 bach/bwv277.mxl\n",
      "171 bach/bwv278.mxl\n",
      "172 bach/bwv279.mxl\n",
      "173 bach/bwv28.6.mxl\n",
      "174 bach/bwv280.mxl\n",
      "175 bach/bwv281.krn\n",
      "176 bach/bwv281.mxl\n",
      "177 bach/bwv282.mxl\n",
      "178 bach/bwv283.mxl\n",
      "179 bach/bwv284.mxl\n",
      "180 bach/bwv285.mxl\n",
      "181 bach/bwv286.mxl\n",
      "182 bach/bwv287.mxl\n",
      "183 bach/bwv288.mxl\n",
      "184 bach/bwv289.mxl\n",
      "185 bach/bwv29.8.mxl\n",
      "186 bach/bwv290.mxl\n",
      "187 bach/bwv291.mxl\n",
      "188 bach/bwv292.mxl\n",
      "189 bach/bwv293.mxl\n",
      "190 bach/bwv294.mxl\n",
      "191 bach/bwv295.mxl\n",
      "192 bach/bwv296.mxl\n",
      "193 bach/bwv297.mxl\n",
      "194 bach/bwv298.mxl\n",
      "195 bach/bwv299.mxl\n",
      "196 bach/bwv3.6.mxl\n",
      "197 bach/bwv30.6.mxl\n",
      "198 bach/bwv300.mxl\n",
      "199 bach/bwv301.mxl\n",
      "200 bach/bwv302.mxl\n",
      "201 bach/bwv303.mxl\n",
      "202 bach/bwv304.mxl\n",
      "203 bach/bwv305.mxl\n",
      "204 bach/bwv306.mxl\n",
      "205 bach/bwv307.mxl\n",
      "206 bach/bwv308.mxl\n",
      "207 bach/bwv309.mxl\n",
      "208 bach/bwv31.9.mxl\n",
      "209 bach/bwv310.mxl\n",
      "210 bach/bwv311.mxl\n",
      "211 bach/bwv312.mxl\n",
      "212 bach/bwv313.mxl\n",
      "213 bach/bwv314.mxl\n",
      "214 bach/bwv315.mxl\n",
      "215 bach/bwv316.mxl\n",
      "216 bach/bwv317.mxl\n",
      "217 bach/bwv318.mxl\n",
      "218 bach/bwv319.mxl\n",
      "219 bach/bwv32.6.mxl\n",
      "220 bach/bwv320.mxl\n",
      "221 bach/bwv321.mxl\n",
      "222 bach/bwv322.mxl\n",
      "223 bach/bwv323.mxl\n",
      "224 bach/bwv324.mxl\n",
      "225 bach/bwv325.mxl\n",
      "226 bach/bwv326.mxl\n",
      "227 bach/bwv327.mxl\n",
      "228 bach/bwv328.mxl\n",
      "229 bach/bwv329.mxl\n",
      "230 bach/bwv33.6.mxl\n",
      "231 bach/bwv330.mxl\n",
      "232 bach/bwv331.mxl\n",
      "233 bach/bwv332.mxl\n",
      "234 bach/bwv333.mxl\n",
      "235 bach/bwv334.mxl\n",
      "236 bach/bwv335.mxl\n",
      "237 bach/bwv336.mxl\n",
      "238 bach/bwv337.mxl\n",
      "239 bach/bwv338.mxl\n",
      "240 bach/bwv339.mxl\n",
      "241 bach/bwv340.mxl\n",
      "242 bach/bwv341.mxl\n",
      "243 bach/bwv342.mxl\n",
      "244 bach/bwv343.mxl\n",
      "245 bach/bwv344.mxl\n",
      "246 bach/bwv345.mxl\n",
      "247 bach/bwv346.mxl\n",
      "248 bach/bwv347.mxl\n",
      "249 bach/bwv348.mxl\n",
      "250 bach/bwv349.mxl\n",
      "251 bach/bwv350.mxl\n",
      "252 bach/bwv351.mxl\n",
      "253 bach/bwv352.mxl\n",
      "254 bach/bwv353.mxl\n",
      "255 bach/bwv354.mxl\n",
      "256 bach/bwv355.mxl\n",
      "257 bach/bwv356.mxl\n",
      "258 bach/bwv357.mxl\n",
      "259 bach/bwv358.mxl\n",
      "260 bach/bwv359.mxl\n",
      "261 bach/bwv36.4-2.mxl\n",
      "262 bach/bwv36.8-2.mxl\n",
      "263 bach/bwv360.mxl\n",
      "264 bach/bwv361.mxl\n",
      "265 bach/bwv362.mxl\n",
      "266 bach/bwv363.mxl\n",
      "267 bach/bwv364.mxl\n",
      "268 bach/bwv365.mxl\n",
      "269 bach/bwv366.krn\n",
      "270 bach/bwv366.mxl\n",
      "271 bach/bwv367.mxl\n",
      "272 bach/bwv368.mxl\n",
      "273 bach/bwv369.mxl\n",
      "274 bach/bwv37.6.mxl\n",
      "275 bach/bwv370.mxl\n",
      "276 bach/bwv371.mxl\n",
      "277 bach/bwv372.mxl\n",
      "278 bach/bwv373.mxl\n",
      "279 bach/bwv374.mxl\n",
      "280 bach/bwv375.mxl\n",
      "281 bach/bwv376.mxl\n",
      "282 bach/bwv377.mxl\n",
      "283 bach/bwv378.mxl\n",
      "284 bach/bwv379.mxl\n",
      "285 bach/bwv38.6.mxl\n",
      "286 bach/bwv380.mxl\n",
      "287 bach/bwv381.mxl\n",
      "288 bach/bwv382.mxl\n",
      "289 bach/bwv383.mxl\n",
      "290 bach/bwv384.mxl\n",
      "291 bach/bwv385.mxl\n",
      "292 bach/bwv386.mxl\n",
      "293 bach/bwv387.mxl\n",
      "294 bach/bwv388.xml\n",
      "295 bach/bwv389.mxl\n",
      "296 bach/bwv39.7.mxl\n",
      "297 bach/bwv390.mxl\n",
      "298 bach/bwv391.mxl\n",
      "299 bach/bwv392.mxl\n",
      "300 bach/bwv393.mxl\n",
      "301 bach/bwv394.mxl\n",
      "302 bach/bwv395.mxl\n",
      "303 bach/bwv396.mxl\n",
      "304 bach/bwv397.mxl\n",
      "305 bach/bwv398.mxl\n",
      "306 bach/bwv399.mxl\n",
      "307 bach/bwv4.8.mxl\n",
      "308 bach/bwv40.3.mxl\n",
      "309 bach/bwv40.6.mxl\n",
      "310 bach/bwv40.8.mxl\n",
      "311 bach/bwv400.mxl\n",
      "312 bach/bwv401.mxl\n",
      "313 bach/bwv402.mxl\n",
      "314 bach/bwv403.mxl\n",
      "315 bach/bwv404.mxl\n",
      "316 bach/bwv405.mxl\n",
      "317 bach/bwv406.mxl\n",
      "318 bach/bwv407.mxl\n",
      "319 bach/bwv408.mxl\n",
      "320 bach/bwv41.6.mxl\n",
      "321 bach/bwv410.mxl\n",
      "322 bach/bwv411.mxl\n",
      "323 bach/bwv412.mxl\n",
      "324 bach/bwv413.mxl\n",
      "325 bach/bwv414.mxl\n",
      "326 bach/bwv415.mxl\n",
      "327 bach/bwv416.mxl\n",
      "328 bach/bwv417.mxl\n",
      "329 bach/bwv418.mxl\n",
      "330 bach/bwv419.mxl\n",
      "331 bach/bwv42.7.mxl\n",
      "332 bach/bwv420.mxl\n",
      "333 bach/bwv421.mxl\n",
      "334 bach/bwv422.mxl\n",
      "335 bach/bwv423.mxl\n",
      "336 bach/bwv424.mxl\n",
      "337 bach/bwv425.mxl\n",
      "338 bach/bwv426.mxl\n",
      "339 bach/bwv427.mxl\n",
      "340 bach/bwv428.mxl\n",
      "341 bach/bwv429.mxl\n",
      "342 bach/bwv43.11.mxl\n",
      "343 bach/bwv430.mxl\n",
      "344 bach/bwv431.mxl\n",
      "345 bach/bwv432.mxl\n",
      "346 bach/bwv433.mxl\n",
      "347 bach/bwv434.mxl\n",
      "348 bach/bwv435.mxl\n",
      "349 bach/bwv436.mxl\n",
      "350 bach/bwv437.mxl\n",
      "351 bach/bwv438.mxl\n",
      "352 bach/bwv44.7.mxl\n",
      "353 bach/bwv45.7.mxl\n",
      "354 bach/bwv47.5.mxl\n",
      "355 bach/bwv48.3.mxl\n",
      "356 bach/bwv48.7.mxl\n",
      "357 bach/bwv5.7.mxl\n",
      "358 bach/bwv52.6.mxl\n",
      "359 bach/bwv55.5.mxl\n",
      "360 bach/bwv56.5.mxl\n",
      "361 bach/bwv57.8.mxl\n",
      "362 bach/bwv59.3.mxl\n",
      "363 bach/bwv6.6.mxl\n",
      "364 bach/bwv60.5.mxl\n",
      "365 bach/bwv64.2.mxl\n",
      "366 bach/bwv64.4.mxl\n",
      "367 bach/bwv64.8.mxl\n",
      "368 bach/bwv65.2.mxl\n",
      "369 bach/bwv65.7.mxl\n",
      "370 bach/bwv66.6.mxl\n",
      "371 bach/bwv67.4.xml\n",
      "372 bach/bwv67.7.mxl\n",
      "373 bach/bwv69.6-a.xml\n",
      "374 bach/bwv69.6.xml\n",
      "375 bach/bwv7.7.mxl\n",
      "376 bach/bwv70.11.mxl\n",
      "377 bach/bwv70.7.mxl\n",
      "378 bach/bwv72.6.mxl\n",
      "379 bach/bwv73.5.mxl\n",
      "380 bach/bwv74.8.mxl\n",
      "381 bach/bwv77.6.mxl\n",
      "382 bach/bwv78.7.mxl\n",
      "383 bach/bwv79.3.mxl\n",
      "384 bach/bwv79.6.mxl\n",
      "385 bach/bwv8.6.mxl\n",
      "386 bach/bwv80.8.mxl\n",
      "387 bach/bwv81.7.mxl\n",
      "388 bach/bwv83.5.mxl\n",
      "389 bach/bwv84.5.mxl\n",
      "390 bach/bwv846.mxl\n",
      "391 bach/bwv85.6.mxl\n",
      "392 bach/bwv86.6.mxl\n",
      "393 bach/bwv87.7.mxl\n",
      "394 bach/bwv88.7.mxl\n",
      "395 bach/bwv89.6.mxl\n",
      "396 bach/bwv9.7.mxl\n",
      "397 bach/bwv90.5.mxl\n",
      "398 bach/bwv91.6.mxl\n",
      "399 bach/bwv92.9.mxl\n",
      "400 bach/bwv93.7.mxl\n",
      "401 bach/bwv94.8.mxl\n",
      "402 bach/bwv95.7.mxl\n",
      "403 bach/bwv96.6.mxl\n",
      "404 bach/bwv97.9.mxl\n",
      "405 bach/bwv99.6.mxl\n",
      "406 choraleAnalyses/riemenschneider001.rntxt\n",
      "407 choraleAnalyses/riemenschneider002.rntxt\n",
      "408 choraleAnalyses/riemenschneider003.rntxt\n",
      "409 choraleAnalyses/riemenschneider004.rntxt\n",
      "410 choraleAnalyses/riemenschneider005.rntxt\n",
      "411 choraleAnalyses/riemenschneider006.rntxt\n",
      "412 choraleAnalyses/riemenschneider007.rntxt\n",
      "413 choraleAnalyses/riemenschneider008.rntxt\n",
      "414 choraleAnalyses/riemenschneider009.rntxt\n",
      "415 choraleAnalyses/riemenschneider010.rntxt\n",
      "416 choraleAnalyses/riemenschneider011.rntxt\n",
      "417 choraleAnalyses/riemenschneider012.rntxt\n",
      "418 choraleAnalyses/riemenschneider013.rntxt\n",
      "419 choraleAnalyses/riemenschneider014.rntxt\n",
      "420 choraleAnalyses/riemenschneider015.rntxt\n",
      "421 choraleAnalyses/riemenschneider016.rntxt\n",
      "422 choraleAnalyses/riemenschneider017.rntxt\n",
      "423 choraleAnalyses/riemenschneider018.rntxt\n",
      "424 choraleAnalyses/riemenschneider019.rntxt\n",
      "425 choraleAnalyses/riemenschneider020.rntxt\n"
     ]
    }
   ],
   "source": [
    "for i, piece in enumerate(bach_composer_search):\n",
    "    print i, '/'.join(piece.split('/')[-2:])\n",
    "    "
   ]
  },
  {
   "cell_type": "code",
   "execution_count": 13,
   "metadata": {
    "collapsed": false
   },
   "outputs": [],
   "source": [
    "bach285 = m21.corpus.parse('bach/bwv285.mxl')"
   ]
  },
  {
   "cell_type": "code",
   "execution_count": 14,
   "metadata": {
    "collapsed": false,
    "scrolled": true
   },
   "outputs": [
    {
     "data": {
      "image/png": "[encoded data removed]",
      "text/plain": [
       "<music21.ipython21.objects.IPythonPNGObject at 0x113d6ff10>"
      ]
     },
     "execution_count": 14,
     "metadata": {},
     "output_type": "execute_result"
    }
   ],
   "source": [
    "bach285.show()"
   ]
  },
  {
   "cell_type": "code",
   "execution_count": 15,
   "metadata": {
    "collapsed": false
   },
   "outputs": [
    {
     "data": {
      "image/png": "[encoded data removed]",
      "text/plain": [
       "<matplotlib.figure.Figure at 0x113a1d4d0>"
      ]
     },
     "metadata": {},
     "output_type": "display_data"
    }
   ],
   "source": [
    "bach285.plot('histogram')"
   ]
  },
  {
   "cell_type": "markdown",
   "metadata": {},
   "source": [
    "play witht he note module"
   ]
  },
  {
   "cell_type": "code",
   "execution_count": 16,
   "metadata": {
    "collapsed": false
   },
   "outputs": [
    {
     "data": {
      "text/plain": [
       "['_DOC_ATTR',\n",
       " '_DOC_ORDER',\n",
       " '__class__',\n",
       " '__deepcopy__',\n",
       " '__delattr__',\n",
       " '__dict__',\n",
       " '__doc__',\n",
       " '__eq__',\n",
       " '__format__',\n",
       " '__getattribute__',\n",
       " '__getstate__',\n",
       " '__hash__',\n",
       " '__init__',\n",
       " '__module__',\n",
       " '__ne__',\n",
       " '__new__',\n",
       " '__reduce__',\n",
       " '__reduce_ex__',\n",
       " '__repr__',\n",
       " '__setattr__',\n",
       " '__setstate__',\n",
       " '__sizeof__',\n",
       " '__str__',\n",
       " '__subclasshook__',\n",
       " '__weakref__',\n",
       " '_adjacencySearch',\n",
       " '_classListCacheDict',\n",
       " '_classListFullyQualifiedCacheDict',\n",
       " '_classSetCacheDict',\n",
       " '_deepcopySubclassable',\n",
       " '_getActiveSite',\n",
       " '_getColor',\n",
       " '_getDerivation',\n",
       " '_getDuration',\n",
       " '_getEditorial',\n",
       " '_getLyric',\n",
       " '_getMeasureOffset',\n",
       " '_getMeasureOffsetOrMeterModulusOffset',\n",
       " '_getOffset',\n",
       " '_getPriority',\n",
       " '_getQuarterLength',\n",
       " '_getSeconds',\n",
       " '_getTimeSignatureForBeat',\n",
       " '_reprText',\n",
       " '_reprTextLine',\n",
       " '_setActiveSite',\n",
       " '_setColor',\n",
       " '_setDerivation',\n",
       " '_setDuration',\n",
       " '_setEditorial',\n",
       " '_setLyric',\n",
       " '_setOffset',\n",
       " '_setPriority',\n",
       " '_setQuarterLength',\n",
       " '_setSeconds',\n",
       " 'activeSite',\n",
       " 'addLyric',\n",
       " 'augmentOrDiminish',\n",
       " 'beat',\n",
       " 'beatDuration',\n",
       " 'beatStr',\n",
       " 'beatStrength',\n",
       " 'classSet',\n",
       " 'classSortOrder',\n",
       " 'classes',\n",
       " 'color',\n",
       " 'containerHierarchy',\n",
       " 'contextSites',\n",
       " 'derivation',\n",
       " 'duration',\n",
       " 'editorial',\n",
       " 'fullName',\n",
       " 'getAllContextsByClass',\n",
       " 'getContextByClass',\n",
       " 'getGrace',\n",
       " 'getOffsetBySite',\n",
       " 'getOffsetInHierarchy',\n",
       " 'getSpannerSites',\n",
       " 'hasLyrics',\n",
       " 'informSites',\n",
       " 'insertLyric',\n",
       " 'isChord',\n",
       " 'isClassOrSubclass',\n",
       " 'isNote',\n",
       " 'isRest',\n",
       " 'isStream',\n",
       " 'lyric',\n",
       " 'measureNumber',\n",
       " 'mergeAttributes',\n",
       " 'name',\n",
       " 'next',\n",
       " 'offset',\n",
       " 'previous',\n",
       " 'priority',\n",
       " 'purgeLocations',\n",
       " 'purgeOrphans',\n",
       " 'quarterLength',\n",
       " 'seconds',\n",
       " 'setOffsetBySite',\n",
       " 'show',\n",
       " 'sortTuple',\n",
       " 'splitAtDurations',\n",
       " 'splitAtQuarterLength',\n",
       " 'splitByQuarterLengths',\n",
       " 'write']"
      ]
     },
     "execution_count": 16,
     "metadata": {},
     "output_type": "execute_result"
    }
   ],
   "source": [
    "dir(m21.note.Rest)"
   ]
  },
  {
   "cell_type": "code",
   "execution_count": 17,
   "metadata": {
    "collapsed": false
   },
   "outputs": [
    {
     "name": "stdout",
     "output_type": "stream",
     "text": [
      "C4\n",
      "4\n",
      "C\n",
      "261.625565301\n"
     ]
    }
   ],
   "source": [
    "c4 = m21.note.Note('C4')\n",
    "print c4.pitch\n",
    "print c4.octave\n",
    "print c4.name\n",
    "print c4.pitch.frequency"
   ]
  },
  {
   "cell_type": "code",
   "execution_count": 18,
   "metadata": {
    "collapsed": false
   },
   "outputs": [
    {
     "name": "stdout",
     "output_type": "stream",
     "text": [
      "0\n"
     ]
    }
   ],
   "source": [
    "print c4.pitch.pitchClass"
   ]
  },
  {
   "cell_type": "code",
   "execution_count": 19,
   "metadata": {
    "collapsed": true
   },
   "outputs": [],
   "source": [
    "d4 = m21.note.Note('D4')\n",
    "e4 = m21.note.Note('E4')\n",
    "f4 = m21.note.Note('F4')"
   ]
  },
  {
   "cell_type": "code",
   "execution_count": 20,
   "metadata": {
    "collapsed": false
   },
   "outputs": [
    {
     "name": "stdout",
     "output_type": "stream",
     "text": [
      "0\n",
      "2\n",
      "4\n",
      "5\n"
     ]
    }
   ],
   "source": [
    "print c4.pitch.pitchClass\n",
    "print d4.pitch.pitchClass\n",
    "print e4.pitch.pitchClass\n",
    "print f4.pitch.pitchClass"
   ]
  },
  {
   "cell_type": "code",
   "execution_count": 21,
   "metadata": {
    "collapsed": false
   },
   "outputs": [
    {
     "data": {
      "image/png": "[encoded data removed]",
      "text/plain": [
       "<music21.ipython21.objects.IPythonPNGObject at 0x10d64d6d0>"
      ]
     },
     "execution_count": 21,
     "metadata": {},
     "output_type": "execute_result"
    }
   ],
   "source": [
    "c4.show()"
   ]
  },
  {
   "cell_type": "code",
   "execution_count": 22,
   "metadata": {
    "collapsed": false
   },
   "outputs": [
    {
     "data": {
      "text/html": [
       "\n",
       "                <div id='midiPlayerDiv7604'></div>\n",
       "                <link rel=\"stylesheet\" href=\"http://artusi.xyz/music21j/css/m21.css\" \n",
       "                    type=\"text/css\" />\n",
       "                <script>\n",
       "                require.config({\n",
       "                    paths: {'music21': 'http://artusi.xyz/music21j/src/music21'} \n",
       "                }); \n",
       "                require(['music21'], function() { \n",
       "                               mp = new music21.miditools.MidiPlayer();\n",
       "                               mp.addPlayer('#midiPlayerDiv7604'); \n",
       "                               mp.base64Load('data:audio/midi;base64,TVRoZAAAAAYAAQABBABNVHJrAAAAFwD/AwAA4ABAiACQPFqIAIA8AIgA/y8A'); \n",
       "                        });\n",
       "                </script>"
      ],
      "text/plain": [
       "<IPython.core.display.HTML object>"
      ]
     },
     "metadata": {},
     "output_type": "display_data"
    }
   ],
   "source": [
    "c4.show('midi')"
   ]
  },
  {
   "cell_type": "code",
   "execution_count": 23,
   "metadata": {
    "collapsed": false
   },
   "outputs": [
    {
     "data": {
      "text/plain": [
       "<music21.note.Note F>"
      ]
     },
     "execution_count": 23,
     "metadata": {},
     "output_type": "execute_result"
    }
   ],
   "source": [
    "c4.transpose('P4')"
   ]
  },
  {
   "cell_type": "code",
   "execution_count": 24,
   "metadata": {
    "collapsed": false
   },
   "outputs": [
    {
     "data": {
      "text/plain": [
       "<music21.note.Note E->"
      ]
     },
     "execution_count": 24,
     "metadata": {},
     "output_type": "execute_result"
    }
   ],
   "source": [
    "c4.transpose(3)"
   ]
  },
  {
   "cell_type": "code",
   "execution_count": 25,
   "metadata": {
    "collapsed": true
   },
   "outputs": [],
   "source": [
    "weird_duration = m21.duration.Duration(2.5)"
   ]
  },
  {
   "cell_type": "code",
   "execution_count": 26,
   "metadata": {
    "collapsed": false
   },
   "outputs": [
    {
     "data": {
      "text/plain": [
       "2.5"
      ]
     },
     "execution_count": 26,
     "metadata": {},
     "output_type": "execute_result"
    }
   ],
   "source": [
    "weird_duration.quarterLength"
   ]
  },
  {
   "cell_type": "code",
   "execution_count": 27,
   "metadata": {
    "collapsed": false
   },
   "outputs": [
    {
     "data": {
      "text/plain": [
       "'complex'"
      ]
     },
     "execution_count": 27,
     "metadata": {},
     "output_type": "execute_result"
    }
   ],
   "source": [
    "weird_duration.type"
   ]
  },
  {
   "cell_type": "code",
   "execution_count": 28,
   "metadata": {
    "collapsed": false
   },
   "outputs": [],
   "source": [
    "weird_note = m21.note.Note()\n",
    "weird_note.duration = weird_duration"
   ]
  },
  {
   "cell_type": "code",
   "execution_count": 29,
   "metadata": {
    "collapsed": false
   },
   "outputs": [
    {
     "data": {
      "image/png": "[encoded data removed]",
      "text/plain": [
       "<music21.ipython21.objects.IPythonPNGObject at 0x11332f0d0>"
      ]
     },
     "execution_count": 29,
     "metadata": {},
     "output_type": "execute_result"
    }
   ],
   "source": [
    "weird_note.show()"
   ]
  },
  {
   "cell_type": "code",
   "execution_count": 30,
   "metadata": {
    "collapsed": false
   },
   "outputs": [
    {
     "data": {
      "image/png": "[encoded data removed]",
      "text/plain": [
       "<music21.ipython21.objects.IPythonPNGObject at 0x10e51dfd0>"
      ]
     },
     "execution_count": 30,
     "metadata": {},
     "output_type": "execute_result"
    }
   ],
   "source": [
    "# triplet\n",
    "triplet_dur = m21.duration.Duration(1.0/3.0)\n",
    "triplet_note = m21.note.Note('D5')\n",
    "triplet_note.duration = triplet_dur\n",
    "triplet_note.show()"
   ]
  },
  {
   "cell_type": "code",
   "execution_count": 31,
   "metadata": {
    "collapsed": false
   },
   "outputs": [],
   "source": [
    "triplet_note.show('lily.pdf')"
   ]
  },
  {
   "cell_type": "code",
   "execution_count": 32,
   "metadata": {
    "collapsed": false
   },
   "outputs": [
    {
     "data": {
      "text/plain": [
       "['lilypondBackend',\n",
       " 'pdfPath',\n",
       " 'lilypondVersion',\n",
       " 'graphicsPath',\n",
       " 'braillePath',\n",
       " 'showFormat',\n",
       " 'warnings',\n",
       " 'ipythonShowFormat',\n",
       " 'localCorpusSettings',\n",
       " 'musescoreDirectPNGPath',\n",
       " 'manualCoreCorpusPath',\n",
       " 'vectorPath',\n",
       " 'writeFormat',\n",
       " 'lilypondPath',\n",
       " 'directoryScratch',\n",
       " 'lilypondFormat',\n",
       " 'debug',\n",
       " 'musicxmlPath',\n",
       " 'localCorporaSettings',\n",
       " 'autoDownload',\n",
       " 'midiPath',\n",
       " 'localCorpusPath']"
      ]
     },
     "execution_count": 32,
     "metadata": {},
     "output_type": "execute_result"
    }
   ],
   "source": [
    "m21.environment.UserSettings().keys()"
   ]
  },
  {
   "cell_type": "code",
   "execution_count": 33,
   "metadata": {
    "collapsed": false
   },
   "outputs": [
    {
     "data": {
      "text/plain": [
       "[<music21.note.Note C>, <music21.note.Note D>]"
      ]
     },
     "execution_count": 33,
     "metadata": {},
     "output_type": "execute_result"
    }
   ],
   "source": [
    "note_list = [weird_note, triplet_note]\n",
    "note_list"
   ]
  },
  {
   "cell_type": "code",
   "execution_count": 34,
   "metadata": {
    "collapsed": false
   },
   "outputs": [
    {
     "ename": "AttributeError",
     "evalue": "'list' object has no attribute 'show'",
     "output_type": "error",
     "traceback": [
      "\u001b[0;31m---------------------------------------------------------------------------\u001b[0m",
      "\u001b[0;31mAttributeError\u001b[0m                            Traceback (most recent call last)",
      "\u001b[0;32m<ipython-input-34-41cf94242256>\u001b[0m in \u001b[0;36m<module>\u001b[0;34m()\u001b[0m\n\u001b[0;32m----> 1\u001b[0;31m \u001b[0mnote_list\u001b[0m\u001b[0;34m.\u001b[0m\u001b[0mshow\u001b[0m\u001b[0;34m(\u001b[0m\u001b[0;34m)\u001b[0m\u001b[0;34m\u001b[0m\u001b[0m\n\u001b[0m",
      "\u001b[0;31mAttributeError\u001b[0m: 'list' object has no attribute 'show'"
     ]
    }
   ],
   "source": [
    "note_list.show()"
   ]
  },
  {
   "cell_type": "code",
   "execution_count": 35,
   "metadata": {
    "collapsed": false
   },
   "outputs": [
    {
     "name": "stdout",
     "output_type": "stream",
     "text": [
      "C4\n",
      "D5\n"
     ]
    }
   ],
   "source": [
    "for note in note_list:\n",
    "    print note.pitch"
   ]
  },
  {
   "cell_type": "code",
   "execution_count": 36,
   "metadata": {
    "collapsed": true
   },
   "outputs": [],
   "source": [
    "stream1 = m21.stream.Stream()"
   ]
  },
  {
   "cell_type": "code",
   "execution_count": 37,
   "metadata": {
    "collapsed": true
   },
   "outputs": [],
   "source": [
    "stream1.append(note_list)"
   ]
  },
  {
   "cell_type": "code",
   "execution_count": 38,
   "metadata": {
    "collapsed": false
   },
   "outputs": [],
   "source": [
    "stream1.repeatAppend(triplet_note, 2)"
   ]
  },
  {
   "cell_type": "code",
   "execution_count": 39,
   "metadata": {
    "collapsed": false
   },
   "outputs": [
    {
     "name": "stdout",
     "output_type": "stream",
     "text": [
      "{0.0} <music21.note.Note C>\n",
      "{2.5} <music21.note.Note D>\n",
      "{2.8333} <music21.note.Note D>\n",
      "{3.1667} <music21.note.Note D>\n"
     ]
    }
   ],
   "source": [
    "stream1.show('text')"
   ]
  },
  {
   "cell_type": "code",
   "execution_count": 40,
   "metadata": {
    "collapsed": false
   },
   "outputs": [
    {
     "name": "stdout",
     "output_type": "stream",
     "text": [
      "C\n",
      "D\n",
      "D\n",
      "D\n"
     ]
    }
   ],
   "source": [
    "for element in stream1:\n",
    "    print element.name"
   ]
  },
  {
   "cell_type": "code",
   "execution_count": 41,
   "metadata": {
    "collapsed": false
   },
   "outputs": [
    {
     "data": {
      "text/plain": [
       "False"
      ]
     },
     "execution_count": 41,
     "metadata": {},
     "output_type": "execute_result"
    }
   ],
   "source": [
    "stream1[0] == stream1[1]"
   ]
  },
  {
   "cell_type": "code",
   "execution_count": 42,
   "metadata": {
    "collapsed": false
   },
   "outputs": [
    {
     "data": {
      "text/plain": [
       "False"
      ]
     },
     "execution_count": 42,
     "metadata": {},
     "output_type": "execute_result"
    }
   ],
   "source": [
    "stream1[1] == stream1[2] # this indicates that the repeatAppend does not append references, but\n",
    "# an actual new independent copy"
   ]
  },
  {
   "cell_type": "code",
   "execution_count": 43,
   "metadata": {
    "collapsed": false
   },
   "outputs": [
    {
     "data": {
      "text/plain": [
       "True"
      ]
     },
     "execution_count": 43,
     "metadata": {},
     "output_type": "execute_result"
    }
   ],
   "source": [
    "stream1[1] == stream1[1]"
   ]
  },
  {
   "cell_type": "code",
   "execution_count": 44,
   "metadata": {
    "collapsed": false
   },
   "outputs": [
    {
     "data": {
      "text/plain": [
       "0"
      ]
     },
     "execution_count": 44,
     "metadata": {},
     "output_type": "execute_result"
    }
   ],
   "source": [
    "stream1.index(weird_note)"
   ]
  },
  {
   "cell_type": "code",
   "execution_count": 45,
   "metadata": {
    "collapsed": false
   },
   "outputs": [
    {
     "name": "stdout",
     "output_type": "stream",
     "text": [
      "(<music21.note.Note C>, <music21.duration.Duration 2.5>, 0.0)\n",
      "(<music21.note.Note D>, <music21.duration.Duration 1/3>, 2.5)\n",
      "(<music21.note.Note D>, <music21.duration.Duration 1/3>, Fraction(17, 6))\n",
      "(<music21.note.Note D>, <music21.duration.Duration 1/3>, Fraction(19, 6))\n"
     ]
    }
   ],
   "source": [
    "for thisNote in stream1.getElementsByClass([m21.note.Note, m21.note.Rest]):\n",
    "    print(thisNote, thisNote.duration, thisNote.offset)"
   ]
  },
  {
   "cell_type": "code",
   "execution_count": 46,
   "metadata": {
    "collapsed": false
   },
   "outputs": [
    {
     "name": "stdout",
     "output_type": "stream",
     "text": [
      "{0.0} <music21.note.Note C>\n",
      "{2.5} <music21.note.Note D>\n"
     ]
    }
   ],
   "source": [
    "stream1.getElementsByOffset(0, offsetEnd=2.5).show('text')"
   ]
  },
  {
   "cell_type": "code",
   "execution_count": 47,
   "metadata": {
    "collapsed": false
   },
   "outputs": [
    {
     "data": {
      "text/plain": [
       "0.4913144018141769"
      ]
     },
     "execution_count": 47,
     "metadata": {},
     "output_type": "execute_result"
    }
   ],
   "source": [
    "stream1.analyze('key').correlationCoefficient"
   ]
  },
  {
   "cell_type": "code",
   "execution_count": 48,
   "metadata": {
    "collapsed": false
   },
   "outputs": [
    {
     "name": "stdout",
     "output_type": "stream",
     "text": [
      "[<music21.key.Key of F major>, <music21.key.Key of a minor>, <music21.key.Key of C major>, <music21.key.Key of g minor>, <music21.key.Key of B- major>, <music21.key.Key of f minor>, <music21.key.Key of G major>, <music21.key.Key of A- major>, <music21.key.Key of d minor>, <music21.key.Key of b- minor>, <music21.key.Key of E- major>, <music21.key.Key of D major>, <music21.key.Key of e minor>, <music21.key.Key of b minor>, <music21.key.Key of C# major>, <music21.key.Key of A major>, <music21.key.Key of e- minor>, <music21.key.Key of f# minor>, <music21.key.Key of c# minor>, <music21.key.Key of F# major>, <music21.key.Key of E major>, <music21.key.Key of B major>, <music21.key.Key of g# minor>]\n"
     ]
    },
    {
     "data": {
      "text/plain": [
       "0.48236733738758547"
      ]
     },
     "execution_count": 48,
     "metadata": {},
     "output_type": "execute_result"
    }
   ],
   "source": [
    "print stream1.analyze('key').alternateInterpretations\n",
    "stream1.analyze('key').alternateInterpretations[0].correlationCoefficient\n"
   ]
  },
  {
   "cell_type": "code",
   "execution_count": 49,
   "metadata": {
    "collapsed": true
   },
   "outputs": [],
   "source": [
    "stream1_subset = stream1[2:3]"
   ]
  },
  {
   "cell_type": "code",
   "execution_count": 50,
   "metadata": {
    "collapsed": false
   },
   "outputs": [
    {
     "data": {
      "text/plain": [
       "2.5"
      ]
     },
     "execution_count": 50,
     "metadata": {},
     "output_type": "execute_result"
    }
   ],
   "source": [
    "triplet_note.offset # stil refers to the first, original offset"
   ]
  },
  {
   "cell_type": "code",
   "execution_count": 51,
   "metadata": {
    "collapsed": false
   },
   "outputs": [
    {
     "data": {
      "text/plain": [
       "<music21.stream.Stream 0x113faf5d0>"
      ]
     },
     "execution_count": 51,
     "metadata": {},
     "output_type": "execute_result"
    }
   ],
   "source": [
    "stream1"
   ]
  },
  {
   "cell_type": "code",
   "execution_count": 52,
   "metadata": {
    "collapsed": false
   },
   "outputs": [
    {
     "data": {
      "text/plain": [
       "4630181328"
      ]
     },
     "execution_count": 52,
     "metadata": {},
     "output_type": "execute_result"
    }
   ],
   "source": [
    "stream1.id"
   ]
  },
  {
   "cell_type": "code",
   "execution_count": 53,
   "metadata": {
    "collapsed": false
   },
   "outputs": [
    {
     "data": {
      "text/plain": [
       "<music21.stream.Stream 0x113faf5d0>"
      ]
     },
     "execution_count": 53,
     "metadata": {},
     "output_type": "execute_result"
    }
   ],
   "source": [
    "stream1"
   ]
  },
  {
   "cell_type": "code",
   "execution_count": 54,
   "metadata": {
    "collapsed": false
   },
   "outputs": [
    {
     "data": {
      "text/plain": [
       "<music21.stream.Stream hellothere>"
      ]
     },
     "execution_count": 54,
     "metadata": {},
     "output_type": "execute_result"
    }
   ],
   "source": [
    "\n",
    "stream1.id = 'hellothere'\n",
    "stream1"
   ]
  },
  {
   "cell_type": "code",
   "execution_count": 90,
   "metadata": {
    "collapsed": false
   },
   "outputs": [],
   "source": [
    "eighth_rest = m21.note.Rest(type='eighth', id='eighth_rest')\n",
    "eighth_rest.id='eighth_rest'"
   ]
  },
  {
   "cell_type": "code",
   "execution_count": 91,
   "metadata": {
    "collapsed": false
   },
   "outputs": [
    {
     "data": {
      "image/png": "[encoded data removed]",
      "text/plain": [
       "<music21.ipython21.objects.IPythonPNGObject at 0x112a41b90>"
      ]
     },
     "execution_count": 91,
     "metadata": {},
     "output_type": "execute_result"
    }
   ],
   "source": [
    "biggerStream = m21.stream.Stream()\n",
    "biggerStream.insert([0.0, weird_note, 2.5, eighth_rest, 3.0, triplet_note])\n",
    "biggerStream.show()"
   ]
  },
  {
   "cell_type": "code",
   "execution_count": 92,
   "metadata": {
    "collapsed": false
   },
   "outputs": [
    {
     "name": "stdout",
     "output_type": "stream",
     "text": [
      "<music21.note.Note C>\n",
      "<music21.note.Rest rest>\n",
      "<music21.note.Note D>\n"
     ]
    }
   ],
   "source": [
    "for note in biggerStream:\n",
    "    print note"
   ]
  },
  {
   "cell_type": "code",
   "execution_count": 93,
   "metadata": {
    "collapsed": false
   },
   "outputs": [
    {
     "name": "stdout",
     "output_type": "stream",
     "text": [
      "(<music21.note.Note C>, 0.0)\n",
      "(<music21.note.Note D>, 2.5)\n",
      "(<music21.note.Note D>, Fraction(17, 6))\n",
      "(<music21.note.Note D>, Fraction(19, 6))\n"
     ]
    }
   ],
   "source": [
    "for thisNote in stream1.getElementsByClass(m21.note.Note):\n",
    "    print(thisNote, thisNote.offset)"
   ]
  },
  {
   "cell_type": "code",
   "execution_count": 94,
   "metadata": {
    "collapsed": false
   },
   "outputs": [
    {
     "name": "stdout",
     "output_type": "stream",
     "text": [
      "<music21.note.Note C>\n",
      "<music21.note.Note D>\n"
     ]
    }
   ],
   "source": [
    "for thisNote in biggerStream.notes:\n",
    "    print(thisNote)"
   ]
  },
  {
   "cell_type": "code",
   "execution_count": 95,
   "metadata": {
    "collapsed": false
   },
   "outputs": [
    {
     "name": "stdout",
     "output_type": "stream",
     "text": [
      "(<music21.note.Note C>, 0.0)\n",
      "(<music21.note.Note D>, 2.5)\n",
      "(<music21.note.Note D>, Fraction(17, 6))\n",
      "(<music21.note.Note D>, Fraction(19, 6))\n"
     ]
    }
   ],
   "source": [
    "for thisNote in stream1.notesAndRests:\n",
    "    print(thisNote, thisNote.offset)"
   ]
  },
  {
   "cell_type": "code",
   "execution_count": 61,
   "metadata": {
    "collapsed": false
   },
   "outputs": [
    {
     "data": {
      "text/plain": [
       "[<music21.pitch.Pitch C4>,\n",
       " <music21.pitch.Pitch D5>,\n",
       " <music21.pitch.Pitch D5>,\n",
       " <music21.pitch.Pitch D5>]"
      ]
     },
     "execution_count": 61,
     "metadata": {},
     "output_type": "execute_result"
    }
   ],
   "source": [
    "stream1.pitches # is a list, you don't have to access in for loop"
   ]
  },
  {
   "cell_type": "code",
   "execution_count": 96,
   "metadata": {
    "collapsed": false
   },
   "outputs": [
    {
     "data": {
      "text/plain": [
       "<music21.stream.iterator.StreamIterator for Stream:0x1105f9d90 @:3>"
      ]
     },
     "execution_count": 96,
     "metadata": {},
     "output_type": "execute_result"
    }
   ],
   "source": [
    "biggerStream.notes # need to access in for loop OR do show\n"
   ]
  },
  {
   "cell_type": "code",
   "execution_count": 97,
   "metadata": {
    "collapsed": false
   },
   "outputs": [
    {
     "name": "stdout",
     "output_type": "stream",
     "text": [
      "{0.0} <music21.note.Note C>\n",
      "{3.0} <music21.note.Note D>\n"
     ]
    }
   ],
   "source": [
    "biggerStream.notes.show('text')"
   ]
  },
  {
   "cell_type": "code",
   "execution_count": 98,
   "metadata": {
    "collapsed": false
   },
   "outputs": [
    {
     "name": "stdout",
     "output_type": "stream",
     "text": [
      "{2.5} <music21.note.Rest rest>\n"
     ]
    }
   ],
   "source": [
    "sOut = biggerStream.getElementsByOffset(2.5)\n",
    "sOut.show('text')"
   ]
  },
  {
   "cell_type": "code",
   "execution_count": 99,
   "metadata": {
    "collapsed": false
   },
   "outputs": [
    {
     "name": "stdout",
     "output_type": "stream",
     "text": [
      "{0.0} <music21.note.Note C>\n",
      "{2.5} <music21.note.Rest rest>\n",
      "{3.0} <music21.note.Note D>\n"
     ]
    }
   ],
   "source": [
    "biggerStream.show('text')"
   ]
  },
  {
   "cell_type": "code",
   "execution_count": 100,
   "metadata": {
    "collapsed": false
   },
   "outputs": [
    {
     "data": {
      "image/png": "[encoded data removed]",
      "text/plain": [
       "<music21.ipython21.objects.IPythonPNGObject at 0x10da8eb10>"
      ]
     },
     "execution_count": 100,
     "metadata": {},
     "output_type": "execute_result"
    }
   ],
   "source": [
    "biggerStream.show()"
   ]
  },
  {
   "cell_type": "code",
   "execution_count": 101,
   "metadata": {
    "collapsed": false
   },
   "outputs": [
    {
     "data": {
      "text/plain": [
       "2.5"
      ]
     },
     "execution_count": 101,
     "metadata": {},
     "output_type": "execute_result"
    }
   ],
   "source": [
    "biggerStream[1].offset"
   ]
  },
  {
   "cell_type": "code",
   "execution_count": 102,
   "metadata": {
    "collapsed": false
   },
   "outputs": [
    {
     "data": {
      "text/plain": [
       "<music21.interval.Interval M9>"
      ]
     },
     "execution_count": 102,
     "metadata": {},
     "output_type": "execute_result"
    }
   ],
   "source": [
    "biggerStream.analyze('ambitus')\n",
    "# determines the length of the biggest interval"
   ]
  },
  {
   "cell_type": "code",
   "execution_count": 104,
   "metadata": {
    "collapsed": false
   },
   "outputs": [
    {
     "data": {
      "text/plain": [
       "3.0"
      ]
     },
     "execution_count": 104,
     "metadata": {},
     "output_type": "execute_result"
    }
   ],
   "source": [
    "triplet_note.offset"
   ]
  },
  {
   "cell_type": "code",
   "execution_count": 106,
   "metadata": {
    "collapsed": false
   },
   "outputs": [
    {
     "data": {
      "text/plain": [
       "3.0"
      ]
     },
     "execution_count": 106,
     "metadata": {},
     "output_type": "execute_result"
    }
   ],
   "source": [
    "# display offset for thsi sepcific Stream\n",
    "triplet_note.getOffsetBySite(biggerStream)"
   ]
  },
  {
   "cell_type": "code",
   "execution_count": 110,
   "metadata": {
    "collapsed": false
   },
   "outputs": [
    {
     "name": "stdout",
     "output_type": "stream",
     "text": [
      "{0.0} <music21.note.Note C>\n",
      "{2.5} <music21.note.Rest rest>\n",
      "{3.0} <music21.note.Note D>\n"
     ]
    }
   ],
   "source": [
    "biggerStream.show('text')"
   ]
  },
  {
   "cell_type": "code",
   "execution_count": 109,
   "metadata": {
    "collapsed": false
   },
   "outputs": [
    {
     "name": "stdout",
     "output_type": "stream",
     "text": [
      "{0.0} <music21.note.Note C>\n",
      "{2.5} <music21.note.Note D>\n",
      "{2.8333} <music21.note.Note D>\n",
      "{3.1667} <music21.note.Note D>\n"
     ]
    }
   ],
   "source": [
    "stream1.show('text')"
   ]
  },
  {
   "cell_type": "code",
   "execution_count": 111,
   "metadata": {
    "collapsed": false
   },
   "outputs": [
    {
     "name": "stdout",
     "output_type": "stream",
     "text": [
      "{0.0} <music21.note.Note C>\n",
      "{2.5} <music21.note.Rest rest>\n",
      "{3.0} <music21.note.Note D>\n",
      "{3.3333} <music21.stream.Stream hellothere>\n",
      "    {0.0} <music21.note.Note C>\n",
      "    {2.5} <music21.note.Note D>\n",
      "    {2.8333} <music21.note.Note D>\n",
      "    {3.1667} <music21.note.Note D>\n"
     ]
    }
   ],
   "source": [
    "biggerStream.append(stream1)\n",
    "biggerStream.show('text')"
   ]
  },
  {
   "cell_type": "code",
   "execution_count": 112,
   "metadata": {
    "collapsed": false,
    "scrolled": true
   },
   "outputs": [
    {
     "ename": "StreamException",
     "evalue": "the object (<music21.note.Note C>, id()=4636754448) is already found in this Stream (<music21.stream.Measure 1 offset=0.0>, id()=4636755600)",
     "output_type": "error",
     "traceback": [
      "\u001b[0;31m---------------------------------------------------------------------------\u001b[0m",
      "\u001b[0;31mStreamException\u001b[0m                           Traceback (most recent call last)",
      "\u001b[0;32m<ipython-input-112-c2d985b6467a>\u001b[0m in \u001b[0;36m<module>\u001b[0;34m()\u001b[0m\n\u001b[0;32m----> 1\u001b[0;31m \u001b[0mbiggerStream\u001b[0m\u001b[0;34m.\u001b[0m\u001b[0mshow\u001b[0m\u001b[0;34m(\u001b[0m\u001b[0;34m)\u001b[0m\u001b[0;34m\u001b[0m\u001b[0m\n\u001b[0m",
      "\u001b[0;32m//anaconda/envs/dsi/lib/python2.7/site-packages/music21/stream/__init__.pyc\u001b[0m in \u001b[0;36mshow\u001b[0;34m(self, *args, **kwargs)\u001b[0m\n\u001b[1;32m    255\u001b[0m         \u001b[0;32mif\u001b[0m \u001b[0mself\u001b[0m\u001b[0;34m.\u001b[0m\u001b[0misSorted\u001b[0m \u001b[0;32mis\u001b[0m \u001b[0mFalse\u001b[0m \u001b[0;32mand\u001b[0m \u001b[0mself\u001b[0m\u001b[0;34m.\u001b[0m\u001b[0mautoSort\u001b[0m\u001b[0;34m:\u001b[0m\u001b[0;34m\u001b[0m\u001b[0m\n\u001b[1;32m    256\u001b[0m             \u001b[0mself\u001b[0m\u001b[0;34m.\u001b[0m\u001b[0msort\u001b[0m\u001b[0;34m(\u001b[0m\u001b[0;34m)\u001b[0m\u001b[0;34m\u001b[0m\u001b[0m\n\u001b[0;32m--> 257\u001b[0;31m         \u001b[0;32mreturn\u001b[0m \u001b[0msuper\u001b[0m\u001b[0;34m(\u001b[0m\u001b[0mStream\u001b[0m\u001b[0;34m,\u001b[0m \u001b[0mself\u001b[0m\u001b[0;34m)\u001b[0m\u001b[0;34m.\u001b[0m\u001b[0mshow\u001b[0m\u001b[0;34m(\u001b[0m\u001b[0;34m*\u001b[0m\u001b[0margs\u001b[0m\u001b[0;34m,\u001b[0m \u001b[0;34m**\u001b[0m\u001b[0mkwargs\u001b[0m\u001b[0;34m)\u001b[0m\u001b[0;34m\u001b[0m\u001b[0m\n\u001b[0m\u001b[1;32m    258\u001b[0m \u001b[0;34m\u001b[0m\u001b[0m\n\u001b[1;32m    259\u001b[0m     \u001b[0;31m#---------------------------------------------------------------------------\u001b[0m\u001b[0;34m\u001b[0m\u001b[0;34m\u001b[0m\u001b[0m\n",
      "\u001b[0;32m//anaconda/envs/dsi/lib/python2.7/site-packages/music21/base.pyc\u001b[0m in \u001b[0;36mshow\u001b[0;34m(self, fmt, app, **keywords)\u001b[0m\n\u001b[1;32m   2586\u001b[0m                                  \u001b[0mapp\u001b[0m\u001b[0;34m=\u001b[0m\u001b[0mapp\u001b[0m\u001b[0;34m,\u001b[0m\u001b[0;34m\u001b[0m\u001b[0m\n\u001b[1;32m   2587\u001b[0m                                  \u001b[0msubformats\u001b[0m\u001b[0;34m=\u001b[0m\u001b[0msubformats\u001b[0m\u001b[0;34m,\u001b[0m\u001b[0;34m\u001b[0m\u001b[0m\n\u001b[0;32m-> 2588\u001b[0;31m                                  **keywords)\n\u001b[0m\u001b[1;32m   2589\u001b[0m \u001b[0;34m\u001b[0m\u001b[0m\n\u001b[1;32m   2590\u001b[0m     \u001b[0;31m#--------------------------------------------------------------------------\u001b[0m\u001b[0;34m\u001b[0m\u001b[0;34m\u001b[0m\u001b[0m\n",
      "\u001b[0;32m//anaconda/envs/dsi/lib/python2.7/site-packages/music21/converter/subConverters.pyc\u001b[0m in \u001b[0;36mshow\u001b[0;34m(self, obj, fmt, app, subformats, **keywords)\u001b[0m\n\u001b[1;32m    312\u001b[0m \u001b[0;34m\u001b[0m\u001b[0m\n\u001b[1;32m    313\u001b[0m             \u001b[0;32mif\u001b[0m \u001b[0;34m'Opus'\u001b[0m \u001b[0;32mnot\u001b[0m \u001b[0;32min\u001b[0m \u001b[0mobj\u001b[0m\u001b[0;34m.\u001b[0m\u001b[0mclasses\u001b[0m\u001b[0;34m:\u001b[0m\u001b[0;34m\u001b[0m\u001b[0m\n\u001b[0;32m--> 314\u001b[0;31m                 \u001b[0mfp\u001b[0m \u001b[0;34m=\u001b[0m \u001b[0mhelperSubConverter\u001b[0m\u001b[0;34m.\u001b[0m\u001b[0mwrite\u001b[0m\u001b[0;34m(\u001b[0m\u001b[0mobj\u001b[0m\u001b[0;34m,\u001b[0m \u001b[0mhelperFormat\u001b[0m\u001b[0;34m,\u001b[0m \u001b[0msubformats\u001b[0m\u001b[0;34m=\u001b[0m\u001b[0mhelperSubformats\u001b[0m\u001b[0;34m)\u001b[0m\u001b[0;34m\u001b[0m\u001b[0m\n\u001b[0m\u001b[1;32m    315\u001b[0m \u001b[0;34m\u001b[0m\u001b[0m\n\u001b[1;32m    316\u001b[0m                 \u001b[0mdefaults\u001b[0m\u001b[0;34m.\u001b[0m\u001b[0mtitle\u001b[0m \u001b[0;34m=\u001b[0m \u001b[0msavedDefaultTitle\u001b[0m\u001b[0;34m\u001b[0m\u001b[0m\n",
      "\u001b[0;32m//anaconda/envs/dsi/lib/python2.7/site-packages/music21/converter/subConverters.pyc\u001b[0m in \u001b[0;36mwrite\u001b[0;34m(self, obj, fmt, fp, subformats, **keywords)\u001b[0m\n\u001b[1;32m    799\u001b[0m \u001b[0;34m\u001b[0m\u001b[0m\n\u001b[1;32m    800\u001b[0m         \u001b[0mgeneralExporter\u001b[0m \u001b[0;34m=\u001b[0m \u001b[0mm21ToXml\u001b[0m\u001b[0;34m.\u001b[0m\u001b[0mGeneralObjectExporter\u001b[0m\u001b[0;34m(\u001b[0m\u001b[0mobj\u001b[0m\u001b[0;34m)\u001b[0m\u001b[0;34m\u001b[0m\u001b[0m\n\u001b[0;32m--> 801\u001b[0;31m         \u001b[0mdataBytes\u001b[0m \u001b[0;34m=\u001b[0m \u001b[0mgeneralExporter\u001b[0m\u001b[0;34m.\u001b[0m\u001b[0mparse\u001b[0m\u001b[0;34m(\u001b[0m\u001b[0;34m)\u001b[0m\u001b[0;34m\u001b[0m\u001b[0m\n\u001b[0m\u001b[1;32m    802\u001b[0m         \u001b[0mfp\u001b[0m \u001b[0;34m=\u001b[0m \u001b[0mself\u001b[0m\u001b[0;34m.\u001b[0m\u001b[0mwriteDataStream\u001b[0m\u001b[0;34m(\u001b[0m\u001b[0mfp\u001b[0m\u001b[0;34m,\u001b[0m \u001b[0mdataBytes\u001b[0m\u001b[0;34m)\u001b[0m\u001b[0;34m\u001b[0m\u001b[0m\n\u001b[1;32m    803\u001b[0m \u001b[0;34m\u001b[0m\u001b[0m\n",
      "\u001b[0;32m//anaconda/envs/dsi/lib/python2.7/site-packages/music21/musicxml/m21ToXml.pyc\u001b[0m in \u001b[0;36mparse\u001b[0;34m(self, obj)\u001b[0m\n\u001b[1;32m    348\u001b[0m         \u001b[0;32mif\u001b[0m \u001b[0mobj\u001b[0m \u001b[0;32mis\u001b[0m \u001b[0mNone\u001b[0m\u001b[0;34m:\u001b[0m\u001b[0;34m\u001b[0m\u001b[0m\n\u001b[1;32m    349\u001b[0m             \u001b[0mobj\u001b[0m \u001b[0;34m=\u001b[0m \u001b[0mself\u001b[0m\u001b[0;34m.\u001b[0m\u001b[0mgeneralObj\u001b[0m\u001b[0;34m\u001b[0m\u001b[0m\n\u001b[0;32m--> 350\u001b[0;31m         \u001b[0moutObj\u001b[0m \u001b[0;34m=\u001b[0m \u001b[0mself\u001b[0m\u001b[0;34m.\u001b[0m\u001b[0mfromGeneralObject\u001b[0m\u001b[0;34m(\u001b[0m\u001b[0mobj\u001b[0m\u001b[0;34m)\u001b[0m\u001b[0;34m\u001b[0m\u001b[0m\n\u001b[0m\u001b[1;32m    351\u001b[0m         \u001b[0;32mreturn\u001b[0m \u001b[0mself\u001b[0m\u001b[0;34m.\u001b[0m\u001b[0mparseWellformedObject\u001b[0m\u001b[0;34m(\u001b[0m\u001b[0moutObj\u001b[0m\u001b[0;34m)\u001b[0m\u001b[0;34m\u001b[0m\u001b[0m\n\u001b[1;32m    352\u001b[0m \u001b[0;34m\u001b[0m\u001b[0m\n",
      "\u001b[0;32m//anaconda/envs/dsi/lib/python2.7/site-packages/music21/musicxml/m21ToXml.pyc\u001b[0m in \u001b[0;36mfromGeneralObject\u001b[0;34m(self, obj)\u001b[0m\n\u001b[1;32m    383\u001b[0m             \u001b[0;32mif\u001b[0m \u001b[0mcM\u001b[0m \u001b[0;32min\u001b[0m \u001b[0mclasses\u001b[0m\u001b[0;34m:\u001b[0m\u001b[0;34m\u001b[0m\u001b[0m\n\u001b[1;32m    384\u001b[0m                 \u001b[0mmeth\u001b[0m \u001b[0;34m=\u001b[0m \u001b[0mgetattr\u001b[0m\u001b[0;34m(\u001b[0m\u001b[0mself\u001b[0m\u001b[0;34m,\u001b[0m \u001b[0mmethName\u001b[0m\u001b[0;34m)\u001b[0m\u001b[0;34m\u001b[0m\u001b[0m\n\u001b[0;32m--> 385\u001b[0;31m                 \u001b[0moutObj\u001b[0m \u001b[0;34m=\u001b[0m \u001b[0mmeth\u001b[0m\u001b[0;34m(\u001b[0m\u001b[0mobj\u001b[0m\u001b[0;34m)\u001b[0m\u001b[0;34m\u001b[0m\u001b[0m\n\u001b[0m\u001b[1;32m    386\u001b[0m                 \u001b[0;32mbreak\u001b[0m\u001b[0;34m\u001b[0m\u001b[0m\n\u001b[1;32m    387\u001b[0m         \u001b[0;32mif\u001b[0m \u001b[0moutObj\u001b[0m \u001b[0;32mis\u001b[0m \u001b[0mNone\u001b[0m\u001b[0;34m:\u001b[0m\u001b[0;34m\u001b[0m\u001b[0m\n",
      "\u001b[0;32m//anaconda/envs/dsi/lib/python2.7/site-packages/music21/musicxml/m21ToXml.pyc\u001b[0m in \u001b[0;36mfromStream\u001b[0;34m(self, st)\u001b[0m\n\u001b[1;32m    451\u001b[0m             \u001b[0mst2\u001b[0m\u001b[0;34m.\u001b[0m\u001b[0mmergeAttributes\u001b[0m\u001b[0;34m(\u001b[0m\u001b[0mst\u001b[0m\u001b[0;34m)\u001b[0m\u001b[0;34m\u001b[0m\u001b[0m\n\u001b[1;32m    452\u001b[0m             \u001b[0mst2\u001b[0m\u001b[0;34m.\u001b[0m\u001b[0melements\u001b[0m \u001b[0;34m=\u001b[0m \u001b[0mcopy\u001b[0m\u001b[0;34m.\u001b[0m\u001b[0mdeepcopy\u001b[0m\u001b[0;34m(\u001b[0m\u001b[0mst\u001b[0m\u001b[0;34m)\u001b[0m\u001b[0;34m\u001b[0m\u001b[0m\n\u001b[0;32m--> 453\u001b[0;31m             \u001b[0mst2\u001b[0m\u001b[0;34m.\u001b[0m\u001b[0mmakeNotation\u001b[0m\u001b[0;34m(\u001b[0m\u001b[0minPlace\u001b[0m\u001b[0;34m=\u001b[0m\u001b[0mTrue\u001b[0m\u001b[0;34m,\u001b[0m \u001b[0mbestClef\u001b[0m\u001b[0;34m=\u001b[0m\u001b[0mTrue\u001b[0m\u001b[0;34m)\u001b[0m\u001b[0;34m\u001b[0m\u001b[0m\n\u001b[0m\u001b[1;32m    454\u001b[0m             \u001b[0;32mreturn\u001b[0m \u001b[0mself\u001b[0m\u001b[0;34m.\u001b[0m\u001b[0mfromPart\u001b[0m\u001b[0;34m(\u001b[0m\u001b[0mst2\u001b[0m\u001b[0;34m)\u001b[0m\u001b[0;34m\u001b[0m\u001b[0m\n\u001b[1;32m    455\u001b[0m         \u001b[0;32melse\u001b[0m\u001b[0;34m:\u001b[0m\u001b[0;34m\u001b[0m\u001b[0m\n",
      "\u001b[0;32m//anaconda/envs/dsi/lib/python2.7/site-packages/music21/stream/__init__.pyc\u001b[0m in \u001b[0;36mmakeNotation\u001b[0;34m(self, meterStream, refStreamOrTimeRange, inPlace, bestClef, **subroutineKeywords)\u001b[0m\n\u001b[1;32m   5832\u001b[0m                 \u001b[0mrefStreamOrTimeRange\u001b[0m\u001b[0;34m=\u001b[0m\u001b[0mrefStreamOrTimeRange\u001b[0m\u001b[0;34m,\u001b[0m\u001b[0;34m\u001b[0m\u001b[0m\n\u001b[1;32m   5833\u001b[0m                 \u001b[0minPlace\u001b[0m\u001b[0;34m=\u001b[0m\u001b[0mTrue\u001b[0m\u001b[0;34m,\u001b[0m\u001b[0;34m\u001b[0m\u001b[0m\n\u001b[0;32m-> 5834\u001b[0;31m                 bestClef=bestClef)\n\u001b[0m\u001b[1;32m   5835\u001b[0m \u001b[0;34m\u001b[0m\u001b[0m\n\u001b[1;32m   5836\u001b[0m         \u001b[0mmeasureStream\u001b[0m \u001b[0;34m=\u001b[0m \u001b[0mreturnStream\u001b[0m\u001b[0;34m.\u001b[0m\u001b[0mgetElementsByClass\u001b[0m\u001b[0;34m(\u001b[0m\u001b[0;34m'Measure'\u001b[0m\u001b[0;34m)\u001b[0m\u001b[0;34m.\u001b[0m\u001b[0mstream\u001b[0m\u001b[0;34m(\u001b[0m\u001b[0;34m)\u001b[0m\u001b[0;34m\u001b[0m\u001b[0m\n",
      "\u001b[0;32m//anaconda/envs/dsi/lib/python2.7/site-packages/music21/stream/__init__.pyc\u001b[0m in \u001b[0;36mmakeMeasures\u001b[0;34m(self, meterStream, refStreamOrTimeRange, searchContext, innerBarline, finalBarline, bestClef, inPlace)\u001b[0m\n\u001b[1;32m   5556\u001b[0m             \u001b[0mfinalBarline\u001b[0m\u001b[0;34m=\u001b[0m\u001b[0mfinalBarline\u001b[0m\u001b[0;34m,\u001b[0m\u001b[0;34m\u001b[0m\u001b[0m\n\u001b[1;32m   5557\u001b[0m             \u001b[0mbestClef\u001b[0m\u001b[0;34m=\u001b[0m\u001b[0mbestClef\u001b[0m\u001b[0;34m,\u001b[0m\u001b[0;34m\u001b[0m\u001b[0m\n\u001b[0;32m-> 5558\u001b[0;31m             \u001b[0minPlace\u001b[0m\u001b[0;34m=\u001b[0m\u001b[0minPlace\u001b[0m\u001b[0;34m,\u001b[0m\u001b[0;34m\u001b[0m\u001b[0m\n\u001b[0m\u001b[1;32m   5559\u001b[0m             )\n\u001b[1;32m   5560\u001b[0m \u001b[0;34m\u001b[0m\u001b[0m\n",
      "\u001b[0;32m//anaconda/envs/dsi/lib/python2.7/site-packages/music21/stream/makeNotation.pyc\u001b[0m in \u001b[0;36mmakeMeasures\u001b[0;34m(s, meterStream, refStreamOrTimeRange, searchContext, innerBarline, finalBarline, bestClef, inPlace)\u001b[0m\n\u001b[1;32m    576\u001b[0m         \u001b[0;31m# NOTE: cannot use _insertCore here for some reason\u001b[0m\u001b[0;34m\u001b[0m\u001b[0;34m\u001b[0m\u001b[0m\n\u001b[1;32m    577\u001b[0m         \u001b[0;32mif\u001b[0m \u001b[0mvoiceIndex\u001b[0m \u001b[0;32mis\u001b[0m \u001b[0mNone\u001b[0m\u001b[0;34m:\u001b[0m\u001b[0;34m\u001b[0m\u001b[0m\n\u001b[0;32m--> 578\u001b[0;31m             \u001b[0mm\u001b[0m\u001b[0;34m.\u001b[0m\u001b[0minsert\u001b[0m\u001b[0;34m(\u001b[0m\u001b[0moNew\u001b[0m\u001b[0;34m,\u001b[0m \u001b[0me\u001b[0m\u001b[0;34m)\u001b[0m\u001b[0;34m\u001b[0m\u001b[0m\n\u001b[0m\u001b[1;32m    579\u001b[0m         \u001b[0;32melse\u001b[0m\u001b[0;34m:\u001b[0m  \u001b[0;31m# insert into voice specified by the voice index\u001b[0m\u001b[0;34m\u001b[0m\u001b[0m\n\u001b[1;32m    580\u001b[0m             \u001b[0mm\u001b[0m\u001b[0;34m.\u001b[0m\u001b[0mvoices\u001b[0m\u001b[0;34m[\u001b[0m\u001b[0mvoiceIndex\u001b[0m\u001b[0;34m]\u001b[0m\u001b[0;34m.\u001b[0m\u001b[0minsert\u001b[0m\u001b[0;34m(\u001b[0m\u001b[0moNew\u001b[0m\u001b[0;34m,\u001b[0m \u001b[0me\u001b[0m\u001b[0;34m)\u001b[0m\u001b[0;34m\u001b[0m\u001b[0m\n",
      "\u001b[0;32m//anaconda/envs/dsi/lib/python2.7/site-packages/music21/stream/__init__.pyc\u001b[0m in \u001b[0;36minsert\u001b[0;34m(self, offsetOrItemOrList, itemOrNone, ignoreSort, setActiveSite)\u001b[0m\n\u001b[1;32m   1675\u001b[0m \u001b[0;34m\u001b[0m\u001b[0m\n\u001b[1;32m   1676\u001b[0m         \u001b[0;31m# checks of element is self; possibly performs additional checks\u001b[0m\u001b[0;34m\u001b[0m\u001b[0;34m\u001b[0m\u001b[0m\n\u001b[0;32m-> 1677\u001b[0;31m         \u001b[0mself\u001b[0m\u001b[0;34m.\u001b[0m\u001b[0m_addElementPreProcess\u001b[0m\u001b[0;34m(\u001b[0m\u001b[0melement\u001b[0m\u001b[0;34m)\u001b[0m\u001b[0;34m\u001b[0m\u001b[0m\n\u001b[0m\u001b[1;32m   1678\u001b[0m         \u001b[0;31m# main insert procedure here\u001b[0m\u001b[0;34m\u001b[0m\u001b[0;34m\u001b[0m\u001b[0m\n\u001b[1;32m   1679\u001b[0m \u001b[0;34m\u001b[0m\u001b[0m\n",
      "\u001b[0;32m//anaconda/envs/dsi/lib/python2.7/site-packages/music21/stream/core.pyc\u001b[0m in \u001b[0;36m_addElementPreProcess\u001b[0;34m(self, element, checkRedundancy)\u001b[0m\n\u001b[1;32m    288\u001b[0m                             \u001b[0;34m'the object '\u001b[0m \u001b[0;34m+\u001b[0m\u001b[0;34m\u001b[0m\u001b[0m\n\u001b[1;32m    289\u001b[0m                             \u001b[0;34m'(%s, id()=%s) is already found in this Stream (%s, id()=%s)'\u001b[0m \u001b[0;34m%\u001b[0m\u001b[0;34m\u001b[0m\u001b[0m\n\u001b[0;32m--> 290\u001b[0;31m                                                     (element, id(element), self, id(self)))\n\u001b[0m\u001b[1;32m    291\u001b[0m                 \u001b[0;31m# something was old... delete from _offsetDict\u001b[0m\u001b[0;34m\u001b[0m\u001b[0;34m\u001b[0m\u001b[0m\n\u001b[1;32m    292\u001b[0m                 \u001b[0;31m# environLocal.warn('stale object')\u001b[0m\u001b[0;34m\u001b[0m\u001b[0;34m\u001b[0m\u001b[0m\n",
      "\u001b[0;31mStreamException\u001b[0m: the object (<music21.note.Note C>, id()=4636754448) is already found in this Stream (<music21.stream.Measure 1 offset=0.0>, id()=4636755600)"
     ]
    }
   ],
   "source": [
    "biggerStream.show()\n",
    "# produces error because the same note object is in this biggerStream twice\n",
    "# it is in bigger Stream and also once in stream1"
   ]
  },
  {
   "cell_type": "code",
   "execution_count": 114,
   "metadata": {
    "collapsed": false
   },
   "outputs": [],
   "source": [
    "import copy"
   ]
  },
  {
   "cell_type": "code",
   "execution_count": 115,
   "metadata": {
    "collapsed": true
   },
   "outputs": [],
   "source": [
    "c4_2 = copy.deepcopy(c4)"
   ]
  },
  {
   "cell_type": "code",
   "execution_count": 118,
   "metadata": {
    "collapsed": true
   },
   "outputs": [],
   "source": [
    "biggerStream[0] = c4_2"
   ]
  },
  {
   "cell_type": "code",
   "execution_count": 119,
   "metadata": {
    "collapsed": false
   },
   "outputs": [
    {
     "name": "stdout",
     "output_type": "stream",
     "text": [
      "{0.0} <music21.note.Note C>\n",
      "{2.5} <music21.note.Rest rest>\n",
      "{3.0} <music21.note.Note D>\n",
      "{3.3333} <music21.stream.Stream hellothere>\n",
      "    {0.0} <music21.note.Note C>\n",
      "    {2.5} <music21.note.Note D>\n",
      "    {2.8333} <music21.note.Note D>\n",
      "    {3.1667} <music21.note.Note D>\n"
     ]
    }
   ],
   "source": [
    "biggerStream.show('text')"
   ]
  },
  {
   "cell_type": "code",
   "execution_count": 127,
   "metadata": {
    "collapsed": false
   },
   "outputs": [],
   "source": [
    "biggerStream[2] = copy.deepcopy(triplet_note)\n"
   ]
  },
  {
   "cell_type": "code",
   "execution_count": 128,
   "metadata": {
    "collapsed": false
   },
   "outputs": [
    {
     "data": {
      "image/png": "[encoded data removed]",
      "text/plain": [
       "<music21.ipython21.objects.IPythonPNGObject at 0x110d11b90>"
      ]
     },
     "execution_count": 128,
     "metadata": {},
     "output_type": "execute_result"
    }
   ],
   "source": [
    "biggerStream.show()"
   ]
  },
  {
   "cell_type": "code",
   "execution_count": 130,
   "metadata": {
    "collapsed": false
   },
   "outputs": [
    {
     "data": {
      "image/png": "[encoded data removed]",
      "text/plain": [
       "<music21.ipython21.objects.IPythonPNGObject at 0x1228def90>"
      ]
     },
     "execution_count": 130,
     "metadata": {},
     "output_type": "execute_result"
    }
   ],
   "source": [
    "biggerStream[0:2].show()"
   ]
  },
  {
   "cell_type": "code",
   "execution_count": 131,
   "metadata": {
    "collapsed": false
   },
   "outputs": [
    {
     "name": "stdout",
     "output_type": "stream",
     "text": [
      "C in octave 4 Quarter Note 0.0\n",
      "D in octave 5 Eighth Triplet (1/3 QL) Note 0.0\n",
      "Eighth Rest 2.5\n"
     ]
    },
    {
     "ename": "AttributeError",
     "evalue": "'Stream' object has no attribute 'fullName'",
     "output_type": "error",
     "traceback": [
      "\u001b[0;31m---------------------------------------------------------------------------\u001b[0m",
      "\u001b[0;31mAttributeError\u001b[0m                            Traceback (most recent call last)",
      "\u001b[0;32m<ipython-input-131-8fdfb153fc09>\u001b[0m in \u001b[0;36m<module>\u001b[0;34m()\u001b[0m\n\u001b[1;32m      1\u001b[0m \u001b[0;32mfor\u001b[0m \u001b[0mnote\u001b[0m \u001b[0;32min\u001b[0m \u001b[0mbiggerStream\u001b[0m\u001b[0;34m:\u001b[0m\u001b[0;34m\u001b[0m\u001b[0m\n\u001b[0;32m----> 2\u001b[0;31m     \u001b[0;32mprint\u001b[0m \u001b[0mnote\u001b[0m\u001b[0;34m.\u001b[0m\u001b[0mfullName\u001b[0m\u001b[0;34m,\u001b[0m \u001b[0mnote\u001b[0m\u001b[0;34m.\u001b[0m\u001b[0moffset\u001b[0m\u001b[0;34m\u001b[0m\u001b[0m\n\u001b[0m",
      "\u001b[0;31mAttributeError\u001b[0m: 'Stream' object has no attribute 'fullName'"
     ]
    }
   ],
   "source": [
    "for note in biggerStream:\n",
    "    print note.fullName, note.offset"
   ]
  },
  {
   "cell_type": "code",
   "execution_count": 132,
   "metadata": {
    "collapsed": true
   },
   "outputs": [],
   "source": [
    "biggerStream[2].offset = 3.0"
   ]
  },
  {
   "cell_type": "code",
   "execution_count": 133,
   "metadata": {
    "collapsed": false
   },
   "outputs": [
    {
     "name": "stdout",
     "output_type": "stream",
     "text": [
      "{0.0} <music21.note.Note C>\n",
      "{0.0} <music21.note.Note D>\n",
      "{3.0} <music21.note.Rest rest>\n",
      "{3.3333} <music21.stream.Stream hellothere>\n",
      "    {0.0} <music21.note.Note C>\n",
      "    {2.5} <music21.note.Note D>\n",
      "    {2.8333} <music21.note.Note D>\n",
      "    {3.1667} <music21.note.Note D>\n"
     ]
    }
   ],
   "source": [
    "biggerStream.show('text')"
   ]
  },
  {
   "cell_type": "code",
   "execution_count": 135,
   "metadata": {
    "collapsed": false
   },
   "outputs": [
    {
     "name": "stdout",
     "output_type": "stream",
     "text": [
      "{0.0} <music21.note.Note C>\n",
      "{3.0} <music21.note.Note D>\n",
      "{3.0} <music21.note.Rest rest>\n",
      "{3.3333} <music21.stream.Stream hellothere>\n",
      "    {0.0} <music21.note.Note C>\n",
      "    {2.5} <music21.note.Note D>\n",
      "    {2.8333} <music21.note.Note D>\n",
      "    {3.1667} <music21.note.Note D>\n"
     ]
    }
   ],
   "source": [
    "biggerStream[1].offset = 3.0\n",
    "biggerStream.show('text')"
   ]
  },
  {
   "cell_type": "code",
   "execution_count": 136,
   "metadata": {
    "collapsed": true
   },
   "outputs": [],
   "source": [
    "biggerStream[1].offset=2.0"
   ]
  },
  {
   "cell_type": "code",
   "execution_count": 137,
   "metadata": {
    "collapsed": false
   },
   "outputs": [
    {
     "data": {
      "image/png": "[encoded data removed]",
      "text/plain": [
       "<music21.ipython21.objects.IPythonPNGObject at 0x110c86b90>"
      ]
     },
     "execution_count": 137,
     "metadata": {},
     "output_type": "execute_result"
    }
   ],
   "source": [
    "biggerStream.show()"
   ]
  },
  {
   "cell_type": "code",
   "execution_count": 138,
   "metadata": {
    "collapsed": true
   },
   "outputs": [],
   "source": [
    "biggerStream.show('lily.pdf')"
   ]
  },
  {
   "cell_type": "code",
   "execution_count": 59,
   "metadata": {
    "collapsed": true
   },
   "outputs": [],
   "source": [
    "import music21 as m21\n",
    "\n",
    "note1 = note.Note(\"C4\")\n",
    "note1.duration.type = 'half'\n",
    "note2 = note.Note(\"F#4\")\n",
    "note3 = note.Note(\"B-2\")\n",
    "\n",
    "stream1 = stream.Stream()\n",
    "stream1.id = 'some notes'\n",
    "stream1.append(note1)\n",
    "stream1.append(note2)\n",
    "stream1.append(note3)\n",
    "\n",
    "biggerStream = stream.Stream()\n",
    "note2 = note.Note(\"D#5\")\n",
    "biggerStream.insert(0, note2)\n",
    "biggerStream.append(stream1)"
   ]
  },
  {
   "cell_type": "code",
   "execution_count": 3,
   "metadata": {
    "collapsed": false
   },
   "outputs": [
    {
     "name": "stdout",
     "output_type": "stream",
     "text": [
      "Help on class Note in module music21.note:\n",
      "\n",
      "class Note(NotRest)\n",
      " |  One of the most important music21 classes, a Note\n",
      " |  stores a single note (that is, not a rest or an unpitched element)\n",
      " |  that can be represented by one or more notational units -- so\n",
      " |  for instance a C quarter-note and a D# eighth-tied-to-32nd are both\n",
      " |  a single Note object.\n",
      " |  \n",
      " |  \n",
      " |  A Note knows both its total duration and how to express itself as a set of\n",
      " |  tied notes of different lengths. For instance, a note of 2.5 quarters in\n",
      " |  length could be half tied to eighth or dotted quarter tied to quarter.\n",
      " |  \n",
      " |  \n",
      " |  The first argument to the Note is the pitch name (with or without\n",
      " |  octave, see the introduction to :class:`music21.pitch.Pitch`).\n",
      " |  Further arguments can be specified as keywords (such as type, dots, etc.)\n",
      " |  and are passed to the underlying :class:`music21.duration.Duration` element.\n",
      " |  \n",
      " |  \n",
      " |  Two notes are considered equal if their most important attributes\n",
      " |  (such as pitch, duration,\n",
      " |  articulations, and ornaments) are equal.  Attributes\n",
      " |  that might change based on the wider context\n",
      " |  of a note (such as offset, beams, stem direction)\n",
      " |  are not compared. This test presently does not look at lyrics in\n",
      " |  establishing equality.  It may in the future.\n",
      " |  \n",
      " |  Method resolution order:\n",
      " |      Note\n",
      " |      NotRest\n",
      " |      GeneralNote\n",
      " |      music21.base.Music21Object\n",
      " |      __builtin__.object\n",
      " |  \n",
      " |  Methods defined here:\n",
      " |  \n",
      " |  __eq__(self, other)\n",
      " |      Tests Equality. See docs under Note above\n",
      " |      (since __eq__'s docs don't display)\n",
      " |      \n",
      " |      >>> n1 = note.Note()\n",
      " |      >>> n1.pitch.name = 'G#'\n",
      " |      >>> n2 = note.Note()\n",
      " |      >>> n2.pitch.name = 'A-'\n",
      " |      >>> n3 = note.Note()\n",
      " |      >>> n3.pitch.name = 'G#'\n",
      " |      >>> n1 == n2\n",
      " |      False\n",
      " |      >>> n1 == n3\n",
      " |      True\n",
      " |      >>> n3.duration.quarterLength = 3\n",
      " |      >>> n1 == n3\n",
      " |      False\n",
      " |      \n",
      " |      >>> n1 == 5\n",
      " |      False\n",
      " |  \n",
      " |  __ge__(self, other)\n",
      " |  \n",
      " |  __gt__(self, other)\n",
      " |  \n",
      " |  __init__(self, *arguments, **keywords)\n",
      " |      # Accepts an argument for pitch\n",
      " |  \n",
      " |  __le__(self, other)\n",
      " |  \n",
      " |  __lt__(self, other)\n",
      " |      __lt__, __gt__, __le__, __ge__ all use a pitch comparison\n",
      " |      \n",
      " |      >>> highE = note.Note(\"E5\")\n",
      " |      >>> lowF = note.Note(\"F2\")\n",
      " |      >>> otherHighE = note.Note(\"E5\")\n",
      " |      \n",
      " |      >>> highE > lowF\n",
      " |      True\n",
      " |      >>> highE < lowF\n",
      " |      False\n",
      " |      >>> highE >= otherHighE\n",
      " |      True\n",
      " |      >>> highE <= otherHighE\n",
      " |      True\n",
      " |      \n",
      " |      Notice that in Python3 you cannot compare w/ ints or anything not pitched.\n",
      " |      \n",
      " |      `highE < 50`\n",
      " |      \n",
      " |      Traceback (most recent call last):\n",
      " |      TypeError: unorderable types: Note() < int()\n",
      " |  \n",
      " |  __ne__(self, other)\n",
      " |      Inequality.\n",
      " |      \n",
      " |      >>> n1 = note.Note()\n",
      " |      >>> n1.pitch.name = 'G#'\n",
      " |      >>> n2 = note.Note()\n",
      " |      >>> n2.pitch.name = 'A-'\n",
      " |      >>> n3 = note.Note()\n",
      " |      >>> n3.pitch.name = 'G#'\n",
      " |      >>> n1 != n2\n",
      " |      True\n",
      " |      >>> n1 != n3\n",
      " |      False\n",
      " |      >>> n3.duration.quarterLength = 3\n",
      " |      >>> n1 != n3\n",
      " |      True\n",
      " |  \n",
      " |  __repr__(self)\n",
      " |  \n",
      " |  transpose(self, value, inPlace=False)\n",
      " |      Transpose the Note by the user-provided \n",
      " |      value. If the value is an integer, the transposition is treated in half steps. \n",
      " |      \n",
      " |      If the value is a string, any Interval string specification can be provided.\n",
      " |      \n",
      " |      >>> a = note.Note('g4')\n",
      " |      >>> b = a.transpose('m3')\n",
      " |      >>> b\n",
      " |      <music21.note.Note B->\n",
      " |      >>> aInterval = interval.Interval(-6)\n",
      " |      >>> b = a.transpose(aInterval)\n",
      " |      >>> b\n",
      " |      <music21.note.Note C#>\n",
      " |      \n",
      " |      >>> c = b.transpose(interval.GenericInterval(2))\n",
      " |      >>> c\n",
      " |      <music21.note.Note D#>\n",
      " |      \n",
      " |      >>> a.transpose(aInterval, inPlace=True)\n",
      " |      >>> a\n",
      " |      <music21.note.Note C#>\n",
      " |      \n",
      " |      \n",
      " |      If the transposition value is an integer, take the KeySignature or Key context\n",
      " |      into account...\n",
      " |      \n",
      " |      >>> s = stream.Stream()\n",
      " |      >>> s.append(key.Key('D'))\n",
      " |      >>> s.append(note.Note('F'))\n",
      " |      >>> s.append(key.Key('b-', 'minor'))\n",
      " |      >>> s.append(note.Note('F'))\n",
      " |      >>> s.show('text')\n",
      " |      {0.0} <music21.key.Key of D major>\n",
      " |      {0.0} <music21.note.Note F>\n",
      " |      {1.0} <music21.key.Key of b- minor>\n",
      " |      {1.0} <music21.note.Note F>        \n",
      " |      >>> for n in s.notes:\n",
      " |      ...     n.transpose(1, inPlace=True)\n",
      " |      >>> s.show('text')\n",
      " |      {0.0} <music21.key.Key of D major>\n",
      " |      {0.0} <music21.note.Note F#>\n",
      " |      {1.0} <music21.key.Key of b- minor>\n",
      " |      {1.0} <music21.note.Note G->\n",
      " |  \n",
      " |  ----------------------------------------------------------------------\n",
      " |  Data descriptors defined here:\n",
      " |  \n",
      " |  accidental\n",
      " |      Return or set the :class:`~music21.pitch.Accidental` object \n",
      " |      from the :class:`~music21.pitch.Pitch` object.\n",
      " |      \n",
      " |      DEPRECATED May 2014: use n.pitch.accidental instead\n",
      " |  \n",
      " |  diatonicNoteNum\n",
      " |      Return the diatonic note number from the :class:`~music21.pitch.Pitch` object. \n",
      " |      See :attr:`~music21.pitch.Pitch.diatonicNoteNum`.\n",
      " |      \n",
      " |      Probably will be deprecated soon...\n",
      " |  \n",
      " |  frequency\n",
      " |      Return or set the frequency from \n",
      " |      the :class:`~music21.pitch.Pitch` object. \n",
      " |      \n",
      " |      See :attr:`~music21.pitch.Pitch.frequency`.\n",
      " |      \n",
      " |      DEPRECATED May 2014: use n.pitch.frequency instead\n",
      " |  \n",
      " |  fullName\n",
      " |      Return the most complete representation of this Note, \n",
      " |      providing duration and pitch information.\n",
      " |      \n",
      " |      \n",
      " |      >>> n = note.Note('A-', quarterLength=1.5)\n",
      " |      >>> n.fullName\n",
      " |      'A-flat Dotted Quarter Note'\n",
      " |      \n",
      " |      >>> n = note.Note('E~3', quarterLength=2)\n",
      " |      >>> n.fullName\n",
      " |      'E-half-sharp in octave 3 Half Note'\n",
      " |      \n",
      " |      >>> n = note.Note('D', quarterLength=.25)\n",
      " |      >>> n.microtone = 25\n",
      " |      >>> n.fullName\n",
      " |      'D (+25c) 16th Note'\n",
      " |  \n",
      " |  microtone\n",
      " |      Return or set the microtone value from the \n",
      " |      :class:`~music21.pitch.Pitch` object. \n",
      " |      \n",
      " |      See :attr:`~music21.pitch.Pitch.microtone`.\n",
      " |      \n",
      " |      DEPRECATED May 2014: use n.pitch.microtone instead\n",
      " |  \n",
      " |  midi\n",
      " |      Return or set the numerical MIDI pitch \n",
      " |      representation from the \n",
      " |      :class:`~music21.pitch.Pitch` object. \n",
      " |      \n",
      " |      See :attr:`~music21.pitch.Pitch.midi`.\n",
      " |      \n",
      " |      DEPRECATED May 2014: use n.pitch.midi instead\n",
      " |  \n",
      " |  name\n",
      " |      Return or set the pitch name from the :class:`~music21.pitch.Pitch` object.\n",
      " |      See `Pitch`'s attribute :attr:`~music21.pitch.Pitch.name`.\n",
      " |  \n",
      " |  nameWithOctave\n",
      " |      Return or set the pitch name with octave from the :class:`~music21.pitch.Pitch` object.\n",
      " |      See `Pitch`'s attribute :attr:`~music21.pitch.Pitch.nameWithOctave`.\n",
      " |  \n",
      " |  octave\n",
      " |      Return or set the octave value from the :class:`~music21.pitch.Pitch` object. \n",
      " |      See :attr:`~music21.pitch.Pitch.octave`.\n",
      " |  \n",
      " |  pitchClass\n",
      " |      Return or set the pitch class from the :class:`~music21.pitch.Pitch` object.\n",
      " |      See :attr:`music21.pitch.Pitch.pitchClass`.\n",
      " |      \n",
      " |      DEPRECATED May 2014: use n.pitch.pitchClass instead\n",
      " |  \n",
      " |  pitchClassString\n",
      " |      Return or set the pitch class string \n",
      " |      from the :class:`~music21.pitch.Pitch` \n",
      " |      object. \n",
      " |      \n",
      " |      See :attr:`~music21.pitch.Pitch.pitchClassString`.\n",
      " |      \n",
      " |      DEPRECATED May 2014: use n.pitch.pitchClassString instead\n",
      " |  \n",
      " |  pitches\n",
      " |      Return the :class:`~music21.pitch.Pitch` object in a list.\n",
      " |      This property is designed to provide an interface analogous to\n",
      " |      that found on :class:`~music21.chord.Chord`.\n",
      " |      \n",
      " |      >>> n = note.Note('g#')\n",
      " |      >>> n.nameWithOctave\n",
      " |      'G#'\n",
      " |      >>> n.pitches\n",
      " |      [<music21.pitch.Pitch G#>]\n",
      " |      >>> n.pitches = [pitch.Pitch('c2'), pitch.Pitch('g2')]\n",
      " |      >>> n.nameWithOctave\n",
      " |      'C2'\n",
      " |      >>> n.pitches\n",
      " |      [<music21.pitch.Pitch C2>]\n",
      " |  \n",
      " |  ps\n",
      " |      Return or set the numerical pitch space \n",
      " |      representation from the \n",
      " |      :class:`music21.pitch.Pitch` object. \n",
      " |      \n",
      " |      See :attr:`music21.pitch.Pitch.ps`.\n",
      " |      \n",
      " |      DEPRECATED May 2014: use n.pitch.ps instead\n",
      " |  \n",
      " |  step\n",
      " |      Return or set the pitch step from the :class:`~music21.pitch.Pitch` object. \n",
      " |      See :attr:`~music21.pitch.Pitch.step`.\n",
      " |  \n",
      " |  ----------------------------------------------------------------------\n",
      " |  Data and other attributes defined here:\n",
      " |  \n",
      " |  isNote = True\n",
      " |  \n",
      " |  isRest = False\n",
      " |  \n",
      " |  ----------------------------------------------------------------------\n",
      " |  Methods inherited from NotRest:\n",
      " |  \n",
      " |  __deepcopy__(self, memo=None)\n",
      " |      As NotRest objects have a Volume, objects, and Volume objects\n",
      " |      store weak refs to the to client object, need to specialize deep copy handling\n",
      " |      \n",
      " |      >>> import copy\n",
      " |      >>> n = note.NotRest()\n",
      " |      >>> n.volume = volume.Volume(50)\n",
      " |      >>> m = copy.deepcopy(n)\n",
      " |      >>> m.volume.client is m\n",
      " |      True\n",
      " |  \n",
      " |  __getstate__(self)\n",
      " |  \n",
      " |  __setstate__(self, state)\n",
      " |  \n",
      " |  ----------------------------------------------------------------------\n",
      " |  Data descriptors inherited from NotRest:\n",
      " |  \n",
      " |  notehead\n",
      " |      Get or set the notehead type of this NotRest object.\n",
      " |      Valid notehead type names are found in note.noteheadTypeNames (see below):\n",
      " |      \n",
      " |      \n",
      " |      >>> note.noteheadTypeNames\n",
      " |      ['arrow down', 'arrow up', 'back slashed', 'circle dot', 'circle-x', 'cluster', \n",
      " |       'cross', 'diamond', 'do', 'fa', 'inverted triangle', 'la', 'left triangle', \n",
      " |       'mi', 'none', 'normal', 're', 'rectangle', 'slash', 'slashed', 'so', \n",
      " |       'square', 'ti', 'triangle', 'x']\n",
      " |      >>> n = note.Note()\n",
      " |      >>> n.notehead = 'diamond'\n",
      " |      >>> n.notehead\n",
      " |      'diamond'\n",
      " |      \n",
      " |      >>> n.notehead = 'junk'\n",
      " |      Traceback (most recent call last):\n",
      " |      music21.note.NotRestException: not a valid notehead type name: 'junk'\n",
      " |  \n",
      " |  noteheadFill\n",
      " |      Get or set the note head fill status of this NotRest. Valid note head fill values are \n",
      " |      True, False, or None (meaning default).\n",
      " |      \n",
      " |      >>> n = note.Note()\n",
      " |      >>> n.noteheadFill = 'no'\n",
      " |      >>> n.noteheadFill\n",
      " |      False\n",
      " |      >>> n.noteheadFill = 'filled'\n",
      " |      >>> n.noteheadFill\n",
      " |      True\n",
      " |      \n",
      " |      >>> n.noteheadFill = 'jelly'\n",
      " |      Traceback (most recent call last):\n",
      " |      music21.note.NotRestException: not a valid notehead fill value: jelly\n",
      " |  \n",
      " |  noteheadParenthesis\n",
      " |      Get or set the note head parentheses for this Note/Unpitched/Chord object.\n",
      " |      \n",
      " |      >>> n = note.Note()\n",
      " |      >>> n.noteheadParenthesis\n",
      " |      False\n",
      " |      >>> n.noteheadParenthesis = True\n",
      " |      >>> n.noteheadParenthesis\n",
      " |      True\n",
      " |      \n",
      " |      'yes' or 1 equate to True; 'no' or 0 to False\n",
      " |      \n",
      " |      >>> n.noteheadParenthesis = 'no'\n",
      " |      >>> n.noteheadParenthesis\n",
      " |      False\n",
      " |      \n",
      " |      Anything else raises an exception:\n",
      " |      \n",
      " |      >>> n.noteheadParenthesis = 'blah'\n",
      " |      Traceback (most recent call last):\n",
      " |      music21.note.NotRestException: notehead parentheses must be True or False, not 'blah'\n",
      " |  \n",
      " |  stemDirection\n",
      " |      Get or set the stem direction of this NotRest object. \n",
      " |      Valid stem direction names are found in note.stemDirectionNames (see below).\n",
      " |      \n",
      " |      >>> note.stemDirectionNames\n",
      " |      ['double', 'down', 'noStem', 'none', 'unspecified', 'up']\n",
      " |      >>> n = note.Note()\n",
      " |      >>> n.stemDirection = 'noStem'\n",
      " |      >>> n.stemDirection\n",
      " |      'noStem'\n",
      " |      >>> n.stemDirection = 'junk'\n",
      " |      Traceback (most recent call last):\n",
      " |      music21.note.NotRestException: not a valid stem direction name: junk\n",
      " |  \n",
      " |  volume\n",
      " |      Get and set the :class:`~music21.volume.Volume` object of this object. \n",
      " |      Volume objects are created on demand.\n",
      " |      \n",
      " |      \n",
      " |      >>> n1 = note.Note()\n",
      " |      >>> n1.volume.velocity = 120\n",
      " |      >>> n2 = note.Note()\n",
      " |      >>> n2.volume = 80 # can directly set a velocity value\n",
      " |      >>> s = stream.Stream()\n",
      " |      >>> s.append([n1, n2])\n",
      " |      >>> [n.volume.velocity for n in s.notes]\n",
      " |      [120, 80]\n",
      " |  \n",
      " |  ----------------------------------------------------------------------\n",
      " |  Methods inherited from GeneralNote:\n",
      " |  \n",
      " |  addLyric(self, text, lyricNumber=None, applyRaw=False, lyricIdentifier=None)\n",
      " |      Adds a lyric, or an additional lyric, to a Note, Chord, or Rest's lyric list. \n",
      " |      If `lyricNumber` is not None, a specific line of lyric text can be set. The lyricIdentifier\n",
      " |      can also be set.\n",
      " |      \n",
      " |      >>> n1 = note.Note()\n",
      " |      >>> n1.addLyric(\"hello\")\n",
      " |      >>> n1.lyrics[0].text\n",
      " |      'hello'\n",
      " |      >>> n1.lyrics[0].number\n",
      " |      1\n",
      " |      \n",
      " |      \n",
      " |      An added option gives the lyric number, not the list position\n",
      " |      \n",
      " |      \n",
      " |      >>> n1.addLyric(\"bye\", 3)\n",
      " |      >>> n1.lyrics[1].text\n",
      " |      'bye'\n",
      " |      >>> n1.lyrics[1].number\n",
      " |      3\n",
      " |      >>> for lyr in n1.lyrics: print(lyr.text)\n",
      " |      hello\n",
      " |      bye\n",
      " |      \n",
      " |      \n",
      " |      Replace an existing lyric by specifying the same number:\n",
      " |      \n",
      " |      \n",
      " |      >>> n1.addLyric(\"ciao\", 3)\n",
      " |      >>> n1.lyrics[1].text\n",
      " |      'ciao'\n",
      " |      >>> n1.lyrics[1].number\n",
      " |      3\n",
      " |      \n",
      " |      \n",
      " |      Giving a lyric with a hyphen at either end will set whether it\n",
      " |      is part of a multisyllable word:\n",
      " |      \n",
      " |      \n",
      " |      >>> n1.addLyric(\"good-\")\n",
      " |      >>> n1.lyrics[2].text\n",
      " |      'good'\n",
      " |      >>> n1.lyrics[2].syllabic\n",
      " |      'begin'\n",
      " |      \n",
      " |      \n",
      " |      This feature can be overridden by specifying \"applyRaw = True\":\n",
      " |      \n",
      " |      \n",
      " |      >>> n1.addLyric(\"-5\", applyRaw = True)\n",
      " |      >>> n1.lyrics[3].text\n",
      " |      '-5'\n",
      " |      >>> n1.lyrics[3].syllabic\n",
      " |      'single'\n",
      " |  \n",
      " |  augmentOrDiminish(self, scalar, inPlace=True)\n",
      " |      Given a scalar greater than zero, return a Note with a scaled Duration. \n",
      " |      If `inPlace` is True, this is done in-place and the method returns None. \n",
      " |      If `inPlace` is False, this returns a modified deepcopy.\n",
      " |      \n",
      " |      \n",
      " |      >>> n = note.Note('g#')\n",
      " |      >>> n.quarterLength = 3\n",
      " |      >>> n.augmentOrDiminish(2)\n",
      " |      >>> n.quarterLength\n",
      " |      6.0\n",
      " |      \n",
      " |      >>> c = chord.Chord(['g#','A#','d'])\n",
      " |      >>> n.quarterLength = 2\n",
      " |      >>> n.augmentOrDiminish(.25)\n",
      " |      >>> n.quarterLength\n",
      " |      0.5\n",
      " |      \n",
      " |      >>> n = note.Note('g#')\n",
      " |      >>> n.augmentOrDiminish(-1)\n",
      " |      Traceback (most recent call last):\n",
      " |      music21.note.NoteException: scalar must be greater than zero\n",
      " |  \n",
      " |  getGrace(self, appogiatura=False, inPlace=False)\n",
      " |      Return a grace version of this GeneralNote\n",
      " |      \n",
      " |      >>> n = note.Note('G4', quarterLength=2)\n",
      " |      >>> n.duration.quarterLength\n",
      " |      2.0\n",
      " |      >>> n.duration.isGrace\n",
      " |      False\n",
      " |      >>> n.duration\n",
      " |      <music21.duration.Duration 2.0>\n",
      " |      >>> n.duration.type\n",
      " |      'half'\n",
      " |      >>> n.duration.components\n",
      " |      (DurationTuple(type='half', dots=0, quarterLength=2.0),)\n",
      " |      \n",
      " |      >>> ng = n.getGrace()\n",
      " |      >>> ng.duration.quarterLength\n",
      " |      0.0\n",
      " |      >>> ng.duration.isGrace\n",
      " |      True\n",
      " |      >>> ng.duration\n",
      " |      <music21.duration.GraceDuration unlinked type:zero quarterLength:0.0>\n",
      " |      >>> ng.duration.type\n",
      " |      'zero'\n",
      " |      >>> ng.duration.components\n",
      " |      (DurationTuple(type='half', dots=0, quarterLength=0.0),)\n",
      " |      \n",
      " |      Appogiaturas are still a work in progress...\n",
      " |      \n",
      " |      >>> ng2 = n.getGrace(appogiatura=True)\n",
      " |      >>> ng2.duration\n",
      " |      <music21.duration.AppogiaturaDuration unlinked type:zero quarterLength:0.0>\n",
      " |      >>> ng2.duration.slash\n",
      " |      False\n",
      " |      \n",
      " |      Set inPlace to True to change the duration element on the Note.  This can have\n",
      " |      negative consequences if the Note is in a stream.\n",
      " |      \n",
      " |      >>> r = note.Rest(quarterLength = .5)\n",
      " |      >>> r.getGrace(inPlace=True)\n",
      " |      >>> r.duration\n",
      " |      <music21.duration.GraceDuration unlinked type:zero quarterLength:0.0>\n",
      " |  \n",
      " |  hasLyrics(self)\n",
      " |      Return True if this object has any lyrics defined\n",
      " |      \n",
      " |      TODO: Delete: just do: ``if self.lyrics``...\n",
      " |  \n",
      " |  insertLyric(self, text, index=0, applyRaw=False, identifier=None)\n",
      " |      Inserts a lyric into the Note, Chord, or Rest's lyric list in front of\n",
      " |      the index specified (0 by default), using index + 1 as the inserted lyric's\n",
      " |      line number. shifts line numbers of all following lyrics in list\n",
      " |      \n",
      " |      \n",
      " |      >>> n1 = note.Note()\n",
      " |      >>> n1.addLyric(\"second\")\n",
      " |      >>> n1.lyrics\n",
      " |      [<music21.note.Lyric number=1 syllabic=single text=\"second\">]\n",
      " |      >>> n1.insertLyric(\"first\", 0)\n",
      " |      >>> n1.lyrics\n",
      " |      [<music21.note.Lyric number=1 syllabic=single text=\"first\">, \n",
      " |       <music21.note.Lyric number=2 syllabic=single text=\"second\">]\n",
      " |      \n",
      " |      OMIT_FROM_DOCS\n",
      " |      \n",
      " |      test inserting in the middle.\n",
      " |      \n",
      " |      >>> n1.insertLyric(\"newSecond\", 1)\n",
      " |      >>> n1.lyrics\n",
      " |      [<music21.note.Lyric number=1 syllabic=single text=\"first\">, \n",
      " |       <music21.note.Lyric number=2 syllabic=single text=\"newSecond\">, \n",
      " |       <music21.note.Lyric number=3 syllabic=single text=\"second\">]\n",
      " |  \n",
      " |  ----------------------------------------------------------------------\n",
      " |  Data descriptors inherited from GeneralNote:\n",
      " |  \n",
      " |  color\n",
      " |      Return the Note color.\n",
      " |      \n",
      " |      >>> a = note.GeneralNote()\n",
      " |      >>> a.duration.type = 'whole'\n",
      " |      >>> a.color is None\n",
      " |      True\n",
      " |      >>> a.color = '#235409'\n",
      " |      >>> a.color\n",
      " |      '#235409'\n",
      " |      >>> a.editorial.color\n",
      " |      '#235409'\n",
      " |  \n",
      " |  editorial\n",
      " |      a :class:`~music21.editorial.NoteEditorial` object that stores editorial information\n",
      " |      (comments, harmonic information, ficta) and \n",
      " |      certain display information (color, hidden-state).\n",
      " |      \n",
      " |      Created automatically as needed:\n",
      " |      \n",
      " |      >>> n = note.Note(\"C4\")\n",
      " |      >>> n.editorial\n",
      " |      <music21.editorial.NoteEditorial object at 0x...>\n",
      " |      >>> n.editorial.ficta = pitch.Accidental('sharp')\n",
      " |      >>> n.editorial.ficta\n",
      " |      <accidental sharp>\n",
      " |      \n",
      " |      OMIT_FROM_DOCS\n",
      " |      >>> n2 = note.Note(\"D4\")\n",
      " |      >>> n2._editorial is None\n",
      " |      True\n",
      " |      >>> n2.editorial\n",
      " |      <music21.editorial.NoteEditorial object at 0x...>\n",
      " |      >>> n2._editorial is None\n",
      " |      False\n",
      " |  \n",
      " |  lyric\n",
      " |      The lyric property can\n",
      " |      be used to get and set a lyric for this\n",
      " |      Note, Chord, or Rest. This is a simplified version of the more general\n",
      " |      :meth:`~music21.note.GeneralNote.addLyric` method.\n",
      " |      \n",
      " |      >>> a = note.Note('A4')\n",
      " |      >>> a.lyrics\n",
      " |      []\n",
      " |      >>> a.lyric = 'hel-'\n",
      " |      >>> a.lyric\n",
      " |      'hel'\n",
      " |      >>> a.lyrics\n",
      " |      [<music21.note.Lyric number=1 syllabic=begin text=\"hel\">]\n",
      " |      \n",
      " |      Eliminate Lyrics by setting a.lyric to None\n",
      " |      \n",
      " |      >>> a.lyric = None\n",
      " |      >>> a.lyric\n",
      " |      >>> a.lyrics\n",
      " |      []\n",
      " |      \n",
      " |      TODO: should check data here\n",
      " |      should split \\n separated lyrics into different lyrics\n",
      " |      \n",
      " |      presently only creates one lyric, and destroys any existing\n",
      " |      lyrics\n",
      " |  \n",
      " |  ----------------------------------------------------------------------\n",
      " |  Data and other attributes inherited from GeneralNote:\n",
      " |  \n",
      " |  isChord = False\n",
      " |  \n",
      " |  ----------------------------------------------------------------------\n",
      " |  Methods inherited from music21.base.Music21Object:\n",
      " |  \n",
      " |  containerHierarchy(self, followDerivation=True, includeNonStreamDerivations=False)\n",
      " |      Return a list of Stream subclasses that this object\n",
      " |      is contained within or (if followDerivation is set) is derived from. \n",
      " |      \n",
      " |      This gives access to the hierarchy that contained or\n",
      " |      created this object.\n",
      " |      \n",
      " |      >>> s = corpus.parse('bach/bwv66.6')\n",
      " |      >>> noteE = s[1][2][3]\n",
      " |      >>> noteE\n",
      " |      <music21.note.Note E>\n",
      " |      >>> [e for e in noteE.containerHierarchy()]\n",
      " |      [<music21.stream.Measure 1 offset=1.0>, \n",
      " |       <music21.stream.Part Soprano>, \n",
      " |       <music21.stream.Score 0x1049a5668>]\n",
      " |       \n",
      " |      \n",
      " |      Note that derived objects also can follow the container hierarchy:\n",
      " |      \n",
      " |      >>> import copy\n",
      " |      >>> n2 = copy.deepcopy(noteE)\n",
      " |      >>> [e for e in n2.containerHierarchy()]\n",
      " |      [<music21.stream.Measure 1 offset=1.0>, \n",
      " |       <music21.stream.Part Soprano>, \n",
      " |       <music21.stream.Score 0x1049a5668>]\n",
      " |       \n",
      " |      Unless followDerivation is False:\n",
      " |      \n",
      " |      >>> [e for e in n2.containerHierarchy(followDerivation=False)]\n",
      " |      []\n",
      " |      \n",
      " |      if includeNonStreamDerivations is True then n2's containerHierarchy will include\n",
      " |      n even though it's not a container.  It gives a good idea of how the hierarchy is being\n",
      " |      constructed.\n",
      " |      \n",
      " |      >>> [e for e in n2.containerHierarchy(includeNonStreamDerivations=True)]\n",
      " |      [<music21.note.Note E>,\n",
      " |       <music21.stream.Measure 1 offset=1.0>, \n",
      " |       <music21.stream.Part Soprano>, \n",
      " |       <music21.stream.Score 0x1049a5668>]\n",
      " |      \n",
      " |      \n",
      " |      \n",
      " |      The method follows activeSites, so set the activeSite as necessary.\n",
      " |      \n",
      " |      >>> p = stream.Part(id=\"newPart\")\n",
      " |      >>> m = stream.Measure(number=20)\n",
      " |      >>> p.insert(0, m)\n",
      " |      >>> m.insert(0, noteE)\n",
      " |      >>> noteE.activeSite\n",
      " |      <music21.stream.Measure 20 offset=0.0>\n",
      " |      >>> noteE.containerHierarchy()\n",
      " |      [<music21.stream.Measure 20 offset=0.0>, \n",
      " |       <music21.stream.Part newPart>]\n",
      " |  \n",
      " |  contextSites(self, callerFirst=None, memo=None, offsetAppend=0.0, sortByCreationTime=False, priorityTarget=None, returnSortTuples=False, followDerivation=True)\n",
      " |      A generator that returns a list of namedtuples of sites to search for a context...\n",
      " |      \n",
      " |      Each tuple contains three elements:\n",
      " |      \n",
      " |      .site --  Stream object, \n",
      " |      .offset -- the offset or position (sortTuple) of this element in that Stream\n",
      " |      .recurseType -- the method of searching that should be applied to search for a context.  \n",
      " |      \n",
      " |      The recurseType methods are:\n",
      " |      \n",
      " |          * 'flatten' -- flatten the stream and then look from this offset backwards.\n",
      " |          \n",
      " |          * 'elementsOnly' -- only search the stream's personal \n",
      " |             elements from this offset backwards\n",
      " |          \n",
      " |          * 'elementsFirst' -- search this stream backwards, \n",
      " |             and then flatten and search backwards\n",
      " |          \n",
      " |      >>> c = corpus.parse('bwv66.6')\n",
      " |      >>> c.id = 'bach'\n",
      " |      >>> n = c[2][4][2]\n",
      " |      >>> n\n",
      " |      <music21.note.Note G#>\n",
      " |      \n",
      " |      Returning sortTuples are important for distinguishing the order of multiple sites\n",
      " |      at the same offset.\n",
      " |      \n",
      " |      >>> for csTuple in n.contextSites(returnSortTuples=True):\n",
      " |      ...      yClearer = (csTuple.site, csTuple.offset.shortRepr(), csTuple.recurseType)\n",
      " |      ...      print(yClearer)\n",
      " |      (<music21.stream.Measure 3 offset=9.0>, '0.5 <0.20...>', 'elementsFirst')\n",
      " |      (<music21.stream.Part Alto>, '9.5 <0.20...>', 'flatten')\n",
      " |      (<music21.stream.Score bach>, '9.5 <0.20...>', 'elementsOnly')\n",
      " |      \n",
      " |      Streams have themselves as the first element in their context sites, at position\n",
      " |      zero and classSortOrder negative infinity. \n",
      " |      \n",
      " |      This example shows the context sites for Measure 3 of the \n",
      " |      Alto part. We will get the measure object using direct access to\n",
      " |      indices to ensure that no other temporary streams are created; normally, we would do\n",
      " |      c.parts['Alto'].measure(3).\n",
      " |      \n",
      " |      >>> m = c[2][4]\n",
      " |      >>> m\n",
      " |      <music21.stream.Measure 3 offset=9.0>\n",
      " |      >>> for csTuple in m.contextSites(returnSortTuples=True):\n",
      " |      ...      yClearer = (csTuple.site, csTuple.offset.shortRepr(), csTuple.recurseType)\n",
      " |      ...      print(yClearer)\n",
      " |      (<music21.stream.Measure 3 offset=9.0>, '0.0 <-inf.-20...>', 'elementsFirst')\n",
      " |      (<music21.stream.Part Alto>, '9.0 <0.-20...>', 'flatten')\n",
      " |      (<music21.stream.Score bach>, '9.0 <0.-20...>', 'elementsOnly')\n",
      " |      \n",
      " |      Here we make a copy of the earlier measure and we see that its contextSites\n",
      " |      follow the derivationChain from the original measure and still find the Part\n",
      " |      and Score of the original Measure 3 even though mCopy is not in any of these\n",
      " |      objects.\n",
      " |      \n",
      " |      >>> import copy\n",
      " |      >>> mCopy = copy.deepcopy(m)\n",
      " |      >>> mCopy.number = 3333\n",
      " |      >>> for csTuple in mCopy.contextSites():\n",
      " |      ...      print(csTuple, mCopy in csTuple.site)\n",
      " |      ContextTuple(site=<music21.stream.Measure 3333 offset=0.0>, \n",
      " |                   offset=0.0, \n",
      " |                   recurseType='elementsFirst') False\n",
      " |      ContextTuple(site=<music21.stream.Part Alto>, \n",
      " |                   offset=9.0, \n",
      " |                   recurseType='flatten') False\n",
      " |      ContextTuple(site=<music21.stream.Score bach>, \n",
      " |                   offset=9.0, \n",
      " |                   recurseType='elementsOnly') False\n",
      " |      \n",
      " |      If followDerivation were False, then the Part and Score would not be found.\n",
      " |      \n",
      " |      >>> for csTuple in mCopy.contextSites(followDerivation=False):\n",
      " |      ...     print(csTuple)\n",
      " |      ContextTuple(site=<music21.stream.Measure 3333 offset=0.0>, \n",
      " |                   offset=0.0, \n",
      " |                   recurseType='elementsFirst')\n",
      " |      \n",
      " |      \n",
      " |      >>> partIterator = c.parts\n",
      " |      >>> m3 = partIterator[1].measure(3)\n",
      " |      >>> for csTuple in m3.contextSites():\n",
      " |      ...      print(csTuple)\n",
      " |      ContextTuple(site=<music21.stream.Measure 3 offset=9.0>, \n",
      " |                   offset=0.0, \n",
      " |                   recurseType='elementsFirst')\n",
      " |      ContextTuple(site=<music21.stream.Part Alto>,\n",
      " |                   offset=9.0, \n",
      " |                   recurseType='flatten')\n",
      " |      ContextTuple(site=<music21.stream.Score bach>, \n",
      " |                   offset=9.0, \n",
      " |                   recurseType='elementsOnly')\n",
      " |      \n",
      " |      \n",
      " |      \n",
      " |      Sorting order:\n",
      " |      \n",
      " |      >>> p1 = stream.Part()\n",
      " |      >>> p1.id = 'p1'\n",
      " |      >>> m1 = stream.Measure()\n",
      " |      >>> m1.number = 1\n",
      " |      >>> n = note.Note()\n",
      " |      >>> m1.append(n)\n",
      " |      >>> p1.append(m1)\n",
      " |      >>> for csTuple in n.contextSites():\n",
      " |      ...     print(csTuple.site)\n",
      " |      <music21.stream.Measure 1 offset=0.0>\n",
      " |      <music21.stream.Part p1>\n",
      " |      \n",
      " |      >>> p2 = stream.Part()\n",
      " |      >>> p2.id = 'p2'\n",
      " |      >>> m2 = stream.Measure()\n",
      " |      >>> m2.number = 2\n",
      " |      >>> m2.append(n)\n",
      " |      >>> p2.append(m2)\n",
      " |      \n",
      " |      \n",
      " |      The keys could have appeared in any order, but by default\n",
      " |      we set set priorityTarget to activeSite.  So this is the same as omitting.\n",
      " |      \n",
      " |      >>> for y in n.contextSites(priorityTarget=n.activeSite):\n",
      " |      ...     print(y[0])\n",
      " |      <music21.stream.Measure 2 offset=0.0>\n",
      " |      <music21.stream.Part p2>\n",
      " |      <music21.stream.Measure 1 offset=0.0>\n",
      " |      <music21.stream.Part p1>\n",
      " |      \n",
      " |      We can sort sites by creationTime...\n",
      " |      \n",
      " |      >>> for csTuple in n.contextSites(sortByCreationTime=True):\n",
      " |      ...     print(csTuple.site)\n",
      " |      <music21.stream.Measure 2 offset=0.0>\n",
      " |      <music21.stream.Part p2>\n",
      " |      <music21.stream.Measure 1 offset=0.0>\n",
      " |      <music21.stream.Part p1>\n",
      " |      \n",
      " |      oldest first...\n",
      " |      \n",
      " |      >>> for csTuple in n.contextSites(sortByCreationTime='reverse'):\n",
      " |      ...     print(csTuple.site)\n",
      " |      <music21.stream.Measure 1 offset=0.0>\n",
      " |      <music21.stream.Part p1>\n",
      " |      <music21.stream.Measure 2 offset=0.0>\n",
      " |      <music21.stream.Part p2>       \n",
      " |      \n",
      " |      *removed in v3: priorityTarget cannot be set, in order to use .sites.yieldSites()*\n",
      " |  \n",
      " |  getAllContextsByClass(self, className)\n",
      " |      Returns a generator that yields elements found by `.getContextByClass` and\n",
      " |      then finds the previous contexts for that element.\n",
      " |      \n",
      " |      >>> s = stream.Stream()\n",
      " |      >>> s.append(meter.TimeSignature('2/4'))\n",
      " |      >>> s.append(note.Note('C'))\n",
      " |      >>> s.append(meter.TimeSignature('3/4'))\n",
      " |      >>> n = note.Note('D')\n",
      " |      >>> s.append(n)\n",
      " |      \n",
      " |      \n",
      " |      for ts in n.getAllContextsByClass('TimeSignature'):\n",
      " |      ...     print(ts, ts.offset)\n",
      " |      <music21.meter.TimeSignature 3/4> 1.0\n",
      " |      <music21.meter.TimeSignature 2/4> 0.0\n",
      " |      \n",
      " |      TODO: make it so that it does not skip over multiple matching classes\n",
      " |      at the same offset.\n",
      " |  \n",
      " |  getContextByClass(self, className, getElementMethod='getElementAtOrBefore', sortByCreationTime=False)\n",
      " |      A very powerful method in music21 of fundamental importance: Returns\n",
      " |      the element matching the className that is closest to this element in\n",
      " |      its current hierarchy.  For instance, take this stream of changing time\n",
      " |      signatures:\n",
      " |      \n",
      " |      >>> p = converter.parse('tinynotation: 3/4 C4 D E 2/4 F G A B 1/4 c')\n",
      " |      >>> p\n",
      " |      <music21.stream.Part 0x104ce64e0>\n",
      " |      \n",
      " |      >>> p.show('t')\n",
      " |      {0.0} <music21.stream.Measure 1 offset=0.0>\n",
      " |          {0.0} <music21.clef.BassClef>\n",
      " |          {0.0} <music21.meter.TimeSignature 3/4>\n",
      " |          {0.0} <music21.note.Note C>\n",
      " |          {1.0} <music21.note.Note D>\n",
      " |          {2.0} <music21.note.Note E>\n",
      " |      {3.0} <music21.stream.Measure 2 offset=3.0>\n",
      " |          {0.0} <music21.meter.TimeSignature 2/4>\n",
      " |          {0.0} <music21.note.Note F>\n",
      " |          {1.0} <music21.note.Note G>\n",
      " |      {5.0} <music21.stream.Measure 3 offset=5.0>\n",
      " |          {0.0} <music21.note.Note A>\n",
      " |          {1.0} <music21.note.Note B>\n",
      " |      {7.0} <music21.stream.Measure 4 offset=7.0>\n",
      " |          {0.0} <music21.meter.TimeSignature 1/4>\n",
      " |          {0.0} <music21.note.Note C>\n",
      " |          {1.0} <music21.bar.Barline style=final>\n",
      " |      \n",
      " |      Let's get the last two notes of the piece, the B and high c:\n",
      " |      \n",
      " |      >>> c = p.measure(4).notes[0]\n",
      " |      >>> c\n",
      " |      <music21.note.Note C>\n",
      " |      \n",
      " |      >>> b = p.measure(3).notes[-1]\n",
      " |      >>> b\n",
      " |      <music21.note.Note B>\n",
      " |      \n",
      " |      Now when we run `getContextByClass('TimeSignature')` on c, we get a\n",
      " |      time signature of 1/4.\n",
      " |      \n",
      " |      >>> c.getContextByClass('TimeSignature')\n",
      " |      <music21.meter.TimeSignature 1/4>\n",
      " |      \n",
      " |      Doing what we just did wouldn't be hard to do with other methods,\n",
      " |      though `getContextByClass` makes it easier.  But the time signature\n",
      " |      context for b would be much harder to get without this method, since in\n",
      " |      order to do it, it searches backwards within the measure, finds that\n",
      " |      there's nothing there.  It goes to the previous measure and searches\n",
      " |      that one backwards until it gets the proper TimeSignature of 2/4:\n",
      " |      \n",
      " |      >>> b.getContextByClass('TimeSignature')\n",
      " |      <music21.meter.TimeSignature 2/4>\n",
      " |      \n",
      " |      The method is smart enough to stop when it gets to the beginning of the\n",
      " |      part.  This is all you need to know for most uses.  The rest of the\n",
      " |      docs are for advanced uses:\n",
      " |      \n",
      " |      The methods searches both Sites as well as associated objects to find a\n",
      " |      matching class. Returns None if not match is found.\n",
      " |      \n",
      " |      A reference to the caller is required to find the offset of the object\n",
      " |      of the caller.\n",
      " |      \n",
      " |      The caller may be a Sites reference from a lower-level object.  If so,\n",
      " |      we can access the location of that lower-level object. However, if we\n",
      " |      need a flat representation, the caller needs to be the source Stream,\n",
      " |      not its Sites reference.\n",
      " |      \n",
      " |      The `getElementMethod` is a string that selects which Stream method is\n",
      " |      used to get elements for searching. These strings are accepted:\n",
      " |      \n",
      " |      *    'getElementBefore'\n",
      " |      *    'getElementAfter'\n",
      " |      *    'getElementAtOrBefore' (Default)\n",
      " |      *    'getElementAtOrAfter'\n",
      " |      \n",
      " |      The \"after\" do forward contexts -- looking ahead.\n",
      " |              \n",
      " |      OMIT_FROM_DOCS\n",
      " |      \n",
      " |      >>> a = b.getContextByClass('Note', 'getElementBefore')\n",
      " |      >>> a\n",
      " |      <music21.note.Note A>\n",
      " |      >>> c = b.getContextByClass('Note', 'getElementAfter')\n",
      " |      >>> c\n",
      " |      <music21.note.Note C>\n",
      " |      \n",
      " |      >>> s = corpus.parse('bwv66.6')\n",
      " |      >>> noteA = s[1][2][0]\n",
      " |      >>> noteA.getContextByClass('TimeSignature')\n",
      " |      <music21.meter.TimeSignature 4/4>\n",
      " |  \n",
      " |  getOffsetBySite(self, site, stringReturns=False)\n",
      " |      If this class has been registered in a container such as a Stream,\n",
      " |      that container can be provided here, and the offset in that object\n",
      " |      can be returned.\n",
      " |      \n",
      " |      >>> n = note.Note('A-4')  # a Music21Objecct\n",
      " |      >>> n.offset = 30\n",
      " |      >>> n.getOffsetBySite(None)\n",
      " |      30.0\n",
      " |      \n",
      " |      >>> s1 = stream.Stream()\n",
      " |      >>> s1.id = 'containingStream'\n",
      " |      >>> s1.insert(20.0/3, n)\n",
      " |      >>> n.getOffsetBySite(s1)\n",
      " |      Fraction(20, 3)\n",
      " |      >>> float(n.getOffsetBySite(s1))\n",
      " |      6.6666...\n",
      " |      \n",
      " |      n.getOffsetBySite(None) should still return 30.0\n",
      " |      \n",
      " |      >>> n.getOffsetBySite(None)\n",
      " |      30.0\n",
      " |      \n",
      " |      If the Stream does not contain the element and the element is not derived from\n",
      " |      an element that does, then a SitesException is raised:\n",
      " |      \n",
      " |      >>> s2 = stream.Stream()\n",
      " |      >>> s2.id = 'notContainingStream'\n",
      " |      >>> n.getOffsetBySite(s2)\n",
      " |      Traceback (most recent call last):\n",
      " |      music21.sites.SitesException: an entry for this object <music21.note.Note A-> is not \n",
      " |            stored in stream <music21.stream.Stream notContainingStream>\n",
      " |      \n",
      " |      Consider this use of derivations:\n",
      " |      \n",
      " |      >>> import copy\n",
      " |      >>> nCopy = copy.deepcopy(n)\n",
      " |      >>> nCopy.derivation\n",
      " |      <Derivation of <music21.note.Note A-> from <music21.note.Note A-> via \"__deepcopy__\">\n",
      " |      >>> nCopy.getOffsetBySite(s1)\n",
      " |      Fraction(20, 3)\n",
      " |      \n",
      " |      TADA! This is the primary difference between element.getOffsetBySite(stream)\n",
      " |      and stream.elementOffset(element)\n",
      " |      \n",
      " |      >>> s1.elementOffset(nCopy)\n",
      " |      Traceback (most recent call last):\n",
      " |      music21.sites.SitesException: an entry for this object ... is not \n",
      " |          stored in stream <music21.stream.Stream containingStream>\n",
      " |      \n",
      " |      \n",
      " |      If the object is stored at the end of the Stream, then the highest time \n",
      " |      is usually returned:\n",
      " |      \n",
      " |      >>> s3 = stream.Stream()\n",
      " |      >>> n3 = note.Note(type='whole')\n",
      " |      >>> s3.append(n3)\n",
      " |      >>> rb = bar.Barline()\n",
      " |      >>> s3.storeAtEnd(rb)  # s3.rightBarline = rb would do the same...\n",
      " |      >>> rb.getOffsetBySite(s3)\n",
      " |      4.0\n",
      " |      \n",
      " |      However, setting stringReturns to True will return 'highestTime'\n",
      " |      \n",
      " |      >>> rb.getOffsetBySite(s3, stringReturns=True)\n",
      " |      'highestTime'\n",
      " |      \n",
      " |      Even with stringReturns normal offsets are still returned as a float or Fraction:\n",
      " |      \n",
      " |      >>> n3.getOffsetBySite(s3, stringReturns=True)\n",
      " |      0.0\n",
      " |  \n",
      " |  getOffsetInHierarchy(self, site)\n",
      " |      For an element which may not be in site, but might be in a Stream in site (or further\n",
      " |      in streams), find the cumulative offset of the element in that site.\n",
      " |      \n",
      " |      >>> s = stream.Score(id=\"mainScore\")\n",
      " |      >>> p = stream.Part()\n",
      " |      >>> m = stream.Measure()\n",
      " |      >>> n = note.Note()\n",
      " |      >>> m.insert(5.0, n)\n",
      " |      >>> p.insert(10.0, m)\n",
      " |      >>> s.insert(0.0, p)\n",
      " |      >>> n.getOffsetInHierarchy(s)\n",
      " |      15.0\n",
      " |      \n",
      " |      If no hierarchy beginning with site contains the element and the element is not derived from\n",
      " |      an element that does, then a SitesException is raised:\n",
      " |      \n",
      " |      >>> s2 = stream.Score(id=\"otherScore\")\n",
      " |      >>> n.getOffsetInHierarchy(s2)\n",
      " |      Traceback (most recent call last):\n",
      " |      music21.sites.SitesException: Element <music21.note.Note C> \n",
      " |          is not in hierarchy of <music21.stream.Score otherScore>\n",
      " |      \n",
      " |      But if the element is derived from an element in a hierarchy then it can get the offset:\n",
      " |      \n",
      " |      >>> n2 = n.transpose('P5')\n",
      " |      >>> n2.derivation.origin is n\n",
      " |      True\n",
      " |      >>> n2.derivation.method\n",
      " |      'transpose'\n",
      " |      >>> n2.getOffsetInHierarchy(s)\n",
      " |      15.0\n",
      " |      \n",
      " |      There is no corresponding `.setOffsetInHierarchy()` since it's unclear what that would mean.\n",
      " |      \n",
      " |      *new in v.3*\n",
      " |      \n",
      " |      OMIT_FROM_DOCS\n",
      " |      \n",
      " |      Timing: 113microseconds for a search.  vs 1 microsecond for elementOffset vs .4 for\n",
      " |      elementOffset.  Hence the short-circuit for easy looking below...\n",
      " |      \n",
      " |      TODO: If timing permits, replace .flat and .semiFlat with this routine.\n",
      " |      Currently not possible; b = bwv66.6\n",
      " |      \n",
      " |      %timeit b = corpus.parse('bwv66.6') -- 24.8ms\n",
      " |      %timeit b = corpus.parse('bwv66.6'); b.flat -- 42.9ms\n",
      " |      %timeit b = corpus.parse('bwv66.6'); b.recurse().stream() -- 83.1ms\n",
      " |  \n",
      " |  getSpannerSites(self, spannerClassList=None)\n",
      " |      Return a list of all :class:`~music21.spanner.Spanner` objects\n",
      " |      (or Spanner subclasses) that contain\n",
      " |      this element. This method provides a way for\n",
      " |      objects to be aware of what Spanners they\n",
      " |      reside in. Note that Spanners are not Streams\n",
      " |      but specialized Music21Objects that use a\n",
      " |      Stream subclass, SpannerStorage, internally to keep track\n",
      " |      of the elements that are spanned.\n",
      " |      \n",
      " |      >>> n1 = note.Note('C4')\n",
      " |      >>> n2 = note.Note('D4')\n",
      " |      >>> sp1 = spanner.Slur(n1, n2)\n",
      " |      >>> n1.getSpannerSites() == [sp1]\n",
      " |      True\n",
      " |      \n",
      " |      Note that not all Spanners are in the spanner module. They\n",
      " |      tend to reside in modules closer to their musical function:\n",
      " |      \n",
      " |      >>> sp2 = dynamics.Crescendo(n2, n1)\n",
      " |      \n",
      " |      The order that Spanners are returned is usually the order they\n",
      " |      were created, but on fast computers there can be ties, so use\n",
      " |      a set comparison if you expect multiple:\n",
      " |      \n",
      " |      >>> set(n2.getSpannerSites()) == set([sp1, sp2])\n",
      " |      True\n",
      " |      \n",
      " |      Optionally a class name or list of class names can be\n",
      " |      specified and only Spanners of that class will be returned\n",
      " |      \n",
      " |      >>> sp3 = dynamics.Diminuendo(n1, n2)\n",
      " |      >>> n2.getSpannerSites('Diminuendo') == [sp3]\n",
      " |      True\n",
      " |      \n",
      " |      A larger class name can be used to get all subclasses:\n",
      " |      \n",
      " |      >>> set(n2.getSpannerSites('DynamicWedge')) == set([sp2, sp3])\n",
      " |      True\n",
      " |      >>> set(n2.getSpannerSites(['Slur','Diminuendo'])) == set([sp1, sp3])\n",
      " |      True\n",
      " |      \n",
      " |      \n",
      " |      >>> set(n2.getSpannerSites(['Slur','Diminuendo'])) == set([sp3, sp1])\n",
      " |      True\n",
      " |      \n",
      " |      \n",
      " |      Example: see which pairs of notes are in the same slur.\n",
      " |      \n",
      " |      >>> n3 = note.Note('E4')\n",
      " |      >>> sp4 = spanner.Slur(n1, n3)\n",
      " |      \n",
      " |      >>> for n in [n1, n2, n3]:\n",
      " |      ...    for nOther in [n1, n2, n3]:\n",
      " |      ...        if n is nOther:\n",
      " |      ...            continue\n",
      " |      ...        nSlurs = n.getSpannerSites('Slur')\n",
      " |      ...        nOtherSlurs = nOther.getSpannerSites('Slur')\n",
      " |      ...        for thisSlur in nSlurs:\n",
      " |      ...            if thisSlur in nOtherSlurs:\n",
      " |      ...               print(\"%s shares a slur with %s\" % (n.name, nOther.name))\n",
      " |      C shares a slur with D\n",
      " |      C shares a slur with E\n",
      " |      D shares a slur with C\n",
      " |      E shares a slur with C\n",
      " |      \n",
      " |      :rtype: list(spanner.Spanner)\n",
      " |  \n",
      " |  informSites(self, changedInformation=None)\n",
      " |      trigger called whenever sites need to be informed of a change\n",
      " |      in the parameters of this object.\n",
      " |      \n",
      " |      `changedInformation` is not used now, but it can be a dictionary\n",
      " |      of what has changed.\n",
      " |      \n",
      " |      subclass this to do very interesting things.\n",
      " |  \n",
      " |  isClassOrSubclass(self, classFilterList)\n",
      " |      Given a class filter list (a list or tuple must be submitted),\n",
      " |      which may have strings or class objects, determine\n",
      " |      if this class is of the provided classes or a subclasses.\n",
      " |      \n",
      " |      NOTE: this is a performance critical operation\n",
      " |      for performance, only accept lists or tuples\n",
      " |      \n",
      " |      >>> n = note.Note()\n",
      " |      >>> n.isClassOrSubclass(('Note',))\n",
      " |      True\n",
      " |      >>> n.isClassOrSubclass(('GeneralNote',))\n",
      " |      True\n",
      " |      >>> n.isClassOrSubclass((note.Note,))\n",
      " |      True\n",
      " |      >>> n.isClassOrSubclass((note.Rest,))\n",
      " |      False\n",
      " |      >>> n.isClassOrSubclass((note.Note,note.Rest))\n",
      " |      True\n",
      " |      >>> n.isClassOrSubclass(('Rest','Note'))\n",
      " |      True\n",
      " |  \n",
      " |  mergeAttributes(self, other)\n",
      " |      Merge all elementary, static attributes. Namely,\n",
      " |      `id` and `groups` attributes from another music21 object.\n",
      " |      Can be useful for copy-like operations.\n",
      " |      \n",
      " |      >>> m1 = base.Music21Object()\n",
      " |      >>> m2 = base.Music21Object()\n",
      " |      >>> m1.id = 'music21Object1'\n",
      " |      >>> m1.groups.append(\"group1\")\n",
      " |      >>> m2.mergeAttributes(m1)\n",
      " |      >>> m2.id\n",
      " |      'music21Object1'\n",
      " |      >>> \"group1\" in m2.groups\n",
      " |      True\n",
      " |  \n",
      " |  next(self, className=None)\n",
      " |      Get the next element found in the activeSite (or other Sites)\n",
      " |      of this Music21Object.\n",
      " |      \n",
      " |      The `className` can be used to specify one or more classes to match.\n",
      " |      \n",
      " |      >>> s = corpus.parse('bwv66.6')\n",
      " |      >>> m3 = s.parts[0].measure(3)\n",
      " |      >>> m4 = s.parts[0].measure(4)\n",
      " |      >>> m3\n",
      " |      <music21.stream.Measure 3 offset=9.0>\n",
      " |      >>> m3.show('t')\n",
      " |      {0.0} <music21.layout.SystemLayout>\n",
      " |      {0.0} <music21.note.Note A>\n",
      " |      {0.5} <music21.note.Note B>\n",
      " |      {1.0} <music21.note.Note G#>\n",
      " |      {2.0} <music21.note.Note F#>\n",
      " |      {3.0} <music21.note.Note A>\n",
      " |      >>> m3.next()\n",
      " |      <music21.layout.SystemLayout>\n",
      " |      >>> nextM3 = m3.next('Measure')\n",
      " |      >>> nextM3 is m4\n",
      " |      True\n",
      " |      \n",
      " |      Note that calling next() repeatedly gives...the same object.  You'll want to\n",
      " |      call next on that object...\n",
      " |      \n",
      " |      >>> m3.next('Measure') is s.parts[0].measure(4)\n",
      " |      True\n",
      " |      >>> m3.next('Measure') is s.parts[0].measure(4)\n",
      " |      True\n",
      " |      \n",
      " |      So do this instead:\n",
      " |      \n",
      " |      >>> o = m3\n",
      " |      >>> for i in range(5):\n",
      " |      ...     print(o)\n",
      " |      ...     o = o.next('Measure')\n",
      " |      <music21.stream.Measure 3 offset=9.0>\n",
      " |      <music21.stream.Measure 4 offset=13.0>\n",
      " |      <music21.stream.Measure 5 offset=17.0>\n",
      " |      <music21.stream.Measure 6 offset=21.0>        \n",
      " |      <music21.stream.Measure 7 offset=25.0>        \n",
      " |      \n",
      " |      \n",
      " |      We can find the next element given a certain class with the `classFilterList`:\n",
      " |      \n",
      " |      >>> n = m3.next('Note')\n",
      " |      >>> n\n",
      " |      <music21.note.Note A>\n",
      " |      >>> n.measureNumber\n",
      " |      3\n",
      " |      >>> n is m3.notes[0]\n",
      " |      True\n",
      " |      >>> n.next()\n",
      " |      <music21.note.Note B>\n",
      " |      \n",
      " |      \n",
      " |      ..note::\n",
      " |      \n",
      " |          There may be some unusual cases of using obj.next() in Python2 if obj\n",
      " |          uses itself as an Iterator, because Py2 assumes that each iterable has\n",
      " |          a .next() function.  In Python3 there will be no problem since the\n",
      " |          `next()` function is renamed to `__next__()`.\n",
      " |      \n",
      " |      Notice though that when we get to the end of the set of measures, something\n",
      " |      interesting happens (maybe it shouldn't? don't count on this...): we descend\n",
      " |      into the last measure and give its elements instead.\n",
      " |      \n",
      " |      We'll leave o where it is (m8 now) to demonstrate what happens, and also\n",
      " |      print its Part for more information...\n",
      " |      \n",
      " |      >>> while o is not None:\n",
      " |      ...     print(o, o.getContextByClass('Part'))\n",
      " |      ...     o = o.next()\n",
      " |      <music21.stream.Measure 8 offset=29.0> <music21.stream.Part Soprano>\n",
      " |      <music21.note.Note F#> <music21.stream.Part Soprano>\n",
      " |      <music21.note.Note F#> <music21.stream.Part Soprano>\n",
      " |      <music21.note.Note F#> <music21.stream.Part Soprano>\n",
      " |      <music21.stream.Measure 9 offset=33.0> <music21.stream.Part Soprano>\n",
      " |      <music21.note.Note F#> <music21.stream.Part Soprano>\n",
      " |      <music21.note.Note F#> <music21.stream.Part Soprano>\n",
      " |      <music21.note.Note E#> <music21.stream.Part Soprano>\n",
      " |      <music21.note.Note F#> <music21.stream.Part Soprano>\n",
      " |      <music21.bar.Barline style=final> <music21.stream.Part Soprano>\n",
      " |  \n",
      " |  previous(self, className=None)\n",
      " |      Get the previous element found in the activeSite or other .sites of this\n",
      " |      Music21Object.\n",
      " |      \n",
      " |      The `classFilterList` can be used to specify one or more classes to match.\n",
      " |      \n",
      " |      The `flattenLocalSites` parameter determines if the sites of this element \n",
      " |      (e.g., a Measure's Part) are flattened on first search. When True, elements \n",
      " |      contained in adjacent containers may be selected first.\n",
      " |      \n",
      " |      >>> s = corpus.parse('bwv66.6')\n",
      " |      >>> m2 = s.parts[0].iter.getElementsByClass('Measure')[2] # pickup measure\n",
      " |      >>> m3 = s.parts[0].iter.getElementsByClass('Measure')[3]\n",
      " |      >>> m3\n",
      " |      <music21.stream.Measure 3 offset=9.0>\n",
      " |      >>> m3prev = m3.previous() \n",
      " |      >>> m3prev\n",
      " |      <music21.note.Note C#>\n",
      " |      >>> m3prev is m2.notes[-1]\n",
      " |      True\n",
      " |      >>> m3.previous('Measure') is m2\n",
      " |      True        \n",
      " |      \n",
      " |      We'll iterate backwards from the first note of the second measure of the Alto part.\n",
      " |      \n",
      " |      >>> o = s.parts[1].iter.getElementsByClass('Measure')[2][0]\n",
      " |      >>> while o:\n",
      " |      ...    print(o)\n",
      " |      ...    o = o.previous()\n",
      " |      <music21.note.Note E>\n",
      " |      <music21.stream.Measure 2 offset=5.0>\n",
      " |      <music21.note.Note E>\n",
      " |      <music21.note.Note E>\n",
      " |      <music21.note.Note E>\n",
      " |      <music21.note.Note F#>\n",
      " |      <music21.stream.Measure 1 offset=1.0>\n",
      " |      <music21.note.Note E>\n",
      " |      <music21.meter.TimeSignature 4/4>\n",
      " |      f# minor\n",
      " |      <music21.clef.TrebleClef>\n",
      " |      <music21.stream.Measure 0 offset=0.0>\n",
      " |      P2: Alto: Instrument 2\n",
      " |      <music21.stream.Part Alto>\n",
      " |      <music21.stream.Part Soprano>\n",
      " |      <music21.metadata.Metadata object at 0x11116d080>\n",
      " |      <music21.stream.Score 0x10513af98>\n",
      " |  \n",
      " |  purgeLocations(self, rescanIsDead=False)\n",
      " |      Remove references to all locations in objects that no longer exist.\n",
      " |  \n",
      " |  purgeOrphans(self, excludeStorageStreams=True)\n",
      " |      A Music21Object may, due to deep copying or other reasons,\n",
      " |      have contain a site (with an offset); yet, that site may\n",
      " |      no longer contain the Music21Object. These lingering sites\n",
      " |      are called orphans. This methods gets rid of them.\n",
      " |      \n",
      " |      The `excludeStorageStreams` are SpannerStorage and VariantStorage.\n",
      " |  \n",
      " |  setOffsetBySite(self, site, value)\n",
      " |      Change the offset for a site.  These are equivalent:\n",
      " |      \n",
      " |          n1.setOffsetBySite(stream1, 20)\n",
      " |          \n",
      " |      and\n",
      " |      \n",
      " |          stream1.setElementOffset(n1, 20)\n",
      " |      \n",
      " |      >>> import music21\n",
      " |      >>> aSite = stream.Stream()\n",
      " |      >>> a = music21.Music21Object()\n",
      " |      >>> a.sites.add(aSite)\n",
      " |      >>> aSite.setElementOffset(a, 20)\n",
      " |      >>> a.setOffsetBySite(aSite, 30)\n",
      " |      >>> a.getOffsetBySite(aSite)\n",
      " |      30.0\n",
      " |      \n",
      " |      And if it isn't there? Nothing changes.\n",
      " |      \n",
      " |      >>> b = note.Note()\n",
      " |      >>> b.setOffsetBySite(aSite, 40)\n",
      " |      >>> b.offset\n",
      " |      0.0\n",
      " |  \n",
      " |  show(self, fmt=None, app=None, **keywords)\n",
      " |      Displays an object in a format provided by the\n",
      " |      fmt argument or, if not provided, the format set in the user's Environment\n",
      " |      \n",
      " |      Valid formats include (but are not limited to)::\n",
      " |          musicxml\n",
      " |          text\n",
      " |          midi\n",
      " |          lily (or lilypond)\n",
      " |          lily.png\n",
      " |          lily.pdf\n",
      " |          lily.svg\n",
      " |          braille\n",
      " |          vexflow\n",
      " |          musicxml.png\n",
      " |      \n",
      " |      N.B. score.write('lily') returns a bare lilypond file,\n",
      " |      score.show('lily') runs it through lilypond and displays it as a png.\n",
      " |  \n",
      " |  sortTuple(self, useSite=False, raiseExceptionOnMiss=False)\n",
      " |      Returns a collections.namedtuple called SortTuple(atEnd, offset, priority, classSortOrder,\n",
      " |      isNotGrace, insertIndex)\n",
      " |      which contains the six elements necessary to determine the sort order of any set of\n",
      " |      objects in a Stream.\n",
      " |      \n",
      " |      1) atEnd = {0, 1}; Elements specified to always stay at \n",
      " |      the end of a stream (``stream.storeAtEnd``)\n",
      " |      sort after normal elements.\n",
      " |      \n",
      " |      2) offset = float; Offset (with respect to the active site) is the next and most\n",
      " |      important parameter in determining the order of elements in a stream (the note on beat 1\n",
      " |      has offset 0.0, while the note on beat 2 might have offset 1.0).\n",
      " |      \n",
      " |      3) priority = int; Priority is a\n",
      " |      user-specified property (default 0) that can set the order of \n",
      " |      elements which have the same\n",
      " |      offset (for instance, two Parts both at offset 0.0).\n",
      " |      \n",
      " |      4) classSortOrder = int or float; ClassSortOrder\n",
      " |      is the third level of comparison that gives an ordering to elements with different classes,\n",
      " |      ensuring, for instance that Clefs (classSortOrder = 0) sort before Notes \n",
      " |      (classSortOrder = 20).\n",
      " |      \n",
      " |      5) isNotGrace = {0, 1}; 0 = grace, 1 = normal. Grace notes sort before normal notes\n",
      " |      \n",
      " |      6) The last tie breaker is the creation time (insertIndex) of the site object\n",
      " |      represented by the activeSite.\n",
      " |      \n",
      " |      >>> n = note.Note()\n",
      " |      >>> n.offset = 4.0\n",
      " |      >>> n.priority = -3\n",
      " |      >>> n.sortTuple()\n",
      " |      SortTuple(atEnd=0, offset=4.0, priority=-3, classSortOrder=20, \n",
      " |                  isNotGrace=1, insertIndex=0)\n",
      " |                  \n",
      " |      >>> st = n.sortTuple()\n",
      " |      \n",
      " |      Check that all these values are the same as above...\n",
      " |      \n",
      " |      >>> st.offset == n.offset\n",
      " |      True\n",
      " |      >>> st.priority == n.priority\n",
      " |      True\n",
      " |      \n",
      " |      An object's classSortOrder comes from the Class object itself:\n",
      " |      \n",
      " |      >>> st.classSortOrder == note.Note.classSortOrder\n",
      " |      True\n",
      " |      \n",
      " |      SortTuples have a few methods that are documented in :class:`~music21.sorting.SortTuple`.\n",
      " |      The most useful one for documenting is `.shortRepr()`.\n",
      " |      \n",
      " |      >>> st.shortRepr()\n",
      " |      '4.0 <-3.20.0>'\n",
      " |      \n",
      " |      Inserting the note into the Stream will set the insertIndex.  Most implementations of\n",
      " |      music21 will use a global counter rather than an actual timer.  Note that this is a\n",
      " |      last resort, but useful for things such as mutiple Parts inserted in order.  It changes\n",
      " |      with each run, so we can't display it here...\n",
      " |      \n",
      " |      >>> s = stream.Stream()\n",
      " |      >>> s.insert(n)\n",
      " |      >>> n.sortTuple()\n",
      " |      SortTuple(atEnd=0, offset=4.0, priority=-3, classSortOrder=20,\n",
      " |                   isNotGrace=1, insertIndex=...)\n",
      " |                   \n",
      " |      >>> nInsertIndex = n.sortTuple().insertIndex\n",
      " |      \n",
      " |      If we create another nearly identical note, the insertIndex will be different:\n",
      " |      \n",
      " |      >>> n2 = note.Note()\n",
      " |      >>> n2.offset = 4.0\n",
      " |      >>> n2.priority = -3\n",
      " |      >>> s.insert(n2)\n",
      " |      >>> n2InsertIndex = n2.sortTuple().insertIndex\n",
      " |      >>> n2InsertIndex > nInsertIndex\n",
      " |      True\n",
      " |      \n",
      " |      >>> rb = bar.Barline()\n",
      " |      >>> s.storeAtEnd(rb)\n",
      " |      >>> rb.sortTuple()\n",
      " |      SortTuple(atEnd=1, offset=0.0, priority=0, classSortOrder=-5, \n",
      " |                  isNotGrace=1, insertIndex=...)  \n",
      " |                  \n",
      " |                  \n",
      " |      Normally if there's a site specified and the element is not in the site,\n",
      " |      the offset of None will be used, but if raiseExceptionOnMiss is set to True\n",
      " |      then a SitesException will be raised:\n",
      " |      \n",
      " |      >>> aloneNote = note.Note()\n",
      " |      >>> aloneNote.offset = 30\n",
      " |      >>> aloneStream = stream.Stream(id='aloneStream')  # no insert\n",
      " |      >>> aloneNote.sortTuple(aloneStream)\n",
      " |      SortTuple(atEnd=0, offset=30.0, priority=0, classSortOrder=20, isNotGrace=1, insertIndex=0)\n",
      " |      \n",
      " |      >>> aloneNote.sortTuple(aloneStream, raiseExceptionOnMiss=True)\n",
      " |      Traceback (most recent call last):\n",
      " |      music21.sites.SitesException: an entry for this object 0x... is not stored in \n",
      " |          stream <music21.stream.Stream aloneStream>\n",
      " |  \n",
      " |  splitAtDurations(self)\n",
      " |      Takes a Music21Object (e.g., a note.Note) and returns a list of similar\n",
      " |      objects with only a single duration.DurationTuple in each.\n",
      " |      Ties are added if the object supports ties.\n",
      " |      \n",
      " |      Articulations only appear on the first note.  Same with lyrics.\n",
      " |      \n",
      " |      Fermatas should be on last note, but not done yet.\n",
      " |      \n",
      " |      >>> a = note.Note()\n",
      " |      >>> a.duration.clear() # remove defaults\n",
      " |      >>> a.duration.addDurationTuple(duration.durationTupleFromTypeDots('half', 0))\n",
      " |      >>> a.duration.quarterLength\n",
      " |      2.0\n",
      " |      >>> a.duration.addDurationTuple(duration.durationTupleFromTypeDots('whole', 0))\n",
      " |      >>> a.duration.quarterLength\n",
      " |      6.0\n",
      " |      >>> b = a.splitAtDurations()\n",
      " |      >>> b\n",
      " |      (<music21.note.Note C>, <music21.note.Note C>)\n",
      " |      >>> b[0].pitch == b[1].pitch\n",
      " |      True\n",
      " |      >>> b[0].duration\n",
      " |      <music21.duration.Duration 2.0>\n",
      " |      >>> b[0].duration.type\n",
      " |      'half'\n",
      " |      >>> b[1].duration.type\n",
      " |      'whole'\n",
      " |      >>> b[0].quarterLength, b[1].quarterLength\n",
      " |      (2.0, 4.0)\n",
      " |      \n",
      " |      >>> c = note.Note()\n",
      " |      >>> c.quarterLength = 2.5\n",
      " |      >>> d, e = c.splitAtDurations()\n",
      " |      >>> d.duration.type\n",
      " |      'half'\n",
      " |      >>> e.duration.type\n",
      " |      'eighth'\n",
      " |      >>> d.tie.type\n",
      " |      'start'\n",
      " |      >>> print(e.tie)\n",
      " |      <music21.tie.Tie stop>\n",
      " |      \n",
      " |      Assume c is tied to the next note.  Then the last split note should also be tied\n",
      " |      \n",
      " |      >>> c.tie = tie.Tie('start')\n",
      " |      >>> d, e = c.splitAtDurations()\n",
      " |      >>> d.tie.type\n",
      " |      'start'\n",
      " |      >>> e.tie.type\n",
      " |      'continue'\n",
      " |      \n",
      " |      Rests have no ties:\n",
      " |      \n",
      " |      >>> f = note.Rest()\n",
      " |      >>> f.quarterLength = 2.5\n",
      " |      >>> g, h = f.splitAtDurations()\n",
      " |      >>> (g.duration.type, h.duration.type)\n",
      " |      ('half', 'eighth')\n",
      " |      >>> f.tie is None\n",
      " |      True\n",
      " |      >>> g.tie is None\n",
      " |      True\n",
      " |      \n",
      " |      \n",
      " |      It should work for complex notes with tuplets.\n",
      " |      \n",
      " |      (this duration occurs in Modena A, Le greygnour bien, from the ars subtilior, c. 1380;\n",
      " |      hence how I discovered this bug)\n",
      " |      \n",
      " |      >>> n = note.Note()\n",
      " |      >>> n.duration.quarterLength = 0.5 + 0.0625 # eighth + 64th\n",
      " |      >>> t = duration.Tuplet(4, 3)\n",
      " |      >>> n.duration.appendTuplet(t)\n",
      " |      >>> first, last = n.splitAtDurations()  \n",
      " |      >>> (first.duration, last.duration)\n",
      " |      (<music21.duration.Duration 0.375>, <music21.duration.Duration 0.046875>)\n",
      " |      \n",
      " |      Notice that this duration could have been done w/o tuplets, so no tuplets in output:\n",
      " |      \n",
      " |      >>> (first.duration.type, first.duration.dots, first.duration.tuplets)\n",
      " |      ('16th', 1, ())\n",
      " |      >>> (last.duration.type, last.duration.dots, last.duration.tuplets)\n",
      " |      ('128th', 1, ())\n",
      " |      \n",
      " |      Test of one with tuplets that cannot be split:\n",
      " |      \n",
      " |      >>> n = note.Note()\n",
      " |      >>> n.duration.quarterLength = 0.5 + 0.0625 # eighth + 64th\n",
      " |      >>> t = duration.Tuplet(3, 2)\n",
      " |      >>> n.duration.appendTuplet(t)\n",
      " |      >>> (n.duration.type, n.duration.dots, n.duration.tuplets)\n",
      " |      ('complex', 0, (<music21.duration.Tuplet 3/2/eighth>,))\n",
      " |      \n",
      " |      >>> first, last = n.splitAtDurations()  \n",
      " |      >>> (first.duration, last.duration)\n",
      " |      (<music21.duration.Duration 1/3>, <music21.duration.Duration 1/24>)\n",
      " |      \n",
      " |      >>> (first.duration.type, first.duration.dots, first.duration.tuplets)\n",
      " |      ('eighth', 0, (<music21.duration.Tuplet 3/2/eighth>,))\n",
      " |      >>> (last.duration.type, last.duration.dots, last.duration.tuplets)\n",
      " |      ('64th', 0, (<music21.duration.Tuplet 3/2/64th>,))\n",
      " |      \n",
      " |      \n",
      " |      TODO: unite this and other functions into a \"split\" function -- document obscure uses.\n",
      " |  \n",
      " |  splitAtQuarterLength(self, quarterLength, retainOrigin=True, addTies=True, displayTiedAccidentals=False)\n",
      " |      Split an Element into two Elements at a provided\n",
      " |      `quarterLength` (offset) into the Element.\n",
      " |      \n",
      " |      Returns a specialized tuple called a SplitTuple that also has\n",
      " |      a .spannerList element which is a list of spanners\n",
      " |      that were created during the split, such as by \n",
      " |      \n",
      " |      \n",
      " |      TODO: unit into a \"split\" function -- document obscure uses.\n",
      " |      \n",
      " |      >>> a = note.Note('C#5')\n",
      " |      >>> a.duration.type = 'whole'\n",
      " |      >>> a.articulations = [articulations.Staccato()]\n",
      " |      >>> a.lyric = 'hi'\n",
      " |      >>> a.expressions = [expressions.Mordent(), expressions.Trill(), expressions.Fermata()]\n",
      " |      >>> st = a.splitAtQuarterLength(3)\n",
      " |      >>> b, c = st\n",
      " |      >>> b.duration.type\n",
      " |      'half'\n",
      " |      >>> b.duration.dots\n",
      " |      1\n",
      " |      >>> b.duration.quarterLength\n",
      " |      3.0\n",
      " |      >>> b.articulations\n",
      " |      []\n",
      " |      >>> b.lyric\n",
      " |      'hi'\n",
      " |      >>> b.expressions\n",
      " |      [<music21.expressions.Mordent>, <music21.expressions.Trill>]\n",
      " |      >>> c.duration.type\n",
      " |      'quarter'\n",
      " |      >>> c.duration.dots\n",
      " |      0\n",
      " |      >>> c.duration.quarterLength\n",
      " |      1.0\n",
      " |      >>> c.articulations\n",
      " |      [<music21.articulations.Staccato>]\n",
      " |      >>> c.lyric\n",
      " |      >>> c.expressions\n",
      " |      [<music21.expressions.Fermata>]\n",
      " |      >>> c.getSpannerSites()\n",
      " |      [<music21.expressions.TrillExtension <music21.note.Note C#><music21.note.Note C#>>]\n",
      " |      \n",
      " |      st is a _SplitTuple which can get the spanners from it for inserting into a Stream.\n",
      " |      \n",
      " |      >>> st.spannerList\n",
      " |      [<music21.expressions.TrillExtension <music21.note.Note C#><music21.note.Note C#>>]\n",
      " |      \n",
      " |      \n",
      " |      \n",
      " |      Make sure that ties remain as they should be:\n",
      " |      \n",
      " |      >>> d = note.Note('D#4')\n",
      " |      >>> d.duration.quarterLength = 3.0\n",
      " |      >>> d.tie = tie.Tie('start')\n",
      " |      >>> e, f = d.splitAtQuarterLength(2.0)\n",
      " |      >>> e.tie, f.tie\n",
      " |      (<music21.tie.Tie start>, <music21.tie.Tie continue>)\n",
      " |      \n",
      " |      Should be the same for chords...\n",
      " |      \n",
      " |      >>> g = chord.Chord(['C4', 'E4', 'G4'])\n",
      " |      >>> g.duration.quarterLength = 3.0\n",
      " |      >>> g._notes[1].tie = tie.Tie('start')\n",
      " |      >>> h, i = g.splitAtQuarterLength(2.0)\n",
      " |      >>> for j in range(0,3):\n",
      " |      ...   h._notes[j].tie, i._notes[j].tie\n",
      " |      (<music21.tie.Tie start>, <music21.tie.Tie stop>)\n",
      " |      (<music21.tie.Tie start>, <music21.tie.Tie continue>)\n",
      " |      (<music21.tie.Tie start>, <music21.tie.Tie stop>)\n",
      " |      \n",
      " |      \n",
      " |      If quarterLength == self.quarterLength then the second element will be None.\n",
      " |      \n",
      " |      >>> n = note.Note()\n",
      " |      >>> n.quarterLength = 0.5\n",
      " |      >>> a, b = n.splitAtQuarterLength(0.5)\n",
      " |      >>> b is None\n",
      " |      True\n",
      " |      >>> a is n\n",
      " |      True\n",
      " |      \n",
      " |      (same with retainOrigin off)\n",
      " |      \n",
      " |      >>> n = note.Note()\n",
      " |      >>> n.quarterLength = 0.5\n",
      " |      >>> a, b = n.splitAtQuarterLength(0.5, retainOrigin=False)\n",
      " |      >>> a is n\n",
      " |      False\n",
      " |      \n",
      " |      \n",
      " |      If quarterLength > self.quarterLength then a DurationException will be raised:\n",
      " |      \n",
      " |      >>> n = note.Note()\n",
      " |      >>> n.quarterLength = 0.5\n",
      " |      >>> a, b = n.splitAtQuarterLength(0.7)\n",
      " |      Traceback (most recent call last):\n",
      " |      music21.duration.DurationException: cannot split a duration (0.5) \n",
      " |          at this quarterLength (7/10)\n",
      " |  \n",
      " |  splitByQuarterLengths(self, quarterLengthList, addTies=True, displayTiedAccidentals=False)\n",
      " |      Given a list of quarter lengths, return a list of\n",
      " |      Music21Object objects, copied from this Music21Object,\n",
      " |      that are partitioned and tied with the specified quarter\n",
      " |      length list durations.\n",
      " |      \n",
      " |      TODO: unit into a \"split\" function -- document obscure uses.\n",
      " |      \n",
      " |      \n",
      " |      >>> n = note.Note()\n",
      " |      >>> n.quarterLength = 3\n",
      " |      >>> post = n.splitByQuarterLengths([1,1,1])\n",
      " |      >>> [n.quarterLength for n in post]\n",
      " |      [1.0, 1.0, 1.0]\n",
      " |  \n",
      " |  write(self, fmt=None, fp=None, **keywords)\n",
      " |      Write out a file of music notation (or an image, etc.) in a given format.  If\n",
      " |      fp is specified as a file path then the file will be placed there.  If it is not\n",
      " |      given then a temporary file will be created.\n",
      " |      \n",
      " |      If fmt is not given then the default of your Environment's 'writeFormat' will\n",
      " |      be used.  For most people that is musicxml.\n",
      " |      \n",
      " |      Returns the full path to the file.\n",
      " |  \n",
      " |  ----------------------------------------------------------------------\n",
      " |  Data descriptors inherited from music21.base.Music21Object:\n",
      " |  \n",
      " |  __dict__\n",
      " |      dictionary for instance variables (if defined)\n",
      " |  \n",
      " |  __weakref__\n",
      " |      list of weak references to the object (if defined)\n",
      " |  \n",
      " |  activeSite\n",
      " |      A reference to the most-recent object used to\n",
      " |      contain this object. In most cases, this will be a\n",
      " |      Stream or Stream sub-class. In most cases, an object's\n",
      " |      activeSite attribute is automatically set when an the\n",
      " |      object is attached to a Stream.\n",
      " |      \n",
      " |      \n",
      " |      >>> n = note.Note(\"C#4\")\n",
      " |      >>> p = stream.Part()\n",
      " |      >>> p.insert(20.0, n)\n",
      " |      >>> n.activeSite is p\n",
      " |      True\n",
      " |      >>> n.offset\n",
      " |      20.0\n",
      " |      \n",
      " |      >>> m = stream.Measure()\n",
      " |      >>> m.insert(10.0, n)\n",
      " |      >>> n.activeSite is m\n",
      " |      True\n",
      " |      >>> n.offset\n",
      " |      10.0\n",
      " |      >>> n.activeSite = p\n",
      " |      >>> n.offset\n",
      " |      20.0\n",
      " |  \n",
      " |  beat\n",
      " |      Return the beat of this object as found in the most\n",
      " |      recently positioned Measure. Beat values count from 1 and\n",
      " |      contain a floating-point designation between 0 and 1 to\n",
      " |      show proportional progress through the beat.\n",
      " |      \n",
      " |      >>> n = note.Note()\n",
      " |      >>> n.quarterLength = .5\n",
      " |      >>> m = stream.Measure()\n",
      " |      >>> m.timeSignature = meter.TimeSignature('3/4')\n",
      " |      >>> m.repeatAppend(n, 6)\n",
      " |      >>> [m.notes[i].beat for i in range(6)]\n",
      " |      [1.0, 1.5, 2.0, 2.5, 3.0, 3.5]\n",
      " |      \n",
      " |      >>> m.timeSignature = meter.TimeSignature('6/8')\n",
      " |      >>> [m.notes[i].beat for i in range(6)]\n",
      " |      [1.0, Fraction(4, 3), Fraction(5, 3), 2.0, Fraction(7, 3), Fraction(8, 3)]\n",
      " |      \n",
      " |      >>> s = stream.Stream()\n",
      " |      >>> s.insert(0, meter.TimeSignature('3/4'))\n",
      " |      >>> s.repeatAppend(note.Note(), 8)\n",
      " |      >>> [n.beat for n in s.notes]\n",
      " |      [1.0, 2.0, 3.0, 1.0, 2.0, 3.0, 1.0, 2.0]\n",
      " |      \n",
      " |      \n",
      " |      >>> s = stream.Stream()\n",
      " |      >>> ts = meter.TimeSignature('4/4')\n",
      " |      >>> s.insert(0, ts)\n",
      " |      >>> n = note.Note(type='eighth')\n",
      " |      >>> s.repeatAppend(n, 8)\n",
      " |      >>> s.makeMeasures(inPlace = True)\n",
      " |      >>> [n.beat for n in s.flat.notes]\n",
      " |      [1.0, 1.5, 2.0, 2.5, 3.0, 3.5, 4.0, 4.5]\n",
      " |      \n",
      " |      \n",
      " |      >>> m = stream.Measure()        \n",
      " |      >>> m.timeSignature = meter.TimeSignature('4/4')\n",
      " |      >>> n = note.Note()\n",
      " |      >>> n.quarterLength = 1./3\n",
      " |      >>> m.repeatAppend(n, 12)\n",
      " |      >>> for i in range(5):\n",
      " |      ...    print(m.notes[i].beat)\n",
      " |      1.0\n",
      " |      4/3\n",
      " |      5/3\n",
      " |      2.0\n",
      " |      7/3\n",
      " |  \n",
      " |  beatDuration\n",
      " |      Return a :class:`~music21.duration.Duration` of the beat\n",
      " |      active for this object as found in the most recently\n",
      " |      positioned Measure.\n",
      " |      \n",
      " |      If extending beyond the Measure, or in a Stream with a TimeSignature, \n",
      " |      the meter modulus value will be returned.\n",
      " |      \n",
      " |      >>> n = note.Note()\n",
      " |      >>> n.quarterLength = .5\n",
      " |      >>> m = stream.Measure()\n",
      " |      >>> m.timeSignature = meter.TimeSignature('3/4')\n",
      " |      >>> m.repeatAppend(n, 6)\n",
      " |      >>> [m.notes[i].beatDuration.quarterLength for i in range(6)]\n",
      " |      [1.0, 1.0, 1.0, 1.0, 1.0, 1.0]\n",
      " |      \n",
      " |      >>> m.timeSignature = meter.TimeSignature('6/8')\n",
      " |      >>> [m.notes[i].beatDuration.quarterLength for i in range(6)]\n",
      " |      [1.5, 1.5, 1.5, 1.5, 1.5, 1.5]\n",
      " |      \n",
      " |      >>> s = stream.Stream()\n",
      " |      >>> s.insert(0, meter.TimeSignature('2/4+3/4'))\n",
      " |      >>> s.repeatAppend(note.Note(), 8)\n",
      " |      >>> [n.beatDuration.quarterLength for n in s.notes]\n",
      " |      [2.0, 2.0, 3.0, 3.0, 3.0, 2.0, 2.0, 3.0]\n",
      " |  \n",
      " |  beatStr\n",
      " |      Return a string representation of the beat of\n",
      " |      this object as found in the most recently positioned\n",
      " |      Measure. Beat values count from 1 and contain a\n",
      " |      fractional designation to show progress through the beat.\n",
      " |      \n",
      " |      \n",
      " |      >>> n = note.Note()\n",
      " |      >>> n.quarterLength = .5\n",
      " |      >>> m = stream.Measure()\n",
      " |      >>> m.timeSignature = meter.TimeSignature('3/4')\n",
      " |      >>> m.repeatAppend(n, 6)\n",
      " |      >>> [m.notes[i].beatStr for i in range(6)]\n",
      " |      ['1', '1 1/2', '2', '2 1/2', '3', '3 1/2']\n",
      " |      >>> m.timeSignature = meter.TimeSignature('6/8')\n",
      " |      >>> [m.notes[i].beatStr for i in range(6)]\n",
      " |      ['1', '1 1/3', '1 2/3', '2', '2 1/3', '2 2/3']\n",
      " |      \n",
      " |      >>> s = stream.Stream()\n",
      " |      >>> s.insert(0, meter.TimeSignature('3/4'))\n",
      " |      >>> s.repeatAppend(note.Note(), 8)\n",
      " |      >>> [n.beatStr for n in s.notes]\n",
      " |      ['1', '2', '3', '1', '2', '3', '1', '2']\n",
      " |  \n",
      " |  beatStrength\n",
      " |      Return the metrical accent of this object\n",
      " |      in the most recently positioned Measure. Accent values\n",
      " |      are between zero and one, and are derived from the local\n",
      " |      TimeSignature's accent MeterSequence weights. If the offset\n",
      " |      of this object does not match a defined accent weight, a\n",
      " |      minimum accent weight will be returned.\n",
      " |      \n",
      " |      \n",
      " |      >>> n = note.Note()\n",
      " |      >>> n.quarterLength = .5\n",
      " |      >>> m = stream.Measure()\n",
      " |      >>> m.timeSignature = meter.TimeSignature('3/4')\n",
      " |      >>> m.repeatAppend(n, 6)\n",
      " |      >>> [m.notes[i].beatStrength for i in range(6)]\n",
      " |      [1.0, 0.25, 0.5, 0.25, 0.5, 0.25]\n",
      " |      \n",
      " |      >>> m.timeSignature = meter.TimeSignature('6/8')\n",
      " |      >>> [m.notes[i].beatStrength for i in range(6)]\n",
      " |      [1.0, 0.25, 0.25, 0.5, 0.25, 0.25]\n",
      " |      \n",
      " |      \n",
      " |      We can also get the beatStrength for elements not in\n",
      " |      a measure, if the enclosing stream has a :class:`~music21.meter.TimeSignature`.\n",
      " |      We just assume that the time signature carries through to\n",
      " |      hypothetical following measures:\n",
      " |      \n",
      " |      \n",
      " |      >>> n = note.Note('E--3', type='quarter')\n",
      " |      >>> s = stream.Stream()\n",
      " |      >>> s.insert(0.0, meter.TimeSignature('2/2'))\n",
      " |      >>> s.repeatAppend(n, 12)\n",
      " |      >>> [s.notes[i].beatStrength for i in range(12)]\n",
      " |      [1.0, 0.25, 0.5, 0.25, 1.0, 0.25, 0.5, 0.25, 1.0, 0.25, 0.5, 0.25]\n",
      " |      \n",
      " |      \n",
      " |      Changing the meter changes the output, of course:\n",
      " |      \n",
      " |      >>> s.insert(4.0, meter.TimeSignature('3/4'))\n",
      " |      >>> [s.notes[i].beatStrength for i in range(12)]\n",
      " |      [1.0, 0.25, 0.5, 0.25, 1.0, 0.5, 0.5, 1.0, 0.5, 0.5, 1.0, 0.5]\n",
      " |      \n",
      " |      \n",
      " |      Test not using measures\n",
      " |      \n",
      " |      >>> n = note.Note(\"E--3\")\n",
      " |      >>> n.quarterLength = 2\n",
      " |      >>> s = stream.Stream()\n",
      " |      >>> s.isMeasure\n",
      " |      False\n",
      " |      >>> s.insert(0, meter.TimeSignature('2/2'))\n",
      " |      >>> s.repeatAppend(n, 16)\n",
      " |      >>> s.notes[0].beatStrength\n",
      " |      1.0\n",
      " |      >>> s.notes[1].beatStrength\n",
      " |      0.5\n",
      " |      >>> s.notes[4].beatStrength\n",
      " |      1.0\n",
      " |      >>> s.notes[5].beatStrength\n",
      " |      0.5\n",
      " |  \n",
      " |  classSet\n",
      " |      Returns a set (that is, unordered, but indexed) of all of the classes that\n",
      " |      this class belongs to, including\n",
      " |      string names, fullyQualified string names, and objects themselves.\n",
      " |      \n",
      " |      It's cached on a per class basis, so makes for a really fast way of checking to \n",
      " |      see if something belongs\n",
      " |      to a particular class when you don't know if the user has given a string,\n",
      " |      a fully qualified string name, or an object.\n",
      " |      \n",
      " |      Did I mention it's fast?  It's a drop in substitute for the deprecated\n",
      " |      `.isClassOrSubClass`.  It's not as fast as x in n.classes or isinstance(n, x)\n",
      " |      if you know whether it's a string or class, but this is good and safe.\n",
      " |      \n",
      " |      >>> n = note.Note()\n",
      " |      >>> 'Note' in n.classSet\n",
      " |      True\n",
      " |      >>> 'music21.note.Note' in n.classSet\n",
      " |      True\n",
      " |      >>> note.Note in n.classSet\n",
      " |      True\n",
      " |      \n",
      " |      >>> 'Rest' in n.classSet\n",
      " |      False\n",
      " |      >>> note.Rest in n.classSet\n",
      " |      False\n",
      " |      \n",
      " |      >>> object in n.classSet\n",
      " |      True\n",
      " |      \n",
      " |      >>> sorted([s for s in n.classSet if isinstance(s, str)])\n",
      " |      ['GeneralNote', 'Music21Object', 'NotRest', 'Note', '....object', \n",
      " |       'music21.base.Music21Object', 'music21.note.GeneralNote', 'music21.note.NotRest', \n",
      " |       'music21.note.Note', 'object']\n",
      " |       \n",
      " |      >>> sorted([s for s in n.classSet if not isinstance(s, str)], key=lambda x: x.__name__)\n",
      " |      [<class 'music21.note.GeneralNote'>, \n",
      " |       <class 'music21.base.Music21Object'>, \n",
      " |       <class 'music21.note.NotRest'>, \n",
      " |       <class 'music21.note.Note'>, \n",
      " |       <... 'object'>]\n",
      " |  \n",
      " |  classes\n",
      " |      Returns a tuple containing the names (strings, not objects) of classes that this\n",
      " |      object belongs to -- starting with the object's class name and going up the mro()\n",
      " |      for the object.  Very similar to Perl's @ISA array:\n",
      " |      \n",
      " |      \n",
      " |      >>> q = note.Note()\n",
      " |      >>> q.classes\n",
      " |      ('Note', 'NotRest', 'GeneralNote', 'Music21Object', 'object')\n",
      " |      \n",
      " |      Having quick access to these things as strings makes it easier to do comparisons:\n",
      " |      \n",
      " |      Example: find GClefs that are not Treble clefs (or treble 8vb, etc.):\n",
      " |      \n",
      " |      >>> s = stream.Stream()\n",
      " |      >>> s.insert(10, clef.GClef())\n",
      " |      >>> s.insert(20, clef.TrebleClef())\n",
      " |      >>> s.insert(30, clef.FrenchViolinClef())\n",
      " |      >>> s.insert(40, clef.Treble8vbClef())\n",
      " |      >>> s.insert(50, clef.BassClef())\n",
      " |      >>> s2 = stream.Stream()\n",
      " |      >>> for t in s:\n",
      " |      ...    if 'GClef' in t.classes and 'TrebleClef' not in t.classes:\n",
      " |      ...        s2.insert(t)\n",
      " |      >>> s2.show('text')\n",
      " |      {10.0} <music21.clef.GClef>\n",
      " |      {30.0} <music21.clef.FrenchViolinClef>\n",
      " |      \n",
      " |      `Changed 2015 Sep`: returns a tuple, not a list.\n",
      " |  \n",
      " |  derivation\n",
      " |      Return the :class:`~music21.derivation.Derivation` object for this element.\n",
      " |      \n",
      " |      Or create one if none exists:\n",
      " |      \n",
      " |      >>> n = note.Note()\n",
      " |      >>> n.derivation\n",
      " |      <Derivation of <music21.note.Note C> from None via \"None\">\n",
      " |      >>> import copy\n",
      " |      >>> n2 = copy.deepcopy(n)\n",
      " |      >>> n2.pitch.step = 'D' # for seeing easier...\n",
      " |      >>> n2.derivation\n",
      " |      <Derivation of <music21.note.Note D> from <music21.note.Note C> via \"__deepcopy__\">\n",
      " |      >>> n2.derivation.origin is n\n",
      " |      True\n",
      " |      \n",
      " |      Note that (for now at least) derivation.origin is NOT a weakref:\n",
      " |      \n",
      " |      >>> del n\n",
      " |      >>> n2.derivation\n",
      " |      <Derivation of <music21.note.Note D> from <music21.note.Note C> via \"__deepcopy__\">\n",
      " |      >>> n2.derivation.origin\n",
      " |      <music21.note.Note C>\n",
      " |  \n",
      " |  duration\n",
      " |      Get and set the duration of this object as a Duration object.\n",
      " |  \n",
      " |  measureNumber\n",
      " |      Return the measure number of a :class:`~music21.stream.Measure` that contains this\n",
      " |      object if the object is in a measure.\n",
      " |      \n",
      " |      Returns None if the object is not in a measure.  Also note that by \n",
      " |      default Measure objects\n",
      " |      have measure number 0.\n",
      " |      \n",
      " |      If an object belongs to multiple measures (not in the same hierarchy...) \n",
      " |      then it returns the\n",
      " |      measure number of the :meth:`~music21.base.Music21Object.activeSite` if that is a\n",
      " |      :class:`~music21.stream.Measure` object.  Otherwise it will use \n",
      " |      :meth:`~music21.base.Music21Object.getContextByClass`\n",
      " |      to find the number of the measure it was most recently added to.\n",
      " |      \n",
      " |      \n",
      " |      >>> m = stream.Measure()\n",
      " |      >>> m.number = 12\n",
      " |      >>> n = note.Note()\n",
      " |      >>> m.append(n)\n",
      " |      >>> n.measureNumber\n",
      " |      12\n",
      " |      \n",
      " |      >>> n2 = note.Note()\n",
      " |      >>> n2.measureNumber is None\n",
      " |      True\n",
      " |      >>> m2 = stream.Measure()\n",
      " |      >>> m2.append(n2)\n",
      " |      >>> n2.measureNumber\n",
      " |      0\n",
      " |      \n",
      " |      This updates live if the measure number changes:\n",
      " |      \n",
      " |      >>> m2.number = 11\n",
      " |      >>> n2.measureNumber\n",
      " |      11\n",
      " |      \n",
      " |      \n",
      " |      The most recent measure added to is used unless activeSite is a measure:\n",
      " |      \n",
      " |      >>> m.append(n2)\n",
      " |      >>> n2.measureNumber\n",
      " |      12\n",
      " |      >>> n2.activeSite = m2\n",
      " |      >>> n2.measureNumber\n",
      " |      11\n",
      " |      \n",
      " |      Copies can retain measure numbers until set themselves:\n",
      " |      \n",
      " |      >>> import copy\n",
      " |      >>> nCopy = copy.deepcopy(n2)\n",
      " |      >>> nCopy.measureNumber\n",
      " |      12\n",
      " |      >>> m3 = stream.Measure()\n",
      " |      >>> m3.number = 4\n",
      " |      >>> m3.append(nCopy)\n",
      " |      >>> nCopy.measureNumber\n",
      " |      4\n",
      " |  \n",
      " |  offset\n",
      " |      The offset property sets or returns the position of this object\n",
      " |      as a float or fractions.Fraction value\n",
      " |      (generally in `quarterLengths`), depending on what is representable. \n",
      " |      \n",
      " |      Offsets are measured from the start of the object's `activeSite`,\n",
      " |      that is, the most recently referenced `Stream` or `Stream` subclass such\n",
      " |      as `Part`, `Measure`, or `Voice`.  It is a simpler\n",
      " |      way of calling `o.getOffsetBySite(o.activeSite, returnType='rational')`.\n",
      " |      \n",
      " |      If we put a `Note` into a `Stream`, we will see the activeSite changes.\n",
      " |      \n",
      " |      >>> import fractions\n",
      " |      >>> n1 = note.Note(\"D#3\")\n",
      " |      >>> n1.activeSite is None\n",
      " |      True\n",
      " |      \n",
      " |      >>> m1 = stream.Measure()\n",
      " |      >>> m1.number = 4\n",
      " |      >>> m1.insert(10.0, n1)\n",
      " |      >>> n1.offset\n",
      " |      10.0\n",
      " |      >>> n1.activeSite\n",
      " |      <music21.stream.Measure 4 offset=0.0>\n",
      " |      \n",
      " |      >>> n1.activeSite is m1\n",
      " |      True\n",
      " |      \n",
      " |      The most recently referenced `Stream` becomes an object's `activeSite` and\n",
      " |      thus the place where `.offset` looks to find its number.\n",
      " |      \n",
      " |      >>> m2 = stream.Measure()\n",
      " |      >>> m2.insert(3.0/5, n1)\n",
      " |      >>> m2.number = 5\n",
      " |      >>> n1.offset\n",
      " |      Fraction(3, 5)\n",
      " |      >>> n1.activeSite is m2\n",
      " |      True\n",
      " |      \n",
      " |      Notice though that `.offset` depends on the `.activeSite` which is the most\n",
      " |      recently accessed/referenced Stream.\n",
      " |      \n",
      " |      Here we will iterate over the `elements` in `m1` and we\n",
      " |      will see that the `.offset` of `n1` now is its offset in\n",
      " |      `m1` even though we haven't done anything directly to `n1`.\n",
      " |      Simply iterating over a site is enough to change the `.activeSite`\n",
      " |      of its elements:\n",
      " |      \n",
      " |      >>> for element in m1:\n",
      " |      ...     pass\n",
      " |      >>> n1.offset\n",
      " |      10.0\n",
      " |      \n",
      " |      \n",
      " |      The property can also set the offset for the object if no\n",
      " |      container has been set:\n",
      " |      \n",
      " |      \n",
      " |      >>> n1 = note.Note()\n",
      " |      >>> n1.id = 'hi'\n",
      " |      >>> n1.offset = 20/3.\n",
      " |      >>> n1.offset\n",
      " |      Fraction(20, 3)\n",
      " |      >>> float(n1.offset)\n",
      " |      6.666...\n",
      " |      \n",
      " |      \n",
      " |      >>> s1 = stream.Stream()\n",
      " |      >>> s1.append(n1)\n",
      " |      >>> n1.offset\n",
      " |      0.0\n",
      " |      >>> s2 = stream.Stream()\n",
      " |      >>> s2.insert(30.5, n1)\n",
      " |      >>> n1.offset\n",
      " |      30.5\n",
      " |      \n",
      " |      After calling `getElementById` on `s1`, the\n",
      " |      returned element's `offset` will be its offset in `s1`.\n",
      " |      \n",
      " |      >>> n2 = s1.getElementById('hi')\n",
      " |      >>> n2 is n1\n",
      " |      True\n",
      " |      >>> n2.offset\n",
      " |      0.0\n",
      " |      \n",
      " |      Iterating over the elements in a Stream will\n",
      " |      make its `offset` be the offset in iterated\n",
      " |      Stream.\n",
      " |      \n",
      " |      >>> for thisElement in s2:\n",
      " |      ...     thisElement.offset\n",
      " |      30.5\n",
      " |      \n",
      " |      When in doubt, use `.getOffsetBySite(streamObj)`\n",
      " |      which is safer or streamObj.elementOffset(self) which is 3x faster.\n",
      " |  \n",
      " |  priority\n",
      " |      Get and set the priority integer value.\n",
      " |      \n",
      " |      Priority specifies the order of processing from left (lowest number)\n",
      " |      to right (highest number) of objects at the same offset.  For\n",
      " |      instance, if you want a key change and a clef change to happen at\n",
      " |      the same time but the key change to appear first, then set:\n",
      " |      keySigElement.priority = 1; clefElement.priority = 2 this might be\n",
      " |      a slightly counterintuitive numbering of priority, but it does\n",
      " |      mean, for instance, if you had two elements at the same offset,\n",
      " |      an allegro tempo change and an andante tempo change, then the\n",
      " |      tempo change with the higher priority number would apply to the\n",
      " |      following notes (by being processed second).\n",
      " |      \n",
      " |      Default priority is 0; thus negative priorities are encouraged\n",
      " |      to have Elements that appear before non-priority set elements.\n",
      " |      \n",
      " |      In case of tie, there are defined class sort orders defined in\n",
      " |      `music21.base.classSortOrder`.  For instance, a key signature\n",
      " |      change appears before a time signature change before a\n",
      " |      note at the same offset.  This produces the familiar order of\n",
      " |      materials at the start of a musical score.\n",
      " |      \n",
      " |      >>> import music21\n",
      " |      >>> a = music21.Music21Object()\n",
      " |      >>> a.priority = 3\n",
      " |      >>> a.priority = 'high'\n",
      " |      Traceback (most recent call last):\n",
      " |      music21.base.ElementException: priority values must be integers.\n",
      " |  \n",
      " |  quarterLength\n",
      " |      Set or Return the Duration as represented in Quarter Length, possibly as a fraction\n",
      " |      \n",
      " |      >>> n = note.Note()\n",
      " |      >>> n.quarterLength = 2.0\n",
      " |      >>> n.quarterLength\n",
      " |      2.0\n",
      " |      >>> n.quarterLength = 1.0/3\n",
      " |      >>> n.quarterLength\n",
      " |      Fraction(1, 3)\n",
      " |  \n",
      " |  seconds\n",
      " |      Get or set the duration of this object in seconds, assuming\n",
      " |      that this object has a :class:`~music21.tempo.MetronomeMark` \n",
      " |      or :class:`~music21.tempo.MetricModulation` in its past context.\n",
      " |      \n",
      " |      >>> s = stream.Stream()\n",
      " |      >>> s.repeatAppend(note.Note(), 12)\n",
      " |      >>> s.insert(0, tempo.MetronomeMark(number=120))\n",
      " |      >>> s.insert(6, tempo.MetronomeMark(number=240))\n",
      " |      >>> [n.seconds for n in s.notes]\n",
      " |      [0.5, 0.5, 0.5, 0.5, 0.5, 0.5, 0.25, 0.25, 0.25, 0.25, 0.25, 0.25]\n",
      " |  \n",
      " |  ----------------------------------------------------------------------\n",
      " |  Data and other attributes inherited from music21.base.Music21Object:\n",
      " |  \n",
      " |  classSortOrder = 20\n",
      " |  \n",
      " |  isStream = False\n",
      "\n"
     ]
    }
   ],
   "source": [
    "help(m21.note.Note)"
   ]
  },
  {
   "cell_type": "code",
   "execution_count": 4,
   "metadata": {
    "collapsed": true
   },
   "outputs": [],
   "source": [
    "sBach = corpus.parse('bach/bwv57.8')"
   ]
  },
  {
   "cell_type": "code",
   "execution_count": 30,
   "metadata": {
    "collapsed": false
   },
   "outputs": [
    {
     "ename": "NameError",
     "evalue": "name 'sBach' is not defined",
     "output_type": "error",
     "traceback": [
      "\u001b[0;31m---------------------------------------------------------------------------\u001b[0m",
      "\u001b[0;31mNameError\u001b[0m                                 Traceback (most recent call last)",
      "\u001b[0;32m<ipython-input-30-e43c6166146e>\u001b[0m in \u001b[0;36m<module>\u001b[0;34m()\u001b[0m\n\u001b[0;32m----> 1\u001b[0;31m \u001b[0msBach\u001b[0m\u001b[0;34m.\u001b[0m\u001b[0mshow\u001b[0m\u001b[0;34m(\u001b[0m\u001b[0;34m'midi'\u001b[0m\u001b[0;34m)\u001b[0m\u001b[0;34m\u001b[0m\u001b[0m\n\u001b[0m",
      "\u001b[0;31mNameError\u001b[0m: name 'sBach' is not defined"
     ]
    }
   ],
   "source": [
    "sBach.show('midi')"
   ]
  },
  {
   "cell_type": "code",
   "execution_count": 7,
   "metadata": {
    "collapsed": false
   },
   "outputs": [
    {
     "data": {
      "text/plain": [
       "music21.stream.Score"
      ]
     },
     "execution_count": 7,
     "metadata": {},
     "output_type": "execute_result"
    }
   ],
   "source": [
    "type(sBach)"
   ]
  },
  {
   "cell_type": "code",
   "execution_count": 8,
   "metadata": {
    "collapsed": false
   },
   "outputs": [
    {
     "data": {
      "text/plain": [
       "6"
      ]
     },
     "execution_count": 8,
     "metadata": {},
     "output_type": "execute_result"
    }
   ],
   "source": [
    "len(sBach)"
   ]
  },
  {
   "cell_type": "code",
   "execution_count": 9,
   "metadata": {
    "collapsed": false
   },
   "outputs": [
    {
     "name": "stdout",
     "output_type": "stream",
     "text": [
      "<music21.metadata.Metadata object at 0x10c723410>\n",
      "<music21.stream.Part Soprano>\n",
      "<music21.stream.Part Alto>\n",
      "<music21.stream.Part Tenor>\n",
      "<music21.stream.Part Bass>\n",
      "<music21.layout.StaffGroup <music21.stream.Part Soprano><music21.stream.Part Alto><music21.stream.Part Tenor><music21.stream.Part Bass>>\n"
     ]
    }
   ],
   "source": [
    "for element in sBach:\n",
    "    print element"
   ]
  },
  {
   "cell_type": "code",
   "execution_count": 28,
   "metadata": {
    "collapsed": false
   },
   "outputs": [
    {
     "name": "stdout",
     "output_type": "stream",
     "text": [
      "['_DOC_ATTR', '_DOC_ORDER', '__class__', '__deepcopy__', '__delattr__', '__dict__', '__doc__', '__format__', '__getattr__', '__getattribute__', '__getstate__', '__hash__', '__init__', '__module__', '__new__', '__reduce__', '__reduce_ex__', '__repr__', '__setattr__', '__setstate__', '__sizeof__', '__str__', '__subclasshook__', '__weakref__', '_activeSite', '_activeSiteStoredOffset', '_adjacencySearch', '_classListCacheDict', '_classListFullyQualifiedCacheDict', '_classSetCacheDict', '_copyright', '_date', '_deepcopySubclassable', '_derivation', '_duration', '_getActiveSite', '_getDerivation', '_getDuration', '_getMeasureOffset', '_getMeasureOffsetOrMeterModulusOffset', '_getOffset', '_getPriority', '_getQuarterLength', '_getSeconds', '_getTimeSignatureForBeat', '_imprint', '_naiveOffset', '_priority', '_reprText', '_reprTextLine', '_setActiveSite', '_setDerivation', '_setDuration', '_setOffset', '_setPriority', '_setQuarterLength', '_setSeconds', '_urls', '_workIds', 'abbreviationToWorkId', 'activeSite', 'addContributor', 'all', 'alternativeTitle', 'beat', 'beatDuration', 'beatStr', 'beatStrength', 'classSet', 'classSortOrder', 'classes', 'composer', 'composers', 'containerHierarchy', 'contextSites', 'contributors', 'date', 'derivation', 'duration', 'getAllContextsByClass', 'getContextByClass', 'getContributorsByRole', 'getOffsetBySite', 'getOffsetInHierarchy', 'getSpannerSites', 'groups', 'hideObjectOnPrint', 'id', 'informSites', 'isClassOrSubclass', 'isStream', 'key', 'localeOfComposition', 'measureNumber', 'mergeAttributes', 'movementName', 'movementNumber', 'next', 'number', 'offset', 'opusNumber', 'previous', 'priority', 'purgeLocations', 'purgeOrphans', 'quarterLength', 'search', 'searchAttributes', 'seconds', 'setOffsetBySite', 'setWorkId', 'show', 'sites', 'sortTuple', 'splitAtDurations', 'splitAtQuarterLength', 'splitByQuarterLengths', 'title', 'value', 'workIdAbbreviationDict', 'workIdLookupDict', 'workIdToAbbreviation', 'write', 'xPosition']\n"
     ]
    }
   ],
   "source": [
    "bach0 = sBach[0]\n",
    "print dir(bach0)"
   ]
  },
  {
   "cell_type": "code",
   "execution_count": 31,
   "metadata": {
    "collapsed": false
   },
   "outputs": [
    {
     "data": {
      "image/png": "[encoded data removed]",
      "text/plain": [
       "<music21.ipython21.objects.IPythonPNGObject at 0x10d826310>"
      ]
     },
     "execution_count": 31,
     "metadata": {},
     "output_type": "execute_result"
    }
   ],
   "source": [
    "sBach[1].show()"
   ]
  },
  {
   "cell_type": "code",
   "execution_count": 33,
   "metadata": {
    "collapsed": false
   },
   "outputs": [
    {
     "name": "stdout",
     "output_type": "stream",
     "text": [
      "P1: Soprano: Instrument 1\n",
      "<music21.stream.Measure 1 offset=0.0>\n",
      "<music21.stream.Measure 2 offset=3.0>\n",
      "<music21.stream.Measure 3 offset=6.0>\n",
      "<music21.stream.Measure 4 offset=9.0>\n",
      "<music21.stream.Measure 5 offset=12.0>\n",
      "<music21.stream.Measure 6 offset=15.0>\n",
      "<music21.stream.Measure 7 offset=18.0>\n",
      "<music21.stream.Measure 8 offset=21.0>\n",
      "<music21.stream.Measure 9 offset=24.0>\n",
      "<music21.stream.Measure 10 offset=27.0>\n",
      "<music21.stream.Measure 11 offset=30.0>\n",
      "<music21.stream.Measure 12 offset=33.0>\n",
      "<music21.stream.Measure 13 offset=36.0>\n",
      "<music21.stream.Measure 14 offset=39.0>\n",
      "<music21.stream.Measure 15 offset=42.0>\n",
      "<music21.stream.Measure 16 offset=45.0>\n",
      "<music21.stream.Measure 17 offset=48.0>\n",
      "<music21.stream.Measure 18 offset=51.0>\n"
     ]
    }
   ],
   "source": [
    "for item in sBach[1]:\n",
    "    print item"
   ]
  },
  {
   "cell_type": "code",
   "execution_count": 36,
   "metadata": {
    "collapsed": false
   },
   "outputs": [
    {
     "name": "stdout",
     "output_type": "stream",
     "text": [
      "['_DOC_ATTR', '_DOC_ORDER', '__class__', '__deepcopy__', '__delattr__', '__dict__', '__doc__', '__format__', '__getattr__', '__getattribute__', '__getstate__', '__hash__', '__init__', '__module__', '__new__', '__reduce__', '__reduce_ex__', '__repr__', '__setattr__', '__setstate__', '__sizeof__', '__str__', '__subclasshook__', '__weakref__', '_activeSite', '_activeSiteStoredOffset', '_adjacencySearch', '_classListCacheDict', '_classListFullyQualifiedCacheDict', '_classSetCacheDict', '_copyright', '_date', '_deepcopySubclassable', '_derivation', '_duration', '_getActiveSite', '_getDerivation', '_getDuration', '_getMeasureOffset', '_getMeasureOffsetOrMeterModulusOffset', '_getOffset', '_getPriority', '_getQuarterLength', '_getSeconds', '_getTimeSignatureForBeat', '_imprint', '_naiveOffset', '_priority', '_reprText', '_reprTextLine', '_setActiveSite', '_setDerivation', '_setDuration', '_setOffset', '_setPriority', '_setQuarterLength', '_setSeconds', '_urls', '_workIds', 'abbreviationToWorkId', 'activeSite', 'addContributor', 'all', 'alternativeTitle', 'beat', 'beatDuration', 'beatStr', 'beatStrength', 'classSet', 'classSortOrder', 'classes', 'composer', 'composers', 'containerHierarchy', 'contextSites', 'contributors', 'date', 'derivation', 'duration', 'getAllContextsByClass', 'getContextByClass', 'getContributorsByRole', 'getOffsetBySite', 'getOffsetInHierarchy', 'getSpannerSites', 'groups', 'hideObjectOnPrint', 'id', 'informSites', 'isClassOrSubclass', 'isStream', 'key', 'localeOfComposition', 'measureNumber', 'mergeAttributes', 'movementName', 'movementNumber', 'next', 'number', 'offset', 'opusNumber', 'previous', 'priority', 'purgeLocations', 'purgeOrphans', 'quarterLength', 'search', 'searchAttributes', 'seconds', 'setOffsetBySite', 'setWorkId', 'show', 'sites', 'sortTuple', 'splitAtDurations', 'splitAtQuarterLength', 'splitByQuarterLengths', 'title', 'value', 'workIdAbbreviationDict', 'workIdLookupDict', 'workIdToAbbreviation', 'write', 'xPosition']\n"
     ]
    }
   ],
   "source": [
    "print dir(sBach[0])"
   ]
  },
  {
   "cell_type": "code",
   "execution_count": 39,
   "metadata": {
    "collapsed": false
   },
   "outputs": [
    {
     "data": {
      "image/png": "[encoded data removed]",
      "text/plain": [
       "<music21.ipython21.objects.IPythonPNGObject at 0x10d660cd0>"
      ]
     },
     "execution_count": 39,
     "metadata": {},
     "output_type": "execute_result"
    }
   ],
   "source": [
    "sBach[1][1].show()"
   ]
  },
  {
   "cell_type": "code",
   "execution_count": 40,
   "metadata": {
    "collapsed": false
   },
   "outputs": [
    {
     "data": {
      "text/plain": [
       "6"
      ]
     },
     "execution_count": 40,
     "metadata": {},
     "output_type": "execute_result"
    }
   ],
   "source": [
    "len(sBach[1][1])"
   ]
  },
  {
   "cell_type": "code",
   "execution_count": 41,
   "metadata": {
    "collapsed": false
   },
   "outputs": [
    {
     "name": "stdout",
     "output_type": "stream",
     "text": [
      "<music21.clef.TrebleClef>\n",
      "B- major\n",
      "<music21.meter.TimeSignature 3/4>\n",
      "<music21.note.Note B->\n",
      "<music21.note.Note B->\n",
      "<music21.note.Note F>\n"
     ]
    }
   ],
   "source": [
    "for element in sBach[1][1]:\n",
    "    print element"
   ]
  },
  {
   "cell_type": "code",
   "execution_count": 42,
   "metadata": {
    "collapsed": false,
    "scrolled": true
   },
   "outputs": [
    {
     "name": "stdout",
     "output_type": "stream",
     "text": [
      "<music21.note.Note D>\n",
      "<music21.note.Note C>\n",
      "<music21.note.Note B->\n"
     ]
    }
   ],
   "source": [
    "for element in sBach[1][2]:\n",
    "    print element"
   ]
  },
  {
   "cell_type": "code",
   "execution_count": 48,
   "metadata": {
    "collapsed": false
   },
   "outputs": [
    {
     "data": {
      "text/plain": [
       "<music21.stream.iterator.StreamIterator for Score:0x10d267f50 @:0>"
      ]
     },
     "execution_count": 48,
     "metadata": {},
     "output_type": "execute_result"
    }
   ],
   "source": [
    "sBach.getElementsByClass(stream.Part)\n"
   ]
  },
  {
   "cell_type": "code",
   "execution_count": 44,
   "metadata": {
    "collapsed": false
   },
   "outputs": [
    {
     "name": "stdout",
     "output_type": "stream",
     "text": [
      "<music21.stream.Part Soprano>\n",
      "<music21.stream.Part Alto>\n",
      "<music21.stream.Part Tenor>\n",
      "<music21.stream.Part Bass>\n"
     ]
    }
   ],
   "source": [
    "for item in sBach.getElementsByClass(stream.Part):\n",
    "    print item"
   ]
  },
  {
   "cell_type": "code",
   "execution_count": 45,
   "metadata": {
    "collapsed": false
   },
   "outputs": [
    {
     "data": {
      "text/plain": [
       "4"
      ]
     },
     "execution_count": 45,
     "metadata": {},
     "output_type": "execute_result"
    }
   ],
   "source": [
    "len(sBach.getElementsByClass(stream.Part))"
   ]
  },
  {
   "cell_type": "code",
   "execution_count": 50,
   "metadata": {
    "collapsed": false
   },
   "outputs": [
    {
     "data": {
      "text/plain": [
       "<music21.stream.iterator.StreamIterator for Part:Soprano @:0>"
      ]
     },
     "execution_count": 50,
     "metadata": {},
     "output_type": "execute_result"
    }
   ],
   "source": [
    "sBach.getElementsByClass(stream.Part)[0].\\\n",
    "  getElementsByClass(stream.Measure)"
   ]
  },
  {
   "cell_type": "code",
   "execution_count": 51,
   "metadata": {
    "collapsed": false
   },
   "outputs": [
    {
     "data": {
      "text/plain": [
       "3"
      ]
     },
     "execution_count": 51,
     "metadata": {},
     "output_type": "execute_result"
    }
   ],
   "source": [
    "len(sBach.getElementsByClass(\n",
    "        stream.Part)[0].getElementsByClass(\n",
    "        stream.Measure)[1].getElementsByClass(note.Note))\n",
    "\n",
    "# gets Parts from sBach\n",
    "# gets the first Part\n",
    "# gets Meausres from the first Part\n",
    "# gets the second measure\n",
    "# gets notes from the second measure\n",
    "# counts how many there are"
   ]
  },
  {
   "cell_type": "code",
   "execution_count": 55,
   "metadata": {
    "collapsed": false
   },
   "outputs": [
    {
     "data": {
      "image/png": "[encoded data removed]",
      "text/plain": [
       "<music21.ipython21.objects.IPythonPNGObject at 0x10d98d2d0>"
      ]
     },
     "execution_count": 55,
     "metadata": {},
     "output_type": "execute_result"
    }
   ],
   "source": [
    "soprano = sBach.getElementsByClass('Part')[0]\n",
    "sop_excerpt = soprano.measures(1,4)\n",
    "sop_measure = soprano.measure(2)\n",
    "bach_excerpt = sBach.measures(1,4)\n",
    "sop_excerpt.show()\n"
   ]
  },
  {
   "cell_type": "code",
   "execution_count": 56,
   "metadata": {
    "collapsed": false
   },
   "outputs": [
    {
     "data": {
      "image/png": "[encoded data removed]",
      "text/plain": [
       "<music21.ipython21.objects.IPythonPNGObject at 0x10da24690>"
      ]
     },
     "execution_count": 56,
     "metadata": {},
     "output_type": "execute_result"
    }
   ],
   "source": [
    "sop_measure.show()"
   ]
  },
  {
   "cell_type": "code",
   "execution_count": 57,
   "metadata": {
    "collapsed": false
   },
   "outputs": [
    {
     "data": {
      "image/png": "[encoded data removed]",
      "text/plain": [
       "<music21.ipython21.objects.IPythonPNGObject at 0x10da62590>"
      ]
     },
     "execution_count": 57,
     "metadata": {},
     "output_type": "execute_result"
    }
   ],
   "source": [
    "bach_excerpt.show()"
   ]
  },
  {
   "cell_type": "code",
   "execution_count": 60,
   "metadata": {
    "collapsed": false
   },
   "outputs": [
    {
     "name": "stdout",
     "output_type": "stream",
     "text": [
      "{0.0} <music21.stream.Part part0>\n",
      "    {0.0} <music21.stream.Measure 1 offset=0.0>\n",
      "        {0.0} <music21.note.Note C>\n",
      "    {4.0} <music21.stream.Measure 2 offset=4.0>\n",
      "        {0.0} <music21.note.Note D>\n",
      "{0.0} <music21.stream.Part part1>\n",
      "    {0.0} <music21.stream.Measure 1 offset=0.0>\n",
      "        {0.0} <music21.note.Note E>\n",
      "    {4.0} <music21.stream.Measure 2 offset=4.0>\n",
      "        {0.0} <music21.note.Note F>\n"
     ]
    }
   ],
   "source": [
    "s = stream.Score(id='mainScore')\n",
    "p0 = stream.Part(id='part0')\n",
    "p1 = stream.Part(id='part1')\n",
    "\n",
    "m01 = stream.Measure(number=1)\n",
    "m01.append(note.Note('C', type=\"whole\"))\n",
    "m02 = stream.Measure(number=2)\n",
    "m02.append(note.Note('D', type=\"whole\"))\n",
    "p0.append([m01, m02])\n",
    "\n",
    "m11 = stream.Measure(number=1)\n",
    "m11.append(note.Note('E', type=\"whole\"))\n",
    "m12 = stream.Measure(number=2)\n",
    "m12.append(note.Note('F', type=\"whole\"))\n",
    "p1.append([m11, m12])\n",
    "\n",
    "s.insert(0, p0)\n",
    "s.insert(0, p1)\n",
    "s.show('text')"
   ]
  },
  {
   "cell_type": "code",
   "execution_count": 71,
   "metadata": {
    "collapsed": false
   },
   "outputs": [
    {
     "data": {
      "text/html": [
       "\n",
       "                <div id='midiPlayerDiv15673'></div>\n",
       "                <link rel=\"stylesheet\" href=\"http://artusi.xyz/music21j/css/m21.css\" \n",
       "                    type=\"text/css\" />\n",
       "                <script>\n",
       "                require.config({\n",
       "                    paths: {'music21': 'http://artusi.xyz/music21j/src/music21'} \n",
       "                }); \n",
       "                require(['music21'], function() { \n",
       "                               mp = new music21.miditools.MidiPlayer();\n",
       "                               mp.addPlayer('#midiPlayerDiv15673'); \n",
       "                               mp.base64Load('data:audio/midi;base64,TVRoZAAAAAYAAQADBABNVHJrAAAAgwD/AwAA4ABAiACQQFqIAIBAAACQPlqIAIA+AACQPFqIAIA8AACQPlqIAIA+AACQQFqIAIBAAACQQFqIAIBAAACQQFqQAIBAAACQPlqIAIA+AACQPlqIAIA+AACQPlqQAIA+AACQQFqIAIBAAACQQ1qIAIBDAACQQ1qQAIBDAIgA/y8ATVRyawAAAIMA/wMAAOAAQIgAkDxaiACAPAAAkDtaiACAOwAAkDdaiACANwAAkDtaiACAOwAAkDxaiACAPAAAkDxaiACAPAAAkDxakACAPAAAkDtaiACAOwAAkDtaiACAOwAAkDtakACAOwAAkDxaiACAPAAAkDxaiACAPAAAkDxakACAPACIAP8vAE1UcmsAAACDAP8DAADgAECIAJA3WogAgDcAAJA3WogAgDcAAJA0WogAgDQAAJA3WogAgDcAAJA3WogAgDcAAJA3WogAgDcAAJA3WpAAgDcAAJA3WogAgDcAAJA3WogAgDcAAJA3WpAAgDcAAJA3WogAgDcAAJA3WogAgDcAAJA3WpAAgDcAiAD/LwA='); \n",
       "                        });\n",
       "                </script>"
      ],
      "text/plain": [
       "<IPython.core.display.HTML object>"
      ]
     },
     "metadata": {},
     "output_type": "display_data"
    }
   ],
   "source": [
    "new_bach = stream.Score(id='mainScore')\n",
    "p0 = stream.Part(id='part0')\n",
    "p1 = stream.Part(id='part1')\n",
    "p2 = stream.Part(id='part2')\n",
    "p3 = stream.Part(id='part3')\n",
    "\n",
    "m01 = stream.Measure(number=1)\n",
    "m01.append([note.Note('E4', type='quarter'), \n",
    "           note.Note('D4', type='quarter'), \n",
    "          note.Note('C4', type='quarter'), \n",
    "          note.Note('D4', type='quarter')])\n",
    "m02 = stream.Measure(number=2)\n",
    "m02.append([note.Note('E4', type='quarter'), \n",
    "          note.Note('E4', type='quarter'), \n",
    "          note.Note('E4', type='half') ])\n",
    "m03 = stream.Measure(number=3)\n",
    "m03.append([note.Note('D4', type='quarter'), \n",
    "          note.Note('D4', type='quarter'), \n",
    "          note.Note('D4', type='half') ])\n",
    "m04 = stream.Measure(number=4)\n",
    "m04.append([note.Note('E4', type='quarter'), \n",
    "          note.Note('G4', type='quarter'), \n",
    "          note.Note('G4', type='half') ])\n",
    "p0.append([m01, m02, m03, m04])\n",
    "\n",
    "m11 = stream.Measure(number=1)\n",
    "m11.append([note.Note('C4', type='quarter'), \n",
    "           note.Note('B3', type='quarter'), \n",
    "          note.Note('G3', type='quarter'), \n",
    "          note.Note('B3', type='quarter')])\n",
    "m12 = stream.Measure(number=2)\n",
    "m12.append([note.Note('C4', type='quarter'), \n",
    "          note.Note('C4', type='quarter'), \n",
    "          note.Note('C4', type='half') ])\n",
    "m13 = stream.Measure(number=3)\n",
    "m13.append([note.Note('B3', type='quarter'), \n",
    "          note.Note('B3', type='quarter'), \n",
    "          note.Note('B3', type='half') ])\n",
    "m14 = stream.Measure(number=4)\n",
    "m14.append([note.Note('C4', type='quarter'), \n",
    "          note.Note('C4', type='quarter'), \n",
    "          note.Note('C4', type='half') ])\n",
    "p1.append([m11, m12, m13, m14])\n",
    "\n",
    "m21 = stream.Measure(number=1)\n",
    "m21.append([note.Note('G3', type='quarter'), \n",
    "           note.Note('G3', type='quarter'), \n",
    "          note.Note('E3', type='quarter'), \n",
    "          note.Note('G3', type='quarter')])\n",
    "m22 = stream.Measure(number=2)\n",
    "m22.append([note.Note('G3', type='quarter'), \n",
    "          note.Note('G3', type='quarter'), \n",
    "          note.Note('G3', type='half') ])\n",
    "m23 = stream.Measure(number=3)\n",
    "m23.append([note.Note('G3', type='quarter'), \n",
    "          note.Note('G3', type='quarter'), \n",
    "          note.Note('G3', type='half') ])\n",
    "m24 = stream.Measure(number=4)\n",
    "m24.append([note.Note('G3', type='quarter'), \n",
    "          note.Note('G3', type='quarter'), \n",
    "          note.Note('G3', type='half') ])\n",
    "p2.append([m21, m22, m23, m24])\n",
    "\n",
    "new_bach.insert(0, p0)\n",
    "new_bach.insert(0, p1)\n",
    "new_bach.insert(0, p2)\n",
    "new_bach.show('midi')\n"
   ]
  },
  {
   "cell_type": "code",
   "execution_count": 76,
   "metadata": {
    "collapsed": false
   },
   "outputs": [
    {
     "data": {
      "text/plain": [
       "[<music21.stream.Part part0>,\n",
       " <music21.stream.Part part1>,\n",
       " <music21.stream.Part part2>]"
      ]
     },
     "execution_count": 76,
     "metadata": {},
     "output_type": "execute_result"
    }
   ],
   "source": [
    "list(new_bach.parts)"
   ]
  },
  {
   "cell_type": "code",
   "execution_count": 79,
   "metadata": {
    "collapsed": false
   },
   "outputs": [
    {
     "data": {
      "text/plain": [
       "[<music21.note.Note E>,\n",
       " <music21.note.Note D>,\n",
       " <music21.note.Note C>,\n",
       " <music21.note.Note D>]"
      ]
     },
     "execution_count": 79,
     "metadata": {},
     "output_type": "execute_result"
    }
   ],
   "source": [
    "list(m01.notes)"
   ]
  },
  {
   "cell_type": "code",
   "execution_count": 80,
   "metadata": {
    "collapsed": false
   },
   "outputs": [
    {
     "data": {
      "text/plain": [
       "0"
      ]
     },
     "execution_count": 80,
     "metadata": {},
     "output_type": "execute_result"
    }
   ],
   "source": [
    "len(new_bach.getElementsByClass('Note'))"
   ]
  },
  {
   "cell_type": "code",
   "execution_count": 81,
   "metadata": {
    "collapsed": false
   },
   "outputs": [
    {
     "data": {
      "text/plain": [
       "39"
      ]
     },
     "execution_count": 81,
     "metadata": {},
     "output_type": "execute_result"
    }
   ],
   "source": [
    "len(new_bach.flat.getElementsByClass('Note'))"
   ]
  },
  {
   "cell_type": "code",
   "execution_count": 82,
   "metadata": {
    "collapsed": false
   },
   "outputs": [
    {
     "data": {
      "image/png": "[encoded data removed]",
      "text/plain": [
       "<music21.ipython21.objects.IPythonPNGObject at 0x10da33710>"
      ]
     },
     "execution_count": 82,
     "metadata": {},
     "output_type": "execute_result"
    }
   ],
   "source": [
    "new_bach.flat.show()"
   ]
  },
  {
   "cell_type": "code",
   "execution_count": 86,
   "metadata": {
    "collapsed": false
   },
   "outputs": [],
   "source": [
    "cMinor = chord.Chord(['C4','G4','E-5'])"
   ]
  },
  {
   "cell_type": "code",
   "execution_count": 87,
   "metadata": {
    "collapsed": false
   },
   "outputs": [
    {
     "data": {
      "image/png": "[encoded data removed]",
      "text/plain": [
       "<music21.ipython21.objects.IPythonPNGObject at 0x10d98de50>"
      ]
     },
     "execution_count": 87,
     "metadata": {},
     "output_type": "execute_result"
    }
   ],
   "source": [
    "cMinor.show()"
   ]
  },
  {
   "cell_type": "code",
   "execution_count": 94,
   "metadata": {
    "collapsed": false
   },
   "outputs": [],
   "source": [
    "cMinor.show('scala')"
   ]
  },
  {
   "cell_type": "markdown",
   "metadata": {},
   "source": [
    "### stopped at \"where do chords move to\"\n",
    "http://web.mit.edu/music21/doc/usersGuide/usersGuide_10_examples1.html#usersguide-10-examples1"
   ]
  },
  {
   "cell_type": "code",
   "execution_count": null,
   "metadata": {
    "collapsed": true
   },
   "outputs": [],
   "source": []
  },
  {
   "cell_type": "code",
   "execution_count": null,
   "metadata": {
    "collapsed": true
   },
   "outputs": [],
   "source": []
  },
  {
   "cell_type": "code",
   "execution_count": null,
   "metadata": {
    "collapsed": true
   },
   "outputs": [],
   "source": []
  },
  {
   "cell_type": "markdown",
   "metadata": {},
   "source": [
    "identify which ones are chorales"
   ]
  },
  {
   "cell_type": "code",
   "execution_count": 96,
   "metadata": {
    "collapsed": true
   },
   "outputs": [],
   "source": [
    "import music21 as m21"
   ]
  },
  {
   "cell_type": "code",
   "execution_count": 97,
   "metadata": {
    "collapsed": false
   },
   "outputs": [],
   "source": [
    "bach_search = m21.corpus.search('bach')"
   ]
  },
  {
   "cell_type": "code",
   "execution_count": 105,
   "metadata": {
    "collapsed": false
   },
   "outputs": [
    {
     "name": "stdout",
     "output_type": "stream",
     "text": [
      "<music21.metadata.bundles.MetadataEntry: airdsAirs_book4_abc_706>\n",
      "<music21.metadata.bundles.MetadataEntry: bach_choraleAnalyses_riemenschneider001_rntxt>\n",
      "<music21.metadata.bundles.MetadataEntry: bach_choraleAnalyses_riemenschneider002_rntxt>\n",
      "<music21.metadata.bundles.MetadataEntry: bach_choraleAnalyses_riemenschneider003_rntxt>\n",
      "<music21.metadata.bundles.MetadataEntry: bach_choraleAnalyses_riemenschneider004_rntxt>\n",
      "<music21.metadata.bundles.MetadataEntry: bach_choraleAnalyses_riemenschneider005_rntxt>\n",
      "<music21.metadata.bundles.MetadataEntry: bach_choraleAnalyses_riemenschneider006_rntxt>\n",
      "<music21.metadata.bundles.MetadataEntry: bach_choraleAnalyses_riemenschneider007_rntxt>\n",
      "<music21.metadata.bundles.MetadataEntry: bach_choraleAnalyses_riemenschneider008_rntxt>\n",
      "<music21.metadata.bundles.MetadataEntry: bach_choraleAnalyses_riemenschneider009_rntxt>\n",
      "<music21.metadata.bundles.MetadataEntry: bach_choraleAnalyses_riemenschneider010_rntxt>\n",
      "<music21.metadata.bundles.MetadataEntry: bach_choraleAnalyses_riemenschneider011_rntxt>\n",
      "<music21.metadata.bundles.MetadataEntry: bach_choraleAnalyses_riemenschneider012_rntxt>\n",
      "<music21.metadata.bundles.MetadataEntry: bach_choraleAnalyses_riemenschneider013_rntxt>\n",
      "<music21.metadata.bundles.MetadataEntry: bach_choraleAnalyses_riemenschneider014_rntxt>\n",
      "<music21.metadata.bundles.MetadataEntry: bach_choraleAnalyses_riemenschneider015_rntxt>\n",
      "<music21.metadata.bundles.MetadataEntry: bach_choraleAnalyses_riemenschneider016_rntxt>\n",
      "<music21.metadata.bundles.MetadataEntry: bach_choraleAnalyses_riemenschneider017_rntxt>\n",
      "<music21.metadata.bundles.MetadataEntry: bach_choraleAnalyses_riemenschneider018_rntxt>\n",
      "<music21.metadata.bundles.MetadataEntry: bach_choraleAnalyses_riemenschneider019_rntxt>\n",
      "<music21.metadata.bundles.MetadataEntry: bach_choraleAnalyses_riemenschneider020_rntxt>\n",
      "<music21.metadata.bundles.MetadataEntry: cpebach_h186_mxl>\n",
      "<music21.metadata.bundles.MetadataEntry: demos_two-parts_xml>\n",
      "<music21.metadata.bundles.MetadataEntry: essenFolksong_altdeu20_abc_76>\n",
      "<music21.metadata.bundles.MetadataEntry: essenFolksong_altdeu20_abc_75>\n",
      "<music21.metadata.bundles.MetadataEntry: essenFolksong_ballad10_abc_11>\n",
      "<music21.metadata.bundles.MetadataEntry: essenFolksong_ballad10_abc_30>\n",
      "<music21.metadata.bundles.MetadataEntry: essenFolksong_ballad10_abc_7>\n",
      "<music21.metadata.bundles.MetadataEntry: essenFolksong_ballad10_abc_29>\n",
      "<music21.metadata.bundles.MetadataEntry: essenFolksong_ballad20_abc_6>\n",
      "<music21.metadata.bundles.MetadataEntry: essenFolksong_ballad20_abc_113>\n",
      "<music21.metadata.bundles.MetadataEntry: essenFolksong_ballad20_abc_23>\n",
      "<music21.metadata.bundles.MetadataEntry: essenFolksong_ballad20_abc_114>\n",
      "<music21.metadata.bundles.MetadataEntry: essenFolksong_ballad30_abc_166>\n",
      "<music21.metadata.bundles.MetadataEntry: essenFolksong_ballad30_abc_67>\n",
      "<music21.metadata.bundles.MetadataEntry: essenFolksong_ballad40_abc_151>\n",
      "<music21.metadata.bundles.MetadataEntry: essenFolksong_ballad40_abc_234>\n",
      "<music21.metadata.bundles.MetadataEntry: essenFolksong_ballad40_abc_148>\n",
      "<music21.metadata.bundles.MetadataEntry: essenFolksong_ballad40_abc_135>\n",
      "<music21.metadata.bundles.MetadataEntry: essenFolksong_ballad40_abc_3>\n",
      "<music21.metadata.bundles.MetadataEntry: essenFolksong_ballad50_abc_186>\n",
      "<music21.metadata.bundles.MetadataEntry: essenFolksong_ballad50_abc_197>\n",
      "<music21.metadata.bundles.MetadataEntry: essenFolksong_ballad50_abc_78>\n",
      "<music21.metadata.bundles.MetadataEntry: essenFolksong_ballad50_abc_77>\n",
      "<music21.metadata.bundles.MetadataEntry: essenFolksong_ballad50_abc_124>\n",
      "<music21.metadata.bundles.MetadataEntry: essenFolksong_ballad50_abc_110>\n",
      "<music21.metadata.bundles.MetadataEntry: essenFolksong_ballad50_abc_129>\n",
      "<music21.metadata.bundles.MetadataEntry: essenFolksong_ballad50_abc_135>\n",
      "<music21.metadata.bundles.MetadataEntry: essenFolksong_ballad50_abc_20>\n",
      "<music21.metadata.bundles.MetadataEntry: essenFolksong_ballad50_abc_164>\n",
      "<music21.metadata.bundles.MetadataEntry: essenFolksong_ballad60_abc_43>\n",
      "<music21.metadata.bundles.MetadataEntry: essenFolksong_ballad60_abc_42>\n",
      "<music21.metadata.bundles.MetadataEntry: essenFolksong_ballad60_abc_66>\n",
      "<music21.metadata.bundles.MetadataEntry: essenFolksong_ballad60_abc_88>\n",
      "<music21.metadata.bundles.MetadataEntry: essenFolksong_ballad70_abc_53>\n",
      "<music21.metadata.bundles.MetadataEntry: essenFolksong_ballad70_abc_19>\n",
      "<music21.metadata.bundles.MetadataEntry: essenFolksong_ballad70_abc_39>\n",
      "<music21.metadata.bundles.MetadataEntry: essenFolksong_ballad70_abc_34>\n",
      "<music21.metadata.bundles.MetadataEntry: essenFolksong_ballad70_abc_95>\n",
      "<music21.metadata.bundles.MetadataEntry: essenFolksong_ballad70_abc_90>\n",
      "<music21.metadata.bundles.MetadataEntry: essenFolksong_ballad80_abc_9>\n",
      "<music21.metadata.bundles.MetadataEntry: essenFolksong_ballad80_abc_29>\n",
      "<music21.metadata.bundles.MetadataEntry: essenFolksong_ballad80_abc_28>\n",
      "<music21.metadata.bundles.MetadataEntry: essenFolksong_ballad80_abc_30>\n",
      "<music21.metadata.bundles.MetadataEntry: essenFolksong_ballad80_abc_19>\n",
      "<music21.metadata.bundles.MetadataEntry: essenFolksong_boehme10_abc_219>\n",
      "<music21.metadata.bundles.MetadataEntry: essenFolksong_boehme10_abc_226>\n",
      "<music21.metadata.bundles.MetadataEntry: essenFolksong_boehme10_abc_220>\n",
      "<music21.metadata.bundles.MetadataEntry: essenFolksong_boehme10_abc_361>\n",
      "<music21.metadata.bundles.MetadataEntry: essenFolksong_boehme10_abc_413>\n",
      "<music21.metadata.bundles.MetadataEntry: essenFolksong_boehme10_abc_357>\n",
      "<music21.metadata.bundles.MetadataEntry: essenFolksong_boehme20_abc_126>\n",
      "<music21.metadata.bundles.MetadataEntry: essenFolksong_boehme20_abc_117>\n",
      "<music21.metadata.bundles.MetadataEntry: essenFolksong_boehme20_abc_102>\n",
      "<music21.metadata.bundles.MetadataEntry: essenFolksong_dva0_abc_182>\n",
      "<music21.metadata.bundles.MetadataEntry: essenFolksong_dva0_abc_169>\n",
      "<music21.metadata.bundles.MetadataEntry: essenFolksong_dva0_abc_190>\n",
      "<music21.metadata.bundles.MetadataEntry: essenFolksong_dva0_abc_8>\n",
      "<music21.metadata.bundles.MetadataEntry: essenFolksong_dva0_abc_7>\n",
      "<music21.metadata.bundles.MetadataEntry: essenFolksong_dva0_abc_6>\n",
      "<music21.metadata.bundles.MetadataEntry: essenFolksong_dva0_abc_67>\n",
      "<music21.metadata.bundles.MetadataEntry: essenFolksong_dva0_abc_64>\n",
      "<music21.metadata.bundles.MetadataEntry: essenFolksong_dva0_abc_65>\n",
      "<music21.metadata.bundles.MetadataEntry: essenFolksong_dva0_abc_63>\n",
      "<music21.metadata.bundles.MetadataEntry: essenFolksong_dva0_abc_68>\n",
      "<music21.metadata.bundles.MetadataEntry: essenFolksong_dva0_abc_10>\n",
      "<music21.metadata.bundles.MetadataEntry: essenFolksong_dva0_abc_53>\n",
      "<music21.metadata.bundles.MetadataEntry: essenFolksong_dva0_abc_52>\n",
      "<music21.metadata.bundles.MetadataEntry: essenFolksong_dva0_abc_51>\n",
      "<music21.metadata.bundles.MetadataEntry: essenFolksong_dva0_abc_56>\n",
      "<music21.metadata.bundles.MetadataEntry: essenFolksong_dva0_abc_55>\n",
      "<music21.metadata.bundles.MetadataEntry: essenFolksong_dva0_abc_66>\n",
      "<music21.metadata.bundles.MetadataEntry: essenFolksong_dva0_abc_9>\n",
      "<music21.metadata.bundles.MetadataEntry: essenFolksong_dva0_abc_154>\n",
      "<music21.metadata.bundles.MetadataEntry: essenFolksong_dva0_abc_54>\n",
      "<music21.metadata.bundles.MetadataEntry: essenFolksong_dva0_abc_176>\n",
      "<music21.metadata.bundles.MetadataEntry: essenFolksong_erk10_abc_551>\n",
      "<music21.metadata.bundles.MetadataEntry: essenFolksong_erk10_abc_101>\n",
      "<music21.metadata.bundles.MetadataEntry: essenFolksong_erk10_abc_560>\n",
      "<music21.metadata.bundles.MetadataEntry: essenFolksong_erk10_abc_357>\n",
      "<music21.metadata.bundles.MetadataEntry: essenFolksong_erk10_abc_302>\n",
      "<music21.metadata.bundles.MetadataEntry: essenFolksong_erk10_abc_620>\n",
      "<music21.metadata.bundles.MetadataEntry: essenFolksong_erk10_abc_61>\n",
      "<music21.metadata.bundles.MetadataEntry: essenFolksong_erk10_abc_367>\n",
      "<music21.metadata.bundles.MetadataEntry: essenFolksong_erk10_abc_434>\n",
      "<music21.metadata.bundles.MetadataEntry: essenFolksong_erk20_abc_205>\n",
      "<music21.metadata.bundles.MetadataEntry: essenFolksong_erk20_abc_171>\n",
      "<music21.metadata.bundles.MetadataEntry: essenFolksong_erk20_abc_275>\n",
      "<music21.metadata.bundles.MetadataEntry: essenFolksong_erk20_abc_49>\n",
      "<music21.metadata.bundles.MetadataEntry: essenFolksong_erk20_abc_225>\n",
      "<music21.metadata.bundles.MetadataEntry: essenFolksong_erk20_abc_149>\n",
      "<music21.metadata.bundles.MetadataEntry: essenFolksong_erk20_abc_119>\n",
      "<music21.metadata.bundles.MetadataEntry: essenFolksong_erk30_abc_560>\n",
      "<music21.metadata.bundles.MetadataEntry: essenFolksong_erk30_abc_519>\n",
      "<music21.metadata.bundles.MetadataEntry: essenFolksong_erk30_abc_87>\n",
      "<music21.metadata.bundles.MetadataEntry: essenFolksong_erk30_abc_149>\n",
      "<music21.metadata.bundles.MetadataEntry: essenFolksong_erk30_abc_242>\n",
      "<music21.metadata.bundles.MetadataEntry: essenFolksong_erk30_abc_360>\n",
      "<music21.metadata.bundles.MetadataEntry: essenFolksong_erk30_abc_267>\n",
      "<music21.metadata.bundles.MetadataEntry: essenFolksong_erk30_abc_677>\n",
      "<music21.metadata.bundles.MetadataEntry: essenFolksong_erk30_abc_13>\n",
      "<music21.metadata.bundles.MetadataEntry: essenFolksong_erk30_abc_14>\n",
      "<music21.metadata.bundles.MetadataEntry: essenFolksong_erk30_abc_406>\n",
      "<music21.metadata.bundles.MetadataEntry: essenFolksong_erk30_abc_130>\n",
      "<music21.metadata.bundles.MetadataEntry: essenFolksong_fink0_abc_77>\n",
      "<music21.metadata.bundles.MetadataEntry: essenFolksong_han1_abc_166>\n",
      "<music21.metadata.bundles.MetadataEntry: essenFolksong_han2_abc_35>\n",
      "<music21.metadata.bundles.MetadataEntry: essenFolksong_kinder0_abc_189>\n",
      "<music21.metadata.bundles.MetadataEntry: essenFolksong_kinder0_abc_102>\n",
      "<music21.metadata.bundles.MetadataEntry: essenFolksong_kinder0_abc_115>\n",
      "<music21.metadata.bundles.MetadataEntry: essenFolksong_kinder0_abc_116>\n",
      "<music21.metadata.bundles.MetadataEntry: essenFolksong_kinder0_abc_117>\n",
      "<music21.metadata.bundles.MetadataEntry: essenFolksong_kinder0_abc_110>\n",
      "<music21.metadata.bundles.MetadataEntry: essenFolksong_kinder0_abc_112>\n",
      "<music21.metadata.bundles.MetadataEntry: essenFolksong_kinder0_abc_178>\n",
      "<music21.metadata.bundles.MetadataEntry: essenFolksong_kinder0_abc_176>\n",
      "<music21.metadata.bundles.MetadataEntry: essenFolksong_kinder0_abc_175>\n",
      "<music21.metadata.bundles.MetadataEntry: essenFolksong_kinder0_abc_148>\n",
      "<music21.metadata.bundles.MetadataEntry: essenFolksong_kinder0_abc_127>\n",
      "<music21.metadata.bundles.MetadataEntry: essenFolksong_kinder0_abc_120>\n",
      "<music21.metadata.bundles.MetadataEntry: essenFolksong_kinder0_abc_57>\n",
      "<music21.metadata.bundles.MetadataEntry: essenFolksong_lot_abc_403>\n",
      "<music21.metadata.bundles.MetadataEntry: essenFolksong_variant0_abc_23>\n",
      "<music21.metadata.bundles.MetadataEntry: essenFolksong_zuccal0_abc_527>\n",
      "<music21.metadata.bundles.MetadataEntry: oneills1850_0811-0899_abc_850>\n",
      "<music21.metadata.bundles.MetadataEntry: oneills1850_1376-1475_abc_1450>\n",
      "<music21.metadata.bundles.MetadataEntry: oneills1850_1376-1475_abc_1443>\n",
      "<music21.metadata.bundles.MetadataEntry: oneills1850_1701-1780_abc_1751>\n",
      "<music21.metadata.bundles.MetadataEntry: oneills1850_1701-1780_abc_1776>\n",
      "<music21.metadata.bundles.MetadataEntry: ryansMammoth_OldBachelorsReel_abc>\n",
      "<music21.metadata.bundles.MetadataEntry: ryansMammoth_RovingBachelorReel_abc>\n"
     ]
    }
   ],
   "source": [
    "for score in bach_search:\n",
    "    print score"
   ]
  },
  {
   "cell_type": "code",
   "execution_count": 109,
   "metadata": {
    "collapsed": false
   },
   "outputs": [
    {
     "data": {
      "image/png": "[encoded data removed]",
      "text/plain": [
       "<music21.ipython21.objects.IPythonPNGObject at 0x10fb23dd0>"
      ]
     },
     "execution_count": 109,
     "metadata": {},
     "output_type": "execute_result"
    }
   ],
   "source": [
    "test = bach_search[1].parse()\n",
    "test.show()"
   ]
  },
  {
   "cell_type": "code",
   "execution_count": 110,
   "metadata": {
    "collapsed": true
   },
   "outputs": [],
   "source": [
    "bach_composer_search = m21.corpus.getComposer('bach')"
   ]
  },
  {
   "cell_type": "code",
   "execution_count": 120,
   "metadata": {
    "collapsed": false,
    "scrolled": true
   },
   "outputs": [
    {
     "data": {
      "text/plain": [
       "[u'//anaconda/envs/dsi/lib/python2.7/site-packages/music21/corpus/bach/bwv1.6.mxl',\n",
       " u'//anaconda/envs/dsi/lib/python2.7/site-packages/music21/corpus/bach/bwv10.7.mxl',\n",
       " u'//anaconda/envs/dsi/lib/python2.7/site-packages/music21/corpus/bach/bwv101.7.mxl',\n",
       " u'//anaconda/envs/dsi/lib/python2.7/site-packages/music21/corpus/bach/bwv102.7.mxl',\n",
       " u'//anaconda/envs/dsi/lib/python2.7/site-packages/music21/corpus/bach/bwv103.6.mxl',\n",
       " u'//anaconda/envs/dsi/lib/python2.7/site-packages/music21/corpus/bach/bwv104.6.mxl',\n",
       " u'//anaconda/envs/dsi/lib/python2.7/site-packages/music21/corpus/bach/bwv108.6.mxl',\n",
       " u'//anaconda/envs/dsi/lib/python2.7/site-packages/music21/corpus/bach/bwv11.6.mxl',\n",
       " u'//anaconda/envs/dsi/lib/python2.7/site-packages/music21/corpus/bach/bwv110.7.mxl',\n",
       " u'//anaconda/envs/dsi/lib/python2.7/site-packages/music21/corpus/bach/bwv111.6.mxl',\n",
       " u'//anaconda/envs/dsi/lib/python2.7/site-packages/music21/corpus/bach/bwv112.5-sc.mxl',\n",
       " u'//anaconda/envs/dsi/lib/python2.7/site-packages/music21/corpus/bach/bwv112.5.mxl',\n",
       " u'//anaconda/envs/dsi/lib/python2.7/site-packages/music21/corpus/bach/bwv113.8.mxl',\n",
       " u'//anaconda/envs/dsi/lib/python2.7/site-packages/music21/corpus/bach/bwv114.7.mxl',\n",
       " u'//anaconda/envs/dsi/lib/python2.7/site-packages/music21/corpus/bach/bwv115.6.mxl',\n",
       " u'//anaconda/envs/dsi/lib/python2.7/site-packages/music21/corpus/bach/bwv116.6.mxl',\n",
       " u'//anaconda/envs/dsi/lib/python2.7/site-packages/music21/corpus/bach/bwv117.4.mxl',\n",
       " u'//anaconda/envs/dsi/lib/python2.7/site-packages/music21/corpus/bach/bwv119.9.mxl',\n",
       " u'//anaconda/envs/dsi/lib/python2.7/site-packages/music21/corpus/bach/bwv12.7.mxl',\n",
       " u'//anaconda/envs/dsi/lib/python2.7/site-packages/music21/corpus/bach/bwv120.6.mxl',\n",
       " u'//anaconda/envs/dsi/lib/python2.7/site-packages/music21/corpus/bach/bwv120.8-a.mxl',\n",
       " u'//anaconda/envs/dsi/lib/python2.7/site-packages/music21/corpus/bach/bwv121.6.mxl',\n",
       " u'//anaconda/envs/dsi/lib/python2.7/site-packages/music21/corpus/bach/bwv122.6.mxl',\n",
       " u'//anaconda/envs/dsi/lib/python2.7/site-packages/music21/corpus/bach/bwv123.6.mxl',\n",
       " u'//anaconda/envs/dsi/lib/python2.7/site-packages/music21/corpus/bach/bwv124.6.mxl',\n",
       " u'//anaconda/envs/dsi/lib/python2.7/site-packages/music21/corpus/bach/bwv125.6.mxl',\n",
       " u'//anaconda/envs/dsi/lib/python2.7/site-packages/music21/corpus/bach/bwv126.6.mxl',\n",
       " u'//anaconda/envs/dsi/lib/python2.7/site-packages/music21/corpus/bach/bwv127.5.mxl',\n",
       " u'//anaconda/envs/dsi/lib/python2.7/site-packages/music21/corpus/bach/bwv128.5.mxl',\n",
       " u'//anaconda/envs/dsi/lib/python2.7/site-packages/music21/corpus/bach/bwv13.6.mxl',\n",
       " u'//anaconda/envs/dsi/lib/python2.7/site-packages/music21/corpus/bach/bwv130.6.mxl',\n",
       " u'//anaconda/envs/dsi/lib/python2.7/site-packages/music21/corpus/bach/bwv133.6.xml',\n",
       " u'//anaconda/envs/dsi/lib/python2.7/site-packages/music21/corpus/bach/bwv135.6.mxl',\n",
       " u'//anaconda/envs/dsi/lib/python2.7/site-packages/music21/corpus/bach/bwv136.6.mxl',\n",
       " u'//anaconda/envs/dsi/lib/python2.7/site-packages/music21/corpus/bach/bwv137.5.mxl',\n",
       " u'//anaconda/envs/dsi/lib/python2.7/site-packages/music21/corpus/bach/bwv139.6.mxl',\n",
       " u'//anaconda/envs/dsi/lib/python2.7/site-packages/music21/corpus/bach/bwv14.5.mxl',\n",
       " u'//anaconda/envs/dsi/lib/python2.7/site-packages/music21/corpus/bach/bwv140.7.mxl',\n",
       " u'//anaconda/envs/dsi/lib/python2.7/site-packages/music21/corpus/bach/bwv144.3.mxl',\n",
       " u'//anaconda/envs/dsi/lib/python2.7/site-packages/music21/corpus/bach/bwv144.6.mxl',\n",
       " u'//anaconda/envs/dsi/lib/python2.7/site-packages/music21/corpus/bach/bwv145-a.mxl',\n",
       " u'//anaconda/envs/dsi/lib/python2.7/site-packages/music21/corpus/bach/bwv145.5.mxl',\n",
       " u'//anaconda/envs/dsi/lib/python2.7/site-packages/music21/corpus/bach/bwv146.8.mxl',\n",
       " u'//anaconda/envs/dsi/lib/python2.7/site-packages/music21/corpus/bach/bwv148.6.mxl',\n",
       " u'//anaconda/envs/dsi/lib/python2.7/site-packages/music21/corpus/bach/bwv149.7.mxl',\n",
       " u'//anaconda/envs/dsi/lib/python2.7/site-packages/music21/corpus/bach/bwv151.5.mxl',\n",
       " u'//anaconda/envs/dsi/lib/python2.7/site-packages/music21/corpus/bach/bwv153.1.mxl',\n",
       " u'//anaconda/envs/dsi/lib/python2.7/site-packages/music21/corpus/bach/bwv153.5.mxl',\n",
       " u'//anaconda/envs/dsi/lib/python2.7/site-packages/music21/corpus/bach/bwv153.9.mxl',\n",
       " u'//anaconda/envs/dsi/lib/python2.7/site-packages/music21/corpus/bach/bwv154.3.mxl',\n",
       " u'//anaconda/envs/dsi/lib/python2.7/site-packages/music21/corpus/bach/bwv154.8.mxl',\n",
       " u'//anaconda/envs/dsi/lib/python2.7/site-packages/music21/corpus/bach/bwv155.5.mxl',\n",
       " u'//anaconda/envs/dsi/lib/python2.7/site-packages/music21/corpus/bach/bwv156.6.mxl',\n",
       " u'//anaconda/envs/dsi/lib/python2.7/site-packages/music21/corpus/bach/bwv157.5.mxl',\n",
       " u'//anaconda/envs/dsi/lib/python2.7/site-packages/music21/corpus/bach/bwv158.4.mxl',\n",
       " u'//anaconda/envs/dsi/lib/python2.7/site-packages/music21/corpus/bach/bwv159.5.mxl',\n",
       " u'//anaconda/envs/dsi/lib/python2.7/site-packages/music21/corpus/bach/bwv16.6.mxl',\n",
       " u'//anaconda/envs/dsi/lib/python2.7/site-packages/music21/corpus/bach/bwv161.6.mxl',\n",
       " u'//anaconda/envs/dsi/lib/python2.7/site-packages/music21/corpus/bach/bwv162.6-lpz.mxl',\n",
       " u'//anaconda/envs/dsi/lib/python2.7/site-packages/music21/corpus/bach/bwv164.6.mxl',\n",
       " u'//anaconda/envs/dsi/lib/python2.7/site-packages/music21/corpus/bach/bwv165.6.mxl',\n",
       " u'//anaconda/envs/dsi/lib/python2.7/site-packages/music21/corpus/bach/bwv166.6.mxl',\n",
       " u'//anaconda/envs/dsi/lib/python2.7/site-packages/music21/corpus/bach/bwv168.6.mxl',\n",
       " u'//anaconda/envs/dsi/lib/python2.7/site-packages/music21/corpus/bach/bwv169.7.mxl',\n",
       " u'//anaconda/envs/dsi/lib/python2.7/site-packages/music21/corpus/bach/bwv17.7.mxl',\n",
       " u'//anaconda/envs/dsi/lib/python2.7/site-packages/music21/corpus/bach/bwv171.6.mxl',\n",
       " u'//anaconda/envs/dsi/lib/python2.7/site-packages/music21/corpus/bach/bwv172.6.mxl',\n",
       " u'//anaconda/envs/dsi/lib/python2.7/site-packages/music21/corpus/bach/bwv174.5.mxl',\n",
       " u'//anaconda/envs/dsi/lib/python2.7/site-packages/music21/corpus/bach/bwv175.7.mxl',\n",
       " u'//anaconda/envs/dsi/lib/python2.7/site-packages/music21/corpus/bach/bwv176.6.mxl',\n",
       " u'//anaconda/envs/dsi/lib/python2.7/site-packages/music21/corpus/bach/bwv177.5.mxl',\n",
       " u'//anaconda/envs/dsi/lib/python2.7/site-packages/music21/corpus/bach/bwv178.7.mxl',\n",
       " u'//anaconda/envs/dsi/lib/python2.7/site-packages/music21/corpus/bach/bwv179.6.mxl',\n",
       " u'//anaconda/envs/dsi/lib/python2.7/site-packages/music21/corpus/bach/bwv18.5-lz.mxl',\n",
       " u'//anaconda/envs/dsi/lib/python2.7/site-packages/music21/corpus/bach/bwv18.5-w.mxl',\n",
       " u'//anaconda/envs/dsi/lib/python2.7/site-packages/music21/corpus/bach/bwv180.7.mxl',\n",
       " u'//anaconda/envs/dsi/lib/python2.7/site-packages/music21/corpus/bach/bwv183.5.mxl',\n",
       " u'//anaconda/envs/dsi/lib/python2.7/site-packages/music21/corpus/bach/bwv184.5.mxl',\n",
       " u'//anaconda/envs/dsi/lib/python2.7/site-packages/music21/corpus/bach/bwv185.6.mxl',\n",
       " u'//anaconda/envs/dsi/lib/python2.7/site-packages/music21/corpus/bach/bwv187.7.mxl',\n",
       " u'//anaconda/envs/dsi/lib/python2.7/site-packages/music21/corpus/bach/bwv188.6.mxl',\n",
       " u'//anaconda/envs/dsi/lib/python2.7/site-packages/music21/corpus/bach/bwv19.7.mxl',\n",
       " u'//anaconda/envs/dsi/lib/python2.7/site-packages/music21/corpus/bach/bwv190.7-inst.mxl',\n",
       " u'//anaconda/envs/dsi/lib/python2.7/site-packages/music21/corpus/bach/bwv190.7.mxl',\n",
       " u'//anaconda/envs/dsi/lib/python2.7/site-packages/music21/corpus/bach/bwv194.12.mxl',\n",
       " u'//anaconda/envs/dsi/lib/python2.7/site-packages/music21/corpus/bach/bwv194.6.mxl',\n",
       " u'//anaconda/envs/dsi/lib/python2.7/site-packages/music21/corpus/bach/bwv195.6.mxl',\n",
       " u'//anaconda/envs/dsi/lib/python2.7/site-packages/music21/corpus/bach/bwv197.10.mxl',\n",
       " u'//anaconda/envs/dsi/lib/python2.7/site-packages/music21/corpus/bach/bwv197.5.mxl',\n",
       " u'//anaconda/envs/dsi/lib/python2.7/site-packages/music21/corpus/bach/bwv197.7-a.mxl',\n",
       " u'//anaconda/envs/dsi/lib/python2.7/site-packages/music21/corpus/bach/bwv2.6.mxl',\n",
       " u'//anaconda/envs/dsi/lib/python2.7/site-packages/music21/corpus/bach/bwv20.11.mxl',\n",
       " u'//anaconda/envs/dsi/lib/python2.7/site-packages/music21/corpus/bach/bwv20.7.mxl',\n",
       " u'//anaconda/envs/dsi/lib/python2.7/site-packages/music21/corpus/bach/bwv226.2.mxl',\n",
       " u'//anaconda/envs/dsi/lib/python2.7/site-packages/music21/corpus/bach/bwv227.1.mxl',\n",
       " u'//anaconda/envs/dsi/lib/python2.7/site-packages/music21/corpus/bach/bwv227.11.mxl',\n",
       " u'//anaconda/envs/dsi/lib/python2.7/site-packages/music21/corpus/bach/bwv227.3.mxl',\n",
       " u'//anaconda/envs/dsi/lib/python2.7/site-packages/music21/corpus/bach/bwv227.7.mxl',\n",
       " u'//anaconda/envs/dsi/lib/python2.7/site-packages/music21/corpus/bach/bwv229.2.mxl',\n",
       " u'//anaconda/envs/dsi/lib/python2.7/site-packages/music21/corpus/bach/bwv244.10.mxl',\n",
       " u'//anaconda/envs/dsi/lib/python2.7/site-packages/music21/corpus/bach/bwv244.15.mxl',\n",
       " u'//anaconda/envs/dsi/lib/python2.7/site-packages/music21/corpus/bach/bwv244.17.mxl',\n",
       " u'//anaconda/envs/dsi/lib/python2.7/site-packages/music21/corpus/bach/bwv244.25.mxl',\n",
       " u'//anaconda/envs/dsi/lib/python2.7/site-packages/music21/corpus/bach/bwv244.29-a.mxl',\n",
       " u'//anaconda/envs/dsi/lib/python2.7/site-packages/music21/corpus/bach/bwv244.3.mxl',\n",
       " u'//anaconda/envs/dsi/lib/python2.7/site-packages/music21/corpus/bach/bwv244.32.mxl',\n",
       " u'//anaconda/envs/dsi/lib/python2.7/site-packages/music21/corpus/bach/bwv244.37.mxl',\n",
       " u'//anaconda/envs/dsi/lib/python2.7/site-packages/music21/corpus/bach/bwv244.40.mxl',\n",
       " u'//anaconda/envs/dsi/lib/python2.7/site-packages/music21/corpus/bach/bwv244.44.mxl',\n",
       " u'//anaconda/envs/dsi/lib/python2.7/site-packages/music21/corpus/bach/bwv244.46.mxl',\n",
       " u'//anaconda/envs/dsi/lib/python2.7/site-packages/music21/corpus/bach/bwv244.54.mxl',\n",
       " u'//anaconda/envs/dsi/lib/python2.7/site-packages/music21/corpus/bach/bwv244.62.mxl',\n",
       " u'//anaconda/envs/dsi/lib/python2.7/site-packages/music21/corpus/bach/bwv245.11.mxl',\n",
       " u'//anaconda/envs/dsi/lib/python2.7/site-packages/music21/corpus/bach/bwv245.14.mxl',\n",
       " u'//anaconda/envs/dsi/lib/python2.7/site-packages/music21/corpus/bach/bwv245.15.mxl',\n",
       " u'//anaconda/envs/dsi/lib/python2.7/site-packages/music21/corpus/bach/bwv245.17.mxl',\n",
       " u'//anaconda/envs/dsi/lib/python2.7/site-packages/music21/corpus/bach/bwv245.22.mxl',\n",
       " u'//anaconda/envs/dsi/lib/python2.7/site-packages/music21/corpus/bach/bwv245.26.mxl',\n",
       " u'//anaconda/envs/dsi/lib/python2.7/site-packages/music21/corpus/bach/bwv245.28.mxl',\n",
       " u'//anaconda/envs/dsi/lib/python2.7/site-packages/music21/corpus/bach/bwv245.3.mxl',\n",
       " u'//anaconda/envs/dsi/lib/python2.7/site-packages/music21/corpus/bach/bwv245.37.mxl',\n",
       " u'//anaconda/envs/dsi/lib/python2.7/site-packages/music21/corpus/bach/bwv245.40.mxl',\n",
       " u'//anaconda/envs/dsi/lib/python2.7/site-packages/music21/corpus/bach/bwv245.5.mxl',\n",
       " u'//anaconda/envs/dsi/lib/python2.7/site-packages/music21/corpus/bach/bwv248.12-2.mxl',\n",
       " u'//anaconda/envs/dsi/lib/python2.7/site-packages/music21/corpus/bach/bwv248.17.mxl',\n",
       " u'//anaconda/envs/dsi/lib/python2.7/site-packages/music21/corpus/bach/bwv248.23-2.mxl',\n",
       " u'//anaconda/envs/dsi/lib/python2.7/site-packages/music21/corpus/bach/bwv248.23-s.mxl',\n",
       " u'//anaconda/envs/dsi/lib/python2.7/site-packages/music21/corpus/bach/bwv248.28.mxl',\n",
       " u'//anaconda/envs/dsi/lib/python2.7/site-packages/music21/corpus/bach/bwv248.33-3.mxl',\n",
       " u'//anaconda/envs/dsi/lib/python2.7/site-packages/music21/corpus/bach/bwv248.35-3.mxl',\n",
       " u'//anaconda/envs/dsi/lib/python2.7/site-packages/music21/corpus/bach/bwv248.35-3c.mxl',\n",
       " u'//anaconda/envs/dsi/lib/python2.7/site-packages/music21/corpus/bach/bwv248.42-4.mxl',\n",
       " u'//anaconda/envs/dsi/lib/python2.7/site-packages/music21/corpus/bach/bwv248.42-s.mxl',\n",
       " u'//anaconda/envs/dsi/lib/python2.7/site-packages/music21/corpus/bach/bwv248.46-5.mxl',\n",
       " u'//anaconda/envs/dsi/lib/python2.7/site-packages/music21/corpus/bach/bwv248.5.mxl',\n",
       " u'//anaconda/envs/dsi/lib/python2.7/site-packages/music21/corpus/bach/bwv248.53-5.mxl',\n",
       " u'//anaconda/envs/dsi/lib/python2.7/site-packages/music21/corpus/bach/bwv248.59-6.mxl',\n",
       " u'//anaconda/envs/dsi/lib/python2.7/site-packages/music21/corpus/bach/bwv248.64-6.mxl',\n",
       " u'//anaconda/envs/dsi/lib/python2.7/site-packages/music21/corpus/bach/bwv248.64-s.mxl',\n",
       " u'//anaconda/envs/dsi/lib/python2.7/site-packages/music21/corpus/bach/bwv248.9-1.mxl',\n",
       " u'//anaconda/envs/dsi/lib/python2.7/site-packages/music21/corpus/bach/bwv248.9-s.mxl',\n",
       " u'//anaconda/envs/dsi/lib/python2.7/site-packages/music21/corpus/bach/bwv25.6.mxl',\n",
       " u'//anaconda/envs/dsi/lib/python2.7/site-packages/music21/corpus/bach/bwv250.mxl',\n",
       " u'//anaconda/envs/dsi/lib/python2.7/site-packages/music21/corpus/bach/bwv251.mxl',\n",
       " u'//anaconda/envs/dsi/lib/python2.7/site-packages/music21/corpus/bach/bwv252.mxl',\n",
       " u'//anaconda/envs/dsi/lib/python2.7/site-packages/music21/corpus/bach/bwv253.mxl',\n",
       " u'//anaconda/envs/dsi/lib/python2.7/site-packages/music21/corpus/bach/bwv254.mxl',\n",
       " u'//anaconda/envs/dsi/lib/python2.7/site-packages/music21/corpus/bach/bwv255.mxl',\n",
       " u'//anaconda/envs/dsi/lib/python2.7/site-packages/music21/corpus/bach/bwv256.mxl',\n",
       " u'//anaconda/envs/dsi/lib/python2.7/site-packages/music21/corpus/bach/bwv257.mxl',\n",
       " u'//anaconda/envs/dsi/lib/python2.7/site-packages/music21/corpus/bach/bwv258.mxl',\n",
       " u'//anaconda/envs/dsi/lib/python2.7/site-packages/music21/corpus/bach/bwv259.mxl',\n",
       " u'//anaconda/envs/dsi/lib/python2.7/site-packages/music21/corpus/bach/bwv26.6.mxl',\n",
       " u'//anaconda/envs/dsi/lib/python2.7/site-packages/music21/corpus/bach/bwv260.mxl',\n",
       " u'//anaconda/envs/dsi/lib/python2.7/site-packages/music21/corpus/bach/bwv261.mxl',\n",
       " u'//anaconda/envs/dsi/lib/python2.7/site-packages/music21/corpus/bach/bwv262.mxl',\n",
       " u'//anaconda/envs/dsi/lib/python2.7/site-packages/music21/corpus/bach/bwv263.mxl',\n",
       " u'//anaconda/envs/dsi/lib/python2.7/site-packages/music21/corpus/bach/bwv264.mxl',\n",
       " u'//anaconda/envs/dsi/lib/python2.7/site-packages/music21/corpus/bach/bwv265.mxl',\n",
       " u'//anaconda/envs/dsi/lib/python2.7/site-packages/music21/corpus/bach/bwv266.mxl',\n",
       " u'//anaconda/envs/dsi/lib/python2.7/site-packages/music21/corpus/bach/bwv267.xml',\n",
       " u'//anaconda/envs/dsi/lib/python2.7/site-packages/music21/corpus/bach/bwv268.mxl',\n",
       " u'//anaconda/envs/dsi/lib/python2.7/site-packages/music21/corpus/bach/bwv269.mxl',\n",
       " u'//anaconda/envs/dsi/lib/python2.7/site-packages/music21/corpus/bach/bwv27.6.mxl',\n",
       " u'//anaconda/envs/dsi/lib/python2.7/site-packages/music21/corpus/bach/bwv270.mxl',\n",
       " u'//anaconda/envs/dsi/lib/python2.7/site-packages/music21/corpus/bach/bwv271.mxl',\n",
       " u'//anaconda/envs/dsi/lib/python2.7/site-packages/music21/corpus/bach/bwv272.mxl',\n",
       " u'//anaconda/envs/dsi/lib/python2.7/site-packages/music21/corpus/bach/bwv273.mxl',\n",
       " u'//anaconda/envs/dsi/lib/python2.7/site-packages/music21/corpus/bach/bwv276.mxl',\n",
       " u'//anaconda/envs/dsi/lib/python2.7/site-packages/music21/corpus/bach/bwv277.krn',\n",
       " u'//anaconda/envs/dsi/lib/python2.7/site-packages/music21/corpus/bach/bwv277.mxl',\n",
       " u'//anaconda/envs/dsi/lib/python2.7/site-packages/music21/corpus/bach/bwv278.mxl',\n",
       " u'//anaconda/envs/dsi/lib/python2.7/site-packages/music21/corpus/bach/bwv279.mxl',\n",
       " u'//anaconda/envs/dsi/lib/python2.7/site-packages/music21/corpus/bach/bwv28.6.mxl',\n",
       " u'//anaconda/envs/dsi/lib/python2.7/site-packages/music21/corpus/bach/bwv280.mxl',\n",
       " u'//anaconda/envs/dsi/lib/python2.7/site-packages/music21/corpus/bach/bwv281.krn',\n",
       " u'//anaconda/envs/dsi/lib/python2.7/site-packages/music21/corpus/bach/bwv281.mxl',\n",
       " u'//anaconda/envs/dsi/lib/python2.7/site-packages/music21/corpus/bach/bwv282.mxl',\n",
       " u'//anaconda/envs/dsi/lib/python2.7/site-packages/music21/corpus/bach/bwv283.mxl',\n",
       " u'//anaconda/envs/dsi/lib/python2.7/site-packages/music21/corpus/bach/bwv284.mxl',\n",
       " u'//anaconda/envs/dsi/lib/python2.7/site-packages/music21/corpus/bach/bwv285.mxl',\n",
       " u'//anaconda/envs/dsi/lib/python2.7/site-packages/music21/corpus/bach/bwv286.mxl',\n",
       " u'//anaconda/envs/dsi/lib/python2.7/site-packages/music21/corpus/bach/bwv287.mxl',\n",
       " u'//anaconda/envs/dsi/lib/python2.7/site-packages/music21/corpus/bach/bwv288.mxl',\n",
       " u'//anaconda/envs/dsi/lib/python2.7/site-packages/music21/corpus/bach/bwv289.mxl',\n",
       " u'//anaconda/envs/dsi/lib/python2.7/site-packages/music21/corpus/bach/bwv29.8.mxl',\n",
       " u'//anaconda/envs/dsi/lib/python2.7/site-packages/music21/corpus/bach/bwv290.mxl',\n",
       " u'//anaconda/envs/dsi/lib/python2.7/site-packages/music21/corpus/bach/bwv291.mxl',\n",
       " u'//anaconda/envs/dsi/lib/python2.7/site-packages/music21/corpus/bach/bwv292.mxl',\n",
       " u'//anaconda/envs/dsi/lib/python2.7/site-packages/music21/corpus/bach/bwv293.mxl',\n",
       " u'//anaconda/envs/dsi/lib/python2.7/site-packages/music21/corpus/bach/bwv294.mxl',\n",
       " u'//anaconda/envs/dsi/lib/python2.7/site-packages/music21/corpus/bach/bwv295.mxl',\n",
       " u'//anaconda/envs/dsi/lib/python2.7/site-packages/music21/corpus/bach/bwv296.mxl',\n",
       " u'//anaconda/envs/dsi/lib/python2.7/site-packages/music21/corpus/bach/bwv297.mxl',\n",
       " u'//anaconda/envs/dsi/lib/python2.7/site-packages/music21/corpus/bach/bwv298.mxl',\n",
       " u'//anaconda/envs/dsi/lib/python2.7/site-packages/music21/corpus/bach/bwv299.mxl',\n",
       " u'//anaconda/envs/dsi/lib/python2.7/site-packages/music21/corpus/bach/bwv3.6.mxl',\n",
       " u'//anaconda/envs/dsi/lib/python2.7/site-packages/music21/corpus/bach/bwv30.6.mxl',\n",
       " u'//anaconda/envs/dsi/lib/python2.7/site-packages/music21/corpus/bach/bwv300.mxl',\n",
       " u'//anaconda/envs/dsi/lib/python2.7/site-packages/music21/corpus/bach/bwv301.mxl',\n",
       " u'//anaconda/envs/dsi/lib/python2.7/site-packages/music21/corpus/bach/bwv302.mxl',\n",
       " u'//anaconda/envs/dsi/lib/python2.7/site-packages/music21/corpus/bach/bwv303.mxl',\n",
       " u'//anaconda/envs/dsi/lib/python2.7/site-packages/music21/corpus/bach/bwv304.mxl',\n",
       " u'//anaconda/envs/dsi/lib/python2.7/site-packages/music21/corpus/bach/bwv305.mxl',\n",
       " u'//anaconda/envs/dsi/lib/python2.7/site-packages/music21/corpus/bach/bwv306.mxl',\n",
       " u'//anaconda/envs/dsi/lib/python2.7/site-packages/music21/corpus/bach/bwv307.mxl',\n",
       " u'//anaconda/envs/dsi/lib/python2.7/site-packages/music21/corpus/bach/bwv308.mxl',\n",
       " u'//anaconda/envs/dsi/lib/python2.7/site-packages/music21/corpus/bach/bwv309.mxl',\n",
       " u'//anaconda/envs/dsi/lib/python2.7/site-packages/music21/corpus/bach/bwv31.9.mxl',\n",
       " u'//anaconda/envs/dsi/lib/python2.7/site-packages/music21/corpus/bach/bwv310.mxl',\n",
       " u'//anaconda/envs/dsi/lib/python2.7/site-packages/music21/corpus/bach/bwv311.mxl',\n",
       " u'//anaconda/envs/dsi/lib/python2.7/site-packages/music21/corpus/bach/bwv312.mxl',\n",
       " u'//anaconda/envs/dsi/lib/python2.7/site-packages/music21/corpus/bach/bwv313.mxl',\n",
       " u'//anaconda/envs/dsi/lib/python2.7/site-packages/music21/corpus/bach/bwv314.mxl',\n",
       " u'//anaconda/envs/dsi/lib/python2.7/site-packages/music21/corpus/bach/bwv315.mxl',\n",
       " u'//anaconda/envs/dsi/lib/python2.7/site-packages/music21/corpus/bach/bwv316.mxl',\n",
       " u'//anaconda/envs/dsi/lib/python2.7/site-packages/music21/corpus/bach/bwv317.mxl',\n",
       " u'//anaconda/envs/dsi/lib/python2.7/site-packages/music21/corpus/bach/bwv318.mxl',\n",
       " u'//anaconda/envs/dsi/lib/python2.7/site-packages/music21/corpus/bach/bwv319.mxl',\n",
       " u'//anaconda/envs/dsi/lib/python2.7/site-packages/music21/corpus/bach/bwv32.6.mxl',\n",
       " u'//anaconda/envs/dsi/lib/python2.7/site-packages/music21/corpus/bach/bwv320.mxl',\n",
       " u'//anaconda/envs/dsi/lib/python2.7/site-packages/music21/corpus/bach/bwv321.mxl',\n",
       " u'//anaconda/envs/dsi/lib/python2.7/site-packages/music21/corpus/bach/bwv322.mxl',\n",
       " u'//anaconda/envs/dsi/lib/python2.7/site-packages/music21/corpus/bach/bwv323.mxl',\n",
       " u'//anaconda/envs/dsi/lib/python2.7/site-packages/music21/corpus/bach/bwv324.mxl',\n",
       " u'//anaconda/envs/dsi/lib/python2.7/site-packages/music21/corpus/bach/bwv325.mxl',\n",
       " u'//anaconda/envs/dsi/lib/python2.7/site-packages/music21/corpus/bach/bwv326.mxl',\n",
       " u'//anaconda/envs/dsi/lib/python2.7/site-packages/music21/corpus/bach/bwv327.mxl',\n",
       " u'//anaconda/envs/dsi/lib/python2.7/site-packages/music21/corpus/bach/bwv328.mxl',\n",
       " u'//anaconda/envs/dsi/lib/python2.7/site-packages/music21/corpus/bach/bwv329.mxl',\n",
       " u'//anaconda/envs/dsi/lib/python2.7/site-packages/music21/corpus/bach/bwv33.6.mxl',\n",
       " u'//anaconda/envs/dsi/lib/python2.7/site-packages/music21/corpus/bach/bwv330.mxl',\n",
       " u'//anaconda/envs/dsi/lib/python2.7/site-packages/music21/corpus/bach/bwv331.mxl',\n",
       " u'//anaconda/envs/dsi/lib/python2.7/site-packages/music21/corpus/bach/bwv332.mxl',\n",
       " u'//anaconda/envs/dsi/lib/python2.7/site-packages/music21/corpus/bach/bwv333.mxl',\n",
       " u'//anaconda/envs/dsi/lib/python2.7/site-packages/music21/corpus/bach/bwv334.mxl',\n",
       " u'//anaconda/envs/dsi/lib/python2.7/site-packages/music21/corpus/bach/bwv335.mxl',\n",
       " u'//anaconda/envs/dsi/lib/python2.7/site-packages/music21/corpus/bach/bwv336.mxl',\n",
       " u'//anaconda/envs/dsi/lib/python2.7/site-packages/music21/corpus/bach/bwv337.mxl',\n",
       " u'//anaconda/envs/dsi/lib/python2.7/site-packages/music21/corpus/bach/bwv338.mxl',\n",
       " u'//anaconda/envs/dsi/lib/python2.7/site-packages/music21/corpus/bach/bwv339.mxl',\n",
       " u'//anaconda/envs/dsi/lib/python2.7/site-packages/music21/corpus/bach/bwv340.mxl',\n",
       " u'//anaconda/envs/dsi/lib/python2.7/site-packages/music21/corpus/bach/bwv341.mxl',\n",
       " u'//anaconda/envs/dsi/lib/python2.7/site-packages/music21/corpus/bach/bwv342.mxl',\n",
       " u'//anaconda/envs/dsi/lib/python2.7/site-packages/music21/corpus/bach/bwv343.mxl',\n",
       " u'//anaconda/envs/dsi/lib/python2.7/site-packages/music21/corpus/bach/bwv344.mxl',\n",
       " u'//anaconda/envs/dsi/lib/python2.7/site-packages/music21/corpus/bach/bwv345.mxl',\n",
       " u'//anaconda/envs/dsi/lib/python2.7/site-packages/music21/corpus/bach/bwv346.mxl',\n",
       " u'//anaconda/envs/dsi/lib/python2.7/site-packages/music21/corpus/bach/bwv347.mxl',\n",
       " u'//anaconda/envs/dsi/lib/python2.7/site-packages/music21/corpus/bach/bwv348.mxl',\n",
       " u'//anaconda/envs/dsi/lib/python2.7/site-packages/music21/corpus/bach/bwv349.mxl',\n",
       " u'//anaconda/envs/dsi/lib/python2.7/site-packages/music21/corpus/bach/bwv350.mxl',\n",
       " u'//anaconda/envs/dsi/lib/python2.7/site-packages/music21/corpus/bach/bwv351.mxl',\n",
       " u'//anaconda/envs/dsi/lib/python2.7/site-packages/music21/corpus/bach/bwv352.mxl',\n",
       " u'//anaconda/envs/dsi/lib/python2.7/site-packages/music21/corpus/bach/bwv353.mxl',\n",
       " u'//anaconda/envs/dsi/lib/python2.7/site-packages/music21/corpus/bach/bwv354.mxl',\n",
       " u'//anaconda/envs/dsi/lib/python2.7/site-packages/music21/corpus/bach/bwv355.mxl',\n",
       " u'//anaconda/envs/dsi/lib/python2.7/site-packages/music21/corpus/bach/bwv356.mxl',\n",
       " u'//anaconda/envs/dsi/lib/python2.7/site-packages/music21/corpus/bach/bwv357.mxl',\n",
       " u'//anaconda/envs/dsi/lib/python2.7/site-packages/music21/corpus/bach/bwv358.mxl',\n",
       " u'//anaconda/envs/dsi/lib/python2.7/site-packages/music21/corpus/bach/bwv359.mxl',\n",
       " u'//anaconda/envs/dsi/lib/python2.7/site-packages/music21/corpus/bach/bwv36.4-2.mxl',\n",
       " u'//anaconda/envs/dsi/lib/python2.7/site-packages/music21/corpus/bach/bwv36.8-2.mxl',\n",
       " u'//anaconda/envs/dsi/lib/python2.7/site-packages/music21/corpus/bach/bwv360.mxl',\n",
       " u'//anaconda/envs/dsi/lib/python2.7/site-packages/music21/corpus/bach/bwv361.mxl',\n",
       " u'//anaconda/envs/dsi/lib/python2.7/site-packages/music21/corpus/bach/bwv362.mxl',\n",
       " u'//anaconda/envs/dsi/lib/python2.7/site-packages/music21/corpus/bach/bwv363.mxl',\n",
       " u'//anaconda/envs/dsi/lib/python2.7/site-packages/music21/corpus/bach/bwv364.mxl',\n",
       " u'//anaconda/envs/dsi/lib/python2.7/site-packages/music21/corpus/bach/bwv365.mxl',\n",
       " u'//anaconda/envs/dsi/lib/python2.7/site-packages/music21/corpus/bach/bwv366.krn',\n",
       " u'//anaconda/envs/dsi/lib/python2.7/site-packages/music21/corpus/bach/bwv366.mxl',\n",
       " u'//anaconda/envs/dsi/lib/python2.7/site-packages/music21/corpus/bach/bwv367.mxl',\n",
       " u'//anaconda/envs/dsi/lib/python2.7/site-packages/music21/corpus/bach/bwv368.mxl',\n",
       " u'//anaconda/envs/dsi/lib/python2.7/site-packages/music21/corpus/bach/bwv369.mxl',\n",
       " u'//anaconda/envs/dsi/lib/python2.7/site-packages/music21/corpus/bach/bwv37.6.mxl',\n",
       " u'//anaconda/envs/dsi/lib/python2.7/site-packages/music21/corpus/bach/bwv370.mxl',\n",
       " u'//anaconda/envs/dsi/lib/python2.7/site-packages/music21/corpus/bach/bwv371.mxl',\n",
       " u'//anaconda/envs/dsi/lib/python2.7/site-packages/music21/corpus/bach/bwv372.mxl',\n",
       " u'//anaconda/envs/dsi/lib/python2.7/site-packages/music21/corpus/bach/bwv373.mxl',\n",
       " u'//anaconda/envs/dsi/lib/python2.7/site-packages/music21/corpus/bach/bwv374.mxl',\n",
       " u'//anaconda/envs/dsi/lib/python2.7/site-packages/music21/corpus/bach/bwv375.mxl',\n",
       " u'//anaconda/envs/dsi/lib/python2.7/site-packages/music21/corpus/bach/bwv376.mxl',\n",
       " u'//anaconda/envs/dsi/lib/python2.7/site-packages/music21/corpus/bach/bwv377.mxl',\n",
       " u'//anaconda/envs/dsi/lib/python2.7/site-packages/music21/corpus/bach/bwv378.mxl',\n",
       " u'//anaconda/envs/dsi/lib/python2.7/site-packages/music21/corpus/bach/bwv379.mxl',\n",
       " u'//anaconda/envs/dsi/lib/python2.7/site-packages/music21/corpus/bach/bwv38.6.mxl',\n",
       " u'//anaconda/envs/dsi/lib/python2.7/site-packages/music21/corpus/bach/bwv380.mxl',\n",
       " u'//anaconda/envs/dsi/lib/python2.7/site-packages/music21/corpus/bach/bwv381.mxl',\n",
       " u'//anaconda/envs/dsi/lib/python2.7/site-packages/music21/corpus/bach/bwv382.mxl',\n",
       " u'//anaconda/envs/dsi/lib/python2.7/site-packages/music21/corpus/bach/bwv383.mxl',\n",
       " u'//anaconda/envs/dsi/lib/python2.7/site-packages/music21/corpus/bach/bwv384.mxl',\n",
       " u'//anaconda/envs/dsi/lib/python2.7/site-packages/music21/corpus/bach/bwv385.mxl',\n",
       " u'//anaconda/envs/dsi/lib/python2.7/site-packages/music21/corpus/bach/bwv386.mxl',\n",
       " u'//anaconda/envs/dsi/lib/python2.7/site-packages/music21/corpus/bach/bwv387.mxl',\n",
       " u'//anaconda/envs/dsi/lib/python2.7/site-packages/music21/corpus/bach/bwv388.xml',\n",
       " u'//anaconda/envs/dsi/lib/python2.7/site-packages/music21/corpus/bach/bwv389.mxl',\n",
       " u'//anaconda/envs/dsi/lib/python2.7/site-packages/music21/corpus/bach/bwv39.7.mxl',\n",
       " u'//anaconda/envs/dsi/lib/python2.7/site-packages/music21/corpus/bach/bwv390.mxl',\n",
       " u'//anaconda/envs/dsi/lib/python2.7/site-packages/music21/corpus/bach/bwv391.mxl',\n",
       " u'//anaconda/envs/dsi/lib/python2.7/site-packages/music21/corpus/bach/bwv392.mxl',\n",
       " u'//anaconda/envs/dsi/lib/python2.7/site-packages/music21/corpus/bach/bwv393.mxl',\n",
       " u'//anaconda/envs/dsi/lib/python2.7/site-packages/music21/corpus/bach/bwv394.mxl',\n",
       " u'//anaconda/envs/dsi/lib/python2.7/site-packages/music21/corpus/bach/bwv395.mxl',\n",
       " u'//anaconda/envs/dsi/lib/python2.7/site-packages/music21/corpus/bach/bwv396.mxl',\n",
       " u'//anaconda/envs/dsi/lib/python2.7/site-packages/music21/corpus/bach/bwv397.mxl',\n",
       " u'//anaconda/envs/dsi/lib/python2.7/site-packages/music21/corpus/bach/bwv398.mxl',\n",
       " u'//anaconda/envs/dsi/lib/python2.7/site-packages/music21/corpus/bach/bwv399.mxl',\n",
       " u'//anaconda/envs/dsi/lib/python2.7/site-packages/music21/corpus/bach/bwv4.8.mxl',\n",
       " u'//anaconda/envs/dsi/lib/python2.7/site-packages/music21/corpus/bach/bwv40.3.mxl',\n",
       " u'//anaconda/envs/dsi/lib/python2.7/site-packages/music21/corpus/bach/bwv40.6.mxl',\n",
       " u'//anaconda/envs/dsi/lib/python2.7/site-packages/music21/corpus/bach/bwv40.8.mxl',\n",
       " u'//anaconda/envs/dsi/lib/python2.7/site-packages/music21/corpus/bach/bwv400.mxl',\n",
       " u'//anaconda/envs/dsi/lib/python2.7/site-packages/music21/corpus/bach/bwv401.mxl',\n",
       " u'//anaconda/envs/dsi/lib/python2.7/site-packages/music21/corpus/bach/bwv402.mxl',\n",
       " u'//anaconda/envs/dsi/lib/python2.7/site-packages/music21/corpus/bach/bwv403.mxl',\n",
       " u'//anaconda/envs/dsi/lib/python2.7/site-packages/music21/corpus/bach/bwv404.mxl',\n",
       " u'//anaconda/envs/dsi/lib/python2.7/site-packages/music21/corpus/bach/bwv405.mxl',\n",
       " u'//anaconda/envs/dsi/lib/python2.7/site-packages/music21/corpus/bach/bwv406.mxl',\n",
       " u'//anaconda/envs/dsi/lib/python2.7/site-packages/music21/corpus/bach/bwv407.mxl',\n",
       " u'//anaconda/envs/dsi/lib/python2.7/site-packages/music21/corpus/bach/bwv408.mxl',\n",
       " u'//anaconda/envs/dsi/lib/python2.7/site-packages/music21/corpus/bach/bwv41.6.mxl',\n",
       " u'//anaconda/envs/dsi/lib/python2.7/site-packages/music21/corpus/bach/bwv410.mxl',\n",
       " u'//anaconda/envs/dsi/lib/python2.7/site-packages/music21/corpus/bach/bwv411.mxl',\n",
       " u'//anaconda/envs/dsi/lib/python2.7/site-packages/music21/corpus/bach/bwv412.mxl',\n",
       " u'//anaconda/envs/dsi/lib/python2.7/site-packages/music21/corpus/bach/bwv413.mxl',\n",
       " u'//anaconda/envs/dsi/lib/python2.7/site-packages/music21/corpus/bach/bwv414.mxl',\n",
       " u'//anaconda/envs/dsi/lib/python2.7/site-packages/music21/corpus/bach/bwv415.mxl',\n",
       " u'//anaconda/envs/dsi/lib/python2.7/site-packages/music21/corpus/bach/bwv416.mxl',\n",
       " u'//anaconda/envs/dsi/lib/python2.7/site-packages/music21/corpus/bach/bwv417.mxl',\n",
       " u'//anaconda/envs/dsi/lib/python2.7/site-packages/music21/corpus/bach/bwv418.mxl',\n",
       " u'//anaconda/envs/dsi/lib/python2.7/site-packages/music21/corpus/bach/bwv419.mxl',\n",
       " u'//anaconda/envs/dsi/lib/python2.7/site-packages/music21/corpus/bach/bwv42.7.mxl',\n",
       " u'//anaconda/envs/dsi/lib/python2.7/site-packages/music21/corpus/bach/bwv420.mxl',\n",
       " u'//anaconda/envs/dsi/lib/python2.7/site-packages/music21/corpus/bach/bwv421.mxl',\n",
       " u'//anaconda/envs/dsi/lib/python2.7/site-packages/music21/corpus/bach/bwv422.mxl',\n",
       " u'//anaconda/envs/dsi/lib/python2.7/site-packages/music21/corpus/bach/bwv423.mxl',\n",
       " u'//anaconda/envs/dsi/lib/python2.7/site-packages/music21/corpus/bach/bwv424.mxl',\n",
       " u'//anaconda/envs/dsi/lib/python2.7/site-packages/music21/corpus/bach/bwv425.mxl',\n",
       " u'//anaconda/envs/dsi/lib/python2.7/site-packages/music21/corpus/bach/bwv426.mxl',\n",
       " u'//anaconda/envs/dsi/lib/python2.7/site-packages/music21/corpus/bach/bwv427.mxl',\n",
       " u'//anaconda/envs/dsi/lib/python2.7/site-packages/music21/corpus/bach/bwv428.mxl',\n",
       " u'//anaconda/envs/dsi/lib/python2.7/site-packages/music21/corpus/bach/bwv429.mxl',\n",
       " u'//anaconda/envs/dsi/lib/python2.7/site-packages/music21/corpus/bach/bwv43.11.mxl',\n",
       " u'//anaconda/envs/dsi/lib/python2.7/site-packages/music21/corpus/bach/bwv430.mxl',\n",
       " u'//anaconda/envs/dsi/lib/python2.7/site-packages/music21/corpus/bach/bwv431.mxl',\n",
       " u'//anaconda/envs/dsi/lib/python2.7/site-packages/music21/corpus/bach/bwv432.mxl',\n",
       " u'//anaconda/envs/dsi/lib/python2.7/site-packages/music21/corpus/bach/bwv433.mxl',\n",
       " u'//anaconda/envs/dsi/lib/python2.7/site-packages/music21/corpus/bach/bwv434.mxl',\n",
       " u'//anaconda/envs/dsi/lib/python2.7/site-packages/music21/corpus/bach/bwv435.mxl',\n",
       " u'//anaconda/envs/dsi/lib/python2.7/site-packages/music21/corpus/bach/bwv436.mxl',\n",
       " u'//anaconda/envs/dsi/lib/python2.7/site-packages/music21/corpus/bach/bwv437.mxl',\n",
       " u'//anaconda/envs/dsi/lib/python2.7/site-packages/music21/corpus/bach/bwv438.mxl',\n",
       " u'//anaconda/envs/dsi/lib/python2.7/site-packages/music21/corpus/bach/bwv44.7.mxl',\n",
       " u'//anaconda/envs/dsi/lib/python2.7/site-packages/music21/corpus/bach/bwv45.7.mxl',\n",
       " u'//anaconda/envs/dsi/lib/python2.7/site-packages/music21/corpus/bach/bwv47.5.mxl',\n",
       " u'//anaconda/envs/dsi/lib/python2.7/site-packages/music21/corpus/bach/bwv48.3.mxl',\n",
       " u'//anaconda/envs/dsi/lib/python2.7/site-packages/music21/corpus/bach/bwv48.7.mxl',\n",
       " u'//anaconda/envs/dsi/lib/python2.7/site-packages/music21/corpus/bach/bwv5.7.mxl',\n",
       " u'//anaconda/envs/dsi/lib/python2.7/site-packages/music21/corpus/bach/bwv52.6.mxl',\n",
       " u'//anaconda/envs/dsi/lib/python2.7/site-packages/music21/corpus/bach/bwv55.5.mxl',\n",
       " u'//anaconda/envs/dsi/lib/python2.7/site-packages/music21/corpus/bach/bwv56.5.mxl',\n",
       " u'//anaconda/envs/dsi/lib/python2.7/site-packages/music21/corpus/bach/bwv57.8.mxl',\n",
       " u'//anaconda/envs/dsi/lib/python2.7/site-packages/music21/corpus/bach/bwv59.3.mxl',\n",
       " u'//anaconda/envs/dsi/lib/python2.7/site-packages/music21/corpus/bach/bwv6.6.mxl',\n",
       " u'//anaconda/envs/dsi/lib/python2.7/site-packages/music21/corpus/bach/bwv60.5.mxl',\n",
       " u'//anaconda/envs/dsi/lib/python2.7/site-packages/music21/corpus/bach/bwv64.2.mxl',\n",
       " u'//anaconda/envs/dsi/lib/python2.7/site-packages/music21/corpus/bach/bwv64.4.mxl',\n",
       " u'//anaconda/envs/dsi/lib/python2.7/site-packages/music21/corpus/bach/bwv64.8.mxl',\n",
       " u'//anaconda/envs/dsi/lib/python2.7/site-packages/music21/corpus/bach/bwv65.2.mxl',\n",
       " u'//anaconda/envs/dsi/lib/python2.7/site-packages/music21/corpus/bach/bwv65.7.mxl',\n",
       " u'//anaconda/envs/dsi/lib/python2.7/site-packages/music21/corpus/bach/bwv66.6.mxl',\n",
       " u'//anaconda/envs/dsi/lib/python2.7/site-packages/music21/corpus/bach/bwv67.4.xml',\n",
       " u'//anaconda/envs/dsi/lib/python2.7/site-packages/music21/corpus/bach/bwv67.7.mxl',\n",
       " u'//anaconda/envs/dsi/lib/python2.7/site-packages/music21/corpus/bach/bwv69.6-a.xml',\n",
       " u'//anaconda/envs/dsi/lib/python2.7/site-packages/music21/corpus/bach/bwv69.6.xml',\n",
       " u'//anaconda/envs/dsi/lib/python2.7/site-packages/music21/corpus/bach/bwv7.7.mxl',\n",
       " u'//anaconda/envs/dsi/lib/python2.7/site-packages/music21/corpus/bach/bwv70.11.mxl',\n",
       " u'//anaconda/envs/dsi/lib/python2.7/site-packages/music21/corpus/bach/bwv70.7.mxl',\n",
       " u'//anaconda/envs/dsi/lib/python2.7/site-packages/music21/corpus/bach/bwv72.6.mxl',\n",
       " u'//anaconda/envs/dsi/lib/python2.7/site-packages/music21/corpus/bach/bwv73.5.mxl',\n",
       " u'//anaconda/envs/dsi/lib/python2.7/site-packages/music21/corpus/bach/bwv74.8.mxl',\n",
       " u'//anaconda/envs/dsi/lib/python2.7/site-packages/music21/corpus/bach/bwv77.6.mxl',\n",
       " u'//anaconda/envs/dsi/lib/python2.7/site-packages/music21/corpus/bach/bwv78.7.mxl',\n",
       " u'//anaconda/envs/dsi/lib/python2.7/site-packages/music21/corpus/bach/bwv79.3.mxl',\n",
       " u'//anaconda/envs/dsi/lib/python2.7/site-packages/music21/corpus/bach/bwv79.6.mxl',\n",
       " u'//anaconda/envs/dsi/lib/python2.7/site-packages/music21/corpus/bach/bwv8.6.mxl',\n",
       " u'//anaconda/envs/dsi/lib/python2.7/site-packages/music21/corpus/bach/bwv80.8.mxl',\n",
       " u'//anaconda/envs/dsi/lib/python2.7/site-packages/music21/corpus/bach/bwv81.7.mxl',\n",
       " u'//anaconda/envs/dsi/lib/python2.7/site-packages/music21/corpus/bach/bwv83.5.mxl',\n",
       " u'//anaconda/envs/dsi/lib/python2.7/site-packages/music21/corpus/bach/bwv84.5.mxl',\n",
       " u'//anaconda/envs/dsi/lib/python2.7/site-packages/music21/corpus/bach/bwv846.mxl',\n",
       " u'//anaconda/envs/dsi/lib/python2.7/site-packages/music21/corpus/bach/bwv85.6.mxl',\n",
       " u'//anaconda/envs/dsi/lib/python2.7/site-packages/music21/corpus/bach/bwv86.6.mxl',\n",
       " u'//anaconda/envs/dsi/lib/python2.7/site-packages/music21/corpus/bach/bwv87.7.mxl',\n",
       " u'//anaconda/envs/dsi/lib/python2.7/site-packages/music21/corpus/bach/bwv88.7.mxl',\n",
       " u'//anaconda/envs/dsi/lib/python2.7/site-packages/music21/corpus/bach/bwv89.6.mxl',\n",
       " u'//anaconda/envs/dsi/lib/python2.7/site-packages/music21/corpus/bach/bwv9.7.mxl',\n",
       " u'//anaconda/envs/dsi/lib/python2.7/site-packages/music21/corpus/bach/bwv90.5.mxl',\n",
       " u'//anaconda/envs/dsi/lib/python2.7/site-packages/music21/corpus/bach/bwv91.6.mxl',\n",
       " u'//anaconda/envs/dsi/lib/python2.7/site-packages/music21/corpus/bach/bwv92.9.mxl',\n",
       " u'//anaconda/envs/dsi/lib/python2.7/site-packages/music21/corpus/bach/bwv93.7.mxl',\n",
       " u'//anaconda/envs/dsi/lib/python2.7/site-packages/music21/corpus/bach/bwv94.8.mxl',\n",
       " u'//anaconda/envs/dsi/lib/python2.7/site-packages/music21/corpus/bach/bwv95.7.mxl',\n",
       " u'//anaconda/envs/dsi/lib/python2.7/site-packages/music21/corpus/bach/bwv96.6.mxl',\n",
       " u'//anaconda/envs/dsi/lib/python2.7/site-packages/music21/corpus/bach/bwv97.9.mxl',\n",
       " u'//anaconda/envs/dsi/lib/python2.7/site-packages/music21/corpus/bach/bwv99.6.mxl',\n",
       " u'//anaconda/envs/dsi/lib/python2.7/site-packages/music21/corpus/bach/choraleAnalyses/riemenschneider001.rntxt',\n",
       " u'//anaconda/envs/dsi/lib/python2.7/site-packages/music21/corpus/bach/choraleAnalyses/riemenschneider002.rntxt',\n",
       " u'//anaconda/envs/dsi/lib/python2.7/site-packages/music21/corpus/bach/choraleAnalyses/riemenschneider003.rntxt',\n",
       " u'//anaconda/envs/dsi/lib/python2.7/site-packages/music21/corpus/bach/choraleAnalyses/riemenschneider004.rntxt',\n",
       " u'//anaconda/envs/dsi/lib/python2.7/site-packages/music21/corpus/bach/choraleAnalyses/riemenschneider005.rntxt',\n",
       " u'//anaconda/envs/dsi/lib/python2.7/site-packages/music21/corpus/bach/choraleAnalyses/riemenschneider006.rntxt',\n",
       " u'//anaconda/envs/dsi/lib/python2.7/site-packages/music21/corpus/bach/choraleAnalyses/riemenschneider007.rntxt',\n",
       " u'//anaconda/envs/dsi/lib/python2.7/site-packages/music21/corpus/bach/choraleAnalyses/riemenschneider008.rntxt',\n",
       " u'//anaconda/envs/dsi/lib/python2.7/site-packages/music21/corpus/bach/choraleAnalyses/riemenschneider009.rntxt',\n",
       " u'//anaconda/envs/dsi/lib/python2.7/site-packages/music21/corpus/bach/choraleAnalyses/riemenschneider010.rntxt',\n",
       " u'//anaconda/envs/dsi/lib/python2.7/site-packages/music21/corpus/bach/choraleAnalyses/riemenschneider011.rntxt',\n",
       " u'//anaconda/envs/dsi/lib/python2.7/site-packages/music21/corpus/bach/choraleAnalyses/riemenschneider012.rntxt',\n",
       " u'//anaconda/envs/dsi/lib/python2.7/site-packages/music21/corpus/bach/choraleAnalyses/riemenschneider013.rntxt',\n",
       " u'//anaconda/envs/dsi/lib/python2.7/site-packages/music21/corpus/bach/choraleAnalyses/riemenschneider014.rntxt',\n",
       " u'//anaconda/envs/dsi/lib/python2.7/site-packages/music21/corpus/bach/choraleAnalyses/riemenschneider015.rntxt',\n",
       " u'//anaconda/envs/dsi/lib/python2.7/site-packages/music21/corpus/bach/choraleAnalyses/riemenschneider016.rntxt',\n",
       " u'//anaconda/envs/dsi/lib/python2.7/site-packages/music21/corpus/bach/choraleAnalyses/riemenschneider017.rntxt',\n",
       " u'//anaconda/envs/dsi/lib/python2.7/site-packages/music21/corpus/bach/choraleAnalyses/riemenschneider018.rntxt',\n",
       " u'//anaconda/envs/dsi/lib/python2.7/site-packages/music21/corpus/bach/choraleAnalyses/riemenschneider019.rntxt',\n",
       " u'//anaconda/envs/dsi/lib/python2.7/site-packages/music21/corpus/bach/choraleAnalyses/riemenschneider020.rntxt']"
      ]
     },
     "execution_count": 120,
     "metadata": {},
     "output_type": "execute_result"
    }
   ],
   "source": [
    "list(bach_composer_search)"
   ]
  },
  {
   "cell_type": "code",
   "execution_count": 114,
   "metadata": {
    "collapsed": false
   },
   "outputs": [
    {
     "name": "stdout",
     "output_type": "stream",
     "text": [
      "145 //anaconda/envs/dsi/lib/python2.7/site-packages/music21/corpus/bach/bwv253.mxl\n"
     ]
    }
   ],
   "source": [
    "for i, path in enumerate(bach_composer_search):\n",
    "    if '253' in path:\n",
    "        print i, path\n",
    "    else:\n",
    "        pass"
   ]
  },
  {
   "cell_type": "code",
   "execution_count": 1,
   "metadata": {
    "collapsed": false,
    "scrolled": true
   },
   "outputs": [
    {
     "data": {
      "text/plain": [
       "<music21.ipython21.objects.IPythonPNGObject at 0x10b921310>"
      ]
     },
     "execution_count": 1,
     "metadata": {},
     "output_type": "execute_result"
    }
   ],
   "source": [
    "import music21 as m21\n",
    "m21.corpus.parse('bach/bwv254.mxl').show()"
   ]
  },
  {
   "cell_type": "code",
   "execution_count": 6,
   "metadata": {
    "collapsed": false,
    "scrolled": true
   },
   "outputs": [
    {
     "name": "stdout",
     "output_type": "stream",
     "text": [
      "bwv 367\n",
      "kalmus 211\n",
      "riemenschneider 140\n",
      "title In allen meinen Taten\n"
     ]
    },
    {
     "data": {
      "text/plain": [
       "<music21.ipython21.objects.IPythonPNGObject at 0x10d165190>"
      ]
     },
     "execution_count": 6,
     "metadata": {},
     "output_type": "execute_result"
    }
   ],
   "source": [
    "# from music21 import corpus\n",
    "bcl = m21.corpus.chorales.ChoraleListRKBWV()\n",
    "info155 = bcl.byRiemenschneider[140]\n",
    "for key in sorted(list(info155)):\n",
    "    print(\"%s %s\" % (key, info155[key]))\n",
    "c = m21.corpus.parse('bach/bwv' + str(info155['bwv']))\n",
    "c.show()"
   ]
  },
  {
   "cell_type": "code",
   "execution_count": 140,
   "metadata": {
    "collapsed": false
   },
   "outputs": [
    {
     "data": {
      "text/plain": [
       "'/Applications/Lilypond.app/Contents/Resources/bin/lilypond'"
      ]
     },
     "execution_count": 140,
     "metadata": {},
     "output_type": "execute_result"
    }
   ],
   "source": [
    "m21.environment.UserSettings()['lilypondPath']"
   ]
  },
  {
   "cell_type": "code",
   "execution_count": 7,
   "metadata": {
    "collapsed": false
   },
   "outputs": [
    {
     "ename": "LilyTranslateException",
     "evalue": "cannot find tmp0DSvBu.ly.png or the full path /var/folders/8m/2514qm2178sdhfw2c92s663c0000gn/T/music21/tmp0DSvBu.ly.png original file was /var/folders/8m/2514qm2178sdhfw2c92s663c0000gn/T/music21/tmp0DSvBu.ly",
     "output_type": "error",
     "traceback": [
      "\u001b[0;31m---------------------------------------------------------------------------\u001b[0m",
      "\u001b[0;31mLilyTranslateException\u001b[0m                    Traceback (most recent call last)",
      "\u001b[0;32m<ipython-input-7-e64ad96c0110>\u001b[0m in \u001b[0;36m<module>\u001b[0;34m()\u001b[0m\n\u001b[0;32m----> 1\u001b[0;31m \u001b[0mc\u001b[0m\u001b[0;34m.\u001b[0m\u001b[0mshow\u001b[0m\u001b[0;34m(\u001b[0m\u001b[0;34m'lily'\u001b[0m\u001b[0;34m)\u001b[0m\u001b[0;34m\u001b[0m\u001b[0m\n\u001b[0m",
      "\u001b[0;32m//anaconda/envs/dsi/lib/python2.7/site-packages/music21/stream/__init__.pyc\u001b[0m in \u001b[0;36mshow\u001b[0;34m(self, *args, **kwargs)\u001b[0m\n\u001b[1;32m    255\u001b[0m         \u001b[0;32mif\u001b[0m \u001b[0mself\u001b[0m\u001b[0;34m.\u001b[0m\u001b[0misSorted\u001b[0m \u001b[0;32mis\u001b[0m \u001b[0mFalse\u001b[0m \u001b[0;32mand\u001b[0m \u001b[0mself\u001b[0m\u001b[0;34m.\u001b[0m\u001b[0mautoSort\u001b[0m\u001b[0;34m:\u001b[0m\u001b[0;34m\u001b[0m\u001b[0m\n\u001b[1;32m    256\u001b[0m             \u001b[0mself\u001b[0m\u001b[0;34m.\u001b[0m\u001b[0msort\u001b[0m\u001b[0;34m(\u001b[0m\u001b[0;34m)\u001b[0m\u001b[0;34m\u001b[0m\u001b[0m\n\u001b[0;32m--> 257\u001b[0;31m         \u001b[0;32mreturn\u001b[0m \u001b[0msuper\u001b[0m\u001b[0;34m(\u001b[0m\u001b[0mStream\u001b[0m\u001b[0;34m,\u001b[0m \u001b[0mself\u001b[0m\u001b[0;34m)\u001b[0m\u001b[0;34m.\u001b[0m\u001b[0mshow\u001b[0m\u001b[0;34m(\u001b[0m\u001b[0;34m*\u001b[0m\u001b[0margs\u001b[0m\u001b[0;34m,\u001b[0m \u001b[0;34m**\u001b[0m\u001b[0mkwargs\u001b[0m\u001b[0;34m)\u001b[0m\u001b[0;34m\u001b[0m\u001b[0m\n\u001b[0m\u001b[1;32m    258\u001b[0m \u001b[0;34m\u001b[0m\u001b[0m\n\u001b[1;32m    259\u001b[0m     \u001b[0;31m#---------------------------------------------------------------------------\u001b[0m\u001b[0;34m\u001b[0m\u001b[0;34m\u001b[0m\u001b[0m\n",
      "\u001b[0;32m//anaconda/envs/dsi/lib/python2.7/site-packages/music21/base.pyc\u001b[0m in \u001b[0;36mshow\u001b[0;34m(self, fmt, app, **keywords)\u001b[0m\n\u001b[1;32m   2586\u001b[0m                                  \u001b[0mapp\u001b[0m\u001b[0;34m=\u001b[0m\u001b[0mapp\u001b[0m\u001b[0;34m,\u001b[0m\u001b[0;34m\u001b[0m\u001b[0m\n\u001b[1;32m   2587\u001b[0m                                  \u001b[0msubformats\u001b[0m\u001b[0;34m=\u001b[0m\u001b[0msubformats\u001b[0m\u001b[0;34m,\u001b[0m\u001b[0;34m\u001b[0m\u001b[0m\n\u001b[0;32m-> 2588\u001b[0;31m                                  **keywords)\n\u001b[0m\u001b[1;32m   2589\u001b[0m \u001b[0;34m\u001b[0m\u001b[0m\n\u001b[1;32m   2590\u001b[0m     \u001b[0;31m#--------------------------------------------------------------------------\u001b[0m\u001b[0;34m\u001b[0m\u001b[0;34m\u001b[0m\u001b[0m\n",
      "\u001b[0;32m//anaconda/envs/dsi/lib/python2.7/site-packages/music21/converter/subConverters.pyc\u001b[0m in \u001b[0;36mshow\u001b[0;34m(self, obj, fmt, app, subformats, **keywords)\u001b[0m\n\u001b[1;32m    407\u001b[0m         \u001b[0;32mif\u001b[0m \u001b[0msubformats\u001b[0m \u001b[0;32mis\u001b[0m \u001b[0mNone\u001b[0m \u001b[0;32mor\u001b[0m \u001b[0mlen\u001b[0m\u001b[0;34m(\u001b[0m\u001b[0msubformats\u001b[0m\u001b[0;34m)\u001b[0m \u001b[0;34m==\u001b[0m \u001b[0;36m0\u001b[0m\u001b[0;34m:\u001b[0m\u001b[0;34m\u001b[0m\u001b[0m\n\u001b[1;32m    408\u001b[0m             \u001b[0msubformats\u001b[0m \u001b[0;34m=\u001b[0m \u001b[0;34m[\u001b[0m\u001b[0;34m'png'\u001b[0m\u001b[0;34m]\u001b[0m\u001b[0;34m\u001b[0m\u001b[0m\n\u001b[0;32m--> 409\u001b[0;31m         \u001b[0mreturnedFilePath\u001b[0m \u001b[0;34m=\u001b[0m \u001b[0mself\u001b[0m\u001b[0;34m.\u001b[0m\u001b[0mwrite\u001b[0m\u001b[0;34m(\u001b[0m\u001b[0mobj\u001b[0m\u001b[0;34m,\u001b[0m \u001b[0mfmt\u001b[0m\u001b[0;34m,\u001b[0m \u001b[0msubformats\u001b[0m\u001b[0;34m=\u001b[0m\u001b[0msubformats\u001b[0m\u001b[0;34m,\u001b[0m \u001b[0;34m**\u001b[0m\u001b[0mkeywords\u001b[0m\u001b[0;34m)\u001b[0m\u001b[0;34m\u001b[0m\u001b[0m\n\u001b[0m\u001b[1;32m    410\u001b[0m         \u001b[0;32mif\u001b[0m \u001b[0msubformats\u001b[0m \u001b[0;32mis\u001b[0m \u001b[0;32mnot\u001b[0m \u001b[0mNone\u001b[0m \u001b[0;32mand\u001b[0m \u001b[0msubformats\u001b[0m\u001b[0;34m:\u001b[0m\u001b[0;34m\u001b[0m\u001b[0m\n\u001b[1;32m    411\u001b[0m             \u001b[0moutFormat\u001b[0m \u001b[0;34m=\u001b[0m \u001b[0msubformats\u001b[0m\u001b[0;34m[\u001b[0m\u001b[0;36m0\u001b[0m\u001b[0;34m]\u001b[0m\u001b[0;34m\u001b[0m\u001b[0m\n",
      "\u001b[0;32m//anaconda/envs/dsi/lib/python2.7/site-packages/music21/converter/subConverters.pyc\u001b[0m in \u001b[0;36mwrite\u001b[0;34m(self, obj, fmt, fp, subformats, **keywords)\u001b[0m\n\u001b[1;32m    381\u001b[0m         \u001b[0;32melif\u001b[0m \u001b[0msubformats\u001b[0m \u001b[0;32mis\u001b[0m \u001b[0;32mnot\u001b[0m \u001b[0mNone\u001b[0m \u001b[0;32mand\u001b[0m \u001b[0;34m'png'\u001b[0m \u001b[0;32min\u001b[0m \u001b[0msubformats\u001b[0m\u001b[0;34m:\u001b[0m\u001b[0;34m\u001b[0m\u001b[0m\n\u001b[1;32m    382\u001b[0m             \u001b[0mconv\u001b[0m\u001b[0;34m.\u001b[0m\u001b[0mloadFromMusic21Object\u001b[0m\u001b[0;34m(\u001b[0m\u001b[0mobj\u001b[0m\u001b[0;34m)\u001b[0m\u001b[0;34m\u001b[0m\u001b[0m\n\u001b[0;32m--> 383\u001b[0;31m             \u001b[0mconvertedFilePath\u001b[0m \u001b[0;34m=\u001b[0m \u001b[0mconv\u001b[0m\u001b[0;34m.\u001b[0m\u001b[0mcreatePNG\u001b[0m\u001b[0;34m(\u001b[0m\u001b[0mfp\u001b[0m\u001b[0;34m)\u001b[0m\u001b[0;34m\u001b[0m\u001b[0m\n\u001b[0m\u001b[1;32m    384\u001b[0m             \u001b[0;32mif\u001b[0m \u001b[0;34m'ipython'\u001b[0m \u001b[0;32min\u001b[0m \u001b[0msubformats\u001b[0m\u001b[0;34m:\u001b[0m\u001b[0;34m\u001b[0m\u001b[0m\n\u001b[1;32m    385\u001b[0m                 \u001b[0;32mfrom\u001b[0m \u001b[0mmusic21\u001b[0m\u001b[0;34m.\u001b[0m\u001b[0mipython21\u001b[0m \u001b[0;32mimport\u001b[0m \u001b[0mobjects\u001b[0m \u001b[0;32mas\u001b[0m \u001b[0mipythonObjects\u001b[0m\u001b[0;34m\u001b[0m\u001b[0m\n",
      "\u001b[0;32m//anaconda/envs/dsi/lib/python2.7/site-packages/music21/lily/translate.pyc\u001b[0m in \u001b[0;36mcreatePNG\u001b[0;34m(self, fileName)\u001b[0m\n\u001b[1;32m   2485\u001b[0m         \u001b[0;32mif\u001b[0m \u001b[0mPIL\u001b[0m \u001b[0;32mis\u001b[0m \u001b[0minstalled\u001b[0m \u001b[0mthen\u001b[0m \u001b[0ma\u001b[0m \u001b[0msmall\u001b[0m \u001b[0mwhite\u001b[0m \u001b[0mborder\u001b[0m \u001b[0;32mis\u001b[0m \u001b[0mcreated\u001b[0m \u001b[0maround\u001b[0m \u001b[0mthe\u001b[0m \u001b[0mscore\u001b[0m\u001b[0;34m\u001b[0m\u001b[0m\n\u001b[1;32m   2486\u001b[0m         '''\n\u001b[0;32m-> 2487\u001b[0;31m         \u001b[0mlilyFile\u001b[0m \u001b[0;34m=\u001b[0m \u001b[0mself\u001b[0m\u001b[0;34m.\u001b[0m\u001b[0mrunThroughLily\u001b[0m\u001b[0;34m(\u001b[0m\u001b[0mbackend\u001b[0m\u001b[0;34m=\u001b[0m\u001b[0;34m'eps'\u001b[0m\u001b[0;34m,\u001b[0m \u001b[0mformat\u001b[0m\u001b[0;34m=\u001b[0m\u001b[0;34m'png'\u001b[0m\u001b[0;34m,\u001b[0m \u001b[0mfileName\u001b[0m\u001b[0;34m=\u001b[0m\u001b[0mfileName\u001b[0m\u001b[0;34m)\u001b[0m\u001b[0;34m\u001b[0m\u001b[0m\n\u001b[0m\u001b[1;32m   2488\u001b[0m         \u001b[0;32mif\u001b[0m \u001b[0mnoPIL\u001b[0m \u001b[0;32mis\u001b[0m \u001b[0mFalse\u001b[0m\u001b[0;34m:\u001b[0m\u001b[0;34m\u001b[0m\u001b[0m\n\u001b[1;32m   2489\u001b[0m             \u001b[0;32mtry\u001b[0m\u001b[0;34m:\u001b[0m\u001b[0;34m\u001b[0m\u001b[0m\n",
      "\u001b[0;32m//anaconda/envs/dsi/lib/python2.7/site-packages/music21/lily/translate.pyc\u001b[0m in \u001b[0;36mrunThroughLily\u001b[0;34m(self, format, backend, fileName, skipWriting)\u001b[0m\n\u001b[1;32m   2442\u001b[0m             \u001b[0;32mif\u001b[0m \u001b[0;32mnot\u001b[0m \u001b[0mos\u001b[0m\u001b[0;34m.\u001b[0m\u001b[0mpath\u001b[0m\u001b[0;34m.\u001b[0m\u001b[0mexists\u001b[0m\u001b[0;34m(\u001b[0m\u001b[0mfileend\u001b[0m\u001b[0;34m)\u001b[0m\u001b[0;34m:\u001b[0m\u001b[0;34m\u001b[0m\u001b[0m\n\u001b[1;32m   2443\u001b[0m                 raise LilyTranslateException(\"cannot find \" + fileend + \n\u001b[0;32m-> 2444\u001b[0;31m                                 \" or the full path \" + fileform + \" original file was \" + fileName)\n\u001b[0m\u001b[1;32m   2445\u001b[0m             \u001b[0;32melse\u001b[0m\u001b[0;34m:\u001b[0m\u001b[0;34m\u001b[0m\u001b[0m\n\u001b[1;32m   2446\u001b[0m                 \u001b[0mfileform\u001b[0m \u001b[0;34m=\u001b[0m \u001b[0mfileend\u001b[0m\u001b[0;34m\u001b[0m\u001b[0m\n",
      "\u001b[0;31mLilyTranslateException\u001b[0m: cannot find tmp0DSvBu.ly.png or the full path /var/folders/8m/2514qm2178sdhfw2c92s663c0000gn/T/music21/tmp0DSvBu.ly.png original file was /var/folders/8m/2514qm2178sdhfw2c92s663c0000gn/T/music21/tmp0DSvBu.ly"
     ]
    }
   ],
   "source": [
    "c.show('lily')"
   ]
  },
  {
   "cell_type": "code",
   "execution_count": 25,
   "metadata": {
    "collapsed": false
   },
   "outputs": [
    {
     "name": "stdout",
     "output_type": "stream",
     "text": [
      "{0.0} <music21.text.TextBox \"BWV 367\">\n",
      "{0.0} <music21.text.TextBox \"PDF © 2003...\">\n",
      "{0.0} <music21.metadata.Metadata object at 0x10c4c2f10>\n",
      "{0.0} <music21.stream.Part Soprano>\n",
      "    {0.0} <music21.instrument.Instrument P1: Soprano: Instrument 1>\n",
      "    {0.0} <music21.stream.Measure 0 offset=0.0>\n",
      "        {0.0} <music21.layout.SystemLayout>\n",
      "        {0.0} <music21.clef.TrebleClef>\n",
      "        {0.0} <music21.key.Key of C major>\n",
      "        {0.0} <music21.meter.TimeSignature 4/4>\n",
      "        {0.0} <music21.note.Note G>\n",
      "    {1.0} <music21.stream.Measure 1 offset=1.0>\n",
      "        {0.0} <music21.note.Note C>\n",
      "        {1.0} <music21.note.Note C>\n",
      "        {2.0} <music21.note.Note D>\n",
      "        {3.0} <music21.note.Note D>\n",
      "    {5.0} <music21.stream.Measure 2 offset=5.0>\n",
      "        {0.0} <music21.note.Note E>\n",
      "        {2.0} <music21.note.Note D>\n",
      "        {3.0} <music21.note.Note D>\n",
      "    {9.0} <music21.stream.Measure 3 offset=9.0>\n",
      "        {0.0} <music21.note.Note C>\n",
      "        {1.0} <music21.note.Note B>\n",
      "        {2.0} <music21.note.Note A>\n",
      "        {3.0} <music21.note.Note A>\n",
      "    {13.0} <music21.stream.Measure 4 offset=13.0>\n",
      "        {0.0} <music21.note.Note B>\n",
      "        {2.0} <music21.note.Note B>\n",
      "        {3.0} <music21.note.Note G>\n",
      "    {17.0} <music21.stream.Measure 5 offset=17.0>\n",
      "        {0.0} <music21.layout.SystemLayout>\n",
      "        {0.0} <music21.note.Note G>\n",
      "        {1.0} <music21.note.Note G>\n",
      "        {2.0} <music21.note.Note C>\n",
      "        {3.0} <music21.note.Note C>\n",
      "    {21.0} <music21.stream.Measure 6 offset=21.0>\n",
      "        {0.0} <music21.note.Note B>\n",
      "        {2.0} <music21.note.Rest rest>\n",
      "        {3.0} <music21.note.Note B>\n",
      "    {25.0} <music21.stream.Measure 7 offset=25.0>\n",
      "        {0.0} <music21.note.Note E>\n",
      "        {1.0} <music21.note.Note E>\n",
      "        {2.0} <music21.note.Note C>\n",
      "        {3.0} <music21.note.Note C>\n",
      "    {29.0} <music21.stream.Measure 8 offset=29.0>\n",
      "        {0.0} <music21.note.Note D>\n",
      "        {2.0} <music21.note.Note B>\n",
      "        {3.0} <music21.note.Note B>\n",
      "    {33.0} <music21.stream.Measure 9 offset=33.0>\n",
      "        {0.0} <music21.layout.SystemLayout>\n",
      "        {0.0} <music21.note.Note C>\n",
      "        {1.0} <music21.note.Note C>\n",
      "        {2.0} <music21.note.Note A>\n",
      "        {3.0} <music21.note.Note A>\n",
      "    {37.0} <music21.stream.Measure 10 offset=37.0>\n",
      "        {0.0} <music21.note.Note B>\n",
      "        {2.0} <music21.note.Note G>\n",
      "        {3.0} <music21.note.Note G>\n",
      "    {41.0} <music21.stream.Measure 11 offset=41.0>\n",
      "        {0.0} <music21.note.Note C>\n",
      "        {1.0} <music21.note.Note D>\n",
      "        {2.0} <music21.note.Note E>\n",
      "        {3.0} <music21.note.Note D>\n",
      "    {45.0} <music21.stream.Measure 12 offset=45.0>\n",
      "        {0.0} <music21.note.Note C>\n",
      "        {3.0} <music21.bar.Barline style=final>\n",
      "{0.0} <music21.stream.Part Alto>\n",
      "    {0.0} <music21.instrument.Instrument P2: Alto: Instrument 2>\n",
      "    {0.0} <music21.stream.Measure 0 offset=0.0>\n",
      "        {0.0} <music21.clef.TrebleClef>\n",
      "        {0.0} <music21.key.Key of C major>\n",
      "        {0.0} <music21.meter.TimeSignature 4/4>\n",
      "        {0.0} <music21.note.Note E>\n",
      "    {1.0} <music21.stream.Measure 1 offset=1.0>\n",
      "        {0.0} <music21.note.Note E>\n",
      "        {0.5} <music21.note.Note F>\n",
      "        {1.0} <music21.note.Note G>\n",
      "        {2.0} <music21.note.Note A>\n",
      "        {3.0} <music21.note.Note G>\n",
      "    {5.0} <music21.stream.Measure 2 offset=5.0>\n",
      "        {0.0} <music21.note.Note G>\n",
      "        {2.0} <music21.note.Note G>\n",
      "        {3.0} <music21.note.Note G>\n",
      "    {9.0} <music21.stream.Measure 3 offset=9.0>\n",
      "        {0.0} <music21.note.Note G>\n",
      "        {0.5} <music21.note.Note F#>\n",
      "        {1.0} <music21.note.Note G>\n",
      "        {2.0} <music21.note.Note G>\n",
      "        {3.0} <music21.note.Note F#>\n",
      "    {13.0} <music21.stream.Measure 4 offset=13.0>\n",
      "        {0.0} <music21.note.Note G>\n",
      "        {2.0} <music21.note.Note G>\n",
      "        {3.0} <music21.note.Note D>\n",
      "    {17.0} <music21.stream.Measure 5 offset=17.0>\n",
      "        {0.0} <music21.layout.SystemLayout>\n",
      "        {0.0} <music21.note.Note E>\n",
      "        {1.0} <music21.note.Note E>\n",
      "        {2.0} <music21.note.Note A>\n",
      "        {3.0} <music21.note.Note A>\n",
      "    {21.0} <music21.stream.Measure 6 offset=21.0>\n",
      "        {0.0} <music21.note.Note G#>\n",
      "        {2.0} <music21.note.Rest rest>\n",
      "        {3.0} <music21.note.Note G>\n",
      "    {25.0} <music21.stream.Measure 7 offset=25.0>\n",
      "        {0.0} <music21.note.Note G>\n",
      "        {1.0} <music21.note.Note G>\n",
      "        {2.0} <music21.note.Note F>\n",
      "        {3.0} <music21.note.Note F>\n",
      "    {29.0} <music21.stream.Measure 8 offset=29.0>\n",
      "        {0.0} <music21.note.Note F#>\n",
      "        {0.5} <music21.note.Note G>\n",
      "        {1.0} <music21.note.Note A>\n",
      "        {1.5} <music21.note.Note F#>\n",
      "        {2.0} <music21.note.Note G>\n",
      "        {3.0} <music21.note.Note G>\n",
      "    {33.0} <music21.stream.Measure 9 offset=33.0>\n",
      "        {0.0} <music21.layout.SystemLayout>\n",
      "        {0.0} <music21.note.Note G>\n",
      "        {1.0} <music21.note.Note G>\n",
      "        {2.0} <music21.note.Note F#>\n",
      "        {3.0} <music21.note.Note F#>\n",
      "    {37.0} <music21.stream.Measure 10 offset=37.0>\n",
      "        {0.0} <music21.note.Note F#>\n",
      "        {1.0} <music21.note.Note B>\n",
      "        {2.0} <music21.note.Note B>\n",
      "        {3.0} <music21.note.Note B>\n",
      "    {41.0} <music21.stream.Measure 11 offset=41.0>\n",
      "        {0.0} <music21.note.Note C>\n",
      "        {1.0} <music21.note.Note F>\n",
      "        {2.0} <music21.note.Note E>\n",
      "        {2.5} <music21.note.Note F>\n",
      "        {3.0} <music21.note.Note G>\n",
      "        {3.5} <music21.note.Note F>\n",
      "    {45.0} <music21.stream.Measure 12 offset=45.0>\n",
      "        {0.0} <music21.note.Note E>\n",
      "        {3.0} <music21.bar.Barline style=final>\n",
      "{0.0} <music21.stream.Part Tenor>\n",
      "    {0.0} <music21.instrument.Instrument P3: Tenor: Instrument 3>\n",
      "    {0.0} <music21.stream.Measure 0 offset=0.0>\n",
      "        {0.0} <music21.layout.SystemLayout>\n",
      "        {0.0} <music21.layout.StaffLayout distance 70, staffNumber 1, staffSize None, staffLines None>\n",
      "        {0.0} <music21.clef.BassClef>\n",
      "        {0.0} <music21.key.Key of C major>\n",
      "        {0.0} <music21.meter.TimeSignature 4/4>\n",
      "        {0.0} <music21.note.Note C>\n",
      "    {1.0} <music21.stream.Measure 1 offset=1.0>\n",
      "        {0.0} <music21.note.Note C>\n",
      "        {1.0} <music21.note.Note C>\n",
      "        {2.0} <music21.note.Note C>\n",
      "        {3.0} <music21.note.Note B>\n",
      "    {5.0} <music21.stream.Measure 2 offset=5.0>\n",
      "        {0.0} <music21.note.Note C>\n",
      "        {2.0} <music21.note.Note B>\n",
      "        {3.0} <music21.note.Note B>\n",
      "    {9.0} <music21.stream.Measure 3 offset=9.0>\n",
      "        {0.0} <music21.note.Note C>\n",
      "        {1.0} <music21.note.Note D>\n",
      "        {2.0} <music21.note.Note E>\n",
      "        {3.0} <music21.note.Note D>\n",
      "    {13.0} <music21.stream.Measure 4 offset=13.0>\n",
      "        {0.0} <music21.note.Note D>\n",
      "        {2.0} <music21.note.Note D>\n",
      "        {3.0} <music21.note.Note B>\n",
      "    {17.0} <music21.stream.Measure 5 offset=17.0>\n",
      "        {0.0} <music21.layout.SystemLayout>\n",
      "        {0.0} <music21.layout.StaffLayout distance 70, staffNumber 1, staffSize None, staffLines None>\n",
      "        {0.0} <music21.note.Note C>\n",
      "        {1.0} <music21.note.Note C>\n",
      "        {1.5} <music21.note.Note D>\n",
      "        {2.0} <music21.note.Note E>\n",
      "        {3.0} <music21.note.Note E>\n",
      "    {21.0} <music21.stream.Measure 6 offset=21.0>\n",
      "        {0.0} <music21.note.Note E>\n",
      "        {2.0} <music21.note.Rest rest>\n",
      "        {3.0} <music21.note.Note E>\n",
      "    {25.0} <music21.stream.Measure 7 offset=25.0>\n",
      "        {0.0} <music21.note.Note E>\n",
      "        {0.5} <music21.note.Note D>\n",
      "        {1.0} <music21.note.Note C>\n",
      "        {1.5} <music21.note.Note B>\n",
      "        {2.0} <music21.note.Note A>\n",
      "        {2.5} <music21.note.Note B>\n",
      "        {3.0} <music21.note.Note C>\n",
      "        {3.5} <music21.note.Note A>\n",
      "    {29.0} <music21.stream.Measure 8 offset=29.0>\n",
      "        {0.0} <music21.note.Note A>\n",
      "        {1.0} <music21.note.Note D>\n",
      "        {2.0} <music21.note.Note D>\n",
      "        {3.0} <music21.note.Note D>\n",
      "    {33.0} <music21.stream.Measure 9 offset=33.0>\n",
      "        {0.0} <music21.layout.SystemLayout>\n",
      "        {0.0} <music21.layout.StaffLayout distance 70, staffNumber 1, staffSize None, staffLines None>\n",
      "        {0.0} <music21.note.Note E>\n",
      "        {1.0} <music21.note.Note E>\n",
      "        {2.0} <music21.note.Note E>\n",
      "        {3.0} <music21.note.Note D>\n",
      "    {37.0} <music21.stream.Measure 10 offset=37.0>\n",
      "        {0.0} <music21.note.Note D#>\n",
      "        {0.5} <music21.note.Note E>\n",
      "        {1.0} <music21.note.Note F#>\n",
      "        {1.5} <music21.note.Note D#>\n",
      "        {2.0} <music21.note.Note E>\n",
      "        {3.0} <music21.note.Note D>\n",
      "    {41.0} <music21.stream.Measure 11 offset=41.0>\n",
      "        {0.0} <music21.note.Note G>\n",
      "        {1.0} <music21.note.Note B>\n",
      "        {2.0} <music21.note.Note C>\n",
      "        {3.0} <music21.note.Note B>\n",
      "    {45.0} <music21.stream.Measure 12 offset=45.0>\n",
      "        {0.0} <music21.note.Note G>\n",
      "        {3.0} <music21.bar.Barline style=final>\n",
      "{0.0} <music21.stream.Part Bass>\n",
      "    {0.0} <music21.instrument.Instrument P4: Bass: Instrument 4>\n",
      "    {0.0} <music21.stream.Measure 0 offset=0.0>\n",
      "        {0.0} <music21.clef.BassClef>\n",
      "        {0.0} <music21.key.Key of C major>\n",
      "        {0.0} <music21.meter.TimeSignature 4/4>\n",
      "        {0.0} <music21.note.Note C>\n",
      "    {1.0} <music21.stream.Measure 1 offset=1.0>\n",
      "        {0.0} <music21.note.Note C>\n",
      "        {0.5} <music21.note.Note D>\n",
      "        {1.0} <music21.note.Note E>\n",
      "        {2.0} <music21.note.Note F>\n",
      "        {3.0} <music21.note.Note G>\n",
      "    {5.0} <music21.stream.Measure 2 offset=5.0>\n",
      "        {0.0} <music21.note.Note C>\n",
      "        {0.5} <music21.note.Note D>\n",
      "        {1.0} <music21.note.Note E>\n",
      "        {1.5} <music21.note.Note F>\n",
      "        {2.0} <music21.note.Note G>\n",
      "        {3.0} <music21.note.Note G>\n",
      "    {9.0} <music21.stream.Measure 3 offset=9.0>\n",
      "        {0.0} <music21.note.Note A>\n",
      "        {1.0} <music21.note.Note B>\n",
      "        {2.0} <music21.note.Note C>\n",
      "        {3.0} <music21.note.Note D>\n",
      "    {13.0} <music21.stream.Measure 4 offset=13.0>\n",
      "        {0.0} <music21.note.Note G>\n",
      "        {2.0} <music21.note.Note G>\n",
      "        {3.0} <music21.note.Note G>\n",
      "        {3.5} <music21.note.Note F>\n",
      "    {17.0} <music21.stream.Measure 5 offset=17.0>\n",
      "        {0.0} <music21.layout.SystemLayout>\n",
      "        {0.0} <music21.note.Note E>\n",
      "        {0.5} <music21.note.Note D>\n",
      "        {1.0} <music21.note.Note C>\n",
      "        {1.5} <music21.note.Note B>\n",
      "        {2.0} <music21.note.Note A>\n",
      "        {2.5} <music21.note.Note B>\n",
      "        {3.0} <music21.note.Note C>\n",
      "        {3.5} <music21.note.Note D>\n",
      "    {21.0} <music21.stream.Measure 6 offset=21.0>\n",
      "        {0.0} <music21.note.Note E>\n",
      "        {2.0} <music21.note.Rest rest>\n",
      "        {3.0} <music21.note.Note E>\n",
      "        {3.5} <music21.note.Note D>\n",
      "    {25.0} <music21.stream.Measure 7 offset=25.0>\n",
      "        {0.0} <music21.note.Note C>\n",
      "        {0.5} <music21.note.Note D>\n",
      "        {1.0} <music21.note.Note E>\n",
      "        {1.5} <music21.note.Note C>\n",
      "        {2.0} <music21.note.Note F>\n",
      "        {2.5} <music21.note.Note G>\n",
      "        {3.0} <music21.note.Note A>\n",
      "        {3.5} <music21.note.Note F>\n",
      "    {29.0} <music21.stream.Measure 8 offset=29.0>\n",
      "        {0.0} <music21.note.Note D>\n",
      "        {0.5} <music21.note.Note E>\n",
      "        {1.0} <music21.note.Note F#>\n",
      "        {1.5} <music21.note.Note D>\n",
      "        {2.0} <music21.note.Note G>\n",
      "        {3.0} <music21.note.Note G>\n",
      "    {33.0} <music21.stream.Measure 9 offset=33.0>\n",
      "        {0.0} <music21.layout.SystemLayout>\n",
      "        {0.0} <music21.note.Note C>\n",
      "        {0.5} <music21.note.Note D>\n",
      "        {1.0} <music21.note.Note E>\n",
      "        {1.5} <music21.note.Note C>\n",
      "        {2.0} <music21.note.Note D>\n",
      "        {2.5} <music21.note.Note E>\n",
      "        {3.0} <music21.note.Note F#>\n",
      "        {3.5} <music21.note.Note D>\n",
      "    {37.0} <music21.stream.Measure 10 offset=37.0>\n",
      "        {0.0} <music21.note.Note B>\n",
      "        {0.5} <music21.note.Note C#>\n",
      "        {1.0} <music21.note.Note D#>\n",
      "        {1.5} <music21.note.Note B>\n",
      "        {2.0} <music21.note.Note E>\n",
      "        {3.0} <music21.note.Note G>\n",
      "        {3.5} <music21.note.Note F>\n",
      "    {41.0} <music21.stream.Measure 11 offset=41.0>\n",
      "        {0.0} <music21.note.Note E>\n",
      "        {0.5} <music21.note.Note F>\n",
      "        {1.0} <music21.note.Note E>\n",
      "        {1.5} <music21.note.Note D>\n",
      "        {2.0} <music21.note.Note C>\n",
      "        {3.0} <music21.note.Note G>\n",
      "    {45.0} <music21.stream.Measure 12 offset=45.0>\n",
      "        {0.0} <music21.note.Note C>\n",
      "        {3.0} <music21.bar.Barline style=final>\n",
      "{0.0} <music21.layout.ScoreLayout>\n",
      "{0.0} <music21.layout.StaffGroup <music21.stream.Part Soprano><music21.stream.Part Alto><music21.stream.Part Tenor><music21.stream.Part Bass>>\n"
     ]
    }
   ],
   "source": [
    "c.show('text')"
   ]
  },
  {
   "cell_type": "code",
   "execution_count": 11,
   "metadata": {
    "collapsed": false
   },
   "outputs": [
    {
     "name": "stdout",
     "output_type": "stream",
     "text": [
      "\n",
      "______________________________________________________________________________ \n",
      "  \n",
      "Welcome the music21 Configuration Assistant. You will be guided through a \n",
      "number of questions to install and setup music21. Simply pressing return at a \n",
      "prompt will select a default, if available. \n",
      "\n",
      "You may run this configuration again at a later time by running \n",
      "music21/configure.py. \n",
      "  \n",
      "______________________________________________________________________________ \n",
      "  \n",
      "Defining an XML Reader permits automatically opening music21-generated \n",
      "MusicXML in an editor for display and manipulation when calling the show() \n",
      "method. Setting this option is highly recommended. \n",
      "  \n",
      "[1] /Applications/Finale NotePad 2012.app \n",
      "[2] /Applications/MuseScore 2.app \n",
      "  \n",
      "Select a number from the preceding options (default is 1): 2\n",
      "\n",
      "MusicXML Reader set to: /Applications/MuseScore 2.app \n",
      "  \n",
      "______________________________________________________________________________ \n",
      "  \n",
      "The BSD/LGPL licensed music21 software is distributed with a corpus of encoded \n",
      "compositions which are distributed with the permission of the encoders (and, \n",
      "where needed, the composers or arrangers) and where permitted under United \n",
      "States copyright law. Some encodings included in the corpus may not be used \n",
      "for commercial uses or have other restrictions: please see the licenses \n",
      "embedded in individual compositions or directories for more details. \n",
      "  \n",
      "In addition to the corpus distributed with music21, other pieces are not \n",
      "included in this distribution, but are indexed as links to other web sites \n",
      "where they can be downloaded (the \"virtual corpus\"). If you would like, \n",
      "music21 can help your computer automatically resolve these links and bring \n",
      "them to your hard drive for analysis. See corpus/virtual.py for a list of \n",
      "sites that music21 might index. \n",
      "  \n",
      "To the best of our knowledge, the music (if not the encodings) in the corpus \n",
      "are either out of copyright in the United States and/or are licensed for non- \n",
      "commercial use. These works, along with any works linked to in the virtual \n",
      "corpus, may or may not be free in your jurisdiction. If you believe this \n",
      "message to be in error regarding one or more works please contact Michael \n",
      "Cuthbert at cuthbert@mit.edu. \n",
      "\n",
      "Pausing for page. Press return to continue. \n",
      "  \n",
      "Would you like to: \n",
      "[1] Acknowledge these terms and allow music21 to aid in finding pieces in the \n",
      "corpus \n",
      "[2] Acknowledge these terms and block the virtual corpus \n",
      "[3] Do not agree to these terms and will not use music21 (agreeing to the \n",
      "terms of the corpus is mandatory for using the system). \n",
      "  \n",
      "Select a number from the preceding options (default is 1): 1\n",
      "\n",
      "Auto Download set to: allow \n",
      "  \n",
      "______________________________________________________________________________ \n",
      "  \n",
      "Would you like to send a pre-formatted email to music21 regarding your \n",
      "installation? Installation reports help us make music21 work better for you: \n",
      "Enter Yes or No (default is Yes): No\n",
      "\n",
      "______________________________________________________________________________ \n",
      "  \n",
      "The music21 discussion group provides a forum for asking questions and getting \n",
      "help. Would you like to see the music21 discussion list or sign up for \n",
      "updates? Enter Yes or No (default is Yes): No\n",
      "\n",
      "______________________________________________________________________________ \n",
      "  \n",
      "Would you like to view the music21 documentation in a web browser? Enter Yes \n",
      "or No (default is Yes): No\n",
      "\n",
      "______________________________________________________________________________ \n",
      "  \n",
      "The music21 Configuration Assistant is complete. Press return to continue. \n"
     ]
    }
   ],
   "source": [
    "m21.configure.run()"
   ]
  },
  {
   "cell_type": "code",
   "execution_count": 12,
   "metadata": {
    "collapsed": false
   },
   "outputs": [],
   "source": [
    "c.show('musicxml')"
   ]
  },
  {
   "cell_type": "code",
   "execution_count": 22,
   "metadata": {
    "collapsed": true
   },
   "outputs": [],
   "source": [
    "c.show('musicxml.pdf')"
   ]
  },
  {
   "cell_type": "code",
   "execution_count": 16,
   "metadata": {
    "collapsed": false
   },
   "outputs": [
    {
     "data": {
      "image/png": "[encoded data removed]",
      "text/plain": [
       "<music21.ipython21.objects.IPythonPNGObject at 0x10dd19e10>"
      ]
     },
     "execution_count": 16,
     "metadata": {},
     "output_type": "execute_result"
    }
   ],
   "source": [
    "%load_ext music21.ipython21\n",
    "c.show()"
   ]
  },
  {
   "cell_type": "code",
   "execution_count": 27,
   "metadata": {
    "collapsed": false
   },
   "outputs": [
    {
     "ename": "LilyTranslateException",
     "evalue": "cannot find tmpKbFDSR.ly.png or the full path /var/folders/8m/2514qm2178sdhfw2c92s663c0000gn/T/music21/tmpKbFDSR.ly.png original file was /var/folders/8m/2514qm2178sdhfw2c92s663c0000gn/T/music21/tmpKbFDSR.ly",
     "output_type": "error",
     "traceback": [
      "\u001b[0;31m---------------------------------------------------------------------------\u001b[0m",
      "\u001b[0;31mLilyTranslateException\u001b[0m                    Traceback (most recent call last)",
      "\u001b[0;32m<ipython-input-27-47c64dea9ae4>\u001b[0m in \u001b[0;36m<module>\u001b[0;34m()\u001b[0m\n\u001b[1;32m      1\u001b[0m \u001b[0;32mfrom\u001b[0m \u001b[0mIPython\u001b[0m\u001b[0;34m.\u001b[0m\u001b[0mcore\u001b[0m\u001b[0;34m.\u001b[0m\u001b[0mdisplay\u001b[0m \u001b[0;32mimport\u001b[0m \u001b[0mImage\u001b[0m\u001b[0;34m\u001b[0m\u001b[0m\n\u001b[0;32m----> 2\u001b[0;31m \u001b[0mImage\u001b[0m\u001b[0;34m(\u001b[0m\u001b[0mfilename\u001b[0m\u001b[0;34m=\u001b[0m\u001b[0mc\u001b[0m\u001b[0;34m.\u001b[0m\u001b[0mwrite\u001b[0m\u001b[0;34m(\u001b[0m\u001b[0;34m'lily.png'\u001b[0m\u001b[0;34m)\u001b[0m\u001b[0;34m)\u001b[0m\u001b[0;34m\u001b[0m\u001b[0m\n\u001b[0m",
      "\u001b[0;32m//anaconda/envs/dsi/lib/python2.7/site-packages/music21/stream/__init__.pyc\u001b[0m in \u001b[0;36mwrite\u001b[0;34m(self, *args, **kwargs)\u001b[0m\n\u001b[1;32m    248\u001b[0m         \u001b[0;32mif\u001b[0m \u001b[0mself\u001b[0m\u001b[0;34m.\u001b[0m\u001b[0misSorted\u001b[0m \u001b[0;32mis\u001b[0m \u001b[0mFalse\u001b[0m \u001b[0;32mand\u001b[0m \u001b[0mself\u001b[0m\u001b[0;34m.\u001b[0m\u001b[0mautoSort\u001b[0m\u001b[0;34m:\u001b[0m\u001b[0;34m\u001b[0m\u001b[0m\n\u001b[1;32m    249\u001b[0m             \u001b[0mself\u001b[0m\u001b[0;34m.\u001b[0m\u001b[0msort\u001b[0m\u001b[0;34m(\u001b[0m\u001b[0;34m)\u001b[0m\u001b[0;34m\u001b[0m\u001b[0m\n\u001b[0;32m--> 250\u001b[0;31m         \u001b[0;32mreturn\u001b[0m \u001b[0msuper\u001b[0m\u001b[0;34m(\u001b[0m\u001b[0mStream\u001b[0m\u001b[0;34m,\u001b[0m \u001b[0mself\u001b[0m\u001b[0;34m)\u001b[0m\u001b[0;34m.\u001b[0m\u001b[0mwrite\u001b[0m\u001b[0;34m(\u001b[0m\u001b[0;34m*\u001b[0m\u001b[0margs\u001b[0m\u001b[0;34m,\u001b[0m \u001b[0;34m**\u001b[0m\u001b[0mkwargs\u001b[0m\u001b[0;34m)\u001b[0m\u001b[0;34m\u001b[0m\u001b[0m\n\u001b[0m\u001b[1;32m    251\u001b[0m \u001b[0;34m\u001b[0m\u001b[0m\n\u001b[1;32m    252\u001b[0m \u001b[0;34m\u001b[0m\u001b[0m\n",
      "\u001b[0;32m//anaconda/envs/dsi/lib/python2.7/site-packages/music21/base.pyc\u001b[0m in \u001b[0;36mwrite\u001b[0;34m(self, fmt, fp, **keywords)\u001b[0m\n\u001b[1;32m   2512\u001b[0m         \u001b[0mscClass\u001b[0m \u001b[0;34m=\u001b[0m \u001b[0mcommon\u001b[0m\u001b[0;34m.\u001b[0m\u001b[0mfindSubConverterForFormat\u001b[0m\u001b[0;34m(\u001b[0m\u001b[0mregularizedConverterFormat\u001b[0m\u001b[0;34m)\u001b[0m\u001b[0;34m\u001b[0m\u001b[0m\n\u001b[1;32m   2513\u001b[0m         \u001b[0mformatWriter\u001b[0m \u001b[0;34m=\u001b[0m \u001b[0mscClass\u001b[0m\u001b[0;34m(\u001b[0m\u001b[0;34m)\u001b[0m\u001b[0;34m\u001b[0m\u001b[0m\n\u001b[0;32m-> 2514\u001b[0;31m         \u001b[0;32mreturn\u001b[0m \u001b[0mformatWriter\u001b[0m\u001b[0;34m.\u001b[0m\u001b[0mwrite\u001b[0m\u001b[0;34m(\u001b[0m\u001b[0mself\u001b[0m\u001b[0;34m,\u001b[0m \u001b[0mregularizedConverterFormat\u001b[0m\u001b[0;34m,\u001b[0m \u001b[0mfp\u001b[0m\u001b[0;34m,\u001b[0m \u001b[0msubformats\u001b[0m\u001b[0;34m,\u001b[0m \u001b[0;34m**\u001b[0m\u001b[0mkeywords\u001b[0m\u001b[0;34m)\u001b[0m\u001b[0;34m\u001b[0m\u001b[0m\n\u001b[0m\u001b[1;32m   2515\u001b[0m \u001b[0;34m\u001b[0m\u001b[0m\n\u001b[1;32m   2516\u001b[0m \u001b[0;34m\u001b[0m\u001b[0m\n",
      "\u001b[0;32m//anaconda/envs/dsi/lib/python2.7/site-packages/music21/converter/subConverters.pyc\u001b[0m in \u001b[0;36mwrite\u001b[0;34m(self, obj, fmt, fp, subformats, **keywords)\u001b[0m\n\u001b[1;32m    381\u001b[0m         \u001b[0;32melif\u001b[0m \u001b[0msubformats\u001b[0m \u001b[0;32mis\u001b[0m \u001b[0;32mnot\u001b[0m \u001b[0mNone\u001b[0m \u001b[0;32mand\u001b[0m \u001b[0;34m'png'\u001b[0m \u001b[0;32min\u001b[0m \u001b[0msubformats\u001b[0m\u001b[0;34m:\u001b[0m\u001b[0;34m\u001b[0m\u001b[0m\n\u001b[1;32m    382\u001b[0m             \u001b[0mconv\u001b[0m\u001b[0;34m.\u001b[0m\u001b[0mloadFromMusic21Object\u001b[0m\u001b[0;34m(\u001b[0m\u001b[0mobj\u001b[0m\u001b[0;34m)\u001b[0m\u001b[0;34m\u001b[0m\u001b[0m\n\u001b[0;32m--> 383\u001b[0;31m             \u001b[0mconvertedFilePath\u001b[0m \u001b[0;34m=\u001b[0m \u001b[0mconv\u001b[0m\u001b[0;34m.\u001b[0m\u001b[0mcreatePNG\u001b[0m\u001b[0;34m(\u001b[0m\u001b[0mfp\u001b[0m\u001b[0;34m)\u001b[0m\u001b[0;34m\u001b[0m\u001b[0m\n\u001b[0m\u001b[1;32m    384\u001b[0m             \u001b[0;32mif\u001b[0m \u001b[0;34m'ipython'\u001b[0m \u001b[0;32min\u001b[0m \u001b[0msubformats\u001b[0m\u001b[0;34m:\u001b[0m\u001b[0;34m\u001b[0m\u001b[0m\n\u001b[1;32m    385\u001b[0m                 \u001b[0;32mfrom\u001b[0m \u001b[0mmusic21\u001b[0m\u001b[0;34m.\u001b[0m\u001b[0mipython21\u001b[0m \u001b[0;32mimport\u001b[0m \u001b[0mobjects\u001b[0m \u001b[0;32mas\u001b[0m \u001b[0mipythonObjects\u001b[0m\u001b[0;34m\u001b[0m\u001b[0m\n",
      "\u001b[0;32m//anaconda/envs/dsi/lib/python2.7/site-packages/music21/lily/translate.pyc\u001b[0m in \u001b[0;36mcreatePNG\u001b[0;34m(self, fileName)\u001b[0m\n\u001b[1;32m   2485\u001b[0m         \u001b[0;32mif\u001b[0m \u001b[0mPIL\u001b[0m \u001b[0;32mis\u001b[0m \u001b[0minstalled\u001b[0m \u001b[0mthen\u001b[0m \u001b[0ma\u001b[0m \u001b[0msmall\u001b[0m \u001b[0mwhite\u001b[0m \u001b[0mborder\u001b[0m \u001b[0;32mis\u001b[0m \u001b[0mcreated\u001b[0m \u001b[0maround\u001b[0m \u001b[0mthe\u001b[0m \u001b[0mscore\u001b[0m\u001b[0;34m\u001b[0m\u001b[0m\n\u001b[1;32m   2486\u001b[0m         '''\n\u001b[0;32m-> 2487\u001b[0;31m         \u001b[0mlilyFile\u001b[0m \u001b[0;34m=\u001b[0m \u001b[0mself\u001b[0m\u001b[0;34m.\u001b[0m\u001b[0mrunThroughLily\u001b[0m\u001b[0;34m(\u001b[0m\u001b[0mbackend\u001b[0m\u001b[0;34m=\u001b[0m\u001b[0;34m'eps'\u001b[0m\u001b[0;34m,\u001b[0m \u001b[0mformat\u001b[0m\u001b[0;34m=\u001b[0m\u001b[0;34m'png'\u001b[0m\u001b[0;34m,\u001b[0m \u001b[0mfileName\u001b[0m\u001b[0;34m=\u001b[0m\u001b[0mfileName\u001b[0m\u001b[0;34m)\u001b[0m\u001b[0;34m\u001b[0m\u001b[0m\n\u001b[0m\u001b[1;32m   2488\u001b[0m         \u001b[0;32mif\u001b[0m \u001b[0mnoPIL\u001b[0m \u001b[0;32mis\u001b[0m \u001b[0mFalse\u001b[0m\u001b[0;34m:\u001b[0m\u001b[0;34m\u001b[0m\u001b[0m\n\u001b[1;32m   2489\u001b[0m             \u001b[0;32mtry\u001b[0m\u001b[0;34m:\u001b[0m\u001b[0;34m\u001b[0m\u001b[0m\n",
      "\u001b[0;32m//anaconda/envs/dsi/lib/python2.7/site-packages/music21/lily/translate.pyc\u001b[0m in \u001b[0;36mrunThroughLily\u001b[0;34m(self, format, backend, fileName, skipWriting)\u001b[0m\n\u001b[1;32m   2442\u001b[0m             \u001b[0;32mif\u001b[0m \u001b[0;32mnot\u001b[0m \u001b[0mos\u001b[0m\u001b[0;34m.\u001b[0m\u001b[0mpath\u001b[0m\u001b[0;34m.\u001b[0m\u001b[0mexists\u001b[0m\u001b[0;34m(\u001b[0m\u001b[0mfileend\u001b[0m\u001b[0;34m)\u001b[0m\u001b[0;34m:\u001b[0m\u001b[0;34m\u001b[0m\u001b[0m\n\u001b[1;32m   2443\u001b[0m                 raise LilyTranslateException(\"cannot find \" + fileend + \n\u001b[0;32m-> 2444\u001b[0;31m                                 \" or the full path \" + fileform + \" original file was \" + fileName)\n\u001b[0m\u001b[1;32m   2445\u001b[0m             \u001b[0;32melse\u001b[0m\u001b[0;34m:\u001b[0m\u001b[0;34m\u001b[0m\u001b[0m\n\u001b[1;32m   2446\u001b[0m                 \u001b[0mfileform\u001b[0m \u001b[0;34m=\u001b[0m \u001b[0mfileend\u001b[0m\u001b[0;34m\u001b[0m\u001b[0m\n",
      "\u001b[0;31mLilyTranslateException\u001b[0m: cannot find tmpKbFDSR.ly.png or the full path /var/folders/8m/2514qm2178sdhfw2c92s663c0000gn/T/music21/tmpKbFDSR.ly.png original file was /var/folders/8m/2514qm2178sdhfw2c92s663c0000gn/T/music21/tmpKbFDSR.ly"
     ]
    }
   ],
   "source": [
    "from IPython.core.display import Image\n",
    "Image(filename=c.write('lily.png'))"
   ]
  },
  {
   "cell_type": "code",
   "execution_count": 29,
   "metadata": {
    "collapsed": false
   },
   "outputs": [
    {
     "ename": "TypeError",
     "evalue": "unbound method createPDF() must be called with LilypondConverter instance as first argument (got Score instance instead)",
     "output_type": "error",
     "traceback": [
      "\u001b[0;31m---------------------------------------------------------------------------\u001b[0m",
      "\u001b[0;31mTypeError\u001b[0m                                 Traceback (most recent call last)",
      "\u001b[0;32m<ipython-input-29-5405bc74cccf>\u001b[0m in \u001b[0;36m<module>\u001b[0;34m()\u001b[0m\n\u001b[0;32m----> 1\u001b[0;31m \u001b[0mm21\u001b[0m\u001b[0;34m.\u001b[0m\u001b[0mlily\u001b[0m\u001b[0;34m.\u001b[0m\u001b[0mtranslate\u001b[0m\u001b[0;34m.\u001b[0m\u001b[0mLilypondConverter\u001b[0m\u001b[0;34m.\u001b[0m\u001b[0mcreatePDF\u001b[0m\u001b[0;34m(\u001b[0m\u001b[0mc\u001b[0m\u001b[0;34m,\u001b[0m \u001b[0mfileName\u001b[0m\u001b[0;34m=\u001b[0m\u001b[0mNone\u001b[0m\u001b[0;34m)\u001b[0m\u001b[0;34m\u001b[0m\u001b[0m\n\u001b[0m",
      "\u001b[0;31mTypeError\u001b[0m: unbound method createPDF() must be called with LilypondConverter instance as first argument (got Score instance instead)"
     ]
    }
   ],
   "source": [
    "m21.lily.translate.LilypondConverter.createPDF(c, fileName=None)"
   ]
  },
  {
   "cell_type": "code",
   "execution_count": 24,
   "metadata": {
    "collapsed": false
   },
   "outputs": [
    {
     "data": {
      "text/plain": [
       "'/Users/Cecilia/Desktop/test_score'"
      ]
     },
     "execution_count": 24,
     "metadata": {},
     "output_type": "execute_result"
    }
   ],
   "source": [
    "#c.show('lily')\n",
    "#\n",
    "conv =  m21.converter.subConverters.ConverterLilypond()\n",
    "\n",
    "# export as pdf:\n",
    "filepath = '/Users/Cecilia/Desktop/test_score'\n",
    "conv.write(c, fmt = 'lilypond', fp=filepath, subformats = ['pdf'])\n",
    "\n",
    "# export in lilypond format:\n",
    "filepath = '/Users/Cecilia/Desktop/test_score.ly'\n",
    "conv.write(c, fmt = 'lilypond', fp=filepath)"
   ]
  },
  {
   "cell_type": "code",
   "execution_count": 8,
   "metadata": {
    "collapsed": false
   },
   "outputs": [
    {
     "data": {
      "text/plain": [
       "(3, 1, 0)"
      ]
     },
     "execution_count": 8,
     "metadata": {},
     "output_type": "execute_result"
    }
   ],
   "source": [
    "m21.VERSION"
   ]
  },
  {
   "cell_type": "code",
   "execution_count": 26,
   "metadata": {
    "collapsed": false
   },
   "outputs": [],
   "source": [
    "c.show('lily.ly')"
   ]
  },
  {
   "cell_type": "markdown",
   "metadata": {},
   "source": [
    "count the number of chorales"
   ]
  },
  {
   "cell_type": "code",
   "execution_count": null,
   "metadata": {
    "collapsed": true
   },
   "outputs": [],
   "source": []
  },
  {
   "cell_type": "markdown",
   "metadata": {},
   "source": [
    "#### what's the conclusion?\n",
    "1. do i need to find more bach chorales?\n",
    "2. how many bach chorales exist in the world?\n"
   ]
  },
  {
   "cell_type": "code",
   "execution_count": null,
   "metadata": {
    "collapsed": true
   },
   "outputs": [],
   "source": []
  },
  {
   "cell_type": "markdown",
   "metadata": {},
   "source": [
    "3. waht's a good number of data points? maybe just try it with that many first, then \n",
    "make some sort of pivot/decision with only that number of bach chorales?"
   ]
  },
  {
   "cell_type": "markdown",
   "metadata": {},
   "source": [
    "figure out how to load a single bach chorale"
   ]
  },
  {
   "cell_type": "code",
   "execution_count": null,
   "metadata": {
    "collapsed": true
   },
   "outputs": [],
   "source": []
  },
  {
   "cell_type": "markdown",
   "metadata": {},
   "source": [
    "how do i visualize the chorale? what does the whole thing \"look\" like?"
   ]
  },
  {
   "cell_type": "code",
   "execution_count": null,
   "metadata": {
    "collapsed": true
   },
   "outputs": [],
   "source": []
  },
  {
   "cell_type": "markdown",
   "metadata": {},
   "source": [
    "do i have options to visualize a certain way? can i print sheet music from it? \n",
    "this might be a topic to be continued..."
   ]
  },
  {
   "cell_type": "code",
   "execution_count": null,
   "metadata": {
    "collapsed": true
   },
   "outputs": [],
   "source": []
  },
  {
   "cell_type": "code",
   "execution_count": null,
   "metadata": {
    "collapsed": true
   },
   "outputs": [],
   "source": []
  },
  {
   "cell_type": "markdown",
   "metadata": {},
   "source": [
    "how do i locate the soprano line of the chorale?"
   ]
  },
  {
   "cell_type": "code",
   "execution_count": null,
   "metadata": {
    "collapsed": true
   },
   "outputs": [],
   "source": []
  },
  {
   "cell_type": "code",
   "execution_count": null,
   "metadata": {
    "collapsed": true
   },
   "outputs": [],
   "source": []
  },
  {
   "cell_type": "markdown",
   "metadata": {},
   "source": [
    "How does the line show each pitch?"
   ]
  },
  {
   "cell_type": "code",
   "execution_count": null,
   "metadata": {
    "collapsed": true
   },
   "outputs": [],
   "source": []
  },
  {
   "cell_type": "markdown",
   "metadata": {},
   "source": [
    "How does the line show each duration of note?"
   ]
  },
  {
   "cell_type": "code",
   "execution_count": null,
   "metadata": {
    "collapsed": true
   },
   "outputs": [],
   "source": []
  },
  {
   "cell_type": "markdown",
   "metadata": {},
   "source": [
    "Create a new 'document' in music21"
   ]
  },
  {
   "cell_type": "code",
   "execution_count": null,
   "metadata": {
    "collapsed": true
   },
   "outputs": [],
   "source": []
  },
  {
   "cell_type": "markdown",
   "metadata": {},
   "source": [
    "if i can't create a new document, then try to add onto the bach chorale"
   ]
  },
  {
   "cell_type": "code",
   "execution_count": null,
   "metadata": {
    "collapsed": true
   },
   "outputs": [],
   "source": []
  },
  {
   "cell_type": "markdown",
   "metadata": {},
   "source": [
    "Can I create my own line with pitch and note? just make one up"
   ]
  },
  {
   "cell_type": "code",
   "execution_count": null,
   "metadata": {
    "collapsed": true
   },
   "outputs": [],
   "source": []
  },
  {
   "cell_type": "markdown",
   "metadata": {},
   "source": []
  },
  {
   "cell_type": "code",
   "execution_count": null,
   "metadata": {
    "collapsed": true
   },
   "outputs": [],
   "source": []
  },
  {
   "cell_type": "code",
   "execution_count": null,
   "metadata": {
    "collapsed": true
   },
   "outputs": [],
   "source": []
  },
  {
   "cell_type": "code",
   "execution_count": null,
   "metadata": {
    "collapsed": true
   },
   "outputs": [],
   "source": []
  },
  {
   "cell_type": "code",
   "execution_count": null,
   "metadata": {
    "collapsed": true
   },
   "outputs": [],
   "source": []
  },
  {
   "cell_type": "code",
   "execution_count": null,
   "metadata": {
    "collapsed": true
   },
   "outputs": [],
   "source": []
  }
 ],
 "metadata": {
  "anaconda-cloud": {},
  "kernelspec": {
   "display_name": "Python [dsi]",
   "language": "python",
   "name": "Python [dsi]"
  },
  "language_info": {
   "codemirror_mode": {
    "name": "ipython",
    "version": 2
   },
   "file_extension": ".py",
   "mimetype": "text/x-python",
   "name": "python",
   "nbconvert_exporter": "python",
   "pygments_lexer": "ipython2",
   "version": "2.7.12"
  }
 },
 "nbformat": 4,
 "nbformat_minor": 0
}
