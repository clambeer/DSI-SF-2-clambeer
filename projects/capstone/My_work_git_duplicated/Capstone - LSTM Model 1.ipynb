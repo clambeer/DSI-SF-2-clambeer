{
 "cells": [
  {
   "cell_type": "markdown",
   "metadata": {},
   "source": [
    "## The first model attemped is LSTM. Why? Because I am a sadistic and masochistic person.\n",
    "\n",
    "## This section is to be filled out later when I HAVE SOME RESULTS. THAT DAY WILL COME. SOMEDAY."
   ]
  },
  {
   "cell_type": "code",
   "execution_count": 1,
   "metadata": {
    "collapsed": true
   },
   "outputs": [],
   "source": [
    "import dill\n"
   ]
  },
  {
   "cell_type": "code",
   "execution_count": 637,
   "metadata": {
    "collapsed": false
   },
   "outputs": [],
   "source": [
    "\n",
    "\n",
    "\n",
    "import music21 as m21\n",
    "\n",
    "import pandas as pd\n",
    "import numpy as np\n",
    "\n",
    "import matplotlib.pyplot as plt\n",
    "%matplotlib inline\n",
    "import seaborn as sns\n",
    "\n",
    "import copy\n",
    "import cPickle\n",
    "\n",
    "from keras.models import Sequential\n",
    "from keras.layers import Dense\n",
    "from keras.layers import LSTM\n",
    "from keras.utils import np_utils"
   ]
  },
  {
   "cell_type": "code",
   "execution_count": 638,
   "metadata": {
    "collapsed": false
   },
   "outputs": [],
   "source": [
    "f = open('clean_bach.p','rb')\n",
    "clean_bach = cPickle.load(f)\n",
    "f.close()"
   ]
  },
  {
   "cell_type": "code",
   "execution_count": 639,
   "metadata": {
    "collapsed": false
   },
   "outputs": [
    {
     "data": {
      "text/html": [
       "<div>\n",
       "<table border=\"1\" class=\"dataframe\">\n",
       "  <thead>\n",
       "    <tr style=\"text-align: right;\">\n",
       "      <th></th>\n",
       "      <th>BWV</th>\n",
       "      <th>orig_key</th>\n",
       "      <th>beats_per_measure</th>\n",
       "      <th>forward_note</th>\n",
       "      <th>back_note</th>\n",
       "      <th>forward_measure</th>\n",
       "      <th>back_measure</th>\n",
       "      <th>note_in_measure_position</th>\n",
       "      <th>quarter_in_measure_position</th>\n",
       "      <th>soprano_pitch_cat</th>\n",
       "      <th>alto_pitch_cat</th>\n",
       "      <th>tenor_pitch_cat</th>\n",
       "      <th>bass_pitch_cat</th>\n",
       "      <th>soprano_pitch_cont</th>\n",
       "      <th>alto_pitch_cont</th>\n",
       "      <th>tenor_pitch_cont</th>\n",
       "      <th>bass_pitch_cont</th>\n",
       "    </tr>\n",
       "  </thead>\n",
       "  <tbody>\n",
       "    <tr>\n",
       "      <th>bwv421_0</th>\n",
       "      <td>bwv421</td>\n",
       "      <td>a minor</td>\n",
       "      <td>4</td>\n",
       "      <td>0</td>\n",
       "      <td>159</td>\n",
       "      <td>0</td>\n",
       "      <td>10</td>\n",
       "      <td>1</td>\n",
       "      <td>4</td>\n",
       "      <td>G4</td>\n",
       "      <td>D4</td>\n",
       "      <td>B-3</td>\n",
       "      <td>G2</td>\n",
       "      <td>1</td>\n",
       "      <td>-4</td>\n",
       "      <td>-8</td>\n",
       "      <td>-23</td>\n",
       "    </tr>\n",
       "    <tr>\n",
       "      <th>bwv421_1</th>\n",
       "      <td>bwv421</td>\n",
       "      <td>a minor</td>\n",
       "      <td>4</td>\n",
       "      <td>1</td>\n",
       "      <td>158</td>\n",
       "      <td>0</td>\n",
       "      <td>10</td>\n",
       "      <td>2</td>\n",
       "      <td>4</td>\n",
       "      <td>G4</td>\n",
       "      <td>D4</td>\n",
       "      <td>B-3</td>\n",
       "      <td>G2</td>\n",
       "      <td>1</td>\n",
       "      <td>-4</td>\n",
       "      <td>-8</td>\n",
       "      <td>-23</td>\n",
       "    </tr>\n",
       "    <tr>\n",
       "      <th>bwv421_2</th>\n",
       "      <td>bwv421</td>\n",
       "      <td>a minor</td>\n",
       "      <td>4</td>\n",
       "      <td>2</td>\n",
       "      <td>157</td>\n",
       "      <td>0</td>\n",
       "      <td>10</td>\n",
       "      <td>3</td>\n",
       "      <td>4</td>\n",
       "      <td>G4</td>\n",
       "      <td>D4</td>\n",
       "      <td>C4</td>\n",
       "      <td>A2</td>\n",
       "      <td>1</td>\n",
       "      <td>-4</td>\n",
       "      <td>-6</td>\n",
       "      <td>-21</td>\n",
       "    </tr>\n",
       "    <tr>\n",
       "      <th>bwv421_3</th>\n",
       "      <td>bwv421</td>\n",
       "      <td>a minor</td>\n",
       "      <td>4</td>\n",
       "      <td>3</td>\n",
       "      <td>156</td>\n",
       "      <td>0</td>\n",
       "      <td>10</td>\n",
       "      <td>4</td>\n",
       "      <td>4</td>\n",
       "      <td>G4</td>\n",
       "      <td>D4</td>\n",
       "      <td>C4</td>\n",
       "      <td>A2</td>\n",
       "      <td>1</td>\n",
       "      <td>-4</td>\n",
       "      <td>-6</td>\n",
       "      <td>-21</td>\n",
       "    </tr>\n",
       "    <tr>\n",
       "      <th>bwv421_4</th>\n",
       "      <td>bwv421</td>\n",
       "      <td>a minor</td>\n",
       "      <td>4</td>\n",
       "      <td>4</td>\n",
       "      <td>155</td>\n",
       "      <td>1</td>\n",
       "      <td>9</td>\n",
       "      <td>1</td>\n",
       "      <td>1</td>\n",
       "      <td>G4</td>\n",
       "      <td>D4</td>\n",
       "      <td>D4</td>\n",
       "      <td>B-2</td>\n",
       "      <td>1</td>\n",
       "      <td>-4</td>\n",
       "      <td>-4</td>\n",
       "      <td>-20</td>\n",
       "    </tr>\n",
       "  </tbody>\n",
       "</table>\n",
       "</div>"
      ],
      "text/plain": [
       "             BWV orig_key  beats_per_measure  forward_note  back_note  \\\n",
       "bwv421_0  bwv421  a minor                  4             0        159   \n",
       "bwv421_1  bwv421  a minor                  4             1        158   \n",
       "bwv421_2  bwv421  a minor                  4             2        157   \n",
       "bwv421_3  bwv421  a minor                  4             3        156   \n",
       "bwv421_4  bwv421  a minor                  4             4        155   \n",
       "\n",
       "          forward_measure  back_measure  note_in_measure_position  \\\n",
       "bwv421_0                0            10                         1   \n",
       "bwv421_1                0            10                         2   \n",
       "bwv421_2                0            10                         3   \n",
       "bwv421_3                0            10                         4   \n",
       "bwv421_4                1             9                         1   \n",
       "\n",
       "          quarter_in_measure_position soprano_pitch_cat alto_pitch_cat  \\\n",
       "bwv421_0                            4                G4             D4   \n",
       "bwv421_1                            4                G4             D4   \n",
       "bwv421_2                            4                G4             D4   \n",
       "bwv421_3                            4                G4             D4   \n",
       "bwv421_4                            1                G4             D4   \n",
       "\n",
       "         tenor_pitch_cat bass_pitch_cat  soprano_pitch_cont  alto_pitch_cont  \\\n",
       "bwv421_0             B-3             G2                   1               -4   \n",
       "bwv421_1             B-3             G2                   1               -4   \n",
       "bwv421_2              C4             A2                   1               -4   \n",
       "bwv421_3              C4             A2                   1               -4   \n",
       "bwv421_4              D4            B-2                   1               -4   \n",
       "\n",
       "          tenor_pitch_cont  bass_pitch_cont  \n",
       "bwv421_0                -8              -23  \n",
       "bwv421_1                -8              -23  \n",
       "bwv421_2                -6              -21  \n",
       "bwv421_3                -6              -21  \n",
       "bwv421_4                -4              -20  "
      ]
     },
     "execution_count": 639,
     "metadata": {},
     "output_type": "execute_result"
    }
   ],
   "source": [
    "clean_bach.head()"
   ]
  },
  {
   "cell_type": "markdown",
   "metadata": {},
   "source": [
    "## Creating target and predictor variables\n",
    "#### Create a master y and X for each categorical and continuous\n",
    "### KEEP THESE AS DATAFRAMES"
   ]
  },
  {
   "cell_type": "markdown",
   "metadata": {},
   "source": [
    "### Categorical Version"
   ]
  },
  {
   "cell_type": "markdown",
   "metadata": {},
   "source": [
    "#### target y variable - SOPRANO"
   ]
  },
  {
   "cell_type": "code",
   "execution_count": 732,
   "metadata": {
    "collapsed": true
   },
   "outputs": [],
   "source": [
    "# a series\n",
    "# include BWV so that we can group by it later on\n",
    "master_y_cat_sop = clean_bach[['BWV','soprano_pitch_cat']]"
   ]
  },
  {
   "cell_type": "code",
   "execution_count": 734,
   "metadata": {
    "collapsed": false
   },
   "outputs": [
    {
     "data": {
      "text/plain": [
       "G4      7330\n",
       "A4      7169\n",
       "D5      6706\n",
       "C5      4883\n",
       "B4      4026\n",
       "B-4     3538\n",
       "E5      2369\n",
       "G5      1867\n",
       "D4      1238\n",
       "F#5     1111\n",
       "F4       962\n",
       "F#4      939\n",
       "A5       678\n",
       "F5       656\n",
       "E4       595\n",
       "Rest     528\n",
       "E-5      476\n",
       "E-4      362\n",
       "B5       327\n",
       "C#5      268\n",
       "C4       192\n",
       "B-5      159\n",
       "C6        87\n",
       "B-3       78\n",
       "G#4       50\n",
       "D6        30\n",
       "D#5       16\n",
       "D#4       12\n",
       "C#4        8\n",
       "G#5        8\n",
       "B3         8\n",
       "Name: soprano_pitch_cat, dtype: int64"
      ]
     },
     "execution_count": 734,
     "metadata": {},
     "output_type": "execute_result"
    }
   ],
   "source": [
    "master_y_cat_sop['soprano_pitch_cat'].value_counts()"
   ]
  },
  {
   "cell_type": "code",
   "execution_count": 1066,
   "metadata": {
    "collapsed": false
   },
   "outputs": [
    {
     "data": {
      "text/plain": [
       "31"
      ]
     },
     "execution_count": 1066,
     "metadata": {},
     "output_type": "execute_result"
    }
   ],
   "source": [
    "n_y_cat_variables_sop = master_y_cat_sop['soprano_pitch_cat'].value_counts().shape[0]\n",
    "n_y_cat_variables_sop"
   ]
  },
  {
   "cell_type": "markdown",
   "metadata": {},
   "source": [
    "#### target y variable - ALTO"
   ]
  },
  {
   "cell_type": "code",
   "execution_count": 736,
   "metadata": {
    "collapsed": true
   },
   "outputs": [],
   "source": [
    "# a series\n",
    "master_y_cat_alto = clean_bach[['BWV','alto_pitch_cat']]"
   ]
  },
  {
   "cell_type": "code",
   "execution_count": 738,
   "metadata": {
    "collapsed": false
   },
   "outputs": [
    {
     "data": {
      "text/plain": [
       "D4      8668\n",
       "G4      8659\n",
       "F#4     4510\n",
       "A4      4129\n",
       "E4      3132\n",
       "F4      2831\n",
       "D5      2030\n",
       "B4      1666\n",
       "C4      1658\n",
       "B-4     1603\n",
       "C5      1487\n",
       "E-4     1126\n",
       "B3       950\n",
       "A3       756\n",
       "B-3      734\n",
       "Rest     552\n",
       "E5       457\n",
       "C#5      439\n",
       "C#4      327\n",
       "D#4      222\n",
       "G3       209\n",
       "G#4      174\n",
       "F3       102\n",
       "E-5       59\n",
       "F#5       53\n",
       "A-4       42\n",
       "D#5       28\n",
       "G5        23\n",
       "F5        16\n",
       "A-3       14\n",
       "F#3       10\n",
       "A#4        4\n",
       "D-4        4\n",
       "G-4        2\n",
       "Name: alto_pitch_cat, dtype: int64"
      ]
     },
     "execution_count": 738,
     "metadata": {},
     "output_type": "execute_result"
    }
   ],
   "source": [
    "master_y_cat_alto['alto_pitch_cat'].value_counts()"
   ]
  },
  {
   "cell_type": "code",
   "execution_count": 1065,
   "metadata": {
    "collapsed": false
   },
   "outputs": [
    {
     "data": {
      "text/plain": [
       "34"
      ]
     },
     "execution_count": 1065,
     "metadata": {},
     "output_type": "execute_result"
    }
   ],
   "source": [
    "n_y_cat_variables_alto = master_y_cat_alto['alto_pitch_cat'].value_counts().shape[0]\n",
    "n_y_cat_variables_alto"
   ]
  },
  {
   "cell_type": "markdown",
   "metadata": {},
   "source": [
    "#### target y variable - TENOR"
   ]
  },
  {
   "cell_type": "code",
   "execution_count": 740,
   "metadata": {
    "collapsed": true
   },
   "outputs": [],
   "source": [
    "# a series\n",
    "master_y_cat_tenor = clean_bach[['BWV','tenor_pitch_cat']]"
   ]
  },
  {
   "cell_type": "code",
   "execution_count": 741,
   "metadata": {
    "collapsed": false
   },
   "outputs": [
    {
     "data": {
      "text/plain": [
       "D4      9261\n",
       "A3      4666\n",
       "C4      4463\n",
       "G3      4359\n",
       "B3      4308\n",
       "B-3     3434\n",
       "G4      2475\n",
       "E4      2418\n",
       "F4      1811\n",
       "F#3     1651\n",
       "A4      1425\n",
       "F#4     1203\n",
       "E-4      943\n",
       "F3       870\n",
       "D3       604\n",
       "Rest     562\n",
       "B4       494\n",
       "C#4      374\n",
       "E3       333\n",
       "B-4      200\n",
       "E-3      176\n",
       "G#3      158\n",
       "C5       125\n",
       "D#4       97\n",
       "A-3       83\n",
       "C3        70\n",
       "D5        33\n",
       "G#4       32\n",
       "D-4       14\n",
       "A-4       12\n",
       "C#5        8\n",
       "A#4        6\n",
       "D-3        4\n",
       "C#3        4\n",
       "Name: tenor_pitch_cat, dtype: int64"
      ]
     },
     "execution_count": 741,
     "metadata": {},
     "output_type": "execute_result"
    }
   ],
   "source": [
    "master_y_cat_tenor['tenor_pitch_cat'].value_counts()"
   ]
  },
  {
   "cell_type": "code",
   "execution_count": 1064,
   "metadata": {
    "collapsed": false
   },
   "outputs": [
    {
     "data": {
      "text/plain": [
       "34"
      ]
     },
     "execution_count": 1064,
     "metadata": {},
     "output_type": "execute_result"
    }
   ],
   "source": [
    "n_y_cat_variables_tenor = master_y_cat_tenor['tenor_pitch_cat'].value_counts().shape[0]\n",
    "n_y_cat_variables_tenor"
   ]
  },
  {
   "cell_type": "markdown",
   "metadata": {},
   "source": [
    "#### target y variable - BASS"
   ]
  },
  {
   "cell_type": "code",
   "execution_count": 743,
   "metadata": {
    "collapsed": true
   },
   "outputs": [],
   "source": [
    "# a series\n",
    "master_y_cat_bass = clean_bach[['BWV','bass_pitch_cat']]"
   ]
  },
  {
   "cell_type": "code",
   "execution_count": 744,
   "metadata": {
    "collapsed": false
   },
   "outputs": [
    {
     "data": {
      "text/plain": [
       "D3      7764\n",
       "G3      6130\n",
       "G2      4266\n",
       "C3      3551\n",
       "E3      3017\n",
       "A3      2665\n",
       "A2      1982\n",
       "F#3     1928\n",
       "B-2     1893\n",
       "F3      1866\n",
       "B2      1639\n",
       "E-3     1477\n",
       "B3      1242\n",
       "C4      1117\n",
       "B-3     1089\n",
       "D4      1054\n",
       "Rest     578\n",
       "C#3      450\n",
       "D2       384\n",
       "F2       346\n",
       "E4       303\n",
       "F#2      252\n",
       "G#3      242\n",
       "D#3      236\n",
       "C#4      221\n",
       "E2       172\n",
       "E-4      140\n",
       "G4       128\n",
       "E-2      100\n",
       "F4        68\n",
       "F#4       64\n",
       "D#4       60\n",
       "B-1       52\n",
       "C2        46\n",
       "A#3       30\n",
       "A#2       28\n",
       "G#2       28\n",
       "A-2       24\n",
       "A-3       20\n",
       "A4         8\n",
       "D#2        8\n",
       "B1         8\n",
       "Name: bass_pitch_cat, dtype: int64"
      ]
     },
     "execution_count": 744,
     "metadata": {},
     "output_type": "execute_result"
    }
   ],
   "source": [
    "master_y_cat_bass['bass_pitch_cat'].value_counts()"
   ]
  },
  {
   "cell_type": "code",
   "execution_count": 1063,
   "metadata": {
    "collapsed": false
   },
   "outputs": [
    {
     "data": {
      "text/plain": [
       "42"
      ]
     },
     "execution_count": 1063,
     "metadata": {},
     "output_type": "execute_result"
    }
   ],
   "source": [
    "n_y_cat_variables_bass = master_y_cat_bass['bass_pitch_cat'].value_counts().shape[0]\n",
    "n_y_cat_variables_bass"
   ]
  },
  {
   "cell_type": "markdown",
   "metadata": {},
   "source": [
    "### target y variable AS DUMMY VARIABLES\n",
    "#### soprano"
   ]
  },
  {
   "cell_type": "code",
   "execution_count": 767,
   "metadata": {
    "collapsed": false
   },
   "outputs": [
    {
     "data": {
      "text/html": [
       "<div>\n",
       "<table border=\"1\" class=\"dataframe\">\n",
       "  <thead>\n",
       "    <tr style=\"text-align: right;\">\n",
       "      <th></th>\n",
       "      <th>BWV</th>\n",
       "      <th>A4</th>\n",
       "      <th>A5</th>\n",
       "      <th>B-3</th>\n",
       "      <th>B-4</th>\n",
       "      <th>B-5</th>\n",
       "      <th>B3</th>\n",
       "      <th>B4</th>\n",
       "      <th>B5</th>\n",
       "      <th>C#4</th>\n",
       "      <th>...</th>\n",
       "      <th>E5</th>\n",
       "      <th>F#4</th>\n",
       "      <th>F#5</th>\n",
       "      <th>F4</th>\n",
       "      <th>F5</th>\n",
       "      <th>G#4</th>\n",
       "      <th>G#5</th>\n",
       "      <th>G4</th>\n",
       "      <th>G5</th>\n",
       "      <th>Rest</th>\n",
       "    </tr>\n",
       "  </thead>\n",
       "  <tbody>\n",
       "    <tr>\n",
       "      <th>bwv421_0</th>\n",
       "      <td>bwv421</td>\n",
       "      <td>0.0</td>\n",
       "      <td>0.0</td>\n",
       "      <td>0.0</td>\n",
       "      <td>0.0</td>\n",
       "      <td>0.0</td>\n",
       "      <td>0.0</td>\n",
       "      <td>0.0</td>\n",
       "      <td>0.0</td>\n",
       "      <td>0.0</td>\n",
       "      <td>...</td>\n",
       "      <td>0.0</td>\n",
       "      <td>0.0</td>\n",
       "      <td>0.0</td>\n",
       "      <td>0.0</td>\n",
       "      <td>0.0</td>\n",
       "      <td>0.0</td>\n",
       "      <td>0.0</td>\n",
       "      <td>1.0</td>\n",
       "      <td>0.0</td>\n",
       "      <td>0.0</td>\n",
       "    </tr>\n",
       "    <tr>\n",
       "      <th>bwv421_1</th>\n",
       "      <td>bwv421</td>\n",
       "      <td>0.0</td>\n",
       "      <td>0.0</td>\n",
       "      <td>0.0</td>\n",
       "      <td>0.0</td>\n",
       "      <td>0.0</td>\n",
       "      <td>0.0</td>\n",
       "      <td>0.0</td>\n",
       "      <td>0.0</td>\n",
       "      <td>0.0</td>\n",
       "      <td>...</td>\n",
       "      <td>0.0</td>\n",
       "      <td>0.0</td>\n",
       "      <td>0.0</td>\n",
       "      <td>0.0</td>\n",
       "      <td>0.0</td>\n",
       "      <td>0.0</td>\n",
       "      <td>0.0</td>\n",
       "      <td>1.0</td>\n",
       "      <td>0.0</td>\n",
       "      <td>0.0</td>\n",
       "    </tr>\n",
       "    <tr>\n",
       "      <th>bwv421_2</th>\n",
       "      <td>bwv421</td>\n",
       "      <td>0.0</td>\n",
       "      <td>0.0</td>\n",
       "      <td>0.0</td>\n",
       "      <td>0.0</td>\n",
       "      <td>0.0</td>\n",
       "      <td>0.0</td>\n",
       "      <td>0.0</td>\n",
       "      <td>0.0</td>\n",
       "      <td>0.0</td>\n",
       "      <td>...</td>\n",
       "      <td>0.0</td>\n",
       "      <td>0.0</td>\n",
       "      <td>0.0</td>\n",
       "      <td>0.0</td>\n",
       "      <td>0.0</td>\n",
       "      <td>0.0</td>\n",
       "      <td>0.0</td>\n",
       "      <td>1.0</td>\n",
       "      <td>0.0</td>\n",
       "      <td>0.0</td>\n",
       "    </tr>\n",
       "    <tr>\n",
       "      <th>bwv421_3</th>\n",
       "      <td>bwv421</td>\n",
       "      <td>0.0</td>\n",
       "      <td>0.0</td>\n",
       "      <td>0.0</td>\n",
       "      <td>0.0</td>\n",
       "      <td>0.0</td>\n",
       "      <td>0.0</td>\n",
       "      <td>0.0</td>\n",
       "      <td>0.0</td>\n",
       "      <td>0.0</td>\n",
       "      <td>...</td>\n",
       "      <td>0.0</td>\n",
       "      <td>0.0</td>\n",
       "      <td>0.0</td>\n",
       "      <td>0.0</td>\n",
       "      <td>0.0</td>\n",
       "      <td>0.0</td>\n",
       "      <td>0.0</td>\n",
       "      <td>1.0</td>\n",
       "      <td>0.0</td>\n",
       "      <td>0.0</td>\n",
       "    </tr>\n",
       "    <tr>\n",
       "      <th>bwv421_4</th>\n",
       "      <td>bwv421</td>\n",
       "      <td>0.0</td>\n",
       "      <td>0.0</td>\n",
       "      <td>0.0</td>\n",
       "      <td>0.0</td>\n",
       "      <td>0.0</td>\n",
       "      <td>0.0</td>\n",
       "      <td>0.0</td>\n",
       "      <td>0.0</td>\n",
       "      <td>0.0</td>\n",
       "      <td>...</td>\n",
       "      <td>0.0</td>\n",
       "      <td>0.0</td>\n",
       "      <td>0.0</td>\n",
       "      <td>0.0</td>\n",
       "      <td>0.0</td>\n",
       "      <td>0.0</td>\n",
       "      <td>0.0</td>\n",
       "      <td>1.0</td>\n",
       "      <td>0.0</td>\n",
       "      <td>0.0</td>\n",
       "    </tr>\n",
       "  </tbody>\n",
       "</table>\n",
       "<p>5 rows × 32 columns</p>\n",
       "</div>"
      ],
      "text/plain": [
       "             BWV   A4   A5  B-3  B-4  B-5   B3   B4   B5  C#4  ...    E5  F#4  \\\n",
       "bwv421_0  bwv421  0.0  0.0  0.0  0.0  0.0  0.0  0.0  0.0  0.0  ...   0.0  0.0   \n",
       "bwv421_1  bwv421  0.0  0.0  0.0  0.0  0.0  0.0  0.0  0.0  0.0  ...   0.0  0.0   \n",
       "bwv421_2  bwv421  0.0  0.0  0.0  0.0  0.0  0.0  0.0  0.0  0.0  ...   0.0  0.0   \n",
       "bwv421_3  bwv421  0.0  0.0  0.0  0.0  0.0  0.0  0.0  0.0  0.0  ...   0.0  0.0   \n",
       "bwv421_4  bwv421  0.0  0.0  0.0  0.0  0.0  0.0  0.0  0.0  0.0  ...   0.0  0.0   \n",
       "\n",
       "          F#5   F4   F5  G#4  G#5   G4   G5  Rest  \n",
       "bwv421_0  0.0  0.0  0.0  0.0  0.0  1.0  0.0   0.0  \n",
       "bwv421_1  0.0  0.0  0.0  0.0  0.0  1.0  0.0   0.0  \n",
       "bwv421_2  0.0  0.0  0.0  0.0  0.0  1.0  0.0   0.0  \n",
       "bwv421_3  0.0  0.0  0.0  0.0  0.0  1.0  0.0   0.0  \n",
       "bwv421_4  0.0  0.0  0.0  0.0  0.0  1.0  0.0   0.0  \n",
       "\n",
       "[5 rows x 32 columns]"
      ]
     },
     "execution_count": 767,
     "metadata": {},
     "output_type": "execute_result"
    }
   ],
   "source": [
    "dummy = pd.get_dummies(master_y_cat_sop['soprano_pitch_cat'])\n",
    "    \n",
    "master_y_cat_dummy_sop = pd.concat(\n",
    "                            [master_y_cat_sop[['BWV']],\n",
    "                            dummy],\n",
    "                            axis=1)\n",
    "master_y_cat_dummy_sop.head()"
   ]
  },
  {
   "cell_type": "markdown",
   "metadata": {},
   "source": [
    "#### alto"
   ]
  },
  {
   "cell_type": "code",
   "execution_count": 768,
   "metadata": {
    "collapsed": false
   },
   "outputs": [
    {
     "data": {
      "text/html": [
       "<div>\n",
       "<table border=\"1\" class=\"dataframe\">\n",
       "  <thead>\n",
       "    <tr style=\"text-align: right;\">\n",
       "      <th></th>\n",
       "      <th>BWV</th>\n",
       "      <th>A#4</th>\n",
       "      <th>A-3</th>\n",
       "      <th>A-4</th>\n",
       "      <th>A3</th>\n",
       "      <th>A4</th>\n",
       "      <th>B-3</th>\n",
       "      <th>B-4</th>\n",
       "      <th>B3</th>\n",
       "      <th>B4</th>\n",
       "      <th>...</th>\n",
       "      <th>F#5</th>\n",
       "      <th>F3</th>\n",
       "      <th>F4</th>\n",
       "      <th>F5</th>\n",
       "      <th>G#4</th>\n",
       "      <th>G-4</th>\n",
       "      <th>G3</th>\n",
       "      <th>G4</th>\n",
       "      <th>G5</th>\n",
       "      <th>Rest</th>\n",
       "    </tr>\n",
       "  </thead>\n",
       "  <tbody>\n",
       "    <tr>\n",
       "      <th>bwv421_0</th>\n",
       "      <td>bwv421</td>\n",
       "      <td>0.0</td>\n",
       "      <td>0.0</td>\n",
       "      <td>0.0</td>\n",
       "      <td>0.0</td>\n",
       "      <td>0.0</td>\n",
       "      <td>0.0</td>\n",
       "      <td>0.0</td>\n",
       "      <td>0.0</td>\n",
       "      <td>0.0</td>\n",
       "      <td>...</td>\n",
       "      <td>0.0</td>\n",
       "      <td>0.0</td>\n",
       "      <td>0.0</td>\n",
       "      <td>0.0</td>\n",
       "      <td>0.0</td>\n",
       "      <td>0.0</td>\n",
       "      <td>0.0</td>\n",
       "      <td>0.0</td>\n",
       "      <td>0.0</td>\n",
       "      <td>0.0</td>\n",
       "    </tr>\n",
       "    <tr>\n",
       "      <th>bwv421_1</th>\n",
       "      <td>bwv421</td>\n",
       "      <td>0.0</td>\n",
       "      <td>0.0</td>\n",
       "      <td>0.0</td>\n",
       "      <td>0.0</td>\n",
       "      <td>0.0</td>\n",
       "      <td>0.0</td>\n",
       "      <td>0.0</td>\n",
       "      <td>0.0</td>\n",
       "      <td>0.0</td>\n",
       "      <td>...</td>\n",
       "      <td>0.0</td>\n",
       "      <td>0.0</td>\n",
       "      <td>0.0</td>\n",
       "      <td>0.0</td>\n",
       "      <td>0.0</td>\n",
       "      <td>0.0</td>\n",
       "      <td>0.0</td>\n",
       "      <td>0.0</td>\n",
       "      <td>0.0</td>\n",
       "      <td>0.0</td>\n",
       "    </tr>\n",
       "    <tr>\n",
       "      <th>bwv421_2</th>\n",
       "      <td>bwv421</td>\n",
       "      <td>0.0</td>\n",
       "      <td>0.0</td>\n",
       "      <td>0.0</td>\n",
       "      <td>0.0</td>\n",
       "      <td>0.0</td>\n",
       "      <td>0.0</td>\n",
       "      <td>0.0</td>\n",
       "      <td>0.0</td>\n",
       "      <td>0.0</td>\n",
       "      <td>...</td>\n",
       "      <td>0.0</td>\n",
       "      <td>0.0</td>\n",
       "      <td>0.0</td>\n",
       "      <td>0.0</td>\n",
       "      <td>0.0</td>\n",
       "      <td>0.0</td>\n",
       "      <td>0.0</td>\n",
       "      <td>0.0</td>\n",
       "      <td>0.0</td>\n",
       "      <td>0.0</td>\n",
       "    </tr>\n",
       "    <tr>\n",
       "      <th>bwv421_3</th>\n",
       "      <td>bwv421</td>\n",
       "      <td>0.0</td>\n",
       "      <td>0.0</td>\n",
       "      <td>0.0</td>\n",
       "      <td>0.0</td>\n",
       "      <td>0.0</td>\n",
       "      <td>0.0</td>\n",
       "      <td>0.0</td>\n",
       "      <td>0.0</td>\n",
       "      <td>0.0</td>\n",
       "      <td>...</td>\n",
       "      <td>0.0</td>\n",
       "      <td>0.0</td>\n",
       "      <td>0.0</td>\n",
       "      <td>0.0</td>\n",
       "      <td>0.0</td>\n",
       "      <td>0.0</td>\n",
       "      <td>0.0</td>\n",
       "      <td>0.0</td>\n",
       "      <td>0.0</td>\n",
       "      <td>0.0</td>\n",
       "    </tr>\n",
       "    <tr>\n",
       "      <th>bwv421_4</th>\n",
       "      <td>bwv421</td>\n",
       "      <td>0.0</td>\n",
       "      <td>0.0</td>\n",
       "      <td>0.0</td>\n",
       "      <td>0.0</td>\n",
       "      <td>0.0</td>\n",
       "      <td>0.0</td>\n",
       "      <td>0.0</td>\n",
       "      <td>0.0</td>\n",
       "      <td>0.0</td>\n",
       "      <td>...</td>\n",
       "      <td>0.0</td>\n",
       "      <td>0.0</td>\n",
       "      <td>0.0</td>\n",
       "      <td>0.0</td>\n",
       "      <td>0.0</td>\n",
       "      <td>0.0</td>\n",
       "      <td>0.0</td>\n",
       "      <td>0.0</td>\n",
       "      <td>0.0</td>\n",
       "      <td>0.0</td>\n",
       "    </tr>\n",
       "  </tbody>\n",
       "</table>\n",
       "<p>5 rows × 35 columns</p>\n",
       "</div>"
      ],
      "text/plain": [
       "             BWV  A#4  A-3  A-4   A3   A4  B-3  B-4   B3   B4  ...   F#5   F3  \\\n",
       "bwv421_0  bwv421  0.0  0.0  0.0  0.0  0.0  0.0  0.0  0.0  0.0  ...   0.0  0.0   \n",
       "bwv421_1  bwv421  0.0  0.0  0.0  0.0  0.0  0.0  0.0  0.0  0.0  ...   0.0  0.0   \n",
       "bwv421_2  bwv421  0.0  0.0  0.0  0.0  0.0  0.0  0.0  0.0  0.0  ...   0.0  0.0   \n",
       "bwv421_3  bwv421  0.0  0.0  0.0  0.0  0.0  0.0  0.0  0.0  0.0  ...   0.0  0.0   \n",
       "bwv421_4  bwv421  0.0  0.0  0.0  0.0  0.0  0.0  0.0  0.0  0.0  ...   0.0  0.0   \n",
       "\n",
       "           F4   F5  G#4  G-4   G3   G4   G5  Rest  \n",
       "bwv421_0  0.0  0.0  0.0  0.0  0.0  0.0  0.0   0.0  \n",
       "bwv421_1  0.0  0.0  0.0  0.0  0.0  0.0  0.0   0.0  \n",
       "bwv421_2  0.0  0.0  0.0  0.0  0.0  0.0  0.0   0.0  \n",
       "bwv421_3  0.0  0.0  0.0  0.0  0.0  0.0  0.0   0.0  \n",
       "bwv421_4  0.0  0.0  0.0  0.0  0.0  0.0  0.0   0.0  \n",
       "\n",
       "[5 rows x 35 columns]"
      ]
     },
     "execution_count": 768,
     "metadata": {},
     "output_type": "execute_result"
    }
   ],
   "source": [
    "dummy = pd.get_dummies(master_y_cat_alto['alto_pitch_cat'])\n",
    "    \n",
    "master_y_cat_dummy_alto = pd.concat(\n",
    "                            [master_y_cat_alto[['BWV']],\n",
    "                            dummy],\n",
    "                            axis=1)\n",
    "\n",
    "master_y_cat_dummy_alto.head()"
   ]
  },
  {
   "cell_type": "markdown",
   "metadata": {},
   "source": [
    "#### tenor"
   ]
  },
  {
   "cell_type": "code",
   "execution_count": 770,
   "metadata": {
    "collapsed": false
   },
   "outputs": [
    {
     "data": {
      "text/html": [
       "<div>\n",
       "<table border=\"1\" class=\"dataframe\">\n",
       "  <thead>\n",
       "    <tr style=\"text-align: right;\">\n",
       "      <th></th>\n",
       "      <th>BWV</th>\n",
       "      <th>A#4</th>\n",
       "      <th>A-3</th>\n",
       "      <th>A-4</th>\n",
       "      <th>A3</th>\n",
       "      <th>A4</th>\n",
       "      <th>B-3</th>\n",
       "      <th>B-4</th>\n",
       "      <th>B3</th>\n",
       "      <th>B4</th>\n",
       "      <th>...</th>\n",
       "      <th>E4</th>\n",
       "      <th>F#3</th>\n",
       "      <th>F#4</th>\n",
       "      <th>F3</th>\n",
       "      <th>F4</th>\n",
       "      <th>G#3</th>\n",
       "      <th>G#4</th>\n",
       "      <th>G3</th>\n",
       "      <th>G4</th>\n",
       "      <th>Rest</th>\n",
       "    </tr>\n",
       "  </thead>\n",
       "  <tbody>\n",
       "    <tr>\n",
       "      <th>bwv421_0</th>\n",
       "      <td>bwv421</td>\n",
       "      <td>0.0</td>\n",
       "      <td>0.0</td>\n",
       "      <td>0.0</td>\n",
       "      <td>0.0</td>\n",
       "      <td>0.0</td>\n",
       "      <td>1.0</td>\n",
       "      <td>0.0</td>\n",
       "      <td>0.0</td>\n",
       "      <td>0.0</td>\n",
       "      <td>...</td>\n",
       "      <td>0.0</td>\n",
       "      <td>0.0</td>\n",
       "      <td>0.0</td>\n",
       "      <td>0.0</td>\n",
       "      <td>0.0</td>\n",
       "      <td>0.0</td>\n",
       "      <td>0.0</td>\n",
       "      <td>0.0</td>\n",
       "      <td>0.0</td>\n",
       "      <td>0.0</td>\n",
       "    </tr>\n",
       "    <tr>\n",
       "      <th>bwv421_1</th>\n",
       "      <td>bwv421</td>\n",
       "      <td>0.0</td>\n",
       "      <td>0.0</td>\n",
       "      <td>0.0</td>\n",
       "      <td>0.0</td>\n",
       "      <td>0.0</td>\n",
       "      <td>1.0</td>\n",
       "      <td>0.0</td>\n",
       "      <td>0.0</td>\n",
       "      <td>0.0</td>\n",
       "      <td>...</td>\n",
       "      <td>0.0</td>\n",
       "      <td>0.0</td>\n",
       "      <td>0.0</td>\n",
       "      <td>0.0</td>\n",
       "      <td>0.0</td>\n",
       "      <td>0.0</td>\n",
       "      <td>0.0</td>\n",
       "      <td>0.0</td>\n",
       "      <td>0.0</td>\n",
       "      <td>0.0</td>\n",
       "    </tr>\n",
       "    <tr>\n",
       "      <th>bwv421_2</th>\n",
       "      <td>bwv421</td>\n",
       "      <td>0.0</td>\n",
       "      <td>0.0</td>\n",
       "      <td>0.0</td>\n",
       "      <td>0.0</td>\n",
       "      <td>0.0</td>\n",
       "      <td>0.0</td>\n",
       "      <td>0.0</td>\n",
       "      <td>0.0</td>\n",
       "      <td>0.0</td>\n",
       "      <td>...</td>\n",
       "      <td>0.0</td>\n",
       "      <td>0.0</td>\n",
       "      <td>0.0</td>\n",
       "      <td>0.0</td>\n",
       "      <td>0.0</td>\n",
       "      <td>0.0</td>\n",
       "      <td>0.0</td>\n",
       "      <td>0.0</td>\n",
       "      <td>0.0</td>\n",
       "      <td>0.0</td>\n",
       "    </tr>\n",
       "    <tr>\n",
       "      <th>bwv421_3</th>\n",
       "      <td>bwv421</td>\n",
       "      <td>0.0</td>\n",
       "      <td>0.0</td>\n",
       "      <td>0.0</td>\n",
       "      <td>0.0</td>\n",
       "      <td>0.0</td>\n",
       "      <td>0.0</td>\n",
       "      <td>0.0</td>\n",
       "      <td>0.0</td>\n",
       "      <td>0.0</td>\n",
       "      <td>...</td>\n",
       "      <td>0.0</td>\n",
       "      <td>0.0</td>\n",
       "      <td>0.0</td>\n",
       "      <td>0.0</td>\n",
       "      <td>0.0</td>\n",
       "      <td>0.0</td>\n",
       "      <td>0.0</td>\n",
       "      <td>0.0</td>\n",
       "      <td>0.0</td>\n",
       "      <td>0.0</td>\n",
       "    </tr>\n",
       "    <tr>\n",
       "      <th>bwv421_4</th>\n",
       "      <td>bwv421</td>\n",
       "      <td>0.0</td>\n",
       "      <td>0.0</td>\n",
       "      <td>0.0</td>\n",
       "      <td>0.0</td>\n",
       "      <td>0.0</td>\n",
       "      <td>0.0</td>\n",
       "      <td>0.0</td>\n",
       "      <td>0.0</td>\n",
       "      <td>0.0</td>\n",
       "      <td>...</td>\n",
       "      <td>0.0</td>\n",
       "      <td>0.0</td>\n",
       "      <td>0.0</td>\n",
       "      <td>0.0</td>\n",
       "      <td>0.0</td>\n",
       "      <td>0.0</td>\n",
       "      <td>0.0</td>\n",
       "      <td>0.0</td>\n",
       "      <td>0.0</td>\n",
       "      <td>0.0</td>\n",
       "    </tr>\n",
       "  </tbody>\n",
       "</table>\n",
       "<p>5 rows × 35 columns</p>\n",
       "</div>"
      ],
      "text/plain": [
       "             BWV  A#4  A-3  A-4   A3   A4  B-3  B-4   B3   B4  ...    E4  F#3  \\\n",
       "bwv421_0  bwv421  0.0  0.0  0.0  0.0  0.0  1.0  0.0  0.0  0.0  ...   0.0  0.0   \n",
       "bwv421_1  bwv421  0.0  0.0  0.0  0.0  0.0  1.0  0.0  0.0  0.0  ...   0.0  0.0   \n",
       "bwv421_2  bwv421  0.0  0.0  0.0  0.0  0.0  0.0  0.0  0.0  0.0  ...   0.0  0.0   \n",
       "bwv421_3  bwv421  0.0  0.0  0.0  0.0  0.0  0.0  0.0  0.0  0.0  ...   0.0  0.0   \n",
       "bwv421_4  bwv421  0.0  0.0  0.0  0.0  0.0  0.0  0.0  0.0  0.0  ...   0.0  0.0   \n",
       "\n",
       "          F#4   F3   F4  G#3  G#4   G3   G4  Rest  \n",
       "bwv421_0  0.0  0.0  0.0  0.0  0.0  0.0  0.0   0.0  \n",
       "bwv421_1  0.0  0.0  0.0  0.0  0.0  0.0  0.0   0.0  \n",
       "bwv421_2  0.0  0.0  0.0  0.0  0.0  0.0  0.0   0.0  \n",
       "bwv421_3  0.0  0.0  0.0  0.0  0.0  0.0  0.0   0.0  \n",
       "bwv421_4  0.0  0.0  0.0  0.0  0.0  0.0  0.0   0.0  \n",
       "\n",
       "[5 rows x 35 columns]"
      ]
     },
     "execution_count": 770,
     "metadata": {},
     "output_type": "execute_result"
    }
   ],
   "source": [
    "dummy = pd.get_dummies(master_y_cat_tenor['tenor_pitch_cat'])\n",
    "    \n",
    "master_y_cat_dummy_tenor = pd.concat(\n",
    "                            [master_y_cat_tenor[['BWV']],\n",
    "                            dummy],\n",
    "                            axis=1)\n",
    "\n",
    "master_y_cat_dummy_tenor.head()"
   ]
  },
  {
   "cell_type": "markdown",
   "metadata": {},
   "source": [
    "#### bass"
   ]
  },
  {
   "cell_type": "code",
   "execution_count": 771,
   "metadata": {
    "collapsed": false
   },
   "outputs": [
    {
     "data": {
      "text/html": [
       "<div>\n",
       "<table border=\"1\" class=\"dataframe\">\n",
       "  <thead>\n",
       "    <tr style=\"text-align: right;\">\n",
       "      <th></th>\n",
       "      <th>BWV</th>\n",
       "      <th>A#2</th>\n",
       "      <th>A#3</th>\n",
       "      <th>A-2</th>\n",
       "      <th>A-3</th>\n",
       "      <th>A2</th>\n",
       "      <th>A3</th>\n",
       "      <th>A4</th>\n",
       "      <th>B-1</th>\n",
       "      <th>B-2</th>\n",
       "      <th>...</th>\n",
       "      <th>F#4</th>\n",
       "      <th>F2</th>\n",
       "      <th>F3</th>\n",
       "      <th>F4</th>\n",
       "      <th>G#2</th>\n",
       "      <th>G#3</th>\n",
       "      <th>G2</th>\n",
       "      <th>G3</th>\n",
       "      <th>G4</th>\n",
       "      <th>Rest</th>\n",
       "    </tr>\n",
       "  </thead>\n",
       "  <tbody>\n",
       "    <tr>\n",
       "      <th>bwv421_0</th>\n",
       "      <td>bwv421</td>\n",
       "      <td>0.0</td>\n",
       "      <td>0.0</td>\n",
       "      <td>0.0</td>\n",
       "      <td>0.0</td>\n",
       "      <td>0.0</td>\n",
       "      <td>0.0</td>\n",
       "      <td>0.0</td>\n",
       "      <td>0.0</td>\n",
       "      <td>0.0</td>\n",
       "      <td>...</td>\n",
       "      <td>0.0</td>\n",
       "      <td>0.0</td>\n",
       "      <td>0.0</td>\n",
       "      <td>0.0</td>\n",
       "      <td>0.0</td>\n",
       "      <td>0.0</td>\n",
       "      <td>1.0</td>\n",
       "      <td>0.0</td>\n",
       "      <td>0.0</td>\n",
       "      <td>0.0</td>\n",
       "    </tr>\n",
       "    <tr>\n",
       "      <th>bwv421_1</th>\n",
       "      <td>bwv421</td>\n",
       "      <td>0.0</td>\n",
       "      <td>0.0</td>\n",
       "      <td>0.0</td>\n",
       "      <td>0.0</td>\n",
       "      <td>0.0</td>\n",
       "      <td>0.0</td>\n",
       "      <td>0.0</td>\n",
       "      <td>0.0</td>\n",
       "      <td>0.0</td>\n",
       "      <td>...</td>\n",
       "      <td>0.0</td>\n",
       "      <td>0.0</td>\n",
       "      <td>0.0</td>\n",
       "      <td>0.0</td>\n",
       "      <td>0.0</td>\n",
       "      <td>0.0</td>\n",
       "      <td>1.0</td>\n",
       "      <td>0.0</td>\n",
       "      <td>0.0</td>\n",
       "      <td>0.0</td>\n",
       "    </tr>\n",
       "    <tr>\n",
       "      <th>bwv421_2</th>\n",
       "      <td>bwv421</td>\n",
       "      <td>0.0</td>\n",
       "      <td>0.0</td>\n",
       "      <td>0.0</td>\n",
       "      <td>0.0</td>\n",
       "      <td>1.0</td>\n",
       "      <td>0.0</td>\n",
       "      <td>0.0</td>\n",
       "      <td>0.0</td>\n",
       "      <td>0.0</td>\n",
       "      <td>...</td>\n",
       "      <td>0.0</td>\n",
       "      <td>0.0</td>\n",
       "      <td>0.0</td>\n",
       "      <td>0.0</td>\n",
       "      <td>0.0</td>\n",
       "      <td>0.0</td>\n",
       "      <td>0.0</td>\n",
       "      <td>0.0</td>\n",
       "      <td>0.0</td>\n",
       "      <td>0.0</td>\n",
       "    </tr>\n",
       "    <tr>\n",
       "      <th>bwv421_3</th>\n",
       "      <td>bwv421</td>\n",
       "      <td>0.0</td>\n",
       "      <td>0.0</td>\n",
       "      <td>0.0</td>\n",
       "      <td>0.0</td>\n",
       "      <td>1.0</td>\n",
       "      <td>0.0</td>\n",
       "      <td>0.0</td>\n",
       "      <td>0.0</td>\n",
       "      <td>0.0</td>\n",
       "      <td>...</td>\n",
       "      <td>0.0</td>\n",
       "      <td>0.0</td>\n",
       "      <td>0.0</td>\n",
       "      <td>0.0</td>\n",
       "      <td>0.0</td>\n",
       "      <td>0.0</td>\n",
       "      <td>0.0</td>\n",
       "      <td>0.0</td>\n",
       "      <td>0.0</td>\n",
       "      <td>0.0</td>\n",
       "    </tr>\n",
       "    <tr>\n",
       "      <th>bwv421_4</th>\n",
       "      <td>bwv421</td>\n",
       "      <td>0.0</td>\n",
       "      <td>0.0</td>\n",
       "      <td>0.0</td>\n",
       "      <td>0.0</td>\n",
       "      <td>0.0</td>\n",
       "      <td>0.0</td>\n",
       "      <td>0.0</td>\n",
       "      <td>0.0</td>\n",
       "      <td>1.0</td>\n",
       "      <td>...</td>\n",
       "      <td>0.0</td>\n",
       "      <td>0.0</td>\n",
       "      <td>0.0</td>\n",
       "      <td>0.0</td>\n",
       "      <td>0.0</td>\n",
       "      <td>0.0</td>\n",
       "      <td>0.0</td>\n",
       "      <td>0.0</td>\n",
       "      <td>0.0</td>\n",
       "      <td>0.0</td>\n",
       "    </tr>\n",
       "  </tbody>\n",
       "</table>\n",
       "<p>5 rows × 43 columns</p>\n",
       "</div>"
      ],
      "text/plain": [
       "             BWV  A#2  A#3  A-2  A-3   A2   A3   A4  B-1  B-2  ...   F#4   F2  \\\n",
       "bwv421_0  bwv421  0.0  0.0  0.0  0.0  0.0  0.0  0.0  0.0  0.0  ...   0.0  0.0   \n",
       "bwv421_1  bwv421  0.0  0.0  0.0  0.0  0.0  0.0  0.0  0.0  0.0  ...   0.0  0.0   \n",
       "bwv421_2  bwv421  0.0  0.0  0.0  0.0  1.0  0.0  0.0  0.0  0.0  ...   0.0  0.0   \n",
       "bwv421_3  bwv421  0.0  0.0  0.0  0.0  1.0  0.0  0.0  0.0  0.0  ...   0.0  0.0   \n",
       "bwv421_4  bwv421  0.0  0.0  0.0  0.0  0.0  0.0  0.0  0.0  1.0  ...   0.0  0.0   \n",
       "\n",
       "           F3   F4  G#2  G#3   G2   G3   G4  Rest  \n",
       "bwv421_0  0.0  0.0  0.0  0.0  1.0  0.0  0.0   0.0  \n",
       "bwv421_1  0.0  0.0  0.0  0.0  1.0  0.0  0.0   0.0  \n",
       "bwv421_2  0.0  0.0  0.0  0.0  0.0  0.0  0.0   0.0  \n",
       "bwv421_3  0.0  0.0  0.0  0.0  0.0  0.0  0.0   0.0  \n",
       "bwv421_4  0.0  0.0  0.0  0.0  0.0  0.0  0.0   0.0  \n",
       "\n",
       "[5 rows x 43 columns]"
      ]
     },
     "execution_count": 771,
     "metadata": {},
     "output_type": "execute_result"
    }
   ],
   "source": [
    "dummy = pd.get_dummies(master_y_cat_bass['bass_pitch_cat'])\n",
    "    \n",
    "master_y_cat_dummy_bass = pd.concat(\n",
    "                            [master_y_cat_bass[['BWV']],\n",
    "                            dummy],\n",
    "                            axis=1)\n",
    "\n",
    "master_y_cat_dummy_bass.head()"
   ]
  },
  {
   "cell_type": "markdown",
   "metadata": {},
   "source": [
    "#### isolating predictor X variables from the DF. "
   ]
  },
  {
   "cell_type": "code",
   "execution_count": 645,
   "metadata": {
    "collapsed": false
   },
   "outputs": [
    {
     "data": {
      "text/plain": [
       "Index([u'BWV', u'orig_key', u'beats_per_measure', u'forward_note',\n",
       "       u'back_note', u'forward_measure', u'back_measure',\n",
       "       u'note_in_measure_position', u'quarter_in_measure_position',\n",
       "       u'soprano_pitch_cat', u'alto_pitch_cat', u'tenor_pitch_cat',\n",
       "       u'bass_pitch_cat', u'soprano_pitch_cont', u'alto_pitch_cont',\n",
       "       u'tenor_pitch_cont', u'bass_pitch_cont'],\n",
       "      dtype='object')"
      ]
     },
     "execution_count": 645,
     "metadata": {},
     "output_type": "execute_result"
    }
   ],
   "source": [
    "clean_bach.columns"
   ]
  },
  {
   "cell_type": "code",
   "execution_count": 757,
   "metadata": {
    "collapsed": true
   },
   "outputs": [],
   "source": [
    "master_X_cat = clean_bach[[u'BWV',u'beats_per_measure', u'forward_note',\n",
    "       u'back_note', u'forward_measure', u'back_measure',\n",
    "       u'note_in_measure_position', u'quarter_in_measure_position',\n",
    "       u'soprano_pitch_cat', u'alto_pitch_cat', u'tenor_pitch_cat',\n",
    "       u'bass_pitch_cat']]"
   ]
  },
  {
   "cell_type": "markdown",
   "metadata": {},
   "source": [
    "#### turn categorical predictor X variables into DUMMY VARIABLES"
   ]
  },
  {
   "cell_type": "code",
   "execution_count": 647,
   "metadata": {
    "collapsed": true
   },
   "outputs": [],
   "source": [
    "parts_df = master_X_cat[['soprano_pitch_cat', 'alto_pitch_cat', \n",
    "                         u'tenor_pitch_cat', u'bass_pitch_cat']]"
   ]
  },
  {
   "cell_type": "code",
   "execution_count": 648,
   "metadata": {
    "collapsed": true
   },
   "outputs": [],
   "source": [
    "parts_df_dummy = pd.get_dummies(parts_df)"
   ]
  },
  {
   "cell_type": "code",
   "execution_count": 649,
   "metadata": {
    "collapsed": false
   },
   "outputs": [
    {
     "data": {
      "text/html": [
       "<div>\n",
       "<table border=\"1\" class=\"dataframe\">\n",
       "  <thead>\n",
       "    <tr style=\"text-align: right;\">\n",
       "      <th></th>\n",
       "      <th>soprano_pitch_cat_A4</th>\n",
       "      <th>soprano_pitch_cat_A5</th>\n",
       "      <th>soprano_pitch_cat_B-3</th>\n",
       "      <th>soprano_pitch_cat_B-4</th>\n",
       "      <th>soprano_pitch_cat_B-5</th>\n",
       "      <th>soprano_pitch_cat_B3</th>\n",
       "      <th>soprano_pitch_cat_B4</th>\n",
       "      <th>soprano_pitch_cat_B5</th>\n",
       "      <th>soprano_pitch_cat_C#4</th>\n",
       "      <th>soprano_pitch_cat_C#5</th>\n",
       "      <th>...</th>\n",
       "      <th>bass_pitch_cat_F#4</th>\n",
       "      <th>bass_pitch_cat_F2</th>\n",
       "      <th>bass_pitch_cat_F3</th>\n",
       "      <th>bass_pitch_cat_F4</th>\n",
       "      <th>bass_pitch_cat_G#2</th>\n",
       "      <th>bass_pitch_cat_G#3</th>\n",
       "      <th>bass_pitch_cat_G2</th>\n",
       "      <th>bass_pitch_cat_G3</th>\n",
       "      <th>bass_pitch_cat_G4</th>\n",
       "      <th>bass_pitch_cat_Rest</th>\n",
       "    </tr>\n",
       "  </thead>\n",
       "  <tbody>\n",
       "    <tr>\n",
       "      <th>bwv421_0</th>\n",
       "      <td>0.0</td>\n",
       "      <td>0.0</td>\n",
       "      <td>0.0</td>\n",
       "      <td>0.0</td>\n",
       "      <td>0.0</td>\n",
       "      <td>0.0</td>\n",
       "      <td>0.0</td>\n",
       "      <td>0.0</td>\n",
       "      <td>0.0</td>\n",
       "      <td>0.0</td>\n",
       "      <td>...</td>\n",
       "      <td>0.0</td>\n",
       "      <td>0.0</td>\n",
       "      <td>0.0</td>\n",
       "      <td>0.0</td>\n",
       "      <td>0.0</td>\n",
       "      <td>0.0</td>\n",
       "      <td>1.0</td>\n",
       "      <td>0.0</td>\n",
       "      <td>0.0</td>\n",
       "      <td>0.0</td>\n",
       "    </tr>\n",
       "    <tr>\n",
       "      <th>bwv421_1</th>\n",
       "      <td>0.0</td>\n",
       "      <td>0.0</td>\n",
       "      <td>0.0</td>\n",
       "      <td>0.0</td>\n",
       "      <td>0.0</td>\n",
       "      <td>0.0</td>\n",
       "      <td>0.0</td>\n",
       "      <td>0.0</td>\n",
       "      <td>0.0</td>\n",
       "      <td>0.0</td>\n",
       "      <td>...</td>\n",
       "      <td>0.0</td>\n",
       "      <td>0.0</td>\n",
       "      <td>0.0</td>\n",
       "      <td>0.0</td>\n",
       "      <td>0.0</td>\n",
       "      <td>0.0</td>\n",
       "      <td>1.0</td>\n",
       "      <td>0.0</td>\n",
       "      <td>0.0</td>\n",
       "      <td>0.0</td>\n",
       "    </tr>\n",
       "  </tbody>\n",
       "</table>\n",
       "<p>2 rows × 141 columns</p>\n",
       "</div>"
      ],
      "text/plain": [
       "          soprano_pitch_cat_A4  soprano_pitch_cat_A5  soprano_pitch_cat_B-3  \\\n",
       "bwv421_0                   0.0                   0.0                    0.0   \n",
       "bwv421_1                   0.0                   0.0                    0.0   \n",
       "\n",
       "          soprano_pitch_cat_B-4  soprano_pitch_cat_B-5  soprano_pitch_cat_B3  \\\n",
       "bwv421_0                    0.0                    0.0                   0.0   \n",
       "bwv421_1                    0.0                    0.0                   0.0   \n",
       "\n",
       "          soprano_pitch_cat_B4  soprano_pitch_cat_B5  soprano_pitch_cat_C#4  \\\n",
       "bwv421_0                   0.0                   0.0                    0.0   \n",
       "bwv421_1                   0.0                   0.0                    0.0   \n",
       "\n",
       "          soprano_pitch_cat_C#5         ...           bass_pitch_cat_F#4  \\\n",
       "bwv421_0                    0.0         ...                          0.0   \n",
       "bwv421_1                    0.0         ...                          0.0   \n",
       "\n",
       "          bass_pitch_cat_F2  bass_pitch_cat_F3  bass_pitch_cat_F4  \\\n",
       "bwv421_0                0.0                0.0                0.0   \n",
       "bwv421_1                0.0                0.0                0.0   \n",
       "\n",
       "          bass_pitch_cat_G#2  bass_pitch_cat_G#3  bass_pitch_cat_G2  \\\n",
       "bwv421_0                 0.0                 0.0                1.0   \n",
       "bwv421_1                 0.0                 0.0                1.0   \n",
       "\n",
       "          bass_pitch_cat_G3  bass_pitch_cat_G4  bass_pitch_cat_Rest  \n",
       "bwv421_0                0.0                0.0                  0.0  \n",
       "bwv421_1                0.0                0.0                  0.0  \n",
       "\n",
       "[2 rows x 141 columns]"
      ]
     },
     "execution_count": 649,
     "metadata": {},
     "output_type": "execute_result"
    }
   ],
   "source": [
    "parts_df_dummy.head(2)"
   ]
  },
  {
   "cell_type": "markdown",
   "metadata": {},
   "source": [
    "### combining cat DUMMY variables with other features"
   ]
  },
  {
   "cell_type": "code",
   "execution_count": 758,
   "metadata": {
    "collapsed": false
   },
   "outputs": [],
   "source": [
    "master_X_cat_dummies = pd.concat(\n",
    "    [master_X_cat[[u'BWV',u'beats_per_measure', u'forward_note',u'back_note', \n",
    "                  u'forward_measure', u'back_measure',\n",
    "                  u'note_in_measure_position', \n",
    "                  u'quarter_in_measure_position']],\n",
    "    parts_df_dummy],\n",
    "    axis=1)"
   ]
  },
  {
   "cell_type": "code",
   "execution_count": 759,
   "metadata": {
    "collapsed": false
   },
   "outputs": [
    {
     "data": {
      "text/html": [
       "<div>\n",
       "<table border=\"1\" class=\"dataframe\">\n",
       "  <thead>\n",
       "    <tr style=\"text-align: right;\">\n",
       "      <th></th>\n",
       "      <th>BWV</th>\n",
       "      <th>beats_per_measure</th>\n",
       "      <th>forward_note</th>\n",
       "      <th>back_note</th>\n",
       "      <th>forward_measure</th>\n",
       "      <th>back_measure</th>\n",
       "      <th>note_in_measure_position</th>\n",
       "      <th>quarter_in_measure_position</th>\n",
       "      <th>soprano_pitch_cat_A4</th>\n",
       "      <th>soprano_pitch_cat_A5</th>\n",
       "      <th>...</th>\n",
       "      <th>bass_pitch_cat_F#4</th>\n",
       "      <th>bass_pitch_cat_F2</th>\n",
       "      <th>bass_pitch_cat_F3</th>\n",
       "      <th>bass_pitch_cat_F4</th>\n",
       "      <th>bass_pitch_cat_G#2</th>\n",
       "      <th>bass_pitch_cat_G#3</th>\n",
       "      <th>bass_pitch_cat_G2</th>\n",
       "      <th>bass_pitch_cat_G3</th>\n",
       "      <th>bass_pitch_cat_G4</th>\n",
       "      <th>bass_pitch_cat_Rest</th>\n",
       "    </tr>\n",
       "  </thead>\n",
       "  <tbody>\n",
       "    <tr>\n",
       "      <th>bwv421_0</th>\n",
       "      <td>bwv421</td>\n",
       "      <td>4</td>\n",
       "      <td>0</td>\n",
       "      <td>159</td>\n",
       "      <td>0</td>\n",
       "      <td>10</td>\n",
       "      <td>1</td>\n",
       "      <td>4</td>\n",
       "      <td>0.0</td>\n",
       "      <td>0.0</td>\n",
       "      <td>...</td>\n",
       "      <td>0.0</td>\n",
       "      <td>0.0</td>\n",
       "      <td>0.0</td>\n",
       "      <td>0.0</td>\n",
       "      <td>0.0</td>\n",
       "      <td>0.0</td>\n",
       "      <td>1.0</td>\n",
       "      <td>0.0</td>\n",
       "      <td>0.0</td>\n",
       "      <td>0.0</td>\n",
       "    </tr>\n",
       "    <tr>\n",
       "      <th>bwv421_1</th>\n",
       "      <td>bwv421</td>\n",
       "      <td>4</td>\n",
       "      <td>1</td>\n",
       "      <td>158</td>\n",
       "      <td>0</td>\n",
       "      <td>10</td>\n",
       "      <td>2</td>\n",
       "      <td>4</td>\n",
       "      <td>0.0</td>\n",
       "      <td>0.0</td>\n",
       "      <td>...</td>\n",
       "      <td>0.0</td>\n",
       "      <td>0.0</td>\n",
       "      <td>0.0</td>\n",
       "      <td>0.0</td>\n",
       "      <td>0.0</td>\n",
       "      <td>0.0</td>\n",
       "      <td>1.0</td>\n",
       "      <td>0.0</td>\n",
       "      <td>0.0</td>\n",
       "      <td>0.0</td>\n",
       "    </tr>\n",
       "    <tr>\n",
       "      <th>bwv421_2</th>\n",
       "      <td>bwv421</td>\n",
       "      <td>4</td>\n",
       "      <td>2</td>\n",
       "      <td>157</td>\n",
       "      <td>0</td>\n",
       "      <td>10</td>\n",
       "      <td>3</td>\n",
       "      <td>4</td>\n",
       "      <td>0.0</td>\n",
       "      <td>0.0</td>\n",
       "      <td>...</td>\n",
       "      <td>0.0</td>\n",
       "      <td>0.0</td>\n",
       "      <td>0.0</td>\n",
       "      <td>0.0</td>\n",
       "      <td>0.0</td>\n",
       "      <td>0.0</td>\n",
       "      <td>0.0</td>\n",
       "      <td>0.0</td>\n",
       "      <td>0.0</td>\n",
       "      <td>0.0</td>\n",
       "    </tr>\n",
       "    <tr>\n",
       "      <th>bwv421_3</th>\n",
       "      <td>bwv421</td>\n",
       "      <td>4</td>\n",
       "      <td>3</td>\n",
       "      <td>156</td>\n",
       "      <td>0</td>\n",
       "      <td>10</td>\n",
       "      <td>4</td>\n",
       "      <td>4</td>\n",
       "      <td>0.0</td>\n",
       "      <td>0.0</td>\n",
       "      <td>...</td>\n",
       "      <td>0.0</td>\n",
       "      <td>0.0</td>\n",
       "      <td>0.0</td>\n",
       "      <td>0.0</td>\n",
       "      <td>0.0</td>\n",
       "      <td>0.0</td>\n",
       "      <td>0.0</td>\n",
       "      <td>0.0</td>\n",
       "      <td>0.0</td>\n",
       "      <td>0.0</td>\n",
       "    </tr>\n",
       "    <tr>\n",
       "      <th>bwv421_4</th>\n",
       "      <td>bwv421</td>\n",
       "      <td>4</td>\n",
       "      <td>4</td>\n",
       "      <td>155</td>\n",
       "      <td>1</td>\n",
       "      <td>9</td>\n",
       "      <td>1</td>\n",
       "      <td>1</td>\n",
       "      <td>0.0</td>\n",
       "      <td>0.0</td>\n",
       "      <td>...</td>\n",
       "      <td>0.0</td>\n",
       "      <td>0.0</td>\n",
       "      <td>0.0</td>\n",
       "      <td>0.0</td>\n",
       "      <td>0.0</td>\n",
       "      <td>0.0</td>\n",
       "      <td>0.0</td>\n",
       "      <td>0.0</td>\n",
       "      <td>0.0</td>\n",
       "      <td>0.0</td>\n",
       "    </tr>\n",
       "  </tbody>\n",
       "</table>\n",
       "<p>5 rows × 149 columns</p>\n",
       "</div>"
      ],
      "text/plain": [
       "             BWV  beats_per_measure  forward_note  back_note  forward_measure  \\\n",
       "bwv421_0  bwv421                  4             0        159                0   \n",
       "bwv421_1  bwv421                  4             1        158                0   \n",
       "bwv421_2  bwv421                  4             2        157                0   \n",
       "bwv421_3  bwv421                  4             3        156                0   \n",
       "bwv421_4  bwv421                  4             4        155                1   \n",
       "\n",
       "          back_measure  note_in_measure_position  quarter_in_measure_position  \\\n",
       "bwv421_0            10                         1                            4   \n",
       "bwv421_1            10                         2                            4   \n",
       "bwv421_2            10                         3                            4   \n",
       "bwv421_3            10                         4                            4   \n",
       "bwv421_4             9                         1                            1   \n",
       "\n",
       "          soprano_pitch_cat_A4  soprano_pitch_cat_A5         ...           \\\n",
       "bwv421_0                   0.0                   0.0         ...            \n",
       "bwv421_1                   0.0                   0.0         ...            \n",
       "bwv421_2                   0.0                   0.0         ...            \n",
       "bwv421_3                   0.0                   0.0         ...            \n",
       "bwv421_4                   0.0                   0.0         ...            \n",
       "\n",
       "          bass_pitch_cat_F#4  bass_pitch_cat_F2  bass_pitch_cat_F3  \\\n",
       "bwv421_0                 0.0                0.0                0.0   \n",
       "bwv421_1                 0.0                0.0                0.0   \n",
       "bwv421_2                 0.0                0.0                0.0   \n",
       "bwv421_3                 0.0                0.0                0.0   \n",
       "bwv421_4                 0.0                0.0                0.0   \n",
       "\n",
       "          bass_pitch_cat_F4  bass_pitch_cat_G#2  bass_pitch_cat_G#3  \\\n",
       "bwv421_0                0.0                 0.0                 0.0   \n",
       "bwv421_1                0.0                 0.0                 0.0   \n",
       "bwv421_2                0.0                 0.0                 0.0   \n",
       "bwv421_3                0.0                 0.0                 0.0   \n",
       "bwv421_4                0.0                 0.0                 0.0   \n",
       "\n",
       "          bass_pitch_cat_G2  bass_pitch_cat_G3  bass_pitch_cat_G4  \\\n",
       "bwv421_0                1.0                0.0                0.0   \n",
       "bwv421_1                1.0                0.0                0.0   \n",
       "bwv421_2                0.0                0.0                0.0   \n",
       "bwv421_3                0.0                0.0                0.0   \n",
       "bwv421_4                0.0                0.0                0.0   \n",
       "\n",
       "          bass_pitch_cat_Rest  \n",
       "bwv421_0                  0.0  \n",
       "bwv421_1                  0.0  \n",
       "bwv421_2                  0.0  \n",
       "bwv421_3                  0.0  \n",
       "bwv421_4                  0.0  \n",
       "\n",
       "[5 rows x 149 columns]"
      ]
     },
     "execution_count": 759,
     "metadata": {},
     "output_type": "execute_result"
    }
   ],
   "source": [
    "master_X_cat_dummies.head()"
   ]
  },
  {
   "cell_type": "code",
   "execution_count": 760,
   "metadata": {
    "collapsed": false,
    "scrolled": true
   },
   "outputs": [
    {
     "data": {
      "text/plain": [
       "['BWV',\n",
       " 'beats_per_measure',\n",
       " 'forward_note',\n",
       " 'back_note',\n",
       " 'forward_measure',\n",
       " 'back_measure',\n",
       " 'note_in_measure_position',\n",
       " 'quarter_in_measure_position',\n",
       " 'soprano_pitch_cat_A4',\n",
       " 'soprano_pitch_cat_A5',\n",
       " 'soprano_pitch_cat_B-3',\n",
       " 'soprano_pitch_cat_B-4',\n",
       " 'soprano_pitch_cat_B-5',\n",
       " 'soprano_pitch_cat_B3',\n",
       " 'soprano_pitch_cat_B4',\n",
       " 'soprano_pitch_cat_B5',\n",
       " 'soprano_pitch_cat_C#4',\n",
       " 'soprano_pitch_cat_C#5',\n",
       " 'soprano_pitch_cat_C4',\n",
       " 'soprano_pitch_cat_C5',\n",
       " 'soprano_pitch_cat_C6',\n",
       " 'soprano_pitch_cat_D#4',\n",
       " 'soprano_pitch_cat_D#5',\n",
       " 'soprano_pitch_cat_D4',\n",
       " 'soprano_pitch_cat_D5',\n",
       " 'soprano_pitch_cat_D6',\n",
       " 'soprano_pitch_cat_E-4',\n",
       " 'soprano_pitch_cat_E-5',\n",
       " 'soprano_pitch_cat_E4',\n",
       " 'soprano_pitch_cat_E5',\n",
       " 'soprano_pitch_cat_F#4',\n",
       " 'soprano_pitch_cat_F#5',\n",
       " 'soprano_pitch_cat_F4',\n",
       " 'soprano_pitch_cat_F5',\n",
       " 'soprano_pitch_cat_G#4',\n",
       " 'soprano_pitch_cat_G#5',\n",
       " 'soprano_pitch_cat_G4',\n",
       " 'soprano_pitch_cat_G5',\n",
       " 'soprano_pitch_cat_Rest',\n",
       " 'alto_pitch_cat_A#4',\n",
       " 'alto_pitch_cat_A-3',\n",
       " 'alto_pitch_cat_A-4',\n",
       " 'alto_pitch_cat_A3',\n",
       " 'alto_pitch_cat_A4',\n",
       " 'alto_pitch_cat_B-3',\n",
       " 'alto_pitch_cat_B-4',\n",
       " 'alto_pitch_cat_B3',\n",
       " 'alto_pitch_cat_B4',\n",
       " 'alto_pitch_cat_C#4',\n",
       " 'alto_pitch_cat_C#5',\n",
       " 'alto_pitch_cat_C4',\n",
       " 'alto_pitch_cat_C5',\n",
       " 'alto_pitch_cat_D#4',\n",
       " 'alto_pitch_cat_D#5',\n",
       " 'alto_pitch_cat_D-4',\n",
       " 'alto_pitch_cat_D4',\n",
       " 'alto_pitch_cat_D5',\n",
       " 'alto_pitch_cat_E-4',\n",
       " 'alto_pitch_cat_E-5',\n",
       " 'alto_pitch_cat_E4',\n",
       " 'alto_pitch_cat_E5',\n",
       " 'alto_pitch_cat_F#3',\n",
       " 'alto_pitch_cat_F#4',\n",
       " 'alto_pitch_cat_F#5',\n",
       " 'alto_pitch_cat_F3',\n",
       " 'alto_pitch_cat_F4',\n",
       " 'alto_pitch_cat_F5',\n",
       " 'alto_pitch_cat_G#4',\n",
       " 'alto_pitch_cat_G-4',\n",
       " 'alto_pitch_cat_G3',\n",
       " 'alto_pitch_cat_G4',\n",
       " 'alto_pitch_cat_G5',\n",
       " 'alto_pitch_cat_Rest',\n",
       " 'tenor_pitch_cat_A#4',\n",
       " 'tenor_pitch_cat_A-3',\n",
       " 'tenor_pitch_cat_A-4',\n",
       " 'tenor_pitch_cat_A3',\n",
       " 'tenor_pitch_cat_A4',\n",
       " 'tenor_pitch_cat_B-3',\n",
       " 'tenor_pitch_cat_B-4',\n",
       " 'tenor_pitch_cat_B3',\n",
       " 'tenor_pitch_cat_B4',\n",
       " 'tenor_pitch_cat_C#3',\n",
       " 'tenor_pitch_cat_C#4',\n",
       " 'tenor_pitch_cat_C#5',\n",
       " 'tenor_pitch_cat_C3',\n",
       " 'tenor_pitch_cat_C4',\n",
       " 'tenor_pitch_cat_C5',\n",
       " 'tenor_pitch_cat_D#4',\n",
       " 'tenor_pitch_cat_D-3',\n",
       " 'tenor_pitch_cat_D-4',\n",
       " 'tenor_pitch_cat_D3',\n",
       " 'tenor_pitch_cat_D4',\n",
       " 'tenor_pitch_cat_D5',\n",
       " 'tenor_pitch_cat_E-3',\n",
       " 'tenor_pitch_cat_E-4',\n",
       " 'tenor_pitch_cat_E3',\n",
       " 'tenor_pitch_cat_E4',\n",
       " 'tenor_pitch_cat_F#3',\n",
       " 'tenor_pitch_cat_F#4',\n",
       " 'tenor_pitch_cat_F3',\n",
       " 'tenor_pitch_cat_F4',\n",
       " 'tenor_pitch_cat_G#3',\n",
       " 'tenor_pitch_cat_G#4',\n",
       " 'tenor_pitch_cat_G3',\n",
       " 'tenor_pitch_cat_G4',\n",
       " 'tenor_pitch_cat_Rest',\n",
       " 'bass_pitch_cat_A#2',\n",
       " 'bass_pitch_cat_A#3',\n",
       " 'bass_pitch_cat_A-2',\n",
       " 'bass_pitch_cat_A-3',\n",
       " 'bass_pitch_cat_A2',\n",
       " 'bass_pitch_cat_A3',\n",
       " 'bass_pitch_cat_A4',\n",
       " 'bass_pitch_cat_B-1',\n",
       " 'bass_pitch_cat_B-2',\n",
       " 'bass_pitch_cat_B-3',\n",
       " 'bass_pitch_cat_B1',\n",
       " 'bass_pitch_cat_B2',\n",
       " 'bass_pitch_cat_B3',\n",
       " 'bass_pitch_cat_C#3',\n",
       " 'bass_pitch_cat_C#4',\n",
       " 'bass_pitch_cat_C2',\n",
       " 'bass_pitch_cat_C3',\n",
       " 'bass_pitch_cat_C4',\n",
       " 'bass_pitch_cat_D#2',\n",
       " 'bass_pitch_cat_D#3',\n",
       " 'bass_pitch_cat_D#4',\n",
       " 'bass_pitch_cat_D2',\n",
       " 'bass_pitch_cat_D3',\n",
       " 'bass_pitch_cat_D4',\n",
       " 'bass_pitch_cat_E-2',\n",
       " 'bass_pitch_cat_E-3',\n",
       " 'bass_pitch_cat_E-4',\n",
       " 'bass_pitch_cat_E2',\n",
       " 'bass_pitch_cat_E3',\n",
       " 'bass_pitch_cat_E4',\n",
       " 'bass_pitch_cat_F#2',\n",
       " 'bass_pitch_cat_F#3',\n",
       " 'bass_pitch_cat_F#4',\n",
       " 'bass_pitch_cat_F2',\n",
       " 'bass_pitch_cat_F3',\n",
       " 'bass_pitch_cat_F4',\n",
       " 'bass_pitch_cat_G#2',\n",
       " 'bass_pitch_cat_G#3',\n",
       " 'bass_pitch_cat_G2',\n",
       " 'bass_pitch_cat_G3',\n",
       " 'bass_pitch_cat_G4',\n",
       " 'bass_pitch_cat_Rest']"
      ]
     },
     "execution_count": 760,
     "metadata": {},
     "output_type": "execute_result"
    }
   ],
   "source": [
    "list(master_X_cat_dummies.columns)"
   ]
  },
  {
   "cell_type": "markdown",
   "metadata": {},
   "source": [
    "### Continuous Version"
   ]
  },
  {
   "cell_type": "code",
   "execution_count": 653,
   "metadata": {
    "collapsed": true
   },
   "outputs": [],
   "source": [
    "# a series\n",
    "master_y_cont = clean_bach['soprano_pitch_cont']"
   ]
  },
  {
   "cell_type": "code",
   "execution_count": 654,
   "metadata": {
    "collapsed": true
   },
   "outputs": [],
   "source": [
    "master_X_cont = clean_bach[[u'beats_per_measure', u'forward_note',\n",
    "       u'back_note', u'forward_measure', u'back_measure',\n",
    "       u'note_in_measure_position', u'quarter_in_measure_position',\n",
    "       u'soprano_pitch_cont', u'alto_pitch_cont', u'tenor_pitch_cont',\n",
    "       u'bass_pitch_cont']]"
   ]
  },
  {
   "cell_type": "code",
   "execution_count": null,
   "metadata": {
    "collapsed": true
   },
   "outputs": [],
   "source": []
  },
  {
   "cell_type": "markdown",
   "metadata": {},
   "source": [
    "# Create a function that transforms your model results back into music21 data. "
   ]
  },
  {
   "cell_type": "code",
   "execution_count": 966,
   "metadata": {
    "collapsed": true
   },
   "outputs": [],
   "source": [
    "# use this as the base template to put the new predictions in?\n",
    "new_CL_bach = clean_bach[['BWV', 'soprano_pitch_cat', 'alto_pitch_cat', 'tenor_pitch_cat',\n",
    "       'bass_pitch_cat', 'soprano_pitch_cont', 'alto_pitch_cont',\n",
    "       'tenor_pitch_cont', 'bass_pitch_cont']]"
   ]
  },
  {
   "cell_type": "markdown",
   "metadata": {},
   "source": [
    "## CATEGORICAL"
   ]
  },
  {
   "cell_type": "code",
   "execution_count": 1060,
   "metadata": {
    "collapsed": false,
    "scrolled": true
   },
   "outputs": [
    {
     "name": "stdout",
     "output_type": "stream",
     "text": [
      "Did you predict soprano in this model (Y/N)?Y\n",
      "Did you predict alto in this model (Y/N)?N\n",
      "Did you predict tenor in this model (Y/N)?N\n",
      "Did you predict bass in this model (Y/N)?N\n",
      "the_array:\n",
      "13820 [[  3.93820410e-05   4.62009439e-06   3.52374554e-05 ...,   1.64113529e-02\n",
      "    3.72923000e-06   2.65301478e-05]\n",
      " [  3.93820410e-05   4.62009439e-06   3.52374554e-05 ...,   1.64113529e-02\n",
      "    3.72923000e-06   2.65301478e-05]\n",
      " [  3.93820410e-05   4.62009439e-06   3.52374554e-05 ...,   1.64113529e-02\n",
      "    3.72923000e-06   2.65301478e-05]\n",
      " ..., \n",
      " [  1.04425965e-06   2.21450555e-05   1.88121510e-06 ...,   7.13190390e-03\n",
      "    1.87975718e-04   5.80103406e-05]\n",
      " [  1.04425965e-06   2.21450555e-05   1.88121510e-06 ...,   7.13190390e-03\n",
      "    1.87975718e-04   5.80103406e-05]\n",
      " [  1.04425965e-06   2.21450555e-05   1.88121510e-06 ...,   7.13190390e-03\n",
      "    1.87975718e-04   5.80103406e-05]]\n",
      "pitch_name_array:\n",
      "13820 ['F#4' 'F#4' 'F#4' ..., 'B3' 'B3' 'B3']\n",
      "length of an_array 13820\n",
      "length of pitch_name_array: 13820\n",
      "length of new_CL_bach: 46676\n",
      "composed_list: \n",
      "46460 ['B4', 'B4', 'B4', 'B4', 'B4', 'B4', 'C5', 'C5', 'D5', 'D5', 'D5', 'D5', 'B4', 'B4', 'B4', 'B4', 'G4', 'G4', 'G4', 'G4', 'A4', 'A4', 'A4', 'A4', 'B4', 'B4', 'B4', 'B4', 'C5', 'C5', 'C5', 'C5', 'B4', 'B4', 'B4', 'B4', 'A4', 'A4', 'A4', 'A4', 'G4', 'G4', 'G4', 'G4', 'G4', 'G4', 'G4', 'G4', 'G4', 'G4'] ['B3', 'B3', 'B3', 'C6', 'C6', 'B3', 'B3', 'B3', 'B3', 'C6', 'B3', 'D6', 'D6', 'F#5', 'F#5', 'G5', 'G5', 'G5', 'G5', 'G4', 'G4', 'G4', 'G4', 'C6', 'C6', 'C6', 'C6', 'D6', 'D6', 'D6', 'D6', 'B3', 'B3', 'G4', 'G4', 'G4', 'G4', 'G4', 'G4', 'B3', 'B3', 'B3', 'B3', 'F#4', 'F#4', 'F#4', 'F#4', 'B3', 'B3', 'B3']\n",
      "m21_array:\n",
      "46460 [<music21.note.Note B> <music21.note.Note B> <music21.note.Note B>\n",
      " <music21.note.Note B> <music21.note.Note B> <music21.note.Note B>\n",
      " <music21.note.Note C> <music21.note.Note C> <music21.note.Note D>\n",
      " <music21.note.Note D> <music21.note.Note D> <music21.note.Note D>\n",
      " <music21.note.Note B> <music21.note.Note B> <music21.note.Note B>\n",
      " <music21.note.Note B> <music21.note.Note G> <music21.note.Note G>\n",
      " <music21.note.Note G> <music21.note.Note G> <music21.note.Note A>\n",
      " <music21.note.Note A> <music21.note.Note A> <music21.note.Note A>\n",
      " <music21.note.Note B> <music21.note.Note B> <music21.note.Note B>\n",
      " <music21.note.Note B> <music21.note.Note C> <music21.note.Note C>\n",
      " <music21.note.Note C> <music21.note.Note C> <music21.note.Note B>\n",
      " <music21.note.Note B> <music21.note.Note B> <music21.note.Note B>\n",
      " <music21.note.Note A> <music21.note.Note A> <music21.note.Note A>\n",
      " <music21.note.Note A> <music21.note.Note G> <music21.note.Note G>\n",
      " <music21.note.Note G> <music21.note.Note G> <music21.note.Note G>\n",
      " <music21.note.Note G> <music21.note.Note G> <music21.note.Note G>\n",
      " <music21.note.Note G> <music21.note.Note G>] [<music21.note.Note B> <music21.note.Note B> <music21.note.Note B>\n",
      " <music21.note.Note C> <music21.note.Note C> <music21.note.Note B>\n",
      " <music21.note.Note B> <music21.note.Note B> <music21.note.Note B>\n",
      " <music21.note.Note C> <music21.note.Note B> <music21.note.Note D>\n",
      " <music21.note.Note D> <music21.note.Note F#> <music21.note.Note F#>\n",
      " <music21.note.Note G> <music21.note.Note G> <music21.note.Note G>\n",
      " <music21.note.Note G> <music21.note.Note G> <music21.note.Note G>\n",
      " <music21.note.Note G> <music21.note.Note G> <music21.note.Note C>\n",
      " <music21.note.Note C> <music21.note.Note C> <music21.note.Note C>\n",
      " <music21.note.Note D> <music21.note.Note D> <music21.note.Note D>\n",
      " <music21.note.Note D> <music21.note.Note B> <music21.note.Note B>\n",
      " <music21.note.Note G> <music21.note.Note G> <music21.note.Note G>\n",
      " <music21.note.Note G> <music21.note.Note G> <music21.note.Note G>\n",
      " <music21.note.Note B> <music21.note.Note B> <music21.note.Note B>\n",
      " <music21.note.Note B> <music21.note.Note F#> <music21.note.Note F#>\n",
      " <music21.note.Note F#> <music21.note.Note F#> <music21.note.Note B>\n",
      " <music21.note.Note B> <music21.note.Note B>]\n"
     ]
    },
    {
     "ename": "ValueError",
     "evalue": "Length of values does not match length of index",
     "output_type": "error",
     "traceback": [
      "\u001b[0;31m---------------------------------------------------------------------------\u001b[0m",
      "\u001b[0;31mValueError\u001b[0m                                Traceback (most recent call last)",
      "\u001b[0;32m<ipython-input-1060-63d12ca10439>\u001b[0m in \u001b[0;36m<module>\u001b[0;34m()\u001b[0m\n\u001b[0;32m----> 1\u001b[0;31m \u001b[0mLSTM_predict_to_music21_score\u001b[0m\u001b[0;34m(\u001b[0m\u001b[0mtest_predictions\u001b[0m\u001b[0;34m,\u001b[0m \u001b[0;36m0\u001b[0m\u001b[0;34m,\u001b[0m\u001b[0;36m32580\u001b[0m\u001b[0;34m)\u001b[0m\u001b[0;34m\u001b[0m\u001b[0m\n\u001b[0m",
      "\u001b[0;32m<ipython-input-1042-ee8d77d786b8>\u001b[0m in \u001b[0;36mLSTM_predict_to_music21_score\u001b[0;34m(proba_matrix, lag, test_start_index)\u001b[0m\n\u001b[1;32m     53\u001b[0m \u001b[0;34m\u001b[0m\u001b[0m\n\u001b[1;32m     54\u001b[0m         \u001b[0;31m# turn this into a series of notes\u001b[0m\u001b[0;34m\u001b[0m\u001b[0;34m\u001b[0m\u001b[0m\n\u001b[0;32m---> 55\u001b[0;31m         \u001b[0;32mreturn\u001b[0m \u001b[0mturn_proba_array_into_a_series_of_notes\u001b[0m\u001b[0;34m(\u001b[0m\u001b[0mthe_array\u001b[0m\u001b[0;34m,\u001b[0m \u001b[0meach_part\u001b[0m\u001b[0;34m,\u001b[0m \u001b[0mlag\u001b[0m\u001b[0;34m,\u001b[0m \u001b[0mtest_start_index\u001b[0m\u001b[0;34m)\u001b[0m\u001b[0;34m\u001b[0m\u001b[0m\n\u001b[0m\u001b[1;32m     56\u001b[0m \u001b[0;34m\u001b[0m\u001b[0m\n\u001b[1;32m     57\u001b[0m         \u001b[0;31m# take teh series of notes, and BY SONG, put it back into a stream/score\u001b[0m\u001b[0;34m\u001b[0m\u001b[0;34m\u001b[0m\u001b[0m\n",
      "\u001b[0;32m<ipython-input-1015-765b336832e2>\u001b[0m in \u001b[0;36mturn_proba_array_into_a_series_of_notes\u001b[0;34m(an_array, each_part, lag, test_start_index)\u001b[0m\n\u001b[1;32m    101\u001b[0m     \u001b[0;31m# create a new column in the DF and put those pitches in - dealing iwth th elag issue\u001b[0m\u001b[0;34m\u001b[0m\u001b[0;34m\u001b[0m\u001b[0m\n\u001b[1;32m    102\u001b[0m     \u001b[0mnew_column\u001b[0m \u001b[0;34m=\u001b[0m \u001b[0meach_part\u001b[0m \u001b[0;34m+\u001b[0m \u001b[0;34m'_composed'\u001b[0m\u001b[0;34m\u001b[0m\u001b[0m\n\u001b[0;32m--> 103\u001b[0;31m     \u001b[0mnew_CL_bach\u001b[0m\u001b[0;34m[\u001b[0m\u001b[0mnew_column\u001b[0m\u001b[0;34m]\u001b[0m \u001b[0;34m=\u001b[0m \u001b[0mm21_array\u001b[0m\u001b[0;34m\u001b[0m\u001b[0m\n\u001b[0m",
      "\u001b[0;32m//anaconda/envs/dsi/lib/python2.7/site-packages/pandas/core/frame.pyc\u001b[0m in \u001b[0;36m__setitem__\u001b[0;34m(self, key, value)\u001b[0m\n\u001b[1;32m   2355\u001b[0m         \u001b[0;32melse\u001b[0m\u001b[0;34m:\u001b[0m\u001b[0;34m\u001b[0m\u001b[0m\n\u001b[1;32m   2356\u001b[0m             \u001b[0;31m# set column\u001b[0m\u001b[0;34m\u001b[0m\u001b[0;34m\u001b[0m\u001b[0m\n\u001b[0;32m-> 2357\u001b[0;31m             \u001b[0mself\u001b[0m\u001b[0;34m.\u001b[0m\u001b[0m_set_item\u001b[0m\u001b[0;34m(\u001b[0m\u001b[0mkey\u001b[0m\u001b[0;34m,\u001b[0m \u001b[0mvalue\u001b[0m\u001b[0;34m)\u001b[0m\u001b[0;34m\u001b[0m\u001b[0m\n\u001b[0m\u001b[1;32m   2358\u001b[0m \u001b[0;34m\u001b[0m\u001b[0m\n\u001b[1;32m   2359\u001b[0m     \u001b[0;32mdef\u001b[0m \u001b[0m_setitem_slice\u001b[0m\u001b[0;34m(\u001b[0m\u001b[0mself\u001b[0m\u001b[0;34m,\u001b[0m \u001b[0mkey\u001b[0m\u001b[0;34m,\u001b[0m \u001b[0mvalue\u001b[0m\u001b[0;34m)\u001b[0m\u001b[0;34m:\u001b[0m\u001b[0;34m\u001b[0m\u001b[0m\n",
      "\u001b[0;32m//anaconda/envs/dsi/lib/python2.7/site-packages/pandas/core/frame.pyc\u001b[0m in \u001b[0;36m_set_item\u001b[0;34m(self, key, value)\u001b[0m\n\u001b[1;32m   2421\u001b[0m \u001b[0;34m\u001b[0m\u001b[0m\n\u001b[1;32m   2422\u001b[0m         \u001b[0mself\u001b[0m\u001b[0;34m.\u001b[0m\u001b[0m_ensure_valid_index\u001b[0m\u001b[0;34m(\u001b[0m\u001b[0mvalue\u001b[0m\u001b[0;34m)\u001b[0m\u001b[0;34m\u001b[0m\u001b[0m\n\u001b[0;32m-> 2423\u001b[0;31m         \u001b[0mvalue\u001b[0m \u001b[0;34m=\u001b[0m \u001b[0mself\u001b[0m\u001b[0;34m.\u001b[0m\u001b[0m_sanitize_column\u001b[0m\u001b[0;34m(\u001b[0m\u001b[0mkey\u001b[0m\u001b[0;34m,\u001b[0m \u001b[0mvalue\u001b[0m\u001b[0;34m)\u001b[0m\u001b[0;34m\u001b[0m\u001b[0m\n\u001b[0m\u001b[1;32m   2424\u001b[0m         \u001b[0mNDFrame\u001b[0m\u001b[0;34m.\u001b[0m\u001b[0m_set_item\u001b[0m\u001b[0;34m(\u001b[0m\u001b[0mself\u001b[0m\u001b[0;34m,\u001b[0m \u001b[0mkey\u001b[0m\u001b[0;34m,\u001b[0m \u001b[0mvalue\u001b[0m\u001b[0;34m)\u001b[0m\u001b[0;34m\u001b[0m\u001b[0m\n\u001b[1;32m   2425\u001b[0m \u001b[0;34m\u001b[0m\u001b[0m\n",
      "\u001b[0;32m//anaconda/envs/dsi/lib/python2.7/site-packages/pandas/core/frame.pyc\u001b[0m in \u001b[0;36m_sanitize_column\u001b[0;34m(self, key, value)\u001b[0m\n\u001b[1;32m   2576\u001b[0m \u001b[0;34m\u001b[0m\u001b[0m\n\u001b[1;32m   2577\u001b[0m             \u001b[0;31m# turn me into an ndarray\u001b[0m\u001b[0;34m\u001b[0m\u001b[0;34m\u001b[0m\u001b[0m\n\u001b[0;32m-> 2578\u001b[0;31m             \u001b[0mvalue\u001b[0m \u001b[0;34m=\u001b[0m \u001b[0m_sanitize_index\u001b[0m\u001b[0;34m(\u001b[0m\u001b[0mvalue\u001b[0m\u001b[0;34m,\u001b[0m \u001b[0mself\u001b[0m\u001b[0;34m.\u001b[0m\u001b[0mindex\u001b[0m\u001b[0;34m,\u001b[0m \u001b[0mcopy\u001b[0m\u001b[0;34m=\u001b[0m\u001b[0mFalse\u001b[0m\u001b[0;34m)\u001b[0m\u001b[0;34m\u001b[0m\u001b[0m\n\u001b[0m\u001b[1;32m   2579\u001b[0m             \u001b[0;32mif\u001b[0m \u001b[0;32mnot\u001b[0m \u001b[0misinstance\u001b[0m\u001b[0;34m(\u001b[0m\u001b[0mvalue\u001b[0m\u001b[0;34m,\u001b[0m \u001b[0;34m(\u001b[0m\u001b[0mnp\u001b[0m\u001b[0;34m.\u001b[0m\u001b[0mndarray\u001b[0m\u001b[0;34m,\u001b[0m \u001b[0mIndex\u001b[0m\u001b[0;34m)\u001b[0m\u001b[0;34m)\u001b[0m\u001b[0;34m:\u001b[0m\u001b[0;34m\u001b[0m\u001b[0m\n\u001b[1;32m   2580\u001b[0m                 \u001b[0;32mif\u001b[0m \u001b[0misinstance\u001b[0m\u001b[0;34m(\u001b[0m\u001b[0mvalue\u001b[0m\u001b[0;34m,\u001b[0m \u001b[0mlist\u001b[0m\u001b[0;34m)\u001b[0m \u001b[0;32mand\u001b[0m \u001b[0mlen\u001b[0m\u001b[0;34m(\u001b[0m\u001b[0mvalue\u001b[0m\u001b[0;34m)\u001b[0m \u001b[0;34m>\u001b[0m \u001b[0;36m0\u001b[0m\u001b[0;34m:\u001b[0m\u001b[0;34m\u001b[0m\u001b[0m\n",
      "\u001b[0;32m//anaconda/envs/dsi/lib/python2.7/site-packages/pandas/core/series.pyc\u001b[0m in \u001b[0;36m_sanitize_index\u001b[0;34m(data, index, copy)\u001b[0m\n\u001b[1;32m   2768\u001b[0m \u001b[0;34m\u001b[0m\u001b[0m\n\u001b[1;32m   2769\u001b[0m     \u001b[0;32mif\u001b[0m \u001b[0mlen\u001b[0m\u001b[0;34m(\u001b[0m\u001b[0mdata\u001b[0m\u001b[0;34m)\u001b[0m \u001b[0;34m!=\u001b[0m \u001b[0mlen\u001b[0m\u001b[0;34m(\u001b[0m\u001b[0mindex\u001b[0m\u001b[0;34m)\u001b[0m\u001b[0;34m:\u001b[0m\u001b[0;34m\u001b[0m\u001b[0m\n\u001b[0;32m-> 2770\u001b[0;31m         \u001b[0;32mraise\u001b[0m \u001b[0mValueError\u001b[0m\u001b[0;34m(\u001b[0m\u001b[0;34m'Length of values does not match length of '\u001b[0m \u001b[0;34m'index'\u001b[0m\u001b[0;34m)\u001b[0m\u001b[0;34m\u001b[0m\u001b[0m\n\u001b[0m\u001b[1;32m   2771\u001b[0m \u001b[0;34m\u001b[0m\u001b[0m\n\u001b[1;32m   2772\u001b[0m     \u001b[0;32mif\u001b[0m \u001b[0misinstance\u001b[0m\u001b[0;34m(\u001b[0m\u001b[0mdata\u001b[0m\u001b[0;34m,\u001b[0m \u001b[0mPeriodIndex\u001b[0m\u001b[0;34m)\u001b[0m\u001b[0;34m:\u001b[0m\u001b[0;34m\u001b[0m\u001b[0m\n",
      "\u001b[0;31mValueError\u001b[0m: Length of values does not match length of index"
     ]
    }
   ],
   "source": [
    "LSTM_predict_to_music21_score(test_predictions, 0,32580)"
   ]
  },
  {
   "cell_type": "code",
   "execution_count": 1062,
   "metadata": {
    "collapsed": false
   },
   "outputs": [
    {
     "data": {
      "text/plain": [
       "42"
      ]
     },
     "execution_count": 1062,
     "metadata": {},
     "output_type": "execute_result"
    }
   ],
   "source": [
    "len(test_predictions[0])"
   ]
  },
  {
   "cell_type": "code",
   "execution_count": 1059,
   "metadata": {
    "collapsed": false
   },
   "outputs": [
    {
     "data": {
      "text/html": [
       "<div>\n",
       "<table border=\"1\" class=\"dataframe\">\n",
       "  <thead>\n",
       "    <tr style=\"text-align: right;\">\n",
       "      <th></th>\n",
       "      <th>BWV</th>\n",
       "      <th>soprano_pitch_cat</th>\n",
       "      <th>alto_pitch_cat</th>\n",
       "      <th>tenor_pitch_cat</th>\n",
       "      <th>bass_pitch_cat</th>\n",
       "      <th>soprano_pitch_cont</th>\n",
       "      <th>alto_pitch_cont</th>\n",
       "      <th>tenor_pitch_cont</th>\n",
       "      <th>bass_pitch_cont</th>\n",
       "      <th>bass_composed</th>\n",
       "    </tr>\n",
       "  </thead>\n",
       "  <tbody>\n",
       "    <tr>\n",
       "      <th>bwv421_0</th>\n",
       "      <td>bwv421</td>\n",
       "      <td>G4</td>\n",
       "      <td>D4</td>\n",
       "      <td>B-3</td>\n",
       "      <td>G2</td>\n",
       "      <td>1</td>\n",
       "      <td>-4</td>\n",
       "      <td>-8</td>\n",
       "      <td>-23</td>\n",
       "      <td>&lt;numpy.lib.function_base.vectorize object at 0...</td>\n",
       "    </tr>\n",
       "    <tr>\n",
       "      <th>bwv421_1</th>\n",
       "      <td>bwv421</td>\n",
       "      <td>G4</td>\n",
       "      <td>D4</td>\n",
       "      <td>B-3</td>\n",
       "      <td>G2</td>\n",
       "      <td>1</td>\n",
       "      <td>-4</td>\n",
       "      <td>-8</td>\n",
       "      <td>-23</td>\n",
       "      <td>&lt;numpy.lib.function_base.vectorize object at 0...</td>\n",
       "    </tr>\n",
       "    <tr>\n",
       "      <th>bwv421_2</th>\n",
       "      <td>bwv421</td>\n",
       "      <td>G4</td>\n",
       "      <td>D4</td>\n",
       "      <td>C4</td>\n",
       "      <td>A2</td>\n",
       "      <td>1</td>\n",
       "      <td>-4</td>\n",
       "      <td>-6</td>\n",
       "      <td>-21</td>\n",
       "      <td>&lt;numpy.lib.function_base.vectorize object at 0...</td>\n",
       "    </tr>\n",
       "    <tr>\n",
       "      <th>bwv421_3</th>\n",
       "      <td>bwv421</td>\n",
       "      <td>G4</td>\n",
       "      <td>D4</td>\n",
       "      <td>C4</td>\n",
       "      <td>A2</td>\n",
       "      <td>1</td>\n",
       "      <td>-4</td>\n",
       "      <td>-6</td>\n",
       "      <td>-21</td>\n",
       "      <td>&lt;numpy.lib.function_base.vectorize object at 0...</td>\n",
       "    </tr>\n",
       "    <tr>\n",
       "      <th>bwv421_4</th>\n",
       "      <td>bwv421</td>\n",
       "      <td>G4</td>\n",
       "      <td>D4</td>\n",
       "      <td>D4</td>\n",
       "      <td>B-2</td>\n",
       "      <td>1</td>\n",
       "      <td>-4</td>\n",
       "      <td>-4</td>\n",
       "      <td>-20</td>\n",
       "      <td>&lt;numpy.lib.function_base.vectorize object at 0...</td>\n",
       "    </tr>\n",
       "  </tbody>\n",
       "</table>\n",
       "</div>"
      ],
      "text/plain": [
       "             BWV soprano_pitch_cat alto_pitch_cat tenor_pitch_cat  \\\n",
       "bwv421_0  bwv421                G4             D4             B-3   \n",
       "bwv421_1  bwv421                G4             D4             B-3   \n",
       "bwv421_2  bwv421                G4             D4              C4   \n",
       "bwv421_3  bwv421                G4             D4              C4   \n",
       "bwv421_4  bwv421                G4             D4              D4   \n",
       "\n",
       "         bass_pitch_cat  soprano_pitch_cont  alto_pitch_cont  \\\n",
       "bwv421_0             G2                   1               -4   \n",
       "bwv421_1             G2                   1               -4   \n",
       "bwv421_2             A2                   1               -4   \n",
       "bwv421_3             A2                   1               -4   \n",
       "bwv421_4            B-2                   1               -4   \n",
       "\n",
       "          tenor_pitch_cont  bass_pitch_cont  \\\n",
       "bwv421_0                -8              -23   \n",
       "bwv421_1                -8              -23   \n",
       "bwv421_2                -6              -21   \n",
       "bwv421_3                -6              -21   \n",
       "bwv421_4                -4              -20   \n",
       "\n",
       "                                              bass_composed  \n",
       "bwv421_0  <numpy.lib.function_base.vectorize object at 0...  \n",
       "bwv421_1  <numpy.lib.function_base.vectorize object at 0...  \n",
       "bwv421_2  <numpy.lib.function_base.vectorize object at 0...  \n",
       "bwv421_3  <numpy.lib.function_base.vectorize object at 0...  \n",
       "bwv421_4  <numpy.lib.function_base.vectorize object at 0...  "
      ]
     },
     "execution_count": 1059,
     "metadata": {},
     "output_type": "execute_result"
    }
   ],
   "source": [
    "new_CL_bach.head()"
   ]
  },
  {
   "cell_type": "code",
   "execution_count": 1042,
   "metadata": {
    "collapsed": true
   },
   "outputs": [],
   "source": [
    "# ok yeah i'm proud of this code, woot\n",
    "# assign this function to a new dataframe, then apply the create_score function to the DF\n",
    "# need lag so we know whether to fill in where the data has been offset and therefore missing\n",
    "\n",
    "def LSTM_predict_to_music21_score(proba_matrix, lag, test_start_index):\n",
    "\n",
    "    # which part is this for? do a series of raw inputs to get it to set up parts\n",
    "    predicted_parts = []\n",
    "    \n",
    "    # 4 different raw inputs to figure out which parts. seek user input \n",
    "    # do a for loop to go through all teh possible parts. each time the user says yes, we did\n",
    "    # predict that voice part, add taht part to the predictedparts list'''\n",
    "    for voice_part in ['soprano', 'alto', 'tenor', 'bass']:\n",
    "        use = raw_input('Did you predict {0} in this model (Y/N)?'.format(voice_part))\n",
    "        if use == 'Y':\n",
    "            predicted_parts.append(voice_part)\n",
    "        \n",
    "        \n",
    "    # identify the number of categorical variables per voice part so that the for loop\n",
    "    # can set aside the right number of columns\n",
    "    the_dict = {'soprano' : n_y_cat_variables_sop,\n",
    "               'alto' : n_y_cat_variables_alto,\n",
    "               'tenor' : n_y_cat_variables_tenor,\n",
    "               'bass' : n_y_cat_variables_bass}\n",
    "\n",
    "    # go thorugh each predicted part and set aside those values for that part\n",
    "    for i, each_part in enumerate(predicted_parts): # could be ['soprano', 'alto', 'tenor', 'bass']\n",
    "        # if it's the first one, then the beginning index needs to be 0.\n",
    "        # if it's not the first one, then you'll have set begin_index from the \n",
    "        # -previous- iteration.\n",
    "        if i == 0:\n",
    "            begin_index = 0\n",
    "\n",
    "        end_index = the_dict[each_part]\n",
    "\n",
    "        the_list = []\n",
    "\n",
    "            # for each row in proba_matrix, let's split out the values that belong to this part\n",
    "        for row in proba_matrix:\n",
    "            row = row[begin_index:]\n",
    "            row = row[:end_index]\n",
    "            the_list.append(row)\n",
    "\n",
    "        # after doing this iteration, set the stage for the next iteration by incrementing \n",
    "        # begin_index by how much you've advanced in this iteration. ie. if soprano is first \n",
    "        # and len(soprano) is 31, then this iteration will look like 0:31. the NEXT iteration\n",
    "        # will look like [31:31+the alto length]\n",
    "        begin_index = end_index\n",
    "\n",
    "        # turn this list into an array\n",
    "        the_array = np.array(the_list)\n",
    "        print 'the_array:\\n',len(the_array), the_array\n",
    "        \n",
    "        # turn this into a series of notes\n",
    "        return turn_proba_array_into_a_series_of_notes(the_array, each_part, lag, test_start_index)\n",
    "        \n",
    "        # take teh series of notes, and BY SONG, put it back into a stream/score\n",
    "        # you can take all the notes and put them sequentially in a list\n",
    "        # then call get_measures or something like that, and music21 will set up measure markings\n",
    "        # be sure to set up other needed stuff like key and time signatures.\n",
    "        # put EACH SCORE INTO A DICT LIKE BACH_DICT\n",
    "#         create_score(a_df)"
   ]
  },
  {
   "cell_type": "code",
   "execution_count": 1015,
   "metadata": {
    "collapsed": true
   },
   "outputs": [],
   "source": [
    "def turn_proba_array_into_a_series_of_notes(an_array, each_part, lag=0, test_start_index=0):\n",
    "    # determine the model's best recommendation from probabiltiies of the predicted note\n",
    "    index_best_recommendation = an_array.argmax(axis=1)\n",
    "    \n",
    "    # make this into a list for ease\n",
    "    index_best_recommendation = index_best_recommendation.tolist()\n",
    "    \n",
    "    # get a list of all the column names for that part\n",
    "    columns_by_part_dict = {\n",
    "        'soprano' : master_y_cat_dummy_sop.columns,\n",
    "        'alto' : master_y_cat_dummy_alto.columns,\n",
    "        'tenor' : master_y_cat_dummy_tenor.columns,\n",
    "        'bass' : master_y_cat_dummy_bass.columns\n",
    "    }\n",
    "   \n",
    "    # exclude the one column BWV since that is not a pitch and will not be exported by the model\n",
    "    the_columns = columns_by_part_dict[each_part][1:]\n",
    "    \n",
    "    # use the index from index_best_recommendation to identify the pitch it \n",
    "    # matches from the_columns\n",
    "    return_pitch_array = np.vectorize(lambda x: the_columns[x])\n",
    "    pitch_name_array = return_pitch_array(index_best_recommendation)\n",
    "    \n",
    "    print 'pitch_name_array:\\n', len(pitch_name_array), pitch_name_array\n",
    "    # use the DF new_CL_bach. split it up into distinct groupbys by BWV. \n",
    "    # add a column with the notes from an_array.\n",
    "    # if lag was used, add the 'true' notes from new_CL_bach\n",
    "    \n",
    "    # create a new list to hold all the notes in the composed version\n",
    "    composed_list = []\n",
    "    \n",
    "    print 'length of an_array', len(an_array)\n",
    "    print 'length of pitch_name_array:', len(pitch_name_array)\n",
    "    print 'length of new_CL_bach:', len(new_CL_bach)\n",
    "    \n",
    "    # do this by bwv groupby since lag is at the SONG level\n",
    "    for bwv_groupby in new_CL_bach.groupby(['BWV']):\n",
    "        # each iterative groupby item is a tuple with the BWV as the key and the rows\n",
    "        # as the value. so I need to access the rows via bwv_groupby[1]\n",
    "        \n",
    "        # define a variable for the number of rows in the groupby\n",
    "        n_groupby_rows = len(bwv_groupby[1])\n",
    "        \n",
    "        # identify the column of \"true\" notes from teh new_CL_bach df\n",
    "        desired_column_from_new_CL_bach = each_part + '_pitch_cat'\n",
    "        \n",
    "        # if we used a train/test split, then we need to start filling in with the \n",
    "        # actual data, since we never predicted any of those notes\n",
    "        # ALSO GOING TO ASSUME THAT WE ARE NOT EVER GOING TO DO TRAIN TEST SPLIT AND LAG \n",
    "        # AT THE SAME TIME        \n",
    "        while test_start_index > 0:\n",
    "            \n",
    "            # if hte number of rows is less than test_start_index, then fill composed_list\n",
    "            # completely with notes from new_CL_bach. # notes = n_groupby_rows\n",
    "            if n_groupby_rows <= test_start_index:\n",
    "                composed_list.extend(bwv_groupby[1][desired_column_from_new_CL_bach][0:n_groupby_rows]) \n",
    "                \n",
    "\n",
    "                # then reduce test_start_index by the number of entries we used\n",
    "                test_start_index -= n_groupby_rows\n",
    "    \n",
    "            # if instead, the number of rows is GREATER than test_start_index, then we need\n",
    "            # to fill composed_list partly with notes from new_CL_bach and partly from an_array\n",
    "            elif n_groupby_rows > test_start_index:\n",
    "                # fill with # notes = test_start_index\n",
    "                composed_list.extend(bwv_groupby[1][desired_column_from_new_CL_bach][:test_start_index]) \n",
    "                # fill the rest of the notes from an_array (# = n_groupby_rows - test_start_index)\n",
    "                n_array_used = n_groupby_rows - test_start_index\n",
    "                composed_list.extend(pitch_name_array[:n_array_used])\n",
    "                \n",
    "                # then set test_start_index=0 because we used it up\n",
    "                test_start_index = 0 \n",
    "    \n",
    "                # and since we also used up notes from an_array, set it equal to whatever is left\n",
    "                an_array = an_array[n_array_used:]\n",
    "                                     \n",
    "        # if we didn't use a train test split, then perhaps we used a lag. or maybe not. \n",
    "        # here is the code we can use to test it\n",
    "        else:\n",
    "            # this is how many we'll take from the array - first grab from new_CL_bach to\n",
    "            # fill for the lag. then the remainder is from an_array\n",
    "            n_array_used = n_groupby_rows - lag\n",
    "            \n",
    "            # fill from the true notes for n=lag\n",
    "            composed_list.extend(bwv_groupby[1][desired_column_from_new_CL_bach][:lag]) # choose notes from the appropriate part\n",
    "            \n",
    "            # for the remainder of the notes, fill from an_array\n",
    "            composed_list.extend(pitch_name_array[0:n_array_used])\n",
    "            \n",
    "            # and since we also used up notes from an_array, set it equal to whatever is left\n",
    "            pitch_name_array = pitch_name_array[n_array_used:]\n",
    "    \n",
    "    print 'composed_list: \\n', len(composed_list), composed_list[0:50], composed_list[-50:]\n",
    "    \n",
    "    # turn pitch_name_array into m21.note.Note objects with the correct duration\n",
    "    return_m21_object_array = np.vectorize(return_m21_object)\n",
    "    m21_array = return_m21_object_array(np.array(composed_list))\n",
    "    \n",
    "    print 'm21_array:\\n', len(m21_array), m21_array[0:50], m21_array[-50:]\n",
    "    \n",
    "    # create a new column in the DF and put those pitches in - dealing iwth th elag issue\n",
    "    new_column = each_part + '_composed'\n",
    "    new_CL_bach[new_column] = m21_array"
   ]
  },
  {
   "cell_type": "code",
   "execution_count": 1083,
   "metadata": {
    "collapsed": false
   },
   "outputs": [
    {
     "name": "stdout",
     "output_type": "stream",
     "text": [
      "m21_array:\n",
      "5\n"
     ]
    },
    {
     "data": {
      "text/plain": [
       "array([<music21.note.Note C#>, <music21.note.Note D>,\n",
       "       <music21.note.Note E->, <music21.note.Note E>, <music21.note.Note F>], dtype=object)"
      ]
     },
     "execution_count": 1083,
     "metadata": {},
     "output_type": "execute_result"
    }
   ],
   "source": [
    "a_list = [1,2,3,4,5]\n",
    "# turn pitch_name_array into m21.note.Note objects with the correct duration\n",
    "return_m21_object_array = np.vectorize(return_m21_object)\n",
    "m21_array = return_m21_object_array(np.array(a_list))\n",
    "\n",
    "print 'm21_array:\\n', len(m21_array)\n",
    "m21_array\n",
    "\n",
    "# # create a new column in the DF and put those pitches in - dealing iwth th elag issue\n",
    "# new_column = each_part + '_composed'\n",
    "# new_CL_bach[new_column] = m21_array"
   ]
  },
  {
   "cell_type": "code",
   "execution_count": 973,
   "metadata": {
    "collapsed": true
   },
   "outputs": [],
   "source": [
    "def return_m21_object(pitch_name):\n",
    "    if pitch_name == 'Rest':\n",
    "        a = m21.note.Rest()\n",
    "\n",
    "    else:\n",
    "        a = m21.note.Note(pitch_name)\n",
    "    \n",
    "    a.quarterLength = 0.25\n",
    "    \n",
    "    return a"
   ]
  },
  {
   "cell_type": "markdown",
   "metadata": {},
   "source": [
    "# LSTM Model"
   ]
  },
  {
   "cell_type": "markdown",
   "metadata": {},
   "source": [
    "### Model 1 - predict S given three A, T, and B variables\n",
    "- variables:\n",
    "\n",
    "    - soprano\n",
    "\n",
    "    - alto\n",
    "    \n",
    "    - tenor\n",
    "    \n",
    "    - bass\n",
    "    \n",
    "    - no other ones\n",
    "    \n",
    "- categorical or continuous:\n",
    "\n",
    "    - categorical\n",
    "\n",
    "- train test split\n",
    "\n",
    "    - 30%\n",
    "    \n",
    "- variables as features or time lag? time lag as features or time lag?\n",
    "\n",
    "    - variables as features; time lag as time lag\n",
    "    \n",
    "- normalize/standardize?\n",
    "\n",
    "    - no\n",
    "    \n",
    "- time lagged: \n",
    "\n",
    "    - NO\n",
    "    \n",
    "- input nodes:\n",
    "\n",
    "    - no\n",
    "    \n",
    "- intermediate nodes:\n",
    "\n",
    "    - 10 LSTM\n",
    "    \n",
    "- activation:\n",
    "\n",
    "    - softmax\n",
    "    \n",
    "- optimizer:\n",
    "\n",
    "    - adam\n",
    "    \n",
    "- number epochs:\n",
    "\n",
    "    - 10\n",
    "    \n",
    "- number batch size\n",
    "\n",
    "    - 20\n",
    "\n",
    "- dropout\n",
    "\n",
    "    - NA\n",
    "    \n",
    "- CNN\n",
    "\n",
    "    - NA\n"
   ]
  },
  {
   "cell_type": "markdown",
   "metadata": {},
   "source": [
    "- split out train test set 30%\n",
    "- define data set - X and y variables\n",
    "- reshape X"
   ]
  },
  {
   "cell_type": "code",
   "execution_count": 1067,
   "metadata": {
    "collapsed": false,
    "scrolled": true
   },
   "outputs": [
    {
     "data": {
      "text/plain": [
       "Index([u'BWV', u'A4', u'A5', u'B-3', u'B-4', u'B-5', u'B3', u'B4', u'B5',\n",
       "       u'C#4', u'C#5', u'C4', u'C5', u'C6', u'D#4', u'D#5', u'D4', u'D5',\n",
       "       u'D6', u'E-4', u'E-5', u'E4', u'E5', u'F#4', u'F#5', u'F4', u'F5',\n",
       "       u'G#4', u'G#5', u'G4', u'G5', u'Rest'],\n",
       "      dtype='object')"
      ]
     },
     "execution_count": 1067,
     "metadata": {},
     "output_type": "execute_result"
    }
   ],
   "source": [
    "master_y_cat_dummy_sop.columns"
   ]
  },
  {
   "cell_type": "code",
   "execution_count": 1068,
   "metadata": {
    "collapsed": false
   },
   "outputs": [
    {
     "data": {
      "text/plain": [
       "(46676, 31)"
      ]
     },
     "execution_count": 1068,
     "metadata": {},
     "output_type": "execute_result"
    }
   ],
   "source": [
    "# create y var for model 1; make it an array\n",
    "columns = [x for x in master_y_cat_dummy_sop.columns if x != 'BWV']\n",
    "y1 = master_y_cat_dummy_sop[columns].values\n",
    "y1.shape"
   ]
  },
  {
   "cell_type": "code",
   "execution_count": 1069,
   "metadata": {
    "collapsed": false
   },
   "outputs": [
    {
     "data": {
      "text/plain": [
       "array([ 0.,  0.,  0.,  0.,  0.,  0.,  0.,  0.,  0.,  0.,  0.,  0.,  0.,\n",
       "        0.,  0.,  0.,  0.,  0.,  0.,  0.,  0.,  0.,  0.,  0.,  0.,  0.,\n",
       "        0.,  0.,  1.,  0.,  0.])"
      ]
     },
     "execution_count": 1069,
     "metadata": {},
     "output_type": "execute_result"
    }
   ],
   "source": [
    "y1[0] "
   ]
  },
  {
   "cell_type": "code",
   "execution_count": 1070,
   "metadata": {
    "collapsed": false
   },
   "outputs": [
    {
     "data": {
      "text/plain": [
       "(46676, 110)"
      ]
     },
     "execution_count": 1070,
     "metadata": {},
     "output_type": "execute_result"
    }
   ],
   "source": [
    "# create X vars for model 1; make it an array\n",
    "columns_not_needed = [x for x in master_X_cat_dummies.columns if x[:7]=='soprano']\n",
    "\n",
    "columns_not_needed.extend(['BWV','beats_per_measure', 'forward_note',\n",
    "                     'back_note', 'forward_measure', 'back_measure',\n",
    "                     'note_in_measure_position',\n",
    "                      'quarter_in_measure_position'])\n",
    "\n",
    "\n",
    "columns_needed = [x for x in master_X_cat_dummies.columns if x not in columns_not_needed]\n",
    "\n",
    "\n",
    "X1 = master_X_cat_dummies[columns_needed].values\n",
    "X1.shape"
   ]
  },
  {
   "cell_type": "code",
   "execution_count": 1071,
   "metadata": {
    "collapsed": false
   },
   "outputs": [],
   "source": [
    "# train test split\n",
    "# 70% of the number of rows\n",
    "train_end_index = int(round(y1.shape[0] * 0.7))\n",
    "\n",
    "# 70% of the rows is 32673. This is in the middle of a piece. I'm going to round down\n",
    "# to the nearest song break to make things cleaner.\n",
    "\n",
    "train_end_index = 32580\n",
    "y1_train, y1_test = y1[:train_end_index], y1[train_end_index:]\n",
    "X1_train, X1_test = X1[:train_end_index], X1[train_end_index:]"
   ]
  },
  {
   "cell_type": "code",
   "execution_count": 1072,
   "metadata": {
    "collapsed": false
   },
   "outputs": [
    {
     "data": {
      "text/plain": [
       "array([ 0.,  0.,  0.,  0.,  0.,  0.,  0.,  0.,  0.,  0.,  0.,  0.,  0.,\n",
       "        0.,  0.,  0.,  1.,  0.,  0.,  0.,  0.,  0.,  0.,  0.,  0.,  0.,\n",
       "        0.,  0.,  0.,  0.,  0.,  0.,  0.,  0.,  0.,  0.,  0.,  0.,  0.,\n",
       "        1.,  0.,  0.,  0.,  0.,  0.,  0.,  0.,  0.,  0.,  0.,  0.,  0.,\n",
       "        0.,  0.,  0.,  0.,  0.,  0.,  0.,  0.,  0.,  0.,  0.,  0.,  0.,\n",
       "        0.,  0.,  0.,  0.,  0.,  0.,  0.,  0.,  0.,  0.,  0.,  0.,  0.,\n",
       "        0.,  0.,  0.,  0.,  0.,  0.,  0.,  0.,  0.,  0.,  0.,  0.,  0.,\n",
       "        0.,  0.,  0.,  0.,  0.,  0.,  0.,  0.,  0.,  0.,  0.,  0.,  0.,\n",
       "        0.,  0.,  1.,  0.,  0.,  0.])"
      ]
     },
     "execution_count": 1072,
     "metadata": {},
     "output_type": "execute_result"
    }
   ],
   "source": [
    "X1_train[0]"
   ]
  },
  {
   "cell_type": "code",
   "execution_count": 1073,
   "metadata": {
    "collapsed": false
   },
   "outputs": [
    {
     "data": {
      "text/plain": [
       "((32580, 31), (14096, 31), (32580, 110), (14096, 110))"
      ]
     },
     "execution_count": 1073,
     "metadata": {},
     "output_type": "execute_result"
    }
   ],
   "source": [
    "y1_train.shape, y1_test.shape, X1_train.shape, X1_test.shape"
   ]
  },
  {
   "cell_type": "code",
   "execution_count": 1074,
   "metadata": {
    "collapsed": true
   },
   "outputs": [],
   "source": [
    "# set variables\n",
    "time_lag = 1 \n",
    "# actually it is 0 since we are not doing time series, but for the \n",
    "# purpose of the 3D X matrix we will make it 1\n",
    "n_features = X1.shape[1]"
   ]
  },
  {
   "cell_type": "code",
   "execution_count": 1075,
   "metadata": {
    "collapsed": false
   },
   "outputs": [],
   "source": [
    "# reshape X to be [samples, time steps, features]\n",
    "X1_train_RS = np.reshape(X1_train, (X1_train.shape[0], \n",
    "                                       time_lag, \n",
    "                                      n_features))\n",
    "\n",
    "X1_test_RS = np.reshape(X1_test, (X1_test.shape[0], \n",
    "                                       time_lag, \n",
    "                                      n_features))"
   ]
  },
  {
   "cell_type": "code",
   "execution_count": 1076,
   "metadata": {
    "collapsed": false
   },
   "outputs": [
    {
     "data": {
      "text/plain": [
       "array([[[ 0.,  0.,  0.,  0.,  0.,  0.,  0.,  0.,  0.,  0.,  0.,  0.,  0.,\n",
       "          0.,  0.,  0.,  1.,  0.,  0.,  0.,  0.,  0.,  0.,  0.,  0.,  0.,\n",
       "          0.,  0.,  0.,  0.,  0.,  0.,  0.,  0.,  0.,  0.,  0.,  0.,  0.,\n",
       "          1.,  0.,  0.,  0.,  0.,  0.,  0.,  0.,  0.,  0.,  0.,  0.,  0.,\n",
       "          0.,  0.,  0.,  0.,  0.,  0.,  0.,  0.,  0.,  0.,  0.,  0.,  0.,\n",
       "          0.,  0.,  0.,  0.,  0.,  0.,  0.,  0.,  0.,  0.,  0.,  0.,  0.,\n",
       "          0.,  0.,  0.,  0.,  0.,  0.,  0.,  0.,  0.,  0.,  0.,  0.,  0.,\n",
       "          0.,  0.,  0.,  0.,  0.,  0.,  0.,  0.,  0.,  0.,  0.,  0.,  0.,\n",
       "          0.,  0.,  1.,  0.,  0.,  0.]],\n",
       "\n",
       "       [[ 0.,  0.,  0.,  0.,  0.,  0.,  0.,  0.,  0.,  0.,  0.,  0.,  0.,\n",
       "          0.,  0.,  0.,  1.,  0.,  0.,  0.,  0.,  0.,  0.,  0.,  0.,  0.,\n",
       "          0.,  0.,  0.,  0.,  0.,  0.,  0.,  0.,  0.,  0.,  0.,  0.,  0.,\n",
       "          1.,  0.,  0.,  0.,  0.,  0.,  0.,  0.,  0.,  0.,  0.,  0.,  0.,\n",
       "          0.,  0.,  0.,  0.,  0.,  0.,  0.,  0.,  0.,  0.,  0.,  0.,  0.,\n",
       "          0.,  0.,  0.,  0.,  0.,  0.,  0.,  0.,  0.,  0.,  0.,  0.,  0.,\n",
       "          0.,  0.,  0.,  0.,  0.,  0.,  0.,  0.,  0.,  0.,  0.,  0.,  0.,\n",
       "          0.,  0.,  0.,  0.,  0.,  0.,  0.,  0.,  0.,  0.,  0.,  0.,  0.,\n",
       "          0.,  0.,  1.,  0.,  0.,  0.]]])"
      ]
     },
     "execution_count": 1076,
     "metadata": {},
     "output_type": "execute_result"
    }
   ],
   "source": [
    "X1_train_RS[0:2]"
   ]
  },
  {
   "cell_type": "code",
   "execution_count": 1077,
   "metadata": {
    "collapsed": true
   },
   "outputs": [],
   "source": [
    "# SET UP THE MODEL \n",
    "model_1 = Sequential()\n",
    "model_1.add(LSTM(10, input_dim=110))\n",
    "model_1.add(Dense(n_y_cat_variables_sop, activation='softmax'))\n",
    "model_1.compile(loss='categorical_crossentropy', optimizer='adam',\n",
    "             metrics=['accuracy'])"
   ]
  },
  {
   "cell_type": "code",
   "execution_count": 1078,
   "metadata": {
    "collapsed": false
   },
   "outputs": [
    {
     "name": "stdout",
     "output_type": "stream",
     "text": [
      "____________________________________________________________________________________________________\n",
      "Layer (type)                     Output Shape          Param #     Connected to                     \n",
      "====================================================================================================\n",
      "lstm_25 (LSTM)                   (None, 10)            4840        lstm_input_25[0][0]              \n",
      "____________________________________________________________________________________________________\n",
      "dense_25 (Dense)                 (None, 31)            341         lstm_25[0][0]                    \n",
      "====================================================================================================\n",
      "Total params: 5181\n",
      "____________________________________________________________________________________________________\n",
      "None\n"
     ]
    }
   ],
   "source": [
    "print model_1.summary()"
   ]
  },
  {
   "cell_type": "code",
   "execution_count": 1079,
   "metadata": {
    "collapsed": false
   },
   "outputs": [
    {
     "name": "stdout",
     "output_type": "stream",
     "text": [
      "Epoch 1/10\n",
      "26s - loss: 2.2123 - acc: 0.3574\n",
      "Epoch 2/10\n",
      "26s - loss: 1.4979 - acc: 0.5322\n",
      "Epoch 3/10\n",
      "22s - loss: 1.3344 - acc: 0.5797\n",
      "Epoch 4/10\n",
      "23s - loss: 1.2616 - acc: 0.5957\n",
      "Epoch 5/10\n",
      "26s - loss: 1.2184 - acc: 0.6056\n",
      "Epoch 6/10\n",
      "31s - loss: 1.1882 - acc: 0.6131\n",
      "Epoch 7/10\n",
      "26s - loss: 1.1656 - acc: 0.6161\n",
      "Epoch 8/10\n",
      "24s - loss: 1.1477 - acc: 0.6222\n",
      "Epoch 9/10\n",
      "23s - loss: 1.1329 - acc: 0.6266\n",
      "Epoch 10/10\n",
      "22s - loss: 1.1202 - acc: 0.6294\n"
     ]
    },
    {
     "data": {
      "text/plain": [
       "<keras.callbacks.History at 0x23a0b38d0>"
      ]
     },
     "execution_count": 1079,
     "metadata": {},
     "output_type": "execute_result"
    }
   ],
   "source": [
    "model_1.fit(X1_train_RS, y1_train, nb_epoch=10, batch_size=20, verbose=2)"
   ]
  },
  {
   "cell_type": "code",
   "execution_count": 1080,
   "metadata": {
    "collapsed": false
   },
   "outputs": [
    {
     "name": "stdout",
     "output_type": "stream",
     "text": [
      "32480/32580 [============================>.] - ETA: 0s"
     ]
    }
   ],
   "source": [
    "train_predictions_prob_1 = model_1.predict_proba(X1_train_RS)"
   ]
  },
  {
   "cell_type": "code",
   "execution_count": 1081,
   "metadata": {
    "collapsed": false
   },
   "outputs": [],
   "source": [
    "test_predictions_1 = model_1.predict(X1_test_RS)"
   ]
  },
  {
   "cell_type": "code",
   "execution_count": 1082,
   "metadata": {
    "collapsed": false,
    "scrolled": true
   },
   "outputs": [
    {
     "data": {
      "text/plain": [
       "array([  8.24480355e-01,   1.53144756e-05,   8.69268391e-08,\n",
       "         1.05491569e-02,   3.19459559e-06,   2.89442823e-06,\n",
       "         3.26918215e-02,   2.43674640e-06,   8.19634897e-06,\n",
       "         4.81363822e-05,   5.44216618e-06,   3.52562144e-02,\n",
       "         4.53779057e-06,   6.68009579e-06,   7.46130198e-08,\n",
       "         1.61147909e-04,   7.55081698e-02,   1.05484160e-05,\n",
       "         2.06186305e-05,   1.98399153e-04,   1.10477369e-04,\n",
       "         7.96304201e-04,   1.91268360e-03,   8.42815265e-04,\n",
       "         3.24643857e-04,   1.08208996e-03,   5.44857212e-05,\n",
       "         4.74974831e-06,   1.57751646e-02,   1.22324855e-04,\n",
       "         7.61253091e-07], dtype=float32)"
      ]
     },
     "execution_count": 1082,
     "metadata": {},
     "output_type": "execute_result"
    }
   ],
   "source": [
    "test_predictions_1[0]"
   ]
  },
  {
   "cell_type": "code",
   "execution_count": 1054,
   "metadata": {
    "collapsed": false,
    "scrolled": true
   },
   "outputs": [
    {
     "name": "stdout",
     "output_type": "stream",
     "text": [
      "14000/14096 [============================>.] - ETA: 0s"
     ]
    },
    {
     "data": {
      "text/plain": [
       "[1.2173820120154559, 0.61776390759470989]"
      ]
     },
     "execution_count": 1054,
     "metadata": {},
     "output_type": "execute_result"
    }
   ],
   "source": [
    "# result is [loss, accuracy]\n",
    "model_1.evaluate(X1_test_RS, y1_test, batch_size=20)"
   ]
  },
  {
   "cell_type": "markdown",
   "metadata": {},
   "source": [
    "let's try that again but playing around with batch_size"
   ]
  },
  {
   "cell_type": "code",
   "execution_count": 1036,
   "metadata": {
    "collapsed": true
   },
   "outputs": [],
   "source": [
    "# SET UP THE MODEL \n",
    "model_1a = Sequential()\n",
    "model_1a.add(LSTM(10, input_dim=110))\n",
    "model_1a.add(Dense(n_y_cat_variables_sop, activation='softmax'))\n",
    "model_1a.compile(loss='categorical_crossentropy', optimizer='adam',\n",
    "             metrics=['accuracy'])"
   ]
  },
  {
   "cell_type": "code",
   "execution_count": 1037,
   "metadata": {
    "collapsed": false
   },
   "outputs": [
    {
     "name": "stdout",
     "output_type": "stream",
     "text": [
      "Epoch 1/10\n",
      "6s - loss: 2.9143 - acc: 0.2601\n",
      "Epoch 2/10\n",
      "5s - loss: 2.0788 - acc: 0.3766\n",
      "Epoch 3/10\n",
      "5s - loss: 1.7343 - acc: 0.4747\n",
      "Epoch 4/10\n",
      "5s - loss: 1.5378 - acc: 0.5329\n",
      "Epoch 5/10\n",
      "5s - loss: 1.4253 - acc: 0.5594\n",
      "Epoch 6/10\n",
      "5s - loss: 1.3555 - acc: 0.5762\n",
      "Epoch 7/10\n",
      "5s - loss: 1.3084 - acc: 0.5880\n",
      "Epoch 8/10\n",
      "4s - loss: 1.2745 - acc: 0.5960\n",
      "Epoch 9/10\n",
      "4s - loss: 1.2485 - acc: 0.6033\n",
      "Epoch 10/10\n",
      "5s - loss: 1.2286 - acc: 0.6078\n"
     ]
    },
    {
     "data": {
      "text/plain": [
       "<keras.callbacks.History at 0x3019004d0>"
      ]
     },
     "execution_count": 1037,
     "metadata": {},
     "output_type": "execute_result"
    }
   ],
   "source": [
    "model_1a.fit(X1_train_RS, y1_train, nb_epoch=10, batch_size=100, verbose=2)"
   ]
  },
  {
   "cell_type": "code",
   "execution_count": 675,
   "metadata": {
    "collapsed": true
   },
   "outputs": [],
   "source": [
    "# chart to show the probability of each note\n",
    "###################### NEED TO DO ######################"
   ]
  },
  {
   "cell_type": "markdown",
   "metadata": {},
   "source": [
    "what happens if we do stateful?"
   ]
  },
  {
   "cell_type": "code",
   "execution_count": 1038,
   "metadata": {
    "collapsed": true
   },
   "outputs": [],
   "source": [
    "# SET UP THE MODEL \n",
    "model_1b = Sequential()\n",
    "model_1b.add(LSTM(10, batch_input_shape=(1, 1, 110), stateful=True))\n",
    "model_1b.add(Dense(n_y_cat_variables_sop, activation='softmax'))\n",
    "model_1b.compile(loss='categorical_crossentropy', optimizer='adam',\n",
    "             metrics=['accuracy'])"
   ]
  },
  {
   "cell_type": "code",
   "execution_count": 1039,
   "metadata": {
    "collapsed": false
   },
   "outputs": [
    {
     "name": "stdout",
     "output_type": "stream",
     "text": [
      "____________________________________________________________________________________________________\n",
      "Layer (type)                     Output Shape          Param #     Connected to                     \n",
      "====================================================================================================\n",
      "lstm_23 (LSTM)                   (1, 10)               4840        lstm_input_23[0][0]              \n",
      "____________________________________________________________________________________________________\n",
      "dense_23 (Dense)                 (1, 31)               341         lstm_23[0][0]                    \n",
      "====================================================================================================\n",
      "Total params: 5181\n",
      "____________________________________________________________________________________________________\n",
      "None\n"
     ]
    }
   ],
   "source": [
    "print model_1b.summary()"
   ]
  },
  {
   "cell_type": "code",
   "execution_count": null,
   "metadata": {
    "collapsed": false
   },
   "outputs": [],
   "source": [
    "model_1b.fit(X1_train_RS, y1_train, nb_epoch=10, batch_size=1, verbose=2)"
   ]
  },
  {
   "cell_type": "code",
   "execution_count": null,
   "metadata": {
    "collapsed": false
   },
   "outputs": [],
   "source": [
    "train_predictions_prob_1b = model_1b.predict_proba(X1_train_RS, batch_size=1)"
   ]
  },
  {
   "cell_type": "code",
   "execution_count": null,
   "metadata": {
    "collapsed": false
   },
   "outputs": [],
   "source": [
    "test_predictions_1b = model_1b.predict(X1_test_RS, batch_size=1)"
   ]
  },
  {
   "cell_type": "code",
   "execution_count": null,
   "metadata": {
    "collapsed": false,
    "scrolled": true
   },
   "outputs": [],
   "source": [
    "test_predictions_1b[0]"
   ]
  },
  {
   "cell_type": "code",
   "execution_count": null,
   "metadata": {
    "collapsed": false,
    "scrolled": true
   },
   "outputs": [],
   "source": [
    "# result is [loss, accuracy]\n",
    "model_1b.evaluate(X1_test_RS, y1_test, batch_size=1)"
   ]
  },
  {
   "cell_type": "markdown",
   "metadata": {},
   "source": [
    "do this again, turning off the 'shuffling' of the training data set"
   ]
  },
  {
   "cell_type": "code",
   "execution_count": null,
   "metadata": {
    "collapsed": true
   },
   "outputs": [],
   "source": [
    "# SET UP THE MODEL \n",
    "model_1c = Sequential()\n",
    "model_1c.add(LSTM(10, batch_input_shape=(4, 1, 110), stateful=True))\n",
    "model_1c.add(Dense(n_y_cat_variables_sop, activation='softmax'))\n",
    "model_1c.compile(loss='categorical_crossentropy', optimizer='adam',\n",
    "             metrics=['accuracy'])"
   ]
  },
  {
   "cell_type": "code",
   "execution_count": null,
   "metadata": {
    "collapsed": false
   },
   "outputs": [],
   "source": [
    "print model_1c.summary()"
   ]
  },
  {
   "cell_type": "code",
   "execution_count": null,
   "metadata": {
    "collapsed": false
   },
   "outputs": [],
   "source": [
    "model_1c.fit(X1_train_RS, y1_train, nb_epoch=10, batch_size=4, verbose=2, shuffle=False)"
   ]
  },
  {
   "cell_type": "code",
   "execution_count": null,
   "metadata": {
    "collapsed": false
   },
   "outputs": [],
   "source": [
    "train_predictions_prob_1c = model_1c.predict_proba(X1_train_RS, batch_size=4)"
   ]
  },
  {
   "cell_type": "code",
   "execution_count": null,
   "metadata": {
    "collapsed": false
   },
   "outputs": [],
   "source": [
    "test_predictions_1c = model_1c.predict(X1_test_RS, batch_size=4)"
   ]
  },
  {
   "cell_type": "code",
   "execution_count": null,
   "metadata": {
    "collapsed": false,
    "scrolled": true
   },
   "outputs": [],
   "source": [
    "test_predictions_1c[0]"
   ]
  },
  {
   "cell_type": "code",
   "execution_count": null,
   "metadata": {
    "collapsed": false,
    "scrolled": true
   },
   "outputs": [],
   "source": [
    "# result is [loss, accuracy]\n",
    "model_1c.evaluate(X1_test_RS, y1_test, batch_size=4)"
   ]
  },
  {
   "cell_type": "code",
   "execution_count": 903,
   "metadata": {
    "collapsed": false
   },
   "outputs": [
    {
     "data": {
      "text/plain": [
       "'need to see what this loos like!!!!!!!'"
      ]
     },
     "execution_count": 903,
     "metadata": {},
     "output_type": "execute_result"
    }
   ],
   "source": [
    "'''need to see what this loos like!!!!!!!'''"
   ]
  },
  {
   "cell_type": "markdown",
   "metadata": {},
   "source": [
    "### Let's take a look at what our baseline is going to be. for every combination of the three parts alto, tenor, and bass, what are the possible soprano options and how likely are they relative to each other?\n"
   ]
  },
  {
   "cell_type": "code",
   "execution_count": null,
   "metadata": {
    "collapsed": false
   },
   "outputs": [],
   "source": [
    "# each value is the alto-tenor-bass combined into one variable\n",
    "three_parts = clean_bach[['alto_pitch_cat','tenor_pitch_cat',\n",
    "           'bass_pitch_cat']].apply(lambda x: x[0]+x[1]+x[2], axis=1)\n",
    "\n",
    "three_parts.head(2)"
   ]
  },
  {
   "cell_type": "code",
   "execution_count": null,
   "metadata": {
    "collapsed": false
   },
   "outputs": [],
   "source": [
    "# combine the sop and other parts together into one df\n",
    "# there are 46676 notes in total\n",
    "\n",
    "combos = pd.concat([clean_bach[['soprano_pitch_cat']],three_parts], axis=1)\n",
    "combos.columns = ['soprano_pitch_cat','other_parts']\n",
    "print combos.shape\n",
    "combos.head(2)"
   ]
  },
  {
   "cell_type": "code",
   "execution_count": null,
   "metadata": {
    "collapsed": false
   },
   "outputs": [],
   "source": [
    "# if we group by the 46676 notes by the two columns, we can count the number of times that \n",
    "# sop/other-parts combo comes up.\n",
    "\n",
    "# the goal is to come up wtih some number that describes the baseline - actually something\n",
    "# a little differnet than baseline - describe how often am i actually arleady giving the \n",
    "# machine the answer since tehre is only ever one sop-ATB combo for that ATB?\n",
    "# \n",
    "\n",
    "n_sop_parts_combos = combos.groupby(['other_parts', 'soprano_pitch_cat']).agg(len).reset_index()\n",
    "n_sop_parts_combos.rename(columns={0:'this_SATB_combo_count'}, inplace=True)\n",
    "print n_sop_parts_combos.shape\n",
    "n_sop_parts_combos.head()"
   ]
  },
  {
   "cell_type": "code",
   "execution_count": null,
   "metadata": {
    "collapsed": false
   },
   "outputs": [],
   "source": [
    "# this is the number of distinct SATB combos there are for every ATB.\n",
    "# ie. if value=1, then that ATB is only matched with ONE sop.\n",
    "# ie. if value=3, then that ATN is matched with THREE sopranos\n",
    "\n",
    "other_parts_count = n_sop_parts_combos['other_parts'].value_counts()\n",
    "print other_parts_count.sum()\n",
    "other_parts_count = pd.DataFrame(other_parts_count)\n",
    "print other_parts_count.head()\n",
    "print other_parts_count.tail()"
   ]
  },
  {
   "cell_type": "code",
   "execution_count": null,
   "metadata": {
    "collapsed": false
   },
   "outputs": [],
   "source": [
    "# other parts count EXCLUDING THOSE ATBs THAT ARE ONLY MATCHED WITH *ONE* SOP\n",
    "\n",
    "# this means that 2807 out of the 3862 S-ATB combos, or 73%, are NOT obvious answers.\n",
    "\n",
    "print other_parts_count[other_parts_count>1].sum()\n",
    "other_parts_count[other_parts_count>1].head()"
   ]
  },
  {
   "cell_type": "markdown",
   "metadata": {
    "collapsed": true
   },
   "source": [
    "### this says there are 3862 possible SATB combos, and of them, 2807, or 73% are not 100% obvious what soprano to choose. this means that 27% of the time, the computer knows EXACTLY what the \"right\" answer is.\n",
    "\n",
    "### what about of the 46,676 notes we had?"
   ]
  },
  {
   "cell_type": "code",
   "execution_count": null,
   "metadata": {
    "collapsed": false
   },
   "outputs": [],
   "source": [
    "# ok well let's look at how many of the notes that I fed into the model were\n",
    "# based on ATB bases that were easy to predict (ie they only had one option)\n",
    "\n",
    "themerged = pd.merge(n_sop_parts_combos, other_parts_count, how='inner', left_on='other_parts',\n",
    "        right_index=True)"
   ]
  },
  {
   "cell_type": "code",
   "execution_count": null,
   "metadata": {
    "collapsed": false
   },
   "outputs": [],
   "source": [
    "themerged.drop('other_parts_x', inplace=True, axis=1)\n",
    "themerged.rename(columns={'other_parts_y' : 'n_distinct_SATB_for_this_ATB'}, inplace=True)\n"
   ]
  },
  {
   "cell_type": "code",
   "execution_count": null,
   "metadata": {
    "collapsed": false,
    "scrolled": true
   },
   "outputs": [],
   "source": [
    "themerged.head()"
   ]
  },
  {
   "cell_type": "code",
   "execution_count": null,
   "metadata": {
    "collapsed": false
   },
   "outputs": [],
   "source": [
    "themerged.shape"
   ]
  },
  {
   "cell_type": "code",
   "execution_count": null,
   "metadata": {
    "collapsed": false
   },
   "outputs": [],
   "source": [
    "themerged[themerged['n_distinct_SATB_for_this_ATB']>1].head()\n",
    "# pooh = themerged[themerged['n_distinct_SATB_for_this_ATB']>1][0]\n",
    "# print pooh.head()\n",
    "# np.sum(pooh)\n",
    "np.sum(themerged[themerged['n_distinct_SATB_for_this_ATB']>1]['n_distinct_SATB_for_this_ATB'])"
   ]
  },
  {
   "cell_type": "markdown",
   "metadata": {},
   "source": [
    "### Alright. 11,361. This is the number of notes where there is more than one soprano note for the given three lower parts. So, 24% of the 46,676 notes are NOT a toss-up. which means the computer is pretty much guaranteed to be right 76% of the time. And the remaining 24% of the time, it is likely that there are a few most-likely options, which would increase the baseline accuracy up from an automatic 76%.\n",
    "\n",
    "What if we ran a quick correlation matrix to see how well the notes are correlated?"
   ]
  },
  {
   "cell_type": "code",
   "execution_count": null,
   "metadata": {
    "collapsed": false
   },
   "outputs": [],
   "source": [
    "# S vs ATB\n",
    "n_sop_parts_combos.columns\n"
   ]
  },
  {
   "cell_type": "code",
   "execution_count": null,
   "metadata": {
    "collapsed": false
   },
   "outputs": [],
   "source": [
    "# y1 is the soprano part\n",
    "# X1 is the ATB parts altogether\n",
    "\n",
    "y1X1 = pd.concat([pd.DataFrame(y1), pd.DataFrame(X1)], axis=1)"
   ]
  },
  {
   "cell_type": "markdown",
   "metadata": {},
   "source": [
    "## Now I am going to run the LSTM model to predict the NEXT note given all previous FOUR notes.\n",
    "### Models 2-5 will predict soprano, alto, tenor and bass based on the previous stack of notes.\n",
    "\n",
    "-------------\n",
    "### i need to create a function to provide me with time-lagged y OR X *by song*.  this will solve the problem that using data in row(t-1) to predict row(t) is NOT HELPFUL AT THE END OF BEGINNING OF SONGS. because the end of a song DOES NOT predict the beginning of the next one.\n",
    "\n",
    "#### this should work for y AND X. \n",
    "-----------------\n",
    "## HOWEVER\n",
    "\n",
    "### i will have to do this every time i need a new time lag. in other words, if i want to do time lag of 2 periods, i will have to do:\n",
    "- create_timelagged_DF_BY_SONG(df, 1)\n",
    "\n",
    "- create_timelagged_DF_BY_SONG(df, 2)\n",
    "\n",
    "--------------------"
   ]
  },
  {
   "cell_type": "code",
   "execution_count": 862,
   "metadata": {
    "collapsed": true
   },
   "outputs": [],
   "source": [
    "def create_timelagged_DF_BY_SONG(df, X_or_y, lag):\n",
    "    if X_or_y == 'y':\n",
    "        return_df = df.groupby('BWV').apply(lambda x: x[lag:])\n",
    "    if X_or_y == 'X':\n",
    "        return_df = df.groupby('BWV').apply(lambda x: x[:-lag])\n",
    "    return_df.drop('BWV',axis=1, inplace=True)        \n",
    "    return return_df"
   ]
  },
  {
   "cell_type": "markdown",
   "metadata": {},
   "source": [
    "## Model 2 (was Model K for Kiefer =))\n",
    "### Predict soprano (time t), given predictor variables SATB (time t-1)"
   ]
  },
  {
   "cell_type": "markdown",
   "metadata": {},
   "source": [
    "- variables:\n",
    "\n",
    "    - soprano\n",
    "\n",
    "    - alto\n",
    "    \n",
    "    - tenor\n",
    "    \n",
    "    - bass\n",
    "    \n",
    "    - no other ones\n",
    "    \n",
    "- categorical or continuous:\n",
    "\n",
    "    - categorical\n",
    "\n",
    "- train test split\n",
    "\n",
    "    - ** 0%\n",
    "    \n",
    "- variables as features or time lag? time lag as features or time lag?\n",
    "\n",
    "    - variables as features; time lag as time lag\n",
    "    \n",
    "- normalize/standardize?\n",
    "\n",
    "    - no\n",
    "    \n",
    "- time lagged: \n",
    "\n",
    "    - ** Yes - 1\n",
    "    \n",
    "- input nodes:\n",
    "\n",
    "    - no\n",
    "    \n",
    "- intermediate nodes:\n",
    "\n",
    "    - 10 LSTM\n",
    "    \n",
    "- activation:\n",
    "\n",
    "    - softmax\n",
    "    \n",
    "- optimizer:\n",
    "\n",
    "    - adam\n",
    "    \n",
    "- number epochs:\n",
    "\n",
    "    - 10\n",
    "    \n",
    "- number batch size\n",
    "\n",
    "    - 20\n",
    "\n",
    "- dropout\n",
    "\n",
    "    - NA\n",
    "    \n",
    "- CNN\n",
    "\n",
    "    - NA\n"
   ]
  },
  {
   "cell_type": "code",
   "execution_count": null,
   "metadata": {
    "collapsed": false
   },
   "outputs": [],
   "source": [
    "master_y_cat_dummy_sop.head()"
   ]
  },
  {
   "cell_type": "code",
   "execution_count": null,
   "metadata": {
    "collapsed": false
   },
   "outputs": [],
   "source": [
    "# create y var for model 1; make it an array\n",
    "y2 = create_timelagged_DF_BY_SONG(master_y_cat_dummy_sop, 'y', 1).values\n",
    "y2.shape"
   ]
  },
  {
   "cell_type": "code",
   "execution_count": null,
   "metadata": {
    "collapsed": false
   },
   "outputs": [],
   "source": [
    "y2"
   ]
  },
  {
   "cell_type": "code",
   "execution_count": null,
   "metadata": {
    "collapsed": false
   },
   "outputs": [],
   "source": [
    "# create X vars for model 1; make it an array\n",
    "columns_not_needed = ['beats_per_measure', 'forward_note',\n",
    "                     'back_note', 'forward_measure', 'back_measure',\n",
    "                     'note_in_measure_position',\n",
    "                      'quarter_in_measure_position']\n",
    "\n",
    "columns_needed = [x for x in master_X_cat_dummies.columns if x not in columns_not_needed]\n",
    "\n",
    "intermediate = master_X_cat_dummies[columns_needed]\n",
    "\n",
    "X2 = create_timelagged_DF_BY_SONG(intermediate, 'X',1).values\n",
    "\n",
    "X2.shape"
   ]
  },
  {
   "cell_type": "code",
   "execution_count": null,
   "metadata": {
    "collapsed": false
   },
   "outputs": [],
   "source": [
    "# do NOT train test split. we are going to just train and then write new music.\n",
    "y2_train, y2_test = y2, y2\n",
    "X2_train, X2_test = X2, X2"
   ]
  },
  {
   "cell_type": "code",
   "execution_count": null,
   "metadata": {
    "collapsed": false
   },
   "outputs": [],
   "source": [
    "X2_train[0]"
   ]
  },
  {
   "cell_type": "code",
   "execution_count": null,
   "metadata": {
    "collapsed": false
   },
   "outputs": [],
   "source": [
    "y2.shape, y2_test.shape, X2_train.shape, X2_test.shape"
   ]
  },
  {
   "cell_type": "code",
   "execution_count": null,
   "metadata": {
    "collapsed": true
   },
   "outputs": [],
   "source": [
    "# set variables\n",
    "time_lag = 1 \n",
    "# actually it is 0 since we are not doing time series, but for the \n",
    "# purpose of the 3D X matrix we will make it 1\n",
    "n_features = X2.shape[1]"
   ]
  },
  {
   "cell_type": "code",
   "execution_count": null,
   "metadata": {
    "collapsed": false
   },
   "outputs": [],
   "source": [
    "# reshape X to be [samples, time steps, features]\n",
    "X2_train_RS = np.reshape(X2_train, (X2_train.shape[0], \n",
    "                                       time_lag, \n",
    "                                      n_features))\n",
    "\n",
    "X2_test_RS = np.reshape(X2_test, (X2_test.shape[0], \n",
    "                                       time_lag, \n",
    "                                      n_features))"
   ]
  },
  {
   "cell_type": "code",
   "execution_count": null,
   "metadata": {
    "collapsed": false
   },
   "outputs": [],
   "source": [
    "X2_train_RS[0:2]"
   ]
  },
  {
   "cell_type": "code",
   "execution_count": null,
   "metadata": {
    "collapsed": true
   },
   "outputs": [],
   "source": [
    "# SET UP THE MODEL \n",
    "model_2 = Sequential()\n",
    "model_2.add(LSTM(10, input_dim=141))\n",
    "model_2.add(Dense(n_y_cat_variables_sop, activation='softmax'))\n",
    "model_2.compile(loss='categorical_crossentropy', optimizer='adam',\n",
    "             metrics=['accuracy'])"
   ]
  },
  {
   "cell_type": "code",
   "execution_count": null,
   "metadata": {
    "collapsed": false
   },
   "outputs": [],
   "source": [
    "print model_2.summary()"
   ]
  },
  {
   "cell_type": "code",
   "execution_count": null,
   "metadata": {
    "collapsed": false
   },
   "outputs": [],
   "source": [
    "model_2.fit(X2_train_RS, y2_train, nb_epoch=20, batch_size=20, verbose=2)"
   ]
  },
  {
   "cell_type": "code",
   "execution_count": null,
   "metadata": {
    "collapsed": false
   },
   "outputs": [],
   "source": [
    "train_predictions_prob_2 = model.predict_proba(X2_train_RS)"
   ]
  },
  {
   "cell_type": "code",
   "execution_count": null,
   "metadata": {
    "collapsed": false
   },
   "outputs": [],
   "source": [
    "train_predictions_prob_2[0:1]"
   ]
  },
  {
   "cell_type": "code",
   "execution_count": null,
   "metadata": {
    "collapsed": false
   },
   "outputs": [],
   "source": [
    "test_predictions_2 = model_2.predict(X2_test_RS)"
   ]
  },
  {
   "cell_type": "code",
   "execution_count": null,
   "metadata": {
    "collapsed": false,
    "scrolled": true
   },
   "outputs": [],
   "source": [
    "test_predictions_2[0]"
   ]
  },
  {
   "cell_type": "code",
   "execution_count": null,
   "metadata": {
    "collapsed": false,
    "scrolled": true
   },
   "outputs": [],
   "source": [
    "# result is [loss, accuracy]\n",
    "model_2.evaluate(X2_test_RS, y2_test, batch_size=20)"
   ]
  },
  {
   "cell_type": "code",
   "execution_count": null,
   "metadata": {
    "collapsed": true
   },
   "outputs": [],
   "source": [
    "model_2.save('../Model_2_Output/model_2.h5')"
   ]
  },
  {
   "cell_type": "code",
   "execution_count": null,
   "metadata": {
    "collapsed": true
   },
   "outputs": [],
   "source": [
    "model_2 = load_model('model_2.h5')"
   ]
  },
  {
   "cell_type": "code",
   "execution_count": null,
   "metadata": {
    "collapsed": false
   },
   "outputs": [],
   "source": [
    "''' i have just run this model - need to do the same for alto, tenor and bass. \n",
    "Then create a function or something to predict things all together based on \n",
    "predictiosn just made. and then put it all toether into one big dataframe'''"
   ]
  },
  {
   "cell_type": "code",
   "execution_count": null,
   "metadata": {
    "collapsed": true
   },
   "outputs": [],
   "source": [
    "'''need to see what this loos like!!!!!!!'''"
   ]
  },
  {
   "cell_type": "markdown",
   "metadata": {},
   "source": [
    "### Model 2a:  Predict alto (time t), given predictor variables SATB (time t-1)"
   ]
  },
  {
   "cell_type": "code",
   "execution_count": null,
   "metadata": {
    "collapsed": false
   },
   "outputs": [],
   "source": [
    "master_y_cat_dummy_alto.head()"
   ]
  },
  {
   "cell_type": "code",
   "execution_count": null,
   "metadata": {
    "collapsed": false
   },
   "outputs": [],
   "source": [
    "# create y var for model 1; make it an array\n",
    "y2a = create_timelagged_DF_BY_SONG(master_y_cat_dummy_alto, 'y', 1).values\n",
    "y2a.shape"
   ]
  },
  {
   "cell_type": "code",
   "execution_count": null,
   "metadata": {
    "collapsed": false
   },
   "outputs": [],
   "source": [
    "y2a"
   ]
  },
  {
   "cell_type": "code",
   "execution_count": null,
   "metadata": {
    "collapsed": false
   },
   "outputs": [],
   "source": [
    "# create X vars for model 1; make it an array\n",
    "columns_not_needed = ['beats_per_measure', 'forward_note',\n",
    "                     'back_note', 'forward_measure', 'back_measure',\n",
    "                     'note_in_measure_position',\n",
    "                      'quarter_in_measure_position']\n",
    "\n",
    "columns_needed = [x for x in master_X_cat_dummies.columns if x not in columns_not_needed]\n",
    "\n",
    "intermediate = master_X_cat_dummies[columns_needed]\n",
    "\n",
    "X2a = create_timelagged_DF_BY_SONG(intermediate, 'X',1).values\n",
    "\n",
    "X2a.shape"
   ]
  },
  {
   "cell_type": "code",
   "execution_count": null,
   "metadata": {
    "collapsed": false
   },
   "outputs": [],
   "source": [
    "# as before, do NOT train test split this since we will predict from scratch\n",
    "\n",
    "# train_end_index = int(round(y1.shape[0] * 0.7))\n",
    "\n",
    "y2a_train, y2a_test = y2a, y2a\n",
    "X2a_train, X2a_test = X2a, X2a"
   ]
  },
  {
   "cell_type": "code",
   "execution_count": null,
   "metadata": {
    "collapsed": false
   },
   "outputs": [],
   "source": [
    "X2a_train[0]"
   ]
  },
  {
   "cell_type": "code",
   "execution_count": null,
   "metadata": {
    "collapsed": false
   },
   "outputs": [],
   "source": [
    "y2a_train.shape, y2a_test.shape, X2a_train.shape, X2a_test.shape"
   ]
  },
  {
   "cell_type": "code",
   "execution_count": null,
   "metadata": {
    "collapsed": true
   },
   "outputs": [],
   "source": [
    "# set variables\n",
    "time_lag = 1 \n",
    "# actually it is 0 since we are not doing time series, but for the \n",
    "# purpose of the 3D X matrix we will make it 1\n",
    "n_features = X2a.shape[1]"
   ]
  },
  {
   "cell_type": "code",
   "execution_count": null,
   "metadata": {
    "collapsed": false
   },
   "outputs": [],
   "source": [
    "# reshape X to be [samples, time steps, features]\n",
    "X2a_train_RS = np.reshape(X2a_train, (X2a_train.shape[0], \n",
    "                                       time_lag, \n",
    "                                      n_features))\n",
    "\n",
    "X2a_test_RS = np.reshape(X2a_test, (X2a_test.shape[0], \n",
    "                                       time_lag, \n",
    "                                      n_features))"
   ]
  },
  {
   "cell_type": "code",
   "execution_count": null,
   "metadata": {
    "collapsed": false
   },
   "outputs": [],
   "source": [
    "X2a_train_RS[0:2]"
   ]
  },
  {
   "cell_type": "code",
   "execution_count": null,
   "metadata": {
    "collapsed": true
   },
   "outputs": [],
   "source": [
    "# SET UP THE MODEL \n",
    "model_2a = Sequential()\n",
    "model_2a.add(LSTM(10, input_dim=141))\n",
    "model_2a.add(Dense(n_y_cat_variables_alto, activation='softmax'))\n",
    "model_2a.compile(loss='categorical_crossentropy', optimizer='adam',\n",
    "             metrics=['accuracy'])"
   ]
  },
  {
   "cell_type": "code",
   "execution_count": null,
   "metadata": {
    "collapsed": false
   },
   "outputs": [],
   "source": [
    "print model_2a.summary()"
   ]
  },
  {
   "cell_type": "code",
   "execution_count": null,
   "metadata": {
    "collapsed": false
   },
   "outputs": [],
   "source": [
    "model_2a.fit(X2a_train_RS, y2a_train, nb_epoch=20, batch_size=20, verbose=2)"
   ]
  },
  {
   "cell_type": "code",
   "execution_count": null,
   "metadata": {
    "collapsed": false
   },
   "outputs": [],
   "source": [
    "train_predictions_prob_2a = model_2a.predict_proba(X2a_train_RS)"
   ]
  },
  {
   "cell_type": "code",
   "execution_count": null,
   "metadata": {
    "collapsed": false
   },
   "outputs": [],
   "source": [
    "test_predictions_2a = model_2a.predict(X2a_test_RS)"
   ]
  },
  {
   "cell_type": "code",
   "execution_count": null,
   "metadata": {
    "collapsed": false,
    "scrolled": false
   },
   "outputs": [],
   "source": [
    "# result is [loss, accuracy]\n",
    "model_2a.evaluate(X2a_test_RS, y2a_test, batch_size=20)"
   ]
  },
  {
   "cell_type": "code",
   "execution_count": null,
   "metadata": {
    "collapsed": false,
    "scrolled": false
   },
   "outputs": [],
   "source": [
    "test_predictions_2a[0]"
   ]
  },
  {
   "cell_type": "code",
   "execution_count": null,
   "metadata": {
    "collapsed": true
   },
   "outputs": [],
   "source": [
    "model_2a.save('./Model_2_Output/model_2a.h5')"
   ]
  },
  {
   "cell_type": "code",
   "execution_count": null,
   "metadata": {
    "collapsed": true
   },
   "outputs": [],
   "source": [
    "model_2a = load_model('model_2a.h5')"
   ]
  },
  {
   "cell_type": "markdown",
   "metadata": {},
   "source": [
    "### Model 2b:  Predict tenor (time t), given predictor variables SATB (time t-1)"
   ]
  },
  {
   "cell_type": "code",
   "execution_count": null,
   "metadata": {
    "collapsed": false
   },
   "outputs": [],
   "source": [
    "master_y_cat_dummy_tenor.head()"
   ]
  },
  {
   "cell_type": "code",
   "execution_count": null,
   "metadata": {
    "collapsed": false
   },
   "outputs": [],
   "source": [
    "# create y var for model 1; make it an array\n",
    "y2b = create_timelagged_DF_BY_SONG(master_y_cat_dummy_tenor, 'y', 1).values\n",
    "y2b.shape"
   ]
  },
  {
   "cell_type": "code",
   "execution_count": null,
   "metadata": {
    "collapsed": false
   },
   "outputs": [],
   "source": [
    "y2b"
   ]
  },
  {
   "cell_type": "code",
   "execution_count": null,
   "metadata": {
    "collapsed": false
   },
   "outputs": [],
   "source": [
    "# create X vars for model 1; make it an array\n",
    "columns_not_needed = ['beats_per_measure', 'forward_note',\n",
    "                     'back_note', 'forward_measure', 'back_measure',\n",
    "                     'note_in_measure_position',\n",
    "                      'quarter_in_measure_position']\n",
    "\n",
    "columns_needed = [x for x in master_X_cat_dummies.columns if x not in columns_not_needed]\n",
    "\n",
    "intermediate = master_X_cat_dummies[columns_needed]\n",
    "\n",
    "X2b = create_timelagged_DF_BY_SONG(intermediate, 'X',1).values\n",
    "\n",
    "X2b.shape"
   ]
  },
  {
   "cell_type": "code",
   "execution_count": null,
   "metadata": {
    "collapsed": false
   },
   "outputs": [],
   "source": [
    "# no train test split\n",
    "# train_end_index = int(round(y1.shape[0] * 0.7))\n",
    "\n",
    "y2b_train, y2b_test = y2b, y2b\n",
    "X2b_train, X2b_test = X2b, X2b"
   ]
  },
  {
   "cell_type": "code",
   "execution_count": null,
   "metadata": {
    "collapsed": false
   },
   "outputs": [],
   "source": [
    "X2b_train[0]"
   ]
  },
  {
   "cell_type": "code",
   "execution_count": null,
   "metadata": {
    "collapsed": false
   },
   "outputs": [],
   "source": [
    "y2b_train.shape, y2b_test.shape, X2b_train.shape, X2b_test.shape"
   ]
  },
  {
   "cell_type": "code",
   "execution_count": null,
   "metadata": {
    "collapsed": true
   },
   "outputs": [],
   "source": [
    "# set variables\n",
    "time_lag = 1 \n",
    "# actually it is 0 since we are not doing time series, but for the \n",
    "# purpose of the 3D X matrix we will make it 1\n",
    "n_features = X2b.shape[1]"
   ]
  },
  {
   "cell_type": "code",
   "execution_count": null,
   "metadata": {
    "collapsed": false
   },
   "outputs": [],
   "source": [
    "# reshape X to be [samples, time steps, features]\n",
    "X2b_train_RS = np.reshape(X2b_train, (X2b_train.shape[0], \n",
    "                                       time_lag, \n",
    "                                      n_features))\n",
    "\n",
    "X2b_test_RS = np.reshape(X2b_test, (X2b_test.shape[0], \n",
    "                                       time_lag, \n",
    "                                      n_features))"
   ]
  },
  {
   "cell_type": "code",
   "execution_count": null,
   "metadata": {
    "collapsed": false
   },
   "outputs": [],
   "source": [
    "X2b_train_RS[0:2]"
   ]
  },
  {
   "cell_type": "code",
   "execution_count": null,
   "metadata": {
    "collapsed": true
   },
   "outputs": [],
   "source": [
    "# SET UP THE MODEL \n",
    "model_2b = Sequential()\n",
    "model_2b.add(LSTM(10, input_dim=141))\n",
    "model_2b.add(Dense(n_y_cat_variables_tenor, activation='softmax'))\n",
    "model_2b.compile(loss='categorical_crossentropy', optimizer='adam',\n",
    "             metrics=['accuracy'])"
   ]
  },
  {
   "cell_type": "code",
   "execution_count": null,
   "metadata": {
    "collapsed": false
   },
   "outputs": [],
   "source": [
    "print model_2b.summary()"
   ]
  },
  {
   "cell_type": "code",
   "execution_count": null,
   "metadata": {
    "collapsed": false
   },
   "outputs": [],
   "source": [
    "model_2b.fit(X2b_train_RS, y2b_train, nb_epoch=20, batch_size=20, verbose=2)"
   ]
  },
  {
   "cell_type": "code",
   "execution_count": null,
   "metadata": {
    "collapsed": false
   },
   "outputs": [],
   "source": [
    "train_predictions_prob_2b = model_2b.predict_proba(X2b_train_RS)"
   ]
  },
  {
   "cell_type": "code",
   "execution_count": null,
   "metadata": {
    "collapsed": false
   },
   "outputs": [],
   "source": [
    "train_predictions_prob_2b[0:1]"
   ]
  },
  {
   "cell_type": "code",
   "execution_count": null,
   "metadata": {
    "collapsed": false
   },
   "outputs": [],
   "source": [
    "test_predictions_2b = model_2b.predict(X2b_test_RS)"
   ]
  },
  {
   "cell_type": "code",
   "execution_count": null,
   "metadata": {
    "collapsed": false,
    "scrolled": true
   },
   "outputs": [],
   "source": [
    "test_predictions_2b[0]"
   ]
  },
  {
   "cell_type": "code",
   "execution_count": null,
   "metadata": {
    "collapsed": false,
    "scrolled": false
   },
   "outputs": [],
   "source": [
    "# result is [loss, accuracy]\n",
    "model_2b.evaluate(X2b_test_RS, y2b_test, batch_size=20)"
   ]
  },
  {
   "cell_type": "code",
   "execution_count": null,
   "metadata": {
    "collapsed": true
   },
   "outputs": [],
   "source": [
    "model_2b.save('./Model_2_Output/model_2b.h5')"
   ]
  },
  {
   "cell_type": "code",
   "execution_count": null,
   "metadata": {
    "collapsed": true
   },
   "outputs": [],
   "source": [
    "model_2b = load_model('model_2b.h5')"
   ]
  },
  {
   "cell_type": "markdown",
   "metadata": {},
   "source": [
    "### Model 2c:  Predict bass (time t), given predictor variables SATB (time t-1)"
   ]
  },
  {
   "cell_type": "code",
   "execution_count": null,
   "metadata": {
    "collapsed": false
   },
   "outputs": [],
   "source": [
    "master_y_cat_dummy_bass.head()"
   ]
  },
  {
   "cell_type": "code",
   "execution_count": null,
   "metadata": {
    "collapsed": false
   },
   "outputs": [],
   "source": [
    "# create y var for model 1; make it an array\n",
    "y2c = create_timelagged_DF_BY_SONG(master_y_cat_dummy_bass, 'y', 1).values\n",
    "y2c.shape"
   ]
  },
  {
   "cell_type": "code",
   "execution_count": null,
   "metadata": {
    "collapsed": false
   },
   "outputs": [],
   "source": [
    "y2c"
   ]
  },
  {
   "cell_type": "code",
   "execution_count": null,
   "metadata": {
    "collapsed": false
   },
   "outputs": [],
   "source": [
    "# create X vars for model 1; make it an array\n",
    "columns_not_needed = ['beats_per_measure', 'forward_note',\n",
    "                     'back_note', 'forward_measure', 'back_measure',\n",
    "                     'note_in_measure_position',\n",
    "                      'quarter_in_measure_position']\n",
    "\n",
    "columns_needed = [x for x in master_X_cat_dummies.columns if x not in columns_not_needed]\n",
    "\n",
    "intermediate = master_X_cat_dummies[columns_needed]\n",
    "\n",
    "X2c = create_timelagged_DF_BY_SONG(intermediate, 'X',1).values\n",
    "\n",
    "X2c.shape"
   ]
  },
  {
   "cell_type": "code",
   "execution_count": null,
   "metadata": {
    "collapsed": false
   },
   "outputs": [],
   "source": [
    "# NO train test split\n",
    "# train_end_index = int(round(y1.shape[0] * 0.7))\n",
    "\n",
    "y2c_train, y2c_test = y2c, y2c\n",
    "X2c_train, X2c_test = X2c, X2c"
   ]
  },
  {
   "cell_type": "code",
   "execution_count": null,
   "metadata": {
    "collapsed": false
   },
   "outputs": [],
   "source": [
    "y2c.shape"
   ]
  },
  {
   "cell_type": "code",
   "execution_count": null,
   "metadata": {
    "collapsed": false
   },
   "outputs": [],
   "source": [
    "X2c_train[0]"
   ]
  },
  {
   "cell_type": "code",
   "execution_count": null,
   "metadata": {
    "collapsed": false
   },
   "outputs": [],
   "source": [
    "y2c_train.shape, y2c_test.shape, X2c_train.shape, X2c_test.shape"
   ]
  },
  {
   "cell_type": "code",
   "execution_count": null,
   "metadata": {
    "collapsed": true
   },
   "outputs": [],
   "source": [
    "# set variables\n",
    "time_lag = 1 \n",
    "# actually it is 0 since we are not doing time series, but for the \n",
    "# purpose of the 3D X matrix we will make it 1\n",
    "n_features = X2c.shape[1]"
   ]
  },
  {
   "cell_type": "code",
   "execution_count": null,
   "metadata": {
    "collapsed": false
   },
   "outputs": [],
   "source": [
    "# reshape X to be [samples, time steps, features]\n",
    "X2c_train_RS = np.reshape(X2c_train, (X2c_train.shape[0], \n",
    "                                       time_lag, \n",
    "                                      n_features))\n",
    "\n",
    "X2c_test_RS = np.reshape(X2c_test, (X2c_test.shape[0], \n",
    "                                       time_lag, \n",
    "                                      n_features))"
   ]
  },
  {
   "cell_type": "code",
   "execution_count": null,
   "metadata": {
    "collapsed": false
   },
   "outputs": [],
   "source": [
    "X2c_train_RS[0:2]"
   ]
  },
  {
   "cell_type": "code",
   "execution_count": null,
   "metadata": {
    "collapsed": true
   },
   "outputs": [],
   "source": [
    "# SET UP THE MODEL \n",
    "model_2c = Sequential()\n",
    "model_2c.add(LSTM(10, input_dim=141))\n",
    "model_2c.add(Dense(n_y_cat_variables_bass, activation='softmax'))\n",
    "model_2c.compile(loss='categorical_crossentropy', optimizer='adam',\n",
    "             metrics=['accuracy'])"
   ]
  },
  {
   "cell_type": "code",
   "execution_count": null,
   "metadata": {
    "collapsed": false
   },
   "outputs": [],
   "source": [
    "print model_2c.summary()"
   ]
  },
  {
   "cell_type": "code",
   "execution_count": null,
   "metadata": {
    "collapsed": false
   },
   "outputs": [],
   "source": [
    "model_2c.fit(X2c_train_RS, y2c_train, nb_epoch=20, batch_size=20, verbose=2)"
   ]
  },
  {
   "cell_type": "code",
   "execution_count": null,
   "metadata": {
    "collapsed": false
   },
   "outputs": [],
   "source": [
    "train_predictions_prob_2c = model_2c.predict_proba(X2c_train_RS)"
   ]
  },
  {
   "cell_type": "code",
   "execution_count": null,
   "metadata": {
    "collapsed": false
   },
   "outputs": [],
   "source": [
    "train_predictions_prob_2c[0:1]"
   ]
  },
  {
   "cell_type": "code",
   "execution_count": null,
   "metadata": {
    "collapsed": false
   },
   "outputs": [],
   "source": [
    "test_predictions_2c = model_2c.predict(X2c_test_RS)"
   ]
  },
  {
   "cell_type": "code",
   "execution_count": null,
   "metadata": {
    "collapsed": false,
    "scrolled": false
   },
   "outputs": [],
   "source": [
    "# result is [loss, accuracy]\n",
    "model_2c.evaluate(X2c_test_RS, y2c_test, batch_size=20)"
   ]
  },
  {
   "cell_type": "code",
   "execution_count": null,
   "metadata": {
    "collapsed": true
   },
   "outputs": [],
   "source": [
    "model_2c.save('./Model_2_Output/model_2c.h5')"
   ]
  },
  {
   "cell_type": "code",
   "execution_count": null,
   "metadata": {
    "collapsed": true
   },
   "outputs": [],
   "source": [
    "model_2c = load_model('model_2c.h5')"
   ]
  },
  {
   "cell_type": "markdown",
   "metadata": {},
   "source": [
    "## Tying it all together"
   ]
  },
  {
   "cell_type": "code",
   "execution_count": null,
   "metadata": {
    "collapsed": true
   },
   "outputs": [],
   "source": [
    "# Load the models\n",
    "\n",
    "model_2 = load_model('model_2.h5') # soprano\n",
    "model_2a = load_model('model_2a.h5') # alto\n",
    "model_2b = load_model('model_2b.h5') # tenor\n",
    "model_2c = load_model('model_2c.h5') # bass"
   ]
  },
  {
   "cell_type": "code",
   "execution_count": 1084,
   "metadata": {
    "collapsed": false
   },
   "outputs": [
    {
     "data": {
      "text/plain": [
       "255.0601092896175"
      ]
     },
     "execution_count": 1084,
     "metadata": {},
     "output_type": "execute_result"
    }
   ],
   "source": [
    "avg_notes_per_song = np.mean(clean_bach.groupby('BWV').apply(len))\n",
    "avg_notes_per_song"
   ]
  },
  {
   "cell_type": "code",
   "execution_count": 1115,
   "metadata": {
    "collapsed": true
   },
   "outputs": [],
   "source": [
    "# for song in range(15):\n",
    "def return_first_four_notes_of_song(df_gb):\n",
    "    return df_gb.ix[0,['BWV','soprano_pitch_cat', 'alto_pitch_cat', 'tenor_pitch_cat', 'bass_pitch_cat']]\n",
    "    \n",
    "first_starting_notes = clean_bach.groupby('BWV').apply(return_first_four_notes_of_song)"
   ]
  },
  {
   "cell_type": "code",
   "execution_count": 1116,
   "metadata": {
    "collapsed": false
   },
   "outputs": [
    {
     "ename": "SyntaxError",
     "evalue": "invalid syntax (<ipython-input-1116-740b1c027b02>, line 6)",
     "output_type": "error",
     "traceback": [
      "\u001b[0;36m  File \u001b[0;32m\"<ipython-input-1116-740b1c027b02>\"\u001b[0;36m, line \u001b[0;32m6\u001b[0m\n\u001b[0;31m    new_dict[row[0]] = print row\u001b[0m\n\u001b[0m                           ^\u001b[0m\n\u001b[0;31mSyntaxError\u001b[0m\u001b[0;31m:\u001b[0m invalid syntax\n"
     ]
    }
   ],
   "source": [
    "new_dict = {}\n",
    "\n",
    "for i, row in first_starting_notes.iterrows():\n",
    "#     sop_dummies = pd.get_dummies\n",
    "    if i<10:\n",
    "        new_dict[row[0]] = print row"
   ]
  },
  {
   "cell_type": "code",
   "execution_count": 1117,
   "metadata": {
    "collapsed": false
   },
   "outputs": [
    {
     "data": {
      "text/plain": [
       "BWV                  bwv253\n",
       "soprano_pitch_cat        B4\n",
       "alto_pitch_cat           G4\n",
       "tenor_pitch_cat          D4\n",
       "bass_pitch_cat           G2\n",
       "Name: bwv253, dtype: object"
      ]
     },
     "execution_count": 1117,
     "metadata": {},
     "output_type": "execute_result"
    }
   ],
   "source": [
    "first_starting_notes.iloc[0]"
   ]
  },
  {
   "cell_type": "code",
   "execution_count": null,
   "metadata": {
    "collapsed": true
   },
   "outputs": [],
   "source": []
  },
  {
   "cell_type": "markdown",
   "metadata": {},
   "source": [
    "kiefer's suggestion - to be applied to a later model"
   ]
  },
  {
   "cell_type": "code",
   "execution_count": null,
   "metadata": {
    "collapsed": false
   },
   "outputs": [],
   "source": [
    "##################### thanks kiefer but i want to save this for a later model #####################\n",
    "\n",
    "# create X vars for model 1; make it an array\n",
    "columns_not_needed = ['beats_per_measure', 'forward_note',\n",
    "                     'back_note', 'forward_measure', 'back_measure',\n",
    "                     'note_in_measure_position',\n",
    "                      'quarter_in_measure_position']\n",
    "\n",
    "#columns_needed = [x for x in master_X_cat_dummies.columns if x not in columns_not_needed]\n",
    "X1 = master_X_cat_dummies.values[0:-1]\n",
    "\n",
    "# For these variables do min max scaling by song:\n",
    "# - forward_note, back_note\n",
    "# - note_in_measure_position\n",
    "# - quarter_in_measure_position\n",
    "# - forward_measure, back measure\n",
    "#\n",
    "# Essentially just min max scale per song everything.\n",
    "# \n",
    "# Leave out beats_per_measure: it is irrelevant after min max scaling by song.\n",
    "# no this is not true because beat 3 in 4 beat measure has meaning\n",
    "# DO use min max scaler on beats per measure\n",
    "from sklearn.preprocessing import MinMaxScaler\n",
    "mms = MinMaxScaler()\n",
    "X1 = mms.fit_transform(X1)\n",
    "\n",
    "X1.shape"
   ]
  },
  {
   "cell_type": "markdown",
   "metadata": {},
   "source": [
    "### Using MCMC"
   ]
  },
  {
   "cell_type": "code",
   "execution_count": null,
   "metadata": {
    "collapsed": true
   },
   "outputs": [],
   "source": []
  },
  {
   "cell_type": "code",
   "execution_count": null,
   "metadata": {
    "collapsed": true
   },
   "outputs": [],
   "source": []
  },
  {
   "cell_type": "code",
   "execution_count": null,
   "metadata": {
    "collapsed": true
   },
   "outputs": [],
   "source": []
  },
  {
   "cell_type": "code",
   "execution_count": null,
   "metadata": {
    "collapsed": true
   },
   "outputs": [],
   "source": []
  },
  {
   "cell_type": "code",
   "execution_count": null,
   "metadata": {
    "collapsed": true
   },
   "outputs": [],
   "source": []
  },
  {
   "cell_type": "markdown",
   "metadata": {},
   "source": [
    "### K Nearest Neighbors Model"
   ]
  },
  {
   "cell_type": "code",
   "execution_count": null,
   "metadata": {
    "collapsed": true
   },
   "outputs": [],
   "source": []
  },
  {
   "cell_type": "markdown",
   "metadata": {},
   "source": [
    "# IGMORE EVERYTHING PAST THIS. THIS *WAS MODEL 2* BUT HAS BEEN REMOVED"
   ]
  },
  {
   "cell_type": "markdown",
   "metadata": {},
   "source": [
    "- variables:\n",
    "\n",
    "    - soprano\n",
    "\n",
    "    - alto\n",
    "    \n",
    "    - tenor\n",
    "    \n",
    "    - bass\n",
    "    \n",
    "    - no other ones\n",
    "    \n",
    "- categorical or continuous:\n",
    "\n",
    "    - categorical\n",
    "\n",
    "- train test split\n",
    "\n",
    "    - 30%\n",
    "    \n",
    "- variables as features or time lag? time lag as features or time lag?\n",
    "\n",
    "    - variables as features; time lag as time lag\n",
    "    \n",
    "- normalize/standardize?\n",
    "\n",
    "    - no - the data is still just 0s and 1s\n",
    "    \n",
    "- time lagged: \n",
    "\n",
    "    - YES time lag 1 note\n",
    "    \n",
    "- input nodes:\n",
    "\n",
    "    - no\n",
    "    \n",
    "- intermediate nodes:\n",
    "\n",
    "    - 10 LSTM\n",
    "    \n",
    "- activation:\n",
    "\n",
    "    - softmax\n",
    "    \n",
    "- optimizer:\n",
    "\n",
    "    - adam\n",
    "    \n",
    "- number epochs:\n",
    "\n",
    "    - 10\n",
    "    \n",
    "- number batch size\n",
    "\n",
    "    - 20\n",
    "\n",
    "- dropout\n",
    "\n",
    "    - NA\n",
    "    \n",
    "- CNN\n",
    "\n",
    "    - NA\n"
   ]
  },
  {
   "cell_type": "markdown",
   "metadata": {},
   "source": [
    "- split out train test set 30%\n",
    "- define data set - X and y variables\n",
    "- reshape X"
   ]
  },
  {
   "cell_type": "code",
   "execution_count": null,
   "metadata": {
    "collapsed": false
   },
   "outputs": [],
   "source": [
    "# create y var for model 1; make it an array\n",
    "y2 = master_y_cat_dummy.values"
   ]
  },
  {
   "cell_type": "code",
   "execution_count": null,
   "metadata": {
    "collapsed": false
   },
   "outputs": [],
   "source": [
    "# create X vars for model 1; make it an array\n",
    "columns_not_needed = ['beats_per_measure', 'forward_note',\n",
    "                     'back_note', 'forward_measure', 'back_measure',\n",
    "                     'note_in_measure_position',\n",
    "                      'quarter_in_measure_position']\n",
    "\n",
    "columns_needed = [x for x in master_X_cat_dummies.columns if x not in columns_not_needed]\n",
    "X2 = master_X_cat_dummies[columns_needed].values\n",
    "X2.shape"
   ]
  },
  {
   "cell_type": "markdown",
   "metadata": {},
   "source": [
    "## I think the next section is worthless becuase i needed to do this BY SONG."
   ]
  },
  {
   "cell_type": "code",
   "execution_count": null,
   "metadata": {
    "collapsed": false
   },
   "outputs": [],
   "source": [
    "testy = np.array([1,2,3,4,5, 6])\n",
    "testX = np.array(\n",
    "    [[6, 12, 18],\n",
    "     [7, 13, 19],    \n",
    "     [8, 14, 20],\n",
    "     [9, 15, 21],\n",
    "     [10, 16, 22],\n",
    "     [11, 17, 23]])"
   ]
  },
  {
   "cell_type": "code",
   "execution_count": 777,
   "metadata": {
    "collapsed": false
   },
   "outputs": [],
   "source": [
    "testy_a, testy_b = create_XY(testy, lag=2)"
   ]
  },
  {
   "cell_type": "code",
   "execution_count": 778,
   "metadata": {
    "collapsed": false
   },
   "outputs": [
    {
     "data": {
      "text/plain": [
       "(array([[1, 2],\n",
       "        [2, 3],\n",
       "        [3, 4],\n",
       "        [4, 5]]), array([3, 4, 5, 6]))"
      ]
     },
     "execution_count": 778,
     "metadata": {},
     "output_type": "execute_result"
    }
   ],
   "source": [
    "testy_a, testy_b"
   ]
  },
  {
   "cell_type": "code",
   "execution_count": null,
   "metadata": {
    "collapsed": false
   },
   "outputs": [],
   "source": [
    "testX_a, testX_b = create_XY(testX, lag=2)"
   ]
  },
  {
   "cell_type": "code",
   "execution_count": null,
   "metadata": {
    "collapsed": false
   },
   "outputs": [],
   "source": [
    "testX_a, testX_b"
   ]
  },
  {
   "cell_type": "code",
   "execution_count": null,
   "metadata": {
    "collapsed": false
   },
   "outputs": [],
   "source": [
    "# target y variable is testy_b\n",
    "testy_b"
   ]
  },
  {
   "cell_type": "code",
   "execution_count": null,
   "metadata": {
    "collapsed": false
   },
   "outputs": [],
   "source": [
    "# x variables are:\n",
    "# testX_a, testX_b, and testy_a\n",
    "# print testX_a.shape, testX_b.shape, testy_a.shape\n",
    "# time-aged X | real-time X | time-lagged y\n",
    "# 3 = number of features\n",
    "# 4 # of samples\n",
    "# 2 = # of lags\n",
    "\n",
    "# first run shapes are\n",
    "# (3, 4, 2) (4, 3) (4, 2)\n",
    "\n",
    "# we need it to be:\n",
    "# (# samples, # time lags, # features(parts))\n",
    "# (4, 2, 3)\n",
    "\n",
    "# print 'testX_a by itself\\n',testX_a, testX_a.shape\n",
    "# print 'testX_a, reshaped \\n',testX_a.reshape((4,2,3))\n",
    "# print 'testX_a swapped axes \\n',testX_a.swapaxes(0,1).swapaxes(1,2)\n",
    "\n",
    "timelagged_X = testX_a.swapaxes(0,1).swapaxes(1,2)\n",
    "realtime_X = testX_b.reshape((4,1,3))\n",
    "timelagged_y = testy_a.reshape((4,2,1))"
   ]
  },
  {
   "cell_type": "code",
   "execution_count": null,
   "metadata": {
    "collapsed": false
   },
   "outputs": [],
   "source": [
    "realtime_X.shape"
   ]
  },
  {
   "cell_type": "code",
   "execution_count": null,
   "metadata": {
    "collapsed": false
   },
   "outputs": [],
   "source": [
    "# np.append(timelagged_X, np.append(realtime_X, timelagged_y, axis=1), axis=1)\n",
    "\n",
    "# appending on axis 1 because realtime_X is another time lag\n",
    "almost_there = np.append(timelagged_X, realtime_X, axis=1)\n",
    "almost_there.shape\n",
    "# np.append(almost_there, timelagged_y, axis=2)"
   ]
  },
  {
   "cell_type": "code",
   "execution_count": null,
   "metadata": {
    "collapsed": true
   },
   "outputs": [],
   "source": [
    "a = np.arange(18).reshape(9,2)\n",
    "b = a.reshape(3,3,2)#.swapaxes(0,2)"
   ]
  },
  {
   "cell_type": "code",
   "execution_count": null,
   "metadata": {
    "collapsed": false
   },
   "outputs": [],
   "source": [
    "a"
   ]
  },
  {
   "cell_type": "code",
   "execution_count": null,
   "metadata": {
    "collapsed": false
   },
   "outputs": [],
   "source": [
    "b"
   ]
  },
  {
   "cell_type": "code",
   "execution_count": null,
   "metadata": {
    "collapsed": false
   },
   "outputs": [],
   "source": [
    "b.swapaxes(0,2)"
   ]
  },
  {
   "cell_type": "code",
   "execution_count": 776,
   "metadata": {
    "collapsed": true
   },
   "outputs": [],
   "source": [
    "# from A, create new_A and lagged_B based on time lag requested \n",
    "# if A = [1,2,3,4,5,6] and timelag = 1, then\n",
    "# new_A = [2,3,4,5,6] and lagged_B = [1,2,3,4,5]\n",
    "# (modified from kiefer lab)\n",
    "\n",
    "# kiefer solution AMENDED\n",
    "# works for 1D and 2D input\n",
    "def create_XY(timeseries, lag=1):\n",
    "    ts = timeseries#.ravel()\n",
    "    y = ts[lag:]\n",
    "    X = []# make this an array instead \n",
    "    for i in range(lag):\n",
    "        current_pred = ts[i:]\n",
    "        current_pred = current_pred[:len(y)]\n",
    "        X.append(current_pred)\n",
    "        \n",
    "    if len(ts.shape) == 1:\n",
    "        return_X = np.array(X).T\n",
    "        \n",
    "    else:\n",
    "        return_X = np.array(X).T\n",
    "    return return_X, y \n",
    "\n",
    "# def create_lagged_AB_from_A(timeseries_A, lag=1):\n",
    "#     ts = timeseries_A#.ravel()\n",
    "#     print \"you entered: \\n\",type(ts), ts\n",
    "#     new_A = ts[lag:]\n",
    "#     print 'new_A:\\n', type(new_A), new_A\n",
    "#     lagged_B = []\n",
    "#     for i in range(lag):\n",
    "#         current_pred = ts[i:]\n",
    "#         current_pred = current_pred[:len(new_A)]\n",
    "#         lagged_B.append(current_pred)\n",
    "#         print 'lagged_B:\\n', type(lagged_B), lagged_B\n",
    "    \n",
    "#     if len(ts.shape) == 1:\n",
    "#         return_B = np.array(lagged_B).T\n",
    "    \n",
    "#     else:\n",
    "#         return_B = np.empty(new_A.shape,dtype=int)\n",
    "#         print 'return_B: \\n', return_B\n",
    "        \n",
    "#         for i, timelag_item in enumerate(np.array(lagged_B)):\n",
    "#             print 'timelag item: ', i, '\\n',timelag_item\n",
    "#             return_B = np.append(return_B, timelag_item, axis=1)\n",
    "            \n",
    "# #             return_B = np.array(lagged_B)[0], np.array(lagged_B)[1]\n",
    "\n",
    "#     print 'return_B: \\n', return_B\n",
    "#     return new_A, return_B"
   ]
  },
  {
   "cell_type": "code",
   "execution_count": null,
   "metadata": {
    "collapsed": false
   },
   "outputs": [],
   "source": [
    "a = np.array([[[2, 8],\n",
    " [3, 7]],\n",
    "[[4, 6],\n",
    " [5, 5]],\n",
    "[ [6, 4],\n",
    " [7, 3]]])\n",
    "\n",
    "b = np.array([[4, 6],\n",
    " [5, 5]])\n",
    "\n",
    "c = np.array(\n",
    "[ [6, 4],\n",
    " [7, 3]])"
   ]
  },
  {
   "cell_type": "code",
   "execution_count": null,
   "metadata": {
    "collapsed": false
   },
   "outputs": [],
   "source": [
    "print a.shape, b.shape, c.shape"
   ]
  },
  {
   "cell_type": "code",
   "execution_count": null,
   "metadata": {
    "collapsed": false
   },
   "outputs": [],
   "source": [
    "np.array([b,c])"
   ]
  },
  {
   "cell_type": "markdown",
   "metadata": {},
   "source": [
    "## back to our normal programming - NOPE PROBABLY GOING TO IGNORE THIS TOO"
   ]
  },
  {
   "cell_type": "code",
   "execution_count": null,
   "metadata": {
    "collapsed": false
   },
   "outputs": [],
   "source": [
    "# train test split\n",
    "# 70% of the number of rows\n",
    "train_end_index = int(round(y2.shape[0] * 0.7))\n",
    "\n",
    "y2_train, y2_test = y2[:train_end_index], y2[train_end_index:]\n",
    "X2_train, X2_test = X2[:train_end_index], X2[train_end_index:]"
   ]
  },
  {
   "cell_type": "code",
   "execution_count": null,
   "metadata": {
    "collapsed": false
   },
   "outputs": [],
   "source": [
    "X2_train[0:10]"
   ]
  },
  {
   "cell_type": "code",
   "execution_count": null,
   "metadata": {
    "collapsed": false
   },
   "outputs": [],
   "source": [
    "y1_train.shape, y1_test.shape, X1_train.shape, X1_test.shape"
   ]
  },
  {
   "cell_type": "code",
   "execution_count": null,
   "metadata": {
    "collapsed": true
   },
   "outputs": [],
   "source": [
    "# set variables\n",
    "time_lag = 1 \n",
    "# actually it is 0 since we are not doing time series, but for the \n",
    "# purpose of the 3D X matrix we will make it 1\n",
    "n_features = X1.shape[1]"
   ]
  },
  {
   "cell_type": "code",
   "execution_count": null,
   "metadata": {
    "collapsed": false
   },
   "outputs": [],
   "source": [
    "# reshape X to be [samples, time steps, features]\n",
    "X1_train_RS = np.reshape(X1_train, (X1_train.shape[0], \n",
    "                                       time_lag, \n",
    "                                      n_features))\n",
    "\n",
    "X1_test_RS = np.reshape(X1_test, (X1_test.shape[0], \n",
    "                                       time_lag, \n",
    "                                      n_features))"
   ]
  },
  {
   "cell_type": "code",
   "execution_count": null,
   "metadata": {
    "collapsed": false
   },
   "outputs": [],
   "source": [
    "X1_train_RS[0:2]"
   ]
  },
  {
   "cell_type": "code",
   "execution_count": null,
   "metadata": {
    "collapsed": true
   },
   "outputs": [],
   "source": [
    "model = Sequential()\n",
    "model.add(LSTM(10, input_dim=141))\n",
    "model.add(Dense(n_y_cat_variables, activation='softmax'))\n",
    "model.compile(loss='categorical_crossentropy', optimizer='adam',\n",
    "             metrics=['accuracy'])"
   ]
  },
  {
   "cell_type": "code",
   "execution_count": null,
   "metadata": {
    "collapsed": false
   },
   "outputs": [],
   "source": [
    "print model.summary()"
   ]
  },
  {
   "cell_type": "code",
   "execution_count": null,
   "metadata": {
    "collapsed": false
   },
   "outputs": [],
   "source": [
    "model.fit(X1_train_RS, y1_train, nb_epoch=10, batch_size=20, verbose=2)"
   ]
  },
  {
   "cell_type": "code",
   "execution_count": null,
   "metadata": {
    "collapsed": false
   },
   "outputs": [],
   "source": [
    "train_predictions_prob = model.predict_proba(X1_train_RS)"
   ]
  },
  {
   "cell_type": "code",
   "execution_count": null,
   "metadata": {
    "collapsed": false
   },
   "outputs": [],
   "source": [
    "train_predictions_prob[0:1]"
   ]
  },
  {
   "cell_type": "code",
   "execution_count": null,
   "metadata": {
    "collapsed": false
   },
   "outputs": [],
   "source": [
    "test_predictions = model.predict(X1_test_RS)"
   ]
  },
  {
   "cell_type": "code",
   "execution_count": null,
   "metadata": {
    "collapsed": false,
    "scrolled": true
   },
   "outputs": [],
   "source": [
    "test_predictions[0]"
   ]
  },
  {
   "cell_type": "code",
   "execution_count": null,
   "metadata": {
    "collapsed": false,
    "scrolled": true
   },
   "outputs": [],
   "source": [
    "model.evaluate(X1_test_RS, y1_test, batch_size=20)"
   ]
  },
  {
   "cell_type": "code",
   "execution_count": null,
   "metadata": {
    "collapsed": true
   },
   "outputs": [],
   "source": [
    "# chart to show the probability of each note"
   ]
  }
 ],
 "metadata": {
  "anaconda-cloud": {},
  "kernelspec": {
   "display_name": "Python [dsi]",
   "language": "python",
   "name": "Python [dsi]"
  },
  "language_info": {
   "codemirror_mode": {
    "name": "ipython",
    "version": 2
   },
   "file_extension": ".py",
   "mimetype": "text/x-python",
   "name": "python",
   "nbconvert_exporter": "python",
   "pygments_lexer": "ipython2",
   "version": "2.7.12"
  }
 },
 "nbformat": 4,
 "nbformat_minor": 0
}
